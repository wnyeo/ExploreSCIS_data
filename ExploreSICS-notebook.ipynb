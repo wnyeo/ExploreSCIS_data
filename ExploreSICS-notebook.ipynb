{
  "nbformat": 4,
  "nbformat_minor": 0,
  "metadata": {
    "colab": {
      "name": "explorescis_final.ipynb",
      "provenance": [],
      "toc_visible": true
    },
    "kernelspec": {
      "name": "python3",
      "display_name": "Python 3"
    },
    "language_info": {
      "name": "python"
    }
  },
  "cells": [
    {
      "cell_type": "markdown",
      "metadata": {
        "id": "93DNGe-o25Qq"
      },
      "source": [
        "# ExploreSCIS 2021\n",
        "# Basic Geospatial Visualisation Workshop by SMU Anthill Society\n",
        "\n"
      ]
    },
    {
      "cell_type": "markdown",
      "source": [
        "In this notebook, we will be using dataset of hawker centres retrieved from data.gov.sg (https://data.gov.sg/dataset/dates-of-hawker-centres-closure) to do an exploratory data analysis with Pandas and geospatial analysis with Folium."
      ],
      "metadata": {
        "id": "sj86Fh9pibMv"
      }
    },
    {
      "cell_type": "markdown",
      "source": [
        "#Exploratory Data Analysis\n",
        "Exploratory Data Analysis (EDA) is an approach to analyse datasets to summarise their main characteristics, usually early in an analytical process. Other than giving us a better understanding of the data, it also helps us to detect mistakes and check assumptions. We can also see relationships among the variables in the dataset.\n",
        "\n",
        "In this workshop, we will be doing a simple form of EDA with the Pandas library."
      ],
      "metadata": {
        "id": "SE6m1P4D9GNZ"
      }
    },
    {
      "cell_type": "markdown",
      "metadata": {
        "id": "GJXjt9fjEG_G"
      },
      "source": [
        "#Introduction to Pandas\n",
        "Pandas is a Python library mainly used for data analysis. It is a fast, powerful, flexible and easy to use open source data analysis and manipulation tool, built on top of the Python programming language. "
      ]
    },
    {
      "cell_type": "markdown",
      "metadata": {
        "id": "Y-MF5R6By_l2"
      },
      "source": [
        "## 1. Importing the Pandas Library "
      ]
    },
    {
      "cell_type": "markdown",
      "source": [
        "To use Pandas, we will need to install and import the pandas library. The Pandas library is already available in Google Colaboratory hence, we just need to import it. While it is not necessary to import pandas as pd, it is a convention to do so (and you can type less)."
      ],
      "metadata": {
        "id": "LLd3P7W1FYkT"
      }
    },
    {
      "cell_type": "code",
      "metadata": {
        "id": "49FJgaktb4eh"
      },
      "source": [
        "import pandas as pd"
      ],
      "execution_count": null,
      "outputs": []
    },
    {
      "cell_type": "markdown",
      "metadata": {
        "id": "GkzHIr310V8u"
      },
      "source": [
        "## 2. Reading the data into a Pandas DataFrame"
      ]
    },
    {
      "cell_type": "markdown",
      "source": [
        "###2a. Reading in the data"
      ],
      "metadata": {
        "id": "XY9M9QNCiVAx"
      }
    },
    {
      "cell_type": "markdown",
      "source": [
        "We will load our data into the Pandas DataFrame, which is a 2-dimensional labeled data structure with rows and columns. It is a good visual representation of data as it is like a table.\n",
        "\n",
        "To load the data we have, we will use the **`.read_csv()`** function since our data is in a csv file. \n",
        "<br> Read more about the function here: https://pandas.pydata.org/docs/reference/api/pandas.read_csv.html\n"
      ],
      "metadata": {
        "id": "nfJiiI0ybSHY"
      }
    },
    {
      "cell_type": "code",
      "metadata": {
        "id": "nfzX4afhb4YS"
      },
      "source": [
        "url = 'https://raw.githubusercontent.com/wnyeo/ExploreSCIS_data/main/hawker_final.csv' # link to the cleaned dataset\n",
        "\n",
        "hawker_df = pd.read_csv(url)  # df represents DataFrame"
      ],
      "execution_count": null,
      "outputs": []
    },
    {
      "cell_type": "code",
      "source": [
        "hawker_df # showing the data"
      ],
      "metadata": {
        "id": "GNor6ghRkKD-",
        "colab": {
          "base_uri": "https://localhost:8080/",
          "height": 1000
        },
        "outputId": "a2908b06-848a-4843-bb25-086d15e862cb"
      },
      "execution_count": null,
      "outputs": [
        {
          "output_type": "execute_result",
          "data": {
            "text/html": [
              "<div>\n",
              "<style scoped>\n",
              "    .dataframe tbody tr th:only-of-type {\n",
              "        vertical-align: middle;\n",
              "    }\n",
              "\n",
              "    .dataframe tbody tr th {\n",
              "        vertical-align: top;\n",
              "    }\n",
              "\n",
              "    .dataframe thead th {\n",
              "        text-align: right;\n",
              "    }\n",
              "</style>\n",
              "<table border=\"1\" class=\"dataframe\">\n",
              "  <thead>\n",
              "    <tr style=\"text-align: right;\">\n",
              "      <th></th>\n",
              "      <th>name</th>\n",
              "      <th>latitude_hc</th>\n",
              "      <th>longitude_hc</th>\n",
              "      <th>photourl</th>\n",
              "      <th>address_myenv</th>\n",
              "      <th>no_of_market_stalls</th>\n",
              "      <th>no_of_food_stalls</th>\n",
              "      <th>description_myenv</th>\n",
              "      <th>status</th>\n",
              "      <th>google_3d_view</th>\n",
              "    </tr>\n",
              "  </thead>\n",
              "  <tbody>\n",
              "    <tr>\n",
              "      <th>0</th>\n",
              "      <td>Adam Road Food Centre</td>\n",
              "      <td>1.324132</td>\n",
              "      <td>103.814163</td>\n",
              "      <td>http://www.nea.gov.sg/images/default-source/Ha...</td>\n",
              "      <td>2, Adam Road, Singapore 289876</td>\n",
              "      <td>0</td>\n",
              "      <td>32</td>\n",
              "      <td>Built in 1974, Adam Food Centre comprises 32 c...</td>\n",
              "      <td>Existing</td>\n",
              "      <td>https://goo.gl/maps/ZMLJeP8STKpDP9so9</td>\n",
              "    </tr>\n",
              "    <tr>\n",
              "      <th>1</th>\n",
              "      <td>Aljunied Ave 2 Blk 117 (Blk 117 Aljunied Marke...</td>\n",
              "      <td>1.320710</td>\n",
              "      <td>103.887093</td>\n",
              "      <td>http://www.nea.gov.sg/images/default-source/Ha...</td>\n",
              "      <td>Blk 117, Aljunied Ave 2, Singapore 380117</td>\n",
              "      <td>82</td>\n",
              "      <td>79</td>\n",
              "      <td>Next to Geylang East Swimming Complex and othe...</td>\n",
              "      <td>Existing</td>\n",
              "      <td>https://goo.gl/maps/XVjxu6hgpcwt15JC8</td>\n",
              "    </tr>\n",
              "    <tr>\n",
              "      <th>2</th>\n",
              "      <td>Amoy Street Food Centre (Telok Ayer Food Centre)</td>\n",
              "      <td>1.279129</td>\n",
              "      <td>103.846985</td>\n",
              "      <td>http://www.nea.gov.sg/images/default-source/Ha...</td>\n",
              "      <td>National Development Building, Annex B, Telok ...</td>\n",
              "      <td>1</td>\n",
              "      <td>134</td>\n",
              "      <td>Built in 1983, the two-storey food centre is l...</td>\n",
              "      <td>Existing</td>\n",
              "      <td>https://goo.gl/maps/RiX319zQXRFeHWPE6</td>\n",
              "    </tr>\n",
              "    <tr>\n",
              "      <th>3</th>\n",
              "      <td>Ang Mo Kio Ave 1 Blk 226D (Kebun Baru Market a...</td>\n",
              "      <td>1.366950</td>\n",
              "      <td>103.839188</td>\n",
              "      <td>http://www.nea.gov.sg/images/default-source/Ha...</td>\n",
              "      <td>Blk 226D, Ang Mo Kio Ave 1, Singapore 564226</td>\n",
              "      <td>101</td>\n",
              "      <td>10</td>\n",
              "      <td>Located next to a food centre, the hawker cent...</td>\n",
              "      <td>Existing</td>\n",
              "      <td>https://goo.gl/maps/CAJGbiEU4o46xfbR8</td>\n",
              "    </tr>\n",
              "    <tr>\n",
              "      <th>4</th>\n",
              "      <td>Ang Mo Kio Ave 1 Blk 341 (Teck Ghee Court)</td>\n",
              "      <td>1.364170</td>\n",
              "      <td>103.848320</td>\n",
              "      <td>http://www.nea.gov.sg/images/default-source/Ha...</td>\n",
              "      <td>Blk 341, Ang Mo Kio Ave 1, Singapore 560341</td>\n",
              "      <td>86</td>\n",
              "      <td>32</td>\n",
              "      <td>Located in the heart of Teck Ghee estate and o...</td>\n",
              "      <td>Existing</td>\n",
              "      <td>https://goo.gl/maps/quL2H4mojGZfZsHA6</td>\n",
              "    </tr>\n",
              "    <tr>\n",
              "      <th>...</th>\n",
              "      <td>...</td>\n",
              "      <td>...</td>\n",
              "      <td>...</td>\n",
              "      <td>...</td>\n",
              "      <td>...</td>\n",
              "      <td>...</td>\n",
              "      <td>...</td>\n",
              "      <td>...</td>\n",
              "      <td>...</td>\n",
              "      <td>...</td>\n",
              "    </tr>\n",
              "    <tr>\n",
              "      <th>109</th>\n",
              "      <td>Whampoa Drive Blk 90 (Whampoa Drive Makan Plac...</td>\n",
              "      <td>1.323140</td>\n",
              "      <td>103.855041</td>\n",
              "      <td>http://www.nea.gov.sg/images/default-source/Ha...</td>\n",
              "      <td>Blk 90, Whampoa Drive, Singapore 320090</td>\n",
              "      <td>12</td>\n",
              "      <td>80</td>\n",
              "      <td>Known also as Whampoa Drive Makan Place, this ...</td>\n",
              "      <td>Existing</td>\n",
              "      <td>https://goo.gl/maps/PQXB1ifE7PrnMbAf7</td>\n",
              "    </tr>\n",
              "    <tr>\n",
              "      <th>110</th>\n",
              "      <td>Whampoa Drive Blk 91/92 (Whampoa Drive Makan P...</td>\n",
              "      <td>1.323490</td>\n",
              "      <td>103.854134</td>\n",
              "      <td>http://www.nea.gov.sg/images/default-source/Ha...</td>\n",
              "      <td>Blk 91/92, Whampoa Drive, Singapore 320091/320092</td>\n",
              "      <td>112</td>\n",
              "      <td>52</td>\n",
              "      <td>Known also as Whampoa Drive Makan Place, this ...</td>\n",
              "      <td>Existing</td>\n",
              "      <td>https://goo.gl/maps/vERiFeXoGi8jDfjJ8</td>\n",
              "    </tr>\n",
              "    <tr>\n",
              "      <th>111</th>\n",
              "      <td>Yishun Park Hawker Centre</td>\n",
              "      <td>1.424911</td>\n",
              "      <td>103.844992</td>\n",
              "      <td>http://www.nea.gov.sg/images/default-source/Ha...</td>\n",
              "      <td>Blk 51, Yishun Avenue 11, Singapore 768867</td>\n",
              "      <td>0</td>\n",
              "      <td>45</td>\n",
              "      <td>Built in 2017, the hawker centre at Yishun Par...</td>\n",
              "      <td>Existing (new)</td>\n",
              "      <td>https://goo.gl/maps/jqWXYVF17BiAz7bP9</td>\n",
              "    </tr>\n",
              "    <tr>\n",
              "      <th>112</th>\n",
              "      <td>Yishun Ring Road Blk 104/105 (Chong Pang Marke...</td>\n",
              "      <td>1.431658</td>\n",
              "      <td>103.828072</td>\n",
              "      <td>http://www.nea.gov.sg/images/default-source/Ha...</td>\n",
              "      <td>Blk 104/105, Yishun Ring Road, Singapore 76010...</td>\n",
              "      <td>123</td>\n",
              "      <td>56</td>\n",
              "      <td>Built in 1984, the hawker centre comprises 56 ...</td>\n",
              "      <td>Existing</td>\n",
              "      <td>https://goo.gl/maps/dPjV2SSaX9nEXV1u8</td>\n",
              "    </tr>\n",
              "    <tr>\n",
              "      <th>113</th>\n",
              "      <td>Zion Riverside Food Centre</td>\n",
              "      <td>1.292340</td>\n",
              "      <td>103.831184</td>\n",
              "      <td>http://www.nea.gov.sg/images/default-source/Ha...</td>\n",
              "      <td>70, Zion Road, Singapore 247792</td>\n",
              "      <td>0</td>\n",
              "      <td>32</td>\n",
              "      <td>Located opposite Great World City, Zion Rivers...</td>\n",
              "      <td>Existing</td>\n",
              "      <td>https://goo.gl/maps/8kwxWX9gy3J3Mna58</td>\n",
              "    </tr>\n",
              "  </tbody>\n",
              "</table>\n",
              "<p>114 rows × 10 columns</p>\n",
              "</div>"
            ],
            "text/plain": [
              "                                                  name  ...                         google_3d_view\n",
              "0                                Adam Road Food Centre  ...  https://goo.gl/maps/ZMLJeP8STKpDP9so9\n",
              "1    Aljunied Ave 2 Blk 117 (Blk 117 Aljunied Marke...  ...  https://goo.gl/maps/XVjxu6hgpcwt15JC8\n",
              "2     Amoy Street Food Centre (Telok Ayer Food Centre)  ...  https://goo.gl/maps/RiX319zQXRFeHWPE6\n",
              "3    Ang Mo Kio Ave 1 Blk 226D (Kebun Baru Market a...  ...  https://goo.gl/maps/CAJGbiEU4o46xfbR8\n",
              "4           Ang Mo Kio Ave 1 Blk 341 (Teck Ghee Court)  ...  https://goo.gl/maps/quL2H4mojGZfZsHA6\n",
              "..                                                 ...  ...                                    ...\n",
              "109  Whampoa Drive Blk 90 (Whampoa Drive Makan Plac...  ...  https://goo.gl/maps/PQXB1ifE7PrnMbAf7\n",
              "110  Whampoa Drive Blk 91/92 (Whampoa Drive Makan P...  ...  https://goo.gl/maps/vERiFeXoGi8jDfjJ8\n",
              "111                          Yishun Park Hawker Centre  ...  https://goo.gl/maps/jqWXYVF17BiAz7bP9\n",
              "112  Yishun Ring Road Blk 104/105 (Chong Pang Marke...  ...  https://goo.gl/maps/dPjV2SSaX9nEXV1u8\n",
              "113                         Zion Riverside Food Centre  ...  https://goo.gl/maps/8kwxWX9gy3J3Mna58\n",
              "\n",
              "[114 rows x 10 columns]"
            ]
          },
          "metadata": {},
          "execution_count": 4
        }
      ]
    },
    {
      "cell_type": "markdown",
      "source": [
        "### 2b. `head()` Function"
      ],
      "metadata": {
        "id": "pUc--Toqib1I"
      }
    },
    {
      "cell_type": "markdown",
      "source": [
        "To show only the first n rows of data, we can make use of the **`.head()`** function. By default, `df.head()` will return the first 5 rows of the DataFrame. If you want more/less number of rows, you can specify an integer."
      ],
      "metadata": {
        "id": "d-QGiXuMf8DW"
      }
    },
    {
      "cell_type": "code",
      "source": [
        "hawker_df.head(3)"
      ],
      "metadata": {
        "id": "xzZl_SIZf7lW",
        "colab": {
          "base_uri": "https://localhost:8080/",
          "height": 418
        },
        "outputId": "a6534526-2a9f-45a3-a91d-e1cf3775ef2e"
      },
      "execution_count": null,
      "outputs": [
        {
          "output_type": "execute_result",
          "data": {
            "text/html": [
              "<div>\n",
              "<style scoped>\n",
              "    .dataframe tbody tr th:only-of-type {\n",
              "        vertical-align: middle;\n",
              "    }\n",
              "\n",
              "    .dataframe tbody tr th {\n",
              "        vertical-align: top;\n",
              "    }\n",
              "\n",
              "    .dataframe thead th {\n",
              "        text-align: right;\n",
              "    }\n",
              "</style>\n",
              "<table border=\"1\" class=\"dataframe\">\n",
              "  <thead>\n",
              "    <tr style=\"text-align: right;\">\n",
              "      <th></th>\n",
              "      <th>name</th>\n",
              "      <th>latitude_hc</th>\n",
              "      <th>longitude_hc</th>\n",
              "      <th>photourl</th>\n",
              "      <th>address_myenv</th>\n",
              "      <th>no_of_market_stalls</th>\n",
              "      <th>no_of_food_stalls</th>\n",
              "      <th>description_myenv</th>\n",
              "      <th>status</th>\n",
              "      <th>google_3d_view</th>\n",
              "    </tr>\n",
              "  </thead>\n",
              "  <tbody>\n",
              "    <tr>\n",
              "      <th>0</th>\n",
              "      <td>Adam Road Food Centre</td>\n",
              "      <td>1.324132</td>\n",
              "      <td>103.814163</td>\n",
              "      <td>http://www.nea.gov.sg/images/default-source/Ha...</td>\n",
              "      <td>2, Adam Road, Singapore 289876</td>\n",
              "      <td>0</td>\n",
              "      <td>32</td>\n",
              "      <td>Built in 1974, Adam Food Centre comprises 32 c...</td>\n",
              "      <td>Existing</td>\n",
              "      <td>https://goo.gl/maps/ZMLJeP8STKpDP9so9</td>\n",
              "    </tr>\n",
              "    <tr>\n",
              "      <th>1</th>\n",
              "      <td>Aljunied Ave 2 Blk 117 (Blk 117 Aljunied Marke...</td>\n",
              "      <td>1.320710</td>\n",
              "      <td>103.887093</td>\n",
              "      <td>http://www.nea.gov.sg/images/default-source/Ha...</td>\n",
              "      <td>Blk 117, Aljunied Ave 2, Singapore 380117</td>\n",
              "      <td>82</td>\n",
              "      <td>79</td>\n",
              "      <td>Next to Geylang East Swimming Complex and othe...</td>\n",
              "      <td>Existing</td>\n",
              "      <td>https://goo.gl/maps/XVjxu6hgpcwt15JC8</td>\n",
              "    </tr>\n",
              "    <tr>\n",
              "      <th>2</th>\n",
              "      <td>Amoy Street Food Centre (Telok Ayer Food Centre)</td>\n",
              "      <td>1.279129</td>\n",
              "      <td>103.846985</td>\n",
              "      <td>http://www.nea.gov.sg/images/default-source/Ha...</td>\n",
              "      <td>National Development Building, Annex B, Telok ...</td>\n",
              "      <td>1</td>\n",
              "      <td>134</td>\n",
              "      <td>Built in 1983, the two-storey food centre is l...</td>\n",
              "      <td>Existing</td>\n",
              "      <td>https://goo.gl/maps/RiX319zQXRFeHWPE6</td>\n",
              "    </tr>\n",
              "  </tbody>\n",
              "</table>\n",
              "</div>"
            ],
            "text/plain": [
              "                                                name  ...                         google_3d_view\n",
              "0                              Adam Road Food Centre  ...  https://goo.gl/maps/ZMLJeP8STKpDP9so9\n",
              "1  Aljunied Ave 2 Blk 117 (Blk 117 Aljunied Marke...  ...  https://goo.gl/maps/XVjxu6hgpcwt15JC8\n",
              "2   Amoy Street Food Centre (Telok Ayer Food Centre)  ...  https://goo.gl/maps/RiX319zQXRFeHWPE6\n",
              "\n",
              "[3 rows x 10 columns]"
            ]
          },
          "metadata": {},
          "execution_count": 5
        }
      ]
    },
    {
      "cell_type": "markdown",
      "source": [
        "### 2c. `tail()` Function [Mini Exercise!][2 mins]"
      ],
      "metadata": {
        "id": "QwVvIphphQLf"
      }
    },
    {
      "cell_type": "markdown",
      "source": [
        "To show the last n rows of data, we can make use of the **`.tail()`** function. Similarly, by default, `df.tail()` will return the last 5 rows of the DataFrame. If you want more/less number of rows, you can specify an integer.\n",
        "<br>\n",
        "<br>**Exercise: Show the last 7 rows of hawker_df** "
      ],
      "metadata": {
        "id": "9nUz2Hnjg7T2"
      }
    },
    {
      "cell_type": "code",
      "source": [
        "# Enter your code here"
      ],
      "metadata": {
        "id": "7Qu3zQQ9SFSV"
      },
      "execution_count": null,
      "outputs": []
    },
    {
      "cell_type": "markdown",
      "source": [
        "####Solution\n",
        "Click below for the solution."
      ],
      "metadata": {
        "id": "pGVhZ1VhSCFW"
      }
    },
    {
      "cell_type": "code",
      "source": [
        "hawker_df.tail(7)"
      ],
      "metadata": {
        "id": "w6oQc_qagPpj",
        "colab": {
          "base_uri": "https://localhost:8080/",
          "height": 867
        },
        "outputId": "33a325ba-1dde-4097-eeb8-b38dd23751f3"
      },
      "execution_count": null,
      "outputs": [
        {
          "output_type": "execute_result",
          "data": {
            "text/html": [
              "<div>\n",
              "<style scoped>\n",
              "    .dataframe tbody tr th:only-of-type {\n",
              "        vertical-align: middle;\n",
              "    }\n",
              "\n",
              "    .dataframe tbody tr th {\n",
              "        vertical-align: top;\n",
              "    }\n",
              "\n",
              "    .dataframe thead th {\n",
              "        text-align: right;\n",
              "    }\n",
              "</style>\n",
              "<table border=\"1\" class=\"dataframe\">\n",
              "  <thead>\n",
              "    <tr style=\"text-align: right;\">\n",
              "      <th></th>\n",
              "      <th>name</th>\n",
              "      <th>latitude_hc</th>\n",
              "      <th>longitude_hc</th>\n",
              "      <th>photourl</th>\n",
              "      <th>address_myenv</th>\n",
              "      <th>no_of_market_stalls</th>\n",
              "      <th>no_of_food_stalls</th>\n",
              "      <th>description_myenv</th>\n",
              "      <th>status</th>\n",
              "      <th>google_3d_view</th>\n",
              "    </tr>\n",
              "  </thead>\n",
              "  <tbody>\n",
              "    <tr>\n",
              "      <th>107</th>\n",
              "      <td>West Coast Drive Blk 502 (Ayer Rajah Market)</td>\n",
              "      <td>1.311960</td>\n",
              "      <td>103.759102</td>\n",
              "      <td>http://www.nea.gov.sg/images/default-source/Ha...</td>\n",
              "      <td>Blk 502, West Coast Drive, Singapore 120502</td>\n",
              "      <td>40</td>\n",
              "      <td>0</td>\n",
              "      <td>Also known as Ayer Rajah Market, the standalon...</td>\n",
              "      <td>Existing</td>\n",
              "      <td>https://goo.gl/maps/dWso9emez66FrUyJ8</td>\n",
              "    </tr>\n",
              "    <tr>\n",
              "      <th>108</th>\n",
              "      <td>West Coast Drive Blk 503 (Ayer Rajah Food Centre)</td>\n",
              "      <td>1.311870</td>\n",
              "      <td>103.759804</td>\n",
              "      <td>http://www.nea.gov.sg/images/default-source/Ha...</td>\n",
              "      <td>Blk 503, West Coast Drive, Singapore 120503</td>\n",
              "      <td>0</td>\n",
              "      <td>80</td>\n",
              "      <td>Also known as Ayer Rajah Food Centre, the stan...</td>\n",
              "      <td>Existing</td>\n",
              "      <td>https://goo.gl/maps/HzZpoN9MxHR4ie9v6</td>\n",
              "    </tr>\n",
              "    <tr>\n",
              "      <th>109</th>\n",
              "      <td>Whampoa Drive Blk 90 (Whampoa Drive Makan Plac...</td>\n",
              "      <td>1.323140</td>\n",
              "      <td>103.855041</td>\n",
              "      <td>http://www.nea.gov.sg/images/default-source/Ha...</td>\n",
              "      <td>Blk 90, Whampoa Drive, Singapore 320090</td>\n",
              "      <td>12</td>\n",
              "      <td>80</td>\n",
              "      <td>Known also as Whampoa Drive Makan Place, this ...</td>\n",
              "      <td>Existing</td>\n",
              "      <td>https://goo.gl/maps/PQXB1ifE7PrnMbAf7</td>\n",
              "    </tr>\n",
              "    <tr>\n",
              "      <th>110</th>\n",
              "      <td>Whampoa Drive Blk 91/92 (Whampoa Drive Makan P...</td>\n",
              "      <td>1.323490</td>\n",
              "      <td>103.854134</td>\n",
              "      <td>http://www.nea.gov.sg/images/default-source/Ha...</td>\n",
              "      <td>Blk 91/92, Whampoa Drive, Singapore 320091/320092</td>\n",
              "      <td>112</td>\n",
              "      <td>52</td>\n",
              "      <td>Known also as Whampoa Drive Makan Place, this ...</td>\n",
              "      <td>Existing</td>\n",
              "      <td>https://goo.gl/maps/vERiFeXoGi8jDfjJ8</td>\n",
              "    </tr>\n",
              "    <tr>\n",
              "      <th>111</th>\n",
              "      <td>Yishun Park Hawker Centre</td>\n",
              "      <td>1.424911</td>\n",
              "      <td>103.844992</td>\n",
              "      <td>http://www.nea.gov.sg/images/default-source/Ha...</td>\n",
              "      <td>Blk 51, Yishun Avenue 11, Singapore 768867</td>\n",
              "      <td>0</td>\n",
              "      <td>45</td>\n",
              "      <td>Built in 2017, the hawker centre at Yishun Par...</td>\n",
              "      <td>Existing (new)</td>\n",
              "      <td>https://goo.gl/maps/jqWXYVF17BiAz7bP9</td>\n",
              "    </tr>\n",
              "    <tr>\n",
              "      <th>112</th>\n",
              "      <td>Yishun Ring Road Blk 104/105 (Chong Pang Marke...</td>\n",
              "      <td>1.431658</td>\n",
              "      <td>103.828072</td>\n",
              "      <td>http://www.nea.gov.sg/images/default-source/Ha...</td>\n",
              "      <td>Blk 104/105, Yishun Ring Road, Singapore 76010...</td>\n",
              "      <td>123</td>\n",
              "      <td>56</td>\n",
              "      <td>Built in 1984, the hawker centre comprises 56 ...</td>\n",
              "      <td>Existing</td>\n",
              "      <td>https://goo.gl/maps/dPjV2SSaX9nEXV1u8</td>\n",
              "    </tr>\n",
              "    <tr>\n",
              "      <th>113</th>\n",
              "      <td>Zion Riverside Food Centre</td>\n",
              "      <td>1.292340</td>\n",
              "      <td>103.831184</td>\n",
              "      <td>http://www.nea.gov.sg/images/default-source/Ha...</td>\n",
              "      <td>70, Zion Road, Singapore 247792</td>\n",
              "      <td>0</td>\n",
              "      <td>32</td>\n",
              "      <td>Located opposite Great World City, Zion Rivers...</td>\n",
              "      <td>Existing</td>\n",
              "      <td>https://goo.gl/maps/8kwxWX9gy3J3Mna58</td>\n",
              "    </tr>\n",
              "  </tbody>\n",
              "</table>\n",
              "</div>"
            ],
            "text/plain": [
              "                                                  name  ...                         google_3d_view\n",
              "107       West Coast Drive Blk 502 (Ayer Rajah Market)  ...  https://goo.gl/maps/dWso9emez66FrUyJ8\n",
              "108  West Coast Drive Blk 503 (Ayer Rajah Food Centre)  ...  https://goo.gl/maps/HzZpoN9MxHR4ie9v6\n",
              "109  Whampoa Drive Blk 90 (Whampoa Drive Makan Plac...  ...  https://goo.gl/maps/PQXB1ifE7PrnMbAf7\n",
              "110  Whampoa Drive Blk 91/92 (Whampoa Drive Makan P...  ...  https://goo.gl/maps/vERiFeXoGi8jDfjJ8\n",
              "111                          Yishun Park Hawker Centre  ...  https://goo.gl/maps/jqWXYVF17BiAz7bP9\n",
              "112  Yishun Ring Road Blk 104/105 (Chong Pang Marke...  ...  https://goo.gl/maps/dPjV2SSaX9nEXV1u8\n",
              "113                         Zion Riverside Food Centre  ...  https://goo.gl/maps/8kwxWX9gy3J3Mna58\n",
              "\n",
              "[7 rows x 10 columns]"
            ]
          },
          "metadata": {},
          "execution_count": 6
        }
      ]
    },
    {
      "cell_type": "markdown",
      "source": [
        "###2d. Checking the size of data"
      ],
      "metadata": {
        "id": "BGzg_E8ejfxJ"
      }
    },
    {
      "cell_type": "markdown",
      "source": [
        "We can check the size of the data using the **`.shape`** attribute"
      ],
      "metadata": {
        "id": "ro4Xt9zOjpuT"
      }
    },
    {
      "cell_type": "code",
      "metadata": {
        "colab": {
          "base_uri": "https://localhost:8080/"
        },
        "id": "EDHubUKhIuMn",
        "outputId": "223bbd71-e43b-494c-b4d3-8aba6081acc7"
      },
      "source": [
        "hawker_df.shape"
      ],
      "execution_count": null,
      "outputs": [
        {
          "output_type": "execute_result",
          "data": {
            "text/plain": [
              "(114, 10)"
            ]
          },
          "metadata": {},
          "execution_count": 7
        }
      ]
    },
    {
      "cell_type": "markdown",
      "source": [
        "We can see that there are 114 rows and 10 columns in our dataset"
      ],
      "metadata": {
        "id": "txc9nQGKjxQd"
      }
    },
    {
      "cell_type": "markdown",
      "source": [
        "## 3. Accessing data in the Dataframe"
      ],
      "metadata": {
        "id": "ibObW6amlTJS"
      }
    },
    {
      "cell_type": "markdown",
      "source": [
        "###3a. Accessing rows and columns\n",
        "`loc[:]` helps us to access a group of rows and columns in a dataset. For instance, if we only want the first 2 rows and the first columns of a dataset, we can use `loc[:]` to do so. "
      ],
      "metadata": {
        "id": "BcG7rcZ7aaDQ"
      }
    },
    {
      "cell_type": "code",
      "source": [
        "hawker_df.loc[0:1, ['name']]"
      ],
      "metadata": {
        "colab": {
          "base_uri": "https://localhost:8080/",
          "height": 111
        },
        "id": "mb6VWG2NcKRq",
        "outputId": "03516b20-6b59-4b02-e421-c1f127f822c2"
      },
      "execution_count": null,
      "outputs": [
        {
          "output_type": "execute_result",
          "data": {
            "text/html": [
              "<div>\n",
              "<style scoped>\n",
              "    .dataframe tbody tr th:only-of-type {\n",
              "        vertical-align: middle;\n",
              "    }\n",
              "\n",
              "    .dataframe tbody tr th {\n",
              "        vertical-align: top;\n",
              "    }\n",
              "\n",
              "    .dataframe thead th {\n",
              "        text-align: right;\n",
              "    }\n",
              "</style>\n",
              "<table border=\"1\" class=\"dataframe\">\n",
              "  <thead>\n",
              "    <tr style=\"text-align: right;\">\n",
              "      <th></th>\n",
              "      <th>name</th>\n",
              "    </tr>\n",
              "  </thead>\n",
              "  <tbody>\n",
              "    <tr>\n",
              "      <th>0</th>\n",
              "      <td>Adam Road Food Centre</td>\n",
              "    </tr>\n",
              "    <tr>\n",
              "      <th>1</th>\n",
              "      <td>Aljunied Ave 2 Blk 117 (Blk 117 Aljunied Marke...</td>\n",
              "    </tr>\n",
              "  </tbody>\n",
              "</table>\n",
              "</div>"
            ],
            "text/plain": [
              "                                                name\n",
              "0                              Adam Road Food Centre\n",
              "1  Aljunied Ave 2 Blk 117 (Blk 117 Aljunied Marke..."
            ]
          },
          "metadata": {},
          "execution_count": 8
        }
      ]
    },
    {
      "cell_type": "markdown",
      "source": [
        "### 3b. Accessing individual columns/columns only\n",
        "\n",
        "We can also access columns directly using square brackets"
      ],
      "metadata": {
        "id": "Fv8CQVzecK1N"
      }
    },
    {
      "cell_type": "code",
      "source": [
        "hawker_df['name']"
      ],
      "metadata": {
        "id": "lXw2ZQu3eG4B",
        "colab": {
          "base_uri": "https://localhost:8080/"
        },
        "outputId": "4fb79710-5493-4208-c569-ccfe78ed6f6d"
      },
      "execution_count": null,
      "outputs": [
        {
          "output_type": "execute_result",
          "data": {
            "text/plain": [
              "0                                  Adam Road Food Centre\n",
              "1      Aljunied Ave 2 Blk 117 (Blk 117 Aljunied Marke...\n",
              "2       Amoy Street Food Centre (Telok Ayer Food Centre)\n",
              "3      Ang Mo Kio Ave 1 Blk 226D (Kebun Baru Market a...\n",
              "4             Ang Mo Kio Ave 1 Blk 341 (Teck Ghee Court)\n",
              "                             ...                        \n",
              "109    Whampoa Drive Blk 90 (Whampoa Drive Makan Plac...\n",
              "110    Whampoa Drive Blk 91/92 (Whampoa Drive Makan P...\n",
              "111                            Yishun Park Hawker Centre\n",
              "112    Yishun Ring Road Blk 104/105 (Chong Pang Marke...\n",
              "113                           Zion Riverside Food Centre\n",
              "Name: name, Length: 114, dtype: object"
            ]
          },
          "metadata": {},
          "execution_count": 9
        }
      ]
    },
    {
      "cell_type": "code",
      "source": [
        "hawker_df[['name', 'address_myenv']]"
      ],
      "metadata": {
        "id": "D4GOnjx8ZzTN",
        "colab": {
          "base_uri": "https://localhost:8080/",
          "height": 420
        },
        "outputId": "c7c3213b-ae5a-44e9-cf9f-7aa4ecb8ebda"
      },
      "execution_count": null,
      "outputs": [
        {
          "output_type": "execute_result",
          "data": {
            "text/html": [
              "<div>\n",
              "<style scoped>\n",
              "    .dataframe tbody tr th:only-of-type {\n",
              "        vertical-align: middle;\n",
              "    }\n",
              "\n",
              "    .dataframe tbody tr th {\n",
              "        vertical-align: top;\n",
              "    }\n",
              "\n",
              "    .dataframe thead th {\n",
              "        text-align: right;\n",
              "    }\n",
              "</style>\n",
              "<table border=\"1\" class=\"dataframe\">\n",
              "  <thead>\n",
              "    <tr style=\"text-align: right;\">\n",
              "      <th></th>\n",
              "      <th>name</th>\n",
              "      <th>address_myenv</th>\n",
              "    </tr>\n",
              "  </thead>\n",
              "  <tbody>\n",
              "    <tr>\n",
              "      <th>0</th>\n",
              "      <td>Adam Road Food Centre</td>\n",
              "      <td>2, Adam Road, Singapore 289876</td>\n",
              "    </tr>\n",
              "    <tr>\n",
              "      <th>1</th>\n",
              "      <td>Aljunied Ave 2 Blk 117 (Blk 117 Aljunied Marke...</td>\n",
              "      <td>Blk 117, Aljunied Ave 2, Singapore 380117</td>\n",
              "    </tr>\n",
              "    <tr>\n",
              "      <th>2</th>\n",
              "      <td>Amoy Street Food Centre (Telok Ayer Food Centre)</td>\n",
              "      <td>National Development Building, Annex B, Telok ...</td>\n",
              "    </tr>\n",
              "    <tr>\n",
              "      <th>3</th>\n",
              "      <td>Ang Mo Kio Ave 1 Blk 226D (Kebun Baru Market a...</td>\n",
              "      <td>Blk 226D, Ang Mo Kio Ave 1, Singapore 564226</td>\n",
              "    </tr>\n",
              "    <tr>\n",
              "      <th>4</th>\n",
              "      <td>Ang Mo Kio Ave 1 Blk 341 (Teck Ghee Court)</td>\n",
              "      <td>Blk 341, Ang Mo Kio Ave 1, Singapore 560341</td>\n",
              "    </tr>\n",
              "    <tr>\n",
              "      <th>...</th>\n",
              "      <td>...</td>\n",
              "      <td>...</td>\n",
              "    </tr>\n",
              "    <tr>\n",
              "      <th>109</th>\n",
              "      <td>Whampoa Drive Blk 90 (Whampoa Drive Makan Plac...</td>\n",
              "      <td>Blk 90, Whampoa Drive, Singapore 320090</td>\n",
              "    </tr>\n",
              "    <tr>\n",
              "      <th>110</th>\n",
              "      <td>Whampoa Drive Blk 91/92 (Whampoa Drive Makan P...</td>\n",
              "      <td>Blk 91/92, Whampoa Drive, Singapore 320091/320092</td>\n",
              "    </tr>\n",
              "    <tr>\n",
              "      <th>111</th>\n",
              "      <td>Yishun Park Hawker Centre</td>\n",
              "      <td>Blk 51, Yishun Avenue 11, Singapore 768867</td>\n",
              "    </tr>\n",
              "    <tr>\n",
              "      <th>112</th>\n",
              "      <td>Yishun Ring Road Blk 104/105 (Chong Pang Marke...</td>\n",
              "      <td>Blk 104/105, Yishun Ring Road, Singapore 76010...</td>\n",
              "    </tr>\n",
              "    <tr>\n",
              "      <th>113</th>\n",
              "      <td>Zion Riverside Food Centre</td>\n",
              "      <td>70, Zion Road, Singapore 247792</td>\n",
              "    </tr>\n",
              "  </tbody>\n",
              "</table>\n",
              "<p>114 rows × 2 columns</p>\n",
              "</div>"
            ],
            "text/plain": [
              "                                                  name                                      address_myenv\n",
              "0                                Adam Road Food Centre                     2, Adam Road, Singapore 289876\n",
              "1    Aljunied Ave 2 Blk 117 (Blk 117 Aljunied Marke...          Blk 117, Aljunied Ave 2, Singapore 380117\n",
              "2     Amoy Street Food Centre (Telok Ayer Food Centre)  National Development Building, Annex B, Telok ...\n",
              "3    Ang Mo Kio Ave 1 Blk 226D (Kebun Baru Market a...       Blk 226D, Ang Mo Kio Ave 1, Singapore 564226\n",
              "4           Ang Mo Kio Ave 1 Blk 341 (Teck Ghee Court)        Blk 341, Ang Mo Kio Ave 1, Singapore 560341\n",
              "..                                                 ...                                                ...\n",
              "109  Whampoa Drive Blk 90 (Whampoa Drive Makan Plac...            Blk 90, Whampoa Drive, Singapore 320090\n",
              "110  Whampoa Drive Blk 91/92 (Whampoa Drive Makan P...  Blk 91/92, Whampoa Drive, Singapore 320091/320092\n",
              "111                          Yishun Park Hawker Centre         Blk 51, Yishun Avenue 11, Singapore 768867\n",
              "112  Yishun Ring Road Blk 104/105 (Chong Pang Marke...  Blk 104/105, Yishun Ring Road, Singapore 76010...\n",
              "113                         Zion Riverside Food Centre                    70, Zion Road, Singapore 247792\n",
              "\n",
              "[114 rows x 2 columns]"
            ]
          },
          "metadata": {},
          "execution_count": 10
        }
      ]
    },
    {
      "cell_type": "markdown",
      "metadata": {
        "id": "7IbRPYzn0ZV5"
      },
      "source": [
        "##4. Understanding the descriptive statistics of the data"
      ]
    },
    {
      "cell_type": "markdown",
      "source": [
        "Descriptive statistics summarise the information of the characteristics and distribution of values in the dataset. It allows us to learn about the central tendency and variability of the data. Examples include the mean, median, mode, standard deviation, etc."
      ],
      "metadata": {
        "id": "NcIqPM7PKfIM"
      }
    },
    {
      "cell_type": "markdown",
      "source": [
        "### 4a. `describe()` function\n",
        "We can understand the descriptive statistics of the data using the \n",
        "**`.describe()`** function"
      ],
      "metadata": {
        "id": "Romx_pEQlh7P"
      }
    },
    {
      "cell_type": "code",
      "metadata": {
        "id": "41jX3EhpIuVL",
        "colab": {
          "base_uri": "https://localhost:8080/",
          "height": 298
        },
        "outputId": "e40ff941-9086-4f02-a91c-9d685afb306f"
      },
      "source": [
        "hawker_df.describe()"
      ],
      "execution_count": null,
      "outputs": [
        {
          "output_type": "execute_result",
          "data": {
            "text/html": [
              "<div>\n",
              "<style scoped>\n",
              "    .dataframe tbody tr th:only-of-type {\n",
              "        vertical-align: middle;\n",
              "    }\n",
              "\n",
              "    .dataframe tbody tr th {\n",
              "        vertical-align: top;\n",
              "    }\n",
              "\n",
              "    .dataframe thead th {\n",
              "        text-align: right;\n",
              "    }\n",
              "</style>\n",
              "<table border=\"1\" class=\"dataframe\">\n",
              "  <thead>\n",
              "    <tr style=\"text-align: right;\">\n",
              "      <th></th>\n",
              "      <th>latitude_hc</th>\n",
              "      <th>longitude_hc</th>\n",
              "      <th>no_of_market_stalls</th>\n",
              "      <th>no_of_food_stalls</th>\n",
              "    </tr>\n",
              "  </thead>\n",
              "  <tbody>\n",
              "    <tr>\n",
              "      <th>count</th>\n",
              "      <td>114.000000</td>\n",
              "      <td>114.000000</td>\n",
              "      <td>114.000000</td>\n",
              "      <td>114.000000</td>\n",
              "    </tr>\n",
              "    <tr>\n",
              "      <th>mean</th>\n",
              "      <td>1.325880</td>\n",
              "      <td>103.844182</td>\n",
              "      <td>72.745614</td>\n",
              "      <td>56.105263</td>\n",
              "    </tr>\n",
              "    <tr>\n",
              "      <th>std</th>\n",
              "      <td>0.037271</td>\n",
              "      <td>0.056990</td>\n",
              "      <td>72.218549</td>\n",
              "      <td>32.928823</td>\n",
              "    </tr>\n",
              "    <tr>\n",
              "      <th>min</th>\n",
              "      <td>1.272660</td>\n",
              "      <td>103.697374</td>\n",
              "      <td>0.000000</td>\n",
              "      <td>0.000000</td>\n",
              "    </tr>\n",
              "    <tr>\n",
              "      <th>25%</th>\n",
              "      <td>1.302355</td>\n",
              "      <td>103.808046</td>\n",
              "      <td>0.000000</td>\n",
              "      <td>36.000000</td>\n",
              "    </tr>\n",
              "    <tr>\n",
              "      <th>50%</th>\n",
              "      <td>1.320323</td>\n",
              "      <td>103.845428</td>\n",
              "      <td>69.500000</td>\n",
              "      <td>50.000000</td>\n",
              "    </tr>\n",
              "    <tr>\n",
              "      <th>75%</th>\n",
              "      <td>1.344818</td>\n",
              "      <td>103.883722</td>\n",
              "      <td>107.250000</td>\n",
              "      <td>72.000000</td>\n",
              "    </tr>\n",
              "    <tr>\n",
              "      <th>max</th>\n",
              "      <td>1.443990</td>\n",
              "      <td>103.988182</td>\n",
              "      <td>477.000000</td>\n",
              "      <td>226.000000</td>\n",
              "    </tr>\n",
              "  </tbody>\n",
              "</table>\n",
              "</div>"
            ],
            "text/plain": [
              "       latitude_hc  longitude_hc  no_of_market_stalls  no_of_food_stalls\n",
              "count   114.000000    114.000000           114.000000         114.000000\n",
              "mean      1.325880    103.844182            72.745614          56.105263\n",
              "std       0.037271      0.056990            72.218549          32.928823\n",
              "min       1.272660    103.697374             0.000000           0.000000\n",
              "25%       1.302355    103.808046             0.000000          36.000000\n",
              "50%       1.320323    103.845428            69.500000          50.000000\n",
              "75%       1.344818    103.883722           107.250000          72.000000\n",
              "max       1.443990    103.988182           477.000000         226.000000"
            ]
          },
          "metadata": {},
          "execution_count": 11
        }
      ]
    },
    {
      "cell_type": "markdown",
      "source": [
        "### 4b. `count()` function [Mini Exercise!][2 min]\n",
        "We can find the number of values for each column using the **`.count()`** function\n",
        "<br>\n",
        "<br>**Exercise: Find the count of values for each column in the dataframe** "
      ],
      "metadata": {
        "id": "dJZ6wk60lvGS"
      }
    },
    {
      "cell_type": "code",
      "source": [
        "# Enter your code here"
      ],
      "metadata": {
        "id": "_f3aDvKHN0i4"
      },
      "execution_count": null,
      "outputs": []
    },
    {
      "cell_type": "markdown",
      "source": [
        "####Solution\n",
        "Click below for the solution."
      ],
      "metadata": {
        "id": "Zg1xIwQmN1Ay"
      }
    },
    {
      "cell_type": "code",
      "metadata": {
        "id": "cn2cMM9mIuSI",
        "colab": {
          "base_uri": "https://localhost:8080/"
        },
        "outputId": "4749d97a-2e29-4776-9e81-00e2f60e6009"
      },
      "source": [
        "hawker_df.count()"
      ],
      "execution_count": null,
      "outputs": [
        {
          "output_type": "execute_result",
          "data": {
            "text/plain": [
              "name                   114\n",
              "latitude_hc            114\n",
              "longitude_hc           114\n",
              "photourl               114\n",
              "address_myenv          114\n",
              "no_of_market_stalls    114\n",
              "no_of_food_stalls      114\n",
              "description_myenv      114\n",
              "status                 114\n",
              "google_3d_view         114\n",
              "dtype: int64"
            ]
          },
          "metadata": {},
          "execution_count": 13
        }
      ]
    },
    {
      "cell_type": "markdown",
      "metadata": {
        "id": "-etm1uHe14i1"
      },
      "source": [
        "Now that we have a basic idea of the dataset that we are working with, we can start to plot the locations of Hawker Centres onto the map"
      ]
    },
    {
      "cell_type": "markdown",
      "metadata": {
        "id": "i3DeXfu9ENWV"
      },
      "source": [
        "# Introduction to Foilum\n",
        "Folium is a data visualization library in Python that was built primarily to help people visualize geospatial data. With Folium, one can create a map of any location in the world if its latitude and longitude values are known."
      ]
    },
    {
      "cell_type": "markdown",
      "source": [
        "## 5. Importing the Folium library\n",
        "Similarly to use Folium, we will need to install and import the Folium library. The Folium library is already available in Google Colaboratory hence, we just need to import it. "
      ],
      "metadata": {
        "id": "oir27z0dZcoK"
      }
    },
    {
      "cell_type": "code",
      "source": [
        "import folium"
      ],
      "metadata": {
        "id": "Xp8t8NvwZkHt"
      },
      "execution_count": null,
      "outputs": []
    },
    {
      "cell_type": "markdown",
      "source": [
        "##6. Initialising a map\n"
      ],
      "metadata": {
        "id": "1H_BiZeOZnUU"
      }
    },
    {
      "cell_type": "markdown",
      "source": [
        "### 6a. Map() function\n",
        "We can generate a base map using the folium library using the **`Map()`** function. "
      ],
      "metadata": {
        "id": "BdwGLSaPWbzH"
      }
    },
    {
      "cell_type": "code",
      "source": [
        "map = folium.Map(location=[1.3437459, 103.8240449], # coordinates (latitude and longitude) of the map, these are the coordinates for Singapore\n",
        "                 zoom_start=12,                     # initial zoom level for the map\n",
        "                 control_scale=True)                # whether to add a control scale on the map."
      ],
      "metadata": {
        "id": "h--AFTXSVbBq"
      },
      "execution_count": null,
      "outputs": []
    },
    {
      "cell_type": "markdown",
      "source": [
        "### 6b. Displaying the map\n",
        "Display the map using the **`display()`** function"
      ],
      "metadata": {
        "id": "ew-csR25WQg7"
      }
    },
    {
      "cell_type": "code",
      "metadata": {
        "colab": {
          "base_uri": "https://localhost:8080/",
          "height": 509
        },
        "id": "-9L9eeoceL8H",
        "outputId": "f9a3bb96-fa98-48fc-93a3-880dc332bc06"
      },
      "source": [
        "display(map)"
      ],
      "execution_count": null,
      "outputs": [
        {
          "output_type": "display_data",
          "data": {
            "text/html": [
              "<div style=\"width:100%;\"><div style=\"position:relative;width:100%;height:0;padding-bottom:60%;\"><span style=\"color:#565656\">Make this Notebook Trusted to load map: File -> Trust Notebook</span><iframe src=\"about:blank\" style=\"position:absolute;width:100%;height:100%;left:0;top:0;border:none !important;\" data-html=%3C%21DOCTYPE%20html%3E%0A%3Chead%3E%20%20%20%20%0A%20%20%20%20%3Cmeta%20http-equiv%3D%22content-type%22%20content%3D%22text/html%3B%20charset%3DUTF-8%22%20/%3E%0A%20%20%20%20%3Cscript%3EL_PREFER_CANVAS%3Dfalse%3B%20L_NO_TOUCH%3Dfalse%3B%20L_DISABLE_3D%3Dfalse%3B%3C/script%3E%0A%20%20%20%20%3Cscript%20src%3D%22https%3A//cdn.jsdelivr.net/npm/leaflet%401.4.0/dist/leaflet.js%22%3E%3C/script%3E%0A%20%20%20%20%3Cscript%20src%3D%22https%3A//code.jquery.com/jquery-1.12.4.min.js%22%3E%3C/script%3E%0A%20%20%20%20%3Cscript%20src%3D%22https%3A//maxcdn.bootstrapcdn.com/bootstrap/3.2.0/js/bootstrap.min.js%22%3E%3C/script%3E%0A%20%20%20%20%3Cscript%20src%3D%22https%3A//cdnjs.cloudflare.com/ajax/libs/Leaflet.awesome-markers/2.0.2/leaflet.awesome-markers.js%22%3E%3C/script%3E%0A%20%20%20%20%3Clink%20rel%3D%22stylesheet%22%20href%3D%22https%3A//cdn.jsdelivr.net/npm/leaflet%401.4.0/dist/leaflet.css%22/%3E%0A%20%20%20%20%3Clink%20rel%3D%22stylesheet%22%20href%3D%22https%3A//maxcdn.bootstrapcdn.com/bootstrap/3.2.0/css/bootstrap.min.css%22/%3E%0A%20%20%20%20%3Clink%20rel%3D%22stylesheet%22%20href%3D%22https%3A//maxcdn.bootstrapcdn.com/bootstrap/3.2.0/css/bootstrap-theme.min.css%22/%3E%0A%20%20%20%20%3Clink%20rel%3D%22stylesheet%22%20href%3D%22https%3A//maxcdn.bootstrapcdn.com/font-awesome/4.6.3/css/font-awesome.min.css%22/%3E%0A%20%20%20%20%3Clink%20rel%3D%22stylesheet%22%20href%3D%22https%3A//cdnjs.cloudflare.com/ajax/libs/Leaflet.awesome-markers/2.0.2/leaflet.awesome-markers.css%22/%3E%0A%20%20%20%20%3Clink%20rel%3D%22stylesheet%22%20href%3D%22https%3A//rawcdn.githack.com/python-visualization/folium/master/folium/templates/leaflet.awesome.rotate.css%22/%3E%0A%20%20%20%20%3Cstyle%3Ehtml%2C%20body%20%7Bwidth%3A%20100%25%3Bheight%3A%20100%25%3Bmargin%3A%200%3Bpadding%3A%200%3B%7D%3C/style%3E%0A%20%20%20%20%3Cstyle%3E%23map%20%7Bposition%3Aabsolute%3Btop%3A0%3Bbottom%3A0%3Bright%3A0%3Bleft%3A0%3B%7D%3C/style%3E%0A%20%20%20%20%0A%20%20%20%20%3Cmeta%20name%3D%22viewport%22%20content%3D%22width%3Ddevice-width%2C%0A%20%20%20%20%20%20%20%20initial-scale%3D1.0%2C%20maximum-scale%3D1.0%2C%20user-scalable%3Dno%22%20/%3E%0A%20%20%20%20%3Cstyle%3E%23map_f0453ca49538401ea2902b9d8954580b%20%7B%0A%20%20%20%20%20%20%20%20position%3A%20relative%3B%0A%20%20%20%20%20%20%20%20width%3A%20100.0%25%3B%0A%20%20%20%20%20%20%20%20height%3A%20100.0%25%3B%0A%20%20%20%20%20%20%20%20left%3A%200.0%25%3B%0A%20%20%20%20%20%20%20%20top%3A%200.0%25%3B%0A%20%20%20%20%20%20%20%20%7D%0A%20%20%20%20%3C/style%3E%0A%3C/head%3E%0A%3Cbody%3E%20%20%20%20%0A%20%20%20%20%0A%20%20%20%20%3Cdiv%20class%3D%22folium-map%22%20id%3D%22map_f0453ca49538401ea2902b9d8954580b%22%20%3E%3C/div%3E%0A%3C/body%3E%0A%3Cscript%3E%20%20%20%20%0A%20%20%20%20%0A%20%20%20%20%0A%20%20%20%20%20%20%20%20var%20bounds%20%3D%20null%3B%0A%20%20%20%20%0A%0A%20%20%20%20var%20map_f0453ca49538401ea2902b9d8954580b%20%3D%20L.map%28%0A%20%20%20%20%20%20%20%20%27map_f0453ca49538401ea2902b9d8954580b%27%2C%20%7B%0A%20%20%20%20%20%20%20%20center%3A%20%5B1.3437459%2C%20103.8240449%5D%2C%0A%20%20%20%20%20%20%20%20zoom%3A%2012%2C%0A%20%20%20%20%20%20%20%20maxBounds%3A%20bounds%2C%0A%20%20%20%20%20%20%20%20layers%3A%20%5B%5D%2C%0A%20%20%20%20%20%20%20%20worldCopyJump%3A%20false%2C%0A%20%20%20%20%20%20%20%20crs%3A%20L.CRS.EPSG3857%2C%0A%20%20%20%20%20%20%20%20zoomControl%3A%20true%2C%0A%20%20%20%20%20%20%20%20%7D%29%3B%0AL.control.scale%28%29.addTo%28map_f0453ca49538401ea2902b9d8954580b%29%3B%0A%0A%20%20%20%20%0A%20%20%20%20var%20tile_layer_d4b590b76f1d42508aa4b75b0ef2efcb%20%3D%20L.tileLayer%28%0A%20%20%20%20%20%20%20%20%27https%3A//%7Bs%7D.tile.openstreetmap.org/%7Bz%7D/%7Bx%7D/%7By%7D.png%27%2C%0A%20%20%20%20%20%20%20%20%7B%0A%20%20%20%20%20%20%20%20%22attribution%22%3A%20null%2C%0A%20%20%20%20%20%20%20%20%22detectRetina%22%3A%20false%2C%0A%20%20%20%20%20%20%20%20%22maxNativeZoom%22%3A%2018%2C%0A%20%20%20%20%20%20%20%20%22maxZoom%22%3A%2018%2C%0A%20%20%20%20%20%20%20%20%22minZoom%22%3A%200%2C%0A%20%20%20%20%20%20%20%20%22noWrap%22%3A%20false%2C%0A%20%20%20%20%20%20%20%20%22opacity%22%3A%201%2C%0A%20%20%20%20%20%20%20%20%22subdomains%22%3A%20%22abc%22%2C%0A%20%20%20%20%20%20%20%20%22tms%22%3A%20false%0A%7D%29.addTo%28map_f0453ca49538401ea2902b9d8954580b%29%3B%0A%3C/script%3E onload=\"this.contentDocument.open();this.contentDocument.write(    decodeURIComponent(this.getAttribute('data-html')));this.contentDocument.close();\" allowfullscreen webkitallowfullscreen mozallowfullscreen></iframe></div></div>"
            ],
            "text/plain": [
              "<folium.folium.Map at 0x7fe78018d7d0>"
            ]
          },
          "metadata": {}
        }
      ]
    },
    {
      "cell_type": "markdown",
      "source": [
        "## 7. Adding the locations onto the map"
      ],
      "metadata": {
        "id": "KIwHVVFdZ2kV"
      }
    },
    {
      "cell_type": "markdown",
      "source": [
        "### 7a. Retrieving the relevant rows for the geospatial visualisation"
      ],
      "metadata": {
        "id": "7dWhrRewWz4I"
      }
    },
    {
      "cell_type": "code",
      "metadata": {
        "id": "TcM3sTg7cc-b"
      },
      "source": [
        "hc_locations = hawker_df[[\"latitude_hc\", \"longitude_hc\", 'name']]"
      ],
      "execution_count": null,
      "outputs": []
    },
    {
      "cell_type": "code",
      "source": [
        "hc_locations"
      ],
      "metadata": {
        "colab": {
          "base_uri": "https://localhost:8080/",
          "height": 420
        },
        "id": "qPSGA-_kf8Fz",
        "outputId": "fb1a1d40-660d-4940-96d4-8355c8e2b3ba"
      },
      "execution_count": null,
      "outputs": [
        {
          "output_type": "execute_result",
          "data": {
            "text/html": [
              "<div>\n",
              "<style scoped>\n",
              "    .dataframe tbody tr th:only-of-type {\n",
              "        vertical-align: middle;\n",
              "    }\n",
              "\n",
              "    .dataframe tbody tr th {\n",
              "        vertical-align: top;\n",
              "    }\n",
              "\n",
              "    .dataframe thead th {\n",
              "        text-align: right;\n",
              "    }\n",
              "</style>\n",
              "<table border=\"1\" class=\"dataframe\">\n",
              "  <thead>\n",
              "    <tr style=\"text-align: right;\">\n",
              "      <th></th>\n",
              "      <th>latitude_hc</th>\n",
              "      <th>longitude_hc</th>\n",
              "      <th>name</th>\n",
              "    </tr>\n",
              "  </thead>\n",
              "  <tbody>\n",
              "    <tr>\n",
              "      <th>0</th>\n",
              "      <td>1.324132</td>\n",
              "      <td>103.814163</td>\n",
              "      <td>Adam Road Food Centre</td>\n",
              "    </tr>\n",
              "    <tr>\n",
              "      <th>1</th>\n",
              "      <td>1.320710</td>\n",
              "      <td>103.887093</td>\n",
              "      <td>Aljunied Ave 2 Blk 117 (Blk 117 Aljunied Marke...</td>\n",
              "    </tr>\n",
              "    <tr>\n",
              "      <th>2</th>\n",
              "      <td>1.279129</td>\n",
              "      <td>103.846985</td>\n",
              "      <td>Amoy Street Food Centre (Telok Ayer Food Centre)</td>\n",
              "    </tr>\n",
              "    <tr>\n",
              "      <th>3</th>\n",
              "      <td>1.366950</td>\n",
              "      <td>103.839188</td>\n",
              "      <td>Ang Mo Kio Ave 1 Blk 226D (Kebun Baru Market a...</td>\n",
              "    </tr>\n",
              "    <tr>\n",
              "      <th>4</th>\n",
              "      <td>1.364170</td>\n",
              "      <td>103.848320</td>\n",
              "      <td>Ang Mo Kio Ave 1 Blk 341 (Teck Ghee Court)</td>\n",
              "    </tr>\n",
              "    <tr>\n",
              "      <th>...</th>\n",
              "      <td>...</td>\n",
              "      <td>...</td>\n",
              "      <td>...</td>\n",
              "    </tr>\n",
              "    <tr>\n",
              "      <th>109</th>\n",
              "      <td>1.323140</td>\n",
              "      <td>103.855041</td>\n",
              "      <td>Whampoa Drive Blk 90 (Whampoa Drive Makan Plac...</td>\n",
              "    </tr>\n",
              "    <tr>\n",
              "      <th>110</th>\n",
              "      <td>1.323490</td>\n",
              "      <td>103.854134</td>\n",
              "      <td>Whampoa Drive Blk 91/92 (Whampoa Drive Makan P...</td>\n",
              "    </tr>\n",
              "    <tr>\n",
              "      <th>111</th>\n",
              "      <td>1.424911</td>\n",
              "      <td>103.844992</td>\n",
              "      <td>Yishun Park Hawker Centre</td>\n",
              "    </tr>\n",
              "    <tr>\n",
              "      <th>112</th>\n",
              "      <td>1.431658</td>\n",
              "      <td>103.828072</td>\n",
              "      <td>Yishun Ring Road Blk 104/105 (Chong Pang Marke...</td>\n",
              "    </tr>\n",
              "    <tr>\n",
              "      <th>113</th>\n",
              "      <td>1.292340</td>\n",
              "      <td>103.831184</td>\n",
              "      <td>Zion Riverside Food Centre</td>\n",
              "    </tr>\n",
              "  </tbody>\n",
              "</table>\n",
              "<p>114 rows × 3 columns</p>\n",
              "</div>"
            ],
            "text/plain": [
              "     latitude_hc  ...                                               name\n",
              "0       1.324132  ...                              Adam Road Food Centre\n",
              "1       1.320710  ...  Aljunied Ave 2 Blk 117 (Blk 117 Aljunied Marke...\n",
              "2       1.279129  ...   Amoy Street Food Centre (Telok Ayer Food Centre)\n",
              "3       1.366950  ...  Ang Mo Kio Ave 1 Blk 226D (Kebun Baru Market a...\n",
              "4       1.364170  ...         Ang Mo Kio Ave 1 Blk 341 (Teck Ghee Court)\n",
              "..           ...  ...                                                ...\n",
              "109     1.323140  ...  Whampoa Drive Blk 90 (Whampoa Drive Makan Plac...\n",
              "110     1.323490  ...  Whampoa Drive Blk 91/92 (Whampoa Drive Makan P...\n",
              "111     1.424911  ...                          Yishun Park Hawker Centre\n",
              "112     1.431658  ...  Yishun Ring Road Blk 104/105 (Chong Pang Marke...\n",
              "113     1.292340  ...                         Zion Riverside Food Centre\n",
              "\n",
              "[114 rows x 3 columns]"
            ]
          },
          "metadata": {},
          "execution_count": 18
        }
      ]
    },
    {
      "cell_type": "markdown",
      "source": [
        "### 7b. Adding a location onto the base map\n",
        "\n",
        "Using **`Marker()`**, we can add a location onto the base map that we have generated, by providing the coordinates. There is a parameter named popup where we can assign a text to. The text will be shown when we click on the marker."
      ],
      "metadata": {
        "id": "8kHLdesIfrkR"
      }
    },
    {
      "cell_type": "code",
      "source": [
        "folium.Marker([1.324132, 103.814163], # latitude and longitude\n",
        "              popup='Adam Road Food Centre' # name of hawker centre, what the popup will display when the marker is clicked\n",
        "              ).add_to(map) # add it to base map that was initialised"
      ],
      "metadata": {
        "colab": {
          "base_uri": "https://localhost:8080/"
        },
        "id": "1LwM0O-Ef-SJ",
        "outputId": "c03db1a1-6e52-4a22-875c-bbb270512e3a"
      },
      "execution_count": null,
      "outputs": [
        {
          "output_type": "execute_result",
          "data": {
            "text/plain": [
              "<folium.map.Marker at 0x7fe780190190>"
            ]
          },
          "metadata": {},
          "execution_count": 19
        }
      ]
    },
    {
      "cell_type": "code",
      "source": [
        "display(map)"
      ],
      "metadata": {
        "colab": {
          "base_uri": "https://localhost:8080/",
          "height": 509
        },
        "id": "dGOI3KglgmXc",
        "outputId": "0dd30e46-94ba-4815-c389-46058a7f7224"
      },
      "execution_count": null,
      "outputs": [
        {
          "output_type": "display_data",
          "data": {
            "text/html": [
              "<div style=\"width:100%;\"><div style=\"position:relative;width:100%;height:0;padding-bottom:60%;\"><span style=\"color:#565656\">Make this Notebook Trusted to load map: File -> Trust Notebook</span><iframe src=\"about:blank\" style=\"position:absolute;width:100%;height:100%;left:0;top:0;border:none !important;\" data-html=%3C%21DOCTYPE%20html%3E%0A%3Chead%3E%20%20%20%20%0A%20%20%20%20%3Cmeta%20http-equiv%3D%22content-type%22%20content%3D%22text/html%3B%20charset%3DUTF-8%22%20/%3E%0A%20%20%20%20%3Cscript%3EL_PREFER_CANVAS%3Dfalse%3B%20L_NO_TOUCH%3Dfalse%3B%20L_DISABLE_3D%3Dfalse%3B%3C/script%3E%0A%20%20%20%20%3Cscript%20src%3D%22https%3A//cdn.jsdelivr.net/npm/leaflet%401.4.0/dist/leaflet.js%22%3E%3C/script%3E%0A%20%20%20%20%3Cscript%20src%3D%22https%3A//code.jquery.com/jquery-1.12.4.min.js%22%3E%3C/script%3E%0A%20%20%20%20%3Cscript%20src%3D%22https%3A//maxcdn.bootstrapcdn.com/bootstrap/3.2.0/js/bootstrap.min.js%22%3E%3C/script%3E%0A%20%20%20%20%3Cscript%20src%3D%22https%3A//cdnjs.cloudflare.com/ajax/libs/Leaflet.awesome-markers/2.0.2/leaflet.awesome-markers.js%22%3E%3C/script%3E%0A%20%20%20%20%3Clink%20rel%3D%22stylesheet%22%20href%3D%22https%3A//cdn.jsdelivr.net/npm/leaflet%401.4.0/dist/leaflet.css%22/%3E%0A%20%20%20%20%3Clink%20rel%3D%22stylesheet%22%20href%3D%22https%3A//maxcdn.bootstrapcdn.com/bootstrap/3.2.0/css/bootstrap.min.css%22/%3E%0A%20%20%20%20%3Clink%20rel%3D%22stylesheet%22%20href%3D%22https%3A//maxcdn.bootstrapcdn.com/bootstrap/3.2.0/css/bootstrap-theme.min.css%22/%3E%0A%20%20%20%20%3Clink%20rel%3D%22stylesheet%22%20href%3D%22https%3A//maxcdn.bootstrapcdn.com/font-awesome/4.6.3/css/font-awesome.min.css%22/%3E%0A%20%20%20%20%3Clink%20rel%3D%22stylesheet%22%20href%3D%22https%3A//cdnjs.cloudflare.com/ajax/libs/Leaflet.awesome-markers/2.0.2/leaflet.awesome-markers.css%22/%3E%0A%20%20%20%20%3Clink%20rel%3D%22stylesheet%22%20href%3D%22https%3A//rawcdn.githack.com/python-visualization/folium/master/folium/templates/leaflet.awesome.rotate.css%22/%3E%0A%20%20%20%20%3Cstyle%3Ehtml%2C%20body%20%7Bwidth%3A%20100%25%3Bheight%3A%20100%25%3Bmargin%3A%200%3Bpadding%3A%200%3B%7D%3C/style%3E%0A%20%20%20%20%3Cstyle%3E%23map%20%7Bposition%3Aabsolute%3Btop%3A0%3Bbottom%3A0%3Bright%3A0%3Bleft%3A0%3B%7D%3C/style%3E%0A%20%20%20%20%0A%20%20%20%20%3Cmeta%20name%3D%22viewport%22%20content%3D%22width%3Ddevice-width%2C%0A%20%20%20%20%20%20%20%20initial-scale%3D1.0%2C%20maximum-scale%3D1.0%2C%20user-scalable%3Dno%22%20/%3E%0A%20%20%20%20%3Cstyle%3E%23map_f0453ca49538401ea2902b9d8954580b%20%7B%0A%20%20%20%20%20%20%20%20position%3A%20relative%3B%0A%20%20%20%20%20%20%20%20width%3A%20100.0%25%3B%0A%20%20%20%20%20%20%20%20height%3A%20100.0%25%3B%0A%20%20%20%20%20%20%20%20left%3A%200.0%25%3B%0A%20%20%20%20%20%20%20%20top%3A%200.0%25%3B%0A%20%20%20%20%20%20%20%20%7D%0A%20%20%20%20%3C/style%3E%0A%3C/head%3E%0A%3Cbody%3E%20%20%20%20%0A%20%20%20%20%0A%20%20%20%20%3Cdiv%20class%3D%22folium-map%22%20id%3D%22map_f0453ca49538401ea2902b9d8954580b%22%20%3E%3C/div%3E%0A%3C/body%3E%0A%3Cscript%3E%20%20%20%20%0A%20%20%20%20%0A%20%20%20%20%0A%20%20%20%20%20%20%20%20var%20bounds%20%3D%20null%3B%0A%20%20%20%20%0A%0A%20%20%20%20var%20map_f0453ca49538401ea2902b9d8954580b%20%3D%20L.map%28%0A%20%20%20%20%20%20%20%20%27map_f0453ca49538401ea2902b9d8954580b%27%2C%20%7B%0A%20%20%20%20%20%20%20%20center%3A%20%5B1.3437459%2C%20103.8240449%5D%2C%0A%20%20%20%20%20%20%20%20zoom%3A%2012%2C%0A%20%20%20%20%20%20%20%20maxBounds%3A%20bounds%2C%0A%20%20%20%20%20%20%20%20layers%3A%20%5B%5D%2C%0A%20%20%20%20%20%20%20%20worldCopyJump%3A%20false%2C%0A%20%20%20%20%20%20%20%20crs%3A%20L.CRS.EPSG3857%2C%0A%20%20%20%20%20%20%20%20zoomControl%3A%20true%2C%0A%20%20%20%20%20%20%20%20%7D%29%3B%0AL.control.scale%28%29.addTo%28map_f0453ca49538401ea2902b9d8954580b%29%3B%0A%0A%20%20%20%20%0A%20%20%20%20var%20tile_layer_d4b590b76f1d42508aa4b75b0ef2efcb%20%3D%20L.tileLayer%28%0A%20%20%20%20%20%20%20%20%27https%3A//%7Bs%7D.tile.openstreetmap.org/%7Bz%7D/%7Bx%7D/%7By%7D.png%27%2C%0A%20%20%20%20%20%20%20%20%7B%0A%20%20%20%20%20%20%20%20%22attribution%22%3A%20null%2C%0A%20%20%20%20%20%20%20%20%22detectRetina%22%3A%20false%2C%0A%20%20%20%20%20%20%20%20%22maxNativeZoom%22%3A%2018%2C%0A%20%20%20%20%20%20%20%20%22maxZoom%22%3A%2018%2C%0A%20%20%20%20%20%20%20%20%22minZoom%22%3A%200%2C%0A%20%20%20%20%20%20%20%20%22noWrap%22%3A%20false%2C%0A%20%20%20%20%20%20%20%20%22opacity%22%3A%201%2C%0A%20%20%20%20%20%20%20%20%22subdomains%22%3A%20%22abc%22%2C%0A%20%20%20%20%20%20%20%20%22tms%22%3A%20false%0A%7D%29.addTo%28map_f0453ca49538401ea2902b9d8954580b%29%3B%0A%20%20%20%20%0A%20%20%20%20%20%20%20%20var%20marker_db37ca4ed8b74054ad6fae3d061309ae%20%3D%20L.marker%28%0A%20%20%20%20%20%20%20%20%20%20%20%20%5B1.324132%2C%20103.814163%5D%2C%0A%20%20%20%20%20%20%20%20%20%20%20%20%7B%0A%20%20%20%20%20%20%20%20%20%20%20%20%20%20%20%20icon%3A%20new%20L.Icon.Default%28%29%2C%0A%20%20%20%20%20%20%20%20%20%20%20%20%20%20%20%20%7D%0A%20%20%20%20%20%20%20%20%20%20%20%20%29.addTo%28map_f0453ca49538401ea2902b9d8954580b%29%3B%0A%20%20%20%20%20%20%20%20%0A%20%20%20%20%0A%20%20%20%20%20%20%20%20%20%20%20%20var%20popup_d33a979b74b24bb1bfe2bea5d7078f29%20%3D%20L.popup%28%7BmaxWidth%3A%20%27100%25%27%0A%20%20%20%20%20%20%20%20%20%20%20%20%0A%20%20%20%20%20%20%20%20%20%20%20%20%7D%29%3B%0A%0A%20%20%20%20%20%20%20%20%20%20%20%20%0A%20%20%20%20%20%20%20%20%20%20%20%20%20%20%20%20var%20html_3950e747e7664fbaa2808131db08198f%20%3D%20%24%28%60%3Cdiv%20id%3D%22html_3950e747e7664fbaa2808131db08198f%22%20style%3D%22width%3A%20100.0%25%3B%20height%3A%20100.0%25%3B%22%3EAdam%20Road%20Food%20Centre%3C/div%3E%60%29%5B0%5D%3B%0A%20%20%20%20%20%20%20%20%20%20%20%20%20%20%20%20popup_d33a979b74b24bb1bfe2bea5d7078f29.setContent%28html_3950e747e7664fbaa2808131db08198f%29%3B%0A%20%20%20%20%20%20%20%20%20%20%20%20%0A%0A%20%20%20%20%20%20%20%20%20%20%20%20marker_db37ca4ed8b74054ad6fae3d061309ae.bindPopup%28popup_d33a979b74b24bb1bfe2bea5d7078f29%29%0A%20%20%20%20%20%20%20%20%20%20%20%20%3B%0A%0A%20%20%20%20%20%20%20%20%20%20%20%20%0A%20%20%20%20%20%20%20%20%0A%3C/script%3E onload=\"this.contentDocument.open();this.contentDocument.write(    decodeURIComponent(this.getAttribute('data-html')));this.contentDocument.close();\" allowfullscreen webkitallowfullscreen mozallowfullscreen></iframe></div></div>"
            ],
            "text/plain": [
              "<folium.folium.Map at 0x7fe78018d7d0>"
            ]
          },
          "metadata": {}
        }
      ]
    },
    {
      "cell_type": "markdown",
      "source": [
        "### 7c. Adding multiple locations to the base map with the aid of a for loop\n",
        "However, it is quite a hassle to add each and every location onto the map individually. But we can speed up the process with the help of a for loop."
      ],
      "metadata": {
        "id": "NHAzZRX2a-W2"
      }
    },
    {
      "cell_type": "code",
      "metadata": {
        "id": "ueR3y8U-cc5k"
      },
      "source": [
        "for index, location_info in hc_locations.iterrows(): # iterrows is used to iterate through the rows of the dataframe\n",
        "    folium.Marker([location_info[\"latitude_hc\"], location_info[\"longitude_hc\"]], # latitude and longitude\n",
        "                  popup=location_info[\"name\"]  # name of hawker centre\n",
        "                  ).add_to(map) "
      ],
      "execution_count": null,
      "outputs": []
    },
    {
      "cell_type": "markdown",
      "source": [
        "For loops are used for iterating over iterable objects, such as the rows of the DataFrame.\n",
        "\n",
        "\n"
      ],
      "metadata": {
        "id": "pjDc3kyzl-GM"
      }
    },
    {
      "cell_type": "markdown",
      "source": [
        "**For a better idea of what `iterrows()` does.** <br> `DataFrame.iterrows` is a generator which yields both the index and row (as a Series)"
      ],
      "metadata": {
        "id": "TC2Kc4QFh9Ku"
      }
    },
    {
      "cell_type": "code",
      "source": [
        "for index, location_info in hc_locations.iterrows(): \n",
        "  print(index)\n",
        "  print()\n",
        "  print(location_info)\n",
        "  break"
      ],
      "metadata": {
        "colab": {
          "base_uri": "https://localhost:8080/"
        },
        "id": "8k5-NLK_huuE",
        "outputId": "632bdcdf-527f-4a02-fbb4-077a9e357e29"
      },
      "execution_count": null,
      "outputs": [
        {
          "output_type": "stream",
          "name": "stdout",
          "text": [
            "0\n",
            "\n",
            "latitude_hc                   1.32413\n",
            "longitude_hc                  103.814\n",
            "name            Adam Road Food Centre\n",
            "Name: 0, dtype: object\n"
          ]
        }
      ]
    },
    {
      "cell_type": "markdown",
      "source": [
        "### 7d. Display the map [Mini Exercise!]\n",
        "**Exercise: Display the map that has the location added to it**"
      ],
      "metadata": {
        "id": "zA7nw6C4bFhI"
      }
    },
    {
      "cell_type": "code",
      "source": [
        "# Enter your code here"
      ],
      "metadata": {
        "id": "_uMAFMhCNv_T"
      },
      "execution_count": null,
      "outputs": []
    },
    {
      "cell_type": "markdown",
      "source": [
        "####Solution\n",
        "Click below for the solution."
      ],
      "metadata": {
        "id": "Um16QgauNoMz"
      }
    },
    {
      "cell_type": "code",
      "metadata": {
        "colab": {
          "base_uri": "https://localhost:8080/"
        },
        "id": "aHhOQ_a5cc3B",
        "outputId": "21e59dea-a611-4bc7-9fe7-e9f3d7f095e8"
      },
      "source": [
        "display(map)"
      ],
      "execution_count": null,
      "outputs": [
        {
          "output_type": "display_data",
          "data": {
            "text/html": [
              "<div style=\"width:100%;\"><div style=\"position:relative;width:100%;height:0;padding-bottom:60%;\"><span style=\"color:#565656\">Make this Notebook Trusted to load map: File -> Trust Notebook</span><iframe src=\"about:blank\" style=\"position:absolute;width:100%;height:100%;left:0;top:0;border:none !important;\" data-html=%3C%21DOCTYPE%20html%3E%0A%3Chead%3E%20%20%20%20%0A%20%20%20%20%3Cmeta%20http-equiv%3D%22content-type%22%20content%3D%22text/html%3B%20charset%3DUTF-8%22%20/%3E%0A%20%20%20%20%3Cscript%3EL_PREFER_CANVAS%3Dfalse%3B%20L_NO_TOUCH%3Dfalse%3B%20L_DISABLE_3D%3Dfalse%3B%3C/script%3E%0A%20%20%20%20%3Cscript%20src%3D%22https%3A//cdn.jsdelivr.net/npm/leaflet%401.4.0/dist/leaflet.js%22%3E%3C/script%3E%0A%20%20%20%20%3Cscript%20src%3D%22https%3A//code.jquery.com/jquery-1.12.4.min.js%22%3E%3C/script%3E%0A%20%20%20%20%3Cscript%20src%3D%22https%3A//maxcdn.bootstrapcdn.com/bootstrap/3.2.0/js/bootstrap.min.js%22%3E%3C/script%3E%0A%20%20%20%20%3Cscript%20src%3D%22https%3A//cdnjs.cloudflare.com/ajax/libs/Leaflet.awesome-markers/2.0.2/leaflet.awesome-markers.js%22%3E%3C/script%3E%0A%20%20%20%20%3Clink%20rel%3D%22stylesheet%22%20href%3D%22https%3A//cdn.jsdelivr.net/npm/leaflet%401.4.0/dist/leaflet.css%22/%3E%0A%20%20%20%20%3Clink%20rel%3D%22stylesheet%22%20href%3D%22https%3A//maxcdn.bootstrapcdn.com/bootstrap/3.2.0/css/bootstrap.min.css%22/%3E%0A%20%20%20%20%3Clink%20rel%3D%22stylesheet%22%20href%3D%22https%3A//maxcdn.bootstrapcdn.com/bootstrap/3.2.0/css/bootstrap-theme.min.css%22/%3E%0A%20%20%20%20%3Clink%20rel%3D%22stylesheet%22%20href%3D%22https%3A//maxcdn.bootstrapcdn.com/font-awesome/4.6.3/css/font-awesome.min.css%22/%3E%0A%20%20%20%20%3Clink%20rel%3D%22stylesheet%22%20href%3D%22https%3A//cdnjs.cloudflare.com/ajax/libs/Leaflet.awesome-markers/2.0.2/leaflet.awesome-markers.css%22/%3E%0A%20%20%20%20%3Clink%20rel%3D%22stylesheet%22%20href%3D%22https%3A//rawcdn.githack.com/python-visualization/folium/master/folium/templates/leaflet.awesome.rotate.css%22/%3E%0A%20%20%20%20%3Cstyle%3Ehtml%2C%20body%20%7Bwidth%3A%20100%25%3Bheight%3A%20100%25%3Bmargin%3A%200%3Bpadding%3A%200%3B%7D%3C/style%3E%0A%20%20%20%20%3Cstyle%3E%23map%20%7Bposition%3Aabsolute%3Btop%3A0%3Bbottom%3A0%3Bright%3A0%3Bleft%3A0%3B%7D%3C/style%3E%0A%20%20%20%20%0A%20%20%20%20%3Cmeta%20name%3D%22viewport%22%20content%3D%22width%3Ddevice-width%2C%0A%20%20%20%20%20%20%20%20initial-scale%3D1.0%2C%20maximum-scale%3D1.0%2C%20user-scalable%3Dno%22%20/%3E%0A%20%20%20%20%3Cstyle%3E%23map_f0453ca49538401ea2902b9d8954580b%20%7B%0A%20%20%20%20%20%20%20%20position%3A%20relative%3B%0A%20%20%20%20%20%20%20%20width%3A%20100.0%25%3B%0A%20%20%20%20%20%20%20%20height%3A%20100.0%25%3B%0A%20%20%20%20%20%20%20%20left%3A%200.0%25%3B%0A%20%20%20%20%20%20%20%20top%3A%200.0%25%3B%0A%20%20%20%20%20%20%20%20%7D%0A%20%20%20%20%3C/style%3E%0A%3C/head%3E%0A%3Cbody%3E%20%20%20%20%0A%20%20%20%20%0A%20%20%20%20%3Cdiv%20class%3D%22folium-map%22%20id%3D%22map_f0453ca49538401ea2902b9d8954580b%22%20%3E%3C/div%3E%0A%3C/body%3E%0A%3Cscript%3E%20%20%20%20%0A%20%20%20%20%0A%20%20%20%20%0A%20%20%20%20%20%20%20%20var%20bounds%20%3D%20null%3B%0A%20%20%20%20%0A%0A%20%20%20%20var%20map_f0453ca49538401ea2902b9d8954580b%20%3D%20L.map%28%0A%20%20%20%20%20%20%20%20%27map_f0453ca49538401ea2902b9d8954580b%27%2C%20%7B%0A%20%20%20%20%20%20%20%20center%3A%20%5B1.3437459%2C%20103.8240449%5D%2C%0A%20%20%20%20%20%20%20%20zoom%3A%2012%2C%0A%20%20%20%20%20%20%20%20maxBounds%3A%20bounds%2C%0A%20%20%20%20%20%20%20%20layers%3A%20%5B%5D%2C%0A%20%20%20%20%20%20%20%20worldCopyJump%3A%20false%2C%0A%20%20%20%20%20%20%20%20crs%3A%20L.CRS.EPSG3857%2C%0A%20%20%20%20%20%20%20%20zoomControl%3A%20true%2C%0A%20%20%20%20%20%20%20%20%7D%29%3B%0AL.control.scale%28%29.addTo%28map_f0453ca49538401ea2902b9d8954580b%29%3B%0A%0A%20%20%20%20%0A%20%20%20%20var%20tile_layer_d4b590b76f1d42508aa4b75b0ef2efcb%20%3D%20L.tileLayer%28%0A%20%20%20%20%20%20%20%20%27https%3A//%7Bs%7D.tile.openstreetmap.org/%7Bz%7D/%7Bx%7D/%7By%7D.png%27%2C%0A%20%20%20%20%20%20%20%20%7B%0A%20%20%20%20%20%20%20%20%22attribution%22%3A%20null%2C%0A%20%20%20%20%20%20%20%20%22detectRetina%22%3A%20false%2C%0A%20%20%20%20%20%20%20%20%22maxNativeZoom%22%3A%2018%2C%0A%20%20%20%20%20%20%20%20%22maxZoom%22%3A%2018%2C%0A%20%20%20%20%20%20%20%20%22minZoom%22%3A%200%2C%0A%20%20%20%20%20%20%20%20%22noWrap%22%3A%20false%2C%0A%20%20%20%20%20%20%20%20%22opacity%22%3A%201%2C%0A%20%20%20%20%20%20%20%20%22subdomains%22%3A%20%22abc%22%2C%0A%20%20%20%20%20%20%20%20%22tms%22%3A%20false%0A%7D%29.addTo%28map_f0453ca49538401ea2902b9d8954580b%29%3B%0A%20%20%20%20%0A%20%20%20%20%20%20%20%20var%20marker_db37ca4ed8b74054ad6fae3d061309ae%20%3D%20L.marker%28%0A%20%20%20%20%20%20%20%20%20%20%20%20%5B1.324132%2C%20103.814163%5D%2C%0A%20%20%20%20%20%20%20%20%20%20%20%20%7B%0A%20%20%20%20%20%20%20%20%20%20%20%20%20%20%20%20icon%3A%20new%20L.Icon.Default%28%29%2C%0A%20%20%20%20%20%20%20%20%20%20%20%20%20%20%20%20%7D%0A%20%20%20%20%20%20%20%20%20%20%20%20%29.addTo%28map_f0453ca49538401ea2902b9d8954580b%29%3B%0A%20%20%20%20%20%20%20%20%0A%20%20%20%20%0A%20%20%20%20%20%20%20%20%20%20%20%20var%20popup_d33a979b74b24bb1bfe2bea5d7078f29%20%3D%20L.popup%28%7BmaxWidth%3A%20%27100%25%27%0A%20%20%20%20%20%20%20%20%20%20%20%20%0A%20%20%20%20%20%20%20%20%20%20%20%20%7D%29%3B%0A%0A%20%20%20%20%20%20%20%20%20%20%20%20%0A%20%20%20%20%20%20%20%20%20%20%20%20%20%20%20%20var%20html_3950e747e7664fbaa2808131db08198f%20%3D%20%24%28%60%3Cdiv%20id%3D%22html_3950e747e7664fbaa2808131db08198f%22%20style%3D%22width%3A%20100.0%25%3B%20height%3A%20100.0%25%3B%22%3EAdam%20Road%20Food%20Centre%3C/div%3E%60%29%5B0%5D%3B%0A%20%20%20%20%20%20%20%20%20%20%20%20%20%20%20%20popup_d33a979b74b24bb1bfe2bea5d7078f29.setContent%28html_3950e747e7664fbaa2808131db08198f%29%3B%0A%20%20%20%20%20%20%20%20%20%20%20%20%0A%0A%20%20%20%20%20%20%20%20%20%20%20%20marker_db37ca4ed8b74054ad6fae3d061309ae.bindPopup%28popup_d33a979b74b24bb1bfe2bea5d7078f29%29%0A%20%20%20%20%20%20%20%20%20%20%20%20%3B%0A%0A%20%20%20%20%20%20%20%20%20%20%20%20%0A%20%20%20%20%20%20%20%20%0A%20%20%20%20%0A%20%20%20%20%20%20%20%20var%20marker_7703df95b6da4fe883d845bba811ea03%20%3D%20L.marker%28%0A%20%20%20%20%20%20%20%20%20%20%20%20%5B1.324131966%2C%20103.8141632%5D%2C%0A%20%20%20%20%20%20%20%20%20%20%20%20%7B%0A%20%20%20%20%20%20%20%20%20%20%20%20%20%20%20%20icon%3A%20new%20L.Icon.Default%28%29%2C%0A%20%20%20%20%20%20%20%20%20%20%20%20%20%20%20%20%7D%0A%20%20%20%20%20%20%20%20%20%20%20%20%29.addTo%28map_f0453ca49538401ea2902b9d8954580b%29%3B%0A%20%20%20%20%20%20%20%20%0A%20%20%20%20%0A%20%20%20%20%20%20%20%20%20%20%20%20var%20popup_65e64a4f63df440880cace3ea86dd089%20%3D%20L.popup%28%7BmaxWidth%3A%20%27100%25%27%0A%20%20%20%20%20%20%20%20%20%20%20%20%0A%20%20%20%20%20%20%20%20%20%20%20%20%7D%29%3B%0A%0A%20%20%20%20%20%20%20%20%20%20%20%20%0A%20%20%20%20%20%20%20%20%20%20%20%20%20%20%20%20var%20html_3eca925867734ea3a962c67c28d7705d%20%3D%20%24%28%60%3Cdiv%20id%3D%22html_3eca925867734ea3a962c67c28d7705d%22%20style%3D%22width%3A%20100.0%25%3B%20height%3A%20100.0%25%3B%22%3EAdam%20Road%20Food%20Centre%3C/div%3E%60%29%5B0%5D%3B%0A%20%20%20%20%20%20%20%20%20%20%20%20%20%20%20%20popup_65e64a4f63df440880cace3ea86dd089.setContent%28html_3eca925867734ea3a962c67c28d7705d%29%3B%0A%20%20%20%20%20%20%20%20%20%20%20%20%0A%0A%20%20%20%20%20%20%20%20%20%20%20%20marker_7703df95b6da4fe883d845bba811ea03.bindPopup%28popup_65e64a4f63df440880cace3ea86dd089%29%0A%20%20%20%20%20%20%20%20%20%20%20%20%3B%0A%0A%20%20%20%20%20%20%20%20%20%20%20%20%0A%20%20%20%20%20%20%20%20%0A%20%20%20%20%0A%20%20%20%20%20%20%20%20var%20marker_f9dbca96548c466babfa2dc05cce920f%20%3D%20L.marker%28%0A%20%20%20%20%20%20%20%20%20%20%20%20%5B1.320709944%2C%20103.8870926%5D%2C%0A%20%20%20%20%20%20%20%20%20%20%20%20%7B%0A%20%20%20%20%20%20%20%20%20%20%20%20%20%20%20%20icon%3A%20new%20L.Icon.Default%28%29%2C%0A%20%20%20%20%20%20%20%20%20%20%20%20%20%20%20%20%7D%0A%20%20%20%20%20%20%20%20%20%20%20%20%29.addTo%28map_f0453ca49538401ea2902b9d8954580b%29%3B%0A%20%20%20%20%20%20%20%20%0A%20%20%20%20%0A%20%20%20%20%20%20%20%20%20%20%20%20var%20popup_a2e13d3cb1ef43f69096487b1f469177%20%3D%20L.popup%28%7BmaxWidth%3A%20%27100%25%27%0A%20%20%20%20%20%20%20%20%20%20%20%20%0A%20%20%20%20%20%20%20%20%20%20%20%20%7D%29%3B%0A%0A%20%20%20%20%20%20%20%20%20%20%20%20%0A%20%20%20%20%20%20%20%20%20%20%20%20%20%20%20%20var%20html_376ad07e88bb4a9bb48b6759b41ce821%20%3D%20%24%28%60%3Cdiv%20id%3D%22html_376ad07e88bb4a9bb48b6759b41ce821%22%20style%3D%22width%3A%20100.0%25%3B%20height%3A%20100.0%25%3B%22%3EAljunied%20Ave%202%20Blk%20117%20%28Blk%20117%20Aljunied%20Market%20and%20Food%20Centre%29%3C/div%3E%60%29%5B0%5D%3B%0A%20%20%20%20%20%20%20%20%20%20%20%20%20%20%20%20popup_a2e13d3cb1ef43f69096487b1f469177.setContent%28html_376ad07e88bb4a9bb48b6759b41ce821%29%3B%0A%20%20%20%20%20%20%20%20%20%20%20%20%0A%0A%20%20%20%20%20%20%20%20%20%20%20%20marker_f9dbca96548c466babfa2dc05cce920f.bindPopup%28popup_a2e13d3cb1ef43f69096487b1f469177%29%0A%20%20%20%20%20%20%20%20%20%20%20%20%3B%0A%0A%20%20%20%20%20%20%20%20%20%20%20%20%0A%20%20%20%20%20%20%20%20%0A%20%20%20%20%0A%20%20%20%20%20%20%20%20var%20marker_c54ce69934c14e50b07a3be48e91c9dd%20%3D%20L.marker%28%0A%20%20%20%20%20%20%20%20%20%20%20%20%5B1.279129028%2C%20103.84698490000001%5D%2C%0A%20%20%20%20%20%20%20%20%20%20%20%20%7B%0A%20%20%20%20%20%20%20%20%20%20%20%20%20%20%20%20icon%3A%20new%20L.Icon.Default%28%29%2C%0A%20%20%20%20%20%20%20%20%20%20%20%20%20%20%20%20%7D%0A%20%20%20%20%20%20%20%20%20%20%20%20%29.addTo%28map_f0453ca49538401ea2902b9d8954580b%29%3B%0A%20%20%20%20%20%20%20%20%0A%20%20%20%20%0A%20%20%20%20%20%20%20%20%20%20%20%20var%20popup_56a0733ae1cc4877b5781c54718e433f%20%3D%20L.popup%28%7BmaxWidth%3A%20%27100%25%27%0A%20%20%20%20%20%20%20%20%20%20%20%20%0A%20%20%20%20%20%20%20%20%20%20%20%20%7D%29%3B%0A%0A%20%20%20%20%20%20%20%20%20%20%20%20%0A%20%20%20%20%20%20%20%20%20%20%20%20%20%20%20%20var%20html_cf8fcd65396e43a8bb08667301dfb3e0%20%3D%20%24%28%60%3Cdiv%20id%3D%22html_cf8fcd65396e43a8bb08667301dfb3e0%22%20style%3D%22width%3A%20100.0%25%3B%20height%3A%20100.0%25%3B%22%3EAmoy%20Street%20Food%20Centre%20%28Telok%20Ayer%20Food%20Centre%29%3C/div%3E%60%29%5B0%5D%3B%0A%20%20%20%20%20%20%20%20%20%20%20%20%20%20%20%20popup_56a0733ae1cc4877b5781c54718e433f.setContent%28html_cf8fcd65396e43a8bb08667301dfb3e0%29%3B%0A%20%20%20%20%20%20%20%20%20%20%20%20%0A%0A%20%20%20%20%20%20%20%20%20%20%20%20marker_c54ce69934c14e50b07a3be48e91c9dd.bindPopup%28popup_56a0733ae1cc4877b5781c54718e433f%29%0A%20%20%20%20%20%20%20%20%20%20%20%20%3B%0A%0A%20%20%20%20%20%20%20%20%20%20%20%20%0A%20%20%20%20%20%20%20%20%0A%20%20%20%20%0A%20%20%20%20%20%20%20%20var%20marker_d890f1dc70394dddabc9557647eeeb71%20%3D%20L.marker%28%0A%20%20%20%20%20%20%20%20%20%20%20%20%5B1.366950035%2C%20103.83918759999999%5D%2C%0A%20%20%20%20%20%20%20%20%20%20%20%20%7B%0A%20%20%20%20%20%20%20%20%20%20%20%20%20%20%20%20icon%3A%20new%20L.Icon.Default%28%29%2C%0A%20%20%20%20%20%20%20%20%20%20%20%20%20%20%20%20%7D%0A%20%20%20%20%20%20%20%20%20%20%20%20%29.addTo%28map_f0453ca49538401ea2902b9d8954580b%29%3B%0A%20%20%20%20%20%20%20%20%0A%20%20%20%20%0A%20%20%20%20%20%20%20%20%20%20%20%20var%20popup_7914483bc41e4e379d54d42a174de9f3%20%3D%20L.popup%28%7BmaxWidth%3A%20%27100%25%27%0A%20%20%20%20%20%20%20%20%20%20%20%20%0A%20%20%20%20%20%20%20%20%20%20%20%20%7D%29%3B%0A%0A%20%20%20%20%20%20%20%20%20%20%20%20%0A%20%20%20%20%20%20%20%20%20%20%20%20%20%20%20%20var%20html_fed239cac7cb472ba1bb3ce11c6b3e3b%20%3D%20%24%28%60%3Cdiv%20id%3D%22html_fed239cac7cb472ba1bb3ce11c6b3e3b%22%20style%3D%22width%3A%20100.0%25%3B%20height%3A%20100.0%25%3B%22%3EAng%20Mo%20Kio%20Ave%201%20Blk%20226D%20%28Kebun%20Baru%20Market%20and%20Food%20Centre%29%3C/div%3E%60%29%5B0%5D%3B%0A%20%20%20%20%20%20%20%20%20%20%20%20%20%20%20%20popup_7914483bc41e4e379d54d42a174de9f3.setContent%28html_fed239cac7cb472ba1bb3ce11c6b3e3b%29%3B%0A%20%20%20%20%20%20%20%20%20%20%20%20%0A%0A%20%20%20%20%20%20%20%20%20%20%20%20marker_d890f1dc70394dddabc9557647eeeb71.bindPopup%28popup_7914483bc41e4e379d54d42a174de9f3%29%0A%20%20%20%20%20%20%20%20%20%20%20%20%3B%0A%0A%20%20%20%20%20%20%20%20%20%20%20%20%0A%20%20%20%20%20%20%20%20%0A%20%20%20%20%0A%20%20%20%20%20%20%20%20var%20marker_a9f9eb9de38643a79a3232ce03752ea4%20%3D%20L.marker%28%0A%20%20%20%20%20%20%20%20%20%20%20%20%5B1.364169955%2C%20103.84832%5D%2C%0A%20%20%20%20%20%20%20%20%20%20%20%20%7B%0A%20%20%20%20%20%20%20%20%20%20%20%20%20%20%20%20icon%3A%20new%20L.Icon.Default%28%29%2C%0A%20%20%20%20%20%20%20%20%20%20%20%20%20%20%20%20%7D%0A%20%20%20%20%20%20%20%20%20%20%20%20%29.addTo%28map_f0453ca49538401ea2902b9d8954580b%29%3B%0A%20%20%20%20%20%20%20%20%0A%20%20%20%20%0A%20%20%20%20%20%20%20%20%20%20%20%20var%20popup_eacfabc6c640435da67b7be9c044b5c3%20%3D%20L.popup%28%7BmaxWidth%3A%20%27100%25%27%0A%20%20%20%20%20%20%20%20%20%20%20%20%0A%20%20%20%20%20%20%20%20%20%20%20%20%7D%29%3B%0A%0A%20%20%20%20%20%20%20%20%20%20%20%20%0A%20%20%20%20%20%20%20%20%20%20%20%20%20%20%20%20var%20html_bb8bc40610be4384962b8d07b535ac57%20%3D%20%24%28%60%3Cdiv%20id%3D%22html_bb8bc40610be4384962b8d07b535ac57%22%20style%3D%22width%3A%20100.0%25%3B%20height%3A%20100.0%25%3B%22%3EAng%20Mo%20Kio%20Ave%201%20Blk%20341%20%28Teck%20Ghee%20Court%29%3C/div%3E%60%29%5B0%5D%3B%0A%20%20%20%20%20%20%20%20%20%20%20%20%20%20%20%20popup_eacfabc6c640435da67b7be9c044b5c3.setContent%28html_bb8bc40610be4384962b8d07b535ac57%29%3B%0A%20%20%20%20%20%20%20%20%20%20%20%20%0A%0A%20%20%20%20%20%20%20%20%20%20%20%20marker_a9f9eb9de38643a79a3232ce03752ea4.bindPopup%28popup_eacfabc6c640435da67b7be9c044b5c3%29%0A%20%20%20%20%20%20%20%20%20%20%20%20%3B%0A%0A%20%20%20%20%20%20%20%20%20%20%20%20%0A%20%20%20%20%20%20%20%20%0A%20%20%20%20%0A%20%20%20%20%20%20%20%20var%20marker_f9da5429710c498f94ecf88716027e61%20%3D%20L.marker%28%0A%20%20%20%20%20%20%20%20%20%20%20%20%5B1.362730026%2C%20103.8553772%5D%2C%0A%20%20%20%20%20%20%20%20%20%20%20%20%7B%0A%20%20%20%20%20%20%20%20%20%20%20%20%20%20%20%20icon%3A%20new%20L.Icon.Default%28%29%2C%0A%20%20%20%20%20%20%20%20%20%20%20%20%20%20%20%20%7D%0A%20%20%20%20%20%20%20%20%20%20%20%20%29.addTo%28map_f0453ca49538401ea2902b9d8954580b%29%3B%0A%20%20%20%20%20%20%20%20%0A%20%20%20%20%0A%20%20%20%20%20%20%20%20%20%20%20%20var%20popup_cccab361bd784b8cbe98b7ea22708c86%20%3D%20L.popup%28%7BmaxWidth%3A%20%27100%25%27%0A%20%20%20%20%20%20%20%20%20%20%20%20%0A%20%20%20%20%20%20%20%20%20%20%20%20%7D%29%3B%0A%0A%20%20%20%20%20%20%20%20%20%20%20%20%0A%20%20%20%20%20%20%20%20%20%20%20%20%20%20%20%20var%20html_53f014f7a89c4d4dbcb17887836b957b%20%3D%20%24%28%60%3Cdiv%20id%3D%22html_53f014f7a89c4d4dbcb17887836b957b%22%20style%3D%22width%3A%20100.0%25%3B%20height%3A%20100.0%25%3B%22%3EAng%20Mo%20Kio%20Ave%2010%20Blk%20409%20%28Teck%20Ghee%20Square%29%3C/div%3E%60%29%5B0%5D%3B%0A%20%20%20%20%20%20%20%20%20%20%20%20%20%20%20%20popup_cccab361bd784b8cbe98b7ea22708c86.setContent%28html_53f014f7a89c4d4dbcb17887836b957b%29%3B%0A%20%20%20%20%20%20%20%20%20%20%20%20%0A%0A%20%20%20%20%20%20%20%20%20%20%20%20marker_f9da5429710c498f94ecf88716027e61.bindPopup%28popup_cccab361bd784b8cbe98b7ea22708c86%29%0A%20%20%20%20%20%20%20%20%20%20%20%20%3B%0A%0A%20%20%20%20%20%20%20%20%20%20%20%20%0A%20%20%20%20%20%20%20%20%0A%20%20%20%20%0A%20%20%20%20%20%20%20%20var%20marker_b7f12c6904394118bad79c7af84f13d5%20%3D%20L.marker%28%0A%20%20%20%20%20%20%20%20%20%20%20%20%5B1.368299961%2C%20103.8564377%5D%2C%0A%20%20%20%20%20%20%20%20%20%20%20%20%7B%0A%20%20%20%20%20%20%20%20%20%20%20%20%20%20%20%20icon%3A%20new%20L.Icon.Default%28%29%2C%0A%20%20%20%20%20%20%20%20%20%20%20%20%20%20%20%20%7D%0A%20%20%20%20%20%20%20%20%20%20%20%20%29.addTo%28map_f0453ca49538401ea2902b9d8954580b%29%3B%0A%20%20%20%20%20%20%20%20%0A%20%20%20%20%0A%20%20%20%20%20%20%20%20%20%20%20%20var%20popup_0d913d83e7b9462792c7f417d52b04ef%20%3D%20L.popup%28%7BmaxWidth%3A%20%27100%25%27%0A%20%20%20%20%20%20%20%20%20%20%20%20%0A%20%20%20%20%20%20%20%20%20%20%20%20%7D%29%3B%0A%0A%20%20%20%20%20%20%20%20%20%20%20%20%0A%20%20%20%20%20%20%20%20%20%20%20%20%20%20%20%20var%20html_ed3a56e91c24417f84835a904aea30a2%20%3D%20%24%28%60%3Cdiv%20id%3D%22html_ed3a56e91c24417f84835a904aea30a2%22%20style%3D%22width%3A%20100.0%25%3B%20height%3A%20100.0%25%3B%22%3EAng%20Mo%20Kio%20Ave%2010%20Blk%20453A%20%28Chong%20Boon%20Market%20and%20Food%20Centre%29%3C/div%3E%60%29%5B0%5D%3B%0A%20%20%20%20%20%20%20%20%20%20%20%20%20%20%20%20popup_0d913d83e7b9462792c7f417d52b04ef.setContent%28html_ed3a56e91c24417f84835a904aea30a2%29%3B%0A%20%20%20%20%20%20%20%20%20%20%20%20%0A%0A%20%20%20%20%20%20%20%20%20%20%20%20marker_b7f12c6904394118bad79c7af84f13d5.bindPopup%28popup_0d913d83e7b9462792c7f417d52b04ef%29%0A%20%20%20%20%20%20%20%20%20%20%20%20%3B%0A%0A%20%20%20%20%20%20%20%20%20%20%20%20%0A%20%20%20%20%20%20%20%20%0A%20%20%20%20%0A%20%20%20%20%20%20%20%20var%20marker_8b4955cf21134aa093882626ebdbe1d3%20%3D%20L.marker%28%0A%20%20%20%20%20%20%20%20%20%20%20%20%5B1.37270999%2C%20103.8544464%5D%2C%0A%20%20%20%20%20%20%20%20%20%20%20%20%7B%0A%20%20%20%20%20%20%20%20%20%20%20%20%20%20%20%20icon%3A%20new%20L.Icon.Default%28%29%2C%0A%20%20%20%20%20%20%20%20%20%20%20%20%20%20%20%20%7D%0A%20%20%20%20%20%20%20%20%20%20%20%20%29.addTo%28map_f0453ca49538401ea2902b9d8954580b%29%3B%0A%20%20%20%20%20%20%20%20%0A%20%20%20%20%0A%20%20%20%20%20%20%20%20%20%20%20%20var%20popup_d00573a9e0634759aac9edc3eade88ae%20%3D%20L.popup%28%7BmaxWidth%3A%20%27100%25%27%0A%20%20%20%20%20%20%20%20%20%20%20%20%0A%20%20%20%20%20%20%20%20%20%20%20%20%7D%29%3B%0A%0A%20%20%20%20%20%20%20%20%20%20%20%20%0A%20%20%20%20%20%20%20%20%20%20%20%20%20%20%20%20var%20html_3d2259c4fb69441bbce132ca9bc708bd%20%3D%20%24%28%60%3Cdiv%20id%3D%22html_3d2259c4fb69441bbce132ca9bc708bd%22%20style%3D%22width%3A%20100.0%25%3B%20height%3A%20100.0%25%3B%22%3EAng%20Mo%20Kio%20Ave%2010%20Blk%20527%20%28Cheng%20San%20Market%20and%20Cooked%20Food%20Centre%29%3C/div%3E%60%29%5B0%5D%3B%0A%20%20%20%20%20%20%20%20%20%20%20%20%20%20%20%20popup_d00573a9e0634759aac9edc3eade88ae.setContent%28html_3d2259c4fb69441bbce132ca9bc708bd%29%3B%0A%20%20%20%20%20%20%20%20%20%20%20%20%0A%0A%20%20%20%20%20%20%20%20%20%20%20%20marker_8b4955cf21134aa093882626ebdbe1d3.bindPopup%28popup_d00573a9e0634759aac9edc3eade88ae%29%0A%20%20%20%20%20%20%20%20%20%20%20%20%3B%0A%0A%20%20%20%20%20%20%20%20%20%20%20%20%0A%20%20%20%20%20%20%20%20%0A%20%20%20%20%0A%20%20%20%20%20%20%20%20var%20marker_75c4408496f1492ebc56d05f81f77c3a%20%3D%20L.marker%28%0A%20%20%20%20%20%20%20%20%20%20%20%20%5B1.3746000530000002%2C%20103.839241%5D%2C%0A%20%20%20%20%20%20%20%20%20%20%20%20%7B%0A%20%20%20%20%20%20%20%20%20%20%20%20%20%20%20%20icon%3A%20new%20L.Icon.Default%28%29%2C%0A%20%20%20%20%20%20%20%20%20%20%20%20%20%20%20%20%7D%0A%20%20%20%20%20%20%20%20%20%20%20%20%29.addTo%28map_f0453ca49538401ea2902b9d8954580b%29%3B%0A%20%20%20%20%20%20%20%20%0A%20%20%20%20%0A%20%20%20%20%20%20%20%20%20%20%20%20var%20popup_2218530c12dd45edb14c72f75013c63f%20%3D%20L.popup%28%7BmaxWidth%3A%20%27100%25%27%0A%20%20%20%20%20%20%20%20%20%20%20%20%0A%20%20%20%20%20%20%20%20%20%20%20%20%7D%29%3B%0A%0A%20%20%20%20%20%20%20%20%20%20%20%20%0A%20%20%20%20%20%20%20%20%20%20%20%20%20%20%20%20var%20html_d5122c518ef14ff9ac9a5655fa3e9535%20%3D%20%24%28%60%3Cdiv%20id%3D%22html_d5122c518ef14ff9ac9a5655fa3e9535%22%20style%3D%22width%3A%20100.0%25%3B%20height%3A%20100.0%25%3B%22%3EAng%20Mo%20Kio%20Ave%204%20Blk%20160/162%20%28Mayflower%20Market%29%3C/div%3E%60%29%5B0%5D%3B%0A%20%20%20%20%20%20%20%20%20%20%20%20%20%20%20%20popup_2218530c12dd45edb14c72f75013c63f.setContent%28html_d5122c518ef14ff9ac9a5655fa3e9535%29%3B%0A%20%20%20%20%20%20%20%20%20%20%20%20%0A%0A%20%20%20%20%20%20%20%20%20%20%20%20marker_75c4408496f1492ebc56d05f81f77c3a.bindPopup%28popup_2218530c12dd45edb14c72f75013c63f%29%0A%20%20%20%20%20%20%20%20%20%20%20%20%3B%0A%0A%20%20%20%20%20%20%20%20%20%20%20%20%0A%20%20%20%20%20%20%20%20%0A%20%20%20%20%0A%20%20%20%20%20%20%20%20var%20marker_e114616c5f1044ab8a4a802f94d8096e%20%3D%20L.marker%28%0A%20%20%20%20%20%20%20%20%20%20%20%20%5B1.38066268%2C%20103.84075159999999%5D%2C%0A%20%20%20%20%20%20%20%20%20%20%20%20%7B%0A%20%20%20%20%20%20%20%20%20%20%20%20%20%20%20%20icon%3A%20new%20L.Icon.Default%28%29%2C%0A%20%20%20%20%20%20%20%20%20%20%20%20%20%20%20%20%7D%0A%20%20%20%20%20%20%20%20%20%20%20%20%29.addTo%28map_f0453ca49538401ea2902b9d8954580b%29%3B%0A%20%20%20%20%20%20%20%20%0A%20%20%20%20%0A%20%20%20%20%20%20%20%20%20%20%20%20var%20popup_58c27e883fc04b2090925c14b6736507%20%3D%20L.popup%28%7BmaxWidth%3A%20%27100%25%27%0A%20%20%20%20%20%20%20%20%20%20%20%20%0A%20%20%20%20%20%20%20%20%20%20%20%20%7D%29%3B%0A%0A%20%20%20%20%20%20%20%20%20%20%20%20%0A%20%20%20%20%20%20%20%20%20%20%20%20%20%20%20%20var%20html_264830644f44424ba50db17bebf4792f%20%3D%20%24%28%60%3Cdiv%20id%3D%22html_264830644f44424ba50db17bebf4792f%22%20style%3D%22width%3A%20100.0%25%3B%20height%3A%20100.0%25%3B%22%3EAng%20Mo%20Kio%20Ave%204%20Blk%20628%20%28Ang%20Mo%20Kio%20628%20Market%29%3C/div%3E%60%29%5B0%5D%3B%0A%20%20%20%20%20%20%20%20%20%20%20%20%20%20%20%20popup_58c27e883fc04b2090925c14b6736507.setContent%28html_264830644f44424ba50db17bebf4792f%29%3B%0A%20%20%20%20%20%20%20%20%20%20%20%20%0A%0A%20%20%20%20%20%20%20%20%20%20%20%20marker_e114616c5f1044ab8a4a802f94d8096e.bindPopup%28popup_58c27e883fc04b2090925c14b6736507%29%0A%20%20%20%20%20%20%20%20%20%20%20%20%3B%0A%0A%20%20%20%20%20%20%20%20%20%20%20%20%0A%20%20%20%20%20%20%20%20%0A%20%20%20%20%0A%20%20%20%20%20%20%20%20var%20marker_2b7bba5171ca40d98266f1e3ff2cb6ea%20%3D%20L.marker%28%0A%20%20%20%20%20%20%20%20%20%20%20%20%5B1.3720400330000002%2C%20103.8464966%5D%2C%0A%20%20%20%20%20%20%20%20%20%20%20%20%7B%0A%20%20%20%20%20%20%20%20%20%20%20%20%20%20%20%20icon%3A%20new%20L.Icon.Default%28%29%2C%0A%20%20%20%20%20%20%20%20%20%20%20%20%20%20%20%20%7D%0A%20%20%20%20%20%20%20%20%20%20%20%20%29.addTo%28map_f0453ca49538401ea2902b9d8954580b%29%3B%0A%20%20%20%20%20%20%20%20%0A%20%20%20%20%0A%20%20%20%20%20%20%20%20%20%20%20%20var%20popup_6dc7a7daec0149cd8f60fc45dc2135ed%20%3D%20L.popup%28%7BmaxWidth%3A%20%27100%25%27%0A%20%20%20%20%20%20%20%20%20%20%20%20%0A%20%20%20%20%20%20%20%20%20%20%20%20%7D%29%3B%0A%0A%20%20%20%20%20%20%20%20%20%20%20%20%0A%20%20%20%20%20%20%20%20%20%20%20%20%20%20%20%20var%20html_a385d4e74e3b401ba311b34f6f834e4e%20%3D%20%24%28%60%3Cdiv%20id%3D%22html_a385d4e74e3b401ba311b34f6f834e4e%22%20style%3D%22width%3A%20100.0%25%3B%20height%3A%20100.0%25%3B%22%3EAng%20Mo%20Kio%20Ave%206%20Blk%20724%20%28Blk%20724%20Ang%20Mo%20Kio%20Market%29%3C/div%3E%60%29%5B0%5D%3B%0A%20%20%20%20%20%20%20%20%20%20%20%20%20%20%20%20popup_6dc7a7daec0149cd8f60fc45dc2135ed.setContent%28html_a385d4e74e3b401ba311b34f6f834e4e%29%3B%0A%20%20%20%20%20%20%20%20%20%20%20%20%0A%0A%20%20%20%20%20%20%20%20%20%20%20%20marker_2b7bba5171ca40d98266f1e3ff2cb6ea.bindPopup%28popup_6dc7a7daec0149cd8f60fc45dc2135ed%29%0A%20%20%20%20%20%20%20%20%20%20%20%20%3B%0A%0A%20%20%20%20%20%20%20%20%20%20%20%20%0A%20%20%20%20%20%20%20%20%0A%20%20%20%20%0A%20%20%20%20%20%20%20%20var%20marker_533e51e729f7493e890fa27a1facade6%20%3D%20L.marker%28%0A%20%20%20%20%20%20%20%20%20%20%20%20%5B1.367266059%2C%20103.8399429%5D%2C%0A%20%20%20%20%20%20%20%20%20%20%20%20%7B%0A%20%20%20%20%20%20%20%20%20%20%20%20%20%20%20%20icon%3A%20new%20L.Icon.Default%28%29%2C%0A%20%20%20%20%20%20%20%20%20%20%20%20%20%20%20%20%7D%0A%20%20%20%20%20%20%20%20%20%20%20%20%29.addTo%28map_f0453ca49538401ea2902b9d8954580b%29%3B%0A%20%20%20%20%20%20%20%20%0A%20%20%20%20%0A%20%20%20%20%20%20%20%20%20%20%20%20var%20popup_d0b1ff813d314de2b188a2ff11dbc55a%20%3D%20L.popup%28%7BmaxWidth%3A%20%27100%25%27%0A%20%20%20%20%20%20%20%20%20%20%20%20%0A%20%20%20%20%20%20%20%20%20%20%20%20%7D%29%3B%0A%0A%20%20%20%20%20%20%20%20%20%20%20%20%0A%20%20%20%20%20%20%20%20%20%20%20%20%20%20%20%20var%20html_0777ff6a2dfb4ed28619959c75872703%20%3D%20%24%28%60%3Cdiv%20id%3D%22html_0777ff6a2dfb4ed28619959c75872703%22%20style%3D%22width%3A%20100.0%25%3B%20height%3A%20100.0%25%3B%22%3EAng%20Mo%20Kio%20Street%2022%20Blk%20226H%20%28Kebun%20Baru%20Food%20Centre%29%3C/div%3E%60%29%5B0%5D%3B%0A%20%20%20%20%20%20%20%20%20%20%20%20%20%20%20%20popup_d0b1ff813d314de2b188a2ff11dbc55a.setContent%28html_0777ff6a2dfb4ed28619959c75872703%29%3B%0A%20%20%20%20%20%20%20%20%20%20%20%20%0A%0A%20%20%20%20%20%20%20%20%20%20%20%20marker_533e51e729f7493e890fa27a1facade6.bindPopup%28popup_d0b1ff813d314de2b188a2ff11dbc55a%29%0A%20%20%20%20%20%20%20%20%20%20%20%20%3B%0A%0A%20%20%20%20%20%20%20%20%20%20%20%20%0A%20%20%20%20%20%20%20%20%0A%20%20%20%20%0A%20%20%20%20%20%20%20%20var%20marker_f0f601f3ce444b5893c620c738dbadb2%20%3D%20L.marker%28%0A%20%20%20%20%20%20%20%20%20%20%20%20%5B1.320353031%2C%20103.95547490000001%5D%2C%0A%20%20%20%20%20%20%20%20%20%20%20%20%7B%0A%20%20%20%20%20%20%20%20%20%20%20%20%20%20%20%20icon%3A%20new%20L.Icon.Default%28%29%2C%0A%20%20%20%20%20%20%20%20%20%20%20%20%20%20%20%20%7D%0A%20%20%20%20%20%20%20%20%20%20%20%20%29.addTo%28map_f0453ca49538401ea2902b9d8954580b%29%3B%0A%20%20%20%20%20%20%20%20%0A%20%20%20%20%0A%20%20%20%20%20%20%20%20%20%20%20%20var%20popup_ac7232d0b51c499daebfa5b0efa6c427%20%3D%20L.popup%28%7BmaxWidth%3A%20%27100%25%27%0A%20%20%20%20%20%20%20%20%20%20%20%20%0A%20%20%20%20%20%20%20%20%20%20%20%20%7D%29%3B%0A%0A%20%20%20%20%20%20%20%20%20%20%20%20%0A%20%20%20%20%20%20%20%20%20%20%20%20%20%20%20%20var%20html_97c8af8ca12c487481abf28e89fab626%20%3D%20%24%28%60%3Cdiv%20id%3D%22html_97c8af8ca12c487481abf28e89fab626%22%20style%3D%22width%3A%20100.0%25%3B%20height%3A%20100.0%25%3B%22%3EBedok%20Food%20Centre%3C/div%3E%60%29%5B0%5D%3B%0A%20%20%20%20%20%20%20%20%20%20%20%20%20%20%20%20popup_ac7232d0b51c499daebfa5b0efa6c427.setContent%28html_97c8af8ca12c487481abf28e89fab626%29%3B%0A%20%20%20%20%20%20%20%20%20%20%20%20%0A%0A%20%20%20%20%20%20%20%20%20%20%20%20marker_f0f601f3ce444b5893c620c738dbadb2.bindPopup%28popup_ac7232d0b51c499daebfa5b0efa6c427%29%0A%20%20%20%20%20%20%20%20%20%20%20%20%3B%0A%0A%20%20%20%20%20%20%20%20%20%20%20%20%0A%20%20%20%20%20%20%20%20%0A%20%20%20%20%0A%20%20%20%20%20%20%20%20var%20marker_ef548d4dd3244903926e07c6d31a7081%20%3D%20L.marker%28%0A%20%20%20%20%20%20%20%20%20%20%20%20%5B1.327119946%2C%20103.9332962%5D%2C%0A%20%20%20%20%20%20%20%20%20%20%20%20%7B%0A%20%20%20%20%20%20%20%20%20%20%20%20%20%20%20%20icon%3A%20new%20L.Icon.Default%28%29%2C%0A%20%20%20%20%20%20%20%20%20%20%20%20%20%20%20%20%7D%0A%20%20%20%20%20%20%20%20%20%20%20%20%29.addTo%28map_f0453ca49538401ea2902b9d8954580b%29%3B%0A%20%20%20%20%20%20%20%20%0A%20%20%20%20%0A%20%20%20%20%20%20%20%20%20%20%20%20var%20popup_90668bd4998646daa3993d189faa34fc%20%3D%20L.popup%28%7BmaxWidth%3A%20%27100%25%27%0A%20%20%20%20%20%20%20%20%20%20%20%20%0A%20%20%20%20%20%20%20%20%20%20%20%20%7D%29%3B%0A%0A%20%20%20%20%20%20%20%20%20%20%20%20%0A%20%20%20%20%20%20%20%20%20%20%20%20%20%20%20%20var%20html_cd23c0b56eae4b3bb4d93df2eca49aa8%20%3D%20%24%28%60%3Cdiv%20id%3D%22html_cd23c0b56eae4b3bb4d93df2eca49aa8%22%20style%3D%22width%3A%20100.0%25%3B%20height%3A%20100.0%25%3B%22%3EBedok%20North%20Street%201%20Blk%20216%3C/div%3E%60%29%5B0%5D%3B%0A%20%20%20%20%20%20%20%20%20%20%20%20%20%20%20%20popup_90668bd4998646daa3993d189faa34fc.setContent%28html_cd23c0b56eae4b3bb4d93df2eca49aa8%29%3B%0A%20%20%20%20%20%20%20%20%20%20%20%20%0A%0A%20%20%20%20%20%20%20%20%20%20%20%20marker_ef548d4dd3244903926e07c6d31a7081.bindPopup%28popup_90668bd4998646daa3993d189faa34fc%29%0A%20%20%20%20%20%20%20%20%20%20%20%20%3B%0A%0A%20%20%20%20%20%20%20%20%20%20%20%20%0A%20%20%20%20%20%20%20%20%0A%20%20%20%20%0A%20%20%20%20%20%20%20%20var%20marker_384425dc391f4d9291504d59152044c1%20%3D%20L.marker%28%0A%20%20%20%20%20%20%20%20%20%20%20%20%5B1.333310008%2C%20103.930687%5D%2C%0A%20%20%20%20%20%20%20%20%20%20%20%20%7B%0A%20%20%20%20%20%20%20%20%20%20%20%20%20%20%20%20icon%3A%20new%20L.Icon.Default%28%29%2C%0A%20%20%20%20%20%20%20%20%20%20%20%20%20%20%20%20%7D%0A%20%20%20%20%20%20%20%20%20%20%20%20%29.addTo%28map_f0453ca49538401ea2902b9d8954580b%29%3B%0A%20%20%20%20%20%20%20%20%0A%20%20%20%20%0A%20%20%20%20%20%20%20%20%20%20%20%20var%20popup_a61bab0942ba49b5841ea5e61e648d5c%20%3D%20L.popup%28%7BmaxWidth%3A%20%27100%25%27%0A%20%20%20%20%20%20%20%20%20%20%20%20%0A%20%20%20%20%20%20%20%20%20%20%20%20%7D%29%3B%0A%0A%20%20%20%20%20%20%20%20%20%20%20%20%0A%20%20%20%20%20%20%20%20%20%20%20%20%20%20%20%20var%20html_9b6fb3620d424f72aeb5a2658aca8bfc%20%3D%20%24%28%60%3Cdiv%20id%3D%22html_9b6fb3620d424f72aeb5a2658aca8bfc%22%20style%3D%22width%3A%20100.0%25%3B%20height%3A%20100.0%25%3B%22%3EBedok%20North%20Street%203%20Blk%20511%20%28Kaki%20Bukit%20511%20Market%20and%20Food%20Centre%29%3C/div%3E%60%29%5B0%5D%3B%0A%20%20%20%20%20%20%20%20%20%20%20%20%20%20%20%20popup_a61bab0942ba49b5841ea5e61e648d5c.setContent%28html_9b6fb3620d424f72aeb5a2658aca8bfc%29%3B%0A%20%20%20%20%20%20%20%20%20%20%20%20%0A%0A%20%20%20%20%20%20%20%20%20%20%20%20marker_384425dc391f4d9291504d59152044c1.bindPopup%28popup_a61bab0942ba49b5841ea5e61e648d5c%29%0A%20%20%20%20%20%20%20%20%20%20%20%20%3B%0A%0A%20%20%20%20%20%20%20%20%20%20%20%20%0A%20%20%20%20%20%20%20%20%0A%20%20%20%20%0A%20%20%20%20%20%20%20%20var%20marker_802f9cd3310a4993b4484b98cff1f798%20%3D%20L.marker%28%0A%20%20%20%20%20%20%20%20%20%20%20%20%5B1.332100034%2C%20103.9247208%5D%2C%0A%20%20%20%20%20%20%20%20%20%20%20%20%7B%0A%20%20%20%20%20%20%20%20%20%20%20%20%20%20%20%20icon%3A%20new%20L.Icon.Default%28%29%2C%0A%20%20%20%20%20%20%20%20%20%20%20%20%20%20%20%20%7D%0A%20%20%20%20%20%20%20%20%20%20%20%20%29.addTo%28map_f0453ca49538401ea2902b9d8954580b%29%3B%0A%20%20%20%20%20%20%20%20%0A%20%20%20%20%0A%20%20%20%20%20%20%20%20%20%20%20%20var%20popup_bde13cb7298c4d7f8181805f1d875ca8%20%3D%20L.popup%28%7BmaxWidth%3A%20%27100%25%27%0A%20%20%20%20%20%20%20%20%20%20%20%20%0A%20%20%20%20%20%20%20%20%20%20%20%20%7D%29%3B%0A%0A%20%20%20%20%20%20%20%20%20%20%20%20%0A%20%20%20%20%20%20%20%20%20%20%20%20%20%20%20%20var%20html_00a6727b38e14f7097ddbd160453f5a0%20%3D%20%24%28%60%3Cdiv%20id%3D%22html_00a6727b38e14f7097ddbd160453f5a0%22%20style%3D%22width%3A%20100.0%25%3B%20height%3A%20100.0%25%3B%22%3EBedok%20North%20Street%203%20Blk%20538%3C/div%3E%60%29%5B0%5D%3B%0A%20%20%20%20%20%20%20%20%20%20%20%20%20%20%20%20popup_bde13cb7298c4d7f8181805f1d875ca8.setContent%28html_00a6727b38e14f7097ddbd160453f5a0%29%3B%0A%20%20%20%20%20%20%20%20%20%20%20%20%0A%0A%20%20%20%20%20%20%20%20%20%20%20%20marker_802f9cd3310a4993b4484b98cff1f798.bindPopup%28popup_bde13cb7298c4d7f8181805f1d875ca8%29%0A%20%20%20%20%20%20%20%20%20%20%20%20%3B%0A%0A%20%20%20%20%20%20%20%20%20%20%20%20%0A%20%20%20%20%20%20%20%20%0A%20%20%20%20%0A%20%20%20%20%20%20%20%20var%20marker_b3a677c4a03c42fbaa452a9c6ac5631b%20%3D%20L.marker%28%0A%20%20%20%20%20%20%20%20%20%20%20%20%5B1.332059979%2C%20103.9388123%5D%2C%0A%20%20%20%20%20%20%20%20%20%20%20%20%7B%0A%20%20%20%20%20%20%20%20%20%20%20%20%20%20%20%20icon%3A%20new%20L.Icon.Default%28%29%2C%0A%20%20%20%20%20%20%20%20%20%20%20%20%20%20%20%20%7D%0A%20%20%20%20%20%20%20%20%20%20%20%20%29.addTo%28map_f0453ca49538401ea2902b9d8954580b%29%3B%0A%20%20%20%20%20%20%20%20%0A%20%20%20%20%0A%20%20%20%20%20%20%20%20%20%20%20%20var%20popup_fa8efdad06a646c284cc4d15fc0a7cbd%20%3D%20L.popup%28%7BmaxWidth%3A%20%27100%25%27%0A%20%20%20%20%20%20%20%20%20%20%20%20%0A%20%20%20%20%20%20%20%20%20%20%20%20%7D%29%3B%0A%0A%20%20%20%20%20%20%20%20%20%20%20%20%0A%20%20%20%20%20%20%20%20%20%20%20%20%20%20%20%20var%20html_a2b719122d0c41cda175115d21d64416%20%3D%20%24%28%60%3Cdiv%20id%3D%22html_a2b719122d0c41cda175115d21d64416%22%20style%3D%22width%3A%20100.0%25%3B%20height%3A%20100.0%25%3B%22%3EBedok%20North%20Street%204%20Blk%2085%20%2885%20Fengshan%20Centre%29%3C/div%3E%60%29%5B0%5D%3B%0A%20%20%20%20%20%20%20%20%20%20%20%20%20%20%20%20popup_fa8efdad06a646c284cc4d15fc0a7cbd.setContent%28html_a2b719122d0c41cda175115d21d64416%29%3B%0A%20%20%20%20%20%20%20%20%20%20%20%20%0A%0A%20%20%20%20%20%20%20%20%20%20%20%20marker_b3a677c4a03c42fbaa452a9c6ac5631b.bindPopup%28popup_fa8efdad06a646c284cc4d15fc0a7cbd%29%0A%20%20%20%20%20%20%20%20%20%20%20%20%3B%0A%0A%20%20%20%20%20%20%20%20%20%20%20%20%0A%20%20%20%20%20%20%20%20%0A%20%20%20%20%0A%20%20%20%20%20%20%20%20var%20marker_417a17749f7c493a905ac78efea9709b%20%3D%20L.marker%28%0A%20%20%20%20%20%20%20%20%20%20%20%20%5B1.332980037%2C%20103.91420749999999%5D%2C%0A%20%20%20%20%20%20%20%20%20%20%20%20%7B%0A%20%20%20%20%20%20%20%20%20%20%20%20%20%20%20%20icon%3A%20new%20L.Icon.Default%28%29%2C%0A%20%20%20%20%20%20%20%20%20%20%20%20%20%20%20%20%7D%0A%20%20%20%20%20%20%20%20%20%20%20%20%29.addTo%28map_f0453ca49538401ea2902b9d8954580b%29%3B%0A%20%20%20%20%20%20%20%20%0A%20%20%20%20%0A%20%20%20%20%20%20%20%20%20%20%20%20var%20popup_d761518b9fec45ef93da44e3cffeb27d%20%3D%20L.popup%28%7BmaxWidth%3A%20%27100%25%27%0A%20%20%20%20%20%20%20%20%20%20%20%20%0A%20%20%20%20%20%20%20%20%20%20%20%20%7D%29%3B%0A%0A%20%20%20%20%20%20%20%20%20%20%20%20%0A%20%20%20%20%20%20%20%20%20%20%20%20%20%20%20%20var%20html_253341d21cef4112b63c93d3dc8da865%20%3D%20%24%28%60%3Cdiv%20id%3D%22html_253341d21cef4112b63c93d3dc8da865%22%20style%3D%22width%3A%20100.0%25%3B%20height%3A%20100.0%25%3B%22%3EBedok%20Reservoir%20Road%20Blk%20630%3C/div%3E%60%29%5B0%5D%3B%0A%20%20%20%20%20%20%20%20%20%20%20%20%20%20%20%20popup_d761518b9fec45ef93da44e3cffeb27d.setContent%28html_253341d21cef4112b63c93d3dc8da865%29%3B%0A%20%20%20%20%20%20%20%20%20%20%20%20%0A%0A%20%20%20%20%20%20%20%20%20%20%20%20marker_417a17749f7c493a905ac78efea9709b.bindPopup%28popup_d761518b9fec45ef93da44e3cffeb27d%29%0A%20%20%20%20%20%20%20%20%20%20%20%20%3B%0A%0A%20%20%20%20%20%20%20%20%20%20%20%20%0A%20%20%20%20%20%20%20%20%0A%20%20%20%20%0A%20%20%20%20%20%20%20%20var%20marker_c75df4cc31334042835c1c9747a2568b%20%3D%20L.marker%28%0A%20%20%20%20%20%20%20%20%20%20%20%20%5B1.320559978%2C%20103.9355469%5D%2C%0A%20%20%20%20%20%20%20%20%20%20%20%20%7B%0A%20%20%20%20%20%20%20%20%20%20%20%20%20%20%20%20icon%3A%20new%20L.Icon.Default%28%29%2C%0A%20%20%20%20%20%20%20%20%20%20%20%20%20%20%20%20%7D%0A%20%20%20%20%20%20%20%20%20%20%20%20%29.addTo%28map_f0453ca49538401ea2902b9d8954580b%29%3B%0A%20%20%20%20%20%20%20%20%0A%20%20%20%20%0A%20%20%20%20%20%20%20%20%20%20%20%20var%20popup_0d0a16b964374fd9a923360e11f1cca4%20%3D%20L.popup%28%7BmaxWidth%3A%20%27100%25%27%0A%20%20%20%20%20%20%20%20%20%20%20%20%0A%20%20%20%20%20%20%20%20%20%20%20%20%7D%29%3B%0A%0A%20%20%20%20%20%20%20%20%20%20%20%20%0A%20%20%20%20%20%20%20%20%20%20%20%20%20%20%20%20var%20html_f6f458d867444f91b36cc52eddac7138%20%3D%20%24%28%60%3Cdiv%20id%3D%22html_f6f458d867444f91b36cc52eddac7138%22%20style%3D%22width%3A%20100.0%25%3B%20height%3A%20100.0%25%3B%22%3EBedok%20South%20Road%20Blk%2016%3C/div%3E%60%29%5B0%5D%3B%0A%20%20%20%20%20%20%20%20%20%20%20%20%20%20%20%20popup_0d0a16b964374fd9a923360e11f1cca4.setContent%28html_f6f458d867444f91b36cc52eddac7138%29%3B%0A%20%20%20%20%20%20%20%20%20%20%20%20%0A%0A%20%20%20%20%20%20%20%20%20%20%20%20marker_c75df4cc31334042835c1c9747a2568b.bindPopup%28popup_0d0a16b964374fd9a923360e11f1cca4%29%0A%20%20%20%20%20%20%20%20%20%20%20%20%3B%0A%0A%20%20%20%20%20%20%20%20%20%20%20%20%0A%20%20%20%20%20%20%20%20%0A%20%20%20%20%0A%20%20%20%20%20%20%20%20var%20marker_c9a953e363914089a47c52f7a4eed168%20%3D%20L.marker%28%0A%20%20%20%20%20%20%20%20%20%20%20%20%5B1.3192800279999999%2C%20103.8630905%5D%2C%0A%20%20%20%20%20%20%20%20%20%20%20%20%7B%0A%20%20%20%20%20%20%20%20%20%20%20%20%20%20%20%20icon%3A%20new%20L.Icon.Default%28%29%2C%0A%20%20%20%20%20%20%20%20%20%20%20%20%20%20%20%20%7D%0A%20%20%20%20%20%20%20%20%20%20%20%20%29.addTo%28map_f0453ca49538401ea2902b9d8954580b%29%3B%0A%20%20%20%20%20%20%20%20%0A%20%20%20%20%0A%20%20%20%20%20%20%20%20%20%20%20%20var%20popup_dd7e6354b466496eb1af49750ac012c1%20%3D%20L.popup%28%7BmaxWidth%3A%20%27100%25%27%0A%20%20%20%20%20%20%20%20%20%20%20%20%0A%20%20%20%20%20%20%20%20%20%20%20%20%7D%29%3B%0A%0A%20%20%20%20%20%20%20%20%20%20%20%20%0A%20%20%20%20%20%20%20%20%20%20%20%20%20%20%20%20var%20html_46071fa897ee410b8e86829068899cd6%20%3D%20%24%28%60%3Cdiv%20id%3D%22html_46071fa897ee410b8e86829068899cd6%22%20style%3D%22width%3A%20100.0%25%3B%20height%3A%20100.0%25%3B%22%3EBendemeer%20Road%20Blk%2029%20%28Bendemeer%20Market%20and%20Food%20Centre%29%3C/div%3E%60%29%5B0%5D%3B%0A%20%20%20%20%20%20%20%20%20%20%20%20%20%20%20%20popup_dd7e6354b466496eb1af49750ac012c1.setContent%28html_46071fa897ee410b8e86829068899cd6%29%3B%0A%20%20%20%20%20%20%20%20%20%20%20%20%0A%0A%20%20%20%20%20%20%20%20%20%20%20%20marker_c9a953e363914089a47c52f7a4eed168.bindPopup%28popup_dd7e6354b466496eb1af49750ac012c1%29%0A%20%20%20%20%20%20%20%20%20%20%20%20%3B%0A%0A%20%20%20%20%20%20%20%20%20%20%20%20%0A%20%20%20%20%20%20%20%20%0A%20%20%20%20%0A%20%20%20%20%20%20%20%20var%20marker_c481e00a2d79407192cd0b39bb5aa1d4%20%3D%20L.marker%28%0A%20%20%20%20%20%20%20%20%20%20%20%20%5B1.28848803%2C%20103.82724759999999%5D%2C%0A%20%20%20%20%20%20%20%20%20%20%20%20%7B%0A%20%20%20%20%20%20%20%20%20%20%20%20%20%20%20%20icon%3A%20new%20L.Icon.Default%28%29%2C%0A%20%20%20%20%20%20%20%20%20%20%20%20%20%20%20%20%7D%0A%20%20%20%20%20%20%20%20%20%20%20%20%29.addTo%28map_f0453ca49538401ea2902b9d8954580b%29%3B%0A%20%20%20%20%20%20%20%20%0A%20%20%20%20%0A%20%20%20%20%20%20%20%20%20%20%20%20var%20popup_83f2103d2ed0468bb3b6c9d8403b4c42%20%3D%20L.popup%28%7BmaxWidth%3A%20%27100%25%27%0A%20%20%20%20%20%20%20%20%20%20%20%20%0A%20%20%20%20%20%20%20%20%20%20%20%20%7D%29%3B%0A%0A%20%20%20%20%20%20%20%20%20%20%20%20%0A%20%20%20%20%20%20%20%20%20%20%20%20%20%20%20%20var%20html_15a44982f6ad4cc99e107f02791cabac%20%3D%20%24%28%60%3Cdiv%20id%3D%22html_15a44982f6ad4cc99e107f02791cabac%22%20style%3D%22width%3A%20100.0%25%3B%20height%3A%20100.0%25%3B%22%3EBeo%20Crescent%20Market%3C/div%3E%60%29%5B0%5D%3B%0A%20%20%20%20%20%20%20%20%20%20%20%20%20%20%20%20popup_83f2103d2ed0468bb3b6c9d8403b4c42.setContent%28html_15a44982f6ad4cc99e107f02791cabac%29%3B%0A%20%20%20%20%20%20%20%20%20%20%20%20%0A%0A%20%20%20%20%20%20%20%20%20%20%20%20marker_c481e00a2d79407192cd0b39bb5aa1d4.bindPopup%28popup_83f2103d2ed0468bb3b6c9d8403b4c42%29%0A%20%20%20%20%20%20%20%20%20%20%20%20%3B%0A%0A%20%20%20%20%20%20%20%20%20%20%20%20%0A%20%20%20%20%20%20%20%20%0A%20%20%20%20%0A%20%20%20%20%20%20%20%20var%20marker_a0e89668772c4d21a6bd731c53e9faee%20%3D%20L.marker%28%0A%20%20%20%20%20%20%20%20%20%20%20%20%5B1.3073350190000002%2C%20103.8568497%5D%2C%0A%20%20%20%20%20%20%20%20%20%20%20%20%7B%0A%20%20%20%20%20%20%20%20%20%20%20%20%20%20%20%20icon%3A%20new%20L.Icon.Default%28%29%2C%0A%20%20%20%20%20%20%20%20%20%20%20%20%20%20%20%20%7D%0A%20%20%20%20%20%20%20%20%20%20%20%20%29.addTo%28map_f0453ca49538401ea2902b9d8954580b%29%3B%0A%20%20%20%20%20%20%20%20%0A%20%20%20%20%0A%20%20%20%20%20%20%20%20%20%20%20%20var%20popup_aaf97d0741924f6cb72e5a8d12edf090%20%3D%20L.popup%28%7BmaxWidth%3A%20%27100%25%27%0A%20%20%20%20%20%20%20%20%20%20%20%20%0A%20%20%20%20%20%20%20%20%20%20%20%20%7D%29%3B%0A%0A%20%20%20%20%20%20%20%20%20%20%20%20%0A%20%20%20%20%20%20%20%20%20%20%20%20%20%20%20%20var%20html_29cb5b67e03d4c41994918b611b46aa3%20%3D%20%24%28%60%3Cdiv%20id%3D%22html_29cb5b67e03d4c41994918b611b46aa3%22%20style%3D%22width%3A%20100.0%25%3B%20height%3A%20100.0%25%3B%22%3EBerseh%20Food%20Centre%3C/div%3E%60%29%5B0%5D%3B%0A%20%20%20%20%20%20%20%20%20%20%20%20%20%20%20%20popup_aaf97d0741924f6cb72e5a8d12edf090.setContent%28html_29cb5b67e03d4c41994918b611b46aa3%29%3B%0A%20%20%20%20%20%20%20%20%20%20%20%20%0A%0A%20%20%20%20%20%20%20%20%20%20%20%20marker_a0e89668772c4d21a6bd731c53e9faee.bindPopup%28popup_aaf97d0741924f6cb72e5a8d12edf090%29%0A%20%20%20%20%20%20%20%20%20%20%20%20%3B%0A%0A%20%20%20%20%20%20%20%20%20%20%20%20%0A%20%20%20%20%20%20%20%20%0A%20%20%20%20%0A%20%20%20%20%20%20%20%20var%20marker_38022360f84c474a9ec08874c0e897a9%20%3D%20L.marker%28%0A%20%20%20%20%20%20%20%20%20%20%20%20%5B1.345280051%2C%20103.7128525%5D%2C%0A%20%20%20%20%20%20%20%20%20%20%20%20%7B%0A%20%20%20%20%20%20%20%20%20%20%20%20%20%20%20%20icon%3A%20new%20L.Icon.Default%28%29%2C%0A%20%20%20%20%20%20%20%20%20%20%20%20%20%20%20%20%7D%0A%20%20%20%20%20%20%20%20%20%20%20%20%29.addTo%28map_f0453ca49538401ea2902b9d8954580b%29%3B%0A%20%20%20%20%20%20%20%20%0A%20%20%20%20%0A%20%20%20%20%20%20%20%20%20%20%20%20var%20popup_ec8caaefdaf64df69624aaf374ac9f5e%20%3D%20L.popup%28%7BmaxWidth%3A%20%27100%25%27%0A%20%20%20%20%20%20%20%20%20%20%20%20%0A%20%20%20%20%20%20%20%20%20%20%20%20%7D%29%3B%0A%0A%20%20%20%20%20%20%20%20%20%20%20%20%0A%20%20%20%20%20%20%20%20%20%20%20%20%20%20%20%20var%20html_869bf2410ee5460982c2c124fafebf8c%20%3D%20%24%28%60%3Cdiv%20id%3D%22html_869bf2410ee5460982c2c124fafebf8c%22%20style%3D%22width%3A%20100.0%25%3B%20height%3A%20100.0%25%3B%22%3EBoon%20Lay%20Place%20Blk%20221A/B%20%28Boon%20Lay%20Place%20Market%20and%20Food%20Village%29%3C/div%3E%60%29%5B0%5D%3B%0A%20%20%20%20%20%20%20%20%20%20%20%20%20%20%20%20popup_ec8caaefdaf64df69624aaf374ac9f5e.setContent%28html_869bf2410ee5460982c2c124fafebf8c%29%3B%0A%20%20%20%20%20%20%20%20%20%20%20%20%0A%0A%20%20%20%20%20%20%20%20%20%20%20%20marker_38022360f84c474a9ec08874c0e897a9.bindPopup%28popup_ec8caaefdaf64df69624aaf374ac9f5e%29%0A%20%20%20%20%20%20%20%20%20%20%20%20%3B%0A%0A%20%20%20%20%20%20%20%20%20%20%20%20%0A%20%20%20%20%20%20%20%20%0A%20%20%20%20%0A%20%20%20%20%20%20%20%20var%20marker_06fe35ad6dff4253a3e0f44037e2f86b%20%3D%20L.marker%28%0A%20%20%20%20%20%20%20%20%20%20%20%20%5B1.306190014%2C%20103.8506699%5D%2C%0A%20%20%20%20%20%20%20%20%20%20%20%20%7B%0A%20%20%20%20%20%20%20%20%20%20%20%20%20%20%20%20icon%3A%20new%20L.Icon.Default%28%29%2C%0A%20%20%20%20%20%20%20%20%20%20%20%20%20%20%20%20%7D%0A%20%20%20%20%20%20%20%20%20%20%20%20%29.addTo%28map_f0453ca49538401ea2902b9d8954580b%29%3B%0A%20%20%20%20%20%20%20%20%0A%20%20%20%20%0A%20%20%20%20%20%20%20%20%20%20%20%20var%20popup_0f44d72c9ef64ba8ad78fd755f0e1caa%20%3D%20L.popup%28%7BmaxWidth%3A%20%27100%25%27%0A%20%20%20%20%20%20%20%20%20%20%20%20%0A%20%20%20%20%20%20%20%20%20%20%20%20%7D%29%3B%0A%0A%20%20%20%20%20%20%20%20%20%20%20%20%0A%20%20%20%20%20%20%20%20%20%20%20%20%20%20%20%20var%20html_ea8ca3817cd94e4d9862e513e1538444%20%3D%20%24%28%60%3Cdiv%20id%3D%22html_ea8ca3817cd94e4d9862e513e1538444%22%20style%3D%22width%3A%20100.0%25%3B%20height%3A%20100.0%25%3B%22%3EBuffalo%20Road%20Blk%20665%20%28Tekka%20Centre/Zhu%20Jiao%20Market%29%3C/div%3E%60%29%5B0%5D%3B%0A%20%20%20%20%20%20%20%20%20%20%20%20%20%20%20%20popup_0f44d72c9ef64ba8ad78fd755f0e1caa.setContent%28html_ea8ca3817cd94e4d9862e513e1538444%29%3B%0A%20%20%20%20%20%20%20%20%20%20%20%20%0A%0A%20%20%20%20%20%20%20%20%20%20%20%20marker_06fe35ad6dff4253a3e0f44037e2f86b.bindPopup%28popup_0f44d72c9ef64ba8ad78fd755f0e1caa%29%0A%20%20%20%20%20%20%20%20%20%20%20%20%3B%0A%0A%20%20%20%20%20%20%20%20%20%20%20%20%0A%20%20%20%20%20%20%20%20%0A%20%20%20%20%0A%20%20%20%20%20%20%20%20var%20marker_f72d470c956645ad93ea303e13f243d7%20%3D%20L.marker%28%0A%20%20%20%20%20%20%20%20%20%20%20%20%5B1.283740044%2C%20103.8171082%5D%2C%0A%20%20%20%20%20%20%20%20%20%20%20%20%7B%0A%20%20%20%20%20%20%20%20%20%20%20%20%20%20%20%20icon%3A%20new%20L.Icon.Default%28%29%2C%0A%20%20%20%20%20%20%20%20%20%20%20%20%20%20%20%20%7D%0A%20%20%20%20%20%20%20%20%20%20%20%20%29.addTo%28map_f0453ca49538401ea2902b9d8954580b%29%3B%0A%20%20%20%20%20%20%20%20%0A%20%20%20%20%0A%20%20%20%20%20%20%20%20%20%20%20%20var%20popup_8fca3eb82c8f4e40b5907883a2d34623%20%3D%20L.popup%28%7BmaxWidth%3A%20%27100%25%27%0A%20%20%20%20%20%20%20%20%20%20%20%20%0A%20%20%20%20%20%20%20%20%20%20%20%20%7D%29%3B%0A%0A%20%20%20%20%20%20%20%20%20%20%20%20%0A%20%20%20%20%20%20%20%20%20%20%20%20%20%20%20%20var%20html_a114aab0dea34e7e8e34930e8d8f4fa3%20%3D%20%24%28%60%3Cdiv%20id%3D%22html_a114aab0dea34e7e8e34930e8d8f4fa3%22%20style%3D%22width%3A%20100.0%25%3B%20height%3A%20100.0%25%3B%22%3EBukit%20Merah%20Central%20Blk%20163%20%28Bukit%20Merah%20Central%20Food%20Centre%29%3C/div%3E%60%29%5B0%5D%3B%0A%20%20%20%20%20%20%20%20%20%20%20%20%20%20%20%20popup_8fca3eb82c8f4e40b5907883a2d34623.setContent%28html_a114aab0dea34e7e8e34930e8d8f4fa3%29%3B%0A%20%20%20%20%20%20%20%20%20%20%20%20%0A%0A%20%20%20%20%20%20%20%20%20%20%20%20marker_f72d470c956645ad93ea303e13f243d7.bindPopup%28popup_8fca3eb82c8f4e40b5907883a2d34623%29%0A%20%20%20%20%20%20%20%20%20%20%20%20%3B%0A%0A%20%20%20%20%20%20%20%20%20%20%20%20%0A%20%20%20%20%20%20%20%20%0A%20%20%20%20%0A%20%20%20%20%20%20%20%20var%20marker_1b402f0219aa4756a90678f26ec4c37d%20%3D%20L.marker%28%0A%20%20%20%20%20%20%20%20%20%20%20%20%5B1.286360025%2C%20103.8045502%5D%2C%0A%20%20%20%20%20%20%20%20%20%20%20%20%7B%0A%20%20%20%20%20%20%20%20%20%20%20%20%20%20%20%20icon%3A%20new%20L.Icon.Default%28%29%2C%0A%20%20%20%20%20%20%20%20%20%20%20%20%20%20%20%20%7D%0A%20%20%20%20%20%20%20%20%20%20%20%20%29.addTo%28map_f0453ca49538401ea2902b9d8954580b%29%3B%0A%20%20%20%20%20%20%20%20%0A%20%20%20%20%0A%20%20%20%20%20%20%20%20%20%20%20%20var%20popup_962689680e5f484cb73c1acc9a570fd0%20%3D%20L.popup%28%7BmaxWidth%3A%20%27100%25%27%0A%20%20%20%20%20%20%20%20%20%20%20%20%0A%20%20%20%20%20%20%20%20%20%20%20%20%7D%29%3B%0A%0A%20%20%20%20%20%20%20%20%20%20%20%20%0A%20%20%20%20%20%20%20%20%20%20%20%20%20%20%20%20var%20html_013a1b50b8a942088e207496ff1d8d02%20%3D%20%24%28%60%3Cdiv%20id%3D%22html_013a1b50b8a942088e207496ff1d8d02%22%20style%3D%22width%3A%20100.0%25%3B%20height%3A%20100.0%25%3B%22%3EBukit%20Merah%20Lane%201%20Blk%20120%20%28Alexandra%20Village%20Food%20Centre%29%3C/div%3E%60%29%5B0%5D%3B%0A%20%20%20%20%20%20%20%20%20%20%20%20%20%20%20%20popup_962689680e5f484cb73c1acc9a570fd0.setContent%28html_013a1b50b8a942088e207496ff1d8d02%29%3B%0A%20%20%20%20%20%20%20%20%20%20%20%20%0A%0A%20%20%20%20%20%20%20%20%20%20%20%20marker_1b402f0219aa4756a90678f26ec4c37d.bindPopup%28popup_962689680e5f484cb73c1acc9a570fd0%29%0A%20%20%20%20%20%20%20%20%20%20%20%20%3B%0A%0A%20%20%20%20%20%20%20%20%20%20%20%20%0A%20%20%20%20%20%20%20%20%0A%20%20%20%20%0A%20%20%20%20%20%20%20%20var%20marker_7830976967d3476dac24a436af7fabe4%20%3D%20L.marker%28%0A%20%20%20%20%20%20%20%20%20%20%20%20%5B1.285240054%2C%20103.8223724%5D%2C%0A%20%20%20%20%20%20%20%20%20%20%20%20%7B%0A%20%20%20%20%20%20%20%20%20%20%20%20%20%20%20%20icon%3A%20new%20L.Icon.Default%28%29%2C%0A%20%20%20%20%20%20%20%20%20%20%20%20%20%20%20%20%7D%0A%20%20%20%20%20%20%20%20%20%20%20%20%29.addTo%28map_f0453ca49538401ea2902b9d8954580b%29%3B%0A%20%20%20%20%20%20%20%20%0A%20%20%20%20%0A%20%20%20%20%20%20%20%20%20%20%20%20var%20popup_7d5722e3919c48f99b401079b7358d83%20%3D%20L.popup%28%7BmaxWidth%3A%20%27100%25%27%0A%20%20%20%20%20%20%20%20%20%20%20%20%0A%20%20%20%20%20%20%20%20%20%20%20%20%7D%29%3B%0A%0A%20%20%20%20%20%20%20%20%20%20%20%20%0A%20%20%20%20%20%20%20%20%20%20%20%20%20%20%20%20var%20html_a75f93f6608f4a6882e361c5e0adb551%20%3D%20%24%28%60%3Cdiv%20id%3D%22html_a75f93f6608f4a6882e361c5e0adb551%22%20style%3D%22width%3A%20100.0%25%3B%20height%3A%20100.0%25%3B%22%3EBukit%20Merah%20View%20Blk%20115%20%28Blk%20115%20Bukit%20Merah%20View%20Market%20and%20Food%20Centre%29%3C/div%3E%60%29%5B0%5D%3B%0A%20%20%20%20%20%20%20%20%20%20%20%20%20%20%20%20popup_7d5722e3919c48f99b401079b7358d83.setContent%28html_a75f93f6608f4a6882e361c5e0adb551%29%3B%0A%20%20%20%20%20%20%20%20%20%20%20%20%0A%0A%20%20%20%20%20%20%20%20%20%20%20%20marker_7830976967d3476dac24a436af7fabe4.bindPopup%28popup_7d5722e3919c48f99b401079b7358d83%29%0A%20%20%20%20%20%20%20%20%20%20%20%20%3B%0A%0A%20%20%20%20%20%20%20%20%20%20%20%20%0A%20%20%20%20%20%20%20%20%0A%20%20%20%20%0A%20%20%20%20%20%20%20%20var%20marker_bb9c62a964fe4875bd877de74b74dc87%20%3D%20L.marker%28%0A%20%20%20%20%20%20%20%20%20%20%20%20%5B1.378269%2C%20103.772432%5D%2C%0A%20%20%20%20%20%20%20%20%20%20%20%20%7B%0A%20%20%20%20%20%20%20%20%20%20%20%20%20%20%20%20icon%3A%20new%20L.Icon.Default%28%29%2C%0A%20%20%20%20%20%20%20%20%20%20%20%20%20%20%20%20%7D%0A%20%20%20%20%20%20%20%20%20%20%20%20%29.addTo%28map_f0453ca49538401ea2902b9d8954580b%29%3B%0A%20%20%20%20%20%20%20%20%0A%20%20%20%20%0A%20%20%20%20%20%20%20%20%20%20%20%20var%20popup_7189e439eaea47aea7645ced9a71afb7%20%3D%20L.popup%28%7BmaxWidth%3A%20%27100%25%27%0A%20%20%20%20%20%20%20%20%20%20%20%20%0A%20%20%20%20%20%20%20%20%20%20%20%20%7D%29%3B%0A%0A%20%20%20%20%20%20%20%20%20%20%20%20%0A%20%20%20%20%20%20%20%20%20%20%20%20%20%20%20%20var%20html_a762cd5b46a349d68dff8c8d074a823a%20%3D%20%24%28%60%3Cdiv%20id%3D%22html_a762cd5b46a349d68dff8c8d074a823a%22%20style%3D%22width%3A%20100.0%25%3B%20height%3A%20100.0%25%3B%22%3EBukit%20Panjang%20Hawker%20Centre%20and%20Market%3C/div%3E%60%29%5B0%5D%3B%0A%20%20%20%20%20%20%20%20%20%20%20%20%20%20%20%20popup_7189e439eaea47aea7645ced9a71afb7.setContent%28html_a762cd5b46a349d68dff8c8d074a823a%29%3B%0A%20%20%20%20%20%20%20%20%20%20%20%20%0A%0A%20%20%20%20%20%20%20%20%20%20%20%20marker_bb9c62a964fe4875bd877de74b74dc87.bindPopup%28popup_7189e439eaea47aea7645ced9a71afb7%29%0A%20%20%20%20%20%20%20%20%20%20%20%20%3B%0A%0A%20%20%20%20%20%20%20%20%20%20%20%20%0A%20%20%20%20%20%20%20%20%0A%20%20%20%20%0A%20%20%20%20%20%20%20%20var%20marker_470f51b2b7dd4c5497d4fe6425f7004b%20%3D%20L.marker%28%0A%20%20%20%20%20%20%20%20%20%20%20%20%5B1.339645028%2C%20103.77580259999999%5D%2C%0A%20%20%20%20%20%20%20%20%20%20%20%20%7B%0A%20%20%20%20%20%20%20%20%20%20%20%20%20%20%20%20icon%3A%20new%20L.Icon.Default%28%29%2C%0A%20%20%20%20%20%20%20%20%20%20%20%20%20%20%20%20%7D%0A%20%20%20%20%20%20%20%20%20%20%20%20%29.addTo%28map_f0453ca49538401ea2902b9d8954580b%29%3B%0A%20%20%20%20%20%20%20%20%0A%20%20%20%20%0A%20%20%20%20%20%20%20%20%20%20%20%20var%20popup_967c8a1fd3384e78b059f0052eb17e25%20%3D%20L.popup%28%7BmaxWidth%3A%20%27100%25%27%0A%20%20%20%20%20%20%20%20%20%20%20%20%0A%20%20%20%20%20%20%20%20%20%20%20%20%7D%29%3B%0A%0A%20%20%20%20%20%20%20%20%20%20%20%20%0A%20%20%20%20%20%20%20%20%20%20%20%20%20%20%20%20var%20html_ea68c554858a41e5b80a869d5117057d%20%3D%20%24%28%60%3Cdiv%20id%3D%22html_ea68c554858a41e5b80a869d5117057d%22%20style%3D%22width%3A%20100.0%25%3B%20height%3A%20100.0%25%3B%22%3EBukit%20Timah%20Market%3C/div%3E%60%29%5B0%5D%3B%0A%20%20%20%20%20%20%20%20%20%20%20%20%20%20%20%20popup_967c8a1fd3384e78b059f0052eb17e25.setContent%28html_ea68c554858a41e5b80a869d5117057d%29%3B%0A%20%20%20%20%20%20%20%20%20%20%20%20%0A%0A%20%20%20%20%20%20%20%20%20%20%20%20marker_470f51b2b7dd4c5497d4fe6425f7004b.bindPopup%28popup_967c8a1fd3384e78b059f0052eb17e25%29%0A%20%20%20%20%20%20%20%20%20%20%20%20%3B%0A%0A%20%20%20%20%20%20%20%20%20%20%20%20%0A%20%20%20%20%20%20%20%20%0A%20%20%20%20%0A%20%20%20%20%20%20%20%20var%20marker_dc64fd9e8bd442dc96fa1b16fd9068cd%20%3D%20L.marker%28%0A%20%20%20%20%20%20%20%20%20%20%20%20%5B1.316200018%2C%20103.85030359999999%5D%2C%0A%20%20%20%20%20%20%20%20%20%20%20%20%7B%0A%20%20%20%20%20%20%20%20%20%20%20%20%20%20%20%20icon%3A%20new%20L.Icon.Default%28%29%2C%0A%20%20%20%20%20%20%20%20%20%20%20%20%20%20%20%20%7D%0A%20%20%20%20%20%20%20%20%20%20%20%20%29.addTo%28map_f0453ca49538401ea2902b9d8954580b%29%3B%0A%20%20%20%20%20%20%20%20%0A%20%20%20%20%0A%20%20%20%20%20%20%20%20%20%20%20%20var%20popup_d8766f0dc27242c4ade2ff2f0e6b70fb%20%3D%20L.popup%28%7BmaxWidth%3A%20%27100%25%27%0A%20%20%20%20%20%20%20%20%20%20%20%20%0A%20%20%20%20%20%20%20%20%20%20%20%20%7D%29%3B%0A%0A%20%20%20%20%20%20%20%20%20%20%20%20%0A%20%20%20%20%20%20%20%20%20%20%20%20%20%20%20%20var%20html_04e57db178da4a72b294ea3c6c8d4566%20%3D%20%24%28%60%3Cdiv%20id%3D%22html_04e57db178da4a72b294ea3c6c8d4566%22%20style%3D%22width%3A%20100.0%25%3B%20height%3A%20100.0%25%3B%22%3ECambridge%20Road%20Blk%2041A%20%28Pek%20Kio%20Market%20and%20Food%20Centre%29%3C/div%3E%60%29%5B0%5D%3B%0A%20%20%20%20%20%20%20%20%20%20%20%20%20%20%20%20popup_d8766f0dc27242c4ade2ff2f0e6b70fb.setContent%28html_04e57db178da4a72b294ea3c6c8d4566%29%3B%0A%20%20%20%20%20%20%20%20%20%20%20%20%0A%0A%20%20%20%20%20%20%20%20%20%20%20%20marker_dc64fd9e8bd442dc96fa1b16fd9068cd.bindPopup%28popup_d8766f0dc27242c4ade2ff2f0e6b70fb%29%0A%20%20%20%20%20%20%20%20%20%20%20%20%3B%0A%0A%20%20%20%20%20%20%20%20%20%20%20%20%0A%20%20%20%20%20%20%20%20%0A%20%20%20%20%0A%20%20%20%20%20%20%20%20var%20marker_b627dd668cb943bf81e1c03009f9e3a8%20%3D%20L.marker%28%0A%20%20%20%20%20%20%20%20%20%20%20%20%5B1.3897199630000001%2C%20103.9881821%5D%2C%0A%20%20%20%20%20%20%20%20%20%20%20%20%7B%0A%20%20%20%20%20%20%20%20%20%20%20%20%20%20%20%20icon%3A%20new%20L.Icon.Default%28%29%2C%0A%20%20%20%20%20%20%20%20%20%20%20%20%20%20%20%20%7D%0A%20%20%20%20%20%20%20%20%20%20%20%20%29.addTo%28map_f0453ca49538401ea2902b9d8954580b%29%3B%0A%20%20%20%20%20%20%20%20%0A%20%20%20%20%0A%20%20%20%20%20%20%20%20%20%20%20%20var%20popup_ecdadc03154c4ae78e013a0cd817c735%20%3D%20L.popup%28%7BmaxWidth%3A%20%27100%25%27%0A%20%20%20%20%20%20%20%20%20%20%20%20%0A%20%20%20%20%20%20%20%20%20%20%20%20%7D%29%3B%0A%0A%20%20%20%20%20%20%20%20%20%20%20%20%0A%20%20%20%20%20%20%20%20%20%20%20%20%20%20%20%20var%20html_0d2345249a8a48d3b8a3b16c1714de6b%20%3D%20%24%28%60%3Cdiv%20id%3D%22html_0d2345249a8a48d3b8a3b16c1714de6b%22%20style%3D%22width%3A%20100.0%25%3B%20height%3A%20100.0%25%3B%22%3EChangi%20Village%20Blk%202%20and%203%3C/div%3E%60%29%5B0%5D%3B%0A%20%20%20%20%20%20%20%20%20%20%20%20%20%20%20%20popup_ecdadc03154c4ae78e013a0cd817c735.setContent%28html_0d2345249a8a48d3b8a3b16c1714de6b%29%3B%0A%20%20%20%20%20%20%20%20%20%20%20%20%0A%0A%20%20%20%20%20%20%20%20%20%20%20%20marker_b627dd668cb943bf81e1c03009f9e3a8.bindPopup%28popup_ecdadc03154c4ae78e013a0cd817c735%29%0A%20%20%20%20%20%20%20%20%20%20%20%20%3B%0A%0A%20%20%20%20%20%20%20%20%20%20%20%20%0A%20%20%20%20%20%20%20%20%0A%20%20%20%20%0A%20%20%20%20%20%20%20%20var%20marker_c9aa1334afb94e63bafc85a2cd6c258c%20%3D%20L.marker%28%0A%20%20%20%20%20%20%20%20%20%20%20%20%5B1.36422801%2C%20103.8665314%5D%2C%0A%20%20%20%20%20%20%20%20%20%20%20%20%7B%0A%20%20%20%20%20%20%20%20%20%20%20%20%20%20%20%20icon%3A%20new%20L.Icon.Default%28%29%2C%0A%20%20%20%20%20%20%20%20%20%20%20%20%20%20%20%20%7D%0A%20%20%20%20%20%20%20%20%20%20%20%20%29.addTo%28map_f0453ca49538401ea2902b9d8954580b%29%3B%0A%20%20%20%20%20%20%20%20%0A%20%20%20%20%0A%20%20%20%20%20%20%20%20%20%20%20%20var%20popup_151f8ff9c0c846babc32bd9dcc41f96a%20%3D%20L.popup%28%7BmaxWidth%3A%20%27100%25%27%0A%20%20%20%20%20%20%20%20%20%20%20%20%0A%20%20%20%20%20%20%20%20%20%20%20%20%7D%29%3B%0A%0A%20%20%20%20%20%20%20%20%20%20%20%20%0A%20%20%20%20%20%20%20%20%20%20%20%20%20%20%20%20var%20html_887f327b857d4361821f8dcd5dbe0de1%20%3D%20%24%28%60%3Cdiv%20id%3D%22html_887f327b857d4361821f8dcd5dbe0de1%22%20style%3D%22width%3A%20100.0%25%3B%20height%3A%20100.0%25%3B%22%3EChomp%20Chomp%20Food%20Centre%3C/div%3E%60%29%5B0%5D%3B%0A%20%20%20%20%20%20%20%20%20%20%20%20%20%20%20%20popup_151f8ff9c0c846babc32bd9dcc41f96a.setContent%28html_887f327b857d4361821f8dcd5dbe0de1%29%3B%0A%20%20%20%20%20%20%20%20%20%20%20%20%0A%0A%20%20%20%20%20%20%20%20%20%20%20%20marker_c9aa1334afb94e63bafc85a2cd6c258c.bindPopup%28popup_151f8ff9c0c846babc32bd9dcc41f96a%29%0A%20%20%20%20%20%20%20%20%20%20%20%20%3B%0A%0A%20%20%20%20%20%20%20%20%20%20%20%20%0A%20%20%20%20%20%20%20%20%0A%20%20%20%20%0A%20%20%20%20%20%20%20%20var%20marker_e47f7847b9234a50868cb30b3a213881%20%3D%20L.marker%28%0A%20%20%20%20%20%20%20%20%20%20%20%20%5B1.3749377%2C%20103.8829472%5D%2C%0A%20%20%20%20%20%20%20%20%20%20%20%20%7B%0A%20%20%20%20%20%20%20%20%20%20%20%20%20%20%20%20icon%3A%20new%20L.Icon.Default%28%29%2C%0A%20%20%20%20%20%20%20%20%20%20%20%20%20%20%20%20%7D%0A%20%20%20%20%20%20%20%20%20%20%20%20%29.addTo%28map_f0453ca49538401ea2902b9d8954580b%29%3B%0A%20%20%20%20%20%20%20%20%0A%20%20%20%20%0A%20%20%20%20%20%20%20%20%20%20%20%20var%20popup_e5a6327a807240b3a48cf6f9876351f4%20%3D%20L.popup%28%7BmaxWidth%3A%20%27100%25%27%0A%20%20%20%20%20%20%20%20%20%20%20%20%0A%20%20%20%20%20%20%20%20%20%20%20%20%7D%29%3B%0A%0A%20%20%20%20%20%20%20%20%20%20%20%20%0A%20%20%20%20%20%20%20%20%20%20%20%20%20%20%20%20var%20html_725be786695541688fe5353e5d967fca%20%3D%20%24%28%60%3Cdiv%20id%3D%22html_725be786695541688fe5353e5d967fca%22%20style%3D%22width%3A%20100.0%25%3B%20height%3A%20100.0%25%3B%22%3ECi%20Yuan%20Hawker%20Centre%3C/div%3E%60%29%5B0%5D%3B%0A%20%20%20%20%20%20%20%20%20%20%20%20%20%20%20%20popup_e5a6327a807240b3a48cf6f9876351f4.setContent%28html_725be786695541688fe5353e5d967fca%29%3B%0A%20%20%20%20%20%20%20%20%20%20%20%20%0A%0A%20%20%20%20%20%20%20%20%20%20%20%20marker_e47f7847b9234a50868cb30b3a213881.bindPopup%28popup_e5a6327a807240b3a48cf6f9876351f4%29%0A%20%20%20%20%20%20%20%20%20%20%20%20%3B%0A%0A%20%20%20%20%20%20%20%20%20%20%20%20%0A%20%20%20%20%20%20%20%20%0A%20%20%20%20%0A%20%20%20%20%20%20%20%20var%20marker_d9a685c95c2148d5adf14b7641fa2c83%20%3D%20L.marker%28%0A%20%20%20%20%20%20%20%20%20%20%20%20%5B1.3266600370000001%2C%20103.8851166%5D%2C%0A%20%20%20%20%20%20%20%20%20%20%20%20%7B%0A%20%20%20%20%20%20%20%20%20%20%20%20%20%20%20%20icon%3A%20new%20L.Icon.Default%28%29%2C%0A%20%20%20%20%20%20%20%20%20%20%20%20%20%20%20%20%7D%0A%20%20%20%20%20%20%20%20%20%20%20%20%29.addTo%28map_f0453ca49538401ea2902b9d8954580b%29%3B%0A%20%20%20%20%20%20%20%20%0A%20%20%20%20%0A%20%20%20%20%20%20%20%20%20%20%20%20var%20popup_41b1f4f626f44931b9bb359848e21f73%20%3D%20L.popup%28%7BmaxWidth%3A%20%27100%25%27%0A%20%20%20%20%20%20%20%20%20%20%20%20%0A%20%20%20%20%20%20%20%20%20%20%20%20%7D%29%3B%0A%0A%20%20%20%20%20%20%20%20%20%20%20%20%0A%20%20%20%20%20%20%20%20%20%20%20%20%20%20%20%20var%20html_96149e381fbe42c98e74f4c5662bad57%20%3D%20%24%28%60%3Cdiv%20id%3D%22html_96149e381fbe42c98e74f4c5662bad57%22%20style%3D%22width%3A%20100.0%25%3B%20height%3A%20100.0%25%3B%22%3ECircuit%20Road%20Blk%2079/79A%3C/div%3E%60%29%5B0%5D%3B%0A%20%20%20%20%20%20%20%20%20%20%20%20%20%20%20%20popup_41b1f4f626f44931b9bb359848e21f73.setContent%28html_96149e381fbe42c98e74f4c5662bad57%29%3B%0A%20%20%20%20%20%20%20%20%20%20%20%20%0A%0A%20%20%20%20%20%20%20%20%20%20%20%20marker_d9a685c95c2148d5adf14b7641fa2c83.bindPopup%28popup_41b1f4f626f44931b9bb359848e21f73%29%0A%20%20%20%20%20%20%20%20%20%20%20%20%3B%0A%0A%20%20%20%20%20%20%20%20%20%20%20%20%0A%20%20%20%20%20%20%20%20%0A%20%20%20%20%0A%20%20%20%20%20%20%20%20var%20marker_dd3de83009b84f2fb1f69adb8611af76%20%3D%20L.marker%28%0A%20%20%20%20%20%20%20%20%20%20%20%20%5B1.327900052%2C%20103.88715359999999%5D%2C%0A%20%20%20%20%20%20%20%20%20%20%20%20%7B%0A%20%20%20%20%20%20%20%20%20%20%20%20%20%20%20%20icon%3A%20new%20L.Icon.Default%28%29%2C%0A%20%20%20%20%20%20%20%20%20%20%20%20%20%20%20%20%7D%0A%20%20%20%20%20%20%20%20%20%20%20%20%29.addTo%28map_f0453ca49538401ea2902b9d8954580b%29%3B%0A%20%20%20%20%20%20%20%20%0A%20%20%20%20%0A%20%20%20%20%20%20%20%20%20%20%20%20var%20popup_9c3031315fe54f1d81e79e63e9f16d2f%20%3D%20L.popup%28%7BmaxWidth%3A%20%27100%25%27%0A%20%20%20%20%20%20%20%20%20%20%20%20%0A%20%20%20%20%20%20%20%20%20%20%20%20%7D%29%3B%0A%0A%20%20%20%20%20%20%20%20%20%20%20%20%0A%20%20%20%20%20%20%20%20%20%20%20%20%20%20%20%20var%20html_71492d581d4747ceba87bda898c8604e%20%3D%20%24%28%60%3Cdiv%20id%3D%22html_71492d581d4747ceba87bda898c8604e%22%20style%3D%22width%3A%20100.0%25%3B%20height%3A%20100.0%25%3B%22%3ECircuit%20Road%20Blk%2080%20%2880%20Circuit%20Road%20Market%20and%20Food%20Centre%29%3C/div%3E%60%29%5B0%5D%3B%0A%20%20%20%20%20%20%20%20%20%20%20%20%20%20%20%20popup_9c3031315fe54f1d81e79e63e9f16d2f.setContent%28html_71492d581d4747ceba87bda898c8604e%29%3B%0A%20%20%20%20%20%20%20%20%20%20%20%20%0A%0A%20%20%20%20%20%20%20%20%20%20%20%20marker_dd3de83009b84f2fb1f69adb8611af76.bindPopup%28popup_9c3031315fe54f1d81e79e63e9f16d2f%29%0A%20%20%20%20%20%20%20%20%20%20%20%20%3B%0A%0A%20%20%20%20%20%20%20%20%20%20%20%20%0A%20%20%20%20%20%20%20%20%0A%20%20%20%20%0A%20%20%20%20%20%20%20%20var%20marker_66b6d456b58c42069d7940f1fef5993e%20%3D%20L.marker%28%0A%20%20%20%20%20%20%20%20%20%20%20%20%5B1.3236399890000001%2C%20103.8855209%5D%2C%0A%20%20%20%20%20%20%20%20%20%20%20%20%7B%0A%20%20%20%20%20%20%20%20%20%20%20%20%20%20%20%20icon%3A%20new%20L.Icon.Default%28%29%2C%0A%20%20%20%20%20%20%20%20%20%20%20%20%20%20%20%20%7D%0A%20%20%20%20%20%20%20%20%20%20%20%20%29.addTo%28map_f0453ca49538401ea2902b9d8954580b%29%3B%0A%20%20%20%20%20%20%20%20%0A%20%20%20%20%0A%20%20%20%20%20%20%20%20%20%20%20%20var%20popup_cb207e44cbf34b61b67c974591d68a15%20%3D%20L.popup%28%7BmaxWidth%3A%20%27100%25%27%0A%20%20%20%20%20%20%20%20%20%20%20%20%0A%20%20%20%20%20%20%20%20%20%20%20%20%7D%29%3B%0A%0A%20%20%20%20%20%20%20%20%20%20%20%20%0A%20%20%20%20%20%20%20%20%20%20%20%20%20%20%20%20var%20html_8dd9558e62764f04a70bfda663281548%20%3D%20%24%28%60%3Cdiv%20id%3D%22html_8dd9558e62764f04a70bfda663281548%22%20style%3D%22width%3A%20100.0%25%3B%20height%3A%20100.0%25%3B%22%3ECircuit%20Road%20Blk%2089%3C/div%3E%60%29%5B0%5D%3B%0A%20%20%20%20%20%20%20%20%20%20%20%20%20%20%20%20popup_cb207e44cbf34b61b67c974591d68a15.setContent%28html_8dd9558e62764f04a70bfda663281548%29%3B%0A%20%20%20%20%20%20%20%20%20%20%20%20%0A%0A%20%20%20%20%20%20%20%20%20%20%20%20marker_66b6d456b58c42069d7940f1fef5993e.bindPopup%28popup_cb207e44cbf34b61b67c974591d68a15%29%0A%20%20%20%20%20%20%20%20%20%20%20%20%3B%0A%0A%20%20%20%20%20%20%20%20%20%20%20%20%0A%20%20%20%20%20%20%20%20%0A%20%20%20%20%0A%20%20%20%20%20%20%20%20var%20marker_922483d851844cc082e1abd118d4b6fb%20%3D%20L.marker%28%0A%20%20%20%20%20%20%20%20%20%20%20%20%5B1.314337969%2C%20103.7707748%5D%2C%0A%20%20%20%20%20%20%20%20%20%20%20%20%7B%0A%20%20%20%20%20%20%20%20%20%20%20%20%20%20%20%20icon%3A%20new%20L.Icon.Default%28%29%2C%0A%20%20%20%20%20%20%20%20%20%20%20%20%20%20%20%20%7D%0A%20%20%20%20%20%20%20%20%20%20%20%20%29.addTo%28map_f0453ca49538401ea2902b9d8954580b%29%3B%0A%20%20%20%20%20%20%20%20%0A%20%20%20%20%0A%20%20%20%20%20%20%20%20%20%20%20%20var%20popup_96043b010319483db93381d6ebd62ab5%20%3D%20L.popup%28%7BmaxWidth%3A%20%27100%25%27%0A%20%20%20%20%20%20%20%20%20%20%20%20%0A%20%20%20%20%20%20%20%20%20%20%20%20%7D%29%3B%0A%0A%20%20%20%20%20%20%20%20%20%20%20%20%0A%20%20%20%20%20%20%20%20%20%20%20%20%20%20%20%20var%20html_32391a03c8714dd4a06b9558cca1b698%20%3D%20%24%28%60%3Cdiv%20id%3D%22html_32391a03c8714dd4a06b9558cca1b698%22%20style%3D%22width%3A%20100.0%25%3B%20height%3A%20100.0%25%3B%22%3EClementi%20Ave%202%20Blk%20353%20%28Clementi%20Ave%202%20Market/Cooked%20Food%20Centre%29%3C/div%3E%60%29%5B0%5D%3B%0A%20%20%20%20%20%20%20%20%20%20%20%20%20%20%20%20popup_96043b010319483db93381d6ebd62ab5.setContent%28html_32391a03c8714dd4a06b9558cca1b698%29%3B%0A%20%20%20%20%20%20%20%20%20%20%20%20%0A%0A%20%20%20%20%20%20%20%20%20%20%20%20marker_922483d851844cc082e1abd118d4b6fb.bindPopup%28popup_96043b010319483db93381d6ebd62ab5%29%0A%20%20%20%20%20%20%20%20%20%20%20%20%3B%0A%0A%20%20%20%20%20%20%20%20%20%20%20%20%0A%20%20%20%20%20%20%20%20%0A%20%20%20%20%0A%20%20%20%20%20%20%20%20var%20marker_2e72eacacffb47bbb7cb5a0e6ce3fe46%20%3D%20L.marker%28%0A%20%20%20%20%20%20%20%20%20%20%20%20%5B1.313349962%2C%20103.76458740000001%5D%2C%0A%20%20%20%20%20%20%20%20%20%20%20%20%7B%0A%20%20%20%20%20%20%20%20%20%20%20%20%20%20%20%20icon%3A%20new%20L.Icon.Default%28%29%2C%0A%20%20%20%20%20%20%20%20%20%20%20%20%20%20%20%20%7D%0A%20%20%20%20%20%20%20%20%20%20%20%20%29.addTo%28map_f0453ca49538401ea2902b9d8954580b%29%3B%0A%20%20%20%20%20%20%20%20%0A%20%20%20%20%0A%20%20%20%20%20%20%20%20%20%20%20%20var%20popup_f75bef730ed64fdbbd36f2d29102537e%20%3D%20L.popup%28%7BmaxWidth%3A%20%27100%25%27%0A%20%20%20%20%20%20%20%20%20%20%20%20%0A%20%20%20%20%20%20%20%20%20%20%20%20%7D%29%3B%0A%0A%20%20%20%20%20%20%20%20%20%20%20%20%0A%20%20%20%20%20%20%20%20%20%20%20%20%20%20%20%20var%20html_916086628e844a73b16549329aa5c5d9%20%3D%20%24%28%60%3Cdiv%20id%3D%22html_916086628e844a73b16549329aa5c5d9%22%20style%3D%22width%3A%20100.0%25%3B%20height%3A%20100.0%25%3B%22%3EClementi%20Ave%203%20Blk%20448%3C/div%3E%60%29%5B0%5D%3B%0A%20%20%20%20%20%20%20%20%20%20%20%20%20%20%20%20popup_f75bef730ed64fdbbd36f2d29102537e.setContent%28html_916086628e844a73b16549329aa5c5d9%29%3B%0A%20%20%20%20%20%20%20%20%20%20%20%20%0A%0A%20%20%20%20%20%20%20%20%20%20%20%20marker_2e72eacacffb47bbb7cb5a0e6ce3fe46.bindPopup%28popup_f75bef730ed64fdbbd36f2d29102537e%29%0A%20%20%20%20%20%20%20%20%20%20%20%20%3B%0A%0A%20%20%20%20%20%20%20%20%20%20%20%20%0A%20%20%20%20%20%20%20%20%0A%20%20%20%20%0A%20%20%20%20%20%20%20%20var%20marker_9a3ae188dcfb4a4e8bbcb40a1e88a680%20%3D%20L.marker%28%0A%20%20%20%20%20%20%20%20%20%20%20%20%5B1.30391705%2C%20103.76417540000001%5D%2C%0A%20%20%20%20%20%20%20%20%20%20%20%20%7B%0A%20%20%20%20%20%20%20%20%20%20%20%20%20%20%20%20icon%3A%20new%20L.Icon.Default%28%29%2C%0A%20%20%20%20%20%20%20%20%20%20%20%20%20%20%20%20%7D%0A%20%20%20%20%20%20%20%20%20%20%20%20%29.addTo%28map_f0453ca49538401ea2902b9d8954580b%29%3B%0A%20%20%20%20%20%20%20%20%0A%20%20%20%20%0A%20%20%20%20%20%20%20%20%20%20%20%20var%20popup_ac6ee88cd12e47e4a00c0da81144fa03%20%3D%20L.popup%28%7BmaxWidth%3A%20%27100%25%27%0A%20%20%20%20%20%20%20%20%20%20%20%20%0A%20%20%20%20%20%20%20%20%20%20%20%20%7D%29%3B%0A%0A%20%20%20%20%20%20%20%20%20%20%20%20%0A%20%20%20%20%20%20%20%20%20%20%20%20%20%20%20%20var%20html_df5c9998793d4586a2275a58d0d14423%20%3D%20%24%28%60%3Cdiv%20id%3D%22html_df5c9998793d4586a2275a58d0d14423%22%20style%3D%22width%3A%20100.0%25%3B%20height%3A%20100.0%25%3B%22%3EClementi%20West%20Street%202%20Blk%20726%3C/div%3E%60%29%5B0%5D%3B%0A%20%20%20%20%20%20%20%20%20%20%20%20%20%20%20%20popup_ac6ee88cd12e47e4a00c0da81144fa03.setContent%28html_df5c9998793d4586a2275a58d0d14423%29%3B%0A%20%20%20%20%20%20%20%20%20%20%20%20%0A%0A%20%20%20%20%20%20%20%20%20%20%20%20marker_9a3ae188dcfb4a4e8bbcb40a1e88a680.bindPopup%28popup_ac6ee88cd12e47e4a00c0da81144fa03%29%0A%20%20%20%20%20%20%20%20%20%20%20%20%3B%0A%0A%20%20%20%20%20%20%20%20%20%20%20%20%0A%20%20%20%20%20%20%20%20%0A%20%20%20%20%0A%20%20%20%20%20%20%20%20var%20marker_9fee7adcb57c4ccfad238a3153fc3523%20%3D%20L.marker%28%0A%20%20%20%20%20%20%20%20%20%20%20%20%5B1.307432055%2C%20103.79946140000001%5D%2C%0A%20%20%20%20%20%20%20%20%20%20%20%20%7B%0A%20%20%20%20%20%20%20%20%20%20%20%20%20%20%20%20icon%3A%20new%20L.Icon.Default%28%29%2C%0A%20%20%20%20%20%20%20%20%20%20%20%20%20%20%20%20%7D%0A%20%20%20%20%20%20%20%20%20%20%20%20%29.addTo%28map_f0453ca49538401ea2902b9d8954580b%29%3B%0A%20%20%20%20%20%20%20%20%0A%20%20%20%20%0A%20%20%20%20%20%20%20%20%20%20%20%20var%20popup_8e2248df3cb2493e97c8cedb4be53fc8%20%3D%20L.popup%28%7BmaxWidth%3A%20%27100%25%27%0A%20%20%20%20%20%20%20%20%20%20%20%20%0A%20%20%20%20%20%20%20%20%20%20%20%20%7D%29%3B%0A%0A%20%20%20%20%20%20%20%20%20%20%20%20%0A%20%20%20%20%20%20%20%20%20%20%20%20%20%20%20%20var%20html_0385cd42c8b94318ac4f44f857053d25%20%3D%20%24%28%60%3Cdiv%20id%3D%22html_0385cd42c8b94318ac4f44f857053d25%22%20style%3D%22width%3A%20100.0%25%3B%20height%3A%20100.0%25%3B%22%3ECommonwealth%20Crescent%20Market%3C/div%3E%60%29%5B0%5D%3B%0A%20%20%20%20%20%20%20%20%20%20%20%20%20%20%20%20popup_8e2248df3cb2493e97c8cedb4be53fc8.setContent%28html_0385cd42c8b94318ac4f44f857053d25%29%3B%0A%20%20%20%20%20%20%20%20%20%20%20%20%0A%0A%20%20%20%20%20%20%20%20%20%20%20%20marker_9fee7adcb57c4ccfad238a3153fc3523.bindPopup%28popup_8e2248df3cb2493e97c8cedb4be53fc8%29%0A%20%20%20%20%20%20%20%20%20%20%20%20%3B%0A%0A%20%20%20%20%20%20%20%20%20%20%20%20%0A%20%20%20%20%20%20%20%20%0A%20%20%20%20%0A%20%20%20%20%20%20%20%20var%20marker_9c7aa242462c40c6b317c284706ead6f%20%3D%20L.marker%28%0A%20%20%20%20%20%20%20%20%20%20%20%20%5B1.299550056%2C%20103.7980194%5D%2C%0A%20%20%20%20%20%20%20%20%20%20%20%20%7B%0A%20%20%20%20%20%20%20%20%20%20%20%20%20%20%20%20icon%3A%20new%20L.Icon.Default%28%29%2C%0A%20%20%20%20%20%20%20%20%20%20%20%20%20%20%20%20%7D%0A%20%20%20%20%20%20%20%20%20%20%20%20%29.addTo%28map_f0453ca49538401ea2902b9d8954580b%29%3B%0A%20%20%20%20%20%20%20%20%0A%20%20%20%20%0A%20%20%20%20%20%20%20%20%20%20%20%20var%20popup_d48744748b3e4d618a6adb995902f6ff%20%3D%20L.popup%28%7BmaxWidth%3A%20%27100%25%27%0A%20%20%20%20%20%20%20%20%20%20%20%20%0A%20%20%20%20%20%20%20%20%20%20%20%20%7D%29%3B%0A%0A%20%20%20%20%20%20%20%20%20%20%20%20%0A%20%20%20%20%20%20%20%20%20%20%20%20%20%20%20%20var%20html_e93c28df978c49bcb98f0e02f59c38d7%20%3D%20%24%28%60%3Cdiv%20id%3D%22html_e93c28df978c49bcb98f0e02f59c38d7%22%20style%3D%22width%3A%20100.0%25%3B%20height%3A%20100.0%25%3B%22%3ECommonwealth%20Drive%20Blk%201A/2A/3A%20%28Tanglin%20Halt%20Food%20Centre/Commonwealth%20Drive%20Food%20Centre%29%3C/div%3E%60%29%5B0%5D%3B%0A%20%20%20%20%20%20%20%20%20%20%20%20%20%20%20%20popup_d48744748b3e4d618a6adb995902f6ff.setContent%28html_e93c28df978c49bcb98f0e02f59c38d7%29%3B%0A%20%20%20%20%20%20%20%20%20%20%20%20%0A%0A%20%20%20%20%20%20%20%20%20%20%20%20marker_9c7aa242462c40c6b317c284706ead6f.bindPopup%28popup_d48744748b3e4d618a6adb995902f6ff%29%0A%20%20%20%20%20%20%20%20%20%20%20%20%3B%0A%0A%20%20%20%20%20%20%20%20%20%20%20%20%0A%20%20%20%20%20%20%20%20%0A%20%20%20%20%0A%20%20%20%20%20%20%20%20var%20marker_855bb263ade241068da3cb33b7e39a88%20%3D%20L.marker%28%0A%20%20%20%20%20%20%20%20%20%20%20%20%5B1.309412003%2C%20103.901825%5D%2C%0A%20%20%20%20%20%20%20%20%20%20%20%20%7B%0A%20%20%20%20%20%20%20%20%20%20%20%20%20%20%20%20icon%3A%20new%20L.Icon.Default%28%29%2C%0A%20%20%20%20%20%20%20%20%20%20%20%20%20%20%20%20%7D%0A%20%20%20%20%20%20%20%20%20%20%20%20%29.addTo%28map_f0453ca49538401ea2902b9d8954580b%29%3B%0A%20%20%20%20%20%20%20%20%0A%20%20%20%20%0A%20%20%20%20%20%20%20%20%20%20%20%20var%20popup_7efa7023236942059841c5f256a1d7d1%20%3D%20L.popup%28%7BmaxWidth%3A%20%27100%25%27%0A%20%20%20%20%20%20%20%20%20%20%20%20%0A%20%20%20%20%20%20%20%20%20%20%20%20%7D%29%3B%0A%0A%20%20%20%20%20%20%20%20%20%20%20%20%0A%20%20%20%20%20%20%20%20%20%20%20%20%20%20%20%20var%20html_e064dbfc0445483bbf78260decd24e39%20%3D%20%24%28%60%3Cdiv%20id%3D%22html_e064dbfc0445483bbf78260decd24e39%22%20style%3D%22width%3A%20100.0%25%3B%20height%3A%20100.0%25%3B%22%3EDunman%20Food%20Centre%3C/div%3E%60%29%5B0%5D%3B%0A%20%20%20%20%20%20%20%20%20%20%20%20%20%20%20%20popup_7efa7023236942059841c5f256a1d7d1.setContent%28html_e064dbfc0445483bbf78260decd24e39%29%3B%0A%20%20%20%20%20%20%20%20%20%20%20%20%0A%0A%20%20%20%20%20%20%20%20%20%20%20%20marker_855bb263ade241068da3cb33b7e39a88.bindPopup%28popup_7efa7023236942059841c5f256a1d7d1%29%0A%20%20%20%20%20%20%20%20%20%20%20%20%3B%0A%0A%20%20%20%20%20%20%20%20%20%20%20%20%0A%20%20%20%20%20%20%20%20%0A%20%20%20%20%0A%20%20%20%20%20%20%20%20var%20marker_1a892f7bc86a46acaa48871d0e97048c%20%3D%20L.marker%28%0A%20%20%20%20%20%20%20%20%20%20%20%20%5B1.307729959%2C%20103.9343033%5D%2C%0A%20%20%20%20%20%20%20%20%20%20%20%20%7B%0A%20%20%20%20%20%20%20%20%20%20%20%20%20%20%20%20icon%3A%20new%20L.Icon.Default%28%29%2C%0A%20%20%20%20%20%20%20%20%20%20%20%20%20%20%20%20%7D%0A%20%20%20%20%20%20%20%20%20%20%20%20%29.addTo%28map_f0453ca49538401ea2902b9d8954580b%29%3B%0A%20%20%20%20%20%20%20%20%0A%20%20%20%20%0A%20%20%20%20%20%20%20%20%20%20%20%20var%20popup_08b01aef0e2d4211a1d47f80cf708712%20%3D%20L.popup%28%7BmaxWidth%3A%20%27100%25%27%0A%20%20%20%20%20%20%20%20%20%20%20%20%0A%20%20%20%20%20%20%20%20%20%20%20%20%7D%29%3B%0A%0A%20%20%20%20%20%20%20%20%20%20%20%20%0A%20%20%20%20%20%20%20%20%20%20%20%20%20%20%20%20var%20html_b3b35fac8e694967bb02df9525bdf40f%20%3D%20%24%28%60%3Cdiv%20id%3D%22html_b3b35fac8e694967bb02df9525bdf40f%22%20style%3D%22width%3A%20100.0%25%3B%20height%3A%20100.0%25%3B%22%3EEast%20Coast%20Lagoon%20Food%20Village%3C/div%3E%60%29%5B0%5D%3B%0A%20%20%20%20%20%20%20%20%20%20%20%20%20%20%20%20popup_08b01aef0e2d4211a1d47f80cf708712.setContent%28html_b3b35fac8e694967bb02df9525bdf40f%29%3B%0A%20%20%20%20%20%20%20%20%20%20%20%20%0A%0A%20%20%20%20%20%20%20%20%20%20%20%20marker_1a892f7bc86a46acaa48871d0e97048c.bindPopup%28popup_08b01aef0e2d4211a1d47f80cf708712%29%0A%20%20%20%20%20%20%20%20%20%20%20%20%3B%0A%0A%20%20%20%20%20%20%20%20%20%20%20%20%0A%20%20%20%20%20%20%20%20%0A%20%20%20%20%0A%20%20%20%20%20%20%20%20var%20marker_5a5af8f02a3b4fee8aa2caf57e6e47bb%20%3D%20L.marker%28%0A%20%20%20%20%20%20%20%20%20%20%20%20%5B1.316310048%2C%20103.805687%5D%2C%0A%20%20%20%20%20%20%20%20%20%20%20%20%7B%0A%20%20%20%20%20%20%20%20%20%20%20%20%20%20%20%20icon%3A%20new%20L.Icon.Default%28%29%2C%0A%20%20%20%20%20%20%20%20%20%20%20%20%20%20%20%20%7D%0A%20%20%20%20%20%20%20%20%20%20%20%20%29.addTo%28map_f0453ca49538401ea2902b9d8954580b%29%3B%0A%20%20%20%20%20%20%20%20%0A%20%20%20%20%0A%20%20%20%20%20%20%20%20%20%20%20%20var%20popup_d027d5a472b6422fa8c76dd28d5b36de%20%3D%20L.popup%28%7BmaxWidth%3A%20%27100%25%27%0A%20%20%20%20%20%20%20%20%20%20%20%20%0A%20%20%20%20%20%20%20%20%20%20%20%20%7D%29%3B%0A%0A%20%20%20%20%20%20%20%20%20%20%20%20%0A%20%20%20%20%20%20%20%20%20%20%20%20%20%20%20%20var%20html_ad52fe1c54bb407789b70e2272c6151c%20%3D%20%24%28%60%3Cdiv%20id%3D%22html_ad52fe1c54bb407789b70e2272c6151c%22%20style%3D%22width%3A%20100.0%25%3B%20height%3A%20100.0%25%3B%22%3EEmpress%20Road%20Blk%207%20%28Empress%20Road%20Market%20and%20Food%20Centre%29%3C/div%3E%60%29%5B0%5D%3B%0A%20%20%20%20%20%20%20%20%20%20%20%20%20%20%20%20popup_d027d5a472b6422fa8c76dd28d5b36de.setContent%28html_ad52fe1c54bb407789b70e2272c6151c%29%3B%0A%20%20%20%20%20%20%20%20%20%20%20%20%0A%0A%20%20%20%20%20%20%20%20%20%20%20%20marker_5a5af8f02a3b4fee8aa2caf57e6e47bb.bindPopup%28popup_d027d5a472b6422fa8c76dd28d5b36de%29%0A%20%20%20%20%20%20%20%20%20%20%20%20%3B%0A%0A%20%20%20%20%20%20%20%20%20%20%20%20%0A%20%20%20%20%20%20%20%20%0A%20%20%20%20%0A%20%20%20%20%20%20%20%20var%20marker_51436fe31010438ea4914f78233e29df%20%3D%20L.marker%28%0A%20%20%20%20%20%20%20%20%20%20%20%20%5B1.320291996%2C%20103.90422059999999%5D%2C%0A%20%20%20%20%20%20%20%20%20%20%20%20%7B%0A%20%20%20%20%20%20%20%20%20%20%20%20%20%20%20%20icon%3A%20new%20L.Icon.Default%28%29%2C%0A%20%20%20%20%20%20%20%20%20%20%20%20%20%20%20%20%7D%0A%20%20%20%20%20%20%20%20%20%20%20%20%29.addTo%28map_f0453ca49538401ea2902b9d8954580b%29%3B%0A%20%20%20%20%20%20%20%20%0A%20%20%20%20%0A%20%20%20%20%20%20%20%20%20%20%20%20var%20popup_0a161d8844004fbca010962b5c82258b%20%3D%20L.popup%28%7BmaxWidth%3A%20%27100%25%27%0A%20%20%20%20%20%20%20%20%20%20%20%20%0A%20%20%20%20%20%20%20%20%20%20%20%20%7D%29%3B%0A%0A%20%20%20%20%20%20%20%20%20%20%20%20%0A%20%20%20%20%20%20%20%20%20%20%20%20%20%20%20%20var%20html_014a4f6a929c47cdaafa62d00d8f615b%20%3D%20%24%28%60%3Cdiv%20id%3D%22html_014a4f6a929c47cdaafa62d00d8f615b%22%20style%3D%22width%3A%20100.0%25%3B%20height%3A%20100.0%25%3B%22%3EEunos%20Crescent%20Blk%204A%3C/div%3E%60%29%5B0%5D%3B%0A%20%20%20%20%20%20%20%20%20%20%20%20%20%20%20%20popup_0a161d8844004fbca010962b5c82258b.setContent%28html_014a4f6a929c47cdaafa62d00d8f615b%29%3B%0A%20%20%20%20%20%20%20%20%20%20%20%20%0A%0A%20%20%20%20%20%20%20%20%20%20%20%20marker_51436fe31010438ea4914f78233e29df.bindPopup%28popup_0a161d8844004fbca010962b5c82258b%29%0A%20%20%20%20%20%20%20%20%20%20%20%20%3B%0A%0A%20%20%20%20%20%20%20%20%20%20%20%20%0A%20%20%20%20%20%20%20%20%0A%20%20%20%20%0A%20%20%20%20%20%20%20%20var%20marker_6691c0ce63094990aae49a783ee317c0%20%3D%20L.marker%28%0A%20%20%20%20%20%20%20%20%20%20%20%20%5B1.321529984%2C%20103.8700714%5D%2C%0A%20%20%20%20%20%20%20%20%20%20%20%20%7B%0A%20%20%20%20%20%20%20%20%20%20%20%20%20%20%20%20icon%3A%20new%20L.Icon.Default%28%29%2C%0A%20%20%20%20%20%20%20%20%20%20%20%20%20%20%20%20%7D%0A%20%20%20%20%20%20%20%20%20%20%20%20%29.addTo%28map_f0453ca49538401ea2902b9d8954580b%29%3B%0A%20%20%20%20%20%20%20%20%0A%20%20%20%20%0A%20%20%20%20%20%20%20%20%20%20%20%20var%20popup_5041a1c36639434b84fc7272b246dc5a%20%3D%20L.popup%28%7BmaxWidth%3A%20%27100%25%27%0A%20%20%20%20%20%20%20%20%20%20%20%20%0A%20%20%20%20%20%20%20%20%20%20%20%20%7D%29%3B%0A%0A%20%20%20%20%20%20%20%20%20%20%20%20%0A%20%20%20%20%20%20%20%20%20%20%20%20%20%20%20%20var%20html_72f6b7a7e0b143f5b2e645bb95e4eb95%20%3D%20%24%28%60%3Cdiv%20id%3D%22html_72f6b7a7e0b143f5b2e645bb95e4eb95%22%20style%3D%22width%3A%20100.0%25%3B%20height%3A%20100.0%25%3B%22%3EGeylang%20Bahru%20Blk%2069%20%28Blk%2069%20Geylang%20Bahru%20Market%20and%20Food%20Centre%29%3C/div%3E%60%29%5B0%5D%3B%0A%20%20%20%20%20%20%20%20%20%20%20%20%20%20%20%20popup_5041a1c36639434b84fc7272b246dc5a.setContent%28html_72f6b7a7e0b143f5b2e645bb95e4eb95%29%3B%0A%20%20%20%20%20%20%20%20%20%20%20%20%0A%0A%20%20%20%20%20%20%20%20%20%20%20%20marker_6691c0ce63094990aae49a783ee317c0.bindPopup%28popup_5041a1c36639434b84fc7272b246dc5a%29%0A%20%20%20%20%20%20%20%20%20%20%20%20%3B%0A%0A%20%20%20%20%20%20%20%20%20%20%20%20%0A%20%20%20%20%20%20%20%20%0A%20%20%20%20%0A%20%20%20%20%20%20%20%20var%20marker_14332775dcd541f0bdaccb7102644cb8%20%3D%20L.marker%28%0A%20%20%20%20%20%20%20%20%20%20%20%20%5B1.316888094%2C%20103.8974075%5D%2C%0A%20%20%20%20%20%20%20%20%20%20%20%20%7B%0A%20%20%20%20%20%20%20%20%20%20%20%20%20%20%20%20icon%3A%20new%20L.Icon.Default%28%29%2C%0A%20%20%20%20%20%20%20%20%20%20%20%20%20%20%20%20%7D%0A%20%20%20%20%20%20%20%20%20%20%20%20%29.addTo%28map_f0453ca49538401ea2902b9d8954580b%29%3B%0A%20%20%20%20%20%20%20%20%0A%20%20%20%20%0A%20%20%20%20%20%20%20%20%20%20%20%20var%20popup_25c6f793add8496c8b878478a2594d87%20%3D%20L.popup%28%7BmaxWidth%3A%20%27100%25%27%0A%20%20%20%20%20%20%20%20%20%20%20%20%0A%20%20%20%20%20%20%20%20%20%20%20%20%7D%29%3B%0A%0A%20%20%20%20%20%20%20%20%20%20%20%20%0A%20%20%20%20%20%20%20%20%20%20%20%20%20%20%20%20var%20html_75a4c74e18de408b95e154572759a470%20%3D%20%24%28%60%3Cdiv%20id%3D%22html_75a4c74e18de408b95e154572759a470%22%20style%3D%22width%3A%20100.0%25%3B%20height%3A%20100.0%25%3B%22%3EGeylang%20Serai%20Market%3C/div%3E%60%29%5B0%5D%3B%0A%20%20%20%20%20%20%20%20%20%20%20%20%20%20%20%20popup_25c6f793add8496c8b878478a2594d87.setContent%28html_75a4c74e18de408b95e154572759a470%29%3B%0A%20%20%20%20%20%20%20%20%20%20%20%20%0A%0A%20%20%20%20%20%20%20%20%20%20%20%20marker_14332775dcd541f0bdaccb7102644cb8.bindPopup%28popup_25c6f793add8496c8b878478a2594d87%29%0A%20%20%20%20%20%20%20%20%20%20%20%20%3B%0A%0A%20%20%20%20%20%20%20%20%20%20%20%20%0A%20%20%20%20%20%20%20%20%0A%20%20%20%20%0A%20%20%20%20%20%20%20%20var%20marker_39171b41ddbd451b9a5e11bc35ddd641%20%3D%20L.marker%28%0A%20%20%20%20%20%20%20%20%20%20%20%20%5B1.3110599520000001%2C%20103.7882919%5D%2C%0A%20%20%20%20%20%20%20%20%20%20%20%20%7B%0A%20%20%20%20%20%20%20%20%20%20%20%20%20%20%20%20icon%3A%20new%20L.Icon.Default%28%29%2C%0A%20%20%20%20%20%20%20%20%20%20%20%20%20%20%20%20%7D%0A%20%20%20%20%20%20%20%20%20%20%20%20%29.addTo%28map_f0453ca49538401ea2902b9d8954580b%29%3B%0A%20%20%20%20%20%20%20%20%0A%20%20%20%20%0A%20%20%20%20%20%20%20%20%20%20%20%20var%20popup_b1bab7f4b297482b868b9430febe95c8%20%3D%20L.popup%28%7BmaxWidth%3A%20%27100%25%27%0A%20%20%20%20%20%20%20%20%20%20%20%20%0A%20%20%20%20%20%20%20%20%20%20%20%20%7D%29%3B%0A%0A%20%20%20%20%20%20%20%20%20%20%20%20%0A%20%20%20%20%20%20%20%20%20%20%20%20%20%20%20%20var%20html_f312d60ebb284dffb013fe296279c63e%20%3D%20%24%28%60%3Cdiv%20id%3D%22html_f312d60ebb284dffb013fe296279c63e%22%20style%3D%22width%3A%20100.0%25%3B%20height%3A%20100.0%25%3B%22%3EGhim%20Moh%20Road%20Blk%2020%3C/div%3E%60%29%5B0%5D%3B%0A%20%20%20%20%20%20%20%20%20%20%20%20%20%20%20%20popup_b1bab7f4b297482b868b9430febe95c8.setContent%28html_f312d60ebb284dffb013fe296279c63e%29%3B%0A%20%20%20%20%20%20%20%20%20%20%20%20%0A%0A%20%20%20%20%20%20%20%20%20%20%20%20marker_39171b41ddbd451b9a5e11bc35ddd641.bindPopup%28popup_b1bab7f4b297482b868b9430febe95c8%29%0A%20%20%20%20%20%20%20%20%20%20%20%20%3B%0A%0A%20%20%20%20%20%20%20%20%20%20%20%20%0A%20%20%20%20%20%20%20%20%0A%20%20%20%20%0A%20%20%20%20%20%20%20%20var%20marker_921c426c2db748d4b05a82025301911f%20%3D%20L.marker%28%0A%20%20%20%20%20%20%20%20%20%20%20%20%5B1.302873969%2C%20103.86387629999999%5D%2C%0A%20%20%20%20%20%20%20%20%20%20%20%20%7B%0A%20%20%20%20%20%20%20%20%20%20%20%20%20%20%20%20icon%3A%20new%20L.Icon.Default%28%29%2C%0A%20%20%20%20%20%20%20%20%20%20%20%20%20%20%20%20%7D%0A%20%20%20%20%20%20%20%20%20%20%20%20%29.addTo%28map_f0453ca49538401ea2902b9d8954580b%29%3B%0A%20%20%20%20%20%20%20%20%0A%20%20%20%20%0A%20%20%20%20%20%20%20%20%20%20%20%20var%20popup_566fe472231148c8b0c113d34d5ab7bf%20%3D%20L.popup%28%7BmaxWidth%3A%20%27100%25%27%0A%20%20%20%20%20%20%20%20%20%20%20%20%0A%20%20%20%20%20%20%20%20%20%20%20%20%7D%29%3B%0A%0A%20%20%20%20%20%20%20%20%20%20%20%20%0A%20%20%20%20%20%20%20%20%20%20%20%20%20%20%20%20var%20html_097b32bcdb594eb58e841fb57f834a32%20%3D%20%24%28%60%3Cdiv%20id%3D%22html_097b32bcdb594eb58e841fb57f834a32%22%20style%3D%22width%3A%20100.0%25%3B%20height%3A%20100.0%25%3B%22%3EGolden%20Mile%20Food%20Centre%3C/div%3E%60%29%5B0%5D%3B%0A%20%20%20%20%20%20%20%20%20%20%20%20%20%20%20%20popup_566fe472231148c8b0c113d34d5ab7bf.setContent%28html_097b32bcdb594eb58e841fb57f834a32%29%3B%0A%20%20%20%20%20%20%20%20%20%20%20%20%0A%0A%20%20%20%20%20%20%20%20%20%20%20%20marker_921c426c2db748d4b05a82025301911f.bindPopup%28popup_566fe472231148c8b0c113d34d5ab7bf%29%0A%20%20%20%20%20%20%20%20%20%20%20%20%3B%0A%0A%20%20%20%20%20%20%20%20%20%20%20%20%0A%20%20%20%20%20%20%20%20%0A%20%20%20%20%0A%20%20%20%20%20%20%20%20var%20marker_865a64c25cee477198466b1c71b08f1f%20%3D%20L.marker%28%0A%20%20%20%20%20%20%20%20%20%20%20%20%5B1.315189958%2C%20103.8956528%5D%2C%0A%20%20%20%20%20%20%20%20%20%20%20%20%7B%0A%20%20%20%20%20%20%20%20%20%20%20%20%20%20%20%20icon%3A%20new%20L.Icon.Default%28%29%2C%0A%20%20%20%20%20%20%20%20%20%20%20%20%20%20%20%20%7D%0A%20%20%20%20%20%20%20%20%20%20%20%20%29.addTo%28map_f0453ca49538401ea2902b9d8954580b%29%3B%0A%20%20%20%20%20%20%20%20%0A%20%20%20%20%0A%20%20%20%20%20%20%20%20%20%20%20%20var%20popup_59741603359b4e5fa01c40d0290f5f74%20%3D%20L.popup%28%7BmaxWidth%3A%20%27100%25%27%0A%20%20%20%20%20%20%20%20%20%20%20%20%0A%20%20%20%20%20%20%20%20%20%20%20%20%7D%29%3B%0A%0A%20%20%20%20%20%20%20%20%20%20%20%20%0A%20%20%20%20%20%20%20%20%20%20%20%20%20%20%20%20var%20html_73feb109d1254e27a50eacff58f42075%20%3D%20%24%28%60%3Cdiv%20id%3D%22html_73feb109d1254e27a50eacff58f42075%22%20style%3D%22width%3A%20100.0%25%3B%20height%3A%20100.0%25%3B%22%3EHaig%20Road%20Blk%2013/14%20%28Haig%20Road%20Market%20and%20Cooked%20Food%20Centre%29%3C/div%3E%60%29%5B0%5D%3B%0A%20%20%20%20%20%20%20%20%20%20%20%20%20%20%20%20popup_59741603359b4e5fa01c40d0290f5f74.setContent%28html_73feb109d1254e27a50eacff58f42075%29%3B%0A%20%20%20%20%20%20%20%20%20%20%20%20%0A%0A%20%20%20%20%20%20%20%20%20%20%20%20marker_865a64c25cee477198466b1c71b08f1f.bindPopup%28popup_59741603359b4e5fa01c40d0290f5f74%29%0A%20%20%20%20%20%20%20%20%20%20%20%20%3B%0A%0A%20%20%20%20%20%20%20%20%20%20%20%20%0A%20%20%20%20%20%20%20%20%0A%20%20%20%20%0A%20%20%20%20%20%20%20%20var%20marker_714bc1d5a7ac41ec8c5426792c19b11d%20%3D%20L.marker%28%0A%20%20%20%20%20%20%20%20%20%20%20%20%5B1.288040042%2C%20103.829689%5D%2C%0A%20%20%20%20%20%20%20%20%20%20%20%20%7B%0A%20%20%20%20%20%20%20%20%20%20%20%20%20%20%20%20icon%3A%20new%20L.Icon.Default%28%29%2C%0A%20%20%20%20%20%20%20%20%20%20%20%20%20%20%20%20%7D%0A%20%20%20%20%20%20%20%20%20%20%20%20%29.addTo%28map_f0453ca49538401ea2902b9d8954580b%29%3B%0A%20%20%20%20%20%20%20%20%0A%20%20%20%20%0A%20%20%20%20%20%20%20%20%20%20%20%20var%20popup_2686d69cd03a47e6a817bc8ed13baf86%20%3D%20L.popup%28%7BmaxWidth%3A%20%27100%25%27%0A%20%20%20%20%20%20%20%20%20%20%20%20%0A%20%20%20%20%20%20%20%20%20%20%20%20%7D%29%3B%0A%0A%20%20%20%20%20%20%20%20%20%20%20%20%0A%20%20%20%20%20%20%20%20%20%20%20%20%20%20%20%20var%20html_f8f011150ae9431ab890f444cf4179af%20%3D%20%24%28%60%3Cdiv%20id%3D%22html_f8f011150ae9431ab890f444cf4179af%22%20style%3D%22width%3A%20100.0%25%3B%20height%3A%20100.0%25%3B%22%3EHavelock%20Road%20Blk%2022A/B%20%28Havelock%20Road%20Cooked%20Food%20Centre%29%3C/div%3E%60%29%5B0%5D%3B%0A%20%20%20%20%20%20%20%20%20%20%20%20%20%20%20%20popup_2686d69cd03a47e6a817bc8ed13baf86.setContent%28html_f8f011150ae9431ab890f444cf4179af%29%3B%0A%20%20%20%20%20%20%20%20%20%20%20%20%0A%0A%20%20%20%20%20%20%20%20%20%20%20%20marker_714bc1d5a7ac41ec8c5426792c19b11d.bindPopup%28popup_2686d69cd03a47e6a817bc8ed13baf86%29%0A%20%20%20%20%20%20%20%20%20%20%20%20%3B%0A%0A%20%20%20%20%20%20%20%20%20%20%20%20%0A%20%20%20%20%20%20%20%20%0A%20%20%20%20%0A%20%20%20%20%20%20%20%20var%20marker_5f580696e27443bb93f10845b4194cf7%20%3D%20L.marker%28%0A%20%20%20%20%20%20%20%20%20%20%20%20%5B1.3081899879999999%2C%20103.7928391%5D%2C%0A%20%20%20%20%20%20%20%20%20%20%20%20%7B%0A%20%20%20%20%20%20%20%20%20%20%20%20%20%20%20%20icon%3A%20new%20L.Icon.Default%28%29%2C%0A%20%20%20%20%20%20%20%20%20%20%20%20%20%20%20%20%7D%0A%20%20%20%20%20%20%20%20%20%20%20%20%29.addTo%28map_f0453ca49538401ea2902b9d8954580b%29%3B%0A%20%20%20%20%20%20%20%20%0A%20%20%20%20%0A%20%20%20%20%20%20%20%20%20%20%20%20var%20popup_b68692c857504fbaacd9c676787dce12%20%3D%20L.popup%28%7BmaxWidth%3A%20%27100%25%27%0A%20%20%20%20%20%20%20%20%20%20%20%20%0A%20%20%20%20%20%20%20%20%20%20%20%20%7D%29%3B%0A%0A%20%20%20%20%20%20%20%20%20%20%20%20%0A%20%20%20%20%20%20%20%20%20%20%20%20%20%20%20%20var%20html_34f3ca5c52754a208682b80d0477ecef%20%3D%20%24%28%60%3Cdiv%20id%3D%22html_34f3ca5c52754a208682b80d0477ecef%22%20style%3D%22width%3A%20100.0%25%3B%20height%3A%20100.0%25%3B%22%3EHolland%20Drive%20Blk%2044%20%28Holland%20Drive%20Market%20and%20Food%20Centre%29%3C/div%3E%60%29%5B0%5D%3B%0A%20%20%20%20%20%20%20%20%20%20%20%20%20%20%20%20popup_b68692c857504fbaacd9c676787dce12.setContent%28html_34f3ca5c52754a208682b80d0477ecef%29%3B%0A%20%20%20%20%20%20%20%20%20%20%20%20%0A%0A%20%20%20%20%20%20%20%20%20%20%20%20marker_5f580696e27443bb93f10845b4194cf7.bindPopup%28popup_b68692c857504fbaacd9c676787dce12%29%0A%20%20%20%20%20%20%20%20%20%20%20%20%3B%0A%0A%20%20%20%20%20%20%20%20%20%20%20%20%0A%20%20%20%20%20%20%20%20%0A%20%20%20%20%0A%20%20%20%20%20%20%20%20var%20marker_b99286d82045447d9735fbb1809fdea3%20%3D%20L.marker%28%0A%20%20%20%20%20%20%20%20%20%20%20%20%5B1.311102033%2C%20103.7949448%5D%2C%0A%20%20%20%20%20%20%20%20%20%20%20%20%7B%0A%20%20%20%20%20%20%20%20%20%20%20%20%20%20%20%20icon%3A%20new%20L.Icon.Default%28%29%2C%0A%20%20%20%20%20%20%20%20%20%20%20%20%20%20%20%20%7D%0A%20%20%20%20%20%20%20%20%20%20%20%20%29.addTo%28map_f0453ca49538401ea2902b9d8954580b%29%3B%0A%20%20%20%20%20%20%20%20%0A%20%20%20%20%0A%20%20%20%20%20%20%20%20%20%20%20%20var%20popup_dc80084678ff411190622678ca91a9f3%20%3D%20L.popup%28%7BmaxWidth%3A%20%27100%25%27%0A%20%20%20%20%20%20%20%20%20%20%20%20%0A%20%20%20%20%20%20%20%20%20%20%20%20%7D%29%3B%0A%0A%20%20%20%20%20%20%20%20%20%20%20%20%0A%20%20%20%20%20%20%20%20%20%20%20%20%20%20%20%20var%20html_7c5d19e90a794e1db94abef63484ee2b%20%3D%20%24%28%60%3Cdiv%20id%3D%22html_7c5d19e90a794e1db94abef63484ee2b%22%20style%3D%22width%3A%20100.0%25%3B%20height%3A%20100.0%25%3B%22%3EHolland%20Village%20Market%20and%20Food%20Centre%3C/div%3E%60%29%5B0%5D%3B%0A%20%20%20%20%20%20%20%20%20%20%20%20%20%20%20%20popup_dc80084678ff411190622678ca91a9f3.setContent%28html_7c5d19e90a794e1db94abef63484ee2b%29%3B%0A%20%20%20%20%20%20%20%20%20%20%20%20%0A%0A%20%20%20%20%20%20%20%20%20%20%20%20marker_b99286d82045447d9735fbb1809fdea3.bindPopup%28popup_dc80084678ff411190622678ca91a9f3%29%0A%20%20%20%20%20%20%20%20%20%20%20%20%3B%0A%0A%20%20%20%20%20%20%20%20%20%20%20%20%0A%20%20%20%20%20%20%20%20%0A%20%20%20%20%0A%20%20%20%20%20%20%20%20var%20marker_9e0151dfde514365b9612e2255d72703%20%3D%20L.marker%28%0A%20%20%20%20%20%20%20%20%20%20%20%20%5B1.354089975%2C%20103.890213%5D%2C%0A%20%20%20%20%20%20%20%20%20%20%20%20%7B%0A%20%20%20%20%20%20%20%20%20%20%20%20%20%20%20%20icon%3A%20new%20L.Icon.Default%28%29%2C%0A%20%20%20%20%20%20%20%20%20%20%20%20%20%20%20%20%7D%0A%20%20%20%20%20%20%20%20%20%20%20%20%29.addTo%28map_f0453ca49538401ea2902b9d8954580b%29%3B%0A%20%20%20%20%20%20%20%20%0A%20%20%20%20%0A%20%20%20%20%20%20%20%20%20%20%20%20var%20popup_7e389f484931486e81dc84da42bec60c%20%3D%20L.popup%28%7BmaxWidth%3A%20%27100%25%27%0A%20%20%20%20%20%20%20%20%20%20%20%20%0A%20%20%20%20%20%20%20%20%20%20%20%20%7D%29%3B%0A%0A%20%20%20%20%20%20%20%20%20%20%20%20%0A%20%20%20%20%20%20%20%20%20%20%20%20%20%20%20%20var%20html_ff0d702d8e2147048472bee37662265e%20%3D%20%24%28%60%3Cdiv%20id%3D%22html_ff0d702d8e2147048472bee37662265e%22%20style%3D%22width%3A%20100.0%25%3B%20height%3A%20100.0%25%3B%22%3EHougang%20Ave%201%20Blk%20105%20%28Hougang%20105%20Hainanese%20Village%20Centre%29%3C/div%3E%60%29%5B0%5D%3B%0A%20%20%20%20%20%20%20%20%20%20%20%20%20%20%20%20popup_7e389f484931486e81dc84da42bec60c.setContent%28html_ff0d702d8e2147048472bee37662265e%29%3B%0A%20%20%20%20%20%20%20%20%20%20%20%20%0A%0A%20%20%20%20%20%20%20%20%20%20%20%20marker_9e0151dfde514365b9612e2255d72703.bindPopup%28popup_7e389f484931486e81dc84da42bec60c%29%0A%20%20%20%20%20%20%20%20%20%20%20%20%3B%0A%0A%20%20%20%20%20%20%20%20%20%20%20%20%0A%20%20%20%20%20%20%20%20%0A%20%20%20%20%0A%20%20%20%20%20%20%20%20var%20marker_cd8b6d991f9f4e2da060742736787ec1%20%3D%20L.marker%28%0A%20%20%20%20%20%20%20%20%20%20%20%20%5B1.3590790030000002%2C%20103.8859253%5D%2C%0A%20%20%20%20%20%20%20%20%20%20%20%20%7B%0A%20%20%20%20%20%20%20%20%20%20%20%20%20%20%20%20icon%3A%20new%20L.Icon.Default%28%29%2C%0A%20%20%20%20%20%20%20%20%20%20%20%20%20%20%20%20%7D%0A%20%20%20%20%20%20%20%20%20%20%20%20%29.addTo%28map_f0453ca49538401ea2902b9d8954580b%29%3B%0A%20%20%20%20%20%20%20%20%0A%20%20%20%20%0A%20%20%20%20%20%20%20%20%20%20%20%20var%20popup_7fd9e83cf98b4478b9429fb5f4bf83ba%20%3D%20L.popup%28%7BmaxWidth%3A%20%27100%25%27%0A%20%20%20%20%20%20%20%20%20%20%20%20%0A%20%20%20%20%20%20%20%20%20%20%20%20%7D%29%3B%0A%0A%20%20%20%20%20%20%20%20%20%20%20%20%0A%20%20%20%20%20%20%20%20%20%20%20%20%20%20%20%20var%20html_ba40cb4bfb9948f19163f07dcbd20a93%20%3D%20%24%28%60%3Cdiv%20id%3D%22html_ba40cb4bfb9948f19163f07dcbd20a93%22%20style%3D%22width%3A%20100.0%25%3B%20height%3A%20100.0%25%3B%22%3EHougang%20Street%2021%20Blk%20209%20%28Kovan%20Hougang%20Market%20and%20Food%20Centre%29%3C/div%3E%60%29%5B0%5D%3B%0A%20%20%20%20%20%20%20%20%20%20%20%20%20%20%20%20popup_7fd9e83cf98b4478b9429fb5f4bf83ba.setContent%28html_ba40cb4bfb9948f19163f07dcbd20a93%29%3B%0A%20%20%20%20%20%20%20%20%20%20%20%20%0A%0A%20%20%20%20%20%20%20%20%20%20%20%20marker_cd8b6d991f9f4e2da060742736787ec1.bindPopup%28popup_7fd9e83cf98b4478b9429fb5f4bf83ba%29%0A%20%20%20%20%20%20%20%20%20%20%20%20%3B%0A%0A%20%20%20%20%20%20%20%20%20%20%20%20%0A%20%20%20%20%20%20%20%20%0A%20%20%20%20%0A%20%20%20%20%20%20%20%20var%20marker_9c57476e030e45809680ce0ec9edc145%20%3D%20L.marker%28%0A%20%20%20%20%20%20%20%20%20%20%20%20%5B1.3024300340000001%2C%20103.88397979999999%5D%2C%0A%20%20%20%20%20%20%20%20%20%20%20%20%7B%0A%20%20%20%20%20%20%20%20%20%20%20%20%20%20%20%20icon%3A%20new%20L.Icon.Default%28%29%2C%0A%20%20%20%20%20%20%20%20%20%20%20%20%20%20%20%20%7D%0A%20%20%20%20%20%20%20%20%20%20%20%20%29.addTo%28map_f0453ca49538401ea2902b9d8954580b%29%3B%0A%20%20%20%20%20%20%20%20%0A%20%20%20%20%0A%20%20%20%20%20%20%20%20%20%20%20%20var%20popup_f0b4f29abe624988879fc1ff4a56d0ce%20%3D%20L.popup%28%7BmaxWidth%3A%20%27100%25%27%0A%20%20%20%20%20%20%20%20%20%20%20%20%0A%20%20%20%20%20%20%20%20%20%20%20%20%7D%29%3B%0A%0A%20%20%20%20%20%20%20%20%20%20%20%20%0A%20%20%20%20%20%20%20%20%20%20%20%20%20%20%20%20var%20html_dc87fa5380b24b74af67b70987e57f4e%20%3D%20%24%28%60%3Cdiv%20id%3D%22html_dc87fa5380b24b74af67b70987e57f4e%22%20style%3D%22width%3A%20100.0%25%3B%20height%3A%20100.0%25%3B%22%3EJalan%20Batu%20Blk%204A%20%28Blk%204A%20Jalan%20Batu%20Hawker%20Centre/Market%29%3C/div%3E%60%29%5B0%5D%3B%0A%20%20%20%20%20%20%20%20%20%20%20%20%20%20%20%20popup_f0b4f29abe624988879fc1ff4a56d0ce.setContent%28html_dc87fa5380b24b74af67b70987e57f4e%29%3B%0A%20%20%20%20%20%20%20%20%20%20%20%20%0A%0A%20%20%20%20%20%20%20%20%20%20%20%20marker_9c57476e030e45809680ce0ec9edc145.bindPopup%28popup_f0b4f29abe624988879fc1ff4a56d0ce%29%0A%20%20%20%20%20%20%20%20%20%20%20%20%3B%0A%0A%20%20%20%20%20%20%20%20%20%20%20%20%0A%20%20%20%20%20%20%20%20%0A%20%20%20%20%0A%20%20%20%20%20%20%20%20var%20marker_9bb04ab5c87949f89fd668c5e493dd47%20%3D%20L.marker%28%0A%20%20%20%20%20%20%20%20%20%20%20%20%5B1.280069947%2C%20103.82607270000001%5D%2C%0A%20%20%20%20%20%20%20%20%20%20%20%20%7B%0A%20%20%20%20%20%20%20%20%20%20%20%20%20%20%20%20icon%3A%20new%20L.Icon.Default%28%29%2C%0A%20%20%20%20%20%20%20%20%20%20%20%20%20%20%20%20%7D%0A%20%20%20%20%20%20%20%20%20%20%20%20%29.addTo%28map_f0453ca49538401ea2902b9d8954580b%29%3B%0A%20%20%20%20%20%20%20%20%0A%20%20%20%20%0A%20%20%20%20%20%20%20%20%20%20%20%20var%20popup_687b953b16de4200ad42ee7ad6a1e591%20%3D%20L.popup%28%7BmaxWidth%3A%20%27100%25%27%0A%20%20%20%20%20%20%20%20%20%20%20%20%0A%20%20%20%20%20%20%20%20%20%20%20%20%7D%29%3B%0A%0A%20%20%20%20%20%20%20%20%20%20%20%20%0A%20%20%20%20%20%20%20%20%20%20%20%20%20%20%20%20var%20html_50f75c9da5f8484697fedaa4e901be44%20%3D%20%24%28%60%3Cdiv%20id%3D%22html_50f75c9da5f8484697fedaa4e901be44%22%20style%3D%22width%3A%20100.0%25%3B%20height%3A%20100.0%25%3B%22%3EJalan%20Bukit%20Merah%20Blk%20112%20%28Blk%20112%20Jalan%20Bukit%20Merah%20Market%20and%20Food%20Centre%29%3C/div%3E%60%29%5B0%5D%3B%0A%20%20%20%20%20%20%20%20%20%20%20%20%20%20%20%20popup_687b953b16de4200ad42ee7ad6a1e591.setContent%28html_50f75c9da5f8484697fedaa4e901be44%29%3B%0A%20%20%20%20%20%20%20%20%20%20%20%20%0A%0A%20%20%20%20%20%20%20%20%20%20%20%20marker_9bb04ab5c87949f89fd668c5e493dd47.bindPopup%28popup_687b953b16de4200ad42ee7ad6a1e591%29%0A%20%20%20%20%20%20%20%20%20%20%20%20%3B%0A%0A%20%20%20%20%20%20%20%20%20%20%20%20%0A%20%20%20%20%20%20%20%20%0A%20%20%20%20%0A%20%20%20%20%20%20%20%20var%20marker_50c7d307f37f4411836dbc8777278513%20%3D%20L.marker%28%0A%20%20%20%20%20%20%20%20%20%20%20%20%5B1.287009954%2C%20103.8081894%5D%2C%0A%20%20%20%20%20%20%20%20%20%20%20%20%7B%0A%20%20%20%20%20%20%20%20%20%20%20%20%20%20%20%20icon%3A%20new%20L.Icon.Default%28%29%2C%0A%20%20%20%20%20%20%20%20%20%20%20%20%20%20%20%20%7D%0A%20%20%20%20%20%20%20%20%20%20%20%20%29.addTo%28map_f0453ca49538401ea2902b9d8954580b%29%3B%0A%20%20%20%20%20%20%20%20%0A%20%20%20%20%0A%20%20%20%20%20%20%20%20%20%20%20%20var%20popup_019c24797712485fb8de633db5cf698e%20%3D%20L.popup%28%7BmaxWidth%3A%20%27100%25%27%0A%20%20%20%20%20%20%20%20%20%20%20%20%0A%20%20%20%20%20%20%20%20%20%20%20%20%7D%29%3B%0A%0A%20%20%20%20%20%20%20%20%20%20%20%20%0A%20%20%20%20%20%20%20%20%20%20%20%20%20%20%20%20var%20html_415f511ca49b4813912af16c89ddfacd%20%3D%20%24%28%60%3Cdiv%20id%3D%22html_415f511ca49b4813912af16c89ddfacd%22%20style%3D%22width%3A%20100.0%25%3B%20height%3A%20100.0%25%3B%22%3EJalan%20Bukit%20Merah%20Blk%206%20%28ABC%20Brickworks%20Market/Food%20Centre%29%3C/div%3E%60%29%5B0%5D%3B%0A%20%20%20%20%20%20%20%20%20%20%20%20%20%20%20%20popup_019c24797712485fb8de633db5cf698e.setContent%28html_415f511ca49b4813912af16c89ddfacd%29%3B%0A%20%20%20%20%20%20%20%20%20%20%20%20%0A%0A%20%20%20%20%20%20%20%20%20%20%20%20marker_50c7d307f37f4411836dbc8777278513.bindPopup%28popup_019c24797712485fb8de633db5cf698e%29%0A%20%20%20%20%20%20%20%20%20%20%20%20%3B%0A%0A%20%20%20%20%20%20%20%20%20%20%20%20%0A%20%20%20%20%20%20%20%20%0A%20%20%20%20%0A%20%20%20%20%20%20%20%20var%20marker_a198c26f14844ef4922753f4d51c2059%20%3D%20L.marker%28%0A%20%20%20%20%20%20%20%20%20%20%20%20%5B1.288319945%2C%20103.8399963%5D%2C%0A%20%20%20%20%20%20%20%20%20%20%20%20%7B%0A%20%20%20%20%20%20%20%20%20%20%20%20%20%20%20%20icon%3A%20new%20L.Icon.Default%28%29%2C%0A%20%20%20%20%20%20%20%20%20%20%20%20%20%20%20%20%7D%0A%20%20%20%20%20%20%20%20%20%20%20%20%29.addTo%28map_f0453ca49538401ea2902b9d8954580b%29%3B%0A%20%20%20%20%20%20%20%20%0A%20%20%20%20%0A%20%20%20%20%20%20%20%20%20%20%20%20var%20popup_312bf4c9b9fe474b9d5c71bbf4b56ab6%20%3D%20L.popup%28%7BmaxWidth%3A%20%27100%25%27%0A%20%20%20%20%20%20%20%20%20%20%20%20%0A%20%20%20%20%20%20%20%20%20%20%20%20%7D%29%3B%0A%0A%20%20%20%20%20%20%20%20%20%20%20%20%0A%20%20%20%20%20%20%20%20%20%20%20%20%20%20%20%20var%20html_28e7df713f554720b663c0ad4f48be0c%20%3D%20%24%28%60%3Cdiv%20id%3D%22html_28e7df713f554720b663c0ad4f48be0c%22%20style%3D%22width%3A%20100.0%25%3B%20height%3A%20100.0%25%3B%22%3EJalan%20Kukoh%20Blk%201%20%28Kukoh%2021%20Food%20Centre%29%3C/div%3E%60%29%5B0%5D%3B%0A%20%20%20%20%20%20%20%20%20%20%20%20%20%20%20%20popup_312bf4c9b9fe474b9d5c71bbf4b56ab6.setContent%28html_28e7df713f554720b663c0ad4f48be0c%29%3B%0A%20%20%20%20%20%20%20%20%20%20%20%20%0A%0A%20%20%20%20%20%20%20%20%20%20%20%20marker_a198c26f14844ef4922753f4d51c2059.bindPopup%28popup_312bf4c9b9fe474b9d5c71bbf4b56ab6%29%0A%20%20%20%20%20%20%20%20%20%20%20%20%3B%0A%0A%20%20%20%20%20%20%20%20%20%20%20%20%0A%20%20%20%20%20%20%20%20%0A%20%20%20%20%0A%20%20%20%20%20%20%20%20var%20marker_c47c5c0d87a0423a963708a31c37543a%20%3D%20L.marker%28%0A%20%20%20%20%20%20%20%20%20%20%20%20%5B1.345360041%2C%20103.73158259999998%5D%2C%0A%20%20%20%20%20%20%20%20%20%20%20%20%7B%0A%20%20%20%20%20%20%20%20%20%20%20%20%20%20%20%20icon%3A%20new%20L.Icon.Default%28%29%2C%0A%20%20%20%20%20%20%20%20%20%20%20%20%20%20%20%20%7D%0A%20%20%20%20%20%20%20%20%20%20%20%20%29.addTo%28map_f0453ca49538401ea2902b9d8954580b%29%3B%0A%20%20%20%20%20%20%20%20%0A%20%20%20%20%0A%20%20%20%20%20%20%20%20%20%20%20%20var%20popup_35a411f8a30c4b00a88dc5622f8beb18%20%3D%20L.popup%28%7BmaxWidth%3A%20%27100%25%27%0A%20%20%20%20%20%20%20%20%20%20%20%20%0A%20%20%20%20%20%20%20%20%20%20%20%20%7D%29%3B%0A%0A%20%20%20%20%20%20%20%20%20%20%20%20%0A%20%20%20%20%20%20%20%20%20%20%20%20%20%20%20%20var%20html_e69ec017c6d642139d4838c0ab5ad896%20%3D%20%24%28%60%3Cdiv%20id%3D%22html_e69ec017c6d642139d4838c0ab5ad896%22%20style%3D%22width%3A%20100.0%25%3B%20height%3A%20100.0%25%3B%22%3EJurong%20East%20Ave%201%20Blk%20347%20%28Yuhua%20Market%20and%20Hawker%20Centre%29%3C/div%3E%60%29%5B0%5D%3B%0A%20%20%20%20%20%20%20%20%20%20%20%20%20%20%20%20popup_35a411f8a30c4b00a88dc5622f8beb18.setContent%28html_e69ec017c6d642139d4838c0ab5ad896%29%3B%0A%20%20%20%20%20%20%20%20%20%20%20%20%0A%0A%20%20%20%20%20%20%20%20%20%20%20%20marker_c47c5c0d87a0423a963708a31c37543a.bindPopup%28popup_35a411f8a30c4b00a88dc5622f8beb18%29%0A%20%20%20%20%20%20%20%20%20%20%20%20%3B%0A%0A%20%20%20%20%20%20%20%20%20%20%20%20%0A%20%20%20%20%20%20%20%20%0A%20%20%20%20%0A%20%20%20%20%20%20%20%20var%20marker_fc42aceba7134de29bb3712fd1f670c3%20%3D%20L.marker%28%0A%20%20%20%20%20%20%20%20%20%20%20%20%5B1.3434330230000002%2C%20103.73768620000001%5D%2C%0A%20%20%20%20%20%20%20%20%20%20%20%20%7B%0A%20%20%20%20%20%20%20%20%20%20%20%20%20%20%20%20icon%3A%20new%20L.Icon.Default%28%29%2C%0A%20%20%20%20%20%20%20%20%20%20%20%20%20%20%20%20%7D%0A%20%20%20%20%20%20%20%20%20%20%20%20%29.addTo%28map_f0453ca49538401ea2902b9d8954580b%29%3B%0A%20%20%20%20%20%20%20%20%0A%20%20%20%20%0A%20%20%20%20%20%20%20%20%20%20%20%20var%20popup_ca18f2842bcc4095b3b6f99fbde9fe1e%20%3D%20L.popup%28%7BmaxWidth%3A%20%27100%25%27%0A%20%20%20%20%20%20%20%20%20%20%20%20%0A%20%20%20%20%20%20%20%20%20%20%20%20%7D%29%3B%0A%0A%20%20%20%20%20%20%20%20%20%20%20%20%0A%20%20%20%20%20%20%20%20%20%20%20%20%20%20%20%20var%20html_c15d8c4285e3455a9e74166b3bde2c43%20%3D%20%24%28%60%3Cdiv%20id%3D%22html_c15d8c4285e3455a9e74166b3bde2c43%22%20style%3D%22width%3A%20100.0%25%3B%20height%3A%20100.0%25%3B%22%3EJurong%20East%20Street%2024%20Blk%20254%20%28Yuhua%20Village%20Market%20and%20Food%20Centre%29%3C/div%3E%60%29%5B0%5D%3B%0A%20%20%20%20%20%20%20%20%20%20%20%20%20%20%20%20popup_ca18f2842bcc4095b3b6f99fbde9fe1e.setContent%28html_c15d8c4285e3455a9e74166b3bde2c43%29%3B%0A%20%20%20%20%20%20%20%20%20%20%20%20%0A%0A%20%20%20%20%20%20%20%20%20%20%20%20marker_fc42aceba7134de29bb3712fd1f670c3.bindPopup%28popup_ca18f2842bcc4095b3b6f99fbde9fe1e%29%0A%20%20%20%20%20%20%20%20%20%20%20%20%3B%0A%0A%20%20%20%20%20%20%20%20%20%20%20%20%0A%20%20%20%20%20%20%20%20%0A%20%20%20%20%0A%20%20%20%20%20%20%20%20var%20marker_a778410691c4442caca7e561da121406%20%3D%20L.marker%28%0A%20%20%20%20%20%20%20%20%20%20%20%20%5B1.341223%2C%20103.697374%5D%2C%0A%20%20%20%20%20%20%20%20%20%20%20%20%7B%0A%20%20%20%20%20%20%20%20%20%20%20%20%20%20%20%20icon%3A%20new%20L.Icon.Default%28%29%2C%0A%20%20%20%20%20%20%20%20%20%20%20%20%20%20%20%20%7D%0A%20%20%20%20%20%20%20%20%20%20%20%20%29.addTo%28map_f0453ca49538401ea2902b9d8954580b%29%3B%0A%20%20%20%20%20%20%20%20%0A%20%20%20%20%0A%20%20%20%20%20%20%20%20%20%20%20%20var%20popup_cb3dd815df254f05a48dbf02b7333789%20%3D%20L.popup%28%7BmaxWidth%3A%20%27100%25%27%0A%20%20%20%20%20%20%20%20%20%20%20%20%0A%20%20%20%20%20%20%20%20%20%20%20%20%7D%29%3B%0A%0A%20%20%20%20%20%20%20%20%20%20%20%20%0A%20%20%20%20%20%20%20%20%20%20%20%20%20%20%20%20var%20html_18bbf104580e427c874c6fa658aa0b94%20%3D%20%24%28%60%3Cdiv%20id%3D%22html_18bbf104580e427c874c6fa658aa0b94%22%20style%3D%22width%3A%20100.0%25%3B%20height%3A%20100.0%25%3B%22%3EJurong%20West%20Hawker%20Centre%3C/div%3E%60%29%5B0%5D%3B%0A%20%20%20%20%20%20%20%20%20%20%20%20%20%20%20%20popup_cb3dd815df254f05a48dbf02b7333789.setContent%28html_18bbf104580e427c874c6fa658aa0b94%29%3B%0A%20%20%20%20%20%20%20%20%20%20%20%20%0A%0A%20%20%20%20%20%20%20%20%20%20%20%20marker_a778410691c4442caca7e561da121406.bindPopup%28popup_cb3dd815df254f05a48dbf02b7333789%29%0A%20%20%20%20%20%20%20%20%20%20%20%20%3B%0A%0A%20%20%20%20%20%20%20%20%20%20%20%20%0A%20%20%20%20%20%20%20%20%0A%20%20%20%20%0A%20%20%20%20%20%20%20%20var%20marker_16cfaa8ebeb546a1a15c18b09fcda7c4%20%3D%20L.marker%28%0A%20%20%20%20%20%20%20%20%20%20%20%20%5B1.349699974%2C%20103.71846009999999%5D%2C%0A%20%20%20%20%20%20%20%20%20%20%20%20%7B%0A%20%20%20%20%20%20%20%20%20%20%20%20%20%20%20%20icon%3A%20new%20L.Icon.Default%28%29%2C%0A%20%20%20%20%20%20%20%20%20%20%20%20%20%20%20%20%7D%0A%20%20%20%20%20%20%20%20%20%20%20%20%29.addTo%28map_f0453ca49538401ea2902b9d8954580b%29%3B%0A%20%20%20%20%20%20%20%20%0A%20%20%20%20%0A%20%20%20%20%20%20%20%20%20%20%20%20var%20popup_7b6025fada7d4605bf14e0525c545bd1%20%3D%20L.popup%28%7BmaxWidth%3A%20%27100%25%27%0A%20%20%20%20%20%20%20%20%20%20%20%20%0A%20%20%20%20%20%20%20%20%20%20%20%20%7D%29%3B%0A%0A%20%20%20%20%20%20%20%20%20%20%20%20%0A%20%20%20%20%20%20%20%20%20%20%20%20%20%20%20%20var%20html_d2d45b01cdf644fb8011460657b8f81c%20%3D%20%24%28%60%3Cdiv%20id%3D%22html_d2d45b01cdf644fb8011460657b8f81c%22%20style%3D%22width%3A%20100.0%25%3B%20height%3A%20100.0%25%3B%22%3EJurong%20West%20Street%2052%20Blk%20505%3C/div%3E%60%29%5B0%5D%3B%0A%20%20%20%20%20%20%20%20%20%20%20%20%20%20%20%20popup_7b6025fada7d4605bf14e0525c545bd1.setContent%28html_d2d45b01cdf644fb8011460657b8f81c%29%3B%0A%20%20%20%20%20%20%20%20%20%20%20%20%0A%0A%20%20%20%20%20%20%20%20%20%20%20%20marker_16cfaa8ebeb546a1a15c18b09fcda7c4.bindPopup%28popup_7b6025fada7d4605bf14e0525c545bd1%29%0A%20%20%20%20%20%20%20%20%20%20%20%20%3B%0A%0A%20%20%20%20%20%20%20%20%20%20%20%20%0A%20%20%20%20%20%20%20%20%0A%20%20%20%20%0A%20%20%20%20%20%20%20%20var%20marker_e240838ff70b447a95dc45b42e758cbc%20%3D%20L.marker%28%0A%20%20%20%20%20%20%20%20%20%20%20%20%5B1.307112455%2C%20103.88414759999999%5D%2C%0A%20%20%20%20%20%20%20%20%20%20%20%20%7B%0A%20%20%20%20%20%20%20%20%20%20%20%20%20%20%20%20icon%3A%20new%20L.Icon.Default%28%29%2C%0A%20%20%20%20%20%20%20%20%20%20%20%20%20%20%20%20%7D%0A%20%20%20%20%20%20%20%20%20%20%20%20%29.addTo%28map_f0453ca49538401ea2902b9d8954580b%29%3B%0A%20%20%20%20%20%20%20%20%0A%20%20%20%20%0A%20%20%20%20%20%20%20%20%20%20%20%20var%20popup_1d458f2171c041afbe3e92c430791b83%20%3D%20L.popup%28%7BmaxWidth%3A%20%27100%25%27%0A%20%20%20%20%20%20%20%20%20%20%20%20%0A%20%20%20%20%20%20%20%20%20%20%20%20%7D%29%3B%0A%0A%20%20%20%20%20%20%20%20%20%20%20%20%0A%20%20%20%20%20%20%20%20%20%20%20%20%20%20%20%20var%20html_410e0886d8034809ae392435ffb8a766%20%3D%20%24%28%60%3Cdiv%20id%3D%22html_410e0886d8034809ae392435ffb8a766%22%20style%3D%22width%3A%20100.0%25%3B%20height%3A%20100.0%25%3B%22%3EKallang%20Estate%20Fresh%20Market%20and%20Food%20Centre%3C/div%3E%60%29%5B0%5D%3B%0A%20%20%20%20%20%20%20%20%20%20%20%20%20%20%20%20popup_1d458f2171c041afbe3e92c430791b83.setContent%28html_410e0886d8034809ae392435ffb8a766%29%3B%0A%20%20%20%20%20%20%20%20%20%20%20%20%0A%0A%20%20%20%20%20%20%20%20%20%20%20%20marker_e240838ff70b447a95dc45b42e758cbc.bindPopup%28popup_1d458f2171c041afbe3e92c430791b83%29%0A%20%20%20%20%20%20%20%20%20%20%20%20%3B%0A%0A%20%20%20%20%20%20%20%20%20%20%20%20%0A%20%20%20%20%20%20%20%20%0A%20%20%20%20%0A%20%20%20%20%20%20%20%20var%20marker_95b239830186448b86d7bf2a51198430%20%3D%20L.marker%28%0A%20%20%20%20%20%20%20%20%20%20%20%20%5B1.4401190000000001%2C%20103.800735%5D%2C%0A%20%20%20%20%20%20%20%20%20%20%20%20%7B%0A%20%20%20%20%20%20%20%20%20%20%20%20%20%20%20%20icon%3A%20new%20L.Icon.Default%28%29%2C%0A%20%20%20%20%20%20%20%20%20%20%20%20%20%20%20%20%7D%0A%20%20%20%20%20%20%20%20%20%20%20%20%29.addTo%28map_f0453ca49538401ea2902b9d8954580b%29%3B%0A%20%20%20%20%20%20%20%20%0A%20%20%20%20%0A%20%20%20%20%20%20%20%20%20%20%20%20var%20popup_775764c37d1146c5893889adc540d597%20%3D%20L.popup%28%7BmaxWidth%3A%20%27100%25%27%0A%20%20%20%20%20%20%20%20%20%20%20%20%0A%20%20%20%20%20%20%20%20%20%20%20%20%7D%29%3B%0A%0A%20%20%20%20%20%20%20%20%20%20%20%20%0A%20%20%20%20%20%20%20%20%20%20%20%20%20%20%20%20var%20html_cbfbf72c56a140b4a12a3dc5b89b1e74%20%3D%20%24%28%60%3Cdiv%20id%3D%22html_cbfbf72c56a140b4a12a3dc5b89b1e74%22%20style%3D%22width%3A%20100.0%25%3B%20height%3A%20100.0%25%3B%22%3EKampung%20Admiralty%20Hawker%20Centre%3C/div%3E%60%29%5B0%5D%3B%0A%20%20%20%20%20%20%20%20%20%20%20%20%20%20%20%20popup_775764c37d1146c5893889adc540d597.setContent%28html_cbfbf72c56a140b4a12a3dc5b89b1e74%29%3B%0A%20%20%20%20%20%20%20%20%20%20%20%20%0A%0A%20%20%20%20%20%20%20%20%20%20%20%20marker_95b239830186448b86d7bf2a51198430.bindPopup%28popup_775764c37d1146c5893889adc540d597%29%0A%20%20%20%20%20%20%20%20%20%20%20%20%3B%0A%0A%20%20%20%20%20%20%20%20%20%20%20%20%0A%20%20%20%20%20%20%20%20%0A%20%20%20%20%0A%20%20%20%20%20%20%20%20var%20marker_625cab9ee8124bfaaabd48e816b576f4%20%3D%20L.marker%28%0A%20%20%20%20%20%20%20%20%20%20%20%20%5B1.302330017%2C%20103.9063873%5D%2C%0A%20%20%20%20%20%20%20%20%20%20%20%20%7B%0A%20%20%20%20%20%20%20%20%20%20%20%20%20%20%20%20icon%3A%20new%20L.Icon.Default%28%29%2C%0A%20%20%20%20%20%20%20%20%20%20%20%20%20%20%20%20%7D%0A%20%20%20%20%20%20%20%20%20%20%20%20%29.addTo%28map_f0453ca49538401ea2902b9d8954580b%29%3B%0A%20%20%20%20%20%20%20%20%0A%20%20%20%20%0A%20%20%20%20%20%20%20%20%20%20%20%20var%20popup_ad3aded87679497db50462a1f1c942da%20%3D%20L.popup%28%7BmaxWidth%3A%20%27100%25%27%0A%20%20%20%20%20%20%20%20%20%20%20%20%0A%20%20%20%20%20%20%20%20%20%20%20%20%7D%29%3B%0A%0A%20%20%20%20%20%20%20%20%20%20%20%20%0A%20%20%20%20%20%20%20%20%20%20%20%20%20%20%20%20var%20html_9e6f0a4cdfa54524a88ec20bbbae6245%20%3D%20%24%28%60%3Cdiv%20id%3D%22html_9e6f0a4cdfa54524a88ec20bbbae6245%22%20style%3D%22width%3A%20100.0%25%3B%20height%3A%20100.0%25%3B%22%3EMarine%20Parade%20Central%20Blk%2084%20%2884%20Marine%20Parade%20Central%20Market%20and%20Food%20Centre%29%3C/div%3E%60%29%5B0%5D%3B%0A%20%20%20%20%20%20%20%20%20%20%20%20%20%20%20%20popup_ad3aded87679497db50462a1f1c942da.setContent%28html_9e6f0a4cdfa54524a88ec20bbbae6245%29%3B%0A%20%20%20%20%20%20%20%20%20%20%20%20%0A%0A%20%20%20%20%20%20%20%20%20%20%20%20marker_625cab9ee8124bfaaabd48e816b576f4.bindPopup%28popup_ad3aded87679497db50462a1f1c942da%29%0A%20%20%20%20%20%20%20%20%20%20%20%20%3B%0A%0A%20%20%20%20%20%20%20%20%20%20%20%20%0A%20%20%20%20%20%20%20%20%0A%20%20%20%20%0A%20%20%20%20%20%20%20%20var%20marker_f924a71a204a4b6e9cf441516a6d2066%20%3D%20L.marker%28%0A%20%20%20%20%20%20%20%20%20%20%20%20%5B1.305809975%2C%20103.91578670000001%5D%2C%0A%20%20%20%20%20%20%20%20%20%20%20%20%7B%0A%20%20%20%20%20%20%20%20%20%20%20%20%20%20%20%20icon%3A%20new%20L.Icon.Default%28%29%2C%0A%20%20%20%20%20%20%20%20%20%20%20%20%20%20%20%20%7D%0A%20%20%20%20%20%20%20%20%20%20%20%20%29.addTo%28map_f0453ca49538401ea2902b9d8954580b%29%3B%0A%20%20%20%20%20%20%20%20%0A%20%20%20%20%0A%20%20%20%20%20%20%20%20%20%20%20%20var%20popup_c0e19b50e92d41508eadf62971bd96c7%20%3D%20L.popup%28%7BmaxWidth%3A%20%27100%25%27%0A%20%20%20%20%20%20%20%20%20%20%20%20%0A%20%20%20%20%20%20%20%20%20%20%20%20%7D%29%3B%0A%0A%20%20%20%20%20%20%20%20%20%20%20%20%0A%20%20%20%20%20%20%20%20%20%20%20%20%20%20%20%20var%20html_1339613355ba46f3b83df568e5e7e4ce%20%3D%20%24%28%60%3Cdiv%20id%3D%22html_1339613355ba46f3b83df568e5e7e4ce%22%20style%3D%22width%3A%20100.0%25%3B%20height%3A%20100.0%25%3B%22%3EMarine%20Terrace%20Blk%2050A%20%2850A%20Marine%20Terrace%29%3C/div%3E%60%29%5B0%5D%3B%0A%20%20%20%20%20%20%20%20%20%20%20%20%20%20%20%20popup_c0e19b50e92d41508eadf62971bd96c7.setContent%28html_1339613355ba46f3b83df568e5e7e4ce%29%3B%0A%20%20%20%20%20%20%20%20%20%20%20%20%0A%0A%20%20%20%20%20%20%20%20%20%20%20%20marker_f924a71a204a4b6e9cf441516a6d2066.bindPopup%28popup_c0e19b50e92d41508eadf62971bd96c7%29%0A%20%20%20%20%20%20%20%20%20%20%20%20%3B%0A%0A%20%20%20%20%20%20%20%20%20%20%20%20%0A%20%20%20%20%20%20%20%20%0A%20%20%20%20%0A%20%20%20%20%20%20%20%20var%20marker_9fb678fbf5214a8aaa6d9f0d0613fa15%20%3D%20L.marker%28%0A%20%20%20%20%20%20%20%20%20%20%20%20%5B1.281567926%2C%20103.8488473%5D%2C%0A%20%20%20%20%20%20%20%20%20%20%20%20%7B%0A%20%20%20%20%20%20%20%20%20%20%20%20%20%20%20%20icon%3A%20new%20L.Icon.Default%28%29%2C%0A%20%20%20%20%20%20%20%20%20%20%20%20%20%20%20%20%7D%0A%20%20%20%20%20%20%20%20%20%20%20%20%29.addTo%28map_f0453ca49538401ea2902b9d8954580b%29%3B%0A%20%20%20%20%20%20%20%20%0A%20%20%20%20%0A%20%20%20%20%20%20%20%20%20%20%20%20var%20popup_58ab190f6313451db1b7b842bccd1a94%20%3D%20L.popup%28%7BmaxWidth%3A%20%27100%25%27%0A%20%20%20%20%20%20%20%20%20%20%20%20%0A%20%20%20%20%20%20%20%20%20%20%20%20%7D%29%3B%0A%0A%20%20%20%20%20%20%20%20%20%20%20%20%0A%20%20%20%20%20%20%20%20%20%20%20%20%20%20%20%20var%20html_617287b884994794b63a728ce32fb8f1%20%3D%20%24%28%60%3Cdiv%20id%3D%22html_617287b884994794b63a728ce32fb8f1%22%20style%3D%22width%3A%20100.0%25%3B%20height%3A%20100.0%25%3B%22%3EMarket%20Street%20Interim%20Hawker%20Centre%3C/div%3E%60%29%5B0%5D%3B%0A%20%20%20%20%20%20%20%20%20%20%20%20%20%20%20%20popup_58ab190f6313451db1b7b842bccd1a94.setContent%28html_617287b884994794b63a728ce32fb8f1%29%3B%0A%20%20%20%20%20%20%20%20%20%20%20%20%0A%0A%20%20%20%20%20%20%20%20%20%20%20%20marker_9fb678fbf5214a8aaa6d9f0d0613fa15.bindPopup%28popup_58ab190f6313451db1b7b842bccd1a94%29%0A%20%20%20%20%20%20%20%20%20%20%20%20%3B%0A%0A%20%20%20%20%20%20%20%20%20%20%20%20%0A%20%20%20%20%20%20%20%20%0A%20%20%20%20%0A%20%20%20%20%20%20%20%20var%20marker_5cf9cc8ae7a445e8a53325611ea64313%20%3D%20L.marker%28%0A%20%20%20%20%20%20%20%20%20%20%20%20%5B1.4439899919999999%2C%20103.7772598%5D%2C%0A%20%20%20%20%20%20%20%20%20%20%20%20%7B%0A%20%20%20%20%20%20%20%20%20%20%20%20%20%20%20%20icon%3A%20new%20L.Icon.Default%28%29%2C%0A%20%20%20%20%20%20%20%20%20%20%20%20%20%20%20%20%7D%0A%20%20%20%20%20%20%20%20%20%20%20%20%29.addTo%28map_f0453ca49538401ea2902b9d8954580b%29%3B%0A%20%20%20%20%20%20%20%20%0A%20%20%20%20%0A%20%20%20%20%20%20%20%20%20%20%20%20var%20popup_54a67715a5e44101984435471289efc2%20%3D%20L.popup%28%7BmaxWidth%3A%20%27100%25%27%0A%20%20%20%20%20%20%20%20%20%20%20%20%0A%20%20%20%20%20%20%20%20%20%20%20%20%7D%29%3B%0A%0A%20%20%20%20%20%20%20%20%20%20%20%20%0A%20%20%20%20%20%20%20%20%20%20%20%20%20%20%20%20var%20html_dc05d996217f425fb8688bc599091b54%20%3D%20%24%28%60%3Cdiv%20id%3D%22html_dc05d996217f425fb8688bc599091b54%22%20style%3D%22width%3A%20100.0%25%3B%20height%3A%20100.0%25%3B%22%3EMarsiling%20Lane%20Blk%2020/21%3C/div%3E%60%29%5B0%5D%3B%0A%20%20%20%20%20%20%20%20%20%20%20%20%20%20%20%20popup_54a67715a5e44101984435471289efc2.setContent%28html_dc05d996217f425fb8688bc599091b54%29%3B%0A%20%20%20%20%20%20%20%20%20%20%20%20%0A%0A%20%20%20%20%20%20%20%20%20%20%20%20marker_5cf9cc8ae7a445e8a53325611ea64313.bindPopup%28popup_54a67715a5e44101984435471289efc2%29%0A%20%20%20%20%20%20%20%20%20%20%20%20%3B%0A%0A%20%20%20%20%20%20%20%20%20%20%20%20%0A%20%20%20%20%20%20%20%20%0A%20%20%20%20%0A%20%20%20%20%20%20%20%20var%20marker_56997eac47be4fc5a33a8c887c320bf4%20%3D%20L.marker%28%0A%20%20%20%20%20%20%20%20%20%20%20%20%5B1.433543%2C%20103.779881%5D%2C%0A%20%20%20%20%20%20%20%20%20%20%20%20%7B%0A%20%20%20%20%20%20%20%20%20%20%20%20%20%20%20%20icon%3A%20new%20L.Icon.Default%28%29%2C%0A%20%20%20%20%20%20%20%20%20%20%20%20%20%20%20%20%7D%0A%20%20%20%20%20%20%20%20%20%20%20%20%29.addTo%28map_f0453ca49538401ea2902b9d8954580b%29%3B%0A%20%20%20%20%20%20%20%20%0A%20%20%20%20%0A%20%20%20%20%20%20%20%20%20%20%20%20var%20popup_28d5a73984774d75b2ab892aadf84f61%20%3D%20L.popup%28%7BmaxWidth%3A%20%27100%25%27%0A%20%20%20%20%20%20%20%20%20%20%20%20%0A%20%20%20%20%20%20%20%20%20%20%20%20%7D%29%3B%0A%0A%20%20%20%20%20%20%20%20%20%20%20%20%0A%20%20%20%20%20%20%20%20%20%20%20%20%20%20%20%20var%20html_46b2a4d84c05475fad01af83d6866ca1%20%3D%20%24%28%60%3Cdiv%20id%3D%22html_46b2a4d84c05475fad01af83d6866ca1%22%20style%3D%22width%3A%20100.0%25%3B%20height%3A%20100.0%25%3B%22%3EMarsiling%20Mall%20Hawker%20Centre%3C/div%3E%60%29%5B0%5D%3B%0A%20%20%20%20%20%20%20%20%20%20%20%20%20%20%20%20popup_28d5a73984774d75b2ab892aadf84f61.setContent%28html_46b2a4d84c05475fad01af83d6866ca1%29%3B%0A%20%20%20%20%20%20%20%20%20%20%20%20%0A%0A%20%20%20%20%20%20%20%20%20%20%20%20marker_56997eac47be4fc5a33a8c887c320bf4.bindPopup%28popup_28d5a73984774d75b2ab892aadf84f61%29%0A%20%20%20%20%20%20%20%20%20%20%20%20%3B%0A%0A%20%20%20%20%20%20%20%20%20%20%20%20%0A%20%20%20%20%20%20%20%20%0A%20%20%20%20%0A%20%20%20%20%20%20%20%20var%20marker_51c02288cd834c1794974b8622b8133e%20%3D%20L.marker%28%0A%20%20%20%20%20%20%20%20%20%20%20%20%5B1.280550957%2C%20103.8444595%5D%2C%0A%20%20%20%20%20%20%20%20%20%20%20%20%7B%0A%20%20%20%20%20%20%20%20%20%20%20%20%20%20%20%20icon%3A%20new%20L.Icon.Default%28%29%2C%0A%20%20%20%20%20%20%20%20%20%20%20%20%20%20%20%20%7D%0A%20%20%20%20%20%20%20%20%20%20%20%20%29.addTo%28map_f0453ca49538401ea2902b9d8954580b%29%3B%0A%20%20%20%20%20%20%20%20%0A%20%20%20%20%0A%20%20%20%20%20%20%20%20%20%20%20%20var%20popup_800998fe34404d77983714b03b2ef9f7%20%3D%20L.popup%28%7BmaxWidth%3A%20%27100%25%27%0A%20%20%20%20%20%20%20%20%20%20%20%20%0A%20%20%20%20%20%20%20%20%20%20%20%20%7D%29%3B%0A%0A%20%20%20%20%20%20%20%20%20%20%20%20%0A%20%20%20%20%20%20%20%20%20%20%20%20%20%20%20%20var%20html_fa202103b0c74e6faa6f3bf582eab78c%20%3D%20%24%28%60%3Cdiv%20id%3D%22html_fa202103b0c74e6faa6f3bf582eab78c%22%20style%3D%22width%3A%20100.0%25%3B%20height%3A%20100.0%25%3B%22%3EMaxwell%20Food%20Centre%20%28Kim%20Hua%20Market%29%3C/div%3E%60%29%5B0%5D%3B%0A%20%20%20%20%20%20%20%20%20%20%20%20%20%20%20%20popup_800998fe34404d77983714b03b2ef9f7.setContent%28html_fa202103b0c74e6faa6f3bf582eab78c%29%3B%0A%20%20%20%20%20%20%20%20%20%20%20%20%0A%0A%20%20%20%20%20%20%20%20%20%20%20%20marker_51c02288cd834c1794974b8622b8133e.bindPopup%28popup_800998fe34404d77983714b03b2ef9f7%29%0A%20%20%20%20%20%20%20%20%20%20%20%20%3B%0A%0A%20%20%20%20%20%20%20%20%20%20%20%20%0A%20%20%20%20%20%20%20%20%0A%20%20%20%20%0A%20%20%20%20%20%20%20%20var%20marker_e8de22b4ecfd4eed8e1ae7843478a1aa%20%3D%20L.marker%28%0A%20%20%20%20%20%20%20%20%20%20%20%20%5B1.293300033%2C%20103.80296329999999%5D%2C%0A%20%20%20%20%20%20%20%20%20%20%20%20%7B%0A%20%20%20%20%20%20%20%20%20%20%20%20%20%20%20%20icon%3A%20new%20L.Icon.Default%28%29%2C%0A%20%20%20%20%20%20%20%20%20%20%20%20%20%20%20%20%7D%0A%20%20%20%20%20%20%20%20%20%20%20%20%29.addTo%28map_f0453ca49538401ea2902b9d8954580b%29%3B%0A%20%20%20%20%20%20%20%20%0A%20%20%20%20%0A%20%20%20%20%20%20%20%20%20%20%20%20var%20popup_60d193051e2b473d88c11e76dddb0e65%20%3D%20L.popup%28%7BmaxWidth%3A%20%27100%25%27%0A%20%20%20%20%20%20%20%20%20%20%20%20%0A%20%20%20%20%20%20%20%20%20%20%20%20%7D%29%3B%0A%0A%20%20%20%20%20%20%20%20%20%20%20%20%0A%20%20%20%20%20%20%20%20%20%20%20%20%20%20%20%20var%20html_1c8e2a9a2ab34fa7909914a79a40b3b6%20%3D%20%24%28%60%3Cdiv%20id%3D%22html_1c8e2a9a2ab34fa7909914a79a40b3b6%22%20style%3D%22width%3A%20100.0%25%3B%20height%3A%20100.0%25%3B%22%3EMei%20Chin%20Road%20Blk%20159%20%28Mei%20Chin%20Road%20Market%29%3C/div%3E%60%29%5B0%5D%3B%0A%20%20%20%20%20%20%20%20%20%20%20%20%20%20%20%20popup_60d193051e2b473d88c11e76dddb0e65.setContent%28html_1c8e2a9a2ab34fa7909914a79a40b3b6%29%3B%0A%20%20%20%20%20%20%20%20%20%20%20%20%0A%0A%20%20%20%20%20%20%20%20%20%20%20%20marker_e8de22b4ecfd4eed8e1ae7843478a1aa.bindPopup%28popup_60d193051e2b473d88c11e76dddb0e65%29%0A%20%20%20%20%20%20%20%20%20%20%20%20%3B%0A%0A%20%20%20%20%20%20%20%20%20%20%20%20%0A%20%20%20%20%20%20%20%20%0A%20%20%20%20%0A%20%20%20%20%20%20%20%20var%20marker_5d4f683dbd504c158060c842bb15f34c%20%3D%20L.marker%28%0A%20%20%20%20%20%20%20%20%20%20%20%20%5B1.284870982%2C%20103.8425903%5D%2C%0A%20%20%20%20%20%20%20%20%20%20%20%20%7B%0A%20%20%20%20%20%20%20%20%20%20%20%20%20%20%20%20icon%3A%20new%20L.Icon.Default%28%29%2C%0A%20%20%20%20%20%20%20%20%20%20%20%20%20%20%20%20%7D%0A%20%20%20%20%20%20%20%20%20%20%20%20%29.addTo%28map_f0453ca49538401ea2902b9d8954580b%29%3B%0A%20%20%20%20%20%20%20%20%0A%20%20%20%20%0A%20%20%20%20%20%20%20%20%20%20%20%20var%20popup_c64e1d85751f451c97ccc8129cbb4007%20%3D%20L.popup%28%7BmaxWidth%3A%20%27100%25%27%0A%20%20%20%20%20%20%20%20%20%20%20%20%0A%20%20%20%20%20%20%20%20%20%20%20%20%7D%29%3B%0A%0A%20%20%20%20%20%20%20%20%20%20%20%20%0A%20%20%20%20%20%20%20%20%20%20%20%20%20%20%20%20var%20html_c5262f328c9e46f2aac1ea0fd728b796%20%3D%20%24%28%60%3Cdiv%20id%3D%22html_c5262f328c9e46f2aac1ea0fd728b796%22%20style%3D%22width%3A%20100.0%25%3B%20height%3A%20100.0%25%3B%22%3ENew%20Market%20Road%20Blk%2032%20%28People%27s%20Park%20Food%20Centre%29%3C/div%3E%60%29%5B0%5D%3B%0A%20%20%20%20%20%20%20%20%20%20%20%20%20%20%20%20popup_c64e1d85751f451c97ccc8129cbb4007.setContent%28html_c5262f328c9e46f2aac1ea0fd728b796%29%3B%0A%20%20%20%20%20%20%20%20%20%20%20%20%0A%0A%20%20%20%20%20%20%20%20%20%20%20%20marker_5d4f683dbd504c158060c842bb15f34c.bindPopup%28popup_c64e1d85751f451c97ccc8129cbb4007%29%0A%20%20%20%20%20%20%20%20%20%20%20%20%3B%0A%0A%20%20%20%20%20%20%20%20%20%20%20%20%0A%20%20%20%20%20%20%20%20%0A%20%20%20%20%0A%20%20%20%20%20%20%20%20var%20marker_3bb47e2d8634455b943e8f02995811be%20%3D%20L.marker%28%0A%20%20%20%20%20%20%20%20%20%20%20%20%5B1.324629%2C%20103.930477%5D%2C%0A%20%20%20%20%20%20%20%20%20%20%20%20%7B%0A%20%20%20%20%20%20%20%20%20%20%20%20%20%20%20%20icon%3A%20new%20L.Icon.Default%28%29%2C%0A%20%20%20%20%20%20%20%20%20%20%20%20%20%20%20%20%7D%0A%20%20%20%20%20%20%20%20%20%20%20%20%29.addTo%28map_f0453ca49538401ea2902b9d8954580b%29%3B%0A%20%20%20%20%20%20%20%20%0A%20%20%20%20%0A%20%20%20%20%20%20%20%20%20%20%20%20var%20popup_6e6be51819fe45dabd2059960c73a432%20%3D%20L.popup%28%7BmaxWidth%3A%20%27100%25%27%0A%20%20%20%20%20%20%20%20%20%20%20%20%0A%20%20%20%20%20%20%20%20%20%20%20%20%7D%29%3B%0A%0A%20%20%20%20%20%20%20%20%20%20%20%20%0A%20%20%20%20%20%20%20%20%20%20%20%20%20%20%20%20var%20html_0bbce9b2fe7e444ca42a11a523dca5fb%20%3D%20%24%28%60%3Cdiv%20id%3D%22html_0bbce9b2fe7e444ca42a11a523dca5fb%22%20style%3D%22width%3A%20100.0%25%3B%20height%3A%20100.0%25%3B%22%3ENew%20Upper%20Changi%20Road%20Blk%20208B%3C/div%3E%60%29%5B0%5D%3B%0A%20%20%20%20%20%20%20%20%20%20%20%20%20%20%20%20popup_6e6be51819fe45dabd2059960c73a432.setContent%28html_0bbce9b2fe7e444ca42a11a523dca5fb%29%3B%0A%20%20%20%20%20%20%20%20%20%20%20%20%0A%0A%20%20%20%20%20%20%20%20%20%20%20%20marker_3bb47e2d8634455b943e8f02995811be.bindPopup%28popup_6e6be51819fe45dabd2059960c73a432%29%0A%20%20%20%20%20%20%20%20%20%20%20%20%3B%0A%0A%20%20%20%20%20%20%20%20%20%20%20%20%0A%20%20%20%20%20%20%20%20%0A%20%20%20%20%0A%20%20%20%20%20%20%20%20var%20marker_300c37efc01441869930a9d604d451f0%20%3D%20L.marker%28%0A%20%20%20%20%20%20%20%20%20%20%20%20%5B1.32516551%2C%20103.940155%5D%2C%0A%20%20%20%20%20%20%20%20%20%20%20%20%7B%0A%20%20%20%20%20%20%20%20%20%20%20%20%20%20%20%20icon%3A%20new%20L.Icon.Default%28%29%2C%0A%20%20%20%20%20%20%20%20%20%20%20%20%20%20%20%20%7D%0A%20%20%20%20%20%20%20%20%20%20%20%20%29.addTo%28map_f0453ca49538401ea2902b9d8954580b%29%3B%0A%20%20%20%20%20%20%20%20%0A%20%20%20%20%0A%20%20%20%20%20%20%20%20%20%20%20%20var%20popup_6a79fa9c9a5f45d1968dda621cba1d0c%20%3D%20L.popup%28%7BmaxWidth%3A%20%27100%25%27%0A%20%20%20%20%20%20%20%20%20%20%20%20%0A%20%20%20%20%20%20%20%20%20%20%20%20%7D%29%3B%0A%0A%20%20%20%20%20%20%20%20%20%20%20%20%0A%20%20%20%20%20%20%20%20%20%20%20%20%20%20%20%20var%20html_5b35c394f9dd421590503fdf2cbca8b3%20%3D%20%24%28%60%3Cdiv%20id%3D%22html_5b35c394f9dd421590503fdf2cbca8b3%22%20style%3D%22width%3A%20100.0%25%3B%20height%3A%20100.0%25%3B%22%3ENew%20Upper%20Changi%20Road%20Blk%2058%3C/div%3E%60%29%5B0%5D%3B%0A%20%20%20%20%20%20%20%20%20%20%20%20%20%20%20%20popup_6a79fa9c9a5f45d1968dda621cba1d0c.setContent%28html_5b35c394f9dd421590503fdf2cbca8b3%29%3B%0A%20%20%20%20%20%20%20%20%20%20%20%20%0A%0A%20%20%20%20%20%20%20%20%20%20%20%20marker_300c37efc01441869930a9d604d451f0.bindPopup%28popup_6a79fa9c9a5f45d1968dda621cba1d0c%29%0A%20%20%20%20%20%20%20%20%20%20%20%20%3B%0A%0A%20%20%20%20%20%20%20%20%20%20%20%20%0A%20%20%20%20%20%20%20%20%0A%20%20%20%20%0A%20%20%20%20%20%20%20%20var%20marker_7a36584725d84502b9bdfc745ab4e080%20%3D%20L.marker%28%0A%20%20%20%20%20%20%20%20%20%20%20%20%5B1.312224984%2C%20103.83972929999999%5D%2C%0A%20%20%20%20%20%20%20%20%20%20%20%20%7B%0A%20%20%20%20%20%20%20%20%20%20%20%20%20%20%20%20icon%3A%20new%20L.Icon.Default%28%29%2C%0A%20%20%20%20%20%20%20%20%20%20%20%20%20%20%20%20%7D%0A%20%20%20%20%20%20%20%20%20%20%20%20%29.addTo%28map_f0453ca49538401ea2902b9d8954580b%29%3B%0A%20%20%20%20%20%20%20%20%0A%20%20%20%20%0A%20%20%20%20%20%20%20%20%20%20%20%20var%20popup_257c84d4b5fc4d7b8be3721d419b959c%20%3D%20L.popup%28%7BmaxWidth%3A%20%27100%25%27%0A%20%20%20%20%20%20%20%20%20%20%20%20%0A%20%20%20%20%20%20%20%20%20%20%20%20%7D%29%3B%0A%0A%20%20%20%20%20%20%20%20%20%20%20%20%0A%20%20%20%20%20%20%20%20%20%20%20%20%20%20%20%20var%20html_d43a99eb02944a41a176ac8b7ff9b1a4%20%3D%20%24%28%60%3Cdiv%20id%3D%22html_d43a99eb02944a41a176ac8b7ff9b1a4%22%20style%3D%22width%3A%20100.0%25%3B%20height%3A%20100.0%25%3B%22%3ENewton%20Food%20Centre%3C/div%3E%60%29%5B0%5D%3B%0A%20%20%20%20%20%20%20%20%20%20%20%20%20%20%20%20popup_257c84d4b5fc4d7b8be3721d419b959c.setContent%28html_d43a99eb02944a41a176ac8b7ff9b1a4%29%3B%0A%20%20%20%20%20%20%20%20%20%20%20%20%0A%0A%20%20%20%20%20%20%20%20%20%20%20%20marker_7a36584725d84502b9bdfc745ab4e080.bindPopup%28popup_257c84d4b5fc4d7b8be3721d419b959c%29%0A%20%20%20%20%20%20%20%20%20%20%20%20%3B%0A%0A%20%20%20%20%20%20%20%20%20%20%20%20%0A%20%20%20%20%20%20%20%20%0A%20%20%20%20%0A%20%20%20%20%20%20%20%20var%20marker_83009c641b794404a068ac4745776591%20%3D%20L.marker%28%0A%20%20%20%20%20%20%20%20%20%20%20%20%5B1.305847049%2C%20103.8638611%5D%2C%0A%20%20%20%20%20%20%20%20%20%20%20%20%7B%0A%20%20%20%20%20%20%20%20%20%20%20%20%20%20%20%20icon%3A%20new%20L.Icon.Default%28%29%2C%0A%20%20%20%20%20%20%20%20%20%20%20%20%20%20%20%20%7D%0A%20%20%20%20%20%20%20%20%20%20%20%20%29.addTo%28map_f0453ca49538401ea2902b9d8954580b%29%3B%0A%20%20%20%20%20%20%20%20%0A%20%20%20%20%0A%20%20%20%20%20%20%20%20%20%20%20%20var%20popup_0bd2e9ef7d014d5a8a501f99f6a26849%20%3D%20L.popup%28%7BmaxWidth%3A%20%27100%25%27%0A%20%20%20%20%20%20%20%20%20%20%20%20%0A%20%20%20%20%20%20%20%20%20%20%20%20%7D%29%3B%0A%0A%20%20%20%20%20%20%20%20%20%20%20%20%0A%20%20%20%20%20%20%20%20%20%20%20%20%20%20%20%20var%20html_df50c2286e8a434db7baad4743ddf9c0%20%3D%20%24%28%60%3Cdiv%20id%3D%22html_df50c2286e8a434db7baad4743ddf9c0%22%20style%3D%22width%3A%20100.0%25%3B%20height%3A%20100.0%25%3B%22%3ENorth%20Bridge%20Road%20Market%3C/div%3E%60%29%5B0%5D%3B%0A%20%20%20%20%20%20%20%20%20%20%20%20%20%20%20%20popup_0bd2e9ef7d014d5a8a501f99f6a26849.setContent%28html_df50c2286e8a434db7baad4743ddf9c0%29%3B%0A%20%20%20%20%20%20%20%20%20%20%20%20%0A%0A%20%20%20%20%20%20%20%20%20%20%20%20marker_83009c641b794404a068ac4745776591.bindPopup%28popup_0bd2e9ef7d014d5a8a501f99f6a26849%29%0A%20%20%20%20%20%20%20%20%20%20%20%20%3B%0A%0A%20%20%20%20%20%20%20%20%20%20%20%20%0A%20%20%20%20%20%20%20%20%0A%20%20%20%20%0A%20%20%20%20%20%20%20%20var%20marker_00f6080b76fa4704a9dc751cf1430e69%20%3D%20L.marker%28%0A%20%20%20%20%20%20%20%20%20%20%20%20%5B1.308279991%2C%20103.8858414%5D%2C%0A%20%20%20%20%20%20%20%20%20%20%20%20%7B%0A%20%20%20%20%20%20%20%20%20%20%20%20%20%20%20%20icon%3A%20new%20L.Icon.Default%28%29%2C%0A%20%20%20%20%20%20%20%20%20%20%20%20%20%20%20%20%7D%0A%20%20%20%20%20%20%20%20%20%20%20%20%29.addTo%28map_f0453ca49538401ea2902b9d8954580b%29%3B%0A%20%20%20%20%20%20%20%20%0A%20%20%20%20%0A%20%20%20%20%20%20%20%20%20%20%20%20var%20popup_9551d750edd3405baf87b4c5ce871d69%20%3D%20L.popup%28%7BmaxWidth%3A%20%27100%25%27%0A%20%20%20%20%20%20%20%20%20%20%20%20%0A%20%20%20%20%20%20%20%20%20%20%20%20%7D%29%3B%0A%0A%20%20%20%20%20%20%20%20%20%20%20%20%0A%20%20%20%20%20%20%20%20%20%20%20%20%20%20%20%20var%20html_9cafb9258f024b768a028c6b1e355800%20%3D%20%24%28%60%3Cdiv%20id%3D%22html_9cafb9258f024b768a028c6b1e355800%22%20style%3D%22width%3A%20100.0%25%3B%20height%3A%20100.0%25%3B%22%3EOld%20Airport%20Road%20Blk%2051%20%2851%20Old%20Airport%20Road%20Food%20Centre%20and%20Shopping%20Mall%29%3C/div%3E%60%29%5B0%5D%3B%0A%20%20%20%20%20%20%20%20%20%20%20%20%20%20%20%20popup_9551d750edd3405baf87b4c5ce871d69.setContent%28html_9cafb9258f024b768a028c6b1e355800%29%3B%0A%20%20%20%20%20%20%20%20%20%20%20%20%0A%0A%20%20%20%20%20%20%20%20%20%20%20%20marker_00f6080b76fa4704a9dc751cf1430e69.bindPopup%28popup_9551d750edd3405baf87b4c5ce871d69%29%0A%20%20%20%20%20%20%20%20%20%20%20%20%3B%0A%0A%20%20%20%20%20%20%20%20%20%20%20%20%0A%20%20%20%20%20%20%20%20%0A%20%20%20%20%0A%20%20%20%20%20%20%20%20var%20marker_712e0fc1529c4492a6a6aed4087a7c19%20%3D%20L.marker%28%0A%20%20%20%20%20%20%20%20%20%20%20%20%5B1.352983%2C%20103.94023100000001%5D%2C%0A%20%20%20%20%20%20%20%20%20%20%20%20%7B%0A%20%20%20%20%20%20%20%20%20%20%20%20%20%20%20%20icon%3A%20new%20L.Icon.Default%28%29%2C%0A%20%20%20%20%20%20%20%20%20%20%20%20%20%20%20%20%7D%0A%20%20%20%20%20%20%20%20%20%20%20%20%29.addTo%28map_f0453ca49538401ea2902b9d8954580b%29%3B%0A%20%20%20%20%20%20%20%20%0A%20%20%20%20%0A%20%20%20%20%20%20%20%20%20%20%20%20var%20popup_272eb4058a8c45259043a580f73f9b3b%20%3D%20L.popup%28%7BmaxWidth%3A%20%27100%25%27%0A%20%20%20%20%20%20%20%20%20%20%20%20%0A%20%20%20%20%20%20%20%20%20%20%20%20%7D%29%3B%0A%0A%20%20%20%20%20%20%20%20%20%20%20%20%0A%20%20%20%20%20%20%20%20%20%20%20%20%20%20%20%20var%20html_803688824f9e4821b5761b0ed4fc1c55%20%3D%20%24%28%60%3Cdiv%20id%3D%22html_803688824f9e4821b5761b0ed4fc1c55%22%20style%3D%22width%3A%20100.0%25%3B%20height%3A%20100.0%25%3B%22%3EOur%20Tampines%20Hub%3C/div%3E%60%29%5B0%5D%3B%0A%20%20%20%20%20%20%20%20%20%20%20%20%20%20%20%20popup_272eb4058a8c45259043a580f73f9b3b.setContent%28html_803688824f9e4821b5761b0ed4fc1c55%29%3B%0A%20%20%20%20%20%20%20%20%20%20%20%20%0A%0A%20%20%20%20%20%20%20%20%20%20%20%20marker_712e0fc1529c4492a6a6aed4087a7c19.bindPopup%28popup_272eb4058a8c45259043a580f73f9b3b%29%0A%20%20%20%20%20%20%20%20%20%20%20%20%3B%0A%0A%20%20%20%20%20%20%20%20%20%20%20%20%0A%20%20%20%20%20%20%20%20%0A%20%20%20%20%0A%20%20%20%20%20%20%20%20var%20marker_5a350a11c85d437a8958cb37e62abb77%20%3D%20L.marker%28%0A%20%20%20%20%20%20%20%20%20%20%20%20%5B1.275658965%2C%20103.7915573%5D%2C%0A%20%20%20%20%20%20%20%20%20%20%20%20%7B%0A%20%20%20%20%20%20%20%20%20%20%20%20%20%20%20%20icon%3A%20new%20L.Icon.Default%28%29%2C%0A%20%20%20%20%20%20%20%20%20%20%20%20%20%20%20%20%7D%0A%20%20%20%20%20%20%20%20%20%20%20%20%29.addTo%28map_f0453ca49538401ea2902b9d8954580b%29%3B%0A%20%20%20%20%20%20%20%20%0A%20%20%20%20%0A%20%20%20%20%20%20%20%20%20%20%20%20var%20popup_1b5842e243d247ce9a44f234cb8ad3af%20%3D%20L.popup%28%7BmaxWidth%3A%20%27100%25%27%0A%20%20%20%20%20%20%20%20%20%20%20%20%0A%20%20%20%20%20%20%20%20%20%20%20%20%7D%29%3B%0A%0A%20%20%20%20%20%20%20%20%20%20%20%20%0A%20%20%20%20%20%20%20%20%20%20%20%20%20%20%20%20var%20html_fd9f3961a4794566be5b8540a4ff00c4%20%3D%20%24%28%60%3Cdiv%20id%3D%22html_fd9f3961a4794566be5b8540a4ff00c4%22%20style%3D%22width%3A%20100.0%25%3B%20height%3A%20100.0%25%3B%22%3EPasir%20Panjang%20Food%20Centre%3C/div%3E%60%29%5B0%5D%3B%0A%20%20%20%20%20%20%20%20%20%20%20%20%20%20%20%20popup_1b5842e243d247ce9a44f234cb8ad3af.setContent%28html_fd9f3961a4794566be5b8540a4ff00c4%29%3B%0A%20%20%20%20%20%20%20%20%20%20%20%20%0A%0A%20%20%20%20%20%20%20%20%20%20%20%20marker_5a350a11c85d437a8958cb37e62abb77.bindPopup%28popup_1b5842e243d247ce9a44f234cb8ad3af%29%0A%20%20%20%20%20%20%20%20%20%20%20%20%3B%0A%0A%20%20%20%20%20%20%20%20%20%20%20%20%0A%20%20%20%20%20%20%20%20%0A%20%20%20%20%0A%20%20%20%20%20%20%20%20var%20marker_ea498e6e1ead491cbbbe654e5ff20470%20%3D%20L.marker%28%0A%20%20%20%20%20%20%20%20%20%20%20%20%5B1.373318%2C%20103.951364%5D%2C%0A%20%20%20%20%20%20%20%20%20%20%20%20%7B%0A%20%20%20%20%20%20%20%20%20%20%20%20%20%20%20%20icon%3A%20new%20L.Icon.Default%28%29%2C%0A%20%20%20%20%20%20%20%20%20%20%20%20%20%20%20%20%7D%0A%20%20%20%20%20%20%20%20%20%20%20%20%29.addTo%28map_f0453ca49538401ea2902b9d8954580b%29%3B%0A%20%20%20%20%20%20%20%20%0A%20%20%20%20%0A%20%20%20%20%20%20%20%20%20%20%20%20var%20popup_2b74a1148c53442d85cec8fdf68009c9%20%3D%20L.popup%28%7BmaxWidth%3A%20%27100%25%27%0A%20%20%20%20%20%20%20%20%20%20%20%20%0A%20%20%20%20%20%20%20%20%20%20%20%20%7D%29%3B%0A%0A%20%20%20%20%20%20%20%20%20%20%20%20%0A%20%20%20%20%20%20%20%20%20%20%20%20%20%20%20%20var%20html_70fdc962602e41bc8c8d7ad1a87f78f7%20%3D%20%24%28%60%3Cdiv%20id%3D%22html_70fdc962602e41bc8c8d7ad1a87f78f7%22%20style%3D%22width%3A%20100.0%25%3B%20height%3A%20100.0%25%3B%22%3EPasir%20Ris%20Central%20Hawker%20Centre%3C/div%3E%60%29%5B0%5D%3B%0A%20%20%20%20%20%20%20%20%20%20%20%20%20%20%20%20popup_2b74a1148c53442d85cec8fdf68009c9.setContent%28html_70fdc962602e41bc8c8d7ad1a87f78f7%29%3B%0A%20%20%20%20%20%20%20%20%20%20%20%20%0A%0A%20%20%20%20%20%20%20%20%20%20%20%20marker_ea498e6e1ead491cbbbe654e5ff20470.bindPopup%28popup_2b74a1148c53442d85cec8fdf68009c9%29%0A%20%20%20%20%20%20%20%20%20%20%20%20%3B%0A%0A%20%20%20%20%20%20%20%20%20%20%20%20%0A%20%20%20%20%20%20%20%20%0A%20%20%20%20%0A%20%20%20%20%20%20%20%20var%20marker_033ccd59e172424dade180f8b41cbd37%20%3D%20L.marker%28%0A%20%20%20%20%20%20%20%20%20%20%20%20%5B1.301120043%2C%20103.8541412%5D%2C%0A%20%20%20%20%20%20%20%20%20%20%20%20%7B%0A%20%20%20%20%20%20%20%20%20%20%20%20%20%20%20%20icon%3A%20new%20L.Icon.Default%28%29%2C%0A%20%20%20%20%20%20%20%20%20%20%20%20%20%20%20%20%7D%0A%20%20%20%20%20%20%20%20%20%20%20%20%29.addTo%28map_f0453ca49538401ea2902b9d8954580b%29%3B%0A%20%20%20%20%20%20%20%20%0A%20%20%20%20%0A%20%20%20%20%20%20%20%20%20%20%20%20var%20popup_45d9d1f004cd49ae8886309a16806ad4%20%3D%20L.popup%28%7BmaxWidth%3A%20%27100%25%27%0A%20%20%20%20%20%20%20%20%20%20%20%20%0A%20%20%20%20%20%20%20%20%20%20%20%20%7D%29%3B%0A%0A%20%20%20%20%20%20%20%20%20%20%20%20%0A%20%20%20%20%20%20%20%20%20%20%20%20%20%20%20%20var%20html_eb772eb3470a468eb963983ec28fab39%20%3D%20%24%28%60%3Cdiv%20id%3D%22html_eb772eb3470a468eb963983ec28fab39%22%20style%3D%22width%3A%20100.0%25%3B%20height%3A%20100.0%25%3B%22%3EQueen%20Street%20Blk%20270%20%28Albert%20Centre%29%3C/div%3E%60%29%5B0%5D%3B%0A%20%20%20%20%20%20%20%20%20%20%20%20%20%20%20%20popup_45d9d1f004cd49ae8886309a16806ad4.setContent%28html_eb772eb3470a468eb963983ec28fab39%29%3B%0A%20%20%20%20%20%20%20%20%20%20%20%20%0A%0A%20%20%20%20%20%20%20%20%20%20%20%20marker_033ccd59e172424dade180f8b41cbd37.bindPopup%28popup_45d9d1f004cd49ae8886309a16806ad4%29%0A%20%20%20%20%20%20%20%20%20%20%20%20%3B%0A%0A%20%20%20%20%20%20%20%20%20%20%20%20%0A%20%20%20%20%20%20%20%20%0A%20%20%20%20%0A%20%20%20%20%20%20%20%20var%20marker_1d12d8bed1e8445e986e0d2dea969f3a%20%3D%20L.marker%28%0A%20%20%20%20%20%20%20%20%20%20%20%20%5B1.287909985%2C%20103.8183975%5D%2C%0A%20%20%20%20%20%20%20%20%20%20%20%20%7B%0A%20%20%20%20%20%20%20%20%20%20%20%20%20%20%20%20icon%3A%20new%20L.Icon.Default%28%29%2C%0A%20%20%20%20%20%20%20%20%20%20%20%20%20%20%20%20%7D%0A%20%20%20%20%20%20%20%20%20%20%20%20%29.addTo%28map_f0453ca49538401ea2902b9d8954580b%29%3B%0A%20%20%20%20%20%20%20%20%0A%20%20%20%20%0A%20%20%20%20%20%20%20%20%20%20%20%20var%20popup_f55b407167024ce69fc752b58bb4ee32%20%3D%20L.popup%28%7BmaxWidth%3A%20%27100%25%27%0A%20%20%20%20%20%20%20%20%20%20%20%20%0A%20%20%20%20%20%20%20%20%20%20%20%20%7D%29%3B%0A%0A%20%20%20%20%20%20%20%20%20%20%20%20%0A%20%20%20%20%20%20%20%20%20%20%20%20%20%20%20%20var%20html_af4de35eadf74ea2b7601a36b0a6203c%20%3D%20%24%28%60%3Cdiv%20id%3D%22html_af4de35eadf74ea2b7601a36b0a6203c%22%20style%3D%22width%3A%20100.0%25%3B%20height%3A%20100.0%25%3B%22%3ERedhill%20Lane%20Blk%2079%20%28Redhill%20Market%29%3C/div%3E%60%29%5B0%5D%3B%0A%20%20%20%20%20%20%20%20%20%20%20%20%20%20%20%20popup_f55b407167024ce69fc752b58bb4ee32.setContent%28html_af4de35eadf74ea2b7601a36b0a6203c%29%3B%0A%20%20%20%20%20%20%20%20%20%20%20%20%0A%0A%20%20%20%20%20%20%20%20%20%20%20%20marker_1d12d8bed1e8445e986e0d2dea969f3a.bindPopup%28popup_f55b407167024ce69fc752b58bb4ee32%29%0A%20%20%20%20%20%20%20%20%20%20%20%20%3B%0A%0A%20%20%20%20%20%20%20%20%20%20%20%20%0A%20%20%20%20%20%20%20%20%0A%20%20%20%20%0A%20%20%20%20%20%20%20%20var%20marker_6f79be5272154f6d91e892418908517c%20%3D%20L.marker%28%0A%20%20%20%20%20%20%20%20%20%20%20%20%5B1.287400007%2C%20103.8183975%5D%2C%0A%20%20%20%20%20%20%20%20%20%20%20%20%7B%0A%20%20%20%20%20%20%20%20%20%20%20%20%20%20%20%20icon%3A%20new%20L.Icon.Default%28%29%2C%0A%20%20%20%20%20%20%20%20%20%20%20%20%20%20%20%20%7D%0A%20%20%20%20%20%20%20%20%20%20%20%20%29.addTo%28map_f0453ca49538401ea2902b9d8954580b%29%3B%0A%20%20%20%20%20%20%20%20%0A%20%20%20%20%0A%20%20%20%20%20%20%20%20%20%20%20%20var%20popup_cb6ee762f64440288627d9ac07c76b8c%20%3D%20L.popup%28%7BmaxWidth%3A%20%27100%25%27%0A%20%20%20%20%20%20%20%20%20%20%20%20%0A%20%20%20%20%20%20%20%20%20%20%20%20%7D%29%3B%0A%0A%20%20%20%20%20%20%20%20%20%20%20%20%0A%20%20%20%20%20%20%20%20%20%20%20%20%20%20%20%20var%20html_8de671efac2e46f180bc17b744cd6e98%20%3D%20%24%28%60%3Cdiv%20id%3D%22html_8de671efac2e46f180bc17b744cd6e98%22%20style%3D%22width%3A%20100.0%25%3B%20height%3A%20100.0%25%3B%22%3ERedhill%20Lane%20Blk%2085%20%28Redhill%20Food%20Centre%29%3C/div%3E%60%29%5B0%5D%3B%0A%20%20%20%20%20%20%20%20%20%20%20%20%20%20%20%20popup_cb6ee762f64440288627d9ac07c76b8c.setContent%28html_8de671efac2e46f180bc17b744cd6e98%29%3B%0A%20%20%20%20%20%20%20%20%20%20%20%20%0A%0A%20%20%20%20%20%20%20%20%20%20%20%20marker_6f79be5272154f6d91e892418908517c.bindPopup%28popup_cb6ee762f64440288627d9ac07c76b8c%29%0A%20%20%20%20%20%20%20%20%20%20%20%20%3B%0A%0A%20%20%20%20%20%20%20%20%20%20%20%20%0A%20%20%20%20%20%20%20%20%0A%20%20%20%20%0A%20%20%20%20%20%20%20%20var%20marker_67e9e25c6a4f4c44bfb2c38cd1a090c9%20%3D%20L.marker%28%0A%20%20%20%20%20%20%20%20%20%20%20%20%5B1.372419953%2C%20103.8290329%5D%2C%0A%20%20%20%20%20%20%20%20%20%20%20%20%7B%0A%20%20%20%20%20%20%20%20%20%20%20%20%20%20%20%20icon%3A%20new%20L.Icon.Default%28%29%2C%0A%20%20%20%20%20%20%20%20%20%20%20%20%20%20%20%20%7D%0A%20%20%20%20%20%20%20%20%20%20%20%20%29.addTo%28map_f0453ca49538401ea2902b9d8954580b%29%3B%0A%20%20%20%20%20%20%20%20%0A%20%20%20%20%0A%20%20%20%20%20%20%20%20%20%20%20%20var%20popup_f77119a73f2b4a378ba428a60ada3545%20%3D%20L.popup%28%7BmaxWidth%3A%20%27100%25%27%0A%20%20%20%20%20%20%20%20%20%20%20%20%0A%20%20%20%20%20%20%20%20%20%20%20%20%7D%29%3B%0A%0A%20%20%20%20%20%20%20%20%20%20%20%20%0A%20%20%20%20%20%20%20%20%20%20%20%20%20%20%20%20var%20html_eefb4383cb504416b16e78ba159518d6%20%3D%20%24%28%60%3Cdiv%20id%3D%22html_eefb4383cb504416b16e78ba159518d6%22%20style%3D%22width%3A%20100.0%25%3B%20height%3A%20100.0%25%3B%22%3ESembawang%20Hills%20Food%20Centre%20%28Jalan%20Leban%20Food%20Centre%29%3C/div%3E%60%29%5B0%5D%3B%0A%20%20%20%20%20%20%20%20%20%20%20%20%20%20%20%20popup_f77119a73f2b4a378ba428a60ada3545.setContent%28html_eefb4383cb504416b16e78ba159518d6%29%3B%0A%20%20%20%20%20%20%20%20%20%20%20%20%0A%0A%20%20%20%20%20%20%20%20%20%20%20%20marker_67e9e25c6a4f4c44bfb2c38cd1a090c9.bindPopup%28popup_f77119a73f2b4a378ba428a60ada3545%29%0A%20%20%20%20%20%20%20%20%20%20%20%20%3B%0A%0A%20%20%20%20%20%20%20%20%20%20%20%20%0A%20%20%20%20%20%20%20%20%0A%20%20%20%20%0A%20%20%20%20%20%20%20%20var%20marker_de08576bf8b94279ae2b9f4b04d91e7b%20%3D%20L.marker%28%0A%20%20%20%20%20%20%20%20%20%20%20%20%5B1.3635400530000001%2C%20103.8669815%5D%2C%0A%20%20%20%20%20%20%20%20%20%20%20%20%7B%0A%20%20%20%20%20%20%20%20%20%20%20%20%20%20%20%20icon%3A%20new%20L.Icon.Default%28%29%2C%0A%20%20%20%20%20%20%20%20%20%20%20%20%20%20%20%20%7D%0A%20%20%20%20%20%20%20%20%20%20%20%20%29.addTo%28map_f0453ca49538401ea2902b9d8954580b%29%3B%0A%20%20%20%20%20%20%20%20%0A%20%20%20%20%0A%20%20%20%20%20%20%20%20%20%20%20%20var%20popup_c7ef3fe16cd744f984a521b363e4c5a3%20%3D%20L.popup%28%7BmaxWidth%3A%20%27100%25%27%0A%20%20%20%20%20%20%20%20%20%20%20%20%0A%20%20%20%20%20%20%20%20%20%20%20%20%7D%29%3B%0A%0A%20%20%20%20%20%20%20%20%20%20%20%20%0A%20%20%20%20%20%20%20%20%20%20%20%20%20%20%20%20var%20html_5233018cd3004f2bb093fbeaabb767ea%20%3D%20%24%28%60%3Cdiv%20id%3D%22html_5233018cd3004f2bb093fbeaabb767ea%22%20style%3D%22width%3A%20100.0%25%3B%20height%3A%20100.0%25%3B%22%3ESerangoon%20Garden%20Market%3C/div%3E%60%29%5B0%5D%3B%0A%20%20%20%20%20%20%20%20%20%20%20%20%20%20%20%20popup_c7ef3fe16cd744f984a521b363e4c5a3.setContent%28html_5233018cd3004f2bb093fbeaabb767ea%29%3B%0A%20%20%20%20%20%20%20%20%20%20%20%20%0A%0A%20%20%20%20%20%20%20%20%20%20%20%20marker_de08576bf8b94279ae2b9f4b04d91e7b.bindPopup%28popup_c7ef3fe16cd744f984a521b363e4c5a3%29%0A%20%20%20%20%20%20%20%20%20%20%20%20%3B%0A%0A%20%20%20%20%20%20%20%20%20%20%20%20%0A%20%20%20%20%20%20%20%20%0A%20%20%20%20%0A%20%20%20%20%20%20%20%20var%20marker_396dfdd63726457f9c96884442ef8986%20%3D%20L.marker%28%0A%20%20%20%20%20%20%20%20%20%20%20%20%5B1.3518199919999998%2C%20103.8370285%5D%2C%0A%20%20%20%20%20%20%20%20%20%20%20%20%7B%0A%20%20%20%20%20%20%20%20%20%20%20%20%20%20%20%20icon%3A%20new%20L.Icon.Default%28%29%2C%0A%20%20%20%20%20%20%20%20%20%20%20%20%20%20%20%20%7D%0A%20%20%20%20%20%20%20%20%20%20%20%20%29.addTo%28map_f0453ca49538401ea2902b9d8954580b%29%3B%0A%20%20%20%20%20%20%20%20%0A%20%20%20%20%0A%20%20%20%20%20%20%20%20%20%20%20%20var%20popup_119f47c1a8a84f17860cd1e1466237a0%20%3D%20L.popup%28%7BmaxWidth%3A%20%27100%25%27%0A%20%20%20%20%20%20%20%20%20%20%20%20%0A%20%20%20%20%20%20%20%20%20%20%20%20%7D%29%3B%0A%0A%20%20%20%20%20%20%20%20%20%20%20%20%0A%20%20%20%20%20%20%20%20%20%20%20%20%20%20%20%20var%20html_6360e9e413514afbb5cfc2f2a4b7f658%20%3D%20%24%28%60%3Cdiv%20id%3D%22html_6360e9e413514afbb5cfc2f2a4b7f658%22%20style%3D%22width%3A%20100.0%25%3B%20height%3A%20100.0%25%3B%22%3EShunfu%20Road%20Blk%20320%20%28Shunfu%20Mart%29%3C/div%3E%60%29%5B0%5D%3B%0A%20%20%20%20%20%20%20%20%20%20%20%20%20%20%20%20popup_119f47c1a8a84f17860cd1e1466237a0.setContent%28html_6360e9e413514afbb5cfc2f2a4b7f658%29%3B%0A%20%20%20%20%20%20%20%20%20%20%20%20%0A%0A%20%20%20%20%20%20%20%20%20%20%20%20marker_396dfdd63726457f9c96884442ef8986.bindPopup%28popup_119f47c1a8a84f17860cd1e1466237a0%29%0A%20%20%20%20%20%20%20%20%20%20%20%20%3B%0A%0A%20%20%20%20%20%20%20%20%20%20%20%20%0A%20%20%20%20%20%20%20%20%0A%20%20%20%20%0A%20%20%20%20%20%20%20%20var%20marker_b4b0cbae302345fcaa9606c7064c25a8%20%3D%20L.marker%28%0A%20%20%20%20%20%20%20%20%20%20%20%20%5B1.317100048%2C%20103.8793793%5D%2C%0A%20%20%20%20%20%20%20%20%20%20%20%20%7B%0A%20%20%20%20%20%20%20%20%20%20%20%20%20%20%20%20icon%3A%20new%20L.Icon.Default%28%29%2C%0A%20%20%20%20%20%20%20%20%20%20%20%20%20%20%20%20%7D%0A%20%20%20%20%20%20%20%20%20%20%20%20%29.addTo%28map_f0453ca49538401ea2902b9d8954580b%29%3B%0A%20%20%20%20%20%20%20%20%0A%20%20%20%20%0A%20%20%20%20%20%20%20%20%20%20%20%20var%20popup_6eb787a8ba8246d1b3881c9eeda1f53a%20%3D%20L.popup%28%7BmaxWidth%3A%20%27100%25%27%0A%20%20%20%20%20%20%20%20%20%20%20%20%0A%20%20%20%20%20%20%20%20%20%20%20%20%7D%29%3B%0A%0A%20%20%20%20%20%20%20%20%20%20%20%20%0A%20%20%20%20%20%20%20%20%20%20%20%20%20%20%20%20var%20html_cd6edd747bd840a1acaaa1c3835934e7%20%3D%20%24%28%60%3Cdiv%20id%3D%22html_cd6edd747bd840a1acaaa1c3835934e7%22%20style%3D%22width%3A%20100.0%25%3B%20height%3A%20100.0%25%3B%22%3ESims%20Place%20Blk%2049%20%28Sims%20Vista%20Market%20and%20Food%20Centre%29%3C/div%3E%60%29%5B0%5D%3B%0A%20%20%20%20%20%20%20%20%20%20%20%20%20%20%20%20popup_6eb787a8ba8246d1b3881c9eeda1f53a.setContent%28html_cd6edd747bd840a1acaaa1c3835934e7%29%3B%0A%20%20%20%20%20%20%20%20%20%20%20%20%0A%0A%20%20%20%20%20%20%20%20%20%20%20%20marker_b4b0cbae302345fcaa9606c7064c25a8.bindPopup%28popup_6eb787a8ba8246d1b3881c9eeda1f53a%29%0A%20%20%20%20%20%20%20%20%20%20%20%20%3B%0A%0A%20%20%20%20%20%20%20%20%20%20%20%20%0A%20%20%20%20%20%20%20%20%0A%20%20%20%20%0A%20%20%20%20%20%20%20%20var%20marker_c0deb6f2de994d08a594302427a294b3%20%3D%20L.marker%28%0A%20%20%20%20%20%20%20%20%20%20%20%20%5B1.282299995%2C%20103.8428802%5D%2C%0A%20%20%20%20%20%20%20%20%20%20%20%20%7B%0A%20%20%20%20%20%20%20%20%20%20%20%20%20%20%20%20icon%3A%20new%20L.Icon.Default%28%29%2C%0A%20%20%20%20%20%20%20%20%20%20%20%20%20%20%20%20%7D%0A%20%20%20%20%20%20%20%20%20%20%20%20%29.addTo%28map_f0453ca49538401ea2902b9d8954580b%29%3B%0A%20%20%20%20%20%20%20%20%0A%20%20%20%20%0A%20%20%20%20%20%20%20%20%20%20%20%20var%20popup_2fb38e11710d4e1fad4411dd59d55f31%20%3D%20L.popup%28%7BmaxWidth%3A%20%27100%25%27%0A%20%20%20%20%20%20%20%20%20%20%20%20%0A%20%20%20%20%20%20%20%20%20%20%20%20%7D%29%3B%0A%0A%20%20%20%20%20%20%20%20%20%20%20%20%0A%20%20%20%20%20%20%20%20%20%20%20%20%20%20%20%20var%20html_1c56194d04b645e4a87f75e079c01fe6%20%3D%20%24%28%60%3Cdiv%20id%3D%22html_1c56194d04b645e4a87f75e079c01fe6%22%20style%3D%22width%3A%20100.0%25%3B%20height%3A%20100.0%25%3B%22%3ESmith%20Street%20Blk%20335%20%28Chinatown%20Complex%20Market%29%3C/div%3E%60%29%5B0%5D%3B%0A%20%20%20%20%20%20%20%20%20%20%20%20%20%20%20%20popup_2fb38e11710d4e1fad4411dd59d55f31.setContent%28html_1c56194d04b645e4a87f75e079c01fe6%29%3B%0A%20%20%20%20%20%20%20%20%20%20%20%20%0A%0A%20%20%20%20%20%20%20%20%20%20%20%20marker_c0deb6f2de994d08a594302427a294b3.bindPopup%28popup_2fb38e11710d4e1fad4411dd59d55f31%29%0A%20%20%20%20%20%20%20%20%20%20%20%20%3B%0A%0A%20%20%20%20%20%20%20%20%20%20%20%20%0A%20%20%20%20%20%20%20%20%0A%20%20%20%20%0A%20%20%20%20%20%20%20%20var%20marker_7b14f201f0c2445f9d985964c0174d57%20%3D%20L.marker%28%0A%20%20%20%20%20%20%20%20%20%20%20%20%5B1.3346810340000002%2C%20103.72161870000001%5D%2C%0A%20%20%20%20%20%20%20%20%20%20%20%20%7B%0A%20%20%20%20%20%20%20%20%20%20%20%20%20%20%20%20icon%3A%20new%20L.Icon.Default%28%29%2C%0A%20%20%20%20%20%20%20%20%20%20%20%20%20%20%20%20%7D%0A%20%20%20%20%20%20%20%20%20%20%20%20%29.addTo%28map_f0453ca49538401ea2902b9d8954580b%29%3B%0A%20%20%20%20%20%20%20%20%0A%20%20%20%20%0A%20%20%20%20%20%20%20%20%20%20%20%20var%20popup_edda12499f5e4ec0b0177a2ae2c6c70e%20%3D%20L.popup%28%7BmaxWidth%3A%20%27100%25%27%0A%20%20%20%20%20%20%20%20%20%20%20%20%0A%20%20%20%20%20%20%20%20%20%20%20%20%7D%29%3B%0A%0A%20%20%20%20%20%20%20%20%20%20%20%20%0A%20%20%20%20%20%20%20%20%20%20%20%20%20%20%20%20var%20html_4ce3631cfdb644728813f1fb29ca8401%20%3D%20%24%28%60%3Cdiv%20id%3D%22html_4ce3631cfdb644728813f1fb29ca8401%22%20style%3D%22width%3A%20100.0%25%3B%20height%3A%20100.0%25%3B%22%3ETaman%20Jurong%20Market%20and%20Food%20Centre%3C/div%3E%60%29%5B0%5D%3B%0A%20%20%20%20%20%20%20%20%20%20%20%20%20%20%20%20popup_edda12499f5e4ec0b0177a2ae2c6c70e.setContent%28html_4ce3631cfdb644728813f1fb29ca8401%29%3B%0A%20%20%20%20%20%20%20%20%20%20%20%20%0A%0A%20%20%20%20%20%20%20%20%20%20%20%20marker_7b14f201f0c2445f9d985964c0174d57.bindPopup%28popup_edda12499f5e4ec0b0177a2ae2c6c70e%29%0A%20%20%20%20%20%20%20%20%20%20%20%20%3B%0A%0A%20%20%20%20%20%20%20%20%20%20%20%20%0A%20%20%20%20%20%20%20%20%0A%20%20%20%20%0A%20%20%20%20%20%20%20%20var%20marker_3ff8bc39dcd84f8fa3c78a76195d09ec%20%3D%20L.marker%28%0A%20%20%20%20%20%20%20%20%20%20%20%20%5B1.345595956%2C%20103.9445953%5D%2C%0A%20%20%20%20%20%20%20%20%20%20%20%20%7B%0A%20%20%20%20%20%20%20%20%20%20%20%20%20%20%20%20icon%3A%20new%20L.Icon.Default%28%29%2C%0A%20%20%20%20%20%20%20%20%20%20%20%20%20%20%20%20%7D%0A%20%20%20%20%20%20%20%20%20%20%20%20%29.addTo%28map_f0453ca49538401ea2902b9d8954580b%29%3B%0A%20%20%20%20%20%20%20%20%0A%20%20%20%20%0A%20%20%20%20%20%20%20%20%20%20%20%20var%20popup_1b8de4bf7442478aa2bdd7ee55d36da1%20%3D%20L.popup%28%7BmaxWidth%3A%20%27100%25%27%0A%20%20%20%20%20%20%20%20%20%20%20%20%0A%20%20%20%20%20%20%20%20%20%20%20%20%7D%29%3B%0A%0A%20%20%20%20%20%20%20%20%20%20%20%20%0A%20%20%20%20%20%20%20%20%20%20%20%20%20%20%20%20var%20html_061fb88ec9ad446996452a10378d01e3%20%3D%20%24%28%60%3Cdiv%20id%3D%22html_061fb88ec9ad446996452a10378d01e3%22%20style%3D%22width%3A%20100.0%25%3B%20height%3A%20100.0%25%3B%22%3ETampines%20Street%2011%20Blk%20137%20%28Tampines%20Round%20Market%20and%20Food%20Centre%29%3C/div%3E%60%29%5B0%5D%3B%0A%20%20%20%20%20%20%20%20%20%20%20%20%20%20%20%20popup_1b8de4bf7442478aa2bdd7ee55d36da1.setContent%28html_061fb88ec9ad446996452a10378d01e3%29%3B%0A%20%20%20%20%20%20%20%20%20%20%20%20%0A%0A%20%20%20%20%20%20%20%20%20%20%20%20marker_3ff8bc39dcd84f8fa3c78a76195d09ec.bindPopup%28popup_1b8de4bf7442478aa2bdd7ee55d36da1%29%0A%20%20%20%20%20%20%20%20%20%20%20%20%3B%0A%0A%20%20%20%20%20%20%20%20%20%20%20%20%0A%20%20%20%20%20%20%20%20%0A%20%20%20%20%0A%20%20%20%20%20%20%20%20var%20marker_2685657b40f7426fae04bb42fd1c932d%20%3D%20L.marker%28%0A%20%20%20%20%20%20%20%20%20%20%20%20%5B1.300850034%2C%20103.79768370000001%5D%2C%0A%20%20%20%20%20%20%20%20%20%20%20%20%7B%0A%20%20%20%20%20%20%20%20%20%20%20%20%20%20%20%20icon%3A%20new%20L.Icon.Default%28%29%2C%0A%20%20%20%20%20%20%20%20%20%20%20%20%20%20%20%20%7D%0A%20%20%20%20%20%20%20%20%20%20%20%20%29.addTo%28map_f0453ca49538401ea2902b9d8954580b%29%3B%0A%20%20%20%20%20%20%20%20%0A%20%20%20%20%0A%20%20%20%20%20%20%20%20%20%20%20%20var%20popup_fe49ab35749c462ea9b05acf68dd9d36%20%3D%20L.popup%28%7BmaxWidth%3A%20%27100%25%27%0A%20%20%20%20%20%20%20%20%20%20%20%20%0A%20%20%20%20%20%20%20%20%20%20%20%20%7D%29%3B%0A%0A%20%20%20%20%20%20%20%20%20%20%20%20%0A%20%20%20%20%20%20%20%20%20%20%20%20%20%20%20%20var%20html_7a5f1fccc62d4cc3a44a1780f904f813%20%3D%20%24%28%60%3Cdiv%20id%3D%22html_7a5f1fccc62d4cc3a44a1780f904f813%22%20style%3D%22width%3A%20100.0%25%3B%20height%3A%20100.0%25%3B%22%3ETanglin%20Halt%20Market%3C/div%3E%60%29%5B0%5D%3B%0A%20%20%20%20%20%20%20%20%20%20%20%20%20%20%20%20popup_fe49ab35749c462ea9b05acf68dd9d36.setContent%28html_7a5f1fccc62d4cc3a44a1780f904f813%29%3B%0A%20%20%20%20%20%20%20%20%20%20%20%20%0A%0A%20%20%20%20%20%20%20%20%20%20%20%20marker_2685657b40f7426fae04bb42fd1c932d.bindPopup%28popup_fe49ab35749c462ea9b05acf68dd9d36%29%0A%20%20%20%20%20%20%20%20%20%20%20%20%3B%0A%0A%20%20%20%20%20%20%20%20%20%20%20%20%0A%20%20%20%20%20%20%20%20%0A%20%20%20%20%0A%20%20%20%20%20%20%20%20var%20marker_9245a64d41714016a34980dc47a63128%20%3D%20L.marker%28%0A%20%20%20%20%20%20%20%20%20%20%20%20%5B1.276679993%2C%20103.8432312%5D%2C%0A%20%20%20%20%20%20%20%20%20%20%20%20%7B%0A%20%20%20%20%20%20%20%20%20%20%20%20%20%20%20%20icon%3A%20new%20L.Icon.Default%28%29%2C%0A%20%20%20%20%20%20%20%20%20%20%20%20%20%20%20%20%7D%0A%20%20%20%20%20%20%20%20%20%20%20%20%29.addTo%28map_f0453ca49538401ea2902b9d8954580b%29%3B%0A%20%20%20%20%20%20%20%20%0A%20%20%20%20%0A%20%20%20%20%20%20%20%20%20%20%20%20var%20popup_f775bcfc1af24910b59109e9df7fa641%20%3D%20L.popup%28%7BmaxWidth%3A%20%27100%25%27%0A%20%20%20%20%20%20%20%20%20%20%20%20%0A%20%20%20%20%20%20%20%20%20%20%20%20%7D%29%3B%0A%0A%20%20%20%20%20%20%20%20%20%20%20%20%0A%20%20%20%20%20%20%20%20%20%20%20%20%20%20%20%20var%20html_ac497fd2aec14fa38a450452c0ccf99d%20%3D%20%24%28%60%3Cdiv%20id%3D%22html_ac497fd2aec14fa38a450452c0ccf99d%22%20style%3D%22width%3A%20100.0%25%3B%20height%3A%20100.0%25%3B%22%3ETanjong%20Pagar%20Plaza%20Blk%206%20%28Blk%206%20Tanjong%20Pagar%20Plaza%20Market%20and%20Food%20Centre%29%3C/div%3E%60%29%5B0%5D%3B%0A%20%20%20%20%20%20%20%20%20%20%20%20%20%20%20%20popup_f775bcfc1af24910b59109e9df7fa641.setContent%28html_ac497fd2aec14fa38a450452c0ccf99d%29%3B%0A%20%20%20%20%20%20%20%20%20%20%20%20%0A%0A%20%20%20%20%20%20%20%20%20%20%20%20marker_9245a64d41714016a34980dc47a63128.bindPopup%28popup_f775bcfc1af24910b59109e9df7fa641%29%0A%20%20%20%20%20%20%20%20%20%20%20%20%3B%0A%0A%20%20%20%20%20%20%20%20%20%20%20%20%0A%20%20%20%20%20%20%20%20%0A%20%20%20%20%0A%20%20%20%20%20%20%20%20var%20marker_087e6a7467a44bbdbbee5b0346be1b84%20%3D%20L.marker%28%0A%20%20%20%20%20%20%20%20%20%20%20%20%5B1.320517302%2C%20103.7420807%5D%2C%0A%20%20%20%20%20%20%20%20%20%20%20%20%7B%0A%20%20%20%20%20%20%20%20%20%20%20%20%20%20%20%20icon%3A%20new%20L.Icon.Default%28%29%2C%0A%20%20%20%20%20%20%20%20%20%20%20%20%20%20%20%20%7D%0A%20%20%20%20%20%20%20%20%20%20%20%20%29.addTo%28map_f0453ca49538401ea2902b9d8954580b%29%3B%0A%20%20%20%20%20%20%20%20%0A%20%20%20%20%0A%20%20%20%20%20%20%20%20%20%20%20%20var%20popup_aa8bef5f2a7241aead0c12de91c2d0f1%20%3D%20L.popup%28%7BmaxWidth%3A%20%27100%25%27%0A%20%20%20%20%20%20%20%20%20%20%20%20%0A%20%20%20%20%20%20%20%20%20%20%20%20%7D%29%3B%0A%0A%20%20%20%20%20%20%20%20%20%20%20%20%0A%20%20%20%20%20%20%20%20%20%20%20%20%20%20%20%20var%20html_1f28d32baf2a44dabf09a3d5cbd12fa7%20%3D%20%24%28%60%3Cdiv%20id%3D%22html_1f28d32baf2a44dabf09a3d5cbd12fa7%22%20style%3D%22width%3A%20100.0%25%3B%20height%3A%20100.0%25%3B%22%3ETeban%20Gardens%20Road%20Blk%2037A%20%28Teban%20Gardens%20Market%20and%20Food%20Centre%29%3C/div%3E%60%29%5B0%5D%3B%0A%20%20%20%20%20%20%20%20%20%20%20%20%20%20%20%20popup_aa8bef5f2a7241aead0c12de91c2d0f1.setContent%28html_1f28d32baf2a44dabf09a3d5cbd12fa7%29%3B%0A%20%20%20%20%20%20%20%20%20%20%20%20%0A%0A%20%20%20%20%20%20%20%20%20%20%20%20marker_087e6a7467a44bbdbbee5b0346be1b84.bindPopup%28popup_aa8bef5f2a7241aead0c12de91c2d0f1%29%0A%20%20%20%20%20%20%20%20%20%20%20%20%3B%0A%0A%20%20%20%20%20%20%20%20%20%20%20%20%0A%20%20%20%20%20%20%20%20%0A%20%20%20%20%0A%20%20%20%20%20%20%20%20var%20marker_8afc6a8226c84e2798efc265f9b494c1%20%3D%20L.marker%28%0A%20%20%20%20%20%20%20%20%20%20%20%20%5B1.277439952%2C%20103.81873320000001%5D%2C%0A%20%20%20%20%20%20%20%20%20%20%20%20%7B%0A%20%20%20%20%20%20%20%20%20%20%20%20%20%20%20%20icon%3A%20new%20L.Icon.Default%28%29%2C%0A%20%20%20%20%20%20%20%20%20%20%20%20%20%20%20%20%7D%0A%20%20%20%20%20%20%20%20%20%20%20%20%29.addTo%28map_f0453ca49538401ea2902b9d8954580b%29%3B%0A%20%20%20%20%20%20%20%20%0A%20%20%20%20%0A%20%20%20%20%20%20%20%20%20%20%20%20var%20popup_d64aef3858a34e15b7e137bf2473d2bd%20%3D%20L.popup%28%7BmaxWidth%3A%20%27100%25%27%0A%20%20%20%20%20%20%20%20%20%20%20%20%0A%20%20%20%20%20%20%20%20%20%20%20%20%7D%29%3B%0A%0A%20%20%20%20%20%20%20%20%20%20%20%20%0A%20%20%20%20%20%20%20%20%20%20%20%20%20%20%20%20var%20html_df1d3ca065464c218558cdca874122de%20%3D%20%24%28%60%3Cdiv%20id%3D%22html_df1d3ca065464c218558cdca874122de%22%20style%3D%22width%3A%20100.0%25%3B%20height%3A%20100.0%25%3B%22%3ETelok%20Blangah%20Crescent%20Blk%2011%20%2811%20Telok%20Blangah%20Crescent%20Market%20and%20Food%20Centre%29%3C/div%3E%60%29%5B0%5D%3B%0A%20%20%20%20%20%20%20%20%20%20%20%20%20%20%20%20popup_d64aef3858a34e15b7e137bf2473d2bd.setContent%28html_df1d3ca065464c218558cdca874122de%29%3B%0A%20%20%20%20%20%20%20%20%20%20%20%20%0A%0A%20%20%20%20%20%20%20%20%20%20%20%20marker_8afc6a8226c84e2798efc265f9b494c1.bindPopup%28popup_d64aef3858a34e15b7e137bf2473d2bd%29%0A%20%20%20%20%20%20%20%20%20%20%20%20%3B%0A%0A%20%20%20%20%20%20%20%20%20%20%20%20%0A%20%20%20%20%20%20%20%20%0A%20%20%20%20%0A%20%20%20%20%20%20%20%20var%20marker_38488bdd69d246efb080678941bd1af0%20%3D%20L.marker%28%0A%20%20%20%20%20%20%20%20%20%20%20%20%5B1.27342999%2C%20103.8076782%5D%2C%0A%20%20%20%20%20%20%20%20%20%20%20%20%7B%0A%20%20%20%20%20%20%20%20%20%20%20%20%20%20%20%20icon%3A%20new%20L.Icon.Default%28%29%2C%0A%20%20%20%20%20%20%20%20%20%20%20%20%20%20%20%20%7D%0A%20%20%20%20%20%20%20%20%20%20%20%20%29.addTo%28map_f0453ca49538401ea2902b9d8954580b%29%3B%0A%20%20%20%20%20%20%20%20%0A%20%20%20%20%0A%20%20%20%20%20%20%20%20%20%20%20%20var%20popup_c21bfda6534d462cb5d25bfaeef9ac2d%20%3D%20L.popup%28%7BmaxWidth%3A%20%27100%25%27%0A%20%20%20%20%20%20%20%20%20%20%20%20%0A%20%20%20%20%20%20%20%20%20%20%20%20%7D%29%3B%0A%0A%20%20%20%20%20%20%20%20%20%20%20%20%0A%20%20%20%20%20%20%20%20%20%20%20%20%20%20%20%20var%20html_8cf7d64b447640228a77769cbefe70a2%20%3D%20%24%28%60%3Cdiv%20id%3D%22html_8cf7d64b447640228a77769cbefe70a2%22%20style%3D%22width%3A%20100.0%25%3B%20height%3A%20100.0%25%3B%22%3ETelok%20Blangah%20Drive%20Blk%2079%20%28Telok%20Blangah%20Food%20Centre%29%3C/div%3E%60%29%5B0%5D%3B%0A%20%20%20%20%20%20%20%20%20%20%20%20%20%20%20%20popup_c21bfda6534d462cb5d25bfaeef9ac2d.setContent%28html_8cf7d64b447640228a77769cbefe70a2%29%3B%0A%20%20%20%20%20%20%20%20%20%20%20%20%0A%0A%20%20%20%20%20%20%20%20%20%20%20%20marker_38488bdd69d246efb080678941bd1af0.bindPopup%28popup_c21bfda6534d462cb5d25bfaeef9ac2d%29%0A%20%20%20%20%20%20%20%20%20%20%20%20%3B%0A%0A%20%20%20%20%20%20%20%20%20%20%20%20%0A%20%20%20%20%20%20%20%20%0A%20%20%20%20%0A%20%20%20%20%20%20%20%20var%20marker_25c6911802b043c99a68f6847447d8b1%20%3D%20L.marker%28%0A%20%20%20%20%20%20%20%20%20%20%20%20%5B1.2739800209999999%2C%20103.80799870000001%5D%2C%0A%20%20%20%20%20%20%20%20%20%20%20%20%7B%0A%20%20%20%20%20%20%20%20%20%20%20%20%20%20%20%20icon%3A%20new%20L.Icon.Default%28%29%2C%0A%20%20%20%20%20%20%20%20%20%20%20%20%20%20%20%20%7D%0A%20%20%20%20%20%20%20%20%20%20%20%20%29.addTo%28map_f0453ca49538401ea2902b9d8954580b%29%3B%0A%20%20%20%20%20%20%20%20%0A%20%20%20%20%0A%20%20%20%20%20%20%20%20%20%20%20%20var%20popup_1eb83bda5ede4c85b6df49e1dc955be3%20%3D%20L.popup%28%7BmaxWidth%3A%20%27100%25%27%0A%20%20%20%20%20%20%20%20%20%20%20%20%0A%20%20%20%20%20%20%20%20%20%20%20%20%7D%29%3B%0A%0A%20%20%20%20%20%20%20%20%20%20%20%20%0A%20%20%20%20%20%20%20%20%20%20%20%20%20%20%20%20var%20html_a4861677a9204951b788982c56f4694b%20%3D%20%24%28%60%3Cdiv%20id%3D%22html_a4861677a9204951b788982c56f4694b%22%20style%3D%22width%3A%20100.0%25%3B%20height%3A%20100.0%25%3B%22%3ETelok%20Blangah%20Drive%20Blk%2082%20%28Telok%20Blangah%20Market%29%3C/div%3E%60%29%5B0%5D%3B%0A%20%20%20%20%20%20%20%20%20%20%20%20%20%20%20%20popup_1eb83bda5ede4c85b6df49e1dc955be3.setContent%28html_a4861677a9204951b788982c56f4694b%29%3B%0A%20%20%20%20%20%20%20%20%20%20%20%20%0A%0A%20%20%20%20%20%20%20%20%20%20%20%20marker_25c6911802b043c99a68f6847447d8b1.bindPopup%28popup_1eb83bda5ede4c85b6df49e1dc955be3%29%0A%20%20%20%20%20%20%20%20%20%20%20%20%3B%0A%0A%20%20%20%20%20%20%20%20%20%20%20%20%0A%20%20%20%20%20%20%20%20%0A%20%20%20%20%0A%20%20%20%20%20%20%20%20var%20marker_03717c191fcd4e8398ff7ea19ba37863%20%3D%20L.marker%28%0A%20%20%20%20%20%20%20%20%20%20%20%20%5B1.272660017%2C%20103.82212829999999%5D%2C%0A%20%20%20%20%20%20%20%20%20%20%20%20%7B%0A%20%20%20%20%20%20%20%20%20%20%20%20%20%20%20%20icon%3A%20new%20L.Icon.Default%28%29%2C%0A%20%20%20%20%20%20%20%20%20%20%20%20%20%20%20%20%7D%0A%20%20%20%20%20%20%20%20%20%20%20%20%29.addTo%28map_f0453ca49538401ea2902b9d8954580b%29%3B%0A%20%20%20%20%20%20%20%20%0A%20%20%20%20%0A%20%20%20%20%20%20%20%20%20%20%20%20var%20popup_43d7fc7898814cc09e70c6c6a03f0386%20%3D%20L.popup%28%7BmaxWidth%3A%20%27100%25%27%0A%20%20%20%20%20%20%20%20%20%20%20%20%0A%20%20%20%20%20%20%20%20%20%20%20%20%7D%29%3B%0A%0A%20%20%20%20%20%20%20%20%20%20%20%20%0A%20%20%20%20%20%20%20%20%20%20%20%20%20%20%20%20var%20html_ac673e52bdb34b68bb2480c0e95c1c35%20%3D%20%24%28%60%3Cdiv%20id%3D%22html_ac673e52bdb34b68bb2480c0e95c1c35%22%20style%3D%22width%3A%20100.0%25%3B%20height%3A%20100.0%25%3B%22%3ETelok%20Blangah%20Rise%20Blk%2036%20%28Telok%20Blangah%20Rise%20Market%29%3C/div%3E%60%29%5B0%5D%3B%0A%20%20%20%20%20%20%20%20%20%20%20%20%20%20%20%20popup_43d7fc7898814cc09e70c6c6a03f0386.setContent%28html_ac673e52bdb34b68bb2480c0e95c1c35%29%3B%0A%20%20%20%20%20%20%20%20%20%20%20%20%0A%0A%20%20%20%20%20%20%20%20%20%20%20%20marker_03717c191fcd4e8398ff7ea19ba37863.bindPopup%28popup_43d7fc7898814cc09e70c6c6a03f0386%29%0A%20%20%20%20%20%20%20%20%20%20%20%20%3B%0A%0A%20%20%20%20%20%20%20%20%20%20%20%20%0A%20%20%20%20%20%20%20%20%0A%20%20%20%20%0A%20%20%20%20%20%20%20%20var%20marker_435ce03ccf1b49459bac3cbb9f4f6678%20%3D%20L.marker%28%0A%20%20%20%20%20%20%20%20%20%20%20%20%5B1.284682989%2C%20103.83242800000001%5D%2C%0A%20%20%20%20%20%20%20%20%20%20%20%20%7B%0A%20%20%20%20%20%20%20%20%20%20%20%20%20%20%20%20icon%3A%20new%20L.Icon.Default%28%29%2C%0A%20%20%20%20%20%20%20%20%20%20%20%20%20%20%20%20%7D%0A%20%20%20%20%20%20%20%20%20%20%20%20%29.addTo%28map_f0453ca49538401ea2902b9d8954580b%29%3B%0A%20%20%20%20%20%20%20%20%0A%20%20%20%20%0A%20%20%20%20%20%20%20%20%20%20%20%20var%20popup_6e5a8c792fb347ec90ca8575a90e1dd6%20%3D%20L.popup%28%7BmaxWidth%3A%20%27100%25%27%0A%20%20%20%20%20%20%20%20%20%20%20%20%0A%20%20%20%20%20%20%20%20%20%20%20%20%7D%29%3B%0A%0A%20%20%20%20%20%20%20%20%20%20%20%20%0A%20%20%20%20%20%20%20%20%20%20%20%20%20%20%20%20var%20html_323455dcceb6481d94b04b34b707af6e%20%3D%20%24%28%60%3Cdiv%20id%3D%22html_323455dcceb6481d94b04b34b707af6e%22%20style%3D%22width%3A%20100.0%25%3B%20height%3A%20100.0%25%3B%22%3ETiong%20Bahru%20Market%3C/div%3E%60%29%5B0%5D%3B%0A%20%20%20%20%20%20%20%20%20%20%20%20%20%20%20%20popup_6e5a8c792fb347ec90ca8575a90e1dd6.setContent%28html_323455dcceb6481d94b04b34b707af6e%29%3B%0A%20%20%20%20%20%20%20%20%20%20%20%20%0A%0A%20%20%20%20%20%20%20%20%20%20%20%20marker_435ce03ccf1b49459bac3cbb9f4f6678.bindPopup%28popup_6e5a8c792fb347ec90ca8575a90e1dd6%29%0A%20%20%20%20%20%20%20%20%20%20%20%20%3B%0A%0A%20%20%20%20%20%20%20%20%20%20%20%20%0A%20%20%20%20%20%20%20%20%0A%20%20%20%20%0A%20%20%20%20%20%20%20%20var%20marker_a5dd3fc21d3b4bff830cd2776d593a23%20%3D%20L.marker%28%0A%20%20%20%20%20%20%20%20%20%20%20%20%5B1.338160038%2C%20103.84478759999999%5D%2C%0A%20%20%20%20%20%20%20%20%20%20%20%20%7B%0A%20%20%20%20%20%20%20%20%20%20%20%20%20%20%20%20icon%3A%20new%20L.Icon.Default%28%29%2C%0A%20%20%20%20%20%20%20%20%20%20%20%20%20%20%20%20%7D%0A%20%20%20%20%20%20%20%20%20%20%20%20%29.addTo%28map_f0453ca49538401ea2902b9d8954580b%29%3B%0A%20%20%20%20%20%20%20%20%0A%20%20%20%20%0A%20%20%20%20%20%20%20%20%20%20%20%20var%20popup_46dacca69632407da8a04baa82f5be73%20%3D%20L.popup%28%7BmaxWidth%3A%20%27100%25%27%0A%20%20%20%20%20%20%20%20%20%20%20%20%0A%20%20%20%20%20%20%20%20%20%20%20%20%7D%29%3B%0A%0A%20%20%20%20%20%20%20%20%20%20%20%20%0A%20%20%20%20%20%20%20%20%20%20%20%20%20%20%20%20var%20html_a78d5b886ab343b38d16661ae31801b2%20%3D%20%24%28%60%3Cdiv%20id%3D%22html_a78d5b886ab343b38d16661ae31801b2%22%20style%3D%22width%3A%20100.0%25%3B%20height%3A%20100.0%25%3B%22%3EToa%20Payoh%20Lorong%201%20Blk%20127%20%28Toa%20Payoh%20West%20Market%20and%20Food%20Court%29%3C/div%3E%60%29%5B0%5D%3B%0A%20%20%20%20%20%20%20%20%20%20%20%20%20%20%20%20popup_46dacca69632407da8a04baa82f5be73.setContent%28html_a78d5b886ab343b38d16661ae31801b2%29%3B%0A%20%20%20%20%20%20%20%20%20%20%20%20%0A%0A%20%20%20%20%20%20%20%20%20%20%20%20marker_a5dd3fc21d3b4bff830cd2776d593a23.bindPopup%28popup_46dacca69632407da8a04baa82f5be73%29%0A%20%20%20%20%20%20%20%20%20%20%20%20%3B%0A%0A%20%20%20%20%20%20%20%20%20%20%20%20%0A%20%20%20%20%20%20%20%20%0A%20%20%20%20%0A%20%20%20%20%20%20%20%20var%20marker_b28ce20a6ccd446c95218c9d0368435a%20%3D%20L.marker%28%0A%20%20%20%20%20%20%20%20%20%20%20%20%5B1.334619999%2C%20103.8520584%5D%2C%0A%20%20%20%20%20%20%20%20%20%20%20%20%7B%0A%20%20%20%20%20%20%20%20%20%20%20%20%20%20%20%20icon%3A%20new%20L.Icon.Default%28%29%2C%0A%20%20%20%20%20%20%20%20%20%20%20%20%20%20%20%20%7D%0A%20%20%20%20%20%20%20%20%20%20%20%20%29.addTo%28map_f0453ca49538401ea2902b9d8954580b%29%3B%0A%20%20%20%20%20%20%20%20%0A%20%20%20%20%0A%20%20%20%20%20%20%20%20%20%20%20%20var%20popup_04c94e0f345a4cbda63f4abb74cc3e33%20%3D%20L.popup%28%7BmaxWidth%3A%20%27100%25%27%0A%20%20%20%20%20%20%20%20%20%20%20%20%0A%20%20%20%20%20%20%20%20%20%20%20%20%7D%29%3B%0A%0A%20%20%20%20%20%20%20%20%20%20%20%20%0A%20%20%20%20%20%20%20%20%20%20%20%20%20%20%20%20var%20html_81ebfe91bdb64020b36a5f9fa9151f9e%20%3D%20%24%28%60%3Cdiv%20id%3D%22html_81ebfe91bdb64020b36a5f9fa9151f9e%22%20style%3D%22width%3A%20100.0%25%3B%20height%3A%20100.0%25%3B%22%3EToa%20Payoh%20Lorong%204%20Blk%2074%20%28Toa%20Payoh%20Vista%20Market%29%3C/div%3E%60%29%5B0%5D%3B%0A%20%20%20%20%20%20%20%20%20%20%20%20%20%20%20%20popup_04c94e0f345a4cbda63f4abb74cc3e33.setContent%28html_81ebfe91bdb64020b36a5f9fa9151f9e%29%3B%0A%20%20%20%20%20%20%20%20%20%20%20%20%0A%0A%20%20%20%20%20%20%20%20%20%20%20%20marker_b28ce20a6ccd446c95218c9d0368435a.bindPopup%28popup_04c94e0f345a4cbda63f4abb74cc3e33%29%0A%20%20%20%20%20%20%20%20%20%20%20%20%3B%0A%0A%20%20%20%20%20%20%20%20%20%20%20%20%0A%20%20%20%20%20%20%20%20%0A%20%20%20%20%0A%20%20%20%20%20%20%20%20var%20marker_54600a5ff89246cc988a0ae11bbddfc1%20%3D%20L.marker%28%0A%20%20%20%20%20%20%20%20%20%20%20%20%5B1.338539958%2C%20103.8495712%5D%2C%0A%20%20%20%20%20%20%20%20%20%20%20%20%7B%0A%20%20%20%20%20%20%20%20%20%20%20%20%20%20%20%20icon%3A%20new%20L.Icon.Default%28%29%2C%0A%20%20%20%20%20%20%20%20%20%20%20%20%20%20%20%20%7D%0A%20%20%20%20%20%20%20%20%20%20%20%20%29.addTo%28map_f0453ca49538401ea2902b9d8954580b%29%3B%0A%20%20%20%20%20%20%20%20%0A%20%20%20%20%0A%20%20%20%20%20%20%20%20%20%20%20%20var%20popup_41fe04e9b017407dbd87bd94280fe37c%20%3D%20L.popup%28%7BmaxWidth%3A%20%27100%25%27%0A%20%20%20%20%20%20%20%20%20%20%20%20%0A%20%20%20%20%20%20%20%20%20%20%20%20%7D%29%3B%0A%0A%20%20%20%20%20%20%20%20%20%20%20%20%0A%20%20%20%20%20%20%20%20%20%20%20%20%20%20%20%20var%20html_9c70a43d2a0c4d5d9fcac6921c215daf%20%3D%20%24%28%60%3Cdiv%20id%3D%22html_9c70a43d2a0c4d5d9fcac6921c215daf%22%20style%3D%22width%3A%20100.0%25%3B%20height%3A%20100.0%25%3B%22%3EToa%20Payoh%20Lorong%204%20Blk%2093%3C/div%3E%60%29%5B0%5D%3B%0A%20%20%20%20%20%20%20%20%20%20%20%20%20%20%20%20popup_41fe04e9b017407dbd87bd94280fe37c.setContent%28html_9c70a43d2a0c4d5d9fcac6921c215daf%29%3B%0A%20%20%20%20%20%20%20%20%20%20%20%20%0A%0A%20%20%20%20%20%20%20%20%20%20%20%20marker_54600a5ff89246cc988a0ae11bbddfc1.bindPopup%28popup_41fe04e9b017407dbd87bd94280fe37c%29%0A%20%20%20%20%20%20%20%20%20%20%20%20%3B%0A%0A%20%20%20%20%20%20%20%20%20%20%20%20%0A%20%20%20%20%20%20%20%20%0A%20%20%20%20%0A%20%20%20%20%20%20%20%20var%20marker_3e6343c6bac74790b48ccbd61f05dc06%20%3D%20L.marker%28%0A%20%20%20%20%20%20%20%20%20%20%20%20%5B1.3360999820000001%2C%20103.8529968%5D%2C%0A%20%20%20%20%20%20%20%20%20%20%20%20%7B%0A%20%20%20%20%20%20%20%20%20%20%20%20%20%20%20%20icon%3A%20new%20L.Icon.Default%28%29%2C%0A%20%20%20%20%20%20%20%20%20%20%20%20%20%20%20%20%7D%0A%20%20%20%20%20%20%20%20%20%20%20%20%29.addTo%28map_f0453ca49538401ea2902b9d8954580b%29%3B%0A%20%20%20%20%20%20%20%20%0A%20%20%20%20%0A%20%20%20%20%20%20%20%20%20%20%20%20var%20popup_0d34ae20918e434191ba740688dfe5c7%20%3D%20L.popup%28%7BmaxWidth%3A%20%27100%25%27%0A%20%20%20%20%20%20%20%20%20%20%20%20%0A%20%20%20%20%20%20%20%20%20%20%20%20%7D%29%3B%0A%0A%20%20%20%20%20%20%20%20%20%20%20%20%0A%20%20%20%20%20%20%20%20%20%20%20%20%20%20%20%20var%20html_8772f320a11b4edc8035ede54a64f070%20%3D%20%24%28%60%3Cdiv%20id%3D%22html_8772f320a11b4edc8035ede54a64f070%22%20style%3D%22width%3A%20100.0%25%3B%20height%3A%20100.0%25%3B%22%3EToa%20Payoh%20Lorong%205%20Blk%2075%3C/div%3E%60%29%5B0%5D%3B%0A%20%20%20%20%20%20%20%20%20%20%20%20%20%20%20%20popup_0d34ae20918e434191ba740688dfe5c7.setContent%28html_8772f320a11b4edc8035ede54a64f070%29%3B%0A%20%20%20%20%20%20%20%20%20%20%20%20%0A%0A%20%20%20%20%20%20%20%20%20%20%20%20marker_3e6343c6bac74790b48ccbd61f05dc06.bindPopup%28popup_0d34ae20918e434191ba740688dfe5c7%29%0A%20%20%20%20%20%20%20%20%20%20%20%20%3B%0A%0A%20%20%20%20%20%20%20%20%20%20%20%20%0A%20%20%20%20%20%20%20%20%0A%20%20%20%20%0A%20%20%20%20%20%20%20%20var%20marker_ff5dec9760c5490eb7cfdd22b7436cd1%20%3D%20L.marker%28%0A%20%20%20%20%20%20%20%20%20%20%20%20%5B1.335289955%2C%20103.8570633%5D%2C%0A%20%20%20%20%20%20%20%20%20%20%20%20%7B%0A%20%20%20%20%20%20%20%20%20%20%20%20%20%20%20%20icon%3A%20new%20L.Icon.Default%28%29%2C%0A%20%20%20%20%20%20%20%20%20%20%20%20%20%20%20%20%7D%0A%20%20%20%20%20%20%20%20%20%20%20%20%29.addTo%28map_f0453ca49538401ea2902b9d8954580b%29%3B%0A%20%20%20%20%20%20%20%20%0A%20%20%20%20%0A%20%20%20%20%20%20%20%20%20%20%20%20var%20popup_02631db20b66452aa07b2b927288c0fc%20%3D%20L.popup%28%7BmaxWidth%3A%20%27100%25%27%0A%20%20%20%20%20%20%20%20%20%20%20%20%0A%20%20%20%20%20%20%20%20%20%20%20%20%7D%29%3B%0A%0A%20%20%20%20%20%20%20%20%20%20%20%20%0A%20%20%20%20%20%20%20%20%20%20%20%20%20%20%20%20var%20html_01cb443fe0d643929b86ad1613844db2%20%3D%20%24%28%60%3Cdiv%20id%3D%22html_01cb443fe0d643929b86ad1613844db2%22%20style%3D%22width%3A%20100.0%25%3B%20height%3A%20100.0%25%3B%22%3EToa%20Payoh%20Lorong%207%20Blk%2022%20%28Kim%20Keat%20Palm%20Market%20and%20Food%20Centre%29%3C/div%3E%60%29%5B0%5D%3B%0A%20%20%20%20%20%20%20%20%20%20%20%20%20%20%20%20popup_02631db20b66452aa07b2b927288c0fc.setContent%28html_01cb443fe0d643929b86ad1613844db2%29%3B%0A%20%20%20%20%20%20%20%20%20%20%20%20%0A%0A%20%20%20%20%20%20%20%20%20%20%20%20marker_ff5dec9760c5490eb7cfdd22b7436cd1.bindPopup%28popup_02631db20b66452aa07b2b927288c0fc%29%0A%20%20%20%20%20%20%20%20%20%20%20%20%3B%0A%0A%20%20%20%20%20%20%20%20%20%20%20%20%0A%20%20%20%20%20%20%20%20%0A%20%20%20%20%0A%20%20%20%20%20%20%20%20var%20marker_737a5be250ad4c288439f034f033784b%20%3D%20L.marker%28%0A%20%20%20%20%20%20%20%20%20%20%20%20%5B1.340330005%2C%20103.8544617%5D%2C%0A%20%20%20%20%20%20%20%20%20%20%20%20%7B%0A%20%20%20%20%20%20%20%20%20%20%20%20%20%20%20%20icon%3A%20new%20L.Icon.Default%28%29%2C%0A%20%20%20%20%20%20%20%20%20%20%20%20%20%20%20%20%7D%0A%20%20%20%20%20%20%20%20%20%20%20%20%29.addTo%28map_f0453ca49538401ea2902b9d8954580b%29%3B%0A%20%20%20%20%20%20%20%20%0A%20%20%20%20%0A%20%20%20%20%20%20%20%20%20%20%20%20var%20popup_51015599896446168e2044e6efc576fc%20%3D%20L.popup%28%7BmaxWidth%3A%20%27100%25%27%0A%20%20%20%20%20%20%20%20%20%20%20%20%0A%20%20%20%20%20%20%20%20%20%20%20%20%7D%29%3B%0A%0A%20%20%20%20%20%20%20%20%20%20%20%20%0A%20%20%20%20%20%20%20%20%20%20%20%20%20%20%20%20var%20html_64a35f2f872841198eba0d8a4a71e968%20%3D%20%24%28%60%3Cdiv%20id%3D%22html_64a35f2f872841198eba0d8a4a71e968%22%20style%3D%22width%3A%20100.0%25%3B%20height%3A%20100.0%25%3B%22%3EToa%20Payoh%20Lorong%208%20Blk%20210%3C/div%3E%60%29%5B0%5D%3B%0A%20%20%20%20%20%20%20%20%20%20%20%20%20%20%20%20popup_51015599896446168e2044e6efc576fc.setContent%28html_64a35f2f872841198eba0d8a4a71e968%29%3B%0A%20%20%20%20%20%20%20%20%20%20%20%20%0A%0A%20%20%20%20%20%20%20%20%20%20%20%20marker_737a5be250ad4c288439f034f033784b.bindPopup%28popup_51015599896446168e2044e6efc576fc%29%0A%20%20%20%20%20%20%20%20%20%20%20%20%3B%0A%0A%20%20%20%20%20%20%20%20%20%20%20%20%0A%20%20%20%20%20%20%20%20%0A%20%20%20%20%0A%20%20%20%20%20%20%20%20var%20marker_3f2862b3a0084ea2b64509918ccc20b3%20%3D%20L.marker%28%0A%20%20%20%20%20%20%20%20%20%20%20%20%5B1.3150899409999999%2C%20103.8716812%5D%2C%0A%20%20%20%20%20%20%20%20%20%20%20%20%7B%0A%20%20%20%20%20%20%20%20%20%20%20%20%20%20%20%20icon%3A%20new%20L.Icon.Default%28%29%2C%0A%20%20%20%20%20%20%20%20%20%20%20%20%20%20%20%20%7D%0A%20%20%20%20%20%20%20%20%20%20%20%20%29.addTo%28map_f0453ca49538401ea2902b9d8954580b%29%3B%0A%20%20%20%20%20%20%20%20%0A%20%20%20%20%0A%20%20%20%20%20%20%20%20%20%20%20%20var%20popup_10c83783dad34493a8001fe30a5fe3e9%20%3D%20L.popup%28%7BmaxWidth%3A%20%27100%25%27%0A%20%20%20%20%20%20%20%20%20%20%20%20%0A%20%20%20%20%20%20%20%20%20%20%20%20%7D%29%3B%0A%0A%20%20%20%20%20%20%20%20%20%20%20%20%0A%20%20%20%20%20%20%20%20%20%20%20%20%20%20%20%20var%20html_4161dbe067664cd59aa0fa84bfec7e31%20%3D%20%24%28%60%3Cdiv%20id%3D%22html_4161dbe067664cd59aa0fa84bfec7e31%22%20style%3D%22width%3A%20100.0%25%3B%20height%3A%20100.0%25%3B%22%3EUpper%20Boon%20Keng%20Road%20Blk%2017%20%28Blk%2017%20Upper%20Boon%20Keng%20Market%20and%20Food%20Centre%29%3C/div%3E%60%29%5B0%5D%3B%0A%20%20%20%20%20%20%20%20%20%20%20%20%20%20%20%20popup_10c83783dad34493a8001fe30a5fe3e9.setContent%28html_4161dbe067664cd59aa0fa84bfec7e31%29%3B%0A%20%20%20%20%20%20%20%20%20%20%20%20%0A%0A%20%20%20%20%20%20%20%20%20%20%20%20marker_3f2862b3a0084ea2b64509918ccc20b3.bindPopup%28popup_10c83783dad34493a8001fe30a5fe3e9%29%0A%20%20%20%20%20%20%20%20%20%20%20%20%3B%0A%0A%20%20%20%20%20%20%20%20%20%20%20%20%0A%20%20%20%20%20%20%20%20%0A%20%20%20%20%0A%20%20%20%20%20%20%20%20var%20marker_f753609cc20a4068aa47cadef875f99b%20%3D%20L.marker%28%0A%20%20%20%20%20%20%20%20%20%20%20%20%5B1.284469962%2C%20103.84586329999999%5D%2C%0A%20%20%20%20%20%20%20%20%20%20%20%20%7B%0A%20%20%20%20%20%20%20%20%20%20%20%20%20%20%20%20icon%3A%20new%20L.Icon.Default%28%29%2C%0A%20%20%20%20%20%20%20%20%20%20%20%20%20%20%20%20%7D%0A%20%20%20%20%20%20%20%20%20%20%20%20%29.addTo%28map_f0453ca49538401ea2902b9d8954580b%29%3B%0A%20%20%20%20%20%20%20%20%0A%20%20%20%20%0A%20%20%20%20%20%20%20%20%20%20%20%20var%20popup_0bdfff2ef23f496eae4fd39445af76c7%20%3D%20L.popup%28%7BmaxWidth%3A%20%27100%25%27%0A%20%20%20%20%20%20%20%20%20%20%20%20%0A%20%20%20%20%20%20%20%20%20%20%20%20%7D%29%3B%0A%0A%20%20%20%20%20%20%20%20%20%20%20%20%0A%20%20%20%20%20%20%20%20%20%20%20%20%20%20%20%20var%20html_87bdce53dec84974995556fad37d4477%20%3D%20%24%28%60%3Cdiv%20id%3D%22html_87bdce53dec84974995556fad37d4477%22%20style%3D%22width%3A%20100.0%25%3B%20height%3A%20100.0%25%3B%22%3EUpper%20Cross%20Street%20Blk%20531A%20%28Hong%20Lim%20Food%20Centre%20and%20Market%29%3C/div%3E%60%29%5B0%5D%3B%0A%20%20%20%20%20%20%20%20%20%20%20%20%20%20%20%20popup_0bdfff2ef23f496eae4fd39445af76c7.setContent%28html_87bdce53dec84974995556fad37d4477%29%3B%0A%20%20%20%20%20%20%20%20%20%20%20%20%0A%0A%20%20%20%20%20%20%20%20%20%20%20%20marker_f753609cc20a4068aa47cadef875f99b.bindPopup%28popup_0bdfff2ef23f496eae4fd39445af76c7%29%0A%20%20%20%20%20%20%20%20%20%20%20%20%3B%0A%0A%20%20%20%20%20%20%20%20%20%20%20%20%0A%20%20%20%20%20%20%20%20%0A%20%20%20%20%0A%20%20%20%20%20%20%20%20var%20marker_cee838dd05094f16bb65e59742505ebd%20%3D%20L.marker%28%0A%20%20%20%20%20%20%20%20%20%20%20%20%5B1.311959982%2C%20103.7591019%5D%2C%0A%20%20%20%20%20%20%20%20%20%20%20%20%7B%0A%20%20%20%20%20%20%20%20%20%20%20%20%20%20%20%20icon%3A%20new%20L.Icon.Default%28%29%2C%0A%20%20%20%20%20%20%20%20%20%20%20%20%20%20%20%20%7D%0A%20%20%20%20%20%20%20%20%20%20%20%20%29.addTo%28map_f0453ca49538401ea2902b9d8954580b%29%3B%0A%20%20%20%20%20%20%20%20%0A%20%20%20%20%0A%20%20%20%20%20%20%20%20%20%20%20%20var%20popup_53e62bae50a941779520230b760b29f8%20%3D%20L.popup%28%7BmaxWidth%3A%20%27100%25%27%0A%20%20%20%20%20%20%20%20%20%20%20%20%0A%20%20%20%20%20%20%20%20%20%20%20%20%7D%29%3B%0A%0A%20%20%20%20%20%20%20%20%20%20%20%20%0A%20%20%20%20%20%20%20%20%20%20%20%20%20%20%20%20var%20html_906a76de2d504b42a3c0cda549e1171f%20%3D%20%24%28%60%3Cdiv%20id%3D%22html_906a76de2d504b42a3c0cda549e1171f%22%20style%3D%22width%3A%20100.0%25%3B%20height%3A%20100.0%25%3B%22%3EWest%20Coast%20Drive%20Blk%20502%20%28Ayer%20Rajah%20Market%29%3C/div%3E%60%29%5B0%5D%3B%0A%20%20%20%20%20%20%20%20%20%20%20%20%20%20%20%20popup_53e62bae50a941779520230b760b29f8.setContent%28html_906a76de2d504b42a3c0cda549e1171f%29%3B%0A%20%20%20%20%20%20%20%20%20%20%20%20%0A%0A%20%20%20%20%20%20%20%20%20%20%20%20marker_cee838dd05094f16bb65e59742505ebd.bindPopup%28popup_53e62bae50a941779520230b760b29f8%29%0A%20%20%20%20%20%20%20%20%20%20%20%20%3B%0A%0A%20%20%20%20%20%20%20%20%20%20%20%20%0A%20%20%20%20%20%20%20%20%0A%20%20%20%20%0A%20%20%20%20%20%20%20%20var%20marker_7d12395dd26e4843b75c285fe0c8115e%20%3D%20L.marker%28%0A%20%20%20%20%20%20%20%20%20%20%20%20%5B1.3118699790000001%2C%20103.7598038%5D%2C%0A%20%20%20%20%20%20%20%20%20%20%20%20%7B%0A%20%20%20%20%20%20%20%20%20%20%20%20%20%20%20%20icon%3A%20new%20L.Icon.Default%28%29%2C%0A%20%20%20%20%20%20%20%20%20%20%20%20%20%20%20%20%7D%0A%20%20%20%20%20%20%20%20%20%20%20%20%29.addTo%28map_f0453ca49538401ea2902b9d8954580b%29%3B%0A%20%20%20%20%20%20%20%20%0A%20%20%20%20%0A%20%20%20%20%20%20%20%20%20%20%20%20var%20popup_3aa9eeb98592448b86095cdb53ec330e%20%3D%20L.popup%28%7BmaxWidth%3A%20%27100%25%27%0A%20%20%20%20%20%20%20%20%20%20%20%20%0A%20%20%20%20%20%20%20%20%20%20%20%20%7D%29%3B%0A%0A%20%20%20%20%20%20%20%20%20%20%20%20%0A%20%20%20%20%20%20%20%20%20%20%20%20%20%20%20%20var%20html_7d6b173650f74f00b5338d9362ec622f%20%3D%20%24%28%60%3Cdiv%20id%3D%22html_7d6b173650f74f00b5338d9362ec622f%22%20style%3D%22width%3A%20100.0%25%3B%20height%3A%20100.0%25%3B%22%3EWest%20Coast%20Drive%20Blk%20503%20%28Ayer%20Rajah%20Food%20Centre%29%3C/div%3E%60%29%5B0%5D%3B%0A%20%20%20%20%20%20%20%20%20%20%20%20%20%20%20%20popup_3aa9eeb98592448b86095cdb53ec330e.setContent%28html_7d6b173650f74f00b5338d9362ec622f%29%3B%0A%20%20%20%20%20%20%20%20%20%20%20%20%0A%0A%20%20%20%20%20%20%20%20%20%20%20%20marker_7d12395dd26e4843b75c285fe0c8115e.bindPopup%28popup_3aa9eeb98592448b86095cdb53ec330e%29%0A%20%20%20%20%20%20%20%20%20%20%20%20%3B%0A%0A%20%20%20%20%20%20%20%20%20%20%20%20%0A%20%20%20%20%20%20%20%20%0A%20%20%20%20%0A%20%20%20%20%20%20%20%20var%20marker_5c50c81128604414b383dea507caa432%20%3D%20L.marker%28%0A%20%20%20%20%20%20%20%20%20%20%20%20%5B1.323140025%2C%20103.8550415%5D%2C%0A%20%20%20%20%20%20%20%20%20%20%20%20%7B%0A%20%20%20%20%20%20%20%20%20%20%20%20%20%20%20%20icon%3A%20new%20L.Icon.Default%28%29%2C%0A%20%20%20%20%20%20%20%20%20%20%20%20%20%20%20%20%7D%0A%20%20%20%20%20%20%20%20%20%20%20%20%29.addTo%28map_f0453ca49538401ea2902b9d8954580b%29%3B%0A%20%20%20%20%20%20%20%20%0A%20%20%20%20%0A%20%20%20%20%20%20%20%20%20%20%20%20var%20popup_dacb061d476e4cb29643e91fa26b3410%20%3D%20L.popup%28%7BmaxWidth%3A%20%27100%25%27%0A%20%20%20%20%20%20%20%20%20%20%20%20%0A%20%20%20%20%20%20%20%20%20%20%20%20%7D%29%3B%0A%0A%20%20%20%20%20%20%20%20%20%20%20%20%0A%20%20%20%20%20%20%20%20%20%20%20%20%20%20%20%20var%20html_d518724d4dff4011bf296f328863884b%20%3D%20%24%28%60%3Cdiv%20id%3D%22html_d518724d4dff4011bf296f328863884b%22%20style%3D%22width%3A%20100.0%25%3B%20height%3A%20100.0%25%3B%22%3EWhampoa%20Drive%20Blk%2090%20%28Whampoa%20Drive%20Makan%20Place/Whampoa%20Food%20Centre%29%3C/div%3E%60%29%5B0%5D%3B%0A%20%20%20%20%20%20%20%20%20%20%20%20%20%20%20%20popup_dacb061d476e4cb29643e91fa26b3410.setContent%28html_d518724d4dff4011bf296f328863884b%29%3B%0A%20%20%20%20%20%20%20%20%20%20%20%20%0A%0A%20%20%20%20%20%20%20%20%20%20%20%20marker_5c50c81128604414b383dea507caa432.bindPopup%28popup_dacb061d476e4cb29643e91fa26b3410%29%0A%20%20%20%20%20%20%20%20%20%20%20%20%3B%0A%0A%20%20%20%20%20%20%20%20%20%20%20%20%0A%20%20%20%20%20%20%20%20%0A%20%20%20%20%0A%20%20%20%20%20%20%20%20var%20marker_3e078fc6a4d6429a978a73f09e3ab331%20%3D%20L.marker%28%0A%20%20%20%20%20%20%20%20%20%20%20%20%5B1.323490024%2C%20103.85413359999998%5D%2C%0A%20%20%20%20%20%20%20%20%20%20%20%20%7B%0A%20%20%20%20%20%20%20%20%20%20%20%20%20%20%20%20icon%3A%20new%20L.Icon.Default%28%29%2C%0A%20%20%20%20%20%20%20%20%20%20%20%20%20%20%20%20%7D%0A%20%20%20%20%20%20%20%20%20%20%20%20%29.addTo%28map_f0453ca49538401ea2902b9d8954580b%29%3B%0A%20%20%20%20%20%20%20%20%0A%20%20%20%20%0A%20%20%20%20%20%20%20%20%20%20%20%20var%20popup_b1e6f4c53b3242ecafc1200eadbca478%20%3D%20L.popup%28%7BmaxWidth%3A%20%27100%25%27%0A%20%20%20%20%20%20%20%20%20%20%20%20%0A%20%20%20%20%20%20%20%20%20%20%20%20%7D%29%3B%0A%0A%20%20%20%20%20%20%20%20%20%20%20%20%0A%20%20%20%20%20%20%20%20%20%20%20%20%20%20%20%20var%20html_bd64df97d8154eb9b4905e99386b744b%20%3D%20%24%28%60%3Cdiv%20id%3D%22html_bd64df97d8154eb9b4905e99386b744b%22%20style%3D%22width%3A%20100.0%25%3B%20height%3A%20100.0%25%3B%22%3EWhampoa%20Drive%20Blk%2091/92%20%28Whampoa%20Drive%20Makan%20Place/Whampoa%20Market%29%3C/div%3E%60%29%5B0%5D%3B%0A%20%20%20%20%20%20%20%20%20%20%20%20%20%20%20%20popup_b1e6f4c53b3242ecafc1200eadbca478.setContent%28html_bd64df97d8154eb9b4905e99386b744b%29%3B%0A%20%20%20%20%20%20%20%20%20%20%20%20%0A%0A%20%20%20%20%20%20%20%20%20%20%20%20marker_3e078fc6a4d6429a978a73f09e3ab331.bindPopup%28popup_b1e6f4c53b3242ecafc1200eadbca478%29%0A%20%20%20%20%20%20%20%20%20%20%20%20%3B%0A%0A%20%20%20%20%20%20%20%20%20%20%20%20%0A%20%20%20%20%20%20%20%20%0A%20%20%20%20%0A%20%20%20%20%20%20%20%20var%20marker_b6fbbe788fab4999af40229cfc2dd5c5%20%3D%20L.marker%28%0A%20%20%20%20%20%20%20%20%20%20%20%20%5B1.424911%2C%20103.844992%5D%2C%0A%20%20%20%20%20%20%20%20%20%20%20%20%7B%0A%20%20%20%20%20%20%20%20%20%20%20%20%20%20%20%20icon%3A%20new%20L.Icon.Default%28%29%2C%0A%20%20%20%20%20%20%20%20%20%20%20%20%20%20%20%20%7D%0A%20%20%20%20%20%20%20%20%20%20%20%20%29.addTo%28map_f0453ca49538401ea2902b9d8954580b%29%3B%0A%20%20%20%20%20%20%20%20%0A%20%20%20%20%0A%20%20%20%20%20%20%20%20%20%20%20%20var%20popup_801862b9204349f5b185e030a0eb1e17%20%3D%20L.popup%28%7BmaxWidth%3A%20%27100%25%27%0A%20%20%20%20%20%20%20%20%20%20%20%20%0A%20%20%20%20%20%20%20%20%20%20%20%20%7D%29%3B%0A%0A%20%20%20%20%20%20%20%20%20%20%20%20%0A%20%20%20%20%20%20%20%20%20%20%20%20%20%20%20%20var%20html_3ee37fc260fb487e9d25465ba420cb79%20%3D%20%24%28%60%3Cdiv%20id%3D%22html_3ee37fc260fb487e9d25465ba420cb79%22%20style%3D%22width%3A%20100.0%25%3B%20height%3A%20100.0%25%3B%22%3EYishun%20Park%20Hawker%20Centre%3C/div%3E%60%29%5B0%5D%3B%0A%20%20%20%20%20%20%20%20%20%20%20%20%20%20%20%20popup_801862b9204349f5b185e030a0eb1e17.setContent%28html_3ee37fc260fb487e9d25465ba420cb79%29%3B%0A%20%20%20%20%20%20%20%20%20%20%20%20%0A%0A%20%20%20%20%20%20%20%20%20%20%20%20marker_b6fbbe788fab4999af40229cfc2dd5c5.bindPopup%28popup_801862b9204349f5b185e030a0eb1e17%29%0A%20%20%20%20%20%20%20%20%20%20%20%20%3B%0A%0A%20%20%20%20%20%20%20%20%20%20%20%20%0A%20%20%20%20%20%20%20%20%0A%20%20%20%20%0A%20%20%20%20%20%20%20%20var%20marker_1126230059fe41e4968dfe720ec1ca9b%20%3D%20L.marker%28%0A%20%20%20%20%20%20%20%20%20%20%20%20%5B1.43165803%2C%20103.82807159999999%5D%2C%0A%20%20%20%20%20%20%20%20%20%20%20%20%7B%0A%20%20%20%20%20%20%20%20%20%20%20%20%20%20%20%20icon%3A%20new%20L.Icon.Default%28%29%2C%0A%20%20%20%20%20%20%20%20%20%20%20%20%20%20%20%20%7D%0A%20%20%20%20%20%20%20%20%20%20%20%20%29.addTo%28map_f0453ca49538401ea2902b9d8954580b%29%3B%0A%20%20%20%20%20%20%20%20%0A%20%20%20%20%0A%20%20%20%20%20%20%20%20%20%20%20%20var%20popup_00c035ffeb1c4fd88ce29d124d03afc3%20%3D%20L.popup%28%7BmaxWidth%3A%20%27100%25%27%0A%20%20%20%20%20%20%20%20%20%20%20%20%0A%20%20%20%20%20%20%20%20%20%20%20%20%7D%29%3B%0A%0A%20%20%20%20%20%20%20%20%20%20%20%20%0A%20%20%20%20%20%20%20%20%20%20%20%20%20%20%20%20var%20html_75ebedc8158a4ab4b18a9e100c4c733e%20%3D%20%24%28%60%3Cdiv%20id%3D%22html_75ebedc8158a4ab4b18a9e100c4c733e%22%20style%3D%22width%3A%20100.0%25%3B%20height%3A%20100.0%25%3B%22%3EYishun%20Ring%20Road%20Blk%20104/105%20%28Chong%20Pang%20Market%20and%20Food%20Centre%29%3C/div%3E%60%29%5B0%5D%3B%0A%20%20%20%20%20%20%20%20%20%20%20%20%20%20%20%20popup_00c035ffeb1c4fd88ce29d124d03afc3.setContent%28html_75ebedc8158a4ab4b18a9e100c4c733e%29%3B%0A%20%20%20%20%20%20%20%20%20%20%20%20%0A%0A%20%20%20%20%20%20%20%20%20%20%20%20marker_1126230059fe41e4968dfe720ec1ca9b.bindPopup%28popup_00c035ffeb1c4fd88ce29d124d03afc3%29%0A%20%20%20%20%20%20%20%20%20%20%20%20%3B%0A%0A%20%20%20%20%20%20%20%20%20%20%20%20%0A%20%20%20%20%20%20%20%20%0A%20%20%20%20%0A%20%20%20%20%20%20%20%20var%20marker_1153b64515454b27b45ca91972cefa1f%20%3D%20L.marker%28%0A%20%20%20%20%20%20%20%20%20%20%20%20%5B1.29234004%2C%20103.8311844%5D%2C%0A%20%20%20%20%20%20%20%20%20%20%20%20%7B%0A%20%20%20%20%20%20%20%20%20%20%20%20%20%20%20%20icon%3A%20new%20L.Icon.Default%28%29%2C%0A%20%20%20%20%20%20%20%20%20%20%20%20%20%20%20%20%7D%0A%20%20%20%20%20%20%20%20%20%20%20%20%29.addTo%28map_f0453ca49538401ea2902b9d8954580b%29%3B%0A%20%20%20%20%20%20%20%20%0A%20%20%20%20%0A%20%20%20%20%20%20%20%20%20%20%20%20var%20popup_d8dcf0aa9b1b45c7a86e19e130425d0e%20%3D%20L.popup%28%7BmaxWidth%3A%20%27100%25%27%0A%20%20%20%20%20%20%20%20%20%20%20%20%0A%20%20%20%20%20%20%20%20%20%20%20%20%7D%29%3B%0A%0A%20%20%20%20%20%20%20%20%20%20%20%20%0A%20%20%20%20%20%20%20%20%20%20%20%20%20%20%20%20var%20html_b038aad9a1bb488aa4b1059519a0e499%20%3D%20%24%28%60%3Cdiv%20id%3D%22html_b038aad9a1bb488aa4b1059519a0e499%22%20style%3D%22width%3A%20100.0%25%3B%20height%3A%20100.0%25%3B%22%3EZion%20Riverside%20Food%20Centre%3C/div%3E%60%29%5B0%5D%3B%0A%20%20%20%20%20%20%20%20%20%20%20%20%20%20%20%20popup_d8dcf0aa9b1b45c7a86e19e130425d0e.setContent%28html_b038aad9a1bb488aa4b1059519a0e499%29%3B%0A%20%20%20%20%20%20%20%20%20%20%20%20%0A%0A%20%20%20%20%20%20%20%20%20%20%20%20marker_1153b64515454b27b45ca91972cefa1f.bindPopup%28popup_d8dcf0aa9b1b45c7a86e19e130425d0e%29%0A%20%20%20%20%20%20%20%20%20%20%20%20%3B%0A%0A%20%20%20%20%20%20%20%20%20%20%20%20%0A%20%20%20%20%20%20%20%20%0A%3C/script%3E onload=\"this.contentDocument.open();this.contentDocument.write(    decodeURIComponent(this.getAttribute('data-html')));this.contentDocument.close();\" allowfullscreen webkitallowfullscreen mozallowfullscreen></iframe></div></div>"
            ],
            "text/plain": [
              "<folium.folium.Map at 0x7fe78018d7d0>"
            ]
          },
          "metadata": {}
        }
      ]
    },
    {
      "cell_type": "markdown",
      "source": [
        "#Extra Exercises!"
      ],
      "metadata": {
        "id": "0nLsmRnxblNM"
      }
    },
    {
      "cell_type": "markdown",
      "source": [
        "## Plotting a heatmap"
      ],
      "metadata": {
        "id": "Q95akBYBmJf5"
      }
    },
    {
      "cell_type": "markdown",
      "source": [
        "To understand the density of the hawker centres spatially, we can use the folium heat map to plot the listings. There are 2 broad steps to creating a heatmap:\n",
        "\n",
        "i) Creating a folium base map of the location (which we have learnt above)<br>\n",
        "ii) Adding the heatmap layer"
      ],
      "metadata": {
        "id": "jxN_RDmok9kK"
      }
    },
    {
      "cell_type": "code",
      "source": [
        "import folium\n",
        "from folium.plugins import HeatMap"
      ],
      "metadata": {
        "id": "fXl2PxzGmQ-7"
      },
      "execution_count": null,
      "outputs": []
    },
    {
      "cell_type": "code",
      "source": [
        "lat_long = []\n",
        "for index, location_info in hc_locations.iterrows():\n",
        "  lat_long.append([location_info['latitude_hc'], location_info['longitude_hc']])\n",
        "\n",
        "map_folium = folium.Map([1.35255,103.82580], zoom_start=11, control_scale=True)\n",
        "\n",
        "HeatMap(lat_long, radius = 8, gradient = {0.2:'blue', 0.3:'purple', 0.5:'orange', 1.0:'red'}).add_to(map_folium)\n",
        "display(map_folium)"
      ],
      "metadata": {
        "colab": {
          "base_uri": "https://localhost:8080/",
          "height": 509
        },
        "id": "LzKhxCP-mTgC",
        "outputId": "b77ad731-c3e1-49dd-f57a-805d9ea0f989"
      },
      "execution_count": null,
      "outputs": [
        {
          "output_type": "display_data",
          "data": {
            "text/html": [
              "<div style=\"width:100%;\"><div style=\"position:relative;width:100%;height:0;padding-bottom:60%;\"><span style=\"color:#565656\">Make this Notebook Trusted to load map: File -> Trust Notebook</span><iframe src=\"about:blank\" style=\"position:absolute;width:100%;height:100%;left:0;top:0;border:none !important;\" data-html=%3C%21DOCTYPE%20html%3E%0A%3Chead%3E%20%20%20%20%0A%20%20%20%20%3Cmeta%20http-equiv%3D%22content-type%22%20content%3D%22text/html%3B%20charset%3DUTF-8%22%20/%3E%0A%20%20%20%20%3Cscript%3EL_PREFER_CANVAS%3Dfalse%3B%20L_NO_TOUCH%3Dfalse%3B%20L_DISABLE_3D%3Dfalse%3B%3C/script%3E%0A%20%20%20%20%3Cscript%20src%3D%22https%3A//cdn.jsdelivr.net/npm/leaflet%401.4.0/dist/leaflet.js%22%3E%3C/script%3E%0A%20%20%20%20%3Cscript%20src%3D%22https%3A//code.jquery.com/jquery-1.12.4.min.js%22%3E%3C/script%3E%0A%20%20%20%20%3Cscript%20src%3D%22https%3A//maxcdn.bootstrapcdn.com/bootstrap/3.2.0/js/bootstrap.min.js%22%3E%3C/script%3E%0A%20%20%20%20%3Cscript%20src%3D%22https%3A//cdnjs.cloudflare.com/ajax/libs/Leaflet.awesome-markers/2.0.2/leaflet.awesome-markers.js%22%3E%3C/script%3E%0A%20%20%20%20%3Clink%20rel%3D%22stylesheet%22%20href%3D%22https%3A//cdn.jsdelivr.net/npm/leaflet%401.4.0/dist/leaflet.css%22/%3E%0A%20%20%20%20%3Clink%20rel%3D%22stylesheet%22%20href%3D%22https%3A//maxcdn.bootstrapcdn.com/bootstrap/3.2.0/css/bootstrap.min.css%22/%3E%0A%20%20%20%20%3Clink%20rel%3D%22stylesheet%22%20href%3D%22https%3A//maxcdn.bootstrapcdn.com/bootstrap/3.2.0/css/bootstrap-theme.min.css%22/%3E%0A%20%20%20%20%3Clink%20rel%3D%22stylesheet%22%20href%3D%22https%3A//maxcdn.bootstrapcdn.com/font-awesome/4.6.3/css/font-awesome.min.css%22/%3E%0A%20%20%20%20%3Clink%20rel%3D%22stylesheet%22%20href%3D%22https%3A//cdnjs.cloudflare.com/ajax/libs/Leaflet.awesome-markers/2.0.2/leaflet.awesome-markers.css%22/%3E%0A%20%20%20%20%3Clink%20rel%3D%22stylesheet%22%20href%3D%22https%3A//rawcdn.githack.com/python-visualization/folium/master/folium/templates/leaflet.awesome.rotate.css%22/%3E%0A%20%20%20%20%3Cstyle%3Ehtml%2C%20body%20%7Bwidth%3A%20100%25%3Bheight%3A%20100%25%3Bmargin%3A%200%3Bpadding%3A%200%3B%7D%3C/style%3E%0A%20%20%20%20%3Cstyle%3E%23map%20%7Bposition%3Aabsolute%3Btop%3A0%3Bbottom%3A0%3Bright%3A0%3Bleft%3A0%3B%7D%3C/style%3E%0A%20%20%20%20%0A%20%20%20%20%3Cmeta%20name%3D%22viewport%22%20content%3D%22width%3Ddevice-width%2C%0A%20%20%20%20%20%20%20%20initial-scale%3D1.0%2C%20maximum-scale%3D1.0%2C%20user-scalable%3Dno%22%20/%3E%0A%20%20%20%20%3Cstyle%3E%23map_d5834a600bcd4b42abe60dcd65d3431d%20%7B%0A%20%20%20%20%20%20%20%20position%3A%20relative%3B%0A%20%20%20%20%20%20%20%20width%3A%20100.0%25%3B%0A%20%20%20%20%20%20%20%20height%3A%20100.0%25%3B%0A%20%20%20%20%20%20%20%20left%3A%200.0%25%3B%0A%20%20%20%20%20%20%20%20top%3A%200.0%25%3B%0A%20%20%20%20%20%20%20%20%7D%0A%20%20%20%20%3C/style%3E%0A%20%20%20%20%3Cscript%20src%3D%22https%3A//leaflet.github.io/Leaflet.heat/dist/leaflet-heat.js%22%3E%3C/script%3E%0A%3C/head%3E%0A%3Cbody%3E%20%20%20%20%0A%20%20%20%20%0A%20%20%20%20%3Cdiv%20class%3D%22folium-map%22%20id%3D%22map_d5834a600bcd4b42abe60dcd65d3431d%22%20%3E%3C/div%3E%0A%3C/body%3E%0A%3Cscript%3E%20%20%20%20%0A%20%20%20%20%0A%20%20%20%20%0A%20%20%20%20%20%20%20%20var%20bounds%20%3D%20null%3B%0A%20%20%20%20%0A%0A%20%20%20%20var%20map_d5834a600bcd4b42abe60dcd65d3431d%20%3D%20L.map%28%0A%20%20%20%20%20%20%20%20%27map_d5834a600bcd4b42abe60dcd65d3431d%27%2C%20%7B%0A%20%20%20%20%20%20%20%20center%3A%20%5B1.35255%2C%20103.8258%5D%2C%0A%20%20%20%20%20%20%20%20zoom%3A%2011%2C%0A%20%20%20%20%20%20%20%20maxBounds%3A%20bounds%2C%0A%20%20%20%20%20%20%20%20layers%3A%20%5B%5D%2C%0A%20%20%20%20%20%20%20%20worldCopyJump%3A%20false%2C%0A%20%20%20%20%20%20%20%20crs%3A%20L.CRS.EPSG3857%2C%0A%20%20%20%20%20%20%20%20zoomControl%3A%20true%2C%0A%20%20%20%20%20%20%20%20%7D%29%3B%0AL.control.scale%28%29.addTo%28map_d5834a600bcd4b42abe60dcd65d3431d%29%3B%0A%0A%20%20%20%20%0A%20%20%20%20var%20tile_layer_689677ea7d454410a8fc6d2701e5ad57%20%3D%20L.tileLayer%28%0A%20%20%20%20%20%20%20%20%27https%3A//%7Bs%7D.tile.openstreetmap.org/%7Bz%7D/%7Bx%7D/%7By%7D.png%27%2C%0A%20%20%20%20%20%20%20%20%7B%0A%20%20%20%20%20%20%20%20%22attribution%22%3A%20null%2C%0A%20%20%20%20%20%20%20%20%22detectRetina%22%3A%20false%2C%0A%20%20%20%20%20%20%20%20%22maxNativeZoom%22%3A%2018%2C%0A%20%20%20%20%20%20%20%20%22maxZoom%22%3A%2018%2C%0A%20%20%20%20%20%20%20%20%22minZoom%22%3A%200%2C%0A%20%20%20%20%20%20%20%20%22noWrap%22%3A%20false%2C%0A%20%20%20%20%20%20%20%20%22opacity%22%3A%201%2C%0A%20%20%20%20%20%20%20%20%22subdomains%22%3A%20%22abc%22%2C%0A%20%20%20%20%20%20%20%20%22tms%22%3A%20false%0A%7D%29.addTo%28map_d5834a600bcd4b42abe60dcd65d3431d%29%3B%0A%20%20%20%20%0A%20%20%20%20%20%20%20%20%20%20%20%20var%20heat_map_5d4e7ef110784ec6b52884dcd68290f0%20%3D%20L.heatLayer%28%0A%20%20%20%20%20%20%20%20%20%20%20%20%20%20%20%20%5B%5B1.324131966%2C%20103.8141632%5D%2C%20%5B1.320709944%2C%20103.8870926%5D%2C%20%5B1.279129028%2C%20103.84698490000001%5D%2C%20%5B1.366950035%2C%20103.83918759999999%5D%2C%20%5B1.364169955%2C%20103.84832%5D%2C%20%5B1.362730026%2C%20103.8553772%5D%2C%20%5B1.368299961%2C%20103.8564377%5D%2C%20%5B1.37270999%2C%20103.8544464%5D%2C%20%5B1.3746000530000002%2C%20103.839241%5D%2C%20%5B1.38066268%2C%20103.84075159999999%5D%2C%20%5B1.3720400330000002%2C%20103.8464966%5D%2C%20%5B1.367266059%2C%20103.8399429%5D%2C%20%5B1.320353031%2C%20103.95547490000001%5D%2C%20%5B1.327119946%2C%20103.9332962%5D%2C%20%5B1.333310008%2C%20103.930687%5D%2C%20%5B1.332100034%2C%20103.9247208%5D%2C%20%5B1.332059979%2C%20103.9388123%5D%2C%20%5B1.332980037%2C%20103.91420749999999%5D%2C%20%5B1.320559978%2C%20103.9355469%5D%2C%20%5B1.3192800279999999%2C%20103.8630905%5D%2C%20%5B1.28848803%2C%20103.82724759999999%5D%2C%20%5B1.3073350190000002%2C%20103.8568497%5D%2C%20%5B1.345280051%2C%20103.7128525%5D%2C%20%5B1.306190014%2C%20103.8506699%5D%2C%20%5B1.283740044%2C%20103.8171082%5D%2C%20%5B1.286360025%2C%20103.8045502%5D%2C%20%5B1.285240054%2C%20103.8223724%5D%2C%20%5B1.378269%2C%20103.772432%5D%2C%20%5B1.339645028%2C%20103.77580259999999%5D%2C%20%5B1.316200018%2C%20103.85030359999999%5D%2C%20%5B1.3897199630000001%2C%20103.9881821%5D%2C%20%5B1.36422801%2C%20103.8665314%5D%2C%20%5B1.3749377%2C%20103.8829472%5D%2C%20%5B1.3266600370000001%2C%20103.8851166%5D%2C%20%5B1.327900052%2C%20103.88715359999999%5D%2C%20%5B1.3236399890000001%2C%20103.8855209%5D%2C%20%5B1.314337969%2C%20103.7707748%5D%2C%20%5B1.313349962%2C%20103.76458740000001%5D%2C%20%5B1.30391705%2C%20103.76417540000001%5D%2C%20%5B1.307432055%2C%20103.79946140000001%5D%2C%20%5B1.299550056%2C%20103.7980194%5D%2C%20%5B1.309412003%2C%20103.901825%5D%2C%20%5B1.307729959%2C%20103.9343033%5D%2C%20%5B1.316310048%2C%20103.805687%5D%2C%20%5B1.320291996%2C%20103.90422059999999%5D%2C%20%5B1.321529984%2C%20103.8700714%5D%2C%20%5B1.316888094%2C%20103.8974075%5D%2C%20%5B1.3110599520000001%2C%20103.7882919%5D%2C%20%5B1.302873969%2C%20103.86387629999999%5D%2C%20%5B1.315189958%2C%20103.8956528%5D%2C%20%5B1.288040042%2C%20103.829689%5D%2C%20%5B1.3081899879999999%2C%20103.7928391%5D%2C%20%5B1.311102033%2C%20103.7949448%5D%2C%20%5B1.354089975%2C%20103.890213%5D%2C%20%5B1.3590790030000002%2C%20103.8859253%5D%2C%20%5B1.3024300340000001%2C%20103.88397979999999%5D%2C%20%5B1.280069947%2C%20103.82607270000001%5D%2C%20%5B1.287009954%2C%20103.8081894%5D%2C%20%5B1.288319945%2C%20103.8399963%5D%2C%20%5B1.345360041%2C%20103.73158259999998%5D%2C%20%5B1.3434330230000002%2C%20103.73768620000001%5D%2C%20%5B1.341223%2C%20103.697374%5D%2C%20%5B1.349699974%2C%20103.71846009999999%5D%2C%20%5B1.307112455%2C%20103.88414759999999%5D%2C%20%5B1.4401190000000001%2C%20103.800735%5D%2C%20%5B1.302330017%2C%20103.9063873%5D%2C%20%5B1.305809975%2C%20103.91578670000001%5D%2C%20%5B1.281567926%2C%20103.8488473%5D%2C%20%5B1.4439899919999999%2C%20103.7772598%5D%2C%20%5B1.433543%2C%20103.779881%5D%2C%20%5B1.280550957%2C%20103.8444595%5D%2C%20%5B1.293300033%2C%20103.80296329999999%5D%2C%20%5B1.284870982%2C%20103.8425903%5D%2C%20%5B1.324629%2C%20103.930477%5D%2C%20%5B1.32516551%2C%20103.940155%5D%2C%20%5B1.312224984%2C%20103.83972929999999%5D%2C%20%5B1.305847049%2C%20103.8638611%5D%2C%20%5B1.308279991%2C%20103.8858414%5D%2C%20%5B1.352983%2C%20103.94023100000001%5D%2C%20%5B1.275658965%2C%20103.7915573%5D%2C%20%5B1.373318%2C%20103.951364%5D%2C%20%5B1.301120043%2C%20103.8541412%5D%2C%20%5B1.287909985%2C%20103.8183975%5D%2C%20%5B1.287400007%2C%20103.8183975%5D%2C%20%5B1.372419953%2C%20103.8290329%5D%2C%20%5B1.3635400530000001%2C%20103.8669815%5D%2C%20%5B1.3518199919999998%2C%20103.8370285%5D%2C%20%5B1.317100048%2C%20103.8793793%5D%2C%20%5B1.282299995%2C%20103.8428802%5D%2C%20%5B1.3346810340000002%2C%20103.72161870000001%5D%2C%20%5B1.345595956%2C%20103.9445953%5D%2C%20%5B1.300850034%2C%20103.79768370000001%5D%2C%20%5B1.276679993%2C%20103.8432312%5D%2C%20%5B1.320517302%2C%20103.7420807%5D%2C%20%5B1.277439952%2C%20103.81873320000001%5D%2C%20%5B1.27342999%2C%20103.8076782%5D%2C%20%5B1.2739800209999999%2C%20103.80799870000001%5D%2C%20%5B1.272660017%2C%20103.82212829999999%5D%2C%20%5B1.284682989%2C%20103.83242800000001%5D%2C%20%5B1.338160038%2C%20103.84478759999999%5D%2C%20%5B1.334619999%2C%20103.8520584%5D%2C%20%5B1.338539958%2C%20103.8495712%5D%2C%20%5B1.3360999820000001%2C%20103.8529968%5D%2C%20%5B1.335289955%2C%20103.8570633%5D%2C%20%5B1.340330005%2C%20103.8544617%5D%2C%20%5B1.3150899409999999%2C%20103.8716812%5D%2C%20%5B1.284469962%2C%20103.84586329999999%5D%2C%20%5B1.311959982%2C%20103.7591019%5D%2C%20%5B1.3118699790000001%2C%20103.7598038%5D%2C%20%5B1.323140025%2C%20103.8550415%5D%2C%20%5B1.323490024%2C%20103.85413359999998%5D%2C%20%5B1.424911%2C%20103.844992%5D%2C%20%5B1.43165803%2C%20103.82807159999999%5D%2C%20%5B1.29234004%2C%20103.8311844%5D%5D%2C%0A%20%20%20%20%20%20%20%20%20%20%20%20%20%20%20%20%7B%0A%20%20%20%20%20%20%20%20%20%20%20%20%20%20%20%20%20%20%20%20minOpacity%3A%200.5%2C%0A%20%20%20%20%20%20%20%20%20%20%20%20%20%20%20%20%20%20%20%20maxZoom%3A%2018%2C%0A%20%20%20%20%20%20%20%20%20%20%20%20%20%20%20%20%20%20%20%20max%3A%201.0%2C%0A%20%20%20%20%20%20%20%20%20%20%20%20%20%20%20%20%20%20%20%20radius%3A%208%2C%0A%20%20%20%20%20%20%20%20%20%20%20%20%20%20%20%20%20%20%20%20blur%3A%2015%2C%0A%20%20%20%20%20%20%20%20%20%20%20%20%20%20%20%20%20%20%20%20gradient%3A%20%7B%220.2%22%3A%20%22blue%22%2C%20%220.3%22%3A%20%22purple%22%2C%20%220.5%22%3A%20%22orange%22%2C%20%221.0%22%3A%20%22red%22%7D%0A%20%20%20%20%20%20%20%20%20%20%20%20%20%20%20%20%20%20%20%20%7D%29%0A%20%20%20%20%20%20%20%20%20%20%20%20%20%20%20%20.addTo%28map_d5834a600bcd4b42abe60dcd65d3431d%29%3B%0A%20%20%20%20%20%20%20%20%0A%3C/script%3E onload=\"this.contentDocument.open();this.contentDocument.write(    decodeURIComponent(this.getAttribute('data-html')));this.contentDocument.close();\" allowfullscreen webkitallowfullscreen mozallowfullscreen></iframe></div></div>"
            ],
            "text/plain": [
              "<folium.folium.Map at 0x7fe77efbda10>"
            ]
          },
          "metadata": {}
        }
      ]
    },
    {
      "cell_type": "markdown",
      "source": [
        "## Geospatial visualisation with other datasets\n",
        "Here are some other datasets that you can try to visualise\n",
        "<br> https://raw.githubusercontent.com/wnyeo/ExploreSCIS_data/main/hdb_final.csv\n",
        "<br> https://raw.githubusercontent.com/wnyeo/ExploreSCIS_data/main/mrt_lrt_final.csv\n",
        "<br> You can follow the steps outlined above"
      ],
      "metadata": {
        "id": "hifazc7-mTO0"
      }
    },
    {
      "cell_type": "markdown",
      "source": [
        "To challenge yourself further, you can also plot the distribution of MRTs and LRTs and HDBs together to see how accessible our country is :)"
      ],
      "metadata": {
        "id": "Bbn6eqGBmxRK"
      }
    },
    {
      "cell_type": "code",
      "source": [
        ""
      ],
      "metadata": {
        "id": "IPU4AZ7RmQ2G"
      },
      "execution_count": null,
      "outputs": []
    }
  ]
}