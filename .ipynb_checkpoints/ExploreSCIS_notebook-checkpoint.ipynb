{
 "cells": [
  {
   "cell_type": "markdown",
   "metadata": {
    "colab_type": "text",
    "id": "view-in-github"
   },
   "source": [
    "<a href=\"https://colab.research.google.com/github/wnyeo/ExploreSCIS_data/blob/main/ExploreSCIS_notebook.ipynb\" target=\"_parent\"><img src=\"https://colab.research.google.com/assets/colab-badge.svg\" alt=\"Open In Colab\"/></a>"
   ]
  },
  {
   "cell_type": "markdown",
   "metadata": {
    "id": "2npBvbWdLvrS"
   },
   "source": [
    "<table class=\"table table-bordered\">\n",
    "    <tr>\n",
    "        <th style=\"text-align:center; width:60%\"><img src='https://drive.google.com/uc?export=view&id=1jQtfAEFJ8tsuikRWYQXizafHksXV2ka9' style=\"width: 600px; height: 100px; \"></th>\n",
    "    <th style=\"text-align:center;\"><font size=\"3\"> <br/>ExploreSCIS 2021 <br /> <br>EDA and Basic Geospatial Visualisation Workshop by SMU Anthill Society</font></th>\n",
    "    </tr>\n",
    "</table> "
   ]
  },
  {
   "cell_type": "markdown",
   "metadata": {
    "id": "sj86Fh9pibMv"
   },
   "source": [
    "In this notebook, we will be using dataset of hawker centres retrieved from data.gov.sg (https://data.gov.sg/dataset/dates-of-hawker-centres-closure) to do an exploratory data analysis with Pandas and geospatial analysis with Folium. At the end of the workshop, we will generate a map like the one below:"
   ]
  },
  {
   "cell_type": "markdown",
   "metadata": {
    "id": "WyvR4xy5dqk1"
   },
   "source": [
    "<img src=\"https://drive.google.com/uc?export=view&id=1aZjERlpMM_S_sdKDa1ftFffkpAlRtRW-\" \n",
    "     width=\"700\" \n",
    "     height=\"400\"/>"
   ]
  },
  {
   "cell_type": "markdown",
   "metadata": {
    "id": "SE6m1P4D9GNZ"
   },
   "source": [
    "#Exploratory Data Analysis\n",
    "Exploratory Data Analysis (EDA) is an approach to analyse datasets to summarise their main characteristics, usually early in an analytical process. Other than giving us a better understanding of the data, it also helps us to detect mistakes and check assumptions. We can also see relationships among the variables in the dataset.\n",
    "\n",
    "In this workshop, we will be doing a simple form of EDA with the Pandas library."
   ]
  },
  {
   "cell_type": "markdown",
   "metadata": {
    "id": "GJXjt9fjEG_G"
   },
   "source": [
    "#Introduction to Pandas\n",
    "<center>\n",
    "<img src='https://upload.wikimedia.org/wikipedia/commons/thumb/e/ed/Pandas_logo.svg/1200px-Pandas_logo.svg.png'\n",
    "width = '350'\n",
    "height = '130'/>\n",
    "</center>\n",
    "<br>\n",
    "Pandas is a Python library mainly used for data analysis. It is a fast, powerful, flexible and easy to use open source data analysis and manipulation tool, built on top of the Python programming language. "
   ]
  },
  {
   "cell_type": "markdown",
   "metadata": {
    "id": "Y-MF5R6By_l2"
   },
   "source": [
    "## 1. Importing the Pandas Library "
   ]
  },
  {
   "cell_type": "markdown",
   "metadata": {
    "id": "LLd3P7W1FYkT"
   },
   "source": [
    "To use Pandas, we will need to install and import the pandas library. The Pandas library is already available in Google Colaboratory hence, we just need to import it. While it is not necessary to import pandas as pd, it is a convention to do so (and you can type less)."
   ]
  },
  {
   "cell_type": "code",
   "execution_count": null,
   "metadata": {
    "id": "49FJgaktb4eh"
   },
   "outputs": [],
   "source": [
    "import pandas as pd"
   ]
  },
  {
   "cell_type": "markdown",
   "metadata": {
    "id": "GkzHIr310V8u"
   },
   "source": [
    "## 2. Reading the data into a Pandas DataFrame"
   ]
  },
  {
   "cell_type": "markdown",
   "metadata": {
    "id": "XY9M9QNCiVAx"
   },
   "source": [
    "###2a. Reading in the data"
   ]
  },
  {
   "cell_type": "markdown",
   "metadata": {
    "id": "nfJiiI0ybSHY"
   },
   "source": [
    "We will load our data into the Pandas DataFrame, which is a 2-dimensional labeled data structure with rows and columns. It is a good visual representation of data as it is like a table.\n",
    "\n",
    "To load the data we have, we will use the **`.read_csv()`** function since our data is in a csv file format\n"
   ]
  },
  {
   "cell_type": "code",
   "execution_count": null,
   "metadata": {
    "id": "nfzX4afhb4YS"
   },
   "outputs": [],
   "source": [
    "url = 'https://raw.githubusercontent.com/wnyeo/ExploreSCIS_data/main/hawker_final.csv' # link to the cleaned dataset\n",
    "hawker_df = pd.read_csv(url)"
   ]
  },
  {
   "cell_type": "code",
   "execution_count": null,
   "metadata": {
    "id": "GNor6ghRkKD-"
   },
   "outputs": [],
   "source": [
    "# show the data\n",
    "hawker_df"
   ]
  },
  {
   "cell_type": "markdown",
   "metadata": {
    "id": "pUc--Toqib1I"
   },
   "source": [
    "### 2b. `head()` Function"
   ]
  },
  {
   "cell_type": "markdown",
   "metadata": {
    "id": "d-QGiXuMf8DW"
   },
   "source": [
    "To show only the first few rows of data, we can make use of the **`.head()`** function. By default, `df.head()` will return the first 5 rows of the DataFrame. If you want more/less number of rows, you can specify an integer."
   ]
  },
  {
   "cell_type": "code",
   "execution_count": null,
   "metadata": {
    "id": "xzZl_SIZf7lW"
   },
   "outputs": [],
   "source": []
  },
  {
   "cell_type": "markdown",
   "metadata": {
    "id": "QwVvIphphQLf"
   },
   "source": [
    "### 2c. `tail()` Function [Mini Exercise! - 2 mins]"
   ]
  },
  {
   "cell_type": "markdown",
   "metadata": {
    "id": "9nUz2Hnjg7T2"
   },
   "source": [
    "To show the last few rows of data, we can make use of the **`.tail()`** function. Similarly, by default, `df.tail()` will return the last 5 rows of the DataFrame. If you want more/less number of rows, you can specify an integer.\n",
    "<br>\n",
    "<br>**Exercise: Show the last 7 rows of hawker_df** "
   ]
  },
  {
   "cell_type": "code",
   "execution_count": null,
   "metadata": {
    "id": "7Qu3zQQ9SFSV"
   },
   "outputs": [],
   "source": [
    "# Enter your code here\n"
   ]
  },
  {
   "cell_type": "markdown",
   "metadata": {
    "id": "pGVhZ1VhSCFW"
   },
   "source": [
    "####Solution\n",
    "Click below for the solution."
   ]
  },
  {
   "cell_type": "code",
   "execution_count": null,
   "metadata": {
    "colab": {
     "base_uri": "https://localhost:8080/",
     "height": 911
    },
    "id": "w6oQc_qagPpj",
    "outputId": "378fe277-6b1c-41e1-fc9c-d4c261c2f1e0"
   },
   "outputs": [],
   "source": [
    "hawker_df.tail(7)"
   ]
  },
  {
   "cell_type": "markdown",
   "metadata": {
    "id": "BGzg_E8ejfxJ"
   },
   "source": [
    "###2d. Checking the size of data"
   ]
  },
  {
   "cell_type": "markdown",
   "metadata": {
    "id": "ro4Xt9zOjpuT"
   },
   "source": [
    "We can check the size of the data using the **`.shape`** attribute"
   ]
  },
  {
   "cell_type": "code",
   "execution_count": null,
   "metadata": {
    "id": "EDHubUKhIuMn"
   },
   "outputs": [],
   "source": []
  },
  {
   "cell_type": "markdown",
   "metadata": {
    "id": "txc9nQGKjxQd"
   },
   "source": [
    "We can see that there are __ rows and __ columns in our dataset"
   ]
  },
  {
   "cell_type": "markdown",
   "metadata": {
    "id": "ibObW6amlTJS"
   },
   "source": [
    "## 3. Accessing data in the Dataframe"
   ]
  },
  {
   "cell_type": "markdown",
   "metadata": {
    "id": "Fv8CQVzecK1N"
   },
   "source": [
    "### 3a. Accessing individual columns/columns in the Pandas DataFrame\n",
    "\n",
    "We can access columns in the DataFrame based on the column names directly using square brackets"
   ]
  },
  {
   "cell_type": "code",
   "execution_count": null,
   "metadata": {
    "id": "lXw2ZQu3eG4B"
   },
   "outputs": [],
   "source": []
  },
  {
   "cell_type": "code",
   "execution_count": null,
   "metadata": {
    "id": "D4GOnjx8ZzTN"
   },
   "outputs": [],
   "source": [
    "#access multiple columns"
   ]
  },
  {
   "cell_type": "markdown",
   "metadata": {
    "id": "BcG7rcZ7aaDQ"
   },
   "source": [
    "###3b. Accessing rows in the Pandas DataFrame\n",
    "To access rows in the Pandas DataFrame, we access it via their index using square brackets as well. Counting in Python starts from 0, hence, the first row would have an index of 0. Note that the second number in the indexing is exclusive.\n",
    "\n",
    "<center>\n",
    "<img src='https://cdn.programiz.com/sites/tutorial2program/files/python-list-index.png'\n",
    "width = '500'\n",
    "height = '220'/>\n",
    "</center>"
   ]
  },
  {
   "cell_type": "code",
   "execution_count": null,
   "metadata": {
    "id": "w3WfpBPj7Ayg"
   },
   "outputs": [],
   "source": [
    "# the second index is exclusive, in this case, the first 2 rows are accessed"
   ]
  },
  {
   "cell_type": "markdown",
   "metadata": {
    "id": "5vGQyv3jA83y"
   },
   "source": [
    "Note that to access individual rows in a Pandas DataFrame, we can make use of `.loc` or `iloc`, which is not covered in this workshop. Feel free to explore the extensive [indexing and selection](https://pandas.pydata.org/pandas-docs/stable/user_guide/indexing.html) methods that Pandas has. "
   ]
  },
  {
   "cell_type": "markdown",
   "metadata": {
    "id": "4DY7NAxh-TDI"
   },
   "source": [
    "###3c. Accessing values in the Pandas DataFrame\n",
    "We can access a single value in the Pandas DataFrame via the column name and the row index, using square brackets."
   ]
  },
  {
   "cell_type": "code",
   "execution_count": null,
   "metadata": {
    "id": "QX5jGXTw-vom"
   },
   "outputs": [],
   "source": []
  },
  {
   "cell_type": "markdown",
   "metadata": {
    "id": "gd5fhs15_qKs"
   },
   "source": [
    "For a range of values, we can make use of slicing. Note that in slicing, the second number in the indexing is also exclusive."
   ]
  },
  {
   "cell_type": "code",
   "execution_count": null,
   "metadata": {
    "id": "67ID8w7U_vyx"
   },
   "outputs": [],
   "source": []
  },
  {
   "cell_type": "code",
   "execution_count": null,
   "metadata": {
    "id": "t2-7T2S0AMXx"
   },
   "outputs": [],
   "source": [
    "#Another example\n"
   ]
  },
  {
   "cell_type": "markdown",
   "metadata": {
    "id": "PgXwpKar8ZfU"
   },
   "source": [
    "###[Mini Exercise] - 3 mins\n",
    "**Exercise: Show the number of market stalls and the number of food stalls for the first 3 hawker centre in the dataset**\n"
   ]
  },
  {
   "cell_type": "code",
   "execution_count": null,
   "metadata": {
    "id": "UifJYnHK815u"
   },
   "outputs": [],
   "source": [
    "# Enter your code here"
   ]
  },
  {
   "cell_type": "markdown",
   "metadata": {
    "id": "bKXmBbQG83iJ"
   },
   "source": [
    "#### Solution\n",
    "Click below for the solution."
   ]
  },
  {
   "cell_type": "code",
   "execution_count": null,
   "metadata": {
    "id": "QR80D5s-89JA"
   },
   "outputs": [],
   "source": [
    "hawker_df[['no_of_market_stalls', 'no_of_food_stalls']][0:3]"
   ]
  },
  {
   "cell_type": "code",
   "execution_count": null,
   "metadata": {
    "id": "N8haw7OjehLa"
   },
   "outputs": [],
   "source": [
    "# Another answer\n",
    "hawker_df[['no_of_market_stalls', 'no_of_food_stalls']].head(3)"
   ]
  },
  {
   "cell_type": "markdown",
   "metadata": {
    "id": "7IbRPYzn0ZV5"
   },
   "source": [
    "##4. Understanding the descriptive statistics of the data\n",
    "<center>\n",
    "<img src='https://miro.medium.com/max/707/1*w2hGJO5gUD6se5yQ6Efsdw.png'\n",
    "width = '350'\n",
    "height = '200'/>\n",
    "</center>"
   ]
  },
  {
   "cell_type": "markdown",
   "metadata": {
    "id": "NcIqPM7PKfIM"
   },
   "source": [
    "Descriptive statistics summarise the information of the characteristics and distribution of values in the dataset. It allows us to learn about the central tendency and variability of the data. Examples include the mean, median, mode, standard deviation, etc."
   ]
  },
  {
   "cell_type": "markdown",
   "metadata": {
    "id": "l28m2schDdaj"
   },
   "source": [
    "### 4a. `mean()` function"
   ]
  },
  {
   "cell_type": "code",
   "execution_count": null,
   "metadata": {
    "id": "XzvZ2ZUaCv_a"
   },
   "outputs": [],
   "source": []
  },
  {
   "cell_type": "markdown",
   "metadata": {
    "id": "K8zc_LBoDzh6"
   },
   "source": [
    "###4b. `min()` function"
   ]
  },
  {
   "cell_type": "code",
   "execution_count": null,
   "metadata": {
    "id": "NCACkqcZCy_9"
   },
   "outputs": [],
   "source": []
  },
  {
   "cell_type": "markdown",
   "metadata": {
    "id": "n44rZPxFD8Ys"
   },
   "source": [
    "### 4c. `max()` function"
   ]
  },
  {
   "cell_type": "code",
   "execution_count": null,
   "metadata": {
    "id": "SkPBMgO1C6WZ"
   },
   "outputs": [],
   "source": []
  },
  {
   "cell_type": "markdown",
   "metadata": {
    "id": "e_sZ1BVUD-kW"
   },
   "source": [
    "### 4d. `median()` function"
   ]
  },
  {
   "cell_type": "code",
   "execution_count": null,
   "metadata": {
    "id": "Eg1H6mCbC8SW"
   },
   "outputs": [],
   "source": []
  },
  {
   "cell_type": "markdown",
   "metadata": {
    "id": "dJZ6wk60lvGS"
   },
   "source": [
    "### 4e. `count()` function [Mini Exercise!] - 2 mins\n",
    "We can find the number of values for each column using the **`.count()`** function\n",
    "<br>\n",
    "<br>**Exercise: Find the count of values for each column in the dataframe** "
   ]
  },
  {
   "cell_type": "code",
   "execution_count": null,
   "metadata": {
    "id": "_f3aDvKHN0i4"
   },
   "outputs": [],
   "source": [
    "# Enter your code here\n"
   ]
  },
  {
   "cell_type": "markdown",
   "metadata": {
    "id": "Zg1xIwQmN1Ay"
   },
   "source": [
    "####Solution\n",
    "Click below for the solution."
   ]
  },
  {
   "cell_type": "code",
   "execution_count": null,
   "metadata": {
    "colab": {
     "base_uri": "https://localhost:8080/"
    },
    "id": "cn2cMM9mIuSI",
    "outputId": "d2cc26cc-0781-46fb-f917-e03f50bb40bc"
   },
   "outputs": [],
   "source": [
    "hawker_df.count()"
   ]
  },
  {
   "cell_type": "markdown",
   "metadata": {
    "id": "Romx_pEQlh7P"
   },
   "source": [
    "### 4d. `describe()` function\n",
    "Alternatively, we can understand the descriptive statistics of the data using the \n",
    "**`.describe()`** function"
   ]
  },
  {
   "cell_type": "code",
   "execution_count": null,
   "metadata": {
    "colab": {
     "base_uri": "https://localhost:8080/",
     "height": 298
    },
    "id": "41jX3EhpIuVL",
    "outputId": "969e991e-b38d-4944-9352-e0b27505db9b"
   },
   "outputs": [],
   "source": []
  },
  {
   "cell_type": "markdown",
   "metadata": {
    "id": "-etm1uHe14i1"
   },
   "source": [
    "\n",
    "Now that we have a basic idea of the dataset that we are working with, we can start to plot the locations of Hawker Centres onto the map"
   ]
  },
  {
   "cell_type": "markdown",
   "metadata": {
    "id": "i3DeXfu9ENWV"
   },
   "source": [
    "# Introduction to Foilum\n",
    "<center>\n",
    "<img src='http://python-visualization.github.io/folium/_images/folium_logo.jpg'\n",
    "width = '150'\n",
    "height = '150'/>\n",
    "</center>\n",
    "<br>\n",
    "\n",
    "Folium is a data visualization library in Python that was built primarily to help people visualize geospatial data. With Folium, one can create a map of any location in the world if its latitude and longitude values are known."
   ]
  },
  {
   "cell_type": "markdown",
   "metadata": {
    "id": "oir27z0dZcoK"
   },
   "source": [
    "## 5. Importing the Folium library\n",
    "Similarly to use Folium, we will need to install and import the Folium library. The Folium library is already available in Google Colaboratory hence, we just need to import it. "
   ]
  },
  {
   "cell_type": "code",
   "execution_count": null,
   "metadata": {
    "id": "Xp8t8NvwZkHt"
   },
   "outputs": [],
   "source": [
    "import folium"
   ]
  },
  {
   "cell_type": "markdown",
   "metadata": {
    "id": "1H_BiZeOZnUU"
   },
   "source": [
    "##6. Initialising a map\n"
   ]
  },
  {
   "cell_type": "markdown",
   "metadata": {
    "id": "BdwGLSaPWbzH"
   },
   "source": [
    "### 6a. Map() function\n",
    "We can generate a base map using the folium library using the **`Map()`** function. "
   ]
  },
  {
   "cell_type": "code",
   "execution_count": null,
   "metadata": {
    "id": "h--AFTXSVbBq"
   },
   "outputs": [],
   "source": [
    "map = folium.Map(location=[1.3437459, 103.8240449], # coordinates (latitude and longitude) of the map, these are the coordinates for Singapore\n",
    "                 zoom_start=12,                     # initial zoom level for the map\n",
    "                 control_scale=True)                # whether to add a control scale on the map."
   ]
  },
  {
   "cell_type": "markdown",
   "metadata": {
    "id": "ew-csR25WQg7"
   },
   "source": [
    "### 6b. Displaying the map\n",
    "Display the map using the **`display()`** function"
   ]
  },
  {
   "cell_type": "code",
   "execution_count": null,
   "metadata": {
    "id": "-9L9eeoceL8H"
   },
   "outputs": [],
   "source": [
    "display(map)"
   ]
  },
  {
   "cell_type": "markdown",
   "metadata": {
    "id": "KIwHVVFdZ2kV"
   },
   "source": [
    "## 7. Adding the locations onto the map"
   ]
  },
  {
   "cell_type": "markdown",
   "metadata": {
    "id": "7dWhrRewWz4I"
   },
   "source": [
    "### 7a. Retrieving the relevant rows for the geospatial visualisation"
   ]
  },
  {
   "cell_type": "code",
   "execution_count": null,
   "metadata": {
    "id": "TcM3sTg7cc-b"
   },
   "outputs": [],
   "source": [
    "hc_locations = hawker_df[[\"latitude_hc\", \"longitude_hc\", 'name']]"
   ]
  },
  {
   "cell_type": "code",
   "execution_count": null,
   "metadata": {
    "id": "qPSGA-_kf8Fz"
   },
   "outputs": [],
   "source": [
    "hc_locations"
   ]
  },
  {
   "cell_type": "markdown",
   "metadata": {
    "id": "8kHLdesIfrkR"
   },
   "source": [
    "### 7b. Adding a location onto the base map\n",
    "\n",
    "Using **`Marker()`**, we can add a location onto the base map that we have generated, by providing the coordinates. There is a parameter named popup where we can assign a text to. The text will be shown when we click on the marker."
   ]
  },
  {
   "cell_type": "code",
   "execution_count": null,
   "metadata": {
    "id": "1LwM0O-Ef-SJ"
   },
   "outputs": [],
   "source": [
    "folium.Marker([1.324132, 103.814163], # latitude and longitude\n",
    "              popup='Adam Road Food Centre' # name of hawker centre, what the popup will display when the marker is clicked\n",
    "              ).add_to(map) # add it to base map that was initialised"
   ]
  },
  {
   "cell_type": "code",
   "execution_count": null,
   "metadata": {
    "id": "dGOI3KglgmXc"
   },
   "outputs": [],
   "source": [
    "display(map)"
   ]
  },
  {
   "cell_type": "markdown",
   "metadata": {
    "id": "NHAzZRX2a-W2"
   },
   "source": [
    "### 7c. Adding multiple locations to the base map with the aid of a for loop\n",
    "However, it is quite a hassle to add each and every location onto the map individually. But we can speed up the process with the help of a for loop."
   ]
  },
  {
   "cell_type": "code",
   "execution_count": null,
   "metadata": {
    "id": "ueR3y8U-cc5k"
   },
   "outputs": [],
   "source": [
    "for index, location_info in hc_locations.iterrows(): # iterrows is used to iterate through the rows of the dataframe\n",
    "    folium.Marker([location_info[\"latitude_hc\"], location_info[\"longitude_hc\"]], # latitude and longitude\n",
    "                  popup=location_info[\"name\"]  # name of hawker centre\n",
    "                  ).add_to(map) # add it to the base map"
   ]
  },
  {
   "cell_type": "markdown",
   "metadata": {
    "id": "pjDc3kyzl-GM"
   },
   "source": [
    "For loops are used for iterating over iterable objects, such as the rows of the DataFrame.\n",
    "\n"
   ]
  },
  {
   "cell_type": "markdown",
   "metadata": {
    "id": "TC2Kc4QFh9Ku"
   },
   "source": [
    "**For a better idea of what `iterrows()` does.** <br> `DataFrame.iterrows` is a generator which yields both the index and row (as a Series)"
   ]
  },
  {
   "cell_type": "code",
   "execution_count": null,
   "metadata": {
    "id": "8k5-NLK_huuE"
   },
   "outputs": [],
   "source": [
    "for index, location_info in hc_locations.iterrows(): \n",
    "  print(index)\n",
    "  print('-----')\n",
    "  print(location_info) # location_info is a Series\n",
    "  print('-----')\n",
    "  print(location_info['latitude_hc'])\n",
    "  print(location_info['longitude_hc'])\n",
    "  print(location_info['name'])\n",
    "  break"
   ]
  },
  {
   "cell_type": "markdown",
   "metadata": {
    "id": "zA7nw6C4bFhI"
   },
   "source": [
    "### 7d. Display the map [Mini Exercise!] - 2 mins\n",
    "**Exercise: Display the map that has the location added to it**"
   ]
  },
  {
   "cell_type": "code",
   "execution_count": null,
   "metadata": {
    "id": "_uMAFMhCNv_T"
   },
   "outputs": [],
   "source": [
    "# Enter your code here"
   ]
  },
  {
   "cell_type": "markdown",
   "metadata": {
    "id": "Um16QgauNoMz"
   },
   "source": [
    "####Solution\n",
    "Click below for the solution."
   ]
  },
  {
   "cell_type": "code",
   "execution_count": null,
   "metadata": {
    "colab": {
     "base_uri": "https://localhost:8080/",
     "height": 693
    },
    "id": "aHhOQ_a5cc3B",
    "outputId": "5b4db2dc-ab16-4ab0-8f6d-0ce4d03247e3"
   },
   "outputs": [],
   "source": [
    "display(map)"
   ]
  },
  {
   "cell_type": "markdown",
   "metadata": {
    "id": "0nLsmRnxblNM"
   },
   "source": [
    "#Extra Exercises!"
   ]
  },
  {
   "cell_type": "markdown",
   "metadata": {
    "id": "Q95akBYBmJf5"
   },
   "source": [
    "## Plotting a heatmap"
   ]
  },
  {
   "cell_type": "markdown",
   "metadata": {
    "id": "jxN_RDmok9kK"
   },
   "source": [
    "To understand the density of the hawker centres spatially, we can use the folium heat map to plot their locations. There are 2 main steps to creating a heatmap with the folium library:\n",
    "\n",
    "1) Creating a folium base map of the location <br>\n",
    "2) Adding the heatmap layer"
   ]
  },
  {
   "cell_type": "markdown",
   "metadata": {
    "id": "l9EPeuf5nPtP"
   },
   "source": [
    "### Importing the folium library and HeatMap plugin"
   ]
  },
  {
   "cell_type": "code",
   "execution_count": null,
   "metadata": {
    "id": "fXl2PxzGmQ-7"
   },
   "outputs": [],
   "source": [
    "import folium\n",
    "from folium.plugins import HeatMap"
   ]
  },
  {
   "cell_type": "markdown",
   "metadata": {
    "id": "F4_5lgtJnapO"
   },
   "source": [
    "### Preparing the data needed\n",
    "To plot the heatmap, we will need the list of latitudes and longtitudes in a list. In Python, lists are used to store collections of data in a variable. They are created by square brackets. In this case, we will have a nested list (list of lists) for the list of latitudes and longitudes. The list will look something like this:\n",
    "<br> [ [1.324131966, 103.8141632],\n",
    " [1.320709944, 103.8870926],\n",
    " [1.279129028, 103.84698490000001],\n",
    " [1.366950035, 103.83918759999999] ]"
   ]
  },
  {
   "cell_type": "code",
   "execution_count": null,
   "metadata": {
    "id": "LzKhxCP-mTgC"
   },
   "outputs": [],
   "source": [
    "lat_long = []\n",
    "for index, location_info in hc_locations.iterrows():\n",
    "  lat_long.append([location_info['latitude_hc'], location_info['longitude_hc']])"
   ]
  },
  {
   "cell_type": "markdown",
   "metadata": {
    "id": "acPVbYTAov56"
   },
   "source": [
    "### Creating the base map"
   ]
  },
  {
   "cell_type": "code",
   "execution_count": null,
   "metadata": {
    "id": "L3H7zUKHoqjI"
   },
   "outputs": [],
   "source": [
    "map_folium = folium.Map([1.35255,103.82580], zoom_start=11, control_scale=True)"
   ]
  },
  {
   "cell_type": "markdown",
   "metadata": {
    "id": "aDMAPlGipAUA"
   },
   "source": [
    "### Adding the heatmap layer\n",
    "Now that we've created the base map, we will create the heatmap layer using **`HeatMap()`**"
   ]
  },
  {
   "cell_type": "code",
   "execution_count": null,
   "metadata": {
    "id": "TIuRXQWgoq_7"
   },
   "outputs": [],
   "source": [
    "HeatMap(lat_long, # nested list of latitude and longitude\n",
    "        radius = 8, # radius of the points\n",
    "        gradient = {0.2:'blue', 0.3:'purple', 0.5:'orange', 1.0:'red'} # color gradient for the density of heatmaps\n",
    "        ).add_to(map_folium) # add it to the base map"
   ]
  },
  {
   "cell_type": "markdown",
   "metadata": {
    "id": "ZXvSiFcvpIoO"
   },
   "source": [
    "### Displaying the heatmap"
   ]
  },
  {
   "cell_type": "code",
   "execution_count": null,
   "metadata": {
    "id": "GJrAn2qZouvg"
   },
   "outputs": [],
   "source": [
    "display(map_folium)"
   ]
  },
  {
   "cell_type": "markdown",
   "metadata": {
    "id": "hifazc7-mTO0"
   },
   "source": [
    "## Geospatial visualisation with other datasets\n",
    "Here is another dataset that you can try to visualise\n",
    "<br> https://raw.githubusercontent.com/wnyeo/ExploreSCIS_data/main/mrt_lrt_final.csv\n",
    "<br> You can follow the steps outlined to plot a map of the distribution of mrts/lrts in Singapore."
   ]
  },
  {
   "cell_type": "markdown",
   "metadata": {
    "id": "f_C2Go-k5c4R"
   },
   "source": [
    "### Importing the Pandas Library"
   ]
  },
  {
   "cell_type": "code",
   "execution_count": null,
   "metadata": {
    "id": "ApfUCLvotguO"
   },
   "outputs": [],
   "source": []
  },
  {
   "cell_type": "markdown",
   "metadata": {
    "id": "waKNSSwZ5g0X"
   },
   "source": [
    "### Reading in the data into a Pandas DataFrame"
   ]
  },
  {
   "cell_type": "code",
   "execution_count": null,
   "metadata": {
    "id": "qqHO8HMRtiQe"
   },
   "outputs": [],
   "source": []
  },
  {
   "cell_type": "markdown",
   "metadata": {
    "id": "0MEnZ_Pu5sFq"
   },
   "source": [
    "### Some EDA"
   ]
  },
  {
   "cell_type": "code",
   "execution_count": null,
   "metadata": {
    "id": "Kp-tQZxJttbH"
   },
   "outputs": [],
   "source": []
  },
  {
   "cell_type": "markdown",
   "metadata": {
    "id": "D1eCJwkQ5wSB"
   },
   "source": [
    "### Retrieving the relevant data needed"
   ]
  },
  {
   "cell_type": "code",
   "execution_count": null,
   "metadata": {
    "id": "mrDkqX-iuNCm"
   },
   "outputs": [],
   "source": []
  },
  {
   "cell_type": "markdown",
   "metadata": {
    "id": "6EAsrpAF54fd"
   },
   "source": [
    "### Importing the Folium library"
   ]
  },
  {
   "cell_type": "code",
   "execution_count": null,
   "metadata": {
    "id": "1C2rRxwNuJJV"
   },
   "outputs": [],
   "source": []
  },
  {
   "cell_type": "markdown",
   "metadata": {
    "id": "cFh-55pE5-1F"
   },
   "source": [
    "### Creating the base map"
   ]
  },
  {
   "cell_type": "code",
   "execution_count": null,
   "metadata": {
    "id": "koZ6Kl5IuX5_"
   },
   "outputs": [],
   "source": []
  },
  {
   "cell_type": "markdown",
   "metadata": {
    "id": "RJ8S-VDU6B67"
   },
   "source": [
    "### Adding in the locations"
   ]
  },
  {
   "cell_type": "code",
   "execution_count": null,
   "metadata": {
    "id": "xetKb9rfurlN"
   },
   "outputs": [],
   "source": []
  },
  {
   "cell_type": "markdown",
   "metadata": {
    "id": "QWSwkYDRBhI4"
   },
   "source": [
    "### Display the map"
   ]
  },
  {
   "cell_type": "code",
   "execution_count": null,
   "metadata": {
    "id": "WLNM0rngon4Z"
   },
   "outputs": [],
   "source": []
  }
 ],
 "metadata": {
  "colab": {
   "include_colab_link": true,
   "name": "ExploreSCIS-notebook.ipynb",
   "provenance": [],
   "toc_visible": true
  },
  "kernelspec": {
   "display_name": "Python 3",
   "language": "python",
   "name": "python3"
  },
  "language_info": {
   "codemirror_mode": {
    "name": "ipython",
    "version": 3
   },
   "file_extension": ".py",
   "mimetype": "text/x-python",
   "name": "python",
   "nbconvert_exporter": "python",
   "pygments_lexer": "ipython3",
   "version": "3.8.5"
  }
 },
 "nbformat": 4,
 "nbformat_minor": 1
}
