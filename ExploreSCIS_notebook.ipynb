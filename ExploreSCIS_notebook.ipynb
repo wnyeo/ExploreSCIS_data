{
  "nbformat": 4,
  "nbformat_minor": 0,
  "metadata": {
    "colab": {
      "name": "ExploreSCIS-notebook.ipynb",
      "provenance": [],
      "toc_visible": true
    },
    "kernelspec": {
      "name": "python3",
      "display_name": "Python 3"
    },
    "language_info": {
      "name": "python"
    }
  },
  "cells": [
    {
      "cell_type": "markdown",
      "metadata": {
        "id": "93DNGe-o25Qq"
      },
      "source": [
        "# ExploreSCIS 2021\n",
        "# Basic Geospatial Visualisation Workshop by SMU Anthill Society\n",
        "\n"
      ]
    },
    {
      "cell_type": "markdown",
      "source": [
        "In this notebook, we will be using dataset of hawker centres retrieved from data.gov.sg (https://data.gov.sg/dataset/dates-of-hawker-centres-closure) to do an exploratory data analysis with Pandas and geospatial analysis with Folium."
      ],
      "metadata": {
        "id": "sj86Fh9pibMv"
      }
    },
    {
      "cell_type": "markdown",
      "source": [
        "#Exploratory Data Analysis\n",
        "Exploratory Data Analysis (EDA) is an approach to analyse datasets to summarise their main characteristics, usually early in an analytical process. Other than giving us a better understanding of the data, it also helps us to detect mistakes and check assumptions. We can also see relationships among the variables in the dataset.\n",
        "\n",
        "In this workshop, we will be doing a simple form of EDA with the Pandas library."
      ],
      "metadata": {
        "id": "SE6m1P4D9GNZ"
      }
    },
    {
      "cell_type": "markdown",
      "metadata": {
        "id": "GJXjt9fjEG_G"
      },
      "source": [
        "#Introduction to Pandas\n",
        "Pandas is a Python library mainly used for data analysis. It is a fast, powerful, flexible and easy to use open source data analysis and manipulation tool, built on top of the Python programming language. "
      ]
    },
    {
      "cell_type": "markdown",
      "metadata": {
        "id": "Y-MF5R6By_l2"
      },
      "source": [
        "## 1. Importing the Pandas Library "
      ]
    },
    {
      "cell_type": "markdown",
      "source": [
        "To use Pandas, we will need to install and import the pandas library. The Pandas library is already available in Google Colaboratory hence, we just need to import it. While it is not necessary to import pandas as pd, it is a convention to do so (and you can type less)."
      ],
      "metadata": {
        "id": "LLd3P7W1FYkT"
      }
    },
    {
      "cell_type": "code",
      "metadata": {
        "id": "49FJgaktb4eh"
      },
      "source": [
        "import pandas as pd"
      ],
      "execution_count": 1,
      "outputs": []
    },
    {
      "cell_type": "markdown",
      "metadata": {
        "id": "GkzHIr310V8u"
      },
      "source": [
        "## 2. Reading the data into a Pandas DataFrame"
      ]
    },
    {
      "cell_type": "markdown",
      "source": [
        "###2a. Reading in the data"
      ],
      "metadata": {
        "id": "XY9M9QNCiVAx"
      }
    },
    {
      "cell_type": "markdown",
      "source": [
        "We will load our data into the Pandas DataFrame, which is a 2-dimensional labeled data structure with rows and columns. It is a good visual representation of data as it is like a table.\n",
        "\n",
        "To load the data we have, we will use the **`.read_csv()`** function since our data is in a csv file. \n",
        "<br> Read more about the function here: https://pandas.pydata.org/docs/reference/api/pandas.read_csv.html\n"
      ],
      "metadata": {
        "id": "nfJiiI0ybSHY"
      }
    },
    {
      "cell_type": "code",
      "metadata": {
        "id": "nfzX4afhb4YS"
      },
      "source": [
        "url = 'https://raw.githubusercontent.com/wnyeo/ExploreSCIS_data/main/hawker_final.csv' # link to the cleaned dataset\n",
        "\n",
        "hawker_df = pd.read_csv(url)  # df represents DataFrame"
      ],
      "execution_count": 2,
      "outputs": []
    },
    {
      "cell_type": "code",
      "source": [
        "hawker_df # showing the data"
      ],
      "metadata": {
        "id": "GNor6ghRkKD-",
        "colab": {
          "base_uri": "https://localhost:8080/",
          "height": 1000
        },
        "outputId": "1a8865d2-f533-4946-aac2-f9f2e1967254"
      },
      "execution_count": 3,
      "outputs": [
        {
          "output_type": "execute_result",
          "data": {
            "text/html": [
              "<div>\n",
              "<style scoped>\n",
              "    .dataframe tbody tr th:only-of-type {\n",
              "        vertical-align: middle;\n",
              "    }\n",
              "\n",
              "    .dataframe tbody tr th {\n",
              "        vertical-align: top;\n",
              "    }\n",
              "\n",
              "    .dataframe thead th {\n",
              "        text-align: right;\n",
              "    }\n",
              "</style>\n",
              "<table border=\"1\" class=\"dataframe\">\n",
              "  <thead>\n",
              "    <tr style=\"text-align: right;\">\n",
              "      <th></th>\n",
              "      <th>name</th>\n",
              "      <th>latitude_hc</th>\n",
              "      <th>longitude_hc</th>\n",
              "      <th>photourl</th>\n",
              "      <th>address_myenv</th>\n",
              "      <th>no_of_market_stalls</th>\n",
              "      <th>no_of_food_stalls</th>\n",
              "      <th>description_myenv</th>\n",
              "      <th>status</th>\n",
              "      <th>google_3d_view</th>\n",
              "    </tr>\n",
              "  </thead>\n",
              "  <tbody>\n",
              "    <tr>\n",
              "      <th>0</th>\n",
              "      <td>Adam Road Food Centre</td>\n",
              "      <td>1.324132</td>\n",
              "      <td>103.814163</td>\n",
              "      <td>http://www.nea.gov.sg/images/default-source/Ha...</td>\n",
              "      <td>2, Adam Road, Singapore 289876</td>\n",
              "      <td>0</td>\n",
              "      <td>32</td>\n",
              "      <td>Built in 1974, Adam Food Centre comprises 32 c...</td>\n",
              "      <td>Existing</td>\n",
              "      <td>https://goo.gl/maps/ZMLJeP8STKpDP9so9</td>\n",
              "    </tr>\n",
              "    <tr>\n",
              "      <th>1</th>\n",
              "      <td>Aljunied Ave 2 Blk 117 (Blk 117 Aljunied Marke...</td>\n",
              "      <td>1.320710</td>\n",
              "      <td>103.887093</td>\n",
              "      <td>http://www.nea.gov.sg/images/default-source/Ha...</td>\n",
              "      <td>Blk 117, Aljunied Ave 2, Singapore 380117</td>\n",
              "      <td>82</td>\n",
              "      <td>79</td>\n",
              "      <td>Next to Geylang East Swimming Complex and othe...</td>\n",
              "      <td>Existing</td>\n",
              "      <td>https://goo.gl/maps/XVjxu6hgpcwt15JC8</td>\n",
              "    </tr>\n",
              "    <tr>\n",
              "      <th>2</th>\n",
              "      <td>Amoy Street Food Centre (Telok Ayer Food Centre)</td>\n",
              "      <td>1.279129</td>\n",
              "      <td>103.846985</td>\n",
              "      <td>http://www.nea.gov.sg/images/default-source/Ha...</td>\n",
              "      <td>National Development Building, Annex B, Telok ...</td>\n",
              "      <td>1</td>\n",
              "      <td>134</td>\n",
              "      <td>Built in 1983, the two-storey food centre is l...</td>\n",
              "      <td>Existing</td>\n",
              "      <td>https://goo.gl/maps/RiX319zQXRFeHWPE6</td>\n",
              "    </tr>\n",
              "    <tr>\n",
              "      <th>3</th>\n",
              "      <td>Ang Mo Kio Ave 1 Blk 226D (Kebun Baru Market a...</td>\n",
              "      <td>1.366950</td>\n",
              "      <td>103.839188</td>\n",
              "      <td>http://www.nea.gov.sg/images/default-source/Ha...</td>\n",
              "      <td>Blk 226D, Ang Mo Kio Ave 1, Singapore 564226</td>\n",
              "      <td>101</td>\n",
              "      <td>10</td>\n",
              "      <td>Located next to a food centre, the hawker cent...</td>\n",
              "      <td>Existing</td>\n",
              "      <td>https://goo.gl/maps/CAJGbiEU4o46xfbR8</td>\n",
              "    </tr>\n",
              "    <tr>\n",
              "      <th>4</th>\n",
              "      <td>Ang Mo Kio Ave 1 Blk 341 (Teck Ghee Court)</td>\n",
              "      <td>1.364170</td>\n",
              "      <td>103.848320</td>\n",
              "      <td>http://www.nea.gov.sg/images/default-source/Ha...</td>\n",
              "      <td>Blk 341, Ang Mo Kio Ave 1, Singapore 560341</td>\n",
              "      <td>86</td>\n",
              "      <td>32</td>\n",
              "      <td>Located in the heart of Teck Ghee estate and o...</td>\n",
              "      <td>Existing</td>\n",
              "      <td>https://goo.gl/maps/quL2H4mojGZfZsHA6</td>\n",
              "    </tr>\n",
              "    <tr>\n",
              "      <th>...</th>\n",
              "      <td>...</td>\n",
              "      <td>...</td>\n",
              "      <td>...</td>\n",
              "      <td>...</td>\n",
              "      <td>...</td>\n",
              "      <td>...</td>\n",
              "      <td>...</td>\n",
              "      <td>...</td>\n",
              "      <td>...</td>\n",
              "      <td>...</td>\n",
              "    </tr>\n",
              "    <tr>\n",
              "      <th>109</th>\n",
              "      <td>Whampoa Drive Blk 90 (Whampoa Drive Makan Plac...</td>\n",
              "      <td>1.323140</td>\n",
              "      <td>103.855041</td>\n",
              "      <td>http://www.nea.gov.sg/images/default-source/Ha...</td>\n",
              "      <td>Blk 90, Whampoa Drive, Singapore 320090</td>\n",
              "      <td>12</td>\n",
              "      <td>80</td>\n",
              "      <td>Known also as Whampoa Drive Makan Place, this ...</td>\n",
              "      <td>Existing</td>\n",
              "      <td>https://goo.gl/maps/PQXB1ifE7PrnMbAf7</td>\n",
              "    </tr>\n",
              "    <tr>\n",
              "      <th>110</th>\n",
              "      <td>Whampoa Drive Blk 91/92 (Whampoa Drive Makan P...</td>\n",
              "      <td>1.323490</td>\n",
              "      <td>103.854134</td>\n",
              "      <td>http://www.nea.gov.sg/images/default-source/Ha...</td>\n",
              "      <td>Blk 91/92, Whampoa Drive, Singapore 320091/320092</td>\n",
              "      <td>112</td>\n",
              "      <td>52</td>\n",
              "      <td>Known also as Whampoa Drive Makan Place, this ...</td>\n",
              "      <td>Existing</td>\n",
              "      <td>https://goo.gl/maps/vERiFeXoGi8jDfjJ8</td>\n",
              "    </tr>\n",
              "    <tr>\n",
              "      <th>111</th>\n",
              "      <td>Yishun Park Hawker Centre</td>\n",
              "      <td>1.424911</td>\n",
              "      <td>103.844992</td>\n",
              "      <td>http://www.nea.gov.sg/images/default-source/Ha...</td>\n",
              "      <td>Blk 51, Yishun Avenue 11, Singapore 768867</td>\n",
              "      <td>0</td>\n",
              "      <td>45</td>\n",
              "      <td>Built in 2017, the hawker centre at Yishun Par...</td>\n",
              "      <td>Existing (new)</td>\n",
              "      <td>https://goo.gl/maps/jqWXYVF17BiAz7bP9</td>\n",
              "    </tr>\n",
              "    <tr>\n",
              "      <th>112</th>\n",
              "      <td>Yishun Ring Road Blk 104/105 (Chong Pang Marke...</td>\n",
              "      <td>1.431658</td>\n",
              "      <td>103.828072</td>\n",
              "      <td>http://www.nea.gov.sg/images/default-source/Ha...</td>\n",
              "      <td>Blk 104/105, Yishun Ring Road, Singapore 76010...</td>\n",
              "      <td>123</td>\n",
              "      <td>56</td>\n",
              "      <td>Built in 1984, the hawker centre comprises 56 ...</td>\n",
              "      <td>Existing</td>\n",
              "      <td>https://goo.gl/maps/dPjV2SSaX9nEXV1u8</td>\n",
              "    </tr>\n",
              "    <tr>\n",
              "      <th>113</th>\n",
              "      <td>Zion Riverside Food Centre</td>\n",
              "      <td>1.292340</td>\n",
              "      <td>103.831184</td>\n",
              "      <td>http://www.nea.gov.sg/images/default-source/Ha...</td>\n",
              "      <td>70, Zion Road, Singapore 247792</td>\n",
              "      <td>0</td>\n",
              "      <td>32</td>\n",
              "      <td>Located opposite Great World City, Zion Rivers...</td>\n",
              "      <td>Existing</td>\n",
              "      <td>https://goo.gl/maps/8kwxWX9gy3J3Mna58</td>\n",
              "    </tr>\n",
              "  </tbody>\n",
              "</table>\n",
              "<p>114 rows × 10 columns</p>\n",
              "</div>"
            ],
            "text/plain": [
              "                                                  name  ...                         google_3d_view\n",
              "0                                Adam Road Food Centre  ...  https://goo.gl/maps/ZMLJeP8STKpDP9so9\n",
              "1    Aljunied Ave 2 Blk 117 (Blk 117 Aljunied Marke...  ...  https://goo.gl/maps/XVjxu6hgpcwt15JC8\n",
              "2     Amoy Street Food Centre (Telok Ayer Food Centre)  ...  https://goo.gl/maps/RiX319zQXRFeHWPE6\n",
              "3    Ang Mo Kio Ave 1 Blk 226D (Kebun Baru Market a...  ...  https://goo.gl/maps/CAJGbiEU4o46xfbR8\n",
              "4           Ang Mo Kio Ave 1 Blk 341 (Teck Ghee Court)  ...  https://goo.gl/maps/quL2H4mojGZfZsHA6\n",
              "..                                                 ...  ...                                    ...\n",
              "109  Whampoa Drive Blk 90 (Whampoa Drive Makan Plac...  ...  https://goo.gl/maps/PQXB1ifE7PrnMbAf7\n",
              "110  Whampoa Drive Blk 91/92 (Whampoa Drive Makan P...  ...  https://goo.gl/maps/vERiFeXoGi8jDfjJ8\n",
              "111                          Yishun Park Hawker Centre  ...  https://goo.gl/maps/jqWXYVF17BiAz7bP9\n",
              "112  Yishun Ring Road Blk 104/105 (Chong Pang Marke...  ...  https://goo.gl/maps/dPjV2SSaX9nEXV1u8\n",
              "113                         Zion Riverside Food Centre  ...  https://goo.gl/maps/8kwxWX9gy3J3Mna58\n",
              "\n",
              "[114 rows x 10 columns]"
            ]
          },
          "metadata": {},
          "execution_count": 3
        }
      ]
    },
    {
      "cell_type": "markdown",
      "source": [
        "### 2b. `head()` Function"
      ],
      "metadata": {
        "id": "pUc--Toqib1I"
      }
    },
    {
      "cell_type": "markdown",
      "source": [
        "To show only the first n rows of data, we can make use of the **`.head()`** function. By default, `df.head()` will return the first 5 rows of the DataFrame. If you want more/less number of rows, you can specify an integer."
      ],
      "metadata": {
        "id": "d-QGiXuMf8DW"
      }
    },
    {
      "cell_type": "code",
      "source": [
        "hawker_df.head(3)"
      ],
      "metadata": {
        "id": "xzZl_SIZf7lW",
        "colab": {
          "base_uri": "https://localhost:8080/",
          "height": 418
        },
        "outputId": "6a69c384-c91b-4e61-d207-6f977ec63485"
      },
      "execution_count": 4,
      "outputs": [
        {
          "output_type": "execute_result",
          "data": {
            "text/html": [
              "<div>\n",
              "<style scoped>\n",
              "    .dataframe tbody tr th:only-of-type {\n",
              "        vertical-align: middle;\n",
              "    }\n",
              "\n",
              "    .dataframe tbody tr th {\n",
              "        vertical-align: top;\n",
              "    }\n",
              "\n",
              "    .dataframe thead th {\n",
              "        text-align: right;\n",
              "    }\n",
              "</style>\n",
              "<table border=\"1\" class=\"dataframe\">\n",
              "  <thead>\n",
              "    <tr style=\"text-align: right;\">\n",
              "      <th></th>\n",
              "      <th>name</th>\n",
              "      <th>latitude_hc</th>\n",
              "      <th>longitude_hc</th>\n",
              "      <th>photourl</th>\n",
              "      <th>address_myenv</th>\n",
              "      <th>no_of_market_stalls</th>\n",
              "      <th>no_of_food_stalls</th>\n",
              "      <th>description_myenv</th>\n",
              "      <th>status</th>\n",
              "      <th>google_3d_view</th>\n",
              "    </tr>\n",
              "  </thead>\n",
              "  <tbody>\n",
              "    <tr>\n",
              "      <th>0</th>\n",
              "      <td>Adam Road Food Centre</td>\n",
              "      <td>1.324132</td>\n",
              "      <td>103.814163</td>\n",
              "      <td>http://www.nea.gov.sg/images/default-source/Ha...</td>\n",
              "      <td>2, Adam Road, Singapore 289876</td>\n",
              "      <td>0</td>\n",
              "      <td>32</td>\n",
              "      <td>Built in 1974, Adam Food Centre comprises 32 c...</td>\n",
              "      <td>Existing</td>\n",
              "      <td>https://goo.gl/maps/ZMLJeP8STKpDP9so9</td>\n",
              "    </tr>\n",
              "    <tr>\n",
              "      <th>1</th>\n",
              "      <td>Aljunied Ave 2 Blk 117 (Blk 117 Aljunied Marke...</td>\n",
              "      <td>1.320710</td>\n",
              "      <td>103.887093</td>\n",
              "      <td>http://www.nea.gov.sg/images/default-source/Ha...</td>\n",
              "      <td>Blk 117, Aljunied Ave 2, Singapore 380117</td>\n",
              "      <td>82</td>\n",
              "      <td>79</td>\n",
              "      <td>Next to Geylang East Swimming Complex and othe...</td>\n",
              "      <td>Existing</td>\n",
              "      <td>https://goo.gl/maps/XVjxu6hgpcwt15JC8</td>\n",
              "    </tr>\n",
              "    <tr>\n",
              "      <th>2</th>\n",
              "      <td>Amoy Street Food Centre (Telok Ayer Food Centre)</td>\n",
              "      <td>1.279129</td>\n",
              "      <td>103.846985</td>\n",
              "      <td>http://www.nea.gov.sg/images/default-source/Ha...</td>\n",
              "      <td>National Development Building, Annex B, Telok ...</td>\n",
              "      <td>1</td>\n",
              "      <td>134</td>\n",
              "      <td>Built in 1983, the two-storey food centre is l...</td>\n",
              "      <td>Existing</td>\n",
              "      <td>https://goo.gl/maps/RiX319zQXRFeHWPE6</td>\n",
              "    </tr>\n",
              "  </tbody>\n",
              "</table>\n",
              "</div>"
            ],
            "text/plain": [
              "                                                name  ...                         google_3d_view\n",
              "0                              Adam Road Food Centre  ...  https://goo.gl/maps/ZMLJeP8STKpDP9so9\n",
              "1  Aljunied Ave 2 Blk 117 (Blk 117 Aljunied Marke...  ...  https://goo.gl/maps/XVjxu6hgpcwt15JC8\n",
              "2   Amoy Street Food Centre (Telok Ayer Food Centre)  ...  https://goo.gl/maps/RiX319zQXRFeHWPE6\n",
              "\n",
              "[3 rows x 10 columns]"
            ]
          },
          "metadata": {},
          "execution_count": 4
        }
      ]
    },
    {
      "cell_type": "markdown",
      "source": [
        "### 2c. `tail()` Function [Mini Exercise! - 2 mins"
      ],
      "metadata": {
        "id": "QwVvIphphQLf"
      }
    },
    {
      "cell_type": "markdown",
      "source": [
        "To show the last n rows of data, we can make use of the **`.tail()`** function. Similarly, by default, `df.tail()` will return the last 5 rows of the DataFrame. If you want more/less number of rows, you can specify an integer.\n",
        "<br>\n",
        "<br>**Exercise: Show the last 7 rows of hawker_df** "
      ],
      "metadata": {
        "id": "9nUz2Hnjg7T2"
      }
    },
    {
      "cell_type": "code",
      "source": [
        "# Enter your code here"
      ],
      "metadata": {
        "id": "7Qu3zQQ9SFSV"
      },
      "execution_count": 5,
      "outputs": []
    },
    {
      "cell_type": "markdown",
      "source": [
        "####Solution\n",
        "Click below for the solution."
      ],
      "metadata": {
        "id": "pGVhZ1VhSCFW"
      }
    },
    {
      "cell_type": "code",
      "source": [
        "hawker_df.tail(7)"
      ],
      "metadata": {
        "id": "w6oQc_qagPpj",
        "colab": {
          "base_uri": "https://localhost:8080/",
          "height": 867
        },
        "outputId": "b5a1839b-ab47-48b5-ce66-157ebf0e42d6"
      },
      "execution_count": 6,
      "outputs": [
        {
          "output_type": "execute_result",
          "data": {
            "text/html": [
              "<div>\n",
              "<style scoped>\n",
              "    .dataframe tbody tr th:only-of-type {\n",
              "        vertical-align: middle;\n",
              "    }\n",
              "\n",
              "    .dataframe tbody tr th {\n",
              "        vertical-align: top;\n",
              "    }\n",
              "\n",
              "    .dataframe thead th {\n",
              "        text-align: right;\n",
              "    }\n",
              "</style>\n",
              "<table border=\"1\" class=\"dataframe\">\n",
              "  <thead>\n",
              "    <tr style=\"text-align: right;\">\n",
              "      <th></th>\n",
              "      <th>name</th>\n",
              "      <th>latitude_hc</th>\n",
              "      <th>longitude_hc</th>\n",
              "      <th>photourl</th>\n",
              "      <th>address_myenv</th>\n",
              "      <th>no_of_market_stalls</th>\n",
              "      <th>no_of_food_stalls</th>\n",
              "      <th>description_myenv</th>\n",
              "      <th>status</th>\n",
              "      <th>google_3d_view</th>\n",
              "    </tr>\n",
              "  </thead>\n",
              "  <tbody>\n",
              "    <tr>\n",
              "      <th>107</th>\n",
              "      <td>West Coast Drive Blk 502 (Ayer Rajah Market)</td>\n",
              "      <td>1.311960</td>\n",
              "      <td>103.759102</td>\n",
              "      <td>http://www.nea.gov.sg/images/default-source/Ha...</td>\n",
              "      <td>Blk 502, West Coast Drive, Singapore 120502</td>\n",
              "      <td>40</td>\n",
              "      <td>0</td>\n",
              "      <td>Also known as Ayer Rajah Market, the standalon...</td>\n",
              "      <td>Existing</td>\n",
              "      <td>https://goo.gl/maps/dWso9emez66FrUyJ8</td>\n",
              "    </tr>\n",
              "    <tr>\n",
              "      <th>108</th>\n",
              "      <td>West Coast Drive Blk 503 (Ayer Rajah Food Centre)</td>\n",
              "      <td>1.311870</td>\n",
              "      <td>103.759804</td>\n",
              "      <td>http://www.nea.gov.sg/images/default-source/Ha...</td>\n",
              "      <td>Blk 503, West Coast Drive, Singapore 120503</td>\n",
              "      <td>0</td>\n",
              "      <td>80</td>\n",
              "      <td>Also known as Ayer Rajah Food Centre, the stan...</td>\n",
              "      <td>Existing</td>\n",
              "      <td>https://goo.gl/maps/HzZpoN9MxHR4ie9v6</td>\n",
              "    </tr>\n",
              "    <tr>\n",
              "      <th>109</th>\n",
              "      <td>Whampoa Drive Blk 90 (Whampoa Drive Makan Plac...</td>\n",
              "      <td>1.323140</td>\n",
              "      <td>103.855041</td>\n",
              "      <td>http://www.nea.gov.sg/images/default-source/Ha...</td>\n",
              "      <td>Blk 90, Whampoa Drive, Singapore 320090</td>\n",
              "      <td>12</td>\n",
              "      <td>80</td>\n",
              "      <td>Known also as Whampoa Drive Makan Place, this ...</td>\n",
              "      <td>Existing</td>\n",
              "      <td>https://goo.gl/maps/PQXB1ifE7PrnMbAf7</td>\n",
              "    </tr>\n",
              "    <tr>\n",
              "      <th>110</th>\n",
              "      <td>Whampoa Drive Blk 91/92 (Whampoa Drive Makan P...</td>\n",
              "      <td>1.323490</td>\n",
              "      <td>103.854134</td>\n",
              "      <td>http://www.nea.gov.sg/images/default-source/Ha...</td>\n",
              "      <td>Blk 91/92, Whampoa Drive, Singapore 320091/320092</td>\n",
              "      <td>112</td>\n",
              "      <td>52</td>\n",
              "      <td>Known also as Whampoa Drive Makan Place, this ...</td>\n",
              "      <td>Existing</td>\n",
              "      <td>https://goo.gl/maps/vERiFeXoGi8jDfjJ8</td>\n",
              "    </tr>\n",
              "    <tr>\n",
              "      <th>111</th>\n",
              "      <td>Yishun Park Hawker Centre</td>\n",
              "      <td>1.424911</td>\n",
              "      <td>103.844992</td>\n",
              "      <td>http://www.nea.gov.sg/images/default-source/Ha...</td>\n",
              "      <td>Blk 51, Yishun Avenue 11, Singapore 768867</td>\n",
              "      <td>0</td>\n",
              "      <td>45</td>\n",
              "      <td>Built in 2017, the hawker centre at Yishun Par...</td>\n",
              "      <td>Existing (new)</td>\n",
              "      <td>https://goo.gl/maps/jqWXYVF17BiAz7bP9</td>\n",
              "    </tr>\n",
              "    <tr>\n",
              "      <th>112</th>\n",
              "      <td>Yishun Ring Road Blk 104/105 (Chong Pang Marke...</td>\n",
              "      <td>1.431658</td>\n",
              "      <td>103.828072</td>\n",
              "      <td>http://www.nea.gov.sg/images/default-source/Ha...</td>\n",
              "      <td>Blk 104/105, Yishun Ring Road, Singapore 76010...</td>\n",
              "      <td>123</td>\n",
              "      <td>56</td>\n",
              "      <td>Built in 1984, the hawker centre comprises 56 ...</td>\n",
              "      <td>Existing</td>\n",
              "      <td>https://goo.gl/maps/dPjV2SSaX9nEXV1u8</td>\n",
              "    </tr>\n",
              "    <tr>\n",
              "      <th>113</th>\n",
              "      <td>Zion Riverside Food Centre</td>\n",
              "      <td>1.292340</td>\n",
              "      <td>103.831184</td>\n",
              "      <td>http://www.nea.gov.sg/images/default-source/Ha...</td>\n",
              "      <td>70, Zion Road, Singapore 247792</td>\n",
              "      <td>0</td>\n",
              "      <td>32</td>\n",
              "      <td>Located opposite Great World City, Zion Rivers...</td>\n",
              "      <td>Existing</td>\n",
              "      <td>https://goo.gl/maps/8kwxWX9gy3J3Mna58</td>\n",
              "    </tr>\n",
              "  </tbody>\n",
              "</table>\n",
              "</div>"
            ],
            "text/plain": [
              "                                                  name  ...                         google_3d_view\n",
              "107       West Coast Drive Blk 502 (Ayer Rajah Market)  ...  https://goo.gl/maps/dWso9emez66FrUyJ8\n",
              "108  West Coast Drive Blk 503 (Ayer Rajah Food Centre)  ...  https://goo.gl/maps/HzZpoN9MxHR4ie9v6\n",
              "109  Whampoa Drive Blk 90 (Whampoa Drive Makan Plac...  ...  https://goo.gl/maps/PQXB1ifE7PrnMbAf7\n",
              "110  Whampoa Drive Blk 91/92 (Whampoa Drive Makan P...  ...  https://goo.gl/maps/vERiFeXoGi8jDfjJ8\n",
              "111                          Yishun Park Hawker Centre  ...  https://goo.gl/maps/jqWXYVF17BiAz7bP9\n",
              "112  Yishun Ring Road Blk 104/105 (Chong Pang Marke...  ...  https://goo.gl/maps/dPjV2SSaX9nEXV1u8\n",
              "113                         Zion Riverside Food Centre  ...  https://goo.gl/maps/8kwxWX9gy3J3Mna58\n",
              "\n",
              "[7 rows x 10 columns]"
            ]
          },
          "metadata": {},
          "execution_count": 6
        }
      ]
    },
    {
      "cell_type": "markdown",
      "source": [
        "###2d. Checking the size of data"
      ],
      "metadata": {
        "id": "BGzg_E8ejfxJ"
      }
    },
    {
      "cell_type": "markdown",
      "source": [
        "We can check the size of the data using the **`.shape`** attribute"
      ],
      "metadata": {
        "id": "ro4Xt9zOjpuT"
      }
    },
    {
      "cell_type": "code",
      "metadata": {
        "colab": {
          "base_uri": "https://localhost:8080/"
        },
        "id": "EDHubUKhIuMn",
        "outputId": "2afaf235-bd97-4502-aaf7-c87a95d1fbd4"
      },
      "source": [
        "hawker_df.shape"
      ],
      "execution_count": 7,
      "outputs": [
        {
          "output_type": "execute_result",
          "data": {
            "text/plain": [
              "(114, 10)"
            ]
          },
          "metadata": {},
          "execution_count": 7
        }
      ]
    },
    {
      "cell_type": "markdown",
      "source": [
        "We can see that there are 114 rows and 10 columns in our dataset"
      ],
      "metadata": {
        "id": "txc9nQGKjxQd"
      }
    },
    {
      "cell_type": "markdown",
      "source": [
        "## 3. Accessing data in the Dataframe"
      ],
      "metadata": {
        "id": "ibObW6amlTJS"
      }
    },
    {
      "cell_type": "markdown",
      "source": [
        "### 3a. Accessing individual columns/columns in the Pandas DataFrame\n",
        "\n",
        "We can access columns in the DataFrame based on the column names directly using square brackets"
      ],
      "metadata": {
        "id": "Fv8CQVzecK1N"
      }
    },
    {
      "cell_type": "code",
      "source": [
        "hawker_df['name']"
      ],
      "metadata": {
        "id": "lXw2ZQu3eG4B",
        "colab": {
          "base_uri": "https://localhost:8080/"
        },
        "outputId": "b5be1922-ae2b-46d4-e7c0-1714ddc2acb3"
      },
      "execution_count": 9,
      "outputs": [
        {
          "output_type": "execute_result",
          "data": {
            "text/plain": [
              "0                                  Adam Road Food Centre\n",
              "1      Aljunied Ave 2 Blk 117 (Blk 117 Aljunied Marke...\n",
              "2       Amoy Street Food Centre (Telok Ayer Food Centre)\n",
              "3      Ang Mo Kio Ave 1 Blk 226D (Kebun Baru Market a...\n",
              "4             Ang Mo Kio Ave 1 Blk 341 (Teck Ghee Court)\n",
              "                             ...                        \n",
              "109    Whampoa Drive Blk 90 (Whampoa Drive Makan Plac...\n",
              "110    Whampoa Drive Blk 91/92 (Whampoa Drive Makan P...\n",
              "111                            Yishun Park Hawker Centre\n",
              "112    Yishun Ring Road Blk 104/105 (Chong Pang Marke...\n",
              "113                           Zion Riverside Food Centre\n",
              "Name: name, Length: 114, dtype: object"
            ]
          },
          "metadata": {},
          "execution_count": 9
        }
      ]
    },
    {
      "cell_type": "code",
      "source": [
        "hawker_df[['name', 'address_myenv']] #access multiple columns"
      ],
      "metadata": {
        "id": "D4GOnjx8ZzTN",
        "colab": {
          "base_uri": "https://localhost:8080/",
          "height": 420
        },
        "outputId": "c0b70192-7a69-4022-c6a3-ef5d50f44b8c"
      },
      "execution_count": 10,
      "outputs": [
        {
          "output_type": "execute_result",
          "data": {
            "text/html": [
              "<div>\n",
              "<style scoped>\n",
              "    .dataframe tbody tr th:only-of-type {\n",
              "        vertical-align: middle;\n",
              "    }\n",
              "\n",
              "    .dataframe tbody tr th {\n",
              "        vertical-align: top;\n",
              "    }\n",
              "\n",
              "    .dataframe thead th {\n",
              "        text-align: right;\n",
              "    }\n",
              "</style>\n",
              "<table border=\"1\" class=\"dataframe\">\n",
              "  <thead>\n",
              "    <tr style=\"text-align: right;\">\n",
              "      <th></th>\n",
              "      <th>name</th>\n",
              "      <th>address_myenv</th>\n",
              "    </tr>\n",
              "  </thead>\n",
              "  <tbody>\n",
              "    <tr>\n",
              "      <th>0</th>\n",
              "      <td>Adam Road Food Centre</td>\n",
              "      <td>2, Adam Road, Singapore 289876</td>\n",
              "    </tr>\n",
              "    <tr>\n",
              "      <th>1</th>\n",
              "      <td>Aljunied Ave 2 Blk 117 (Blk 117 Aljunied Marke...</td>\n",
              "      <td>Blk 117, Aljunied Ave 2, Singapore 380117</td>\n",
              "    </tr>\n",
              "    <tr>\n",
              "      <th>2</th>\n",
              "      <td>Amoy Street Food Centre (Telok Ayer Food Centre)</td>\n",
              "      <td>National Development Building, Annex B, Telok ...</td>\n",
              "    </tr>\n",
              "    <tr>\n",
              "      <th>3</th>\n",
              "      <td>Ang Mo Kio Ave 1 Blk 226D (Kebun Baru Market a...</td>\n",
              "      <td>Blk 226D, Ang Mo Kio Ave 1, Singapore 564226</td>\n",
              "    </tr>\n",
              "    <tr>\n",
              "      <th>4</th>\n",
              "      <td>Ang Mo Kio Ave 1 Blk 341 (Teck Ghee Court)</td>\n",
              "      <td>Blk 341, Ang Mo Kio Ave 1, Singapore 560341</td>\n",
              "    </tr>\n",
              "    <tr>\n",
              "      <th>...</th>\n",
              "      <td>...</td>\n",
              "      <td>...</td>\n",
              "    </tr>\n",
              "    <tr>\n",
              "      <th>109</th>\n",
              "      <td>Whampoa Drive Blk 90 (Whampoa Drive Makan Plac...</td>\n",
              "      <td>Blk 90, Whampoa Drive, Singapore 320090</td>\n",
              "    </tr>\n",
              "    <tr>\n",
              "      <th>110</th>\n",
              "      <td>Whampoa Drive Blk 91/92 (Whampoa Drive Makan P...</td>\n",
              "      <td>Blk 91/92, Whampoa Drive, Singapore 320091/320092</td>\n",
              "    </tr>\n",
              "    <tr>\n",
              "      <th>111</th>\n",
              "      <td>Yishun Park Hawker Centre</td>\n",
              "      <td>Blk 51, Yishun Avenue 11, Singapore 768867</td>\n",
              "    </tr>\n",
              "    <tr>\n",
              "      <th>112</th>\n",
              "      <td>Yishun Ring Road Blk 104/105 (Chong Pang Marke...</td>\n",
              "      <td>Blk 104/105, Yishun Ring Road, Singapore 76010...</td>\n",
              "    </tr>\n",
              "    <tr>\n",
              "      <th>113</th>\n",
              "      <td>Zion Riverside Food Centre</td>\n",
              "      <td>70, Zion Road, Singapore 247792</td>\n",
              "    </tr>\n",
              "  </tbody>\n",
              "</table>\n",
              "<p>114 rows × 2 columns</p>\n",
              "</div>"
            ],
            "text/plain": [
              "                                                  name                                      address_myenv\n",
              "0                                Adam Road Food Centre                     2, Adam Road, Singapore 289876\n",
              "1    Aljunied Ave 2 Blk 117 (Blk 117 Aljunied Marke...          Blk 117, Aljunied Ave 2, Singapore 380117\n",
              "2     Amoy Street Food Centre (Telok Ayer Food Centre)  National Development Building, Annex B, Telok ...\n",
              "3    Ang Mo Kio Ave 1 Blk 226D (Kebun Baru Market a...       Blk 226D, Ang Mo Kio Ave 1, Singapore 564226\n",
              "4           Ang Mo Kio Ave 1 Blk 341 (Teck Ghee Court)        Blk 341, Ang Mo Kio Ave 1, Singapore 560341\n",
              "..                                                 ...                                                ...\n",
              "109  Whampoa Drive Blk 90 (Whampoa Drive Makan Plac...            Blk 90, Whampoa Drive, Singapore 320090\n",
              "110  Whampoa Drive Blk 91/92 (Whampoa Drive Makan P...  Blk 91/92, Whampoa Drive, Singapore 320091/320092\n",
              "111                          Yishun Park Hawker Centre         Blk 51, Yishun Avenue 11, Singapore 768867\n",
              "112  Yishun Ring Road Blk 104/105 (Chong Pang Marke...  Blk 104/105, Yishun Ring Road, Singapore 76010...\n",
              "113                         Zion Riverside Food Centre                    70, Zion Road, Singapore 247792\n",
              "\n",
              "[114 rows x 2 columns]"
            ]
          },
          "metadata": {},
          "execution_count": 10
        }
      ]
    },
    {
      "cell_type": "markdown",
      "source": [
        "###3b. Accessing rows in the Pandas DataFrame\n",
        "To access rows in the Pandas DataFrame, we access it via their index using square brackets as well. Counting in Python starts from 0, hence, the first row would have an index of 0. Note that the second number in the indexing is exclusive."
      ],
      "metadata": {
        "id": "BcG7rcZ7aaDQ"
      }
    },
    {
      "cell_type": "code",
      "source": [
        "hawker_df[0:2] # the second index is exclusive, in this case, the first 2 rows are accessed"
      ],
      "metadata": {
        "colab": {
          "base_uri": "https://localhost:8080/",
          "height": 268
        },
        "id": "w3WfpBPj7Ayg",
        "outputId": "e159cbfe-1512-46ab-9e50-57ce6dab371c"
      },
      "execution_count": 48,
      "outputs": [
        {
          "output_type": "execute_result",
          "data": {
            "text/html": [
              "<div>\n",
              "<style scoped>\n",
              "    .dataframe tbody tr th:only-of-type {\n",
              "        vertical-align: middle;\n",
              "    }\n",
              "\n",
              "    .dataframe tbody tr th {\n",
              "        vertical-align: top;\n",
              "    }\n",
              "\n",
              "    .dataframe thead th {\n",
              "        text-align: right;\n",
              "    }\n",
              "</style>\n",
              "<table border=\"1\" class=\"dataframe\">\n",
              "  <thead>\n",
              "    <tr style=\"text-align: right;\">\n",
              "      <th></th>\n",
              "      <th>name</th>\n",
              "      <th>latitude_hc</th>\n",
              "      <th>longitude_hc</th>\n",
              "      <th>photourl</th>\n",
              "      <th>address_myenv</th>\n",
              "      <th>no_of_market_stalls</th>\n",
              "      <th>no_of_food_stalls</th>\n",
              "      <th>description_myenv</th>\n",
              "      <th>status</th>\n",
              "      <th>google_3d_view</th>\n",
              "    </tr>\n",
              "  </thead>\n",
              "  <tbody>\n",
              "    <tr>\n",
              "      <th>0</th>\n",
              "      <td>Adam Road Food Centre</td>\n",
              "      <td>1.324132</td>\n",
              "      <td>103.814163</td>\n",
              "      <td>http://www.nea.gov.sg/images/default-source/Ha...</td>\n",
              "      <td>2, Adam Road, Singapore 289876</td>\n",
              "      <td>0</td>\n",
              "      <td>32</td>\n",
              "      <td>Built in 1974, Adam Food Centre comprises 32 c...</td>\n",
              "      <td>Existing</td>\n",
              "      <td>https://goo.gl/maps/ZMLJeP8STKpDP9so9</td>\n",
              "    </tr>\n",
              "    <tr>\n",
              "      <th>1</th>\n",
              "      <td>Aljunied Ave 2 Blk 117 (Blk 117 Aljunied Marke...</td>\n",
              "      <td>1.320710</td>\n",
              "      <td>103.887093</td>\n",
              "      <td>http://www.nea.gov.sg/images/default-source/Ha...</td>\n",
              "      <td>Blk 117, Aljunied Ave 2, Singapore 380117</td>\n",
              "      <td>82</td>\n",
              "      <td>79</td>\n",
              "      <td>Next to Geylang East Swimming Complex and othe...</td>\n",
              "      <td>Existing</td>\n",
              "      <td>https://goo.gl/maps/XVjxu6hgpcwt15JC8</td>\n",
              "    </tr>\n",
              "  </tbody>\n",
              "</table>\n",
              "</div>"
            ],
            "text/plain": [
              "                                                name  ...                         google_3d_view\n",
              "0                              Adam Road Food Centre  ...  https://goo.gl/maps/ZMLJeP8STKpDP9so9\n",
              "1  Aljunied Ave 2 Blk 117 (Blk 117 Aljunied Marke...  ...  https://goo.gl/maps/XVjxu6hgpcwt15JC8\n",
              "\n",
              "[2 rows x 10 columns]"
            ]
          },
          "metadata": {},
          "execution_count": 48
        }
      ]
    },
    {
      "cell_type": "markdown",
      "source": [
        "Note that to access individual rows in a Pandas DataFrame, we can make use of `.loc` or `iloc`, which is not covered in this workshop. Feel free to explore the extensive [indexing and selection](https://pandas.pydata.org/pandas-docs/stable/user_guide/indexing.html) methods that Pandas has. "
      ],
      "metadata": {
        "id": "5vGQyv3jA83y"
      }
    },
    {
      "cell_type": "markdown",
      "source": [
        "###3c. Accessing values in the Pandas DataFrame\n",
        "We can access a single value in the Pandas DataFrame via the column name and the row index, using square brackets."
      ],
      "metadata": {
        "id": "4DY7NAxh-TDI"
      }
    },
    {
      "cell_type": "code",
      "source": [
        "hawker_df['name'][0]"
      ],
      "metadata": {
        "colab": {
          "base_uri": "https://localhost:8080/",
          "height": 34
        },
        "id": "QX5jGXTw-vom",
        "outputId": "6ccdd5fe-254e-4eef-a853-ef30d8e31e3a"
      },
      "execution_count": 42,
      "outputs": [
        {
          "output_type": "execute_result",
          "data": {
            "application/vnd.google.colaboratory.intrinsic+json": {
              "type": "string"
            },
            "text/plain": [
              "'Adam Road Food Centre'"
            ]
          },
          "metadata": {},
          "execution_count": 42
        }
      ]
    },
    {
      "cell_type": "markdown",
      "source": [
        "For a range of values, we can make use of slicing. Note that in slicing, the second number in the indexing is also exclusive."
      ],
      "metadata": {
        "id": "gd5fhs15_qKs"
      }
    },
    {
      "cell_type": "code",
      "source": [
        "hawker_df['name'][0:4] #in this case, items at index 0, 1, 2, 3 are included"
      ],
      "metadata": {
        "colab": {
          "base_uri": "https://localhost:8080/"
        },
        "id": "67ID8w7U_vyx",
        "outputId": "f3dc0dd2-a0fe-4cd8-cd9f-74f498a93415"
      },
      "execution_count": 44,
      "outputs": [
        {
          "output_type": "execute_result",
          "data": {
            "text/plain": [
              "0                                Adam Road Food Centre\n",
              "1    Aljunied Ave 2 Blk 117 (Blk 117 Aljunied Marke...\n",
              "2     Amoy Street Food Centre (Telok Ayer Food Centre)\n",
              "3    Ang Mo Kio Ave 1 Blk 226D (Kebun Baru Market a...\n",
              "Name: name, dtype: object"
            ]
          },
          "metadata": {},
          "execution_count": 44
        }
      ]
    },
    {
      "cell_type": "code",
      "source": [
        "#Another example\n",
        "hawker_df[['name', 'status']][0:4]"
      ],
      "metadata": {
        "colab": {
          "base_uri": "https://localhost:8080/",
          "height": 173
        },
        "id": "t2-7T2S0AMXx",
        "outputId": "d562ffcd-1e46-423f-fe73-043ab25b0889"
      },
      "execution_count": 47,
      "outputs": [
        {
          "output_type": "execute_result",
          "data": {
            "text/html": [
              "<div>\n",
              "<style scoped>\n",
              "    .dataframe tbody tr th:only-of-type {\n",
              "        vertical-align: middle;\n",
              "    }\n",
              "\n",
              "    .dataframe tbody tr th {\n",
              "        vertical-align: top;\n",
              "    }\n",
              "\n",
              "    .dataframe thead th {\n",
              "        text-align: right;\n",
              "    }\n",
              "</style>\n",
              "<table border=\"1\" class=\"dataframe\">\n",
              "  <thead>\n",
              "    <tr style=\"text-align: right;\">\n",
              "      <th></th>\n",
              "      <th>name</th>\n",
              "      <th>status</th>\n",
              "    </tr>\n",
              "  </thead>\n",
              "  <tbody>\n",
              "    <tr>\n",
              "      <th>0</th>\n",
              "      <td>Adam Road Food Centre</td>\n",
              "      <td>Existing</td>\n",
              "    </tr>\n",
              "    <tr>\n",
              "      <th>1</th>\n",
              "      <td>Aljunied Ave 2 Blk 117 (Blk 117 Aljunied Marke...</td>\n",
              "      <td>Existing</td>\n",
              "    </tr>\n",
              "    <tr>\n",
              "      <th>2</th>\n",
              "      <td>Amoy Street Food Centre (Telok Ayer Food Centre)</td>\n",
              "      <td>Existing</td>\n",
              "    </tr>\n",
              "    <tr>\n",
              "      <th>3</th>\n",
              "      <td>Ang Mo Kio Ave 1 Blk 226D (Kebun Baru Market a...</td>\n",
              "      <td>Existing</td>\n",
              "    </tr>\n",
              "  </tbody>\n",
              "</table>\n",
              "</div>"
            ],
            "text/plain": [
              "                                                name    status\n",
              "0                              Adam Road Food Centre  Existing\n",
              "1  Aljunied Ave 2 Blk 117 (Blk 117 Aljunied Marke...  Existing\n",
              "2   Amoy Street Food Centre (Telok Ayer Food Centre)  Existing\n",
              "3  Ang Mo Kio Ave 1 Blk 226D (Kebun Baru Market a...  Existing"
            ]
          },
          "metadata": {},
          "execution_count": 47
        }
      ]
    },
    {
      "cell_type": "markdown",
      "source": [
        "###[Mini Exercise] - 3 mins\n",
        "**Exercise: Show the number of market stalls and the number of food stalls for the first 3 hawker centre in the dataset**\n"
      ],
      "metadata": {
        "id": "PgXwpKar8ZfU"
      }
    },
    {
      "cell_type": "code",
      "source": [
        "# Enter your code here"
      ],
      "metadata": {
        "id": "UifJYnHK815u"
      },
      "execution_count": null,
      "outputs": []
    },
    {
      "cell_type": "markdown",
      "source": [
        "#### Solution\n",
        "Click below for the solution."
      ],
      "metadata": {
        "id": "bKXmBbQG83iJ"
      }
    },
    {
      "cell_type": "code",
      "source": [
        "hawker_df[['no_of_market_stalls', 'no_of_food_stalls']][0:3]"
      ],
      "metadata": {
        "colab": {
          "base_uri": "https://localhost:8080/",
          "height": 142
        },
        "id": "QR80D5s-89JA",
        "outputId": "cee17327-672f-4e9d-996e-465737f140d9"
      },
      "execution_count": 49,
      "outputs": [
        {
          "output_type": "execute_result",
          "data": {
            "text/html": [
              "<div>\n",
              "<style scoped>\n",
              "    .dataframe tbody tr th:only-of-type {\n",
              "        vertical-align: middle;\n",
              "    }\n",
              "\n",
              "    .dataframe tbody tr th {\n",
              "        vertical-align: top;\n",
              "    }\n",
              "\n",
              "    .dataframe thead th {\n",
              "        text-align: right;\n",
              "    }\n",
              "</style>\n",
              "<table border=\"1\" class=\"dataframe\">\n",
              "  <thead>\n",
              "    <tr style=\"text-align: right;\">\n",
              "      <th></th>\n",
              "      <th>no_of_market_stalls</th>\n",
              "      <th>no_of_food_stalls</th>\n",
              "    </tr>\n",
              "  </thead>\n",
              "  <tbody>\n",
              "    <tr>\n",
              "      <th>0</th>\n",
              "      <td>0</td>\n",
              "      <td>32</td>\n",
              "    </tr>\n",
              "    <tr>\n",
              "      <th>1</th>\n",
              "      <td>82</td>\n",
              "      <td>79</td>\n",
              "    </tr>\n",
              "    <tr>\n",
              "      <th>2</th>\n",
              "      <td>1</td>\n",
              "      <td>134</td>\n",
              "    </tr>\n",
              "  </tbody>\n",
              "</table>\n",
              "</div>"
            ],
            "text/plain": [
              "   no_of_market_stalls  no_of_food_stalls\n",
              "0                    0                 32\n",
              "1                   82                 79\n",
              "2                    1                134"
            ]
          },
          "metadata": {},
          "execution_count": 49
        }
      ]
    },
    {
      "cell_type": "code",
      "source": [
        ""
      ],
      "metadata": {
        "colab": {
          "base_uri": "https://localhost:8080/"
        },
        "id": "kTP5gTtI9v-x",
        "outputId": "7a7b1f89-0001-4b05-f4ca-de28a9d6797d"
      },
      "execution_count": 41,
      "outputs": [
        {
          "output_type": "execute_result",
          "data": {
            "text/plain": [
              "pandas.core.frame.DataFrame"
            ]
          },
          "metadata": {},
          "execution_count": 41
        }
      ]
    },
    {
      "cell_type": "markdown",
      "metadata": {
        "id": "7IbRPYzn0ZV5"
      },
      "source": [
        "##4. Understanding the descriptive statistics of the data"
      ]
    },
    {
      "cell_type": "markdown",
      "source": [
        "Descriptive statistics summarise the information of the characteristics and distribution of values in the dataset. It allows us to learn about the central tendency and variability of the data. Examples include the mean, median, mode, standard deviation, etc."
      ],
      "metadata": {
        "id": "NcIqPM7PKfIM"
      }
    },
    {
      "cell_type": "markdown",
      "source": [
        "### 4a. `mean()` function"
      ],
      "metadata": {
        "id": "l28m2schDdaj"
      }
    },
    {
      "cell_type": "code",
      "source": [
        "hawker_df.mean()"
      ],
      "metadata": {
        "colab": {
          "base_uri": "https://localhost:8080/"
        },
        "id": "XzvZ2ZUaCv_a",
        "outputId": "c5206c7b-c72d-45b6-9616-27cd3728c33f"
      },
      "execution_count": 52,
      "outputs": [
        {
          "output_type": "execute_result",
          "data": {
            "text/plain": [
              "latitude_hc              1.325880\n",
              "longitude_hc           103.844182\n",
              "no_of_market_stalls     72.745614\n",
              "no_of_food_stalls       56.105263\n",
              "dtype: float64"
            ]
          },
          "metadata": {},
          "execution_count": 52
        }
      ]
    },
    {
      "cell_type": "markdown",
      "source": [
        "###4b. `min()` function"
      ],
      "metadata": {
        "id": "K8zc_LBoDzh6"
      }
    },
    {
      "cell_type": "code",
      "source": [
        "hawker_df.min()"
      ],
      "metadata": {
        "colab": {
          "base_uri": "https://localhost:8080/"
        },
        "id": "NCACkqcZCy_9",
        "outputId": "5bcb9993-c8d0-4307-d824-063c54a15521"
      },
      "execution_count": 53,
      "outputs": [
        {
          "output_type": "execute_result",
          "data": {
            "text/plain": [
              "name                                               Adam Road Food Centre\n",
              "latitude_hc                                                      1.27266\n",
              "longitude_hc                                                     103.697\n",
              "photourl               http://www.nea.gov.sg/images/default-source/Ha...\n",
              "address_myenv                          1 Tampines Walk, Singapore 528523\n",
              "no_of_market_stalls                                                    0\n",
              "no_of_food_stalls                                                      0\n",
              "description_myenv      A popular supper destination for night owls fr...\n",
              "status                                                          Existing\n",
              "google_3d_view                     https://goo.gl/maps/1Prs8uB9sBv4AfZj7\n",
              "dtype: object"
            ]
          },
          "metadata": {},
          "execution_count": 53
        }
      ]
    },
    {
      "cell_type": "markdown",
      "source": [
        "### 4c. `max()` function"
      ],
      "metadata": {
        "id": "n44rZPxFD8Ys"
      }
    },
    {
      "cell_type": "code",
      "source": [
        "hawker_df.max()"
      ],
      "metadata": {
        "colab": {
          "base_uri": "https://localhost:8080/"
        },
        "id": "SkPBMgO1C6WZ",
        "outputId": "7d4f365f-c382-4a67-a498-dd2db78afd52"
      },
      "execution_count": 54,
      "outputs": [
        {
          "output_type": "execute_result",
          "data": {
            "text/plain": [
              "name                                          Zion Riverside Food Centre\n",
              "latitude_hc                                                      1.44399\n",
              "longitude_hc                                                     103.988\n",
              "photourl               http://www.nea.gov.sg/images/default-source/Ha...\n",
              "address_myenv          National Development Building, Annex B, Telok ...\n",
              "no_of_market_stalls                                                  477\n",
              "no_of_food_stalls                                                    226\n",
              "description_myenv      Within walking distance from the famous Chomp ...\n",
              "status                                                Under Construction\n",
              "google_3d_view         https://www.google.com/maps/@1.3072454,103.856...\n",
              "dtype: object"
            ]
          },
          "metadata": {},
          "execution_count": 54
        }
      ]
    },
    {
      "cell_type": "markdown",
      "source": [
        "### 4d. `median()` function"
      ],
      "metadata": {
        "id": "e_sZ1BVUD-kW"
      }
    },
    {
      "cell_type": "code",
      "source": [
        "hawker_df.median()"
      ],
      "metadata": {
        "colab": {
          "base_uri": "https://localhost:8080/"
        },
        "id": "Eg1H6mCbC8SW",
        "outputId": "5034a48c-da45-4a1e-e6af-e16237add4e9"
      },
      "execution_count": 55,
      "outputs": [
        {
          "output_type": "execute_result",
          "data": {
            "text/plain": [
              "latitude_hc              1.320323\n",
              "longitude_hc           103.845428\n",
              "no_of_market_stalls     69.500000\n",
              "no_of_food_stalls       50.000000\n",
              "dtype: float64"
            ]
          },
          "metadata": {},
          "execution_count": 55
        }
      ]
    },
    {
      "cell_type": "markdown",
      "source": [
        "### 4e. `count()` function [Mini Exercise!] - 2 mins\n",
        "We can find the number of values for each column using the **`.count()`** function\n",
        "<br>\n",
        "<br>**Exercise: Find the count of values for each column in the dataframe** "
      ],
      "metadata": {
        "id": "dJZ6wk60lvGS"
      }
    },
    {
      "cell_type": "code",
      "source": [
        "# Enter your code here"
      ],
      "metadata": {
        "id": "_f3aDvKHN0i4"
      },
      "execution_count": 12,
      "outputs": []
    },
    {
      "cell_type": "markdown",
      "source": [
        "####Solution\n",
        "Click below for the solution."
      ],
      "metadata": {
        "id": "Zg1xIwQmN1Ay"
      }
    },
    {
      "cell_type": "code",
      "metadata": {
        "id": "cn2cMM9mIuSI",
        "colab": {
          "base_uri": "https://localhost:8080/"
        },
        "outputId": "ceafbd5c-f91b-4759-8546-6bac472fa180"
      },
      "source": [
        "hawker_df.count()"
      ],
      "execution_count": 13,
      "outputs": [
        {
          "output_type": "execute_result",
          "data": {
            "text/plain": [
              "name                   114\n",
              "latitude_hc            114\n",
              "longitude_hc           114\n",
              "photourl               114\n",
              "address_myenv          114\n",
              "no_of_market_stalls    114\n",
              "no_of_food_stalls      114\n",
              "description_myenv      114\n",
              "status                 114\n",
              "google_3d_view         114\n",
              "dtype: int64"
            ]
          },
          "metadata": {},
          "execution_count": 13
        }
      ]
    },
    {
      "cell_type": "markdown",
      "source": [
        "### 4d. `describe()` function\n",
        "Alternatively, we can understand the descriptive statistics of the data using the \n",
        "**`.describe()`** function"
      ],
      "metadata": {
        "id": "Romx_pEQlh7P"
      }
    },
    {
      "cell_type": "code",
      "metadata": {
        "id": "41jX3EhpIuVL",
        "colab": {
          "base_uri": "https://localhost:8080/",
          "height": 298
        },
        "outputId": "25e1096c-0d96-4dc8-d5e8-7d1965056789"
      },
      "source": [
        "hawker_df.describe()"
      ],
      "execution_count": 51,
      "outputs": [
        {
          "output_type": "execute_result",
          "data": {
            "text/html": [
              "<div>\n",
              "<style scoped>\n",
              "    .dataframe tbody tr th:only-of-type {\n",
              "        vertical-align: middle;\n",
              "    }\n",
              "\n",
              "    .dataframe tbody tr th {\n",
              "        vertical-align: top;\n",
              "    }\n",
              "\n",
              "    .dataframe thead th {\n",
              "        text-align: right;\n",
              "    }\n",
              "</style>\n",
              "<table border=\"1\" class=\"dataframe\">\n",
              "  <thead>\n",
              "    <tr style=\"text-align: right;\">\n",
              "      <th></th>\n",
              "      <th>latitude_hc</th>\n",
              "      <th>longitude_hc</th>\n",
              "      <th>no_of_market_stalls</th>\n",
              "      <th>no_of_food_stalls</th>\n",
              "    </tr>\n",
              "  </thead>\n",
              "  <tbody>\n",
              "    <tr>\n",
              "      <th>count</th>\n",
              "      <td>114.000000</td>\n",
              "      <td>114.000000</td>\n",
              "      <td>114.000000</td>\n",
              "      <td>114.000000</td>\n",
              "    </tr>\n",
              "    <tr>\n",
              "      <th>mean</th>\n",
              "      <td>1.325880</td>\n",
              "      <td>103.844182</td>\n",
              "      <td>72.745614</td>\n",
              "      <td>56.105263</td>\n",
              "    </tr>\n",
              "    <tr>\n",
              "      <th>std</th>\n",
              "      <td>0.037271</td>\n",
              "      <td>0.056990</td>\n",
              "      <td>72.218549</td>\n",
              "      <td>32.928823</td>\n",
              "    </tr>\n",
              "    <tr>\n",
              "      <th>min</th>\n",
              "      <td>1.272660</td>\n",
              "      <td>103.697374</td>\n",
              "      <td>0.000000</td>\n",
              "      <td>0.000000</td>\n",
              "    </tr>\n",
              "    <tr>\n",
              "      <th>25%</th>\n",
              "      <td>1.302355</td>\n",
              "      <td>103.808046</td>\n",
              "      <td>0.000000</td>\n",
              "      <td>36.000000</td>\n",
              "    </tr>\n",
              "    <tr>\n",
              "      <th>50%</th>\n",
              "      <td>1.320323</td>\n",
              "      <td>103.845428</td>\n",
              "      <td>69.500000</td>\n",
              "      <td>50.000000</td>\n",
              "    </tr>\n",
              "    <tr>\n",
              "      <th>75%</th>\n",
              "      <td>1.344818</td>\n",
              "      <td>103.883722</td>\n",
              "      <td>107.250000</td>\n",
              "      <td>72.000000</td>\n",
              "    </tr>\n",
              "    <tr>\n",
              "      <th>max</th>\n",
              "      <td>1.443990</td>\n",
              "      <td>103.988182</td>\n",
              "      <td>477.000000</td>\n",
              "      <td>226.000000</td>\n",
              "    </tr>\n",
              "  </tbody>\n",
              "</table>\n",
              "</div>"
            ],
            "text/plain": [
              "       latitude_hc  longitude_hc  no_of_market_stalls  no_of_food_stalls\n",
              "count   114.000000    114.000000           114.000000         114.000000\n",
              "mean      1.325880    103.844182            72.745614          56.105263\n",
              "std       0.037271      0.056990            72.218549          32.928823\n",
              "min       1.272660    103.697374             0.000000           0.000000\n",
              "25%       1.302355    103.808046             0.000000          36.000000\n",
              "50%       1.320323    103.845428            69.500000          50.000000\n",
              "75%       1.344818    103.883722           107.250000          72.000000\n",
              "max       1.443990    103.988182           477.000000         226.000000"
            ]
          },
          "metadata": {},
          "execution_count": 51
        }
      ]
    },
    {
      "cell_type": "markdown",
      "metadata": {
        "id": "-etm1uHe14i1"
      },
      "source": [
        "\n",
        "Now that we have a basic idea of the dataset that we are working with, we can start to plot the locations of Hawker Centres onto the map"
      ]
    },
    {
      "cell_type": "markdown",
      "metadata": {
        "id": "i3DeXfu9ENWV"
      },
      "source": [
        "# Introduction to Foilum\n",
        "Folium is a data visualization library in Python that was built primarily to help people visualize geospatial data. With Folium, one can create a map of any location in the world if its latitude and longitude values are known."
      ]
    },
    {
      "cell_type": "markdown",
      "source": [
        "## 5. Importing the Folium library\n",
        "Similarly to use Folium, we will need to install and import the Folium library. The Folium library is already available in Google Colaboratory hence, we just need to import it. "
      ],
      "metadata": {
        "id": "oir27z0dZcoK"
      }
    },
    {
      "cell_type": "code",
      "source": [
        "import folium"
      ],
      "metadata": {
        "id": "Xp8t8NvwZkHt"
      },
      "execution_count": 14,
      "outputs": []
    },
    {
      "cell_type": "markdown",
      "source": [
        "##6. Initialising a map\n"
      ],
      "metadata": {
        "id": "1H_BiZeOZnUU"
      }
    },
    {
      "cell_type": "markdown",
      "source": [
        "### 6a. Map() function\n",
        "We can generate a base map using the folium library using the **`Map()`** function. "
      ],
      "metadata": {
        "id": "BdwGLSaPWbzH"
      }
    },
    {
      "cell_type": "code",
      "source": [
        "map = folium.Map(location=[1.3437459, 103.8240449], # coordinates (latitude and longitude) of the map, these are the coordinates for Singapore\n",
        "                 zoom_start=12,                     # initial zoom level for the map\n",
        "                 control_scale=True)                # whether to add a control scale on the map."
      ],
      "metadata": {
        "id": "h--AFTXSVbBq"
      },
      "execution_count": 15,
      "outputs": []
    },
    {
      "cell_type": "markdown",
      "source": [
        "### 6b. Displaying the map\n",
        "Display the map using the **`display()`** function"
      ],
      "metadata": {
        "id": "ew-csR25WQg7"
      }
    },
    {
      "cell_type": "code",
      "metadata": {
        "colab": {
          "base_uri": "https://localhost:8080/",
          "height": 509
        },
        "id": "-9L9eeoceL8H",
        "outputId": "10ae5b8e-ac18-413c-c091-0b42e626028a"
      },
      "source": [
        "display(map)"
      ],
      "execution_count": 16,
      "outputs": [
        {
          "output_type": "display_data",
          "data": {
            "text/html": [
              "<div style=\"width:100%;\"><div style=\"position:relative;width:100%;height:0;padding-bottom:60%;\"><span style=\"color:#565656\">Make this Notebook Trusted to load map: File -> Trust Notebook</span><iframe src=\"about:blank\" style=\"position:absolute;width:100%;height:100%;left:0;top:0;border:none !important;\" data-html=%3C%21DOCTYPE%20html%3E%0A%3Chead%3E%20%20%20%20%0A%20%20%20%20%3Cmeta%20http-equiv%3D%22content-type%22%20content%3D%22text/html%3B%20charset%3DUTF-8%22%20/%3E%0A%20%20%20%20%3Cscript%3EL_PREFER_CANVAS%3Dfalse%3B%20L_NO_TOUCH%3Dfalse%3B%20L_DISABLE_3D%3Dfalse%3B%3C/script%3E%0A%20%20%20%20%3Cscript%20src%3D%22https%3A//cdn.jsdelivr.net/npm/leaflet%401.4.0/dist/leaflet.js%22%3E%3C/script%3E%0A%20%20%20%20%3Cscript%20src%3D%22https%3A//code.jquery.com/jquery-1.12.4.min.js%22%3E%3C/script%3E%0A%20%20%20%20%3Cscript%20src%3D%22https%3A//maxcdn.bootstrapcdn.com/bootstrap/3.2.0/js/bootstrap.min.js%22%3E%3C/script%3E%0A%20%20%20%20%3Cscript%20src%3D%22https%3A//cdnjs.cloudflare.com/ajax/libs/Leaflet.awesome-markers/2.0.2/leaflet.awesome-markers.js%22%3E%3C/script%3E%0A%20%20%20%20%3Clink%20rel%3D%22stylesheet%22%20href%3D%22https%3A//cdn.jsdelivr.net/npm/leaflet%401.4.0/dist/leaflet.css%22/%3E%0A%20%20%20%20%3Clink%20rel%3D%22stylesheet%22%20href%3D%22https%3A//maxcdn.bootstrapcdn.com/bootstrap/3.2.0/css/bootstrap.min.css%22/%3E%0A%20%20%20%20%3Clink%20rel%3D%22stylesheet%22%20href%3D%22https%3A//maxcdn.bootstrapcdn.com/bootstrap/3.2.0/css/bootstrap-theme.min.css%22/%3E%0A%20%20%20%20%3Clink%20rel%3D%22stylesheet%22%20href%3D%22https%3A//maxcdn.bootstrapcdn.com/font-awesome/4.6.3/css/font-awesome.min.css%22/%3E%0A%20%20%20%20%3Clink%20rel%3D%22stylesheet%22%20href%3D%22https%3A//cdnjs.cloudflare.com/ajax/libs/Leaflet.awesome-markers/2.0.2/leaflet.awesome-markers.css%22/%3E%0A%20%20%20%20%3Clink%20rel%3D%22stylesheet%22%20href%3D%22https%3A//rawcdn.githack.com/python-visualization/folium/master/folium/templates/leaflet.awesome.rotate.css%22/%3E%0A%20%20%20%20%3Cstyle%3Ehtml%2C%20body%20%7Bwidth%3A%20100%25%3Bheight%3A%20100%25%3Bmargin%3A%200%3Bpadding%3A%200%3B%7D%3C/style%3E%0A%20%20%20%20%3Cstyle%3E%23map%20%7Bposition%3Aabsolute%3Btop%3A0%3Bbottom%3A0%3Bright%3A0%3Bleft%3A0%3B%7D%3C/style%3E%0A%20%20%20%20%0A%20%20%20%20%3Cmeta%20name%3D%22viewport%22%20content%3D%22width%3Ddevice-width%2C%0A%20%20%20%20%20%20%20%20initial-scale%3D1.0%2C%20maximum-scale%3D1.0%2C%20user-scalable%3Dno%22%20/%3E%0A%20%20%20%20%3Cstyle%3E%23map_4534526a626c4964b48f5ef73708418f%20%7B%0A%20%20%20%20%20%20%20%20position%3A%20relative%3B%0A%20%20%20%20%20%20%20%20width%3A%20100.0%25%3B%0A%20%20%20%20%20%20%20%20height%3A%20100.0%25%3B%0A%20%20%20%20%20%20%20%20left%3A%200.0%25%3B%0A%20%20%20%20%20%20%20%20top%3A%200.0%25%3B%0A%20%20%20%20%20%20%20%20%7D%0A%20%20%20%20%3C/style%3E%0A%3C/head%3E%0A%3Cbody%3E%20%20%20%20%0A%20%20%20%20%0A%20%20%20%20%3Cdiv%20class%3D%22folium-map%22%20id%3D%22map_4534526a626c4964b48f5ef73708418f%22%20%3E%3C/div%3E%0A%3C/body%3E%0A%3Cscript%3E%20%20%20%20%0A%20%20%20%20%0A%20%20%20%20%0A%20%20%20%20%20%20%20%20var%20bounds%20%3D%20null%3B%0A%20%20%20%20%0A%0A%20%20%20%20var%20map_4534526a626c4964b48f5ef73708418f%20%3D%20L.map%28%0A%20%20%20%20%20%20%20%20%27map_4534526a626c4964b48f5ef73708418f%27%2C%20%7B%0A%20%20%20%20%20%20%20%20center%3A%20%5B1.3437459%2C%20103.8240449%5D%2C%0A%20%20%20%20%20%20%20%20zoom%3A%2012%2C%0A%20%20%20%20%20%20%20%20maxBounds%3A%20bounds%2C%0A%20%20%20%20%20%20%20%20layers%3A%20%5B%5D%2C%0A%20%20%20%20%20%20%20%20worldCopyJump%3A%20false%2C%0A%20%20%20%20%20%20%20%20crs%3A%20L.CRS.EPSG3857%2C%0A%20%20%20%20%20%20%20%20zoomControl%3A%20true%2C%0A%20%20%20%20%20%20%20%20%7D%29%3B%0AL.control.scale%28%29.addTo%28map_4534526a626c4964b48f5ef73708418f%29%3B%0A%0A%20%20%20%20%0A%20%20%20%20var%20tile_layer_021b2f1336ca4e5598f6c70bd6097a93%20%3D%20L.tileLayer%28%0A%20%20%20%20%20%20%20%20%27https%3A//%7Bs%7D.tile.openstreetmap.org/%7Bz%7D/%7Bx%7D/%7By%7D.png%27%2C%0A%20%20%20%20%20%20%20%20%7B%0A%20%20%20%20%20%20%20%20%22attribution%22%3A%20null%2C%0A%20%20%20%20%20%20%20%20%22detectRetina%22%3A%20false%2C%0A%20%20%20%20%20%20%20%20%22maxNativeZoom%22%3A%2018%2C%0A%20%20%20%20%20%20%20%20%22maxZoom%22%3A%2018%2C%0A%20%20%20%20%20%20%20%20%22minZoom%22%3A%200%2C%0A%20%20%20%20%20%20%20%20%22noWrap%22%3A%20false%2C%0A%20%20%20%20%20%20%20%20%22opacity%22%3A%201%2C%0A%20%20%20%20%20%20%20%20%22subdomains%22%3A%20%22abc%22%2C%0A%20%20%20%20%20%20%20%20%22tms%22%3A%20false%0A%7D%29.addTo%28map_4534526a626c4964b48f5ef73708418f%29%3B%0A%3C/script%3E onload=\"this.contentDocument.open();this.contentDocument.write(    decodeURIComponent(this.getAttribute('data-html')));this.contentDocument.close();\" allowfullscreen webkitallowfullscreen mozallowfullscreen></iframe></div></div>"
            ],
            "text/plain": [
              "<folium.folium.Map at 0x7fa513897ad0>"
            ]
          },
          "metadata": {}
        }
      ]
    },
    {
      "cell_type": "markdown",
      "source": [
        "## 7. Adding the locations onto the map"
      ],
      "metadata": {
        "id": "KIwHVVFdZ2kV"
      }
    },
    {
      "cell_type": "markdown",
      "source": [
        "### 7a. Retrieving the relevant rows for the geospatial visualisation"
      ],
      "metadata": {
        "id": "7dWhrRewWz4I"
      }
    },
    {
      "cell_type": "code",
      "metadata": {
        "id": "TcM3sTg7cc-b"
      },
      "source": [
        "hc_locations = hawker_df[[\"latitude_hc\", \"longitude_hc\", 'name']]"
      ],
      "execution_count": 17,
      "outputs": []
    },
    {
      "cell_type": "code",
      "source": [
        "hc_locations"
      ],
      "metadata": {
        "colab": {
          "base_uri": "https://localhost:8080/",
          "height": 420
        },
        "id": "qPSGA-_kf8Fz",
        "outputId": "1197285f-5232-49e1-eaa0-e90bef5f1c14"
      },
      "execution_count": 18,
      "outputs": [
        {
          "output_type": "execute_result",
          "data": {
            "text/html": [
              "<div>\n",
              "<style scoped>\n",
              "    .dataframe tbody tr th:only-of-type {\n",
              "        vertical-align: middle;\n",
              "    }\n",
              "\n",
              "    .dataframe tbody tr th {\n",
              "        vertical-align: top;\n",
              "    }\n",
              "\n",
              "    .dataframe thead th {\n",
              "        text-align: right;\n",
              "    }\n",
              "</style>\n",
              "<table border=\"1\" class=\"dataframe\">\n",
              "  <thead>\n",
              "    <tr style=\"text-align: right;\">\n",
              "      <th></th>\n",
              "      <th>latitude_hc</th>\n",
              "      <th>longitude_hc</th>\n",
              "      <th>name</th>\n",
              "    </tr>\n",
              "  </thead>\n",
              "  <tbody>\n",
              "    <tr>\n",
              "      <th>0</th>\n",
              "      <td>1.324132</td>\n",
              "      <td>103.814163</td>\n",
              "      <td>Adam Road Food Centre</td>\n",
              "    </tr>\n",
              "    <tr>\n",
              "      <th>1</th>\n",
              "      <td>1.320710</td>\n",
              "      <td>103.887093</td>\n",
              "      <td>Aljunied Ave 2 Blk 117 (Blk 117 Aljunied Marke...</td>\n",
              "    </tr>\n",
              "    <tr>\n",
              "      <th>2</th>\n",
              "      <td>1.279129</td>\n",
              "      <td>103.846985</td>\n",
              "      <td>Amoy Street Food Centre (Telok Ayer Food Centre)</td>\n",
              "    </tr>\n",
              "    <tr>\n",
              "      <th>3</th>\n",
              "      <td>1.366950</td>\n",
              "      <td>103.839188</td>\n",
              "      <td>Ang Mo Kio Ave 1 Blk 226D (Kebun Baru Market a...</td>\n",
              "    </tr>\n",
              "    <tr>\n",
              "      <th>4</th>\n",
              "      <td>1.364170</td>\n",
              "      <td>103.848320</td>\n",
              "      <td>Ang Mo Kio Ave 1 Blk 341 (Teck Ghee Court)</td>\n",
              "    </tr>\n",
              "    <tr>\n",
              "      <th>...</th>\n",
              "      <td>...</td>\n",
              "      <td>...</td>\n",
              "      <td>...</td>\n",
              "    </tr>\n",
              "    <tr>\n",
              "      <th>109</th>\n",
              "      <td>1.323140</td>\n",
              "      <td>103.855041</td>\n",
              "      <td>Whampoa Drive Blk 90 (Whampoa Drive Makan Plac...</td>\n",
              "    </tr>\n",
              "    <tr>\n",
              "      <th>110</th>\n",
              "      <td>1.323490</td>\n",
              "      <td>103.854134</td>\n",
              "      <td>Whampoa Drive Blk 91/92 (Whampoa Drive Makan P...</td>\n",
              "    </tr>\n",
              "    <tr>\n",
              "      <th>111</th>\n",
              "      <td>1.424911</td>\n",
              "      <td>103.844992</td>\n",
              "      <td>Yishun Park Hawker Centre</td>\n",
              "    </tr>\n",
              "    <tr>\n",
              "      <th>112</th>\n",
              "      <td>1.431658</td>\n",
              "      <td>103.828072</td>\n",
              "      <td>Yishun Ring Road Blk 104/105 (Chong Pang Marke...</td>\n",
              "    </tr>\n",
              "    <tr>\n",
              "      <th>113</th>\n",
              "      <td>1.292340</td>\n",
              "      <td>103.831184</td>\n",
              "      <td>Zion Riverside Food Centre</td>\n",
              "    </tr>\n",
              "  </tbody>\n",
              "</table>\n",
              "<p>114 rows × 3 columns</p>\n",
              "</div>"
            ],
            "text/plain": [
              "     latitude_hc  ...                                               name\n",
              "0       1.324132  ...                              Adam Road Food Centre\n",
              "1       1.320710  ...  Aljunied Ave 2 Blk 117 (Blk 117 Aljunied Marke...\n",
              "2       1.279129  ...   Amoy Street Food Centre (Telok Ayer Food Centre)\n",
              "3       1.366950  ...  Ang Mo Kio Ave 1 Blk 226D (Kebun Baru Market a...\n",
              "4       1.364170  ...         Ang Mo Kio Ave 1 Blk 341 (Teck Ghee Court)\n",
              "..           ...  ...                                                ...\n",
              "109     1.323140  ...  Whampoa Drive Blk 90 (Whampoa Drive Makan Plac...\n",
              "110     1.323490  ...  Whampoa Drive Blk 91/92 (Whampoa Drive Makan P...\n",
              "111     1.424911  ...                          Yishun Park Hawker Centre\n",
              "112     1.431658  ...  Yishun Ring Road Blk 104/105 (Chong Pang Marke...\n",
              "113     1.292340  ...                         Zion Riverside Food Centre\n",
              "\n",
              "[114 rows x 3 columns]"
            ]
          },
          "metadata": {},
          "execution_count": 18
        }
      ]
    },
    {
      "cell_type": "markdown",
      "source": [
        "### 7b. Adding a location onto the base map\n",
        "\n",
        "Using **`Marker()`**, we can add a location onto the base map that we have generated, by providing the coordinates. There is a parameter named popup where we can assign a text to. The text will be shown when we click on the marker."
      ],
      "metadata": {
        "id": "8kHLdesIfrkR"
      }
    },
    {
      "cell_type": "code",
      "source": [
        "folium.Marker([1.324132, 103.814163], # latitude and longitude\n",
        "              popup='Adam Road Food Centre' # name of hawker centre, what the popup will display when the marker is clicked\n",
        "              ).add_to(map) # add it to base map that was initialised"
      ],
      "metadata": {
        "colab": {
          "base_uri": "https://localhost:8080/"
        },
        "id": "1LwM0O-Ef-SJ",
        "outputId": "8a3d3a7e-481d-4d07-ba22-5ed72c9fa428"
      },
      "execution_count": 19,
      "outputs": [
        {
          "output_type": "execute_result",
          "data": {
            "text/plain": [
              "<folium.map.Marker at 0x7fa5138834d0>"
            ]
          },
          "metadata": {},
          "execution_count": 19
        }
      ]
    },
    {
      "cell_type": "code",
      "source": [
        "display(map)"
      ],
      "metadata": {
        "colab": {
          "base_uri": "https://localhost:8080/",
          "height": 509
        },
        "id": "dGOI3KglgmXc",
        "outputId": "8d7fe75b-3202-4dab-ecc7-6169b8018edb"
      },
      "execution_count": 20,
      "outputs": [
        {
          "output_type": "display_data",
          "data": {
            "text/html": [
              "<div style=\"width:100%;\"><div style=\"position:relative;width:100%;height:0;padding-bottom:60%;\"><span style=\"color:#565656\">Make this Notebook Trusted to load map: File -> Trust Notebook</span><iframe src=\"about:blank\" style=\"position:absolute;width:100%;height:100%;left:0;top:0;border:none !important;\" data-html=%3C%21DOCTYPE%20html%3E%0A%3Chead%3E%20%20%20%20%0A%20%20%20%20%3Cmeta%20http-equiv%3D%22content-type%22%20content%3D%22text/html%3B%20charset%3DUTF-8%22%20/%3E%0A%20%20%20%20%3Cscript%3EL_PREFER_CANVAS%3Dfalse%3B%20L_NO_TOUCH%3Dfalse%3B%20L_DISABLE_3D%3Dfalse%3B%3C/script%3E%0A%20%20%20%20%3Cscript%20src%3D%22https%3A//cdn.jsdelivr.net/npm/leaflet%401.4.0/dist/leaflet.js%22%3E%3C/script%3E%0A%20%20%20%20%3Cscript%20src%3D%22https%3A//code.jquery.com/jquery-1.12.4.min.js%22%3E%3C/script%3E%0A%20%20%20%20%3Cscript%20src%3D%22https%3A//maxcdn.bootstrapcdn.com/bootstrap/3.2.0/js/bootstrap.min.js%22%3E%3C/script%3E%0A%20%20%20%20%3Cscript%20src%3D%22https%3A//cdnjs.cloudflare.com/ajax/libs/Leaflet.awesome-markers/2.0.2/leaflet.awesome-markers.js%22%3E%3C/script%3E%0A%20%20%20%20%3Clink%20rel%3D%22stylesheet%22%20href%3D%22https%3A//cdn.jsdelivr.net/npm/leaflet%401.4.0/dist/leaflet.css%22/%3E%0A%20%20%20%20%3Clink%20rel%3D%22stylesheet%22%20href%3D%22https%3A//maxcdn.bootstrapcdn.com/bootstrap/3.2.0/css/bootstrap.min.css%22/%3E%0A%20%20%20%20%3Clink%20rel%3D%22stylesheet%22%20href%3D%22https%3A//maxcdn.bootstrapcdn.com/bootstrap/3.2.0/css/bootstrap-theme.min.css%22/%3E%0A%20%20%20%20%3Clink%20rel%3D%22stylesheet%22%20href%3D%22https%3A//maxcdn.bootstrapcdn.com/font-awesome/4.6.3/css/font-awesome.min.css%22/%3E%0A%20%20%20%20%3Clink%20rel%3D%22stylesheet%22%20href%3D%22https%3A//cdnjs.cloudflare.com/ajax/libs/Leaflet.awesome-markers/2.0.2/leaflet.awesome-markers.css%22/%3E%0A%20%20%20%20%3Clink%20rel%3D%22stylesheet%22%20href%3D%22https%3A//rawcdn.githack.com/python-visualization/folium/master/folium/templates/leaflet.awesome.rotate.css%22/%3E%0A%20%20%20%20%3Cstyle%3Ehtml%2C%20body%20%7Bwidth%3A%20100%25%3Bheight%3A%20100%25%3Bmargin%3A%200%3Bpadding%3A%200%3B%7D%3C/style%3E%0A%20%20%20%20%3Cstyle%3E%23map%20%7Bposition%3Aabsolute%3Btop%3A0%3Bbottom%3A0%3Bright%3A0%3Bleft%3A0%3B%7D%3C/style%3E%0A%20%20%20%20%0A%20%20%20%20%3Cmeta%20name%3D%22viewport%22%20content%3D%22width%3Ddevice-width%2C%0A%20%20%20%20%20%20%20%20initial-scale%3D1.0%2C%20maximum-scale%3D1.0%2C%20user-scalable%3Dno%22%20/%3E%0A%20%20%20%20%3Cstyle%3E%23map_4534526a626c4964b48f5ef73708418f%20%7B%0A%20%20%20%20%20%20%20%20position%3A%20relative%3B%0A%20%20%20%20%20%20%20%20width%3A%20100.0%25%3B%0A%20%20%20%20%20%20%20%20height%3A%20100.0%25%3B%0A%20%20%20%20%20%20%20%20left%3A%200.0%25%3B%0A%20%20%20%20%20%20%20%20top%3A%200.0%25%3B%0A%20%20%20%20%20%20%20%20%7D%0A%20%20%20%20%3C/style%3E%0A%3C/head%3E%0A%3Cbody%3E%20%20%20%20%0A%20%20%20%20%0A%20%20%20%20%3Cdiv%20class%3D%22folium-map%22%20id%3D%22map_4534526a626c4964b48f5ef73708418f%22%20%3E%3C/div%3E%0A%3C/body%3E%0A%3Cscript%3E%20%20%20%20%0A%20%20%20%20%0A%20%20%20%20%0A%20%20%20%20%20%20%20%20var%20bounds%20%3D%20null%3B%0A%20%20%20%20%0A%0A%20%20%20%20var%20map_4534526a626c4964b48f5ef73708418f%20%3D%20L.map%28%0A%20%20%20%20%20%20%20%20%27map_4534526a626c4964b48f5ef73708418f%27%2C%20%7B%0A%20%20%20%20%20%20%20%20center%3A%20%5B1.3437459%2C%20103.8240449%5D%2C%0A%20%20%20%20%20%20%20%20zoom%3A%2012%2C%0A%20%20%20%20%20%20%20%20maxBounds%3A%20bounds%2C%0A%20%20%20%20%20%20%20%20layers%3A%20%5B%5D%2C%0A%20%20%20%20%20%20%20%20worldCopyJump%3A%20false%2C%0A%20%20%20%20%20%20%20%20crs%3A%20L.CRS.EPSG3857%2C%0A%20%20%20%20%20%20%20%20zoomControl%3A%20true%2C%0A%20%20%20%20%20%20%20%20%7D%29%3B%0AL.control.scale%28%29.addTo%28map_4534526a626c4964b48f5ef73708418f%29%3B%0A%0A%20%20%20%20%0A%20%20%20%20var%20tile_layer_021b2f1336ca4e5598f6c70bd6097a93%20%3D%20L.tileLayer%28%0A%20%20%20%20%20%20%20%20%27https%3A//%7Bs%7D.tile.openstreetmap.org/%7Bz%7D/%7Bx%7D/%7By%7D.png%27%2C%0A%20%20%20%20%20%20%20%20%7B%0A%20%20%20%20%20%20%20%20%22attribution%22%3A%20null%2C%0A%20%20%20%20%20%20%20%20%22detectRetina%22%3A%20false%2C%0A%20%20%20%20%20%20%20%20%22maxNativeZoom%22%3A%2018%2C%0A%20%20%20%20%20%20%20%20%22maxZoom%22%3A%2018%2C%0A%20%20%20%20%20%20%20%20%22minZoom%22%3A%200%2C%0A%20%20%20%20%20%20%20%20%22noWrap%22%3A%20false%2C%0A%20%20%20%20%20%20%20%20%22opacity%22%3A%201%2C%0A%20%20%20%20%20%20%20%20%22subdomains%22%3A%20%22abc%22%2C%0A%20%20%20%20%20%20%20%20%22tms%22%3A%20false%0A%7D%29.addTo%28map_4534526a626c4964b48f5ef73708418f%29%3B%0A%20%20%20%20%0A%20%20%20%20%20%20%20%20var%20marker_dc7cc9dfaf034d81abdc4d21ed958915%20%3D%20L.marker%28%0A%20%20%20%20%20%20%20%20%20%20%20%20%5B1.324132%2C%20103.814163%5D%2C%0A%20%20%20%20%20%20%20%20%20%20%20%20%7B%0A%20%20%20%20%20%20%20%20%20%20%20%20%20%20%20%20icon%3A%20new%20L.Icon.Default%28%29%2C%0A%20%20%20%20%20%20%20%20%20%20%20%20%20%20%20%20%7D%0A%20%20%20%20%20%20%20%20%20%20%20%20%29.addTo%28map_4534526a626c4964b48f5ef73708418f%29%3B%0A%20%20%20%20%20%20%20%20%0A%20%20%20%20%0A%20%20%20%20%20%20%20%20%20%20%20%20var%20popup_ee83a0bc62164338b1a93dfc0c577791%20%3D%20L.popup%28%7BmaxWidth%3A%20%27100%25%27%0A%20%20%20%20%20%20%20%20%20%20%20%20%0A%20%20%20%20%20%20%20%20%20%20%20%20%7D%29%3B%0A%0A%20%20%20%20%20%20%20%20%20%20%20%20%0A%20%20%20%20%20%20%20%20%20%20%20%20%20%20%20%20var%20html_ffb79cfb2f904995a5fae28184dbe0af%20%3D%20%24%28%60%3Cdiv%20id%3D%22html_ffb79cfb2f904995a5fae28184dbe0af%22%20style%3D%22width%3A%20100.0%25%3B%20height%3A%20100.0%25%3B%22%3EAdam%20Road%20Food%20Centre%3C/div%3E%60%29%5B0%5D%3B%0A%20%20%20%20%20%20%20%20%20%20%20%20%20%20%20%20popup_ee83a0bc62164338b1a93dfc0c577791.setContent%28html_ffb79cfb2f904995a5fae28184dbe0af%29%3B%0A%20%20%20%20%20%20%20%20%20%20%20%20%0A%0A%20%20%20%20%20%20%20%20%20%20%20%20marker_dc7cc9dfaf034d81abdc4d21ed958915.bindPopup%28popup_ee83a0bc62164338b1a93dfc0c577791%29%0A%20%20%20%20%20%20%20%20%20%20%20%20%3B%0A%0A%20%20%20%20%20%20%20%20%20%20%20%20%0A%20%20%20%20%20%20%20%20%0A%3C/script%3E onload=\"this.contentDocument.open();this.contentDocument.write(    decodeURIComponent(this.getAttribute('data-html')));this.contentDocument.close();\" allowfullscreen webkitallowfullscreen mozallowfullscreen></iframe></div></div>"
            ],
            "text/plain": [
              "<folium.folium.Map at 0x7fa513897ad0>"
            ]
          },
          "metadata": {}
        }
      ]
    },
    {
      "cell_type": "markdown",
      "source": [
        "### 7c. Adding multiple locations to the base map with the aid of a for loop\n",
        "However, it is quite a hassle to add each and every location onto the map individually. But we can speed up the process with the help of a for loop."
      ],
      "metadata": {
        "id": "NHAzZRX2a-W2"
      }
    },
    {
      "cell_type": "code",
      "metadata": {
        "id": "ueR3y8U-cc5k"
      },
      "source": [
        "for index, location_info in hc_locations.iterrows(): # iterrows is used to iterate through the rows of the dataframe\n",
        "    folium.Marker([location_info[\"latitude_hc\"], location_info[\"longitude_hc\"]], # latitude and longitude\n",
        "                  popup=location_info[\"name\"]  # name of hawker centre\n",
        "                  ).add_to(map) "
      ],
      "execution_count": 21,
      "outputs": []
    },
    {
      "cell_type": "markdown",
      "source": [
        "For loops are used for iterating over iterable objects, such as the rows of the DataFrame.\n",
        "\n",
        "\n"
      ],
      "metadata": {
        "id": "pjDc3kyzl-GM"
      }
    },
    {
      "cell_type": "markdown",
      "source": [
        "**For a better idea of what `iterrows()` does.** <br> `DataFrame.iterrows` is a generator which yields both the index and row (as a Series)"
      ],
      "metadata": {
        "id": "TC2Kc4QFh9Ku"
      }
    },
    {
      "cell_type": "code",
      "source": [
        "for index, location_info in hc_locations.iterrows(): \n",
        "  print(index)\n",
        "  print()\n",
        "  print(location_info)\n",
        "  break"
      ],
      "metadata": {
        "colab": {
          "base_uri": "https://localhost:8080/"
        },
        "id": "8k5-NLK_huuE",
        "outputId": "ba2ac31a-e595-48d2-bd7d-0210a970ea43"
      },
      "execution_count": 22,
      "outputs": [
        {
          "output_type": "stream",
          "name": "stdout",
          "text": [
            "0\n",
            "\n",
            "latitude_hc                   1.32413\n",
            "longitude_hc                  103.814\n",
            "name            Adam Road Food Centre\n",
            "Name: 0, dtype: object\n"
          ]
        }
      ]
    },
    {
      "cell_type": "markdown",
      "source": [
        "### 7d. Display the map [Mini Exercise!] - 2 mins\n",
        "**Exercise: Display the map that has the location added to it**"
      ],
      "metadata": {
        "id": "zA7nw6C4bFhI"
      }
    },
    {
      "cell_type": "code",
      "source": [
        "# Enter your code here"
      ],
      "metadata": {
        "id": "_uMAFMhCNv_T"
      },
      "execution_count": 23,
      "outputs": []
    },
    {
      "cell_type": "markdown",
      "source": [
        "####Solution\n",
        "Click below for the solution."
      ],
      "metadata": {
        "id": "Um16QgauNoMz"
      }
    },
    {
      "cell_type": "code",
      "metadata": {
        "colab": {
          "base_uri": "https://localhost:8080/",
          "height": 509
        },
        "id": "aHhOQ_a5cc3B",
        "outputId": "f066cef3-e01a-43a3-a9bf-41217b551aa9"
      },
      "source": [
        "display(map)"
      ],
      "execution_count": 24,
      "outputs": [
        {
          "output_type": "display_data",
          "data": {
            "text/html": [
              "<div style=\"width:100%;\"><div style=\"position:relative;width:100%;height:0;padding-bottom:60%;\"><span style=\"color:#565656\">Make this Notebook Trusted to load map: File -> Trust Notebook</span><iframe src=\"about:blank\" style=\"position:absolute;width:100%;height:100%;left:0;top:0;border:none !important;\" data-html=%3C%21DOCTYPE%20html%3E%0A%3Chead%3E%20%20%20%20%0A%20%20%20%20%3Cmeta%20http-equiv%3D%22content-type%22%20content%3D%22text/html%3B%20charset%3DUTF-8%22%20/%3E%0A%20%20%20%20%3Cscript%3EL_PREFER_CANVAS%3Dfalse%3B%20L_NO_TOUCH%3Dfalse%3B%20L_DISABLE_3D%3Dfalse%3B%3C/script%3E%0A%20%20%20%20%3Cscript%20src%3D%22https%3A//cdn.jsdelivr.net/npm/leaflet%401.4.0/dist/leaflet.js%22%3E%3C/script%3E%0A%20%20%20%20%3Cscript%20src%3D%22https%3A//code.jquery.com/jquery-1.12.4.min.js%22%3E%3C/script%3E%0A%20%20%20%20%3Cscript%20src%3D%22https%3A//maxcdn.bootstrapcdn.com/bootstrap/3.2.0/js/bootstrap.min.js%22%3E%3C/script%3E%0A%20%20%20%20%3Cscript%20src%3D%22https%3A//cdnjs.cloudflare.com/ajax/libs/Leaflet.awesome-markers/2.0.2/leaflet.awesome-markers.js%22%3E%3C/script%3E%0A%20%20%20%20%3Clink%20rel%3D%22stylesheet%22%20href%3D%22https%3A//cdn.jsdelivr.net/npm/leaflet%401.4.0/dist/leaflet.css%22/%3E%0A%20%20%20%20%3Clink%20rel%3D%22stylesheet%22%20href%3D%22https%3A//maxcdn.bootstrapcdn.com/bootstrap/3.2.0/css/bootstrap.min.css%22/%3E%0A%20%20%20%20%3Clink%20rel%3D%22stylesheet%22%20href%3D%22https%3A//maxcdn.bootstrapcdn.com/bootstrap/3.2.0/css/bootstrap-theme.min.css%22/%3E%0A%20%20%20%20%3Clink%20rel%3D%22stylesheet%22%20href%3D%22https%3A//maxcdn.bootstrapcdn.com/font-awesome/4.6.3/css/font-awesome.min.css%22/%3E%0A%20%20%20%20%3Clink%20rel%3D%22stylesheet%22%20href%3D%22https%3A//cdnjs.cloudflare.com/ajax/libs/Leaflet.awesome-markers/2.0.2/leaflet.awesome-markers.css%22/%3E%0A%20%20%20%20%3Clink%20rel%3D%22stylesheet%22%20href%3D%22https%3A//rawcdn.githack.com/python-visualization/folium/master/folium/templates/leaflet.awesome.rotate.css%22/%3E%0A%20%20%20%20%3Cstyle%3Ehtml%2C%20body%20%7Bwidth%3A%20100%25%3Bheight%3A%20100%25%3Bmargin%3A%200%3Bpadding%3A%200%3B%7D%3C/style%3E%0A%20%20%20%20%3Cstyle%3E%23map%20%7Bposition%3Aabsolute%3Btop%3A0%3Bbottom%3A0%3Bright%3A0%3Bleft%3A0%3B%7D%3C/style%3E%0A%20%20%20%20%0A%20%20%20%20%3Cmeta%20name%3D%22viewport%22%20content%3D%22width%3Ddevice-width%2C%0A%20%20%20%20%20%20%20%20initial-scale%3D1.0%2C%20maximum-scale%3D1.0%2C%20user-scalable%3Dno%22%20/%3E%0A%20%20%20%20%3Cstyle%3E%23map_4534526a626c4964b48f5ef73708418f%20%7B%0A%20%20%20%20%20%20%20%20position%3A%20relative%3B%0A%20%20%20%20%20%20%20%20width%3A%20100.0%25%3B%0A%20%20%20%20%20%20%20%20height%3A%20100.0%25%3B%0A%20%20%20%20%20%20%20%20left%3A%200.0%25%3B%0A%20%20%20%20%20%20%20%20top%3A%200.0%25%3B%0A%20%20%20%20%20%20%20%20%7D%0A%20%20%20%20%3C/style%3E%0A%3C/head%3E%0A%3Cbody%3E%20%20%20%20%0A%20%20%20%20%0A%20%20%20%20%3Cdiv%20class%3D%22folium-map%22%20id%3D%22map_4534526a626c4964b48f5ef73708418f%22%20%3E%3C/div%3E%0A%3C/body%3E%0A%3Cscript%3E%20%20%20%20%0A%20%20%20%20%0A%20%20%20%20%0A%20%20%20%20%20%20%20%20var%20bounds%20%3D%20null%3B%0A%20%20%20%20%0A%0A%20%20%20%20var%20map_4534526a626c4964b48f5ef73708418f%20%3D%20L.map%28%0A%20%20%20%20%20%20%20%20%27map_4534526a626c4964b48f5ef73708418f%27%2C%20%7B%0A%20%20%20%20%20%20%20%20center%3A%20%5B1.3437459%2C%20103.8240449%5D%2C%0A%20%20%20%20%20%20%20%20zoom%3A%2012%2C%0A%20%20%20%20%20%20%20%20maxBounds%3A%20bounds%2C%0A%20%20%20%20%20%20%20%20layers%3A%20%5B%5D%2C%0A%20%20%20%20%20%20%20%20worldCopyJump%3A%20false%2C%0A%20%20%20%20%20%20%20%20crs%3A%20L.CRS.EPSG3857%2C%0A%20%20%20%20%20%20%20%20zoomControl%3A%20true%2C%0A%20%20%20%20%20%20%20%20%7D%29%3B%0AL.control.scale%28%29.addTo%28map_4534526a626c4964b48f5ef73708418f%29%3B%0A%0A%20%20%20%20%0A%20%20%20%20var%20tile_layer_021b2f1336ca4e5598f6c70bd6097a93%20%3D%20L.tileLayer%28%0A%20%20%20%20%20%20%20%20%27https%3A//%7Bs%7D.tile.openstreetmap.org/%7Bz%7D/%7Bx%7D/%7By%7D.png%27%2C%0A%20%20%20%20%20%20%20%20%7B%0A%20%20%20%20%20%20%20%20%22attribution%22%3A%20null%2C%0A%20%20%20%20%20%20%20%20%22detectRetina%22%3A%20false%2C%0A%20%20%20%20%20%20%20%20%22maxNativeZoom%22%3A%2018%2C%0A%20%20%20%20%20%20%20%20%22maxZoom%22%3A%2018%2C%0A%20%20%20%20%20%20%20%20%22minZoom%22%3A%200%2C%0A%20%20%20%20%20%20%20%20%22noWrap%22%3A%20false%2C%0A%20%20%20%20%20%20%20%20%22opacity%22%3A%201%2C%0A%20%20%20%20%20%20%20%20%22subdomains%22%3A%20%22abc%22%2C%0A%20%20%20%20%20%20%20%20%22tms%22%3A%20false%0A%7D%29.addTo%28map_4534526a626c4964b48f5ef73708418f%29%3B%0A%20%20%20%20%0A%20%20%20%20%20%20%20%20var%20marker_dc7cc9dfaf034d81abdc4d21ed958915%20%3D%20L.marker%28%0A%20%20%20%20%20%20%20%20%20%20%20%20%5B1.324132%2C%20103.814163%5D%2C%0A%20%20%20%20%20%20%20%20%20%20%20%20%7B%0A%20%20%20%20%20%20%20%20%20%20%20%20%20%20%20%20icon%3A%20new%20L.Icon.Default%28%29%2C%0A%20%20%20%20%20%20%20%20%20%20%20%20%20%20%20%20%7D%0A%20%20%20%20%20%20%20%20%20%20%20%20%29.addTo%28map_4534526a626c4964b48f5ef73708418f%29%3B%0A%20%20%20%20%20%20%20%20%0A%20%20%20%20%0A%20%20%20%20%20%20%20%20%20%20%20%20var%20popup_ee83a0bc62164338b1a93dfc0c577791%20%3D%20L.popup%28%7BmaxWidth%3A%20%27100%25%27%0A%20%20%20%20%20%20%20%20%20%20%20%20%0A%20%20%20%20%20%20%20%20%20%20%20%20%7D%29%3B%0A%0A%20%20%20%20%20%20%20%20%20%20%20%20%0A%20%20%20%20%20%20%20%20%20%20%20%20%20%20%20%20var%20html_ffb79cfb2f904995a5fae28184dbe0af%20%3D%20%24%28%60%3Cdiv%20id%3D%22html_ffb79cfb2f904995a5fae28184dbe0af%22%20style%3D%22width%3A%20100.0%25%3B%20height%3A%20100.0%25%3B%22%3EAdam%20Road%20Food%20Centre%3C/div%3E%60%29%5B0%5D%3B%0A%20%20%20%20%20%20%20%20%20%20%20%20%20%20%20%20popup_ee83a0bc62164338b1a93dfc0c577791.setContent%28html_ffb79cfb2f904995a5fae28184dbe0af%29%3B%0A%20%20%20%20%20%20%20%20%20%20%20%20%0A%0A%20%20%20%20%20%20%20%20%20%20%20%20marker_dc7cc9dfaf034d81abdc4d21ed958915.bindPopup%28popup_ee83a0bc62164338b1a93dfc0c577791%29%0A%20%20%20%20%20%20%20%20%20%20%20%20%3B%0A%0A%20%20%20%20%20%20%20%20%20%20%20%20%0A%20%20%20%20%20%20%20%20%0A%20%20%20%20%0A%20%20%20%20%20%20%20%20var%20marker_28b6d8ea89c64d908240167a50e4f213%20%3D%20L.marker%28%0A%20%20%20%20%20%20%20%20%20%20%20%20%5B1.324131966%2C%20103.8141632%5D%2C%0A%20%20%20%20%20%20%20%20%20%20%20%20%7B%0A%20%20%20%20%20%20%20%20%20%20%20%20%20%20%20%20icon%3A%20new%20L.Icon.Default%28%29%2C%0A%20%20%20%20%20%20%20%20%20%20%20%20%20%20%20%20%7D%0A%20%20%20%20%20%20%20%20%20%20%20%20%29.addTo%28map_4534526a626c4964b48f5ef73708418f%29%3B%0A%20%20%20%20%20%20%20%20%0A%20%20%20%20%0A%20%20%20%20%20%20%20%20%20%20%20%20var%20popup_ef4508e031544a8baaa8e25cccec0bf9%20%3D%20L.popup%28%7BmaxWidth%3A%20%27100%25%27%0A%20%20%20%20%20%20%20%20%20%20%20%20%0A%20%20%20%20%20%20%20%20%20%20%20%20%7D%29%3B%0A%0A%20%20%20%20%20%20%20%20%20%20%20%20%0A%20%20%20%20%20%20%20%20%20%20%20%20%20%20%20%20var%20html_cbd2b30d89b24aad8bdf886e2a90f9a6%20%3D%20%24%28%60%3Cdiv%20id%3D%22html_cbd2b30d89b24aad8bdf886e2a90f9a6%22%20style%3D%22width%3A%20100.0%25%3B%20height%3A%20100.0%25%3B%22%3EAdam%20Road%20Food%20Centre%3C/div%3E%60%29%5B0%5D%3B%0A%20%20%20%20%20%20%20%20%20%20%20%20%20%20%20%20popup_ef4508e031544a8baaa8e25cccec0bf9.setContent%28html_cbd2b30d89b24aad8bdf886e2a90f9a6%29%3B%0A%20%20%20%20%20%20%20%20%20%20%20%20%0A%0A%20%20%20%20%20%20%20%20%20%20%20%20marker_28b6d8ea89c64d908240167a50e4f213.bindPopup%28popup_ef4508e031544a8baaa8e25cccec0bf9%29%0A%20%20%20%20%20%20%20%20%20%20%20%20%3B%0A%0A%20%20%20%20%20%20%20%20%20%20%20%20%0A%20%20%20%20%20%20%20%20%0A%20%20%20%20%0A%20%20%20%20%20%20%20%20var%20marker_d1996a85c8534c59828236bc10cba111%20%3D%20L.marker%28%0A%20%20%20%20%20%20%20%20%20%20%20%20%5B1.320709944%2C%20103.8870926%5D%2C%0A%20%20%20%20%20%20%20%20%20%20%20%20%7B%0A%20%20%20%20%20%20%20%20%20%20%20%20%20%20%20%20icon%3A%20new%20L.Icon.Default%28%29%2C%0A%20%20%20%20%20%20%20%20%20%20%20%20%20%20%20%20%7D%0A%20%20%20%20%20%20%20%20%20%20%20%20%29.addTo%28map_4534526a626c4964b48f5ef73708418f%29%3B%0A%20%20%20%20%20%20%20%20%0A%20%20%20%20%0A%20%20%20%20%20%20%20%20%20%20%20%20var%20popup_844ab6c07e074b42a20e1d6e87e25d7e%20%3D%20L.popup%28%7BmaxWidth%3A%20%27100%25%27%0A%20%20%20%20%20%20%20%20%20%20%20%20%0A%20%20%20%20%20%20%20%20%20%20%20%20%7D%29%3B%0A%0A%20%20%20%20%20%20%20%20%20%20%20%20%0A%20%20%20%20%20%20%20%20%20%20%20%20%20%20%20%20var%20html_0deef35dfd7542d3b39e33709a07511b%20%3D%20%24%28%60%3Cdiv%20id%3D%22html_0deef35dfd7542d3b39e33709a07511b%22%20style%3D%22width%3A%20100.0%25%3B%20height%3A%20100.0%25%3B%22%3EAljunied%20Ave%202%20Blk%20117%20%28Blk%20117%20Aljunied%20Market%20and%20Food%20Centre%29%3C/div%3E%60%29%5B0%5D%3B%0A%20%20%20%20%20%20%20%20%20%20%20%20%20%20%20%20popup_844ab6c07e074b42a20e1d6e87e25d7e.setContent%28html_0deef35dfd7542d3b39e33709a07511b%29%3B%0A%20%20%20%20%20%20%20%20%20%20%20%20%0A%0A%20%20%20%20%20%20%20%20%20%20%20%20marker_d1996a85c8534c59828236bc10cba111.bindPopup%28popup_844ab6c07e074b42a20e1d6e87e25d7e%29%0A%20%20%20%20%20%20%20%20%20%20%20%20%3B%0A%0A%20%20%20%20%20%20%20%20%20%20%20%20%0A%20%20%20%20%20%20%20%20%0A%20%20%20%20%0A%20%20%20%20%20%20%20%20var%20marker_ceb1e1fbbac646edb78a051c16c2f472%20%3D%20L.marker%28%0A%20%20%20%20%20%20%20%20%20%20%20%20%5B1.279129028%2C%20103.84698490000001%5D%2C%0A%20%20%20%20%20%20%20%20%20%20%20%20%7B%0A%20%20%20%20%20%20%20%20%20%20%20%20%20%20%20%20icon%3A%20new%20L.Icon.Default%28%29%2C%0A%20%20%20%20%20%20%20%20%20%20%20%20%20%20%20%20%7D%0A%20%20%20%20%20%20%20%20%20%20%20%20%29.addTo%28map_4534526a626c4964b48f5ef73708418f%29%3B%0A%20%20%20%20%20%20%20%20%0A%20%20%20%20%0A%20%20%20%20%20%20%20%20%20%20%20%20var%20popup_c45afeab61204a58ad101aea53d7a162%20%3D%20L.popup%28%7BmaxWidth%3A%20%27100%25%27%0A%20%20%20%20%20%20%20%20%20%20%20%20%0A%20%20%20%20%20%20%20%20%20%20%20%20%7D%29%3B%0A%0A%20%20%20%20%20%20%20%20%20%20%20%20%0A%20%20%20%20%20%20%20%20%20%20%20%20%20%20%20%20var%20html_4686fed0fb32459585121ebe02561c2f%20%3D%20%24%28%60%3Cdiv%20id%3D%22html_4686fed0fb32459585121ebe02561c2f%22%20style%3D%22width%3A%20100.0%25%3B%20height%3A%20100.0%25%3B%22%3EAmoy%20Street%20Food%20Centre%20%28Telok%20Ayer%20Food%20Centre%29%3C/div%3E%60%29%5B0%5D%3B%0A%20%20%20%20%20%20%20%20%20%20%20%20%20%20%20%20popup_c45afeab61204a58ad101aea53d7a162.setContent%28html_4686fed0fb32459585121ebe02561c2f%29%3B%0A%20%20%20%20%20%20%20%20%20%20%20%20%0A%0A%20%20%20%20%20%20%20%20%20%20%20%20marker_ceb1e1fbbac646edb78a051c16c2f472.bindPopup%28popup_c45afeab61204a58ad101aea53d7a162%29%0A%20%20%20%20%20%20%20%20%20%20%20%20%3B%0A%0A%20%20%20%20%20%20%20%20%20%20%20%20%0A%20%20%20%20%20%20%20%20%0A%20%20%20%20%0A%20%20%20%20%20%20%20%20var%20marker_da51e26f20dc4011abbce58a82881ac0%20%3D%20L.marker%28%0A%20%20%20%20%20%20%20%20%20%20%20%20%5B1.366950035%2C%20103.83918759999999%5D%2C%0A%20%20%20%20%20%20%20%20%20%20%20%20%7B%0A%20%20%20%20%20%20%20%20%20%20%20%20%20%20%20%20icon%3A%20new%20L.Icon.Default%28%29%2C%0A%20%20%20%20%20%20%20%20%20%20%20%20%20%20%20%20%7D%0A%20%20%20%20%20%20%20%20%20%20%20%20%29.addTo%28map_4534526a626c4964b48f5ef73708418f%29%3B%0A%20%20%20%20%20%20%20%20%0A%20%20%20%20%0A%20%20%20%20%20%20%20%20%20%20%20%20var%20popup_3ddf26ce9a854dd7a28d08ee56e43386%20%3D%20L.popup%28%7BmaxWidth%3A%20%27100%25%27%0A%20%20%20%20%20%20%20%20%20%20%20%20%0A%20%20%20%20%20%20%20%20%20%20%20%20%7D%29%3B%0A%0A%20%20%20%20%20%20%20%20%20%20%20%20%0A%20%20%20%20%20%20%20%20%20%20%20%20%20%20%20%20var%20html_995089eac8704d9faaeb9bbf3e9151d6%20%3D%20%24%28%60%3Cdiv%20id%3D%22html_995089eac8704d9faaeb9bbf3e9151d6%22%20style%3D%22width%3A%20100.0%25%3B%20height%3A%20100.0%25%3B%22%3EAng%20Mo%20Kio%20Ave%201%20Blk%20226D%20%28Kebun%20Baru%20Market%20and%20Food%20Centre%29%3C/div%3E%60%29%5B0%5D%3B%0A%20%20%20%20%20%20%20%20%20%20%20%20%20%20%20%20popup_3ddf26ce9a854dd7a28d08ee56e43386.setContent%28html_995089eac8704d9faaeb9bbf3e9151d6%29%3B%0A%20%20%20%20%20%20%20%20%20%20%20%20%0A%0A%20%20%20%20%20%20%20%20%20%20%20%20marker_da51e26f20dc4011abbce58a82881ac0.bindPopup%28popup_3ddf26ce9a854dd7a28d08ee56e43386%29%0A%20%20%20%20%20%20%20%20%20%20%20%20%3B%0A%0A%20%20%20%20%20%20%20%20%20%20%20%20%0A%20%20%20%20%20%20%20%20%0A%20%20%20%20%0A%20%20%20%20%20%20%20%20var%20marker_aad0b1afda154417877dea4ee27bbb9e%20%3D%20L.marker%28%0A%20%20%20%20%20%20%20%20%20%20%20%20%5B1.364169955%2C%20103.84832%5D%2C%0A%20%20%20%20%20%20%20%20%20%20%20%20%7B%0A%20%20%20%20%20%20%20%20%20%20%20%20%20%20%20%20icon%3A%20new%20L.Icon.Default%28%29%2C%0A%20%20%20%20%20%20%20%20%20%20%20%20%20%20%20%20%7D%0A%20%20%20%20%20%20%20%20%20%20%20%20%29.addTo%28map_4534526a626c4964b48f5ef73708418f%29%3B%0A%20%20%20%20%20%20%20%20%0A%20%20%20%20%0A%20%20%20%20%20%20%20%20%20%20%20%20var%20popup_b4e553a633854cc7870f643733609603%20%3D%20L.popup%28%7BmaxWidth%3A%20%27100%25%27%0A%20%20%20%20%20%20%20%20%20%20%20%20%0A%20%20%20%20%20%20%20%20%20%20%20%20%7D%29%3B%0A%0A%20%20%20%20%20%20%20%20%20%20%20%20%0A%20%20%20%20%20%20%20%20%20%20%20%20%20%20%20%20var%20html_b6ae6bae82d041afa08da77edaad3657%20%3D%20%24%28%60%3Cdiv%20id%3D%22html_b6ae6bae82d041afa08da77edaad3657%22%20style%3D%22width%3A%20100.0%25%3B%20height%3A%20100.0%25%3B%22%3EAng%20Mo%20Kio%20Ave%201%20Blk%20341%20%28Teck%20Ghee%20Court%29%3C/div%3E%60%29%5B0%5D%3B%0A%20%20%20%20%20%20%20%20%20%20%20%20%20%20%20%20popup_b4e553a633854cc7870f643733609603.setContent%28html_b6ae6bae82d041afa08da77edaad3657%29%3B%0A%20%20%20%20%20%20%20%20%20%20%20%20%0A%0A%20%20%20%20%20%20%20%20%20%20%20%20marker_aad0b1afda154417877dea4ee27bbb9e.bindPopup%28popup_b4e553a633854cc7870f643733609603%29%0A%20%20%20%20%20%20%20%20%20%20%20%20%3B%0A%0A%20%20%20%20%20%20%20%20%20%20%20%20%0A%20%20%20%20%20%20%20%20%0A%20%20%20%20%0A%20%20%20%20%20%20%20%20var%20marker_4f8a14effcea4aabbd6b043988db82b1%20%3D%20L.marker%28%0A%20%20%20%20%20%20%20%20%20%20%20%20%5B1.362730026%2C%20103.8553772%5D%2C%0A%20%20%20%20%20%20%20%20%20%20%20%20%7B%0A%20%20%20%20%20%20%20%20%20%20%20%20%20%20%20%20icon%3A%20new%20L.Icon.Default%28%29%2C%0A%20%20%20%20%20%20%20%20%20%20%20%20%20%20%20%20%7D%0A%20%20%20%20%20%20%20%20%20%20%20%20%29.addTo%28map_4534526a626c4964b48f5ef73708418f%29%3B%0A%20%20%20%20%20%20%20%20%0A%20%20%20%20%0A%20%20%20%20%20%20%20%20%20%20%20%20var%20popup_ae5c2d3aa8534eb7ad40ed621bd4cfdf%20%3D%20L.popup%28%7BmaxWidth%3A%20%27100%25%27%0A%20%20%20%20%20%20%20%20%20%20%20%20%0A%20%20%20%20%20%20%20%20%20%20%20%20%7D%29%3B%0A%0A%20%20%20%20%20%20%20%20%20%20%20%20%0A%20%20%20%20%20%20%20%20%20%20%20%20%20%20%20%20var%20html_10ac394596734e5f85aa37f0c648de6f%20%3D%20%24%28%60%3Cdiv%20id%3D%22html_10ac394596734e5f85aa37f0c648de6f%22%20style%3D%22width%3A%20100.0%25%3B%20height%3A%20100.0%25%3B%22%3EAng%20Mo%20Kio%20Ave%2010%20Blk%20409%20%28Teck%20Ghee%20Square%29%3C/div%3E%60%29%5B0%5D%3B%0A%20%20%20%20%20%20%20%20%20%20%20%20%20%20%20%20popup_ae5c2d3aa8534eb7ad40ed621bd4cfdf.setContent%28html_10ac394596734e5f85aa37f0c648de6f%29%3B%0A%20%20%20%20%20%20%20%20%20%20%20%20%0A%0A%20%20%20%20%20%20%20%20%20%20%20%20marker_4f8a14effcea4aabbd6b043988db82b1.bindPopup%28popup_ae5c2d3aa8534eb7ad40ed621bd4cfdf%29%0A%20%20%20%20%20%20%20%20%20%20%20%20%3B%0A%0A%20%20%20%20%20%20%20%20%20%20%20%20%0A%20%20%20%20%20%20%20%20%0A%20%20%20%20%0A%20%20%20%20%20%20%20%20var%20marker_f6524bf24b84460faf0e66cc024cb909%20%3D%20L.marker%28%0A%20%20%20%20%20%20%20%20%20%20%20%20%5B1.368299961%2C%20103.8564377%5D%2C%0A%20%20%20%20%20%20%20%20%20%20%20%20%7B%0A%20%20%20%20%20%20%20%20%20%20%20%20%20%20%20%20icon%3A%20new%20L.Icon.Default%28%29%2C%0A%20%20%20%20%20%20%20%20%20%20%20%20%20%20%20%20%7D%0A%20%20%20%20%20%20%20%20%20%20%20%20%29.addTo%28map_4534526a626c4964b48f5ef73708418f%29%3B%0A%20%20%20%20%20%20%20%20%0A%20%20%20%20%0A%20%20%20%20%20%20%20%20%20%20%20%20var%20popup_3c664850196a4eb2acacc0869ef628a3%20%3D%20L.popup%28%7BmaxWidth%3A%20%27100%25%27%0A%20%20%20%20%20%20%20%20%20%20%20%20%0A%20%20%20%20%20%20%20%20%20%20%20%20%7D%29%3B%0A%0A%20%20%20%20%20%20%20%20%20%20%20%20%0A%20%20%20%20%20%20%20%20%20%20%20%20%20%20%20%20var%20html_c3cdd0e2ab374cad9ed089a1409d3498%20%3D%20%24%28%60%3Cdiv%20id%3D%22html_c3cdd0e2ab374cad9ed089a1409d3498%22%20style%3D%22width%3A%20100.0%25%3B%20height%3A%20100.0%25%3B%22%3EAng%20Mo%20Kio%20Ave%2010%20Blk%20453A%20%28Chong%20Boon%20Market%20and%20Food%20Centre%29%3C/div%3E%60%29%5B0%5D%3B%0A%20%20%20%20%20%20%20%20%20%20%20%20%20%20%20%20popup_3c664850196a4eb2acacc0869ef628a3.setContent%28html_c3cdd0e2ab374cad9ed089a1409d3498%29%3B%0A%20%20%20%20%20%20%20%20%20%20%20%20%0A%0A%20%20%20%20%20%20%20%20%20%20%20%20marker_f6524bf24b84460faf0e66cc024cb909.bindPopup%28popup_3c664850196a4eb2acacc0869ef628a3%29%0A%20%20%20%20%20%20%20%20%20%20%20%20%3B%0A%0A%20%20%20%20%20%20%20%20%20%20%20%20%0A%20%20%20%20%20%20%20%20%0A%20%20%20%20%0A%20%20%20%20%20%20%20%20var%20marker_fa79960a5bd145a0840acfaa82ad24d5%20%3D%20L.marker%28%0A%20%20%20%20%20%20%20%20%20%20%20%20%5B1.37270999%2C%20103.8544464%5D%2C%0A%20%20%20%20%20%20%20%20%20%20%20%20%7B%0A%20%20%20%20%20%20%20%20%20%20%20%20%20%20%20%20icon%3A%20new%20L.Icon.Default%28%29%2C%0A%20%20%20%20%20%20%20%20%20%20%20%20%20%20%20%20%7D%0A%20%20%20%20%20%20%20%20%20%20%20%20%29.addTo%28map_4534526a626c4964b48f5ef73708418f%29%3B%0A%20%20%20%20%20%20%20%20%0A%20%20%20%20%0A%20%20%20%20%20%20%20%20%20%20%20%20var%20popup_7f20be6d8d684c758f0f4d6f786bde46%20%3D%20L.popup%28%7BmaxWidth%3A%20%27100%25%27%0A%20%20%20%20%20%20%20%20%20%20%20%20%0A%20%20%20%20%20%20%20%20%20%20%20%20%7D%29%3B%0A%0A%20%20%20%20%20%20%20%20%20%20%20%20%0A%20%20%20%20%20%20%20%20%20%20%20%20%20%20%20%20var%20html_19bb48c180784552a047b0296cfb22f8%20%3D%20%24%28%60%3Cdiv%20id%3D%22html_19bb48c180784552a047b0296cfb22f8%22%20style%3D%22width%3A%20100.0%25%3B%20height%3A%20100.0%25%3B%22%3EAng%20Mo%20Kio%20Ave%2010%20Blk%20527%20%28Cheng%20San%20Market%20and%20Cooked%20Food%20Centre%29%3C/div%3E%60%29%5B0%5D%3B%0A%20%20%20%20%20%20%20%20%20%20%20%20%20%20%20%20popup_7f20be6d8d684c758f0f4d6f786bde46.setContent%28html_19bb48c180784552a047b0296cfb22f8%29%3B%0A%20%20%20%20%20%20%20%20%20%20%20%20%0A%0A%20%20%20%20%20%20%20%20%20%20%20%20marker_fa79960a5bd145a0840acfaa82ad24d5.bindPopup%28popup_7f20be6d8d684c758f0f4d6f786bde46%29%0A%20%20%20%20%20%20%20%20%20%20%20%20%3B%0A%0A%20%20%20%20%20%20%20%20%20%20%20%20%0A%20%20%20%20%20%20%20%20%0A%20%20%20%20%0A%20%20%20%20%20%20%20%20var%20marker_f6541fdd28964d789db046b44aa3f507%20%3D%20L.marker%28%0A%20%20%20%20%20%20%20%20%20%20%20%20%5B1.3746000530000002%2C%20103.839241%5D%2C%0A%20%20%20%20%20%20%20%20%20%20%20%20%7B%0A%20%20%20%20%20%20%20%20%20%20%20%20%20%20%20%20icon%3A%20new%20L.Icon.Default%28%29%2C%0A%20%20%20%20%20%20%20%20%20%20%20%20%20%20%20%20%7D%0A%20%20%20%20%20%20%20%20%20%20%20%20%29.addTo%28map_4534526a626c4964b48f5ef73708418f%29%3B%0A%20%20%20%20%20%20%20%20%0A%20%20%20%20%0A%20%20%20%20%20%20%20%20%20%20%20%20var%20popup_519bf8bc22414d9182c4a9cda96eba17%20%3D%20L.popup%28%7BmaxWidth%3A%20%27100%25%27%0A%20%20%20%20%20%20%20%20%20%20%20%20%0A%20%20%20%20%20%20%20%20%20%20%20%20%7D%29%3B%0A%0A%20%20%20%20%20%20%20%20%20%20%20%20%0A%20%20%20%20%20%20%20%20%20%20%20%20%20%20%20%20var%20html_1851d55f91e5484c97c9c4b2471425d9%20%3D%20%24%28%60%3Cdiv%20id%3D%22html_1851d55f91e5484c97c9c4b2471425d9%22%20style%3D%22width%3A%20100.0%25%3B%20height%3A%20100.0%25%3B%22%3EAng%20Mo%20Kio%20Ave%204%20Blk%20160/162%20%28Mayflower%20Market%29%3C/div%3E%60%29%5B0%5D%3B%0A%20%20%20%20%20%20%20%20%20%20%20%20%20%20%20%20popup_519bf8bc22414d9182c4a9cda96eba17.setContent%28html_1851d55f91e5484c97c9c4b2471425d9%29%3B%0A%20%20%20%20%20%20%20%20%20%20%20%20%0A%0A%20%20%20%20%20%20%20%20%20%20%20%20marker_f6541fdd28964d789db046b44aa3f507.bindPopup%28popup_519bf8bc22414d9182c4a9cda96eba17%29%0A%20%20%20%20%20%20%20%20%20%20%20%20%3B%0A%0A%20%20%20%20%20%20%20%20%20%20%20%20%0A%20%20%20%20%20%20%20%20%0A%20%20%20%20%0A%20%20%20%20%20%20%20%20var%20marker_04f207bb029d4df381778b2db91aa417%20%3D%20L.marker%28%0A%20%20%20%20%20%20%20%20%20%20%20%20%5B1.38066268%2C%20103.84075159999999%5D%2C%0A%20%20%20%20%20%20%20%20%20%20%20%20%7B%0A%20%20%20%20%20%20%20%20%20%20%20%20%20%20%20%20icon%3A%20new%20L.Icon.Default%28%29%2C%0A%20%20%20%20%20%20%20%20%20%20%20%20%20%20%20%20%7D%0A%20%20%20%20%20%20%20%20%20%20%20%20%29.addTo%28map_4534526a626c4964b48f5ef73708418f%29%3B%0A%20%20%20%20%20%20%20%20%0A%20%20%20%20%0A%20%20%20%20%20%20%20%20%20%20%20%20var%20popup_6bcbf2f89be94102bafebad682a5a53f%20%3D%20L.popup%28%7BmaxWidth%3A%20%27100%25%27%0A%20%20%20%20%20%20%20%20%20%20%20%20%0A%20%20%20%20%20%20%20%20%20%20%20%20%7D%29%3B%0A%0A%20%20%20%20%20%20%20%20%20%20%20%20%0A%20%20%20%20%20%20%20%20%20%20%20%20%20%20%20%20var%20html_5cea09bee9f2429d8f86a70b1aaaba8e%20%3D%20%24%28%60%3Cdiv%20id%3D%22html_5cea09bee9f2429d8f86a70b1aaaba8e%22%20style%3D%22width%3A%20100.0%25%3B%20height%3A%20100.0%25%3B%22%3EAng%20Mo%20Kio%20Ave%204%20Blk%20628%20%28Ang%20Mo%20Kio%20628%20Market%29%3C/div%3E%60%29%5B0%5D%3B%0A%20%20%20%20%20%20%20%20%20%20%20%20%20%20%20%20popup_6bcbf2f89be94102bafebad682a5a53f.setContent%28html_5cea09bee9f2429d8f86a70b1aaaba8e%29%3B%0A%20%20%20%20%20%20%20%20%20%20%20%20%0A%0A%20%20%20%20%20%20%20%20%20%20%20%20marker_04f207bb029d4df381778b2db91aa417.bindPopup%28popup_6bcbf2f89be94102bafebad682a5a53f%29%0A%20%20%20%20%20%20%20%20%20%20%20%20%3B%0A%0A%20%20%20%20%20%20%20%20%20%20%20%20%0A%20%20%20%20%20%20%20%20%0A%20%20%20%20%0A%20%20%20%20%20%20%20%20var%20marker_ba12cb46117644638b4849533a595e8e%20%3D%20L.marker%28%0A%20%20%20%20%20%20%20%20%20%20%20%20%5B1.3720400330000002%2C%20103.8464966%5D%2C%0A%20%20%20%20%20%20%20%20%20%20%20%20%7B%0A%20%20%20%20%20%20%20%20%20%20%20%20%20%20%20%20icon%3A%20new%20L.Icon.Default%28%29%2C%0A%20%20%20%20%20%20%20%20%20%20%20%20%20%20%20%20%7D%0A%20%20%20%20%20%20%20%20%20%20%20%20%29.addTo%28map_4534526a626c4964b48f5ef73708418f%29%3B%0A%20%20%20%20%20%20%20%20%0A%20%20%20%20%0A%20%20%20%20%20%20%20%20%20%20%20%20var%20popup_fe39582f16334c1795011e2057724872%20%3D%20L.popup%28%7BmaxWidth%3A%20%27100%25%27%0A%20%20%20%20%20%20%20%20%20%20%20%20%0A%20%20%20%20%20%20%20%20%20%20%20%20%7D%29%3B%0A%0A%20%20%20%20%20%20%20%20%20%20%20%20%0A%20%20%20%20%20%20%20%20%20%20%20%20%20%20%20%20var%20html_658caa9e13be49d6a2f954bdb537a043%20%3D%20%24%28%60%3Cdiv%20id%3D%22html_658caa9e13be49d6a2f954bdb537a043%22%20style%3D%22width%3A%20100.0%25%3B%20height%3A%20100.0%25%3B%22%3EAng%20Mo%20Kio%20Ave%206%20Blk%20724%20%28Blk%20724%20Ang%20Mo%20Kio%20Market%29%3C/div%3E%60%29%5B0%5D%3B%0A%20%20%20%20%20%20%20%20%20%20%20%20%20%20%20%20popup_fe39582f16334c1795011e2057724872.setContent%28html_658caa9e13be49d6a2f954bdb537a043%29%3B%0A%20%20%20%20%20%20%20%20%20%20%20%20%0A%0A%20%20%20%20%20%20%20%20%20%20%20%20marker_ba12cb46117644638b4849533a595e8e.bindPopup%28popup_fe39582f16334c1795011e2057724872%29%0A%20%20%20%20%20%20%20%20%20%20%20%20%3B%0A%0A%20%20%20%20%20%20%20%20%20%20%20%20%0A%20%20%20%20%20%20%20%20%0A%20%20%20%20%0A%20%20%20%20%20%20%20%20var%20marker_8b8fe1f63f9045ee98586180128acbac%20%3D%20L.marker%28%0A%20%20%20%20%20%20%20%20%20%20%20%20%5B1.367266059%2C%20103.8399429%5D%2C%0A%20%20%20%20%20%20%20%20%20%20%20%20%7B%0A%20%20%20%20%20%20%20%20%20%20%20%20%20%20%20%20icon%3A%20new%20L.Icon.Default%28%29%2C%0A%20%20%20%20%20%20%20%20%20%20%20%20%20%20%20%20%7D%0A%20%20%20%20%20%20%20%20%20%20%20%20%29.addTo%28map_4534526a626c4964b48f5ef73708418f%29%3B%0A%20%20%20%20%20%20%20%20%0A%20%20%20%20%0A%20%20%20%20%20%20%20%20%20%20%20%20var%20popup_68f86d6115744e65b1e38dbe11d15951%20%3D%20L.popup%28%7BmaxWidth%3A%20%27100%25%27%0A%20%20%20%20%20%20%20%20%20%20%20%20%0A%20%20%20%20%20%20%20%20%20%20%20%20%7D%29%3B%0A%0A%20%20%20%20%20%20%20%20%20%20%20%20%0A%20%20%20%20%20%20%20%20%20%20%20%20%20%20%20%20var%20html_da5f4dd5015346cdbf1ed59c45c9ad47%20%3D%20%24%28%60%3Cdiv%20id%3D%22html_da5f4dd5015346cdbf1ed59c45c9ad47%22%20style%3D%22width%3A%20100.0%25%3B%20height%3A%20100.0%25%3B%22%3EAng%20Mo%20Kio%20Street%2022%20Blk%20226H%20%28Kebun%20Baru%20Food%20Centre%29%3C/div%3E%60%29%5B0%5D%3B%0A%20%20%20%20%20%20%20%20%20%20%20%20%20%20%20%20popup_68f86d6115744e65b1e38dbe11d15951.setContent%28html_da5f4dd5015346cdbf1ed59c45c9ad47%29%3B%0A%20%20%20%20%20%20%20%20%20%20%20%20%0A%0A%20%20%20%20%20%20%20%20%20%20%20%20marker_8b8fe1f63f9045ee98586180128acbac.bindPopup%28popup_68f86d6115744e65b1e38dbe11d15951%29%0A%20%20%20%20%20%20%20%20%20%20%20%20%3B%0A%0A%20%20%20%20%20%20%20%20%20%20%20%20%0A%20%20%20%20%20%20%20%20%0A%20%20%20%20%0A%20%20%20%20%20%20%20%20var%20marker_f483013ef1b64ac898a823a15af3afb9%20%3D%20L.marker%28%0A%20%20%20%20%20%20%20%20%20%20%20%20%5B1.320353031%2C%20103.95547490000001%5D%2C%0A%20%20%20%20%20%20%20%20%20%20%20%20%7B%0A%20%20%20%20%20%20%20%20%20%20%20%20%20%20%20%20icon%3A%20new%20L.Icon.Default%28%29%2C%0A%20%20%20%20%20%20%20%20%20%20%20%20%20%20%20%20%7D%0A%20%20%20%20%20%20%20%20%20%20%20%20%29.addTo%28map_4534526a626c4964b48f5ef73708418f%29%3B%0A%20%20%20%20%20%20%20%20%0A%20%20%20%20%0A%20%20%20%20%20%20%20%20%20%20%20%20var%20popup_b640239843844565bee79731204e4126%20%3D%20L.popup%28%7BmaxWidth%3A%20%27100%25%27%0A%20%20%20%20%20%20%20%20%20%20%20%20%0A%20%20%20%20%20%20%20%20%20%20%20%20%7D%29%3B%0A%0A%20%20%20%20%20%20%20%20%20%20%20%20%0A%20%20%20%20%20%20%20%20%20%20%20%20%20%20%20%20var%20html_90a9ec5cb3ad4bc9858a0048564592c5%20%3D%20%24%28%60%3Cdiv%20id%3D%22html_90a9ec5cb3ad4bc9858a0048564592c5%22%20style%3D%22width%3A%20100.0%25%3B%20height%3A%20100.0%25%3B%22%3EBedok%20Food%20Centre%3C/div%3E%60%29%5B0%5D%3B%0A%20%20%20%20%20%20%20%20%20%20%20%20%20%20%20%20popup_b640239843844565bee79731204e4126.setContent%28html_90a9ec5cb3ad4bc9858a0048564592c5%29%3B%0A%20%20%20%20%20%20%20%20%20%20%20%20%0A%0A%20%20%20%20%20%20%20%20%20%20%20%20marker_f483013ef1b64ac898a823a15af3afb9.bindPopup%28popup_b640239843844565bee79731204e4126%29%0A%20%20%20%20%20%20%20%20%20%20%20%20%3B%0A%0A%20%20%20%20%20%20%20%20%20%20%20%20%0A%20%20%20%20%20%20%20%20%0A%20%20%20%20%0A%20%20%20%20%20%20%20%20var%20marker_0e96a06547864806b807d30a3ee5ab10%20%3D%20L.marker%28%0A%20%20%20%20%20%20%20%20%20%20%20%20%5B1.327119946%2C%20103.9332962%5D%2C%0A%20%20%20%20%20%20%20%20%20%20%20%20%7B%0A%20%20%20%20%20%20%20%20%20%20%20%20%20%20%20%20icon%3A%20new%20L.Icon.Default%28%29%2C%0A%20%20%20%20%20%20%20%20%20%20%20%20%20%20%20%20%7D%0A%20%20%20%20%20%20%20%20%20%20%20%20%29.addTo%28map_4534526a626c4964b48f5ef73708418f%29%3B%0A%20%20%20%20%20%20%20%20%0A%20%20%20%20%0A%20%20%20%20%20%20%20%20%20%20%20%20var%20popup_99b409b567354ef4a1b2876b4476b2c1%20%3D%20L.popup%28%7BmaxWidth%3A%20%27100%25%27%0A%20%20%20%20%20%20%20%20%20%20%20%20%0A%20%20%20%20%20%20%20%20%20%20%20%20%7D%29%3B%0A%0A%20%20%20%20%20%20%20%20%20%20%20%20%0A%20%20%20%20%20%20%20%20%20%20%20%20%20%20%20%20var%20html_960a93503399491e8ed1a69c3ba48e49%20%3D%20%24%28%60%3Cdiv%20id%3D%22html_960a93503399491e8ed1a69c3ba48e49%22%20style%3D%22width%3A%20100.0%25%3B%20height%3A%20100.0%25%3B%22%3EBedok%20North%20Street%201%20Blk%20216%3C/div%3E%60%29%5B0%5D%3B%0A%20%20%20%20%20%20%20%20%20%20%20%20%20%20%20%20popup_99b409b567354ef4a1b2876b4476b2c1.setContent%28html_960a93503399491e8ed1a69c3ba48e49%29%3B%0A%20%20%20%20%20%20%20%20%20%20%20%20%0A%0A%20%20%20%20%20%20%20%20%20%20%20%20marker_0e96a06547864806b807d30a3ee5ab10.bindPopup%28popup_99b409b567354ef4a1b2876b4476b2c1%29%0A%20%20%20%20%20%20%20%20%20%20%20%20%3B%0A%0A%20%20%20%20%20%20%20%20%20%20%20%20%0A%20%20%20%20%20%20%20%20%0A%20%20%20%20%0A%20%20%20%20%20%20%20%20var%20marker_226544b4cc2d42e5aa2943af27923faf%20%3D%20L.marker%28%0A%20%20%20%20%20%20%20%20%20%20%20%20%5B1.333310008%2C%20103.930687%5D%2C%0A%20%20%20%20%20%20%20%20%20%20%20%20%7B%0A%20%20%20%20%20%20%20%20%20%20%20%20%20%20%20%20icon%3A%20new%20L.Icon.Default%28%29%2C%0A%20%20%20%20%20%20%20%20%20%20%20%20%20%20%20%20%7D%0A%20%20%20%20%20%20%20%20%20%20%20%20%29.addTo%28map_4534526a626c4964b48f5ef73708418f%29%3B%0A%20%20%20%20%20%20%20%20%0A%20%20%20%20%0A%20%20%20%20%20%20%20%20%20%20%20%20var%20popup_ab1b71e467ce486a8f2849661135d863%20%3D%20L.popup%28%7BmaxWidth%3A%20%27100%25%27%0A%20%20%20%20%20%20%20%20%20%20%20%20%0A%20%20%20%20%20%20%20%20%20%20%20%20%7D%29%3B%0A%0A%20%20%20%20%20%20%20%20%20%20%20%20%0A%20%20%20%20%20%20%20%20%20%20%20%20%20%20%20%20var%20html_89525583873d48eab218a8a303d0c3a6%20%3D%20%24%28%60%3Cdiv%20id%3D%22html_89525583873d48eab218a8a303d0c3a6%22%20style%3D%22width%3A%20100.0%25%3B%20height%3A%20100.0%25%3B%22%3EBedok%20North%20Street%203%20Blk%20511%20%28Kaki%20Bukit%20511%20Market%20and%20Food%20Centre%29%3C/div%3E%60%29%5B0%5D%3B%0A%20%20%20%20%20%20%20%20%20%20%20%20%20%20%20%20popup_ab1b71e467ce486a8f2849661135d863.setContent%28html_89525583873d48eab218a8a303d0c3a6%29%3B%0A%20%20%20%20%20%20%20%20%20%20%20%20%0A%0A%20%20%20%20%20%20%20%20%20%20%20%20marker_226544b4cc2d42e5aa2943af27923faf.bindPopup%28popup_ab1b71e467ce486a8f2849661135d863%29%0A%20%20%20%20%20%20%20%20%20%20%20%20%3B%0A%0A%20%20%20%20%20%20%20%20%20%20%20%20%0A%20%20%20%20%20%20%20%20%0A%20%20%20%20%0A%20%20%20%20%20%20%20%20var%20marker_a640fe4507d44b3597294de6b026a6fb%20%3D%20L.marker%28%0A%20%20%20%20%20%20%20%20%20%20%20%20%5B1.332100034%2C%20103.9247208%5D%2C%0A%20%20%20%20%20%20%20%20%20%20%20%20%7B%0A%20%20%20%20%20%20%20%20%20%20%20%20%20%20%20%20icon%3A%20new%20L.Icon.Default%28%29%2C%0A%20%20%20%20%20%20%20%20%20%20%20%20%20%20%20%20%7D%0A%20%20%20%20%20%20%20%20%20%20%20%20%29.addTo%28map_4534526a626c4964b48f5ef73708418f%29%3B%0A%20%20%20%20%20%20%20%20%0A%20%20%20%20%0A%20%20%20%20%20%20%20%20%20%20%20%20var%20popup_603c77ff390a4226b1808ee34d9c54cd%20%3D%20L.popup%28%7BmaxWidth%3A%20%27100%25%27%0A%20%20%20%20%20%20%20%20%20%20%20%20%0A%20%20%20%20%20%20%20%20%20%20%20%20%7D%29%3B%0A%0A%20%20%20%20%20%20%20%20%20%20%20%20%0A%20%20%20%20%20%20%20%20%20%20%20%20%20%20%20%20var%20html_4fcd249a6f5f4695a724f8dcbe76adee%20%3D%20%24%28%60%3Cdiv%20id%3D%22html_4fcd249a6f5f4695a724f8dcbe76adee%22%20style%3D%22width%3A%20100.0%25%3B%20height%3A%20100.0%25%3B%22%3EBedok%20North%20Street%203%20Blk%20538%3C/div%3E%60%29%5B0%5D%3B%0A%20%20%20%20%20%20%20%20%20%20%20%20%20%20%20%20popup_603c77ff390a4226b1808ee34d9c54cd.setContent%28html_4fcd249a6f5f4695a724f8dcbe76adee%29%3B%0A%20%20%20%20%20%20%20%20%20%20%20%20%0A%0A%20%20%20%20%20%20%20%20%20%20%20%20marker_a640fe4507d44b3597294de6b026a6fb.bindPopup%28popup_603c77ff390a4226b1808ee34d9c54cd%29%0A%20%20%20%20%20%20%20%20%20%20%20%20%3B%0A%0A%20%20%20%20%20%20%20%20%20%20%20%20%0A%20%20%20%20%20%20%20%20%0A%20%20%20%20%0A%20%20%20%20%20%20%20%20var%20marker_dcd6756e3a574ddab5d74952b95315f1%20%3D%20L.marker%28%0A%20%20%20%20%20%20%20%20%20%20%20%20%5B1.332059979%2C%20103.9388123%5D%2C%0A%20%20%20%20%20%20%20%20%20%20%20%20%7B%0A%20%20%20%20%20%20%20%20%20%20%20%20%20%20%20%20icon%3A%20new%20L.Icon.Default%28%29%2C%0A%20%20%20%20%20%20%20%20%20%20%20%20%20%20%20%20%7D%0A%20%20%20%20%20%20%20%20%20%20%20%20%29.addTo%28map_4534526a626c4964b48f5ef73708418f%29%3B%0A%20%20%20%20%20%20%20%20%0A%20%20%20%20%0A%20%20%20%20%20%20%20%20%20%20%20%20var%20popup_422bb173866e43078193771d9fe0e252%20%3D%20L.popup%28%7BmaxWidth%3A%20%27100%25%27%0A%20%20%20%20%20%20%20%20%20%20%20%20%0A%20%20%20%20%20%20%20%20%20%20%20%20%7D%29%3B%0A%0A%20%20%20%20%20%20%20%20%20%20%20%20%0A%20%20%20%20%20%20%20%20%20%20%20%20%20%20%20%20var%20html_38f72549ae904f258ba4024473e6ca1f%20%3D%20%24%28%60%3Cdiv%20id%3D%22html_38f72549ae904f258ba4024473e6ca1f%22%20style%3D%22width%3A%20100.0%25%3B%20height%3A%20100.0%25%3B%22%3EBedok%20North%20Street%204%20Blk%2085%20%2885%20Fengshan%20Centre%29%3C/div%3E%60%29%5B0%5D%3B%0A%20%20%20%20%20%20%20%20%20%20%20%20%20%20%20%20popup_422bb173866e43078193771d9fe0e252.setContent%28html_38f72549ae904f258ba4024473e6ca1f%29%3B%0A%20%20%20%20%20%20%20%20%20%20%20%20%0A%0A%20%20%20%20%20%20%20%20%20%20%20%20marker_dcd6756e3a574ddab5d74952b95315f1.bindPopup%28popup_422bb173866e43078193771d9fe0e252%29%0A%20%20%20%20%20%20%20%20%20%20%20%20%3B%0A%0A%20%20%20%20%20%20%20%20%20%20%20%20%0A%20%20%20%20%20%20%20%20%0A%20%20%20%20%0A%20%20%20%20%20%20%20%20var%20marker_3e58b14bfd574f258932fb00d28a538c%20%3D%20L.marker%28%0A%20%20%20%20%20%20%20%20%20%20%20%20%5B1.332980037%2C%20103.91420749999999%5D%2C%0A%20%20%20%20%20%20%20%20%20%20%20%20%7B%0A%20%20%20%20%20%20%20%20%20%20%20%20%20%20%20%20icon%3A%20new%20L.Icon.Default%28%29%2C%0A%20%20%20%20%20%20%20%20%20%20%20%20%20%20%20%20%7D%0A%20%20%20%20%20%20%20%20%20%20%20%20%29.addTo%28map_4534526a626c4964b48f5ef73708418f%29%3B%0A%20%20%20%20%20%20%20%20%0A%20%20%20%20%0A%20%20%20%20%20%20%20%20%20%20%20%20var%20popup_cdced92497454101b2d67263cc4cb432%20%3D%20L.popup%28%7BmaxWidth%3A%20%27100%25%27%0A%20%20%20%20%20%20%20%20%20%20%20%20%0A%20%20%20%20%20%20%20%20%20%20%20%20%7D%29%3B%0A%0A%20%20%20%20%20%20%20%20%20%20%20%20%0A%20%20%20%20%20%20%20%20%20%20%20%20%20%20%20%20var%20html_4c1d22230bce4f39b1ed121f0c3b15e9%20%3D%20%24%28%60%3Cdiv%20id%3D%22html_4c1d22230bce4f39b1ed121f0c3b15e9%22%20style%3D%22width%3A%20100.0%25%3B%20height%3A%20100.0%25%3B%22%3EBedok%20Reservoir%20Road%20Blk%20630%3C/div%3E%60%29%5B0%5D%3B%0A%20%20%20%20%20%20%20%20%20%20%20%20%20%20%20%20popup_cdced92497454101b2d67263cc4cb432.setContent%28html_4c1d22230bce4f39b1ed121f0c3b15e9%29%3B%0A%20%20%20%20%20%20%20%20%20%20%20%20%0A%0A%20%20%20%20%20%20%20%20%20%20%20%20marker_3e58b14bfd574f258932fb00d28a538c.bindPopup%28popup_cdced92497454101b2d67263cc4cb432%29%0A%20%20%20%20%20%20%20%20%20%20%20%20%3B%0A%0A%20%20%20%20%20%20%20%20%20%20%20%20%0A%20%20%20%20%20%20%20%20%0A%20%20%20%20%0A%20%20%20%20%20%20%20%20var%20marker_66cd8ba5d2d94e0c842a02f2343f6c13%20%3D%20L.marker%28%0A%20%20%20%20%20%20%20%20%20%20%20%20%5B1.320559978%2C%20103.9355469%5D%2C%0A%20%20%20%20%20%20%20%20%20%20%20%20%7B%0A%20%20%20%20%20%20%20%20%20%20%20%20%20%20%20%20icon%3A%20new%20L.Icon.Default%28%29%2C%0A%20%20%20%20%20%20%20%20%20%20%20%20%20%20%20%20%7D%0A%20%20%20%20%20%20%20%20%20%20%20%20%29.addTo%28map_4534526a626c4964b48f5ef73708418f%29%3B%0A%20%20%20%20%20%20%20%20%0A%20%20%20%20%0A%20%20%20%20%20%20%20%20%20%20%20%20var%20popup_91d9a16163fa469692e2adf5edfd3a39%20%3D%20L.popup%28%7BmaxWidth%3A%20%27100%25%27%0A%20%20%20%20%20%20%20%20%20%20%20%20%0A%20%20%20%20%20%20%20%20%20%20%20%20%7D%29%3B%0A%0A%20%20%20%20%20%20%20%20%20%20%20%20%0A%20%20%20%20%20%20%20%20%20%20%20%20%20%20%20%20var%20html_ebb0709183504db487ecccf6bcf55525%20%3D%20%24%28%60%3Cdiv%20id%3D%22html_ebb0709183504db487ecccf6bcf55525%22%20style%3D%22width%3A%20100.0%25%3B%20height%3A%20100.0%25%3B%22%3EBedok%20South%20Road%20Blk%2016%3C/div%3E%60%29%5B0%5D%3B%0A%20%20%20%20%20%20%20%20%20%20%20%20%20%20%20%20popup_91d9a16163fa469692e2adf5edfd3a39.setContent%28html_ebb0709183504db487ecccf6bcf55525%29%3B%0A%20%20%20%20%20%20%20%20%20%20%20%20%0A%0A%20%20%20%20%20%20%20%20%20%20%20%20marker_66cd8ba5d2d94e0c842a02f2343f6c13.bindPopup%28popup_91d9a16163fa469692e2adf5edfd3a39%29%0A%20%20%20%20%20%20%20%20%20%20%20%20%3B%0A%0A%20%20%20%20%20%20%20%20%20%20%20%20%0A%20%20%20%20%20%20%20%20%0A%20%20%20%20%0A%20%20%20%20%20%20%20%20var%20marker_5b936568b72248cfb85d12121e249a3a%20%3D%20L.marker%28%0A%20%20%20%20%20%20%20%20%20%20%20%20%5B1.3192800279999999%2C%20103.8630905%5D%2C%0A%20%20%20%20%20%20%20%20%20%20%20%20%7B%0A%20%20%20%20%20%20%20%20%20%20%20%20%20%20%20%20icon%3A%20new%20L.Icon.Default%28%29%2C%0A%20%20%20%20%20%20%20%20%20%20%20%20%20%20%20%20%7D%0A%20%20%20%20%20%20%20%20%20%20%20%20%29.addTo%28map_4534526a626c4964b48f5ef73708418f%29%3B%0A%20%20%20%20%20%20%20%20%0A%20%20%20%20%0A%20%20%20%20%20%20%20%20%20%20%20%20var%20popup_624d948ed37e4ed28f42aaad9a3a6fde%20%3D%20L.popup%28%7BmaxWidth%3A%20%27100%25%27%0A%20%20%20%20%20%20%20%20%20%20%20%20%0A%20%20%20%20%20%20%20%20%20%20%20%20%7D%29%3B%0A%0A%20%20%20%20%20%20%20%20%20%20%20%20%0A%20%20%20%20%20%20%20%20%20%20%20%20%20%20%20%20var%20html_9acdffcb84e8472cba3cc397329ad987%20%3D%20%24%28%60%3Cdiv%20id%3D%22html_9acdffcb84e8472cba3cc397329ad987%22%20style%3D%22width%3A%20100.0%25%3B%20height%3A%20100.0%25%3B%22%3EBendemeer%20Road%20Blk%2029%20%28Bendemeer%20Market%20and%20Food%20Centre%29%3C/div%3E%60%29%5B0%5D%3B%0A%20%20%20%20%20%20%20%20%20%20%20%20%20%20%20%20popup_624d948ed37e4ed28f42aaad9a3a6fde.setContent%28html_9acdffcb84e8472cba3cc397329ad987%29%3B%0A%20%20%20%20%20%20%20%20%20%20%20%20%0A%0A%20%20%20%20%20%20%20%20%20%20%20%20marker_5b936568b72248cfb85d12121e249a3a.bindPopup%28popup_624d948ed37e4ed28f42aaad9a3a6fde%29%0A%20%20%20%20%20%20%20%20%20%20%20%20%3B%0A%0A%20%20%20%20%20%20%20%20%20%20%20%20%0A%20%20%20%20%20%20%20%20%0A%20%20%20%20%0A%20%20%20%20%20%20%20%20var%20marker_39a702bc498648e49ae7e675faa30d54%20%3D%20L.marker%28%0A%20%20%20%20%20%20%20%20%20%20%20%20%5B1.28848803%2C%20103.82724759999999%5D%2C%0A%20%20%20%20%20%20%20%20%20%20%20%20%7B%0A%20%20%20%20%20%20%20%20%20%20%20%20%20%20%20%20icon%3A%20new%20L.Icon.Default%28%29%2C%0A%20%20%20%20%20%20%20%20%20%20%20%20%20%20%20%20%7D%0A%20%20%20%20%20%20%20%20%20%20%20%20%29.addTo%28map_4534526a626c4964b48f5ef73708418f%29%3B%0A%20%20%20%20%20%20%20%20%0A%20%20%20%20%0A%20%20%20%20%20%20%20%20%20%20%20%20var%20popup_cd1d2ffb9ef74e148f5c836fc5eb4004%20%3D%20L.popup%28%7BmaxWidth%3A%20%27100%25%27%0A%20%20%20%20%20%20%20%20%20%20%20%20%0A%20%20%20%20%20%20%20%20%20%20%20%20%7D%29%3B%0A%0A%20%20%20%20%20%20%20%20%20%20%20%20%0A%20%20%20%20%20%20%20%20%20%20%20%20%20%20%20%20var%20html_cfe64f88ea084c4185286b4cd102501b%20%3D%20%24%28%60%3Cdiv%20id%3D%22html_cfe64f88ea084c4185286b4cd102501b%22%20style%3D%22width%3A%20100.0%25%3B%20height%3A%20100.0%25%3B%22%3EBeo%20Crescent%20Market%3C/div%3E%60%29%5B0%5D%3B%0A%20%20%20%20%20%20%20%20%20%20%20%20%20%20%20%20popup_cd1d2ffb9ef74e148f5c836fc5eb4004.setContent%28html_cfe64f88ea084c4185286b4cd102501b%29%3B%0A%20%20%20%20%20%20%20%20%20%20%20%20%0A%0A%20%20%20%20%20%20%20%20%20%20%20%20marker_39a702bc498648e49ae7e675faa30d54.bindPopup%28popup_cd1d2ffb9ef74e148f5c836fc5eb4004%29%0A%20%20%20%20%20%20%20%20%20%20%20%20%3B%0A%0A%20%20%20%20%20%20%20%20%20%20%20%20%0A%20%20%20%20%20%20%20%20%0A%20%20%20%20%0A%20%20%20%20%20%20%20%20var%20marker_92f4ac6dcea04e82aa44dd644e19793d%20%3D%20L.marker%28%0A%20%20%20%20%20%20%20%20%20%20%20%20%5B1.3073350190000002%2C%20103.8568497%5D%2C%0A%20%20%20%20%20%20%20%20%20%20%20%20%7B%0A%20%20%20%20%20%20%20%20%20%20%20%20%20%20%20%20icon%3A%20new%20L.Icon.Default%28%29%2C%0A%20%20%20%20%20%20%20%20%20%20%20%20%20%20%20%20%7D%0A%20%20%20%20%20%20%20%20%20%20%20%20%29.addTo%28map_4534526a626c4964b48f5ef73708418f%29%3B%0A%20%20%20%20%20%20%20%20%0A%20%20%20%20%0A%20%20%20%20%20%20%20%20%20%20%20%20var%20popup_91bddbdfd14d403e8b46cc590e661c88%20%3D%20L.popup%28%7BmaxWidth%3A%20%27100%25%27%0A%20%20%20%20%20%20%20%20%20%20%20%20%0A%20%20%20%20%20%20%20%20%20%20%20%20%7D%29%3B%0A%0A%20%20%20%20%20%20%20%20%20%20%20%20%0A%20%20%20%20%20%20%20%20%20%20%20%20%20%20%20%20var%20html_7faacc9563c14cfb887ba2090bc78eeb%20%3D%20%24%28%60%3Cdiv%20id%3D%22html_7faacc9563c14cfb887ba2090bc78eeb%22%20style%3D%22width%3A%20100.0%25%3B%20height%3A%20100.0%25%3B%22%3EBerseh%20Food%20Centre%3C/div%3E%60%29%5B0%5D%3B%0A%20%20%20%20%20%20%20%20%20%20%20%20%20%20%20%20popup_91bddbdfd14d403e8b46cc590e661c88.setContent%28html_7faacc9563c14cfb887ba2090bc78eeb%29%3B%0A%20%20%20%20%20%20%20%20%20%20%20%20%0A%0A%20%20%20%20%20%20%20%20%20%20%20%20marker_92f4ac6dcea04e82aa44dd644e19793d.bindPopup%28popup_91bddbdfd14d403e8b46cc590e661c88%29%0A%20%20%20%20%20%20%20%20%20%20%20%20%3B%0A%0A%20%20%20%20%20%20%20%20%20%20%20%20%0A%20%20%20%20%20%20%20%20%0A%20%20%20%20%0A%20%20%20%20%20%20%20%20var%20marker_bb904a69b6b7477ca0521686c1ae2e8e%20%3D%20L.marker%28%0A%20%20%20%20%20%20%20%20%20%20%20%20%5B1.345280051%2C%20103.7128525%5D%2C%0A%20%20%20%20%20%20%20%20%20%20%20%20%7B%0A%20%20%20%20%20%20%20%20%20%20%20%20%20%20%20%20icon%3A%20new%20L.Icon.Default%28%29%2C%0A%20%20%20%20%20%20%20%20%20%20%20%20%20%20%20%20%7D%0A%20%20%20%20%20%20%20%20%20%20%20%20%29.addTo%28map_4534526a626c4964b48f5ef73708418f%29%3B%0A%20%20%20%20%20%20%20%20%0A%20%20%20%20%0A%20%20%20%20%20%20%20%20%20%20%20%20var%20popup_422a2af732ea44868e828fffa30dc3ba%20%3D%20L.popup%28%7BmaxWidth%3A%20%27100%25%27%0A%20%20%20%20%20%20%20%20%20%20%20%20%0A%20%20%20%20%20%20%20%20%20%20%20%20%7D%29%3B%0A%0A%20%20%20%20%20%20%20%20%20%20%20%20%0A%20%20%20%20%20%20%20%20%20%20%20%20%20%20%20%20var%20html_59b58105a4bf4d859cdae2c5036d97ce%20%3D%20%24%28%60%3Cdiv%20id%3D%22html_59b58105a4bf4d859cdae2c5036d97ce%22%20style%3D%22width%3A%20100.0%25%3B%20height%3A%20100.0%25%3B%22%3EBoon%20Lay%20Place%20Blk%20221A/B%20%28Boon%20Lay%20Place%20Market%20and%20Food%20Village%29%3C/div%3E%60%29%5B0%5D%3B%0A%20%20%20%20%20%20%20%20%20%20%20%20%20%20%20%20popup_422a2af732ea44868e828fffa30dc3ba.setContent%28html_59b58105a4bf4d859cdae2c5036d97ce%29%3B%0A%20%20%20%20%20%20%20%20%20%20%20%20%0A%0A%20%20%20%20%20%20%20%20%20%20%20%20marker_bb904a69b6b7477ca0521686c1ae2e8e.bindPopup%28popup_422a2af732ea44868e828fffa30dc3ba%29%0A%20%20%20%20%20%20%20%20%20%20%20%20%3B%0A%0A%20%20%20%20%20%20%20%20%20%20%20%20%0A%20%20%20%20%20%20%20%20%0A%20%20%20%20%0A%20%20%20%20%20%20%20%20var%20marker_1d140d357fbe44c4b680af67fc82cea3%20%3D%20L.marker%28%0A%20%20%20%20%20%20%20%20%20%20%20%20%5B1.306190014%2C%20103.8506699%5D%2C%0A%20%20%20%20%20%20%20%20%20%20%20%20%7B%0A%20%20%20%20%20%20%20%20%20%20%20%20%20%20%20%20icon%3A%20new%20L.Icon.Default%28%29%2C%0A%20%20%20%20%20%20%20%20%20%20%20%20%20%20%20%20%7D%0A%20%20%20%20%20%20%20%20%20%20%20%20%29.addTo%28map_4534526a626c4964b48f5ef73708418f%29%3B%0A%20%20%20%20%20%20%20%20%0A%20%20%20%20%0A%20%20%20%20%20%20%20%20%20%20%20%20var%20popup_65e97b57b04a4d12af4fb76b33da9ebf%20%3D%20L.popup%28%7BmaxWidth%3A%20%27100%25%27%0A%20%20%20%20%20%20%20%20%20%20%20%20%0A%20%20%20%20%20%20%20%20%20%20%20%20%7D%29%3B%0A%0A%20%20%20%20%20%20%20%20%20%20%20%20%0A%20%20%20%20%20%20%20%20%20%20%20%20%20%20%20%20var%20html_992b0d4539764c2181014f96d00db9f3%20%3D%20%24%28%60%3Cdiv%20id%3D%22html_992b0d4539764c2181014f96d00db9f3%22%20style%3D%22width%3A%20100.0%25%3B%20height%3A%20100.0%25%3B%22%3EBuffalo%20Road%20Blk%20665%20%28Tekka%20Centre/Zhu%20Jiao%20Market%29%3C/div%3E%60%29%5B0%5D%3B%0A%20%20%20%20%20%20%20%20%20%20%20%20%20%20%20%20popup_65e97b57b04a4d12af4fb76b33da9ebf.setContent%28html_992b0d4539764c2181014f96d00db9f3%29%3B%0A%20%20%20%20%20%20%20%20%20%20%20%20%0A%0A%20%20%20%20%20%20%20%20%20%20%20%20marker_1d140d357fbe44c4b680af67fc82cea3.bindPopup%28popup_65e97b57b04a4d12af4fb76b33da9ebf%29%0A%20%20%20%20%20%20%20%20%20%20%20%20%3B%0A%0A%20%20%20%20%20%20%20%20%20%20%20%20%0A%20%20%20%20%20%20%20%20%0A%20%20%20%20%0A%20%20%20%20%20%20%20%20var%20marker_e8a6290415274132bae9c2d6bac1084c%20%3D%20L.marker%28%0A%20%20%20%20%20%20%20%20%20%20%20%20%5B1.283740044%2C%20103.8171082%5D%2C%0A%20%20%20%20%20%20%20%20%20%20%20%20%7B%0A%20%20%20%20%20%20%20%20%20%20%20%20%20%20%20%20icon%3A%20new%20L.Icon.Default%28%29%2C%0A%20%20%20%20%20%20%20%20%20%20%20%20%20%20%20%20%7D%0A%20%20%20%20%20%20%20%20%20%20%20%20%29.addTo%28map_4534526a626c4964b48f5ef73708418f%29%3B%0A%20%20%20%20%20%20%20%20%0A%20%20%20%20%0A%20%20%20%20%20%20%20%20%20%20%20%20var%20popup_9a26b177ea3d425fbb324dcde7f39da1%20%3D%20L.popup%28%7BmaxWidth%3A%20%27100%25%27%0A%20%20%20%20%20%20%20%20%20%20%20%20%0A%20%20%20%20%20%20%20%20%20%20%20%20%7D%29%3B%0A%0A%20%20%20%20%20%20%20%20%20%20%20%20%0A%20%20%20%20%20%20%20%20%20%20%20%20%20%20%20%20var%20html_7319d3fd95544339ba86cb72abab1581%20%3D%20%24%28%60%3Cdiv%20id%3D%22html_7319d3fd95544339ba86cb72abab1581%22%20style%3D%22width%3A%20100.0%25%3B%20height%3A%20100.0%25%3B%22%3EBukit%20Merah%20Central%20Blk%20163%20%28Bukit%20Merah%20Central%20Food%20Centre%29%3C/div%3E%60%29%5B0%5D%3B%0A%20%20%20%20%20%20%20%20%20%20%20%20%20%20%20%20popup_9a26b177ea3d425fbb324dcde7f39da1.setContent%28html_7319d3fd95544339ba86cb72abab1581%29%3B%0A%20%20%20%20%20%20%20%20%20%20%20%20%0A%0A%20%20%20%20%20%20%20%20%20%20%20%20marker_e8a6290415274132bae9c2d6bac1084c.bindPopup%28popup_9a26b177ea3d425fbb324dcde7f39da1%29%0A%20%20%20%20%20%20%20%20%20%20%20%20%3B%0A%0A%20%20%20%20%20%20%20%20%20%20%20%20%0A%20%20%20%20%20%20%20%20%0A%20%20%20%20%0A%20%20%20%20%20%20%20%20var%20marker_7f405e108dcf406e826722e625b15b29%20%3D%20L.marker%28%0A%20%20%20%20%20%20%20%20%20%20%20%20%5B1.286360025%2C%20103.8045502%5D%2C%0A%20%20%20%20%20%20%20%20%20%20%20%20%7B%0A%20%20%20%20%20%20%20%20%20%20%20%20%20%20%20%20icon%3A%20new%20L.Icon.Default%28%29%2C%0A%20%20%20%20%20%20%20%20%20%20%20%20%20%20%20%20%7D%0A%20%20%20%20%20%20%20%20%20%20%20%20%29.addTo%28map_4534526a626c4964b48f5ef73708418f%29%3B%0A%20%20%20%20%20%20%20%20%0A%20%20%20%20%0A%20%20%20%20%20%20%20%20%20%20%20%20var%20popup_cd8aab00bfab4ca6aee445300e6b34d9%20%3D%20L.popup%28%7BmaxWidth%3A%20%27100%25%27%0A%20%20%20%20%20%20%20%20%20%20%20%20%0A%20%20%20%20%20%20%20%20%20%20%20%20%7D%29%3B%0A%0A%20%20%20%20%20%20%20%20%20%20%20%20%0A%20%20%20%20%20%20%20%20%20%20%20%20%20%20%20%20var%20html_81952477c56345f5b8f8d6541a9316f3%20%3D%20%24%28%60%3Cdiv%20id%3D%22html_81952477c56345f5b8f8d6541a9316f3%22%20style%3D%22width%3A%20100.0%25%3B%20height%3A%20100.0%25%3B%22%3EBukit%20Merah%20Lane%201%20Blk%20120%20%28Alexandra%20Village%20Food%20Centre%29%3C/div%3E%60%29%5B0%5D%3B%0A%20%20%20%20%20%20%20%20%20%20%20%20%20%20%20%20popup_cd8aab00bfab4ca6aee445300e6b34d9.setContent%28html_81952477c56345f5b8f8d6541a9316f3%29%3B%0A%20%20%20%20%20%20%20%20%20%20%20%20%0A%0A%20%20%20%20%20%20%20%20%20%20%20%20marker_7f405e108dcf406e826722e625b15b29.bindPopup%28popup_cd8aab00bfab4ca6aee445300e6b34d9%29%0A%20%20%20%20%20%20%20%20%20%20%20%20%3B%0A%0A%20%20%20%20%20%20%20%20%20%20%20%20%0A%20%20%20%20%20%20%20%20%0A%20%20%20%20%0A%20%20%20%20%20%20%20%20var%20marker_7c7d92b2363e469e86e68a2696e6371a%20%3D%20L.marker%28%0A%20%20%20%20%20%20%20%20%20%20%20%20%5B1.285240054%2C%20103.8223724%5D%2C%0A%20%20%20%20%20%20%20%20%20%20%20%20%7B%0A%20%20%20%20%20%20%20%20%20%20%20%20%20%20%20%20icon%3A%20new%20L.Icon.Default%28%29%2C%0A%20%20%20%20%20%20%20%20%20%20%20%20%20%20%20%20%7D%0A%20%20%20%20%20%20%20%20%20%20%20%20%29.addTo%28map_4534526a626c4964b48f5ef73708418f%29%3B%0A%20%20%20%20%20%20%20%20%0A%20%20%20%20%0A%20%20%20%20%20%20%20%20%20%20%20%20var%20popup_e168592a3c994d5ca4815f5b9bb61a64%20%3D%20L.popup%28%7BmaxWidth%3A%20%27100%25%27%0A%20%20%20%20%20%20%20%20%20%20%20%20%0A%20%20%20%20%20%20%20%20%20%20%20%20%7D%29%3B%0A%0A%20%20%20%20%20%20%20%20%20%20%20%20%0A%20%20%20%20%20%20%20%20%20%20%20%20%20%20%20%20var%20html_b072e5fdc4d44d8d8b16457fed0a342d%20%3D%20%24%28%60%3Cdiv%20id%3D%22html_b072e5fdc4d44d8d8b16457fed0a342d%22%20style%3D%22width%3A%20100.0%25%3B%20height%3A%20100.0%25%3B%22%3EBukit%20Merah%20View%20Blk%20115%20%28Blk%20115%20Bukit%20Merah%20View%20Market%20and%20Food%20Centre%29%3C/div%3E%60%29%5B0%5D%3B%0A%20%20%20%20%20%20%20%20%20%20%20%20%20%20%20%20popup_e168592a3c994d5ca4815f5b9bb61a64.setContent%28html_b072e5fdc4d44d8d8b16457fed0a342d%29%3B%0A%20%20%20%20%20%20%20%20%20%20%20%20%0A%0A%20%20%20%20%20%20%20%20%20%20%20%20marker_7c7d92b2363e469e86e68a2696e6371a.bindPopup%28popup_e168592a3c994d5ca4815f5b9bb61a64%29%0A%20%20%20%20%20%20%20%20%20%20%20%20%3B%0A%0A%20%20%20%20%20%20%20%20%20%20%20%20%0A%20%20%20%20%20%20%20%20%0A%20%20%20%20%0A%20%20%20%20%20%20%20%20var%20marker_f6d3392129804571ab0e29cf077d86f0%20%3D%20L.marker%28%0A%20%20%20%20%20%20%20%20%20%20%20%20%5B1.378269%2C%20103.772432%5D%2C%0A%20%20%20%20%20%20%20%20%20%20%20%20%7B%0A%20%20%20%20%20%20%20%20%20%20%20%20%20%20%20%20icon%3A%20new%20L.Icon.Default%28%29%2C%0A%20%20%20%20%20%20%20%20%20%20%20%20%20%20%20%20%7D%0A%20%20%20%20%20%20%20%20%20%20%20%20%29.addTo%28map_4534526a626c4964b48f5ef73708418f%29%3B%0A%20%20%20%20%20%20%20%20%0A%20%20%20%20%0A%20%20%20%20%20%20%20%20%20%20%20%20var%20popup_74ae4c7ebe944879946c77fe5e9003af%20%3D%20L.popup%28%7BmaxWidth%3A%20%27100%25%27%0A%20%20%20%20%20%20%20%20%20%20%20%20%0A%20%20%20%20%20%20%20%20%20%20%20%20%7D%29%3B%0A%0A%20%20%20%20%20%20%20%20%20%20%20%20%0A%20%20%20%20%20%20%20%20%20%20%20%20%20%20%20%20var%20html_5604714f9960432a9a9ea383d1dde23a%20%3D%20%24%28%60%3Cdiv%20id%3D%22html_5604714f9960432a9a9ea383d1dde23a%22%20style%3D%22width%3A%20100.0%25%3B%20height%3A%20100.0%25%3B%22%3EBukit%20Panjang%20Hawker%20Centre%20and%20Market%3C/div%3E%60%29%5B0%5D%3B%0A%20%20%20%20%20%20%20%20%20%20%20%20%20%20%20%20popup_74ae4c7ebe944879946c77fe5e9003af.setContent%28html_5604714f9960432a9a9ea383d1dde23a%29%3B%0A%20%20%20%20%20%20%20%20%20%20%20%20%0A%0A%20%20%20%20%20%20%20%20%20%20%20%20marker_f6d3392129804571ab0e29cf077d86f0.bindPopup%28popup_74ae4c7ebe944879946c77fe5e9003af%29%0A%20%20%20%20%20%20%20%20%20%20%20%20%3B%0A%0A%20%20%20%20%20%20%20%20%20%20%20%20%0A%20%20%20%20%20%20%20%20%0A%20%20%20%20%0A%20%20%20%20%20%20%20%20var%20marker_a0405c54152a4e8ca5715aa7c8019521%20%3D%20L.marker%28%0A%20%20%20%20%20%20%20%20%20%20%20%20%5B1.339645028%2C%20103.77580259999999%5D%2C%0A%20%20%20%20%20%20%20%20%20%20%20%20%7B%0A%20%20%20%20%20%20%20%20%20%20%20%20%20%20%20%20icon%3A%20new%20L.Icon.Default%28%29%2C%0A%20%20%20%20%20%20%20%20%20%20%20%20%20%20%20%20%7D%0A%20%20%20%20%20%20%20%20%20%20%20%20%29.addTo%28map_4534526a626c4964b48f5ef73708418f%29%3B%0A%20%20%20%20%20%20%20%20%0A%20%20%20%20%0A%20%20%20%20%20%20%20%20%20%20%20%20var%20popup_dfa1b5dcf4c1408e9bdeb33686f1b032%20%3D%20L.popup%28%7BmaxWidth%3A%20%27100%25%27%0A%20%20%20%20%20%20%20%20%20%20%20%20%0A%20%20%20%20%20%20%20%20%20%20%20%20%7D%29%3B%0A%0A%20%20%20%20%20%20%20%20%20%20%20%20%0A%20%20%20%20%20%20%20%20%20%20%20%20%20%20%20%20var%20html_0b5b5c44afce40cbaa9595570f3f9af5%20%3D%20%24%28%60%3Cdiv%20id%3D%22html_0b5b5c44afce40cbaa9595570f3f9af5%22%20style%3D%22width%3A%20100.0%25%3B%20height%3A%20100.0%25%3B%22%3EBukit%20Timah%20Market%3C/div%3E%60%29%5B0%5D%3B%0A%20%20%20%20%20%20%20%20%20%20%20%20%20%20%20%20popup_dfa1b5dcf4c1408e9bdeb33686f1b032.setContent%28html_0b5b5c44afce40cbaa9595570f3f9af5%29%3B%0A%20%20%20%20%20%20%20%20%20%20%20%20%0A%0A%20%20%20%20%20%20%20%20%20%20%20%20marker_a0405c54152a4e8ca5715aa7c8019521.bindPopup%28popup_dfa1b5dcf4c1408e9bdeb33686f1b032%29%0A%20%20%20%20%20%20%20%20%20%20%20%20%3B%0A%0A%20%20%20%20%20%20%20%20%20%20%20%20%0A%20%20%20%20%20%20%20%20%0A%20%20%20%20%0A%20%20%20%20%20%20%20%20var%20marker_5074a04d326a4caaa7e7c11d058d116b%20%3D%20L.marker%28%0A%20%20%20%20%20%20%20%20%20%20%20%20%5B1.316200018%2C%20103.85030359999999%5D%2C%0A%20%20%20%20%20%20%20%20%20%20%20%20%7B%0A%20%20%20%20%20%20%20%20%20%20%20%20%20%20%20%20icon%3A%20new%20L.Icon.Default%28%29%2C%0A%20%20%20%20%20%20%20%20%20%20%20%20%20%20%20%20%7D%0A%20%20%20%20%20%20%20%20%20%20%20%20%29.addTo%28map_4534526a626c4964b48f5ef73708418f%29%3B%0A%20%20%20%20%20%20%20%20%0A%20%20%20%20%0A%20%20%20%20%20%20%20%20%20%20%20%20var%20popup_ae23fc63078a4706891fedaf1ca13157%20%3D%20L.popup%28%7BmaxWidth%3A%20%27100%25%27%0A%20%20%20%20%20%20%20%20%20%20%20%20%0A%20%20%20%20%20%20%20%20%20%20%20%20%7D%29%3B%0A%0A%20%20%20%20%20%20%20%20%20%20%20%20%0A%20%20%20%20%20%20%20%20%20%20%20%20%20%20%20%20var%20html_fea7b87e56714cc39e8eacffe51f6983%20%3D%20%24%28%60%3Cdiv%20id%3D%22html_fea7b87e56714cc39e8eacffe51f6983%22%20style%3D%22width%3A%20100.0%25%3B%20height%3A%20100.0%25%3B%22%3ECambridge%20Road%20Blk%2041A%20%28Pek%20Kio%20Market%20and%20Food%20Centre%29%3C/div%3E%60%29%5B0%5D%3B%0A%20%20%20%20%20%20%20%20%20%20%20%20%20%20%20%20popup_ae23fc63078a4706891fedaf1ca13157.setContent%28html_fea7b87e56714cc39e8eacffe51f6983%29%3B%0A%20%20%20%20%20%20%20%20%20%20%20%20%0A%0A%20%20%20%20%20%20%20%20%20%20%20%20marker_5074a04d326a4caaa7e7c11d058d116b.bindPopup%28popup_ae23fc63078a4706891fedaf1ca13157%29%0A%20%20%20%20%20%20%20%20%20%20%20%20%3B%0A%0A%20%20%20%20%20%20%20%20%20%20%20%20%0A%20%20%20%20%20%20%20%20%0A%20%20%20%20%0A%20%20%20%20%20%20%20%20var%20marker_3c2dbb34bfb74e30ae4516764cb06681%20%3D%20L.marker%28%0A%20%20%20%20%20%20%20%20%20%20%20%20%5B1.3897199630000001%2C%20103.9881821%5D%2C%0A%20%20%20%20%20%20%20%20%20%20%20%20%7B%0A%20%20%20%20%20%20%20%20%20%20%20%20%20%20%20%20icon%3A%20new%20L.Icon.Default%28%29%2C%0A%20%20%20%20%20%20%20%20%20%20%20%20%20%20%20%20%7D%0A%20%20%20%20%20%20%20%20%20%20%20%20%29.addTo%28map_4534526a626c4964b48f5ef73708418f%29%3B%0A%20%20%20%20%20%20%20%20%0A%20%20%20%20%0A%20%20%20%20%20%20%20%20%20%20%20%20var%20popup_f3387e0a863c4f98a1b9a02ea6f1efea%20%3D%20L.popup%28%7BmaxWidth%3A%20%27100%25%27%0A%20%20%20%20%20%20%20%20%20%20%20%20%0A%20%20%20%20%20%20%20%20%20%20%20%20%7D%29%3B%0A%0A%20%20%20%20%20%20%20%20%20%20%20%20%0A%20%20%20%20%20%20%20%20%20%20%20%20%20%20%20%20var%20html_172b7d88091f49cb820ab9c118ad152f%20%3D%20%24%28%60%3Cdiv%20id%3D%22html_172b7d88091f49cb820ab9c118ad152f%22%20style%3D%22width%3A%20100.0%25%3B%20height%3A%20100.0%25%3B%22%3EChangi%20Village%20Blk%202%20and%203%3C/div%3E%60%29%5B0%5D%3B%0A%20%20%20%20%20%20%20%20%20%20%20%20%20%20%20%20popup_f3387e0a863c4f98a1b9a02ea6f1efea.setContent%28html_172b7d88091f49cb820ab9c118ad152f%29%3B%0A%20%20%20%20%20%20%20%20%20%20%20%20%0A%0A%20%20%20%20%20%20%20%20%20%20%20%20marker_3c2dbb34bfb74e30ae4516764cb06681.bindPopup%28popup_f3387e0a863c4f98a1b9a02ea6f1efea%29%0A%20%20%20%20%20%20%20%20%20%20%20%20%3B%0A%0A%20%20%20%20%20%20%20%20%20%20%20%20%0A%20%20%20%20%20%20%20%20%0A%20%20%20%20%0A%20%20%20%20%20%20%20%20var%20marker_049fbcdd011146fd972ddfeca44266a2%20%3D%20L.marker%28%0A%20%20%20%20%20%20%20%20%20%20%20%20%5B1.36422801%2C%20103.8665314%5D%2C%0A%20%20%20%20%20%20%20%20%20%20%20%20%7B%0A%20%20%20%20%20%20%20%20%20%20%20%20%20%20%20%20icon%3A%20new%20L.Icon.Default%28%29%2C%0A%20%20%20%20%20%20%20%20%20%20%20%20%20%20%20%20%7D%0A%20%20%20%20%20%20%20%20%20%20%20%20%29.addTo%28map_4534526a626c4964b48f5ef73708418f%29%3B%0A%20%20%20%20%20%20%20%20%0A%20%20%20%20%0A%20%20%20%20%20%20%20%20%20%20%20%20var%20popup_5e0eaf3c984947c79607ff028245e462%20%3D%20L.popup%28%7BmaxWidth%3A%20%27100%25%27%0A%20%20%20%20%20%20%20%20%20%20%20%20%0A%20%20%20%20%20%20%20%20%20%20%20%20%7D%29%3B%0A%0A%20%20%20%20%20%20%20%20%20%20%20%20%0A%20%20%20%20%20%20%20%20%20%20%20%20%20%20%20%20var%20html_54e1be0b46ab46a0ba0572a4391dfce2%20%3D%20%24%28%60%3Cdiv%20id%3D%22html_54e1be0b46ab46a0ba0572a4391dfce2%22%20style%3D%22width%3A%20100.0%25%3B%20height%3A%20100.0%25%3B%22%3EChomp%20Chomp%20Food%20Centre%3C/div%3E%60%29%5B0%5D%3B%0A%20%20%20%20%20%20%20%20%20%20%20%20%20%20%20%20popup_5e0eaf3c984947c79607ff028245e462.setContent%28html_54e1be0b46ab46a0ba0572a4391dfce2%29%3B%0A%20%20%20%20%20%20%20%20%20%20%20%20%0A%0A%20%20%20%20%20%20%20%20%20%20%20%20marker_049fbcdd011146fd972ddfeca44266a2.bindPopup%28popup_5e0eaf3c984947c79607ff028245e462%29%0A%20%20%20%20%20%20%20%20%20%20%20%20%3B%0A%0A%20%20%20%20%20%20%20%20%20%20%20%20%0A%20%20%20%20%20%20%20%20%0A%20%20%20%20%0A%20%20%20%20%20%20%20%20var%20marker_eabd09c3a06d42d6a763fbbc8389016d%20%3D%20L.marker%28%0A%20%20%20%20%20%20%20%20%20%20%20%20%5B1.3749377%2C%20103.8829472%5D%2C%0A%20%20%20%20%20%20%20%20%20%20%20%20%7B%0A%20%20%20%20%20%20%20%20%20%20%20%20%20%20%20%20icon%3A%20new%20L.Icon.Default%28%29%2C%0A%20%20%20%20%20%20%20%20%20%20%20%20%20%20%20%20%7D%0A%20%20%20%20%20%20%20%20%20%20%20%20%29.addTo%28map_4534526a626c4964b48f5ef73708418f%29%3B%0A%20%20%20%20%20%20%20%20%0A%20%20%20%20%0A%20%20%20%20%20%20%20%20%20%20%20%20var%20popup_c8fe047711534d2b9fef99259fcb5aa1%20%3D%20L.popup%28%7BmaxWidth%3A%20%27100%25%27%0A%20%20%20%20%20%20%20%20%20%20%20%20%0A%20%20%20%20%20%20%20%20%20%20%20%20%7D%29%3B%0A%0A%20%20%20%20%20%20%20%20%20%20%20%20%0A%20%20%20%20%20%20%20%20%20%20%20%20%20%20%20%20var%20html_6cab70de268e458e91165e228187298b%20%3D%20%24%28%60%3Cdiv%20id%3D%22html_6cab70de268e458e91165e228187298b%22%20style%3D%22width%3A%20100.0%25%3B%20height%3A%20100.0%25%3B%22%3ECi%20Yuan%20Hawker%20Centre%3C/div%3E%60%29%5B0%5D%3B%0A%20%20%20%20%20%20%20%20%20%20%20%20%20%20%20%20popup_c8fe047711534d2b9fef99259fcb5aa1.setContent%28html_6cab70de268e458e91165e228187298b%29%3B%0A%20%20%20%20%20%20%20%20%20%20%20%20%0A%0A%20%20%20%20%20%20%20%20%20%20%20%20marker_eabd09c3a06d42d6a763fbbc8389016d.bindPopup%28popup_c8fe047711534d2b9fef99259fcb5aa1%29%0A%20%20%20%20%20%20%20%20%20%20%20%20%3B%0A%0A%20%20%20%20%20%20%20%20%20%20%20%20%0A%20%20%20%20%20%20%20%20%0A%20%20%20%20%0A%20%20%20%20%20%20%20%20var%20marker_ebdb28360b2b41dbbafe80b9071b40bf%20%3D%20L.marker%28%0A%20%20%20%20%20%20%20%20%20%20%20%20%5B1.3266600370000001%2C%20103.8851166%5D%2C%0A%20%20%20%20%20%20%20%20%20%20%20%20%7B%0A%20%20%20%20%20%20%20%20%20%20%20%20%20%20%20%20icon%3A%20new%20L.Icon.Default%28%29%2C%0A%20%20%20%20%20%20%20%20%20%20%20%20%20%20%20%20%7D%0A%20%20%20%20%20%20%20%20%20%20%20%20%29.addTo%28map_4534526a626c4964b48f5ef73708418f%29%3B%0A%20%20%20%20%20%20%20%20%0A%20%20%20%20%0A%20%20%20%20%20%20%20%20%20%20%20%20var%20popup_ff919e5a3f0141c19308e21896f15215%20%3D%20L.popup%28%7BmaxWidth%3A%20%27100%25%27%0A%20%20%20%20%20%20%20%20%20%20%20%20%0A%20%20%20%20%20%20%20%20%20%20%20%20%7D%29%3B%0A%0A%20%20%20%20%20%20%20%20%20%20%20%20%0A%20%20%20%20%20%20%20%20%20%20%20%20%20%20%20%20var%20html_c28afc3dd0514b798cff82f414768cdb%20%3D%20%24%28%60%3Cdiv%20id%3D%22html_c28afc3dd0514b798cff82f414768cdb%22%20style%3D%22width%3A%20100.0%25%3B%20height%3A%20100.0%25%3B%22%3ECircuit%20Road%20Blk%2079/79A%3C/div%3E%60%29%5B0%5D%3B%0A%20%20%20%20%20%20%20%20%20%20%20%20%20%20%20%20popup_ff919e5a3f0141c19308e21896f15215.setContent%28html_c28afc3dd0514b798cff82f414768cdb%29%3B%0A%20%20%20%20%20%20%20%20%20%20%20%20%0A%0A%20%20%20%20%20%20%20%20%20%20%20%20marker_ebdb28360b2b41dbbafe80b9071b40bf.bindPopup%28popup_ff919e5a3f0141c19308e21896f15215%29%0A%20%20%20%20%20%20%20%20%20%20%20%20%3B%0A%0A%20%20%20%20%20%20%20%20%20%20%20%20%0A%20%20%20%20%20%20%20%20%0A%20%20%20%20%0A%20%20%20%20%20%20%20%20var%20marker_c139fa48fb1f49fb9b208a43728fc8ba%20%3D%20L.marker%28%0A%20%20%20%20%20%20%20%20%20%20%20%20%5B1.327900052%2C%20103.88715359999999%5D%2C%0A%20%20%20%20%20%20%20%20%20%20%20%20%7B%0A%20%20%20%20%20%20%20%20%20%20%20%20%20%20%20%20icon%3A%20new%20L.Icon.Default%28%29%2C%0A%20%20%20%20%20%20%20%20%20%20%20%20%20%20%20%20%7D%0A%20%20%20%20%20%20%20%20%20%20%20%20%29.addTo%28map_4534526a626c4964b48f5ef73708418f%29%3B%0A%20%20%20%20%20%20%20%20%0A%20%20%20%20%0A%20%20%20%20%20%20%20%20%20%20%20%20var%20popup_fd3960d9033d4dbe99c8819ce8c083a1%20%3D%20L.popup%28%7BmaxWidth%3A%20%27100%25%27%0A%20%20%20%20%20%20%20%20%20%20%20%20%0A%20%20%20%20%20%20%20%20%20%20%20%20%7D%29%3B%0A%0A%20%20%20%20%20%20%20%20%20%20%20%20%0A%20%20%20%20%20%20%20%20%20%20%20%20%20%20%20%20var%20html_3e20a2edbc644b1f9e58a4af38f255f7%20%3D%20%24%28%60%3Cdiv%20id%3D%22html_3e20a2edbc644b1f9e58a4af38f255f7%22%20style%3D%22width%3A%20100.0%25%3B%20height%3A%20100.0%25%3B%22%3ECircuit%20Road%20Blk%2080%20%2880%20Circuit%20Road%20Market%20and%20Food%20Centre%29%3C/div%3E%60%29%5B0%5D%3B%0A%20%20%20%20%20%20%20%20%20%20%20%20%20%20%20%20popup_fd3960d9033d4dbe99c8819ce8c083a1.setContent%28html_3e20a2edbc644b1f9e58a4af38f255f7%29%3B%0A%20%20%20%20%20%20%20%20%20%20%20%20%0A%0A%20%20%20%20%20%20%20%20%20%20%20%20marker_c139fa48fb1f49fb9b208a43728fc8ba.bindPopup%28popup_fd3960d9033d4dbe99c8819ce8c083a1%29%0A%20%20%20%20%20%20%20%20%20%20%20%20%3B%0A%0A%20%20%20%20%20%20%20%20%20%20%20%20%0A%20%20%20%20%20%20%20%20%0A%20%20%20%20%0A%20%20%20%20%20%20%20%20var%20marker_44d5eda806cf4afe90dec0ce427a72f2%20%3D%20L.marker%28%0A%20%20%20%20%20%20%20%20%20%20%20%20%5B1.3236399890000001%2C%20103.8855209%5D%2C%0A%20%20%20%20%20%20%20%20%20%20%20%20%7B%0A%20%20%20%20%20%20%20%20%20%20%20%20%20%20%20%20icon%3A%20new%20L.Icon.Default%28%29%2C%0A%20%20%20%20%20%20%20%20%20%20%20%20%20%20%20%20%7D%0A%20%20%20%20%20%20%20%20%20%20%20%20%29.addTo%28map_4534526a626c4964b48f5ef73708418f%29%3B%0A%20%20%20%20%20%20%20%20%0A%20%20%20%20%0A%20%20%20%20%20%20%20%20%20%20%20%20var%20popup_2b49feb2ebc54e579b3be78889329b0b%20%3D%20L.popup%28%7BmaxWidth%3A%20%27100%25%27%0A%20%20%20%20%20%20%20%20%20%20%20%20%0A%20%20%20%20%20%20%20%20%20%20%20%20%7D%29%3B%0A%0A%20%20%20%20%20%20%20%20%20%20%20%20%0A%20%20%20%20%20%20%20%20%20%20%20%20%20%20%20%20var%20html_6908a73f4ddb45619f4de72d888aaa1a%20%3D%20%24%28%60%3Cdiv%20id%3D%22html_6908a73f4ddb45619f4de72d888aaa1a%22%20style%3D%22width%3A%20100.0%25%3B%20height%3A%20100.0%25%3B%22%3ECircuit%20Road%20Blk%2089%3C/div%3E%60%29%5B0%5D%3B%0A%20%20%20%20%20%20%20%20%20%20%20%20%20%20%20%20popup_2b49feb2ebc54e579b3be78889329b0b.setContent%28html_6908a73f4ddb45619f4de72d888aaa1a%29%3B%0A%20%20%20%20%20%20%20%20%20%20%20%20%0A%0A%20%20%20%20%20%20%20%20%20%20%20%20marker_44d5eda806cf4afe90dec0ce427a72f2.bindPopup%28popup_2b49feb2ebc54e579b3be78889329b0b%29%0A%20%20%20%20%20%20%20%20%20%20%20%20%3B%0A%0A%20%20%20%20%20%20%20%20%20%20%20%20%0A%20%20%20%20%20%20%20%20%0A%20%20%20%20%0A%20%20%20%20%20%20%20%20var%20marker_0a5922d09eb84625a516724e601008d9%20%3D%20L.marker%28%0A%20%20%20%20%20%20%20%20%20%20%20%20%5B1.314337969%2C%20103.7707748%5D%2C%0A%20%20%20%20%20%20%20%20%20%20%20%20%7B%0A%20%20%20%20%20%20%20%20%20%20%20%20%20%20%20%20icon%3A%20new%20L.Icon.Default%28%29%2C%0A%20%20%20%20%20%20%20%20%20%20%20%20%20%20%20%20%7D%0A%20%20%20%20%20%20%20%20%20%20%20%20%29.addTo%28map_4534526a626c4964b48f5ef73708418f%29%3B%0A%20%20%20%20%20%20%20%20%0A%20%20%20%20%0A%20%20%20%20%20%20%20%20%20%20%20%20var%20popup_a3bef5a3c97a4eb1a84e6d0e76310ed6%20%3D%20L.popup%28%7BmaxWidth%3A%20%27100%25%27%0A%20%20%20%20%20%20%20%20%20%20%20%20%0A%20%20%20%20%20%20%20%20%20%20%20%20%7D%29%3B%0A%0A%20%20%20%20%20%20%20%20%20%20%20%20%0A%20%20%20%20%20%20%20%20%20%20%20%20%20%20%20%20var%20html_304c33c869b54be08dffddeee6bd347d%20%3D%20%24%28%60%3Cdiv%20id%3D%22html_304c33c869b54be08dffddeee6bd347d%22%20style%3D%22width%3A%20100.0%25%3B%20height%3A%20100.0%25%3B%22%3EClementi%20Ave%202%20Blk%20353%20%28Clementi%20Ave%202%20Market/Cooked%20Food%20Centre%29%3C/div%3E%60%29%5B0%5D%3B%0A%20%20%20%20%20%20%20%20%20%20%20%20%20%20%20%20popup_a3bef5a3c97a4eb1a84e6d0e76310ed6.setContent%28html_304c33c869b54be08dffddeee6bd347d%29%3B%0A%20%20%20%20%20%20%20%20%20%20%20%20%0A%0A%20%20%20%20%20%20%20%20%20%20%20%20marker_0a5922d09eb84625a516724e601008d9.bindPopup%28popup_a3bef5a3c97a4eb1a84e6d0e76310ed6%29%0A%20%20%20%20%20%20%20%20%20%20%20%20%3B%0A%0A%20%20%20%20%20%20%20%20%20%20%20%20%0A%20%20%20%20%20%20%20%20%0A%20%20%20%20%0A%20%20%20%20%20%20%20%20var%20marker_ab716e15a2a9429fbb7cb186a317ee89%20%3D%20L.marker%28%0A%20%20%20%20%20%20%20%20%20%20%20%20%5B1.313349962%2C%20103.76458740000001%5D%2C%0A%20%20%20%20%20%20%20%20%20%20%20%20%7B%0A%20%20%20%20%20%20%20%20%20%20%20%20%20%20%20%20icon%3A%20new%20L.Icon.Default%28%29%2C%0A%20%20%20%20%20%20%20%20%20%20%20%20%20%20%20%20%7D%0A%20%20%20%20%20%20%20%20%20%20%20%20%29.addTo%28map_4534526a626c4964b48f5ef73708418f%29%3B%0A%20%20%20%20%20%20%20%20%0A%20%20%20%20%0A%20%20%20%20%20%20%20%20%20%20%20%20var%20popup_5c1a63854a9a440d97ee01ac6f161868%20%3D%20L.popup%28%7BmaxWidth%3A%20%27100%25%27%0A%20%20%20%20%20%20%20%20%20%20%20%20%0A%20%20%20%20%20%20%20%20%20%20%20%20%7D%29%3B%0A%0A%20%20%20%20%20%20%20%20%20%20%20%20%0A%20%20%20%20%20%20%20%20%20%20%20%20%20%20%20%20var%20html_c594016556d94d639191584b01e5f630%20%3D%20%24%28%60%3Cdiv%20id%3D%22html_c594016556d94d639191584b01e5f630%22%20style%3D%22width%3A%20100.0%25%3B%20height%3A%20100.0%25%3B%22%3EClementi%20Ave%203%20Blk%20448%3C/div%3E%60%29%5B0%5D%3B%0A%20%20%20%20%20%20%20%20%20%20%20%20%20%20%20%20popup_5c1a63854a9a440d97ee01ac6f161868.setContent%28html_c594016556d94d639191584b01e5f630%29%3B%0A%20%20%20%20%20%20%20%20%20%20%20%20%0A%0A%20%20%20%20%20%20%20%20%20%20%20%20marker_ab716e15a2a9429fbb7cb186a317ee89.bindPopup%28popup_5c1a63854a9a440d97ee01ac6f161868%29%0A%20%20%20%20%20%20%20%20%20%20%20%20%3B%0A%0A%20%20%20%20%20%20%20%20%20%20%20%20%0A%20%20%20%20%20%20%20%20%0A%20%20%20%20%0A%20%20%20%20%20%20%20%20var%20marker_8d4d686cfbd147589596a28b111b9ad6%20%3D%20L.marker%28%0A%20%20%20%20%20%20%20%20%20%20%20%20%5B1.30391705%2C%20103.76417540000001%5D%2C%0A%20%20%20%20%20%20%20%20%20%20%20%20%7B%0A%20%20%20%20%20%20%20%20%20%20%20%20%20%20%20%20icon%3A%20new%20L.Icon.Default%28%29%2C%0A%20%20%20%20%20%20%20%20%20%20%20%20%20%20%20%20%7D%0A%20%20%20%20%20%20%20%20%20%20%20%20%29.addTo%28map_4534526a626c4964b48f5ef73708418f%29%3B%0A%20%20%20%20%20%20%20%20%0A%20%20%20%20%0A%20%20%20%20%20%20%20%20%20%20%20%20var%20popup_07960fbd5439473ea7fd3e8b30059519%20%3D%20L.popup%28%7BmaxWidth%3A%20%27100%25%27%0A%20%20%20%20%20%20%20%20%20%20%20%20%0A%20%20%20%20%20%20%20%20%20%20%20%20%7D%29%3B%0A%0A%20%20%20%20%20%20%20%20%20%20%20%20%0A%20%20%20%20%20%20%20%20%20%20%20%20%20%20%20%20var%20html_59d7b9c7bf734695b146b65980b0af98%20%3D%20%24%28%60%3Cdiv%20id%3D%22html_59d7b9c7bf734695b146b65980b0af98%22%20style%3D%22width%3A%20100.0%25%3B%20height%3A%20100.0%25%3B%22%3EClementi%20West%20Street%202%20Blk%20726%3C/div%3E%60%29%5B0%5D%3B%0A%20%20%20%20%20%20%20%20%20%20%20%20%20%20%20%20popup_07960fbd5439473ea7fd3e8b30059519.setContent%28html_59d7b9c7bf734695b146b65980b0af98%29%3B%0A%20%20%20%20%20%20%20%20%20%20%20%20%0A%0A%20%20%20%20%20%20%20%20%20%20%20%20marker_8d4d686cfbd147589596a28b111b9ad6.bindPopup%28popup_07960fbd5439473ea7fd3e8b30059519%29%0A%20%20%20%20%20%20%20%20%20%20%20%20%3B%0A%0A%20%20%20%20%20%20%20%20%20%20%20%20%0A%20%20%20%20%20%20%20%20%0A%20%20%20%20%0A%20%20%20%20%20%20%20%20var%20marker_bdf8eefd0d2f41999370237d8fd52869%20%3D%20L.marker%28%0A%20%20%20%20%20%20%20%20%20%20%20%20%5B1.307432055%2C%20103.79946140000001%5D%2C%0A%20%20%20%20%20%20%20%20%20%20%20%20%7B%0A%20%20%20%20%20%20%20%20%20%20%20%20%20%20%20%20icon%3A%20new%20L.Icon.Default%28%29%2C%0A%20%20%20%20%20%20%20%20%20%20%20%20%20%20%20%20%7D%0A%20%20%20%20%20%20%20%20%20%20%20%20%29.addTo%28map_4534526a626c4964b48f5ef73708418f%29%3B%0A%20%20%20%20%20%20%20%20%0A%20%20%20%20%0A%20%20%20%20%20%20%20%20%20%20%20%20var%20popup_d9cfeccfbda14f06a6b5d19265d16cc6%20%3D%20L.popup%28%7BmaxWidth%3A%20%27100%25%27%0A%20%20%20%20%20%20%20%20%20%20%20%20%0A%20%20%20%20%20%20%20%20%20%20%20%20%7D%29%3B%0A%0A%20%20%20%20%20%20%20%20%20%20%20%20%0A%20%20%20%20%20%20%20%20%20%20%20%20%20%20%20%20var%20html_ebd76c8420c74ef3a348e3ac400a8fe2%20%3D%20%24%28%60%3Cdiv%20id%3D%22html_ebd76c8420c74ef3a348e3ac400a8fe2%22%20style%3D%22width%3A%20100.0%25%3B%20height%3A%20100.0%25%3B%22%3ECommonwealth%20Crescent%20Market%3C/div%3E%60%29%5B0%5D%3B%0A%20%20%20%20%20%20%20%20%20%20%20%20%20%20%20%20popup_d9cfeccfbda14f06a6b5d19265d16cc6.setContent%28html_ebd76c8420c74ef3a348e3ac400a8fe2%29%3B%0A%20%20%20%20%20%20%20%20%20%20%20%20%0A%0A%20%20%20%20%20%20%20%20%20%20%20%20marker_bdf8eefd0d2f41999370237d8fd52869.bindPopup%28popup_d9cfeccfbda14f06a6b5d19265d16cc6%29%0A%20%20%20%20%20%20%20%20%20%20%20%20%3B%0A%0A%20%20%20%20%20%20%20%20%20%20%20%20%0A%20%20%20%20%20%20%20%20%0A%20%20%20%20%0A%20%20%20%20%20%20%20%20var%20marker_7e86e27afe2c48ebaf737efa0c430dae%20%3D%20L.marker%28%0A%20%20%20%20%20%20%20%20%20%20%20%20%5B1.299550056%2C%20103.7980194%5D%2C%0A%20%20%20%20%20%20%20%20%20%20%20%20%7B%0A%20%20%20%20%20%20%20%20%20%20%20%20%20%20%20%20icon%3A%20new%20L.Icon.Default%28%29%2C%0A%20%20%20%20%20%20%20%20%20%20%20%20%20%20%20%20%7D%0A%20%20%20%20%20%20%20%20%20%20%20%20%29.addTo%28map_4534526a626c4964b48f5ef73708418f%29%3B%0A%20%20%20%20%20%20%20%20%0A%20%20%20%20%0A%20%20%20%20%20%20%20%20%20%20%20%20var%20popup_f16453e5feaf4dcea3b42ed4c12f829c%20%3D%20L.popup%28%7BmaxWidth%3A%20%27100%25%27%0A%20%20%20%20%20%20%20%20%20%20%20%20%0A%20%20%20%20%20%20%20%20%20%20%20%20%7D%29%3B%0A%0A%20%20%20%20%20%20%20%20%20%20%20%20%0A%20%20%20%20%20%20%20%20%20%20%20%20%20%20%20%20var%20html_217575156fa14478ae78029094e0a623%20%3D%20%24%28%60%3Cdiv%20id%3D%22html_217575156fa14478ae78029094e0a623%22%20style%3D%22width%3A%20100.0%25%3B%20height%3A%20100.0%25%3B%22%3ECommonwealth%20Drive%20Blk%201A/2A/3A%20%28Tanglin%20Halt%20Food%20Centre/Commonwealth%20Drive%20Food%20Centre%29%3C/div%3E%60%29%5B0%5D%3B%0A%20%20%20%20%20%20%20%20%20%20%20%20%20%20%20%20popup_f16453e5feaf4dcea3b42ed4c12f829c.setContent%28html_217575156fa14478ae78029094e0a623%29%3B%0A%20%20%20%20%20%20%20%20%20%20%20%20%0A%0A%20%20%20%20%20%20%20%20%20%20%20%20marker_7e86e27afe2c48ebaf737efa0c430dae.bindPopup%28popup_f16453e5feaf4dcea3b42ed4c12f829c%29%0A%20%20%20%20%20%20%20%20%20%20%20%20%3B%0A%0A%20%20%20%20%20%20%20%20%20%20%20%20%0A%20%20%20%20%20%20%20%20%0A%20%20%20%20%0A%20%20%20%20%20%20%20%20var%20marker_4f97f59ca9dc4fe4aef31b6f05b08cc2%20%3D%20L.marker%28%0A%20%20%20%20%20%20%20%20%20%20%20%20%5B1.309412003%2C%20103.901825%5D%2C%0A%20%20%20%20%20%20%20%20%20%20%20%20%7B%0A%20%20%20%20%20%20%20%20%20%20%20%20%20%20%20%20icon%3A%20new%20L.Icon.Default%28%29%2C%0A%20%20%20%20%20%20%20%20%20%20%20%20%20%20%20%20%7D%0A%20%20%20%20%20%20%20%20%20%20%20%20%29.addTo%28map_4534526a626c4964b48f5ef73708418f%29%3B%0A%20%20%20%20%20%20%20%20%0A%20%20%20%20%0A%20%20%20%20%20%20%20%20%20%20%20%20var%20popup_d3c0cd6f97db43b5bc45c0058edf56bf%20%3D%20L.popup%28%7BmaxWidth%3A%20%27100%25%27%0A%20%20%20%20%20%20%20%20%20%20%20%20%0A%20%20%20%20%20%20%20%20%20%20%20%20%7D%29%3B%0A%0A%20%20%20%20%20%20%20%20%20%20%20%20%0A%20%20%20%20%20%20%20%20%20%20%20%20%20%20%20%20var%20html_2152a0857d724925b54e2cb9f22f60b2%20%3D%20%24%28%60%3Cdiv%20id%3D%22html_2152a0857d724925b54e2cb9f22f60b2%22%20style%3D%22width%3A%20100.0%25%3B%20height%3A%20100.0%25%3B%22%3EDunman%20Food%20Centre%3C/div%3E%60%29%5B0%5D%3B%0A%20%20%20%20%20%20%20%20%20%20%20%20%20%20%20%20popup_d3c0cd6f97db43b5bc45c0058edf56bf.setContent%28html_2152a0857d724925b54e2cb9f22f60b2%29%3B%0A%20%20%20%20%20%20%20%20%20%20%20%20%0A%0A%20%20%20%20%20%20%20%20%20%20%20%20marker_4f97f59ca9dc4fe4aef31b6f05b08cc2.bindPopup%28popup_d3c0cd6f97db43b5bc45c0058edf56bf%29%0A%20%20%20%20%20%20%20%20%20%20%20%20%3B%0A%0A%20%20%20%20%20%20%20%20%20%20%20%20%0A%20%20%20%20%20%20%20%20%0A%20%20%20%20%0A%20%20%20%20%20%20%20%20var%20marker_5e3de57c0449473fa57307e86debd562%20%3D%20L.marker%28%0A%20%20%20%20%20%20%20%20%20%20%20%20%5B1.307729959%2C%20103.9343033%5D%2C%0A%20%20%20%20%20%20%20%20%20%20%20%20%7B%0A%20%20%20%20%20%20%20%20%20%20%20%20%20%20%20%20icon%3A%20new%20L.Icon.Default%28%29%2C%0A%20%20%20%20%20%20%20%20%20%20%20%20%20%20%20%20%7D%0A%20%20%20%20%20%20%20%20%20%20%20%20%29.addTo%28map_4534526a626c4964b48f5ef73708418f%29%3B%0A%20%20%20%20%20%20%20%20%0A%20%20%20%20%0A%20%20%20%20%20%20%20%20%20%20%20%20var%20popup_b94cd9d7a5e0420aa86932d765a7ff0e%20%3D%20L.popup%28%7BmaxWidth%3A%20%27100%25%27%0A%20%20%20%20%20%20%20%20%20%20%20%20%0A%20%20%20%20%20%20%20%20%20%20%20%20%7D%29%3B%0A%0A%20%20%20%20%20%20%20%20%20%20%20%20%0A%20%20%20%20%20%20%20%20%20%20%20%20%20%20%20%20var%20html_86ac3a29137847edacda2d8eccc2741e%20%3D%20%24%28%60%3Cdiv%20id%3D%22html_86ac3a29137847edacda2d8eccc2741e%22%20style%3D%22width%3A%20100.0%25%3B%20height%3A%20100.0%25%3B%22%3EEast%20Coast%20Lagoon%20Food%20Village%3C/div%3E%60%29%5B0%5D%3B%0A%20%20%20%20%20%20%20%20%20%20%20%20%20%20%20%20popup_b94cd9d7a5e0420aa86932d765a7ff0e.setContent%28html_86ac3a29137847edacda2d8eccc2741e%29%3B%0A%20%20%20%20%20%20%20%20%20%20%20%20%0A%0A%20%20%20%20%20%20%20%20%20%20%20%20marker_5e3de57c0449473fa57307e86debd562.bindPopup%28popup_b94cd9d7a5e0420aa86932d765a7ff0e%29%0A%20%20%20%20%20%20%20%20%20%20%20%20%3B%0A%0A%20%20%20%20%20%20%20%20%20%20%20%20%0A%20%20%20%20%20%20%20%20%0A%20%20%20%20%0A%20%20%20%20%20%20%20%20var%20marker_3985f5cae980415cac54a3b8b7b8d803%20%3D%20L.marker%28%0A%20%20%20%20%20%20%20%20%20%20%20%20%5B1.316310048%2C%20103.805687%5D%2C%0A%20%20%20%20%20%20%20%20%20%20%20%20%7B%0A%20%20%20%20%20%20%20%20%20%20%20%20%20%20%20%20icon%3A%20new%20L.Icon.Default%28%29%2C%0A%20%20%20%20%20%20%20%20%20%20%20%20%20%20%20%20%7D%0A%20%20%20%20%20%20%20%20%20%20%20%20%29.addTo%28map_4534526a626c4964b48f5ef73708418f%29%3B%0A%20%20%20%20%20%20%20%20%0A%20%20%20%20%0A%20%20%20%20%20%20%20%20%20%20%20%20var%20popup_be4052026f6349f680d589ea49baa4a4%20%3D%20L.popup%28%7BmaxWidth%3A%20%27100%25%27%0A%20%20%20%20%20%20%20%20%20%20%20%20%0A%20%20%20%20%20%20%20%20%20%20%20%20%7D%29%3B%0A%0A%20%20%20%20%20%20%20%20%20%20%20%20%0A%20%20%20%20%20%20%20%20%20%20%20%20%20%20%20%20var%20html_437fcec08c414f4da78ecd96d6c3a686%20%3D%20%24%28%60%3Cdiv%20id%3D%22html_437fcec08c414f4da78ecd96d6c3a686%22%20style%3D%22width%3A%20100.0%25%3B%20height%3A%20100.0%25%3B%22%3EEmpress%20Road%20Blk%207%20%28Empress%20Road%20Market%20and%20Food%20Centre%29%3C/div%3E%60%29%5B0%5D%3B%0A%20%20%20%20%20%20%20%20%20%20%20%20%20%20%20%20popup_be4052026f6349f680d589ea49baa4a4.setContent%28html_437fcec08c414f4da78ecd96d6c3a686%29%3B%0A%20%20%20%20%20%20%20%20%20%20%20%20%0A%0A%20%20%20%20%20%20%20%20%20%20%20%20marker_3985f5cae980415cac54a3b8b7b8d803.bindPopup%28popup_be4052026f6349f680d589ea49baa4a4%29%0A%20%20%20%20%20%20%20%20%20%20%20%20%3B%0A%0A%20%20%20%20%20%20%20%20%20%20%20%20%0A%20%20%20%20%20%20%20%20%0A%20%20%20%20%0A%20%20%20%20%20%20%20%20var%20marker_4f3c087789cb40f18a6142d9a723ba15%20%3D%20L.marker%28%0A%20%20%20%20%20%20%20%20%20%20%20%20%5B1.320291996%2C%20103.90422059999999%5D%2C%0A%20%20%20%20%20%20%20%20%20%20%20%20%7B%0A%20%20%20%20%20%20%20%20%20%20%20%20%20%20%20%20icon%3A%20new%20L.Icon.Default%28%29%2C%0A%20%20%20%20%20%20%20%20%20%20%20%20%20%20%20%20%7D%0A%20%20%20%20%20%20%20%20%20%20%20%20%29.addTo%28map_4534526a626c4964b48f5ef73708418f%29%3B%0A%20%20%20%20%20%20%20%20%0A%20%20%20%20%0A%20%20%20%20%20%20%20%20%20%20%20%20var%20popup_aa9f2b4a3bc84949acf48de523d84443%20%3D%20L.popup%28%7BmaxWidth%3A%20%27100%25%27%0A%20%20%20%20%20%20%20%20%20%20%20%20%0A%20%20%20%20%20%20%20%20%20%20%20%20%7D%29%3B%0A%0A%20%20%20%20%20%20%20%20%20%20%20%20%0A%20%20%20%20%20%20%20%20%20%20%20%20%20%20%20%20var%20html_1f8cc867df3e494e947241922d6d18cb%20%3D%20%24%28%60%3Cdiv%20id%3D%22html_1f8cc867df3e494e947241922d6d18cb%22%20style%3D%22width%3A%20100.0%25%3B%20height%3A%20100.0%25%3B%22%3EEunos%20Crescent%20Blk%204A%3C/div%3E%60%29%5B0%5D%3B%0A%20%20%20%20%20%20%20%20%20%20%20%20%20%20%20%20popup_aa9f2b4a3bc84949acf48de523d84443.setContent%28html_1f8cc867df3e494e947241922d6d18cb%29%3B%0A%20%20%20%20%20%20%20%20%20%20%20%20%0A%0A%20%20%20%20%20%20%20%20%20%20%20%20marker_4f3c087789cb40f18a6142d9a723ba15.bindPopup%28popup_aa9f2b4a3bc84949acf48de523d84443%29%0A%20%20%20%20%20%20%20%20%20%20%20%20%3B%0A%0A%20%20%20%20%20%20%20%20%20%20%20%20%0A%20%20%20%20%20%20%20%20%0A%20%20%20%20%0A%20%20%20%20%20%20%20%20var%20marker_9f1a47e42280473e98e475112c9b8294%20%3D%20L.marker%28%0A%20%20%20%20%20%20%20%20%20%20%20%20%5B1.321529984%2C%20103.8700714%5D%2C%0A%20%20%20%20%20%20%20%20%20%20%20%20%7B%0A%20%20%20%20%20%20%20%20%20%20%20%20%20%20%20%20icon%3A%20new%20L.Icon.Default%28%29%2C%0A%20%20%20%20%20%20%20%20%20%20%20%20%20%20%20%20%7D%0A%20%20%20%20%20%20%20%20%20%20%20%20%29.addTo%28map_4534526a626c4964b48f5ef73708418f%29%3B%0A%20%20%20%20%20%20%20%20%0A%20%20%20%20%0A%20%20%20%20%20%20%20%20%20%20%20%20var%20popup_331bb266825649498657243c6a3796b3%20%3D%20L.popup%28%7BmaxWidth%3A%20%27100%25%27%0A%20%20%20%20%20%20%20%20%20%20%20%20%0A%20%20%20%20%20%20%20%20%20%20%20%20%7D%29%3B%0A%0A%20%20%20%20%20%20%20%20%20%20%20%20%0A%20%20%20%20%20%20%20%20%20%20%20%20%20%20%20%20var%20html_853ca64b21f941c79532db83ff8502c0%20%3D%20%24%28%60%3Cdiv%20id%3D%22html_853ca64b21f941c79532db83ff8502c0%22%20style%3D%22width%3A%20100.0%25%3B%20height%3A%20100.0%25%3B%22%3EGeylang%20Bahru%20Blk%2069%20%28Blk%2069%20Geylang%20Bahru%20Market%20and%20Food%20Centre%29%3C/div%3E%60%29%5B0%5D%3B%0A%20%20%20%20%20%20%20%20%20%20%20%20%20%20%20%20popup_331bb266825649498657243c6a3796b3.setContent%28html_853ca64b21f941c79532db83ff8502c0%29%3B%0A%20%20%20%20%20%20%20%20%20%20%20%20%0A%0A%20%20%20%20%20%20%20%20%20%20%20%20marker_9f1a47e42280473e98e475112c9b8294.bindPopup%28popup_331bb266825649498657243c6a3796b3%29%0A%20%20%20%20%20%20%20%20%20%20%20%20%3B%0A%0A%20%20%20%20%20%20%20%20%20%20%20%20%0A%20%20%20%20%20%20%20%20%0A%20%20%20%20%0A%20%20%20%20%20%20%20%20var%20marker_f62f5a634d3a4f68ba7841a20cdeb113%20%3D%20L.marker%28%0A%20%20%20%20%20%20%20%20%20%20%20%20%5B1.316888094%2C%20103.8974075%5D%2C%0A%20%20%20%20%20%20%20%20%20%20%20%20%7B%0A%20%20%20%20%20%20%20%20%20%20%20%20%20%20%20%20icon%3A%20new%20L.Icon.Default%28%29%2C%0A%20%20%20%20%20%20%20%20%20%20%20%20%20%20%20%20%7D%0A%20%20%20%20%20%20%20%20%20%20%20%20%29.addTo%28map_4534526a626c4964b48f5ef73708418f%29%3B%0A%20%20%20%20%20%20%20%20%0A%20%20%20%20%0A%20%20%20%20%20%20%20%20%20%20%20%20var%20popup_c8c1aa12cfe04b349e786a91d31815e0%20%3D%20L.popup%28%7BmaxWidth%3A%20%27100%25%27%0A%20%20%20%20%20%20%20%20%20%20%20%20%0A%20%20%20%20%20%20%20%20%20%20%20%20%7D%29%3B%0A%0A%20%20%20%20%20%20%20%20%20%20%20%20%0A%20%20%20%20%20%20%20%20%20%20%20%20%20%20%20%20var%20html_53ae1e80a6b445a398f1370985035517%20%3D%20%24%28%60%3Cdiv%20id%3D%22html_53ae1e80a6b445a398f1370985035517%22%20style%3D%22width%3A%20100.0%25%3B%20height%3A%20100.0%25%3B%22%3EGeylang%20Serai%20Market%3C/div%3E%60%29%5B0%5D%3B%0A%20%20%20%20%20%20%20%20%20%20%20%20%20%20%20%20popup_c8c1aa12cfe04b349e786a91d31815e0.setContent%28html_53ae1e80a6b445a398f1370985035517%29%3B%0A%20%20%20%20%20%20%20%20%20%20%20%20%0A%0A%20%20%20%20%20%20%20%20%20%20%20%20marker_f62f5a634d3a4f68ba7841a20cdeb113.bindPopup%28popup_c8c1aa12cfe04b349e786a91d31815e0%29%0A%20%20%20%20%20%20%20%20%20%20%20%20%3B%0A%0A%20%20%20%20%20%20%20%20%20%20%20%20%0A%20%20%20%20%20%20%20%20%0A%20%20%20%20%0A%20%20%20%20%20%20%20%20var%20marker_8b6ccdc6386846c2bd74cad3e6ab2bf0%20%3D%20L.marker%28%0A%20%20%20%20%20%20%20%20%20%20%20%20%5B1.3110599520000001%2C%20103.7882919%5D%2C%0A%20%20%20%20%20%20%20%20%20%20%20%20%7B%0A%20%20%20%20%20%20%20%20%20%20%20%20%20%20%20%20icon%3A%20new%20L.Icon.Default%28%29%2C%0A%20%20%20%20%20%20%20%20%20%20%20%20%20%20%20%20%7D%0A%20%20%20%20%20%20%20%20%20%20%20%20%29.addTo%28map_4534526a626c4964b48f5ef73708418f%29%3B%0A%20%20%20%20%20%20%20%20%0A%20%20%20%20%0A%20%20%20%20%20%20%20%20%20%20%20%20var%20popup_28fe8145da10481f92d3e5fb1bd2f529%20%3D%20L.popup%28%7BmaxWidth%3A%20%27100%25%27%0A%20%20%20%20%20%20%20%20%20%20%20%20%0A%20%20%20%20%20%20%20%20%20%20%20%20%7D%29%3B%0A%0A%20%20%20%20%20%20%20%20%20%20%20%20%0A%20%20%20%20%20%20%20%20%20%20%20%20%20%20%20%20var%20html_74b5dbd317ff48d69f1011dc135ff52b%20%3D%20%24%28%60%3Cdiv%20id%3D%22html_74b5dbd317ff48d69f1011dc135ff52b%22%20style%3D%22width%3A%20100.0%25%3B%20height%3A%20100.0%25%3B%22%3EGhim%20Moh%20Road%20Blk%2020%3C/div%3E%60%29%5B0%5D%3B%0A%20%20%20%20%20%20%20%20%20%20%20%20%20%20%20%20popup_28fe8145da10481f92d3e5fb1bd2f529.setContent%28html_74b5dbd317ff48d69f1011dc135ff52b%29%3B%0A%20%20%20%20%20%20%20%20%20%20%20%20%0A%0A%20%20%20%20%20%20%20%20%20%20%20%20marker_8b6ccdc6386846c2bd74cad3e6ab2bf0.bindPopup%28popup_28fe8145da10481f92d3e5fb1bd2f529%29%0A%20%20%20%20%20%20%20%20%20%20%20%20%3B%0A%0A%20%20%20%20%20%20%20%20%20%20%20%20%0A%20%20%20%20%20%20%20%20%0A%20%20%20%20%0A%20%20%20%20%20%20%20%20var%20marker_980086c7120f49dc94c7347e1e46c781%20%3D%20L.marker%28%0A%20%20%20%20%20%20%20%20%20%20%20%20%5B1.302873969%2C%20103.86387629999999%5D%2C%0A%20%20%20%20%20%20%20%20%20%20%20%20%7B%0A%20%20%20%20%20%20%20%20%20%20%20%20%20%20%20%20icon%3A%20new%20L.Icon.Default%28%29%2C%0A%20%20%20%20%20%20%20%20%20%20%20%20%20%20%20%20%7D%0A%20%20%20%20%20%20%20%20%20%20%20%20%29.addTo%28map_4534526a626c4964b48f5ef73708418f%29%3B%0A%20%20%20%20%20%20%20%20%0A%20%20%20%20%0A%20%20%20%20%20%20%20%20%20%20%20%20var%20popup_d54fa9b7d5d3444f99ffdf69636f551b%20%3D%20L.popup%28%7BmaxWidth%3A%20%27100%25%27%0A%20%20%20%20%20%20%20%20%20%20%20%20%0A%20%20%20%20%20%20%20%20%20%20%20%20%7D%29%3B%0A%0A%20%20%20%20%20%20%20%20%20%20%20%20%0A%20%20%20%20%20%20%20%20%20%20%20%20%20%20%20%20var%20html_137732e2571a4090968efb085afeae8e%20%3D%20%24%28%60%3Cdiv%20id%3D%22html_137732e2571a4090968efb085afeae8e%22%20style%3D%22width%3A%20100.0%25%3B%20height%3A%20100.0%25%3B%22%3EGolden%20Mile%20Food%20Centre%3C/div%3E%60%29%5B0%5D%3B%0A%20%20%20%20%20%20%20%20%20%20%20%20%20%20%20%20popup_d54fa9b7d5d3444f99ffdf69636f551b.setContent%28html_137732e2571a4090968efb085afeae8e%29%3B%0A%20%20%20%20%20%20%20%20%20%20%20%20%0A%0A%20%20%20%20%20%20%20%20%20%20%20%20marker_980086c7120f49dc94c7347e1e46c781.bindPopup%28popup_d54fa9b7d5d3444f99ffdf69636f551b%29%0A%20%20%20%20%20%20%20%20%20%20%20%20%3B%0A%0A%20%20%20%20%20%20%20%20%20%20%20%20%0A%20%20%20%20%20%20%20%20%0A%20%20%20%20%0A%20%20%20%20%20%20%20%20var%20marker_066fd7397ba54d64b291f6300c22aed9%20%3D%20L.marker%28%0A%20%20%20%20%20%20%20%20%20%20%20%20%5B1.315189958%2C%20103.8956528%5D%2C%0A%20%20%20%20%20%20%20%20%20%20%20%20%7B%0A%20%20%20%20%20%20%20%20%20%20%20%20%20%20%20%20icon%3A%20new%20L.Icon.Default%28%29%2C%0A%20%20%20%20%20%20%20%20%20%20%20%20%20%20%20%20%7D%0A%20%20%20%20%20%20%20%20%20%20%20%20%29.addTo%28map_4534526a626c4964b48f5ef73708418f%29%3B%0A%20%20%20%20%20%20%20%20%0A%20%20%20%20%0A%20%20%20%20%20%20%20%20%20%20%20%20var%20popup_3842935924ca4e99b7c7944eb617e2f0%20%3D%20L.popup%28%7BmaxWidth%3A%20%27100%25%27%0A%20%20%20%20%20%20%20%20%20%20%20%20%0A%20%20%20%20%20%20%20%20%20%20%20%20%7D%29%3B%0A%0A%20%20%20%20%20%20%20%20%20%20%20%20%0A%20%20%20%20%20%20%20%20%20%20%20%20%20%20%20%20var%20html_67f99ebbe77b4b67bcfcca95128d0b66%20%3D%20%24%28%60%3Cdiv%20id%3D%22html_67f99ebbe77b4b67bcfcca95128d0b66%22%20style%3D%22width%3A%20100.0%25%3B%20height%3A%20100.0%25%3B%22%3EHaig%20Road%20Blk%2013/14%20%28Haig%20Road%20Market%20and%20Cooked%20Food%20Centre%29%3C/div%3E%60%29%5B0%5D%3B%0A%20%20%20%20%20%20%20%20%20%20%20%20%20%20%20%20popup_3842935924ca4e99b7c7944eb617e2f0.setContent%28html_67f99ebbe77b4b67bcfcca95128d0b66%29%3B%0A%20%20%20%20%20%20%20%20%20%20%20%20%0A%0A%20%20%20%20%20%20%20%20%20%20%20%20marker_066fd7397ba54d64b291f6300c22aed9.bindPopup%28popup_3842935924ca4e99b7c7944eb617e2f0%29%0A%20%20%20%20%20%20%20%20%20%20%20%20%3B%0A%0A%20%20%20%20%20%20%20%20%20%20%20%20%0A%20%20%20%20%20%20%20%20%0A%20%20%20%20%0A%20%20%20%20%20%20%20%20var%20marker_63f5f1c2ba6843d48b9223da4364db0a%20%3D%20L.marker%28%0A%20%20%20%20%20%20%20%20%20%20%20%20%5B1.288040042%2C%20103.829689%5D%2C%0A%20%20%20%20%20%20%20%20%20%20%20%20%7B%0A%20%20%20%20%20%20%20%20%20%20%20%20%20%20%20%20icon%3A%20new%20L.Icon.Default%28%29%2C%0A%20%20%20%20%20%20%20%20%20%20%20%20%20%20%20%20%7D%0A%20%20%20%20%20%20%20%20%20%20%20%20%29.addTo%28map_4534526a626c4964b48f5ef73708418f%29%3B%0A%20%20%20%20%20%20%20%20%0A%20%20%20%20%0A%20%20%20%20%20%20%20%20%20%20%20%20var%20popup_056f6a0527e94f748e2fbc1f7a563415%20%3D%20L.popup%28%7BmaxWidth%3A%20%27100%25%27%0A%20%20%20%20%20%20%20%20%20%20%20%20%0A%20%20%20%20%20%20%20%20%20%20%20%20%7D%29%3B%0A%0A%20%20%20%20%20%20%20%20%20%20%20%20%0A%20%20%20%20%20%20%20%20%20%20%20%20%20%20%20%20var%20html_bd02ae601917449e9ba240097c99b12c%20%3D%20%24%28%60%3Cdiv%20id%3D%22html_bd02ae601917449e9ba240097c99b12c%22%20style%3D%22width%3A%20100.0%25%3B%20height%3A%20100.0%25%3B%22%3EHavelock%20Road%20Blk%2022A/B%20%28Havelock%20Road%20Cooked%20Food%20Centre%29%3C/div%3E%60%29%5B0%5D%3B%0A%20%20%20%20%20%20%20%20%20%20%20%20%20%20%20%20popup_056f6a0527e94f748e2fbc1f7a563415.setContent%28html_bd02ae601917449e9ba240097c99b12c%29%3B%0A%20%20%20%20%20%20%20%20%20%20%20%20%0A%0A%20%20%20%20%20%20%20%20%20%20%20%20marker_63f5f1c2ba6843d48b9223da4364db0a.bindPopup%28popup_056f6a0527e94f748e2fbc1f7a563415%29%0A%20%20%20%20%20%20%20%20%20%20%20%20%3B%0A%0A%20%20%20%20%20%20%20%20%20%20%20%20%0A%20%20%20%20%20%20%20%20%0A%20%20%20%20%0A%20%20%20%20%20%20%20%20var%20marker_ec0aca7a2942457cac365e41101bf121%20%3D%20L.marker%28%0A%20%20%20%20%20%20%20%20%20%20%20%20%5B1.3081899879999999%2C%20103.7928391%5D%2C%0A%20%20%20%20%20%20%20%20%20%20%20%20%7B%0A%20%20%20%20%20%20%20%20%20%20%20%20%20%20%20%20icon%3A%20new%20L.Icon.Default%28%29%2C%0A%20%20%20%20%20%20%20%20%20%20%20%20%20%20%20%20%7D%0A%20%20%20%20%20%20%20%20%20%20%20%20%29.addTo%28map_4534526a626c4964b48f5ef73708418f%29%3B%0A%20%20%20%20%20%20%20%20%0A%20%20%20%20%0A%20%20%20%20%20%20%20%20%20%20%20%20var%20popup_83cd05e867574ea69b6d6c5f69bc4370%20%3D%20L.popup%28%7BmaxWidth%3A%20%27100%25%27%0A%20%20%20%20%20%20%20%20%20%20%20%20%0A%20%20%20%20%20%20%20%20%20%20%20%20%7D%29%3B%0A%0A%20%20%20%20%20%20%20%20%20%20%20%20%0A%20%20%20%20%20%20%20%20%20%20%20%20%20%20%20%20var%20html_9f0542c4526244febf982ae015bb9a37%20%3D%20%24%28%60%3Cdiv%20id%3D%22html_9f0542c4526244febf982ae015bb9a37%22%20style%3D%22width%3A%20100.0%25%3B%20height%3A%20100.0%25%3B%22%3EHolland%20Drive%20Blk%2044%20%28Holland%20Drive%20Market%20and%20Food%20Centre%29%3C/div%3E%60%29%5B0%5D%3B%0A%20%20%20%20%20%20%20%20%20%20%20%20%20%20%20%20popup_83cd05e867574ea69b6d6c5f69bc4370.setContent%28html_9f0542c4526244febf982ae015bb9a37%29%3B%0A%20%20%20%20%20%20%20%20%20%20%20%20%0A%0A%20%20%20%20%20%20%20%20%20%20%20%20marker_ec0aca7a2942457cac365e41101bf121.bindPopup%28popup_83cd05e867574ea69b6d6c5f69bc4370%29%0A%20%20%20%20%20%20%20%20%20%20%20%20%3B%0A%0A%20%20%20%20%20%20%20%20%20%20%20%20%0A%20%20%20%20%20%20%20%20%0A%20%20%20%20%0A%20%20%20%20%20%20%20%20var%20marker_08fe8f3624554cdc9e57e1ce8b23c9b1%20%3D%20L.marker%28%0A%20%20%20%20%20%20%20%20%20%20%20%20%5B1.311102033%2C%20103.7949448%5D%2C%0A%20%20%20%20%20%20%20%20%20%20%20%20%7B%0A%20%20%20%20%20%20%20%20%20%20%20%20%20%20%20%20icon%3A%20new%20L.Icon.Default%28%29%2C%0A%20%20%20%20%20%20%20%20%20%20%20%20%20%20%20%20%7D%0A%20%20%20%20%20%20%20%20%20%20%20%20%29.addTo%28map_4534526a626c4964b48f5ef73708418f%29%3B%0A%20%20%20%20%20%20%20%20%0A%20%20%20%20%0A%20%20%20%20%20%20%20%20%20%20%20%20var%20popup_27c746a542504b13983929f0d5ec21d8%20%3D%20L.popup%28%7BmaxWidth%3A%20%27100%25%27%0A%20%20%20%20%20%20%20%20%20%20%20%20%0A%20%20%20%20%20%20%20%20%20%20%20%20%7D%29%3B%0A%0A%20%20%20%20%20%20%20%20%20%20%20%20%0A%20%20%20%20%20%20%20%20%20%20%20%20%20%20%20%20var%20html_63d815dc912243f8874f835598e22756%20%3D%20%24%28%60%3Cdiv%20id%3D%22html_63d815dc912243f8874f835598e22756%22%20style%3D%22width%3A%20100.0%25%3B%20height%3A%20100.0%25%3B%22%3EHolland%20Village%20Market%20and%20Food%20Centre%3C/div%3E%60%29%5B0%5D%3B%0A%20%20%20%20%20%20%20%20%20%20%20%20%20%20%20%20popup_27c746a542504b13983929f0d5ec21d8.setContent%28html_63d815dc912243f8874f835598e22756%29%3B%0A%20%20%20%20%20%20%20%20%20%20%20%20%0A%0A%20%20%20%20%20%20%20%20%20%20%20%20marker_08fe8f3624554cdc9e57e1ce8b23c9b1.bindPopup%28popup_27c746a542504b13983929f0d5ec21d8%29%0A%20%20%20%20%20%20%20%20%20%20%20%20%3B%0A%0A%20%20%20%20%20%20%20%20%20%20%20%20%0A%20%20%20%20%20%20%20%20%0A%20%20%20%20%0A%20%20%20%20%20%20%20%20var%20marker_3689257389814ade9209779ab3e1b260%20%3D%20L.marker%28%0A%20%20%20%20%20%20%20%20%20%20%20%20%5B1.354089975%2C%20103.890213%5D%2C%0A%20%20%20%20%20%20%20%20%20%20%20%20%7B%0A%20%20%20%20%20%20%20%20%20%20%20%20%20%20%20%20icon%3A%20new%20L.Icon.Default%28%29%2C%0A%20%20%20%20%20%20%20%20%20%20%20%20%20%20%20%20%7D%0A%20%20%20%20%20%20%20%20%20%20%20%20%29.addTo%28map_4534526a626c4964b48f5ef73708418f%29%3B%0A%20%20%20%20%20%20%20%20%0A%20%20%20%20%0A%20%20%20%20%20%20%20%20%20%20%20%20var%20popup_e1fb4f2617fa478a9d4917e860192951%20%3D%20L.popup%28%7BmaxWidth%3A%20%27100%25%27%0A%20%20%20%20%20%20%20%20%20%20%20%20%0A%20%20%20%20%20%20%20%20%20%20%20%20%7D%29%3B%0A%0A%20%20%20%20%20%20%20%20%20%20%20%20%0A%20%20%20%20%20%20%20%20%20%20%20%20%20%20%20%20var%20html_9fc6603e2ab74f1f93ef3f354c9533e7%20%3D%20%24%28%60%3Cdiv%20id%3D%22html_9fc6603e2ab74f1f93ef3f354c9533e7%22%20style%3D%22width%3A%20100.0%25%3B%20height%3A%20100.0%25%3B%22%3EHougang%20Ave%201%20Blk%20105%20%28Hougang%20105%20Hainanese%20Village%20Centre%29%3C/div%3E%60%29%5B0%5D%3B%0A%20%20%20%20%20%20%20%20%20%20%20%20%20%20%20%20popup_e1fb4f2617fa478a9d4917e860192951.setContent%28html_9fc6603e2ab74f1f93ef3f354c9533e7%29%3B%0A%20%20%20%20%20%20%20%20%20%20%20%20%0A%0A%20%20%20%20%20%20%20%20%20%20%20%20marker_3689257389814ade9209779ab3e1b260.bindPopup%28popup_e1fb4f2617fa478a9d4917e860192951%29%0A%20%20%20%20%20%20%20%20%20%20%20%20%3B%0A%0A%20%20%20%20%20%20%20%20%20%20%20%20%0A%20%20%20%20%20%20%20%20%0A%20%20%20%20%0A%20%20%20%20%20%20%20%20var%20marker_3b575742ff8a4fbf950503f6d13aed3d%20%3D%20L.marker%28%0A%20%20%20%20%20%20%20%20%20%20%20%20%5B1.3590790030000002%2C%20103.8859253%5D%2C%0A%20%20%20%20%20%20%20%20%20%20%20%20%7B%0A%20%20%20%20%20%20%20%20%20%20%20%20%20%20%20%20icon%3A%20new%20L.Icon.Default%28%29%2C%0A%20%20%20%20%20%20%20%20%20%20%20%20%20%20%20%20%7D%0A%20%20%20%20%20%20%20%20%20%20%20%20%29.addTo%28map_4534526a626c4964b48f5ef73708418f%29%3B%0A%20%20%20%20%20%20%20%20%0A%20%20%20%20%0A%20%20%20%20%20%20%20%20%20%20%20%20var%20popup_c5660527b1714df5ad4945b6d517baa9%20%3D%20L.popup%28%7BmaxWidth%3A%20%27100%25%27%0A%20%20%20%20%20%20%20%20%20%20%20%20%0A%20%20%20%20%20%20%20%20%20%20%20%20%7D%29%3B%0A%0A%20%20%20%20%20%20%20%20%20%20%20%20%0A%20%20%20%20%20%20%20%20%20%20%20%20%20%20%20%20var%20html_8d1c3041921b483795d68af752500567%20%3D%20%24%28%60%3Cdiv%20id%3D%22html_8d1c3041921b483795d68af752500567%22%20style%3D%22width%3A%20100.0%25%3B%20height%3A%20100.0%25%3B%22%3EHougang%20Street%2021%20Blk%20209%20%28Kovan%20Hougang%20Market%20and%20Food%20Centre%29%3C/div%3E%60%29%5B0%5D%3B%0A%20%20%20%20%20%20%20%20%20%20%20%20%20%20%20%20popup_c5660527b1714df5ad4945b6d517baa9.setContent%28html_8d1c3041921b483795d68af752500567%29%3B%0A%20%20%20%20%20%20%20%20%20%20%20%20%0A%0A%20%20%20%20%20%20%20%20%20%20%20%20marker_3b575742ff8a4fbf950503f6d13aed3d.bindPopup%28popup_c5660527b1714df5ad4945b6d517baa9%29%0A%20%20%20%20%20%20%20%20%20%20%20%20%3B%0A%0A%20%20%20%20%20%20%20%20%20%20%20%20%0A%20%20%20%20%20%20%20%20%0A%20%20%20%20%0A%20%20%20%20%20%20%20%20var%20marker_b801de2a982a457fbea15d6fab2f9ab5%20%3D%20L.marker%28%0A%20%20%20%20%20%20%20%20%20%20%20%20%5B1.3024300340000001%2C%20103.88397979999999%5D%2C%0A%20%20%20%20%20%20%20%20%20%20%20%20%7B%0A%20%20%20%20%20%20%20%20%20%20%20%20%20%20%20%20icon%3A%20new%20L.Icon.Default%28%29%2C%0A%20%20%20%20%20%20%20%20%20%20%20%20%20%20%20%20%7D%0A%20%20%20%20%20%20%20%20%20%20%20%20%29.addTo%28map_4534526a626c4964b48f5ef73708418f%29%3B%0A%20%20%20%20%20%20%20%20%0A%20%20%20%20%0A%20%20%20%20%20%20%20%20%20%20%20%20var%20popup_2147e5de54a14ed695fa50aae74dac4c%20%3D%20L.popup%28%7BmaxWidth%3A%20%27100%25%27%0A%20%20%20%20%20%20%20%20%20%20%20%20%0A%20%20%20%20%20%20%20%20%20%20%20%20%7D%29%3B%0A%0A%20%20%20%20%20%20%20%20%20%20%20%20%0A%20%20%20%20%20%20%20%20%20%20%20%20%20%20%20%20var%20html_f3ff3f95a63149f3b12236102aa38d2b%20%3D%20%24%28%60%3Cdiv%20id%3D%22html_f3ff3f95a63149f3b12236102aa38d2b%22%20style%3D%22width%3A%20100.0%25%3B%20height%3A%20100.0%25%3B%22%3EJalan%20Batu%20Blk%204A%20%28Blk%204A%20Jalan%20Batu%20Hawker%20Centre/Market%29%3C/div%3E%60%29%5B0%5D%3B%0A%20%20%20%20%20%20%20%20%20%20%20%20%20%20%20%20popup_2147e5de54a14ed695fa50aae74dac4c.setContent%28html_f3ff3f95a63149f3b12236102aa38d2b%29%3B%0A%20%20%20%20%20%20%20%20%20%20%20%20%0A%0A%20%20%20%20%20%20%20%20%20%20%20%20marker_b801de2a982a457fbea15d6fab2f9ab5.bindPopup%28popup_2147e5de54a14ed695fa50aae74dac4c%29%0A%20%20%20%20%20%20%20%20%20%20%20%20%3B%0A%0A%20%20%20%20%20%20%20%20%20%20%20%20%0A%20%20%20%20%20%20%20%20%0A%20%20%20%20%0A%20%20%20%20%20%20%20%20var%20marker_aa7128c39809497fa389523f2f17ef4f%20%3D%20L.marker%28%0A%20%20%20%20%20%20%20%20%20%20%20%20%5B1.280069947%2C%20103.82607270000001%5D%2C%0A%20%20%20%20%20%20%20%20%20%20%20%20%7B%0A%20%20%20%20%20%20%20%20%20%20%20%20%20%20%20%20icon%3A%20new%20L.Icon.Default%28%29%2C%0A%20%20%20%20%20%20%20%20%20%20%20%20%20%20%20%20%7D%0A%20%20%20%20%20%20%20%20%20%20%20%20%29.addTo%28map_4534526a626c4964b48f5ef73708418f%29%3B%0A%20%20%20%20%20%20%20%20%0A%20%20%20%20%0A%20%20%20%20%20%20%20%20%20%20%20%20var%20popup_09742972ce5e4a4dbba17f5f4aa70465%20%3D%20L.popup%28%7BmaxWidth%3A%20%27100%25%27%0A%20%20%20%20%20%20%20%20%20%20%20%20%0A%20%20%20%20%20%20%20%20%20%20%20%20%7D%29%3B%0A%0A%20%20%20%20%20%20%20%20%20%20%20%20%0A%20%20%20%20%20%20%20%20%20%20%20%20%20%20%20%20var%20html_dc88c5d4714b4b568ee50f5a0fc7162b%20%3D%20%24%28%60%3Cdiv%20id%3D%22html_dc88c5d4714b4b568ee50f5a0fc7162b%22%20style%3D%22width%3A%20100.0%25%3B%20height%3A%20100.0%25%3B%22%3EJalan%20Bukit%20Merah%20Blk%20112%20%28Blk%20112%20Jalan%20Bukit%20Merah%20Market%20and%20Food%20Centre%29%3C/div%3E%60%29%5B0%5D%3B%0A%20%20%20%20%20%20%20%20%20%20%20%20%20%20%20%20popup_09742972ce5e4a4dbba17f5f4aa70465.setContent%28html_dc88c5d4714b4b568ee50f5a0fc7162b%29%3B%0A%20%20%20%20%20%20%20%20%20%20%20%20%0A%0A%20%20%20%20%20%20%20%20%20%20%20%20marker_aa7128c39809497fa389523f2f17ef4f.bindPopup%28popup_09742972ce5e4a4dbba17f5f4aa70465%29%0A%20%20%20%20%20%20%20%20%20%20%20%20%3B%0A%0A%20%20%20%20%20%20%20%20%20%20%20%20%0A%20%20%20%20%20%20%20%20%0A%20%20%20%20%0A%20%20%20%20%20%20%20%20var%20marker_dc25285f3d25473fb632ee76710c79e2%20%3D%20L.marker%28%0A%20%20%20%20%20%20%20%20%20%20%20%20%5B1.287009954%2C%20103.8081894%5D%2C%0A%20%20%20%20%20%20%20%20%20%20%20%20%7B%0A%20%20%20%20%20%20%20%20%20%20%20%20%20%20%20%20icon%3A%20new%20L.Icon.Default%28%29%2C%0A%20%20%20%20%20%20%20%20%20%20%20%20%20%20%20%20%7D%0A%20%20%20%20%20%20%20%20%20%20%20%20%29.addTo%28map_4534526a626c4964b48f5ef73708418f%29%3B%0A%20%20%20%20%20%20%20%20%0A%20%20%20%20%0A%20%20%20%20%20%20%20%20%20%20%20%20var%20popup_e12476047f344308b18f9233da07bbba%20%3D%20L.popup%28%7BmaxWidth%3A%20%27100%25%27%0A%20%20%20%20%20%20%20%20%20%20%20%20%0A%20%20%20%20%20%20%20%20%20%20%20%20%7D%29%3B%0A%0A%20%20%20%20%20%20%20%20%20%20%20%20%0A%20%20%20%20%20%20%20%20%20%20%20%20%20%20%20%20var%20html_29123e02ae834df2927207703b6a521b%20%3D%20%24%28%60%3Cdiv%20id%3D%22html_29123e02ae834df2927207703b6a521b%22%20style%3D%22width%3A%20100.0%25%3B%20height%3A%20100.0%25%3B%22%3EJalan%20Bukit%20Merah%20Blk%206%20%28ABC%20Brickworks%20Market/Food%20Centre%29%3C/div%3E%60%29%5B0%5D%3B%0A%20%20%20%20%20%20%20%20%20%20%20%20%20%20%20%20popup_e12476047f344308b18f9233da07bbba.setContent%28html_29123e02ae834df2927207703b6a521b%29%3B%0A%20%20%20%20%20%20%20%20%20%20%20%20%0A%0A%20%20%20%20%20%20%20%20%20%20%20%20marker_dc25285f3d25473fb632ee76710c79e2.bindPopup%28popup_e12476047f344308b18f9233da07bbba%29%0A%20%20%20%20%20%20%20%20%20%20%20%20%3B%0A%0A%20%20%20%20%20%20%20%20%20%20%20%20%0A%20%20%20%20%20%20%20%20%0A%20%20%20%20%0A%20%20%20%20%20%20%20%20var%20marker_ab322ec57b3943b8ac1d348ea6538a0a%20%3D%20L.marker%28%0A%20%20%20%20%20%20%20%20%20%20%20%20%5B1.288319945%2C%20103.8399963%5D%2C%0A%20%20%20%20%20%20%20%20%20%20%20%20%7B%0A%20%20%20%20%20%20%20%20%20%20%20%20%20%20%20%20icon%3A%20new%20L.Icon.Default%28%29%2C%0A%20%20%20%20%20%20%20%20%20%20%20%20%20%20%20%20%7D%0A%20%20%20%20%20%20%20%20%20%20%20%20%29.addTo%28map_4534526a626c4964b48f5ef73708418f%29%3B%0A%20%20%20%20%20%20%20%20%0A%20%20%20%20%0A%20%20%20%20%20%20%20%20%20%20%20%20var%20popup_6d1b52c87aec45d397ad3ab9c91c83c6%20%3D%20L.popup%28%7BmaxWidth%3A%20%27100%25%27%0A%20%20%20%20%20%20%20%20%20%20%20%20%0A%20%20%20%20%20%20%20%20%20%20%20%20%7D%29%3B%0A%0A%20%20%20%20%20%20%20%20%20%20%20%20%0A%20%20%20%20%20%20%20%20%20%20%20%20%20%20%20%20var%20html_0289db3dc5534a9a831937a704921f2e%20%3D%20%24%28%60%3Cdiv%20id%3D%22html_0289db3dc5534a9a831937a704921f2e%22%20style%3D%22width%3A%20100.0%25%3B%20height%3A%20100.0%25%3B%22%3EJalan%20Kukoh%20Blk%201%20%28Kukoh%2021%20Food%20Centre%29%3C/div%3E%60%29%5B0%5D%3B%0A%20%20%20%20%20%20%20%20%20%20%20%20%20%20%20%20popup_6d1b52c87aec45d397ad3ab9c91c83c6.setContent%28html_0289db3dc5534a9a831937a704921f2e%29%3B%0A%20%20%20%20%20%20%20%20%20%20%20%20%0A%0A%20%20%20%20%20%20%20%20%20%20%20%20marker_ab322ec57b3943b8ac1d348ea6538a0a.bindPopup%28popup_6d1b52c87aec45d397ad3ab9c91c83c6%29%0A%20%20%20%20%20%20%20%20%20%20%20%20%3B%0A%0A%20%20%20%20%20%20%20%20%20%20%20%20%0A%20%20%20%20%20%20%20%20%0A%20%20%20%20%0A%20%20%20%20%20%20%20%20var%20marker_ef840a5e2b174e3b97bd4c6c7ffb2283%20%3D%20L.marker%28%0A%20%20%20%20%20%20%20%20%20%20%20%20%5B1.345360041%2C%20103.73158259999998%5D%2C%0A%20%20%20%20%20%20%20%20%20%20%20%20%7B%0A%20%20%20%20%20%20%20%20%20%20%20%20%20%20%20%20icon%3A%20new%20L.Icon.Default%28%29%2C%0A%20%20%20%20%20%20%20%20%20%20%20%20%20%20%20%20%7D%0A%20%20%20%20%20%20%20%20%20%20%20%20%29.addTo%28map_4534526a626c4964b48f5ef73708418f%29%3B%0A%20%20%20%20%20%20%20%20%0A%20%20%20%20%0A%20%20%20%20%20%20%20%20%20%20%20%20var%20popup_8bc5ed6908eb434b83f49fa984ff8c41%20%3D%20L.popup%28%7BmaxWidth%3A%20%27100%25%27%0A%20%20%20%20%20%20%20%20%20%20%20%20%0A%20%20%20%20%20%20%20%20%20%20%20%20%7D%29%3B%0A%0A%20%20%20%20%20%20%20%20%20%20%20%20%0A%20%20%20%20%20%20%20%20%20%20%20%20%20%20%20%20var%20html_043f16fb771b4bafb95145365268a26a%20%3D%20%24%28%60%3Cdiv%20id%3D%22html_043f16fb771b4bafb95145365268a26a%22%20style%3D%22width%3A%20100.0%25%3B%20height%3A%20100.0%25%3B%22%3EJurong%20East%20Ave%201%20Blk%20347%20%28Yuhua%20Market%20and%20Hawker%20Centre%29%3C/div%3E%60%29%5B0%5D%3B%0A%20%20%20%20%20%20%20%20%20%20%20%20%20%20%20%20popup_8bc5ed6908eb434b83f49fa984ff8c41.setContent%28html_043f16fb771b4bafb95145365268a26a%29%3B%0A%20%20%20%20%20%20%20%20%20%20%20%20%0A%0A%20%20%20%20%20%20%20%20%20%20%20%20marker_ef840a5e2b174e3b97bd4c6c7ffb2283.bindPopup%28popup_8bc5ed6908eb434b83f49fa984ff8c41%29%0A%20%20%20%20%20%20%20%20%20%20%20%20%3B%0A%0A%20%20%20%20%20%20%20%20%20%20%20%20%0A%20%20%20%20%20%20%20%20%0A%20%20%20%20%0A%20%20%20%20%20%20%20%20var%20marker_0d7d96204f63467ab364e8edde3472a2%20%3D%20L.marker%28%0A%20%20%20%20%20%20%20%20%20%20%20%20%5B1.3434330230000002%2C%20103.73768620000001%5D%2C%0A%20%20%20%20%20%20%20%20%20%20%20%20%7B%0A%20%20%20%20%20%20%20%20%20%20%20%20%20%20%20%20icon%3A%20new%20L.Icon.Default%28%29%2C%0A%20%20%20%20%20%20%20%20%20%20%20%20%20%20%20%20%7D%0A%20%20%20%20%20%20%20%20%20%20%20%20%29.addTo%28map_4534526a626c4964b48f5ef73708418f%29%3B%0A%20%20%20%20%20%20%20%20%0A%20%20%20%20%0A%20%20%20%20%20%20%20%20%20%20%20%20var%20popup_c648f11914cf4152a6b0f3f5ab0508ca%20%3D%20L.popup%28%7BmaxWidth%3A%20%27100%25%27%0A%20%20%20%20%20%20%20%20%20%20%20%20%0A%20%20%20%20%20%20%20%20%20%20%20%20%7D%29%3B%0A%0A%20%20%20%20%20%20%20%20%20%20%20%20%0A%20%20%20%20%20%20%20%20%20%20%20%20%20%20%20%20var%20html_f81dafe7aeda4060af62b722a517ff42%20%3D%20%24%28%60%3Cdiv%20id%3D%22html_f81dafe7aeda4060af62b722a517ff42%22%20style%3D%22width%3A%20100.0%25%3B%20height%3A%20100.0%25%3B%22%3EJurong%20East%20Street%2024%20Blk%20254%20%28Yuhua%20Village%20Market%20and%20Food%20Centre%29%3C/div%3E%60%29%5B0%5D%3B%0A%20%20%20%20%20%20%20%20%20%20%20%20%20%20%20%20popup_c648f11914cf4152a6b0f3f5ab0508ca.setContent%28html_f81dafe7aeda4060af62b722a517ff42%29%3B%0A%20%20%20%20%20%20%20%20%20%20%20%20%0A%0A%20%20%20%20%20%20%20%20%20%20%20%20marker_0d7d96204f63467ab364e8edde3472a2.bindPopup%28popup_c648f11914cf4152a6b0f3f5ab0508ca%29%0A%20%20%20%20%20%20%20%20%20%20%20%20%3B%0A%0A%20%20%20%20%20%20%20%20%20%20%20%20%0A%20%20%20%20%20%20%20%20%0A%20%20%20%20%0A%20%20%20%20%20%20%20%20var%20marker_d3ec023ea8d746878b8c0400bf08879b%20%3D%20L.marker%28%0A%20%20%20%20%20%20%20%20%20%20%20%20%5B1.341223%2C%20103.697374%5D%2C%0A%20%20%20%20%20%20%20%20%20%20%20%20%7B%0A%20%20%20%20%20%20%20%20%20%20%20%20%20%20%20%20icon%3A%20new%20L.Icon.Default%28%29%2C%0A%20%20%20%20%20%20%20%20%20%20%20%20%20%20%20%20%7D%0A%20%20%20%20%20%20%20%20%20%20%20%20%29.addTo%28map_4534526a626c4964b48f5ef73708418f%29%3B%0A%20%20%20%20%20%20%20%20%0A%20%20%20%20%0A%20%20%20%20%20%20%20%20%20%20%20%20var%20popup_a827cac16f334e53bbd75552c2900bcc%20%3D%20L.popup%28%7BmaxWidth%3A%20%27100%25%27%0A%20%20%20%20%20%20%20%20%20%20%20%20%0A%20%20%20%20%20%20%20%20%20%20%20%20%7D%29%3B%0A%0A%20%20%20%20%20%20%20%20%20%20%20%20%0A%20%20%20%20%20%20%20%20%20%20%20%20%20%20%20%20var%20html_ceeaa2da785d49929b033a617b62dcb0%20%3D%20%24%28%60%3Cdiv%20id%3D%22html_ceeaa2da785d49929b033a617b62dcb0%22%20style%3D%22width%3A%20100.0%25%3B%20height%3A%20100.0%25%3B%22%3EJurong%20West%20Hawker%20Centre%3C/div%3E%60%29%5B0%5D%3B%0A%20%20%20%20%20%20%20%20%20%20%20%20%20%20%20%20popup_a827cac16f334e53bbd75552c2900bcc.setContent%28html_ceeaa2da785d49929b033a617b62dcb0%29%3B%0A%20%20%20%20%20%20%20%20%20%20%20%20%0A%0A%20%20%20%20%20%20%20%20%20%20%20%20marker_d3ec023ea8d746878b8c0400bf08879b.bindPopup%28popup_a827cac16f334e53bbd75552c2900bcc%29%0A%20%20%20%20%20%20%20%20%20%20%20%20%3B%0A%0A%20%20%20%20%20%20%20%20%20%20%20%20%0A%20%20%20%20%20%20%20%20%0A%20%20%20%20%0A%20%20%20%20%20%20%20%20var%20marker_7392117e2f584925b401079444c35072%20%3D%20L.marker%28%0A%20%20%20%20%20%20%20%20%20%20%20%20%5B1.349699974%2C%20103.71846009999999%5D%2C%0A%20%20%20%20%20%20%20%20%20%20%20%20%7B%0A%20%20%20%20%20%20%20%20%20%20%20%20%20%20%20%20icon%3A%20new%20L.Icon.Default%28%29%2C%0A%20%20%20%20%20%20%20%20%20%20%20%20%20%20%20%20%7D%0A%20%20%20%20%20%20%20%20%20%20%20%20%29.addTo%28map_4534526a626c4964b48f5ef73708418f%29%3B%0A%20%20%20%20%20%20%20%20%0A%20%20%20%20%0A%20%20%20%20%20%20%20%20%20%20%20%20var%20popup_a985ea9128ef4c5786e4aa0020af5e55%20%3D%20L.popup%28%7BmaxWidth%3A%20%27100%25%27%0A%20%20%20%20%20%20%20%20%20%20%20%20%0A%20%20%20%20%20%20%20%20%20%20%20%20%7D%29%3B%0A%0A%20%20%20%20%20%20%20%20%20%20%20%20%0A%20%20%20%20%20%20%20%20%20%20%20%20%20%20%20%20var%20html_62c855c28d654875b34d8c37e1735637%20%3D%20%24%28%60%3Cdiv%20id%3D%22html_62c855c28d654875b34d8c37e1735637%22%20style%3D%22width%3A%20100.0%25%3B%20height%3A%20100.0%25%3B%22%3EJurong%20West%20Street%2052%20Blk%20505%3C/div%3E%60%29%5B0%5D%3B%0A%20%20%20%20%20%20%20%20%20%20%20%20%20%20%20%20popup_a985ea9128ef4c5786e4aa0020af5e55.setContent%28html_62c855c28d654875b34d8c37e1735637%29%3B%0A%20%20%20%20%20%20%20%20%20%20%20%20%0A%0A%20%20%20%20%20%20%20%20%20%20%20%20marker_7392117e2f584925b401079444c35072.bindPopup%28popup_a985ea9128ef4c5786e4aa0020af5e55%29%0A%20%20%20%20%20%20%20%20%20%20%20%20%3B%0A%0A%20%20%20%20%20%20%20%20%20%20%20%20%0A%20%20%20%20%20%20%20%20%0A%20%20%20%20%0A%20%20%20%20%20%20%20%20var%20marker_aa3bdc694d8148ee8cca75d1fdfccbca%20%3D%20L.marker%28%0A%20%20%20%20%20%20%20%20%20%20%20%20%5B1.307112455%2C%20103.88414759999999%5D%2C%0A%20%20%20%20%20%20%20%20%20%20%20%20%7B%0A%20%20%20%20%20%20%20%20%20%20%20%20%20%20%20%20icon%3A%20new%20L.Icon.Default%28%29%2C%0A%20%20%20%20%20%20%20%20%20%20%20%20%20%20%20%20%7D%0A%20%20%20%20%20%20%20%20%20%20%20%20%29.addTo%28map_4534526a626c4964b48f5ef73708418f%29%3B%0A%20%20%20%20%20%20%20%20%0A%20%20%20%20%0A%20%20%20%20%20%20%20%20%20%20%20%20var%20popup_fcc7f22388de4759a61299a3a8a1951c%20%3D%20L.popup%28%7BmaxWidth%3A%20%27100%25%27%0A%20%20%20%20%20%20%20%20%20%20%20%20%0A%20%20%20%20%20%20%20%20%20%20%20%20%7D%29%3B%0A%0A%20%20%20%20%20%20%20%20%20%20%20%20%0A%20%20%20%20%20%20%20%20%20%20%20%20%20%20%20%20var%20html_bfe3fd9eaa86458da9b03be2fc3a7758%20%3D%20%24%28%60%3Cdiv%20id%3D%22html_bfe3fd9eaa86458da9b03be2fc3a7758%22%20style%3D%22width%3A%20100.0%25%3B%20height%3A%20100.0%25%3B%22%3EKallang%20Estate%20Fresh%20Market%20and%20Food%20Centre%3C/div%3E%60%29%5B0%5D%3B%0A%20%20%20%20%20%20%20%20%20%20%20%20%20%20%20%20popup_fcc7f22388de4759a61299a3a8a1951c.setContent%28html_bfe3fd9eaa86458da9b03be2fc3a7758%29%3B%0A%20%20%20%20%20%20%20%20%20%20%20%20%0A%0A%20%20%20%20%20%20%20%20%20%20%20%20marker_aa3bdc694d8148ee8cca75d1fdfccbca.bindPopup%28popup_fcc7f22388de4759a61299a3a8a1951c%29%0A%20%20%20%20%20%20%20%20%20%20%20%20%3B%0A%0A%20%20%20%20%20%20%20%20%20%20%20%20%0A%20%20%20%20%20%20%20%20%0A%20%20%20%20%0A%20%20%20%20%20%20%20%20var%20marker_c11653731f23433aa6686da84810f9fb%20%3D%20L.marker%28%0A%20%20%20%20%20%20%20%20%20%20%20%20%5B1.4401190000000001%2C%20103.800735%5D%2C%0A%20%20%20%20%20%20%20%20%20%20%20%20%7B%0A%20%20%20%20%20%20%20%20%20%20%20%20%20%20%20%20icon%3A%20new%20L.Icon.Default%28%29%2C%0A%20%20%20%20%20%20%20%20%20%20%20%20%20%20%20%20%7D%0A%20%20%20%20%20%20%20%20%20%20%20%20%29.addTo%28map_4534526a626c4964b48f5ef73708418f%29%3B%0A%20%20%20%20%20%20%20%20%0A%20%20%20%20%0A%20%20%20%20%20%20%20%20%20%20%20%20var%20popup_2e21508aa9a24e83bb59e04446586534%20%3D%20L.popup%28%7BmaxWidth%3A%20%27100%25%27%0A%20%20%20%20%20%20%20%20%20%20%20%20%0A%20%20%20%20%20%20%20%20%20%20%20%20%7D%29%3B%0A%0A%20%20%20%20%20%20%20%20%20%20%20%20%0A%20%20%20%20%20%20%20%20%20%20%20%20%20%20%20%20var%20html_a81002f3941e417eaf3620a83afa4de6%20%3D%20%24%28%60%3Cdiv%20id%3D%22html_a81002f3941e417eaf3620a83afa4de6%22%20style%3D%22width%3A%20100.0%25%3B%20height%3A%20100.0%25%3B%22%3EKampung%20Admiralty%20Hawker%20Centre%3C/div%3E%60%29%5B0%5D%3B%0A%20%20%20%20%20%20%20%20%20%20%20%20%20%20%20%20popup_2e21508aa9a24e83bb59e04446586534.setContent%28html_a81002f3941e417eaf3620a83afa4de6%29%3B%0A%20%20%20%20%20%20%20%20%20%20%20%20%0A%0A%20%20%20%20%20%20%20%20%20%20%20%20marker_c11653731f23433aa6686da84810f9fb.bindPopup%28popup_2e21508aa9a24e83bb59e04446586534%29%0A%20%20%20%20%20%20%20%20%20%20%20%20%3B%0A%0A%20%20%20%20%20%20%20%20%20%20%20%20%0A%20%20%20%20%20%20%20%20%0A%20%20%20%20%0A%20%20%20%20%20%20%20%20var%20marker_9f235b5cfdc845138b84b0a74d52c6bf%20%3D%20L.marker%28%0A%20%20%20%20%20%20%20%20%20%20%20%20%5B1.302330017%2C%20103.9063873%5D%2C%0A%20%20%20%20%20%20%20%20%20%20%20%20%7B%0A%20%20%20%20%20%20%20%20%20%20%20%20%20%20%20%20icon%3A%20new%20L.Icon.Default%28%29%2C%0A%20%20%20%20%20%20%20%20%20%20%20%20%20%20%20%20%7D%0A%20%20%20%20%20%20%20%20%20%20%20%20%29.addTo%28map_4534526a626c4964b48f5ef73708418f%29%3B%0A%20%20%20%20%20%20%20%20%0A%20%20%20%20%0A%20%20%20%20%20%20%20%20%20%20%20%20var%20popup_f707fd76c12047009c97d466a228e9b1%20%3D%20L.popup%28%7BmaxWidth%3A%20%27100%25%27%0A%20%20%20%20%20%20%20%20%20%20%20%20%0A%20%20%20%20%20%20%20%20%20%20%20%20%7D%29%3B%0A%0A%20%20%20%20%20%20%20%20%20%20%20%20%0A%20%20%20%20%20%20%20%20%20%20%20%20%20%20%20%20var%20html_1b5e110d2e134e5c8f3a64c943b857f8%20%3D%20%24%28%60%3Cdiv%20id%3D%22html_1b5e110d2e134e5c8f3a64c943b857f8%22%20style%3D%22width%3A%20100.0%25%3B%20height%3A%20100.0%25%3B%22%3EMarine%20Parade%20Central%20Blk%2084%20%2884%20Marine%20Parade%20Central%20Market%20and%20Food%20Centre%29%3C/div%3E%60%29%5B0%5D%3B%0A%20%20%20%20%20%20%20%20%20%20%20%20%20%20%20%20popup_f707fd76c12047009c97d466a228e9b1.setContent%28html_1b5e110d2e134e5c8f3a64c943b857f8%29%3B%0A%20%20%20%20%20%20%20%20%20%20%20%20%0A%0A%20%20%20%20%20%20%20%20%20%20%20%20marker_9f235b5cfdc845138b84b0a74d52c6bf.bindPopup%28popup_f707fd76c12047009c97d466a228e9b1%29%0A%20%20%20%20%20%20%20%20%20%20%20%20%3B%0A%0A%20%20%20%20%20%20%20%20%20%20%20%20%0A%20%20%20%20%20%20%20%20%0A%20%20%20%20%0A%20%20%20%20%20%20%20%20var%20marker_f132b1dcc3b04954b357d9e74c36c667%20%3D%20L.marker%28%0A%20%20%20%20%20%20%20%20%20%20%20%20%5B1.305809975%2C%20103.91578670000001%5D%2C%0A%20%20%20%20%20%20%20%20%20%20%20%20%7B%0A%20%20%20%20%20%20%20%20%20%20%20%20%20%20%20%20icon%3A%20new%20L.Icon.Default%28%29%2C%0A%20%20%20%20%20%20%20%20%20%20%20%20%20%20%20%20%7D%0A%20%20%20%20%20%20%20%20%20%20%20%20%29.addTo%28map_4534526a626c4964b48f5ef73708418f%29%3B%0A%20%20%20%20%20%20%20%20%0A%20%20%20%20%0A%20%20%20%20%20%20%20%20%20%20%20%20var%20popup_dcc215194c5742f5ae5e14f365f27193%20%3D%20L.popup%28%7BmaxWidth%3A%20%27100%25%27%0A%20%20%20%20%20%20%20%20%20%20%20%20%0A%20%20%20%20%20%20%20%20%20%20%20%20%7D%29%3B%0A%0A%20%20%20%20%20%20%20%20%20%20%20%20%0A%20%20%20%20%20%20%20%20%20%20%20%20%20%20%20%20var%20html_db460f4d34864dc08136b2cf13592096%20%3D%20%24%28%60%3Cdiv%20id%3D%22html_db460f4d34864dc08136b2cf13592096%22%20style%3D%22width%3A%20100.0%25%3B%20height%3A%20100.0%25%3B%22%3EMarine%20Terrace%20Blk%2050A%20%2850A%20Marine%20Terrace%29%3C/div%3E%60%29%5B0%5D%3B%0A%20%20%20%20%20%20%20%20%20%20%20%20%20%20%20%20popup_dcc215194c5742f5ae5e14f365f27193.setContent%28html_db460f4d34864dc08136b2cf13592096%29%3B%0A%20%20%20%20%20%20%20%20%20%20%20%20%0A%0A%20%20%20%20%20%20%20%20%20%20%20%20marker_f132b1dcc3b04954b357d9e74c36c667.bindPopup%28popup_dcc215194c5742f5ae5e14f365f27193%29%0A%20%20%20%20%20%20%20%20%20%20%20%20%3B%0A%0A%20%20%20%20%20%20%20%20%20%20%20%20%0A%20%20%20%20%20%20%20%20%0A%20%20%20%20%0A%20%20%20%20%20%20%20%20var%20marker_d88784d9f5bc4d1d93e1da99211c1fdf%20%3D%20L.marker%28%0A%20%20%20%20%20%20%20%20%20%20%20%20%5B1.281567926%2C%20103.8488473%5D%2C%0A%20%20%20%20%20%20%20%20%20%20%20%20%7B%0A%20%20%20%20%20%20%20%20%20%20%20%20%20%20%20%20icon%3A%20new%20L.Icon.Default%28%29%2C%0A%20%20%20%20%20%20%20%20%20%20%20%20%20%20%20%20%7D%0A%20%20%20%20%20%20%20%20%20%20%20%20%29.addTo%28map_4534526a626c4964b48f5ef73708418f%29%3B%0A%20%20%20%20%20%20%20%20%0A%20%20%20%20%0A%20%20%20%20%20%20%20%20%20%20%20%20var%20popup_66fd1d65aa0848adbb9740edba6c3c66%20%3D%20L.popup%28%7BmaxWidth%3A%20%27100%25%27%0A%20%20%20%20%20%20%20%20%20%20%20%20%0A%20%20%20%20%20%20%20%20%20%20%20%20%7D%29%3B%0A%0A%20%20%20%20%20%20%20%20%20%20%20%20%0A%20%20%20%20%20%20%20%20%20%20%20%20%20%20%20%20var%20html_c5712429c1d54f7aa08d3920b7c6f027%20%3D%20%24%28%60%3Cdiv%20id%3D%22html_c5712429c1d54f7aa08d3920b7c6f027%22%20style%3D%22width%3A%20100.0%25%3B%20height%3A%20100.0%25%3B%22%3EMarket%20Street%20Interim%20Hawker%20Centre%3C/div%3E%60%29%5B0%5D%3B%0A%20%20%20%20%20%20%20%20%20%20%20%20%20%20%20%20popup_66fd1d65aa0848adbb9740edba6c3c66.setContent%28html_c5712429c1d54f7aa08d3920b7c6f027%29%3B%0A%20%20%20%20%20%20%20%20%20%20%20%20%0A%0A%20%20%20%20%20%20%20%20%20%20%20%20marker_d88784d9f5bc4d1d93e1da99211c1fdf.bindPopup%28popup_66fd1d65aa0848adbb9740edba6c3c66%29%0A%20%20%20%20%20%20%20%20%20%20%20%20%3B%0A%0A%20%20%20%20%20%20%20%20%20%20%20%20%0A%20%20%20%20%20%20%20%20%0A%20%20%20%20%0A%20%20%20%20%20%20%20%20var%20marker_22a3f1caa89d4642bb2258226a7915d9%20%3D%20L.marker%28%0A%20%20%20%20%20%20%20%20%20%20%20%20%5B1.4439899919999999%2C%20103.7772598%5D%2C%0A%20%20%20%20%20%20%20%20%20%20%20%20%7B%0A%20%20%20%20%20%20%20%20%20%20%20%20%20%20%20%20icon%3A%20new%20L.Icon.Default%28%29%2C%0A%20%20%20%20%20%20%20%20%20%20%20%20%20%20%20%20%7D%0A%20%20%20%20%20%20%20%20%20%20%20%20%29.addTo%28map_4534526a626c4964b48f5ef73708418f%29%3B%0A%20%20%20%20%20%20%20%20%0A%20%20%20%20%0A%20%20%20%20%20%20%20%20%20%20%20%20var%20popup_b78102481d15459e96183c38a6cf35a9%20%3D%20L.popup%28%7BmaxWidth%3A%20%27100%25%27%0A%20%20%20%20%20%20%20%20%20%20%20%20%0A%20%20%20%20%20%20%20%20%20%20%20%20%7D%29%3B%0A%0A%20%20%20%20%20%20%20%20%20%20%20%20%0A%20%20%20%20%20%20%20%20%20%20%20%20%20%20%20%20var%20html_e761162a6ebd4e0881a52b0c82868973%20%3D%20%24%28%60%3Cdiv%20id%3D%22html_e761162a6ebd4e0881a52b0c82868973%22%20style%3D%22width%3A%20100.0%25%3B%20height%3A%20100.0%25%3B%22%3EMarsiling%20Lane%20Blk%2020/21%3C/div%3E%60%29%5B0%5D%3B%0A%20%20%20%20%20%20%20%20%20%20%20%20%20%20%20%20popup_b78102481d15459e96183c38a6cf35a9.setContent%28html_e761162a6ebd4e0881a52b0c82868973%29%3B%0A%20%20%20%20%20%20%20%20%20%20%20%20%0A%0A%20%20%20%20%20%20%20%20%20%20%20%20marker_22a3f1caa89d4642bb2258226a7915d9.bindPopup%28popup_b78102481d15459e96183c38a6cf35a9%29%0A%20%20%20%20%20%20%20%20%20%20%20%20%3B%0A%0A%20%20%20%20%20%20%20%20%20%20%20%20%0A%20%20%20%20%20%20%20%20%0A%20%20%20%20%0A%20%20%20%20%20%20%20%20var%20marker_bf22b4e34fd246328f309fa68fca4c3b%20%3D%20L.marker%28%0A%20%20%20%20%20%20%20%20%20%20%20%20%5B1.433543%2C%20103.779881%5D%2C%0A%20%20%20%20%20%20%20%20%20%20%20%20%7B%0A%20%20%20%20%20%20%20%20%20%20%20%20%20%20%20%20icon%3A%20new%20L.Icon.Default%28%29%2C%0A%20%20%20%20%20%20%20%20%20%20%20%20%20%20%20%20%7D%0A%20%20%20%20%20%20%20%20%20%20%20%20%29.addTo%28map_4534526a626c4964b48f5ef73708418f%29%3B%0A%20%20%20%20%20%20%20%20%0A%20%20%20%20%0A%20%20%20%20%20%20%20%20%20%20%20%20var%20popup_f50e3f0ff89447fb9dc3255e8c8775f5%20%3D%20L.popup%28%7BmaxWidth%3A%20%27100%25%27%0A%20%20%20%20%20%20%20%20%20%20%20%20%0A%20%20%20%20%20%20%20%20%20%20%20%20%7D%29%3B%0A%0A%20%20%20%20%20%20%20%20%20%20%20%20%0A%20%20%20%20%20%20%20%20%20%20%20%20%20%20%20%20var%20html_7a864e9dde1e4628b10f39a9bef3fb36%20%3D%20%24%28%60%3Cdiv%20id%3D%22html_7a864e9dde1e4628b10f39a9bef3fb36%22%20style%3D%22width%3A%20100.0%25%3B%20height%3A%20100.0%25%3B%22%3EMarsiling%20Mall%20Hawker%20Centre%3C/div%3E%60%29%5B0%5D%3B%0A%20%20%20%20%20%20%20%20%20%20%20%20%20%20%20%20popup_f50e3f0ff89447fb9dc3255e8c8775f5.setContent%28html_7a864e9dde1e4628b10f39a9bef3fb36%29%3B%0A%20%20%20%20%20%20%20%20%20%20%20%20%0A%0A%20%20%20%20%20%20%20%20%20%20%20%20marker_bf22b4e34fd246328f309fa68fca4c3b.bindPopup%28popup_f50e3f0ff89447fb9dc3255e8c8775f5%29%0A%20%20%20%20%20%20%20%20%20%20%20%20%3B%0A%0A%20%20%20%20%20%20%20%20%20%20%20%20%0A%20%20%20%20%20%20%20%20%0A%20%20%20%20%0A%20%20%20%20%20%20%20%20var%20marker_3f00d405bde54e8a8bc27a53d90a896e%20%3D%20L.marker%28%0A%20%20%20%20%20%20%20%20%20%20%20%20%5B1.280550957%2C%20103.8444595%5D%2C%0A%20%20%20%20%20%20%20%20%20%20%20%20%7B%0A%20%20%20%20%20%20%20%20%20%20%20%20%20%20%20%20icon%3A%20new%20L.Icon.Default%28%29%2C%0A%20%20%20%20%20%20%20%20%20%20%20%20%20%20%20%20%7D%0A%20%20%20%20%20%20%20%20%20%20%20%20%29.addTo%28map_4534526a626c4964b48f5ef73708418f%29%3B%0A%20%20%20%20%20%20%20%20%0A%20%20%20%20%0A%20%20%20%20%20%20%20%20%20%20%20%20var%20popup_1e1d1d7513264768a14cc64871d76be5%20%3D%20L.popup%28%7BmaxWidth%3A%20%27100%25%27%0A%20%20%20%20%20%20%20%20%20%20%20%20%0A%20%20%20%20%20%20%20%20%20%20%20%20%7D%29%3B%0A%0A%20%20%20%20%20%20%20%20%20%20%20%20%0A%20%20%20%20%20%20%20%20%20%20%20%20%20%20%20%20var%20html_408f112bf66a47cc959dfcd7c760bec8%20%3D%20%24%28%60%3Cdiv%20id%3D%22html_408f112bf66a47cc959dfcd7c760bec8%22%20style%3D%22width%3A%20100.0%25%3B%20height%3A%20100.0%25%3B%22%3EMaxwell%20Food%20Centre%20%28Kim%20Hua%20Market%29%3C/div%3E%60%29%5B0%5D%3B%0A%20%20%20%20%20%20%20%20%20%20%20%20%20%20%20%20popup_1e1d1d7513264768a14cc64871d76be5.setContent%28html_408f112bf66a47cc959dfcd7c760bec8%29%3B%0A%20%20%20%20%20%20%20%20%20%20%20%20%0A%0A%20%20%20%20%20%20%20%20%20%20%20%20marker_3f00d405bde54e8a8bc27a53d90a896e.bindPopup%28popup_1e1d1d7513264768a14cc64871d76be5%29%0A%20%20%20%20%20%20%20%20%20%20%20%20%3B%0A%0A%20%20%20%20%20%20%20%20%20%20%20%20%0A%20%20%20%20%20%20%20%20%0A%20%20%20%20%0A%20%20%20%20%20%20%20%20var%20marker_4ce5e97848de4a61a0a4b746854a8326%20%3D%20L.marker%28%0A%20%20%20%20%20%20%20%20%20%20%20%20%5B1.293300033%2C%20103.80296329999999%5D%2C%0A%20%20%20%20%20%20%20%20%20%20%20%20%7B%0A%20%20%20%20%20%20%20%20%20%20%20%20%20%20%20%20icon%3A%20new%20L.Icon.Default%28%29%2C%0A%20%20%20%20%20%20%20%20%20%20%20%20%20%20%20%20%7D%0A%20%20%20%20%20%20%20%20%20%20%20%20%29.addTo%28map_4534526a626c4964b48f5ef73708418f%29%3B%0A%20%20%20%20%20%20%20%20%0A%20%20%20%20%0A%20%20%20%20%20%20%20%20%20%20%20%20var%20popup_33f91209be484fdbb85c25301861a79f%20%3D%20L.popup%28%7BmaxWidth%3A%20%27100%25%27%0A%20%20%20%20%20%20%20%20%20%20%20%20%0A%20%20%20%20%20%20%20%20%20%20%20%20%7D%29%3B%0A%0A%20%20%20%20%20%20%20%20%20%20%20%20%0A%20%20%20%20%20%20%20%20%20%20%20%20%20%20%20%20var%20html_85ffe0ec172147728072922142e6016c%20%3D%20%24%28%60%3Cdiv%20id%3D%22html_85ffe0ec172147728072922142e6016c%22%20style%3D%22width%3A%20100.0%25%3B%20height%3A%20100.0%25%3B%22%3EMei%20Chin%20Road%20Blk%20159%20%28Mei%20Chin%20Road%20Market%29%3C/div%3E%60%29%5B0%5D%3B%0A%20%20%20%20%20%20%20%20%20%20%20%20%20%20%20%20popup_33f91209be484fdbb85c25301861a79f.setContent%28html_85ffe0ec172147728072922142e6016c%29%3B%0A%20%20%20%20%20%20%20%20%20%20%20%20%0A%0A%20%20%20%20%20%20%20%20%20%20%20%20marker_4ce5e97848de4a61a0a4b746854a8326.bindPopup%28popup_33f91209be484fdbb85c25301861a79f%29%0A%20%20%20%20%20%20%20%20%20%20%20%20%3B%0A%0A%20%20%20%20%20%20%20%20%20%20%20%20%0A%20%20%20%20%20%20%20%20%0A%20%20%20%20%0A%20%20%20%20%20%20%20%20var%20marker_b3eed12c06f143869d50b0e7f9c5509b%20%3D%20L.marker%28%0A%20%20%20%20%20%20%20%20%20%20%20%20%5B1.284870982%2C%20103.8425903%5D%2C%0A%20%20%20%20%20%20%20%20%20%20%20%20%7B%0A%20%20%20%20%20%20%20%20%20%20%20%20%20%20%20%20icon%3A%20new%20L.Icon.Default%28%29%2C%0A%20%20%20%20%20%20%20%20%20%20%20%20%20%20%20%20%7D%0A%20%20%20%20%20%20%20%20%20%20%20%20%29.addTo%28map_4534526a626c4964b48f5ef73708418f%29%3B%0A%20%20%20%20%20%20%20%20%0A%20%20%20%20%0A%20%20%20%20%20%20%20%20%20%20%20%20var%20popup_269481bdecc34a2aa0c1f9655b2514c3%20%3D%20L.popup%28%7BmaxWidth%3A%20%27100%25%27%0A%20%20%20%20%20%20%20%20%20%20%20%20%0A%20%20%20%20%20%20%20%20%20%20%20%20%7D%29%3B%0A%0A%20%20%20%20%20%20%20%20%20%20%20%20%0A%20%20%20%20%20%20%20%20%20%20%20%20%20%20%20%20var%20html_b2765949aa4c4ee39b187ad6bb931d42%20%3D%20%24%28%60%3Cdiv%20id%3D%22html_b2765949aa4c4ee39b187ad6bb931d42%22%20style%3D%22width%3A%20100.0%25%3B%20height%3A%20100.0%25%3B%22%3ENew%20Market%20Road%20Blk%2032%20%28People%27s%20Park%20Food%20Centre%29%3C/div%3E%60%29%5B0%5D%3B%0A%20%20%20%20%20%20%20%20%20%20%20%20%20%20%20%20popup_269481bdecc34a2aa0c1f9655b2514c3.setContent%28html_b2765949aa4c4ee39b187ad6bb931d42%29%3B%0A%20%20%20%20%20%20%20%20%20%20%20%20%0A%0A%20%20%20%20%20%20%20%20%20%20%20%20marker_b3eed12c06f143869d50b0e7f9c5509b.bindPopup%28popup_269481bdecc34a2aa0c1f9655b2514c3%29%0A%20%20%20%20%20%20%20%20%20%20%20%20%3B%0A%0A%20%20%20%20%20%20%20%20%20%20%20%20%0A%20%20%20%20%20%20%20%20%0A%20%20%20%20%0A%20%20%20%20%20%20%20%20var%20marker_d6840a6ed2b94883aaa2128cb815f1e3%20%3D%20L.marker%28%0A%20%20%20%20%20%20%20%20%20%20%20%20%5B1.324629%2C%20103.930477%5D%2C%0A%20%20%20%20%20%20%20%20%20%20%20%20%7B%0A%20%20%20%20%20%20%20%20%20%20%20%20%20%20%20%20icon%3A%20new%20L.Icon.Default%28%29%2C%0A%20%20%20%20%20%20%20%20%20%20%20%20%20%20%20%20%7D%0A%20%20%20%20%20%20%20%20%20%20%20%20%29.addTo%28map_4534526a626c4964b48f5ef73708418f%29%3B%0A%20%20%20%20%20%20%20%20%0A%20%20%20%20%0A%20%20%20%20%20%20%20%20%20%20%20%20var%20popup_0eb37060f96b411e849ded2e948c8a82%20%3D%20L.popup%28%7BmaxWidth%3A%20%27100%25%27%0A%20%20%20%20%20%20%20%20%20%20%20%20%0A%20%20%20%20%20%20%20%20%20%20%20%20%7D%29%3B%0A%0A%20%20%20%20%20%20%20%20%20%20%20%20%0A%20%20%20%20%20%20%20%20%20%20%20%20%20%20%20%20var%20html_9fa48821116841a8a0711fca7adea15e%20%3D%20%24%28%60%3Cdiv%20id%3D%22html_9fa48821116841a8a0711fca7adea15e%22%20style%3D%22width%3A%20100.0%25%3B%20height%3A%20100.0%25%3B%22%3ENew%20Upper%20Changi%20Road%20Blk%20208B%3C/div%3E%60%29%5B0%5D%3B%0A%20%20%20%20%20%20%20%20%20%20%20%20%20%20%20%20popup_0eb37060f96b411e849ded2e948c8a82.setContent%28html_9fa48821116841a8a0711fca7adea15e%29%3B%0A%20%20%20%20%20%20%20%20%20%20%20%20%0A%0A%20%20%20%20%20%20%20%20%20%20%20%20marker_d6840a6ed2b94883aaa2128cb815f1e3.bindPopup%28popup_0eb37060f96b411e849ded2e948c8a82%29%0A%20%20%20%20%20%20%20%20%20%20%20%20%3B%0A%0A%20%20%20%20%20%20%20%20%20%20%20%20%0A%20%20%20%20%20%20%20%20%0A%20%20%20%20%0A%20%20%20%20%20%20%20%20var%20marker_b5bcbfc948334f19a8df1f071bc3b924%20%3D%20L.marker%28%0A%20%20%20%20%20%20%20%20%20%20%20%20%5B1.32516551%2C%20103.940155%5D%2C%0A%20%20%20%20%20%20%20%20%20%20%20%20%7B%0A%20%20%20%20%20%20%20%20%20%20%20%20%20%20%20%20icon%3A%20new%20L.Icon.Default%28%29%2C%0A%20%20%20%20%20%20%20%20%20%20%20%20%20%20%20%20%7D%0A%20%20%20%20%20%20%20%20%20%20%20%20%29.addTo%28map_4534526a626c4964b48f5ef73708418f%29%3B%0A%20%20%20%20%20%20%20%20%0A%20%20%20%20%0A%20%20%20%20%20%20%20%20%20%20%20%20var%20popup_85c6a26dcde74c8b91a80d109310248e%20%3D%20L.popup%28%7BmaxWidth%3A%20%27100%25%27%0A%20%20%20%20%20%20%20%20%20%20%20%20%0A%20%20%20%20%20%20%20%20%20%20%20%20%7D%29%3B%0A%0A%20%20%20%20%20%20%20%20%20%20%20%20%0A%20%20%20%20%20%20%20%20%20%20%20%20%20%20%20%20var%20html_63afac5b70074df5a65e0928d15c7c12%20%3D%20%24%28%60%3Cdiv%20id%3D%22html_63afac5b70074df5a65e0928d15c7c12%22%20style%3D%22width%3A%20100.0%25%3B%20height%3A%20100.0%25%3B%22%3ENew%20Upper%20Changi%20Road%20Blk%2058%3C/div%3E%60%29%5B0%5D%3B%0A%20%20%20%20%20%20%20%20%20%20%20%20%20%20%20%20popup_85c6a26dcde74c8b91a80d109310248e.setContent%28html_63afac5b70074df5a65e0928d15c7c12%29%3B%0A%20%20%20%20%20%20%20%20%20%20%20%20%0A%0A%20%20%20%20%20%20%20%20%20%20%20%20marker_b5bcbfc948334f19a8df1f071bc3b924.bindPopup%28popup_85c6a26dcde74c8b91a80d109310248e%29%0A%20%20%20%20%20%20%20%20%20%20%20%20%3B%0A%0A%20%20%20%20%20%20%20%20%20%20%20%20%0A%20%20%20%20%20%20%20%20%0A%20%20%20%20%0A%20%20%20%20%20%20%20%20var%20marker_3319c13fa29644bba79058b82800e276%20%3D%20L.marker%28%0A%20%20%20%20%20%20%20%20%20%20%20%20%5B1.312224984%2C%20103.83972929999999%5D%2C%0A%20%20%20%20%20%20%20%20%20%20%20%20%7B%0A%20%20%20%20%20%20%20%20%20%20%20%20%20%20%20%20icon%3A%20new%20L.Icon.Default%28%29%2C%0A%20%20%20%20%20%20%20%20%20%20%20%20%20%20%20%20%7D%0A%20%20%20%20%20%20%20%20%20%20%20%20%29.addTo%28map_4534526a626c4964b48f5ef73708418f%29%3B%0A%20%20%20%20%20%20%20%20%0A%20%20%20%20%0A%20%20%20%20%20%20%20%20%20%20%20%20var%20popup_ae5b58fe7f6648b0a1915addbdf98377%20%3D%20L.popup%28%7BmaxWidth%3A%20%27100%25%27%0A%20%20%20%20%20%20%20%20%20%20%20%20%0A%20%20%20%20%20%20%20%20%20%20%20%20%7D%29%3B%0A%0A%20%20%20%20%20%20%20%20%20%20%20%20%0A%20%20%20%20%20%20%20%20%20%20%20%20%20%20%20%20var%20html_a97902ecce6c4d56bbeb262449262ed3%20%3D%20%24%28%60%3Cdiv%20id%3D%22html_a97902ecce6c4d56bbeb262449262ed3%22%20style%3D%22width%3A%20100.0%25%3B%20height%3A%20100.0%25%3B%22%3ENewton%20Food%20Centre%3C/div%3E%60%29%5B0%5D%3B%0A%20%20%20%20%20%20%20%20%20%20%20%20%20%20%20%20popup_ae5b58fe7f6648b0a1915addbdf98377.setContent%28html_a97902ecce6c4d56bbeb262449262ed3%29%3B%0A%20%20%20%20%20%20%20%20%20%20%20%20%0A%0A%20%20%20%20%20%20%20%20%20%20%20%20marker_3319c13fa29644bba79058b82800e276.bindPopup%28popup_ae5b58fe7f6648b0a1915addbdf98377%29%0A%20%20%20%20%20%20%20%20%20%20%20%20%3B%0A%0A%20%20%20%20%20%20%20%20%20%20%20%20%0A%20%20%20%20%20%20%20%20%0A%20%20%20%20%0A%20%20%20%20%20%20%20%20var%20marker_cf42b89a38e5496fbbd4befdaf270065%20%3D%20L.marker%28%0A%20%20%20%20%20%20%20%20%20%20%20%20%5B1.305847049%2C%20103.8638611%5D%2C%0A%20%20%20%20%20%20%20%20%20%20%20%20%7B%0A%20%20%20%20%20%20%20%20%20%20%20%20%20%20%20%20icon%3A%20new%20L.Icon.Default%28%29%2C%0A%20%20%20%20%20%20%20%20%20%20%20%20%20%20%20%20%7D%0A%20%20%20%20%20%20%20%20%20%20%20%20%29.addTo%28map_4534526a626c4964b48f5ef73708418f%29%3B%0A%20%20%20%20%20%20%20%20%0A%20%20%20%20%0A%20%20%20%20%20%20%20%20%20%20%20%20var%20popup_3d0faa8d53184d7385760b5c4e8c0f6c%20%3D%20L.popup%28%7BmaxWidth%3A%20%27100%25%27%0A%20%20%20%20%20%20%20%20%20%20%20%20%0A%20%20%20%20%20%20%20%20%20%20%20%20%7D%29%3B%0A%0A%20%20%20%20%20%20%20%20%20%20%20%20%0A%20%20%20%20%20%20%20%20%20%20%20%20%20%20%20%20var%20html_ed2f81ac623f46a5a66a7a6464525862%20%3D%20%24%28%60%3Cdiv%20id%3D%22html_ed2f81ac623f46a5a66a7a6464525862%22%20style%3D%22width%3A%20100.0%25%3B%20height%3A%20100.0%25%3B%22%3ENorth%20Bridge%20Road%20Market%3C/div%3E%60%29%5B0%5D%3B%0A%20%20%20%20%20%20%20%20%20%20%20%20%20%20%20%20popup_3d0faa8d53184d7385760b5c4e8c0f6c.setContent%28html_ed2f81ac623f46a5a66a7a6464525862%29%3B%0A%20%20%20%20%20%20%20%20%20%20%20%20%0A%0A%20%20%20%20%20%20%20%20%20%20%20%20marker_cf42b89a38e5496fbbd4befdaf270065.bindPopup%28popup_3d0faa8d53184d7385760b5c4e8c0f6c%29%0A%20%20%20%20%20%20%20%20%20%20%20%20%3B%0A%0A%20%20%20%20%20%20%20%20%20%20%20%20%0A%20%20%20%20%20%20%20%20%0A%20%20%20%20%0A%20%20%20%20%20%20%20%20var%20marker_91b15be58c454326856c4cbd9f304660%20%3D%20L.marker%28%0A%20%20%20%20%20%20%20%20%20%20%20%20%5B1.308279991%2C%20103.8858414%5D%2C%0A%20%20%20%20%20%20%20%20%20%20%20%20%7B%0A%20%20%20%20%20%20%20%20%20%20%20%20%20%20%20%20icon%3A%20new%20L.Icon.Default%28%29%2C%0A%20%20%20%20%20%20%20%20%20%20%20%20%20%20%20%20%7D%0A%20%20%20%20%20%20%20%20%20%20%20%20%29.addTo%28map_4534526a626c4964b48f5ef73708418f%29%3B%0A%20%20%20%20%20%20%20%20%0A%20%20%20%20%0A%20%20%20%20%20%20%20%20%20%20%20%20var%20popup_a2337e76a040489ba19cbfe0520fd7ae%20%3D%20L.popup%28%7BmaxWidth%3A%20%27100%25%27%0A%20%20%20%20%20%20%20%20%20%20%20%20%0A%20%20%20%20%20%20%20%20%20%20%20%20%7D%29%3B%0A%0A%20%20%20%20%20%20%20%20%20%20%20%20%0A%20%20%20%20%20%20%20%20%20%20%20%20%20%20%20%20var%20html_a70738938abc4d98808e02e9cd519471%20%3D%20%24%28%60%3Cdiv%20id%3D%22html_a70738938abc4d98808e02e9cd519471%22%20style%3D%22width%3A%20100.0%25%3B%20height%3A%20100.0%25%3B%22%3EOld%20Airport%20Road%20Blk%2051%20%2851%20Old%20Airport%20Road%20Food%20Centre%20and%20Shopping%20Mall%29%3C/div%3E%60%29%5B0%5D%3B%0A%20%20%20%20%20%20%20%20%20%20%20%20%20%20%20%20popup_a2337e76a040489ba19cbfe0520fd7ae.setContent%28html_a70738938abc4d98808e02e9cd519471%29%3B%0A%20%20%20%20%20%20%20%20%20%20%20%20%0A%0A%20%20%20%20%20%20%20%20%20%20%20%20marker_91b15be58c454326856c4cbd9f304660.bindPopup%28popup_a2337e76a040489ba19cbfe0520fd7ae%29%0A%20%20%20%20%20%20%20%20%20%20%20%20%3B%0A%0A%20%20%20%20%20%20%20%20%20%20%20%20%0A%20%20%20%20%20%20%20%20%0A%20%20%20%20%0A%20%20%20%20%20%20%20%20var%20marker_ca9e49dca006478baa42df2abf410cfb%20%3D%20L.marker%28%0A%20%20%20%20%20%20%20%20%20%20%20%20%5B1.352983%2C%20103.94023100000001%5D%2C%0A%20%20%20%20%20%20%20%20%20%20%20%20%7B%0A%20%20%20%20%20%20%20%20%20%20%20%20%20%20%20%20icon%3A%20new%20L.Icon.Default%28%29%2C%0A%20%20%20%20%20%20%20%20%20%20%20%20%20%20%20%20%7D%0A%20%20%20%20%20%20%20%20%20%20%20%20%29.addTo%28map_4534526a626c4964b48f5ef73708418f%29%3B%0A%20%20%20%20%20%20%20%20%0A%20%20%20%20%0A%20%20%20%20%20%20%20%20%20%20%20%20var%20popup_0ccccaaf41cc4cb7811037f1c9baa001%20%3D%20L.popup%28%7BmaxWidth%3A%20%27100%25%27%0A%20%20%20%20%20%20%20%20%20%20%20%20%0A%20%20%20%20%20%20%20%20%20%20%20%20%7D%29%3B%0A%0A%20%20%20%20%20%20%20%20%20%20%20%20%0A%20%20%20%20%20%20%20%20%20%20%20%20%20%20%20%20var%20html_d130f565727a47dd9c259858a6e9e55d%20%3D%20%24%28%60%3Cdiv%20id%3D%22html_d130f565727a47dd9c259858a6e9e55d%22%20style%3D%22width%3A%20100.0%25%3B%20height%3A%20100.0%25%3B%22%3EOur%20Tampines%20Hub%3C/div%3E%60%29%5B0%5D%3B%0A%20%20%20%20%20%20%20%20%20%20%20%20%20%20%20%20popup_0ccccaaf41cc4cb7811037f1c9baa001.setContent%28html_d130f565727a47dd9c259858a6e9e55d%29%3B%0A%20%20%20%20%20%20%20%20%20%20%20%20%0A%0A%20%20%20%20%20%20%20%20%20%20%20%20marker_ca9e49dca006478baa42df2abf410cfb.bindPopup%28popup_0ccccaaf41cc4cb7811037f1c9baa001%29%0A%20%20%20%20%20%20%20%20%20%20%20%20%3B%0A%0A%20%20%20%20%20%20%20%20%20%20%20%20%0A%20%20%20%20%20%20%20%20%0A%20%20%20%20%0A%20%20%20%20%20%20%20%20var%20marker_8f7a8b16dcc8481f8ff84561c3f7da96%20%3D%20L.marker%28%0A%20%20%20%20%20%20%20%20%20%20%20%20%5B1.275658965%2C%20103.7915573%5D%2C%0A%20%20%20%20%20%20%20%20%20%20%20%20%7B%0A%20%20%20%20%20%20%20%20%20%20%20%20%20%20%20%20icon%3A%20new%20L.Icon.Default%28%29%2C%0A%20%20%20%20%20%20%20%20%20%20%20%20%20%20%20%20%7D%0A%20%20%20%20%20%20%20%20%20%20%20%20%29.addTo%28map_4534526a626c4964b48f5ef73708418f%29%3B%0A%20%20%20%20%20%20%20%20%0A%20%20%20%20%0A%20%20%20%20%20%20%20%20%20%20%20%20var%20popup_99d06513dad6419d82fa35dd8cb71da0%20%3D%20L.popup%28%7BmaxWidth%3A%20%27100%25%27%0A%20%20%20%20%20%20%20%20%20%20%20%20%0A%20%20%20%20%20%20%20%20%20%20%20%20%7D%29%3B%0A%0A%20%20%20%20%20%20%20%20%20%20%20%20%0A%20%20%20%20%20%20%20%20%20%20%20%20%20%20%20%20var%20html_0cbfd6b7889949048a42bbc27582ef2d%20%3D%20%24%28%60%3Cdiv%20id%3D%22html_0cbfd6b7889949048a42bbc27582ef2d%22%20style%3D%22width%3A%20100.0%25%3B%20height%3A%20100.0%25%3B%22%3EPasir%20Panjang%20Food%20Centre%3C/div%3E%60%29%5B0%5D%3B%0A%20%20%20%20%20%20%20%20%20%20%20%20%20%20%20%20popup_99d06513dad6419d82fa35dd8cb71da0.setContent%28html_0cbfd6b7889949048a42bbc27582ef2d%29%3B%0A%20%20%20%20%20%20%20%20%20%20%20%20%0A%0A%20%20%20%20%20%20%20%20%20%20%20%20marker_8f7a8b16dcc8481f8ff84561c3f7da96.bindPopup%28popup_99d06513dad6419d82fa35dd8cb71da0%29%0A%20%20%20%20%20%20%20%20%20%20%20%20%3B%0A%0A%20%20%20%20%20%20%20%20%20%20%20%20%0A%20%20%20%20%20%20%20%20%0A%20%20%20%20%0A%20%20%20%20%20%20%20%20var%20marker_cf1860ef72124b1ea4f63aca65f03c14%20%3D%20L.marker%28%0A%20%20%20%20%20%20%20%20%20%20%20%20%5B1.373318%2C%20103.951364%5D%2C%0A%20%20%20%20%20%20%20%20%20%20%20%20%7B%0A%20%20%20%20%20%20%20%20%20%20%20%20%20%20%20%20icon%3A%20new%20L.Icon.Default%28%29%2C%0A%20%20%20%20%20%20%20%20%20%20%20%20%20%20%20%20%7D%0A%20%20%20%20%20%20%20%20%20%20%20%20%29.addTo%28map_4534526a626c4964b48f5ef73708418f%29%3B%0A%20%20%20%20%20%20%20%20%0A%20%20%20%20%0A%20%20%20%20%20%20%20%20%20%20%20%20var%20popup_244364aa740a482f8ed0a52c249a9008%20%3D%20L.popup%28%7BmaxWidth%3A%20%27100%25%27%0A%20%20%20%20%20%20%20%20%20%20%20%20%0A%20%20%20%20%20%20%20%20%20%20%20%20%7D%29%3B%0A%0A%20%20%20%20%20%20%20%20%20%20%20%20%0A%20%20%20%20%20%20%20%20%20%20%20%20%20%20%20%20var%20html_868fa0fbb745453d927c3de25278497b%20%3D%20%24%28%60%3Cdiv%20id%3D%22html_868fa0fbb745453d927c3de25278497b%22%20style%3D%22width%3A%20100.0%25%3B%20height%3A%20100.0%25%3B%22%3EPasir%20Ris%20Central%20Hawker%20Centre%3C/div%3E%60%29%5B0%5D%3B%0A%20%20%20%20%20%20%20%20%20%20%20%20%20%20%20%20popup_244364aa740a482f8ed0a52c249a9008.setContent%28html_868fa0fbb745453d927c3de25278497b%29%3B%0A%20%20%20%20%20%20%20%20%20%20%20%20%0A%0A%20%20%20%20%20%20%20%20%20%20%20%20marker_cf1860ef72124b1ea4f63aca65f03c14.bindPopup%28popup_244364aa740a482f8ed0a52c249a9008%29%0A%20%20%20%20%20%20%20%20%20%20%20%20%3B%0A%0A%20%20%20%20%20%20%20%20%20%20%20%20%0A%20%20%20%20%20%20%20%20%0A%20%20%20%20%0A%20%20%20%20%20%20%20%20var%20marker_93db3f6f9ca54f3cb4ead9acb533acf3%20%3D%20L.marker%28%0A%20%20%20%20%20%20%20%20%20%20%20%20%5B1.301120043%2C%20103.8541412%5D%2C%0A%20%20%20%20%20%20%20%20%20%20%20%20%7B%0A%20%20%20%20%20%20%20%20%20%20%20%20%20%20%20%20icon%3A%20new%20L.Icon.Default%28%29%2C%0A%20%20%20%20%20%20%20%20%20%20%20%20%20%20%20%20%7D%0A%20%20%20%20%20%20%20%20%20%20%20%20%29.addTo%28map_4534526a626c4964b48f5ef73708418f%29%3B%0A%20%20%20%20%20%20%20%20%0A%20%20%20%20%0A%20%20%20%20%20%20%20%20%20%20%20%20var%20popup_66ba18402e2d4cac83037981a27a838f%20%3D%20L.popup%28%7BmaxWidth%3A%20%27100%25%27%0A%20%20%20%20%20%20%20%20%20%20%20%20%0A%20%20%20%20%20%20%20%20%20%20%20%20%7D%29%3B%0A%0A%20%20%20%20%20%20%20%20%20%20%20%20%0A%20%20%20%20%20%20%20%20%20%20%20%20%20%20%20%20var%20html_8677cfbafca34f4bb727c5b4f8b3d34d%20%3D%20%24%28%60%3Cdiv%20id%3D%22html_8677cfbafca34f4bb727c5b4f8b3d34d%22%20style%3D%22width%3A%20100.0%25%3B%20height%3A%20100.0%25%3B%22%3EQueen%20Street%20Blk%20270%20%28Albert%20Centre%29%3C/div%3E%60%29%5B0%5D%3B%0A%20%20%20%20%20%20%20%20%20%20%20%20%20%20%20%20popup_66ba18402e2d4cac83037981a27a838f.setContent%28html_8677cfbafca34f4bb727c5b4f8b3d34d%29%3B%0A%20%20%20%20%20%20%20%20%20%20%20%20%0A%0A%20%20%20%20%20%20%20%20%20%20%20%20marker_93db3f6f9ca54f3cb4ead9acb533acf3.bindPopup%28popup_66ba18402e2d4cac83037981a27a838f%29%0A%20%20%20%20%20%20%20%20%20%20%20%20%3B%0A%0A%20%20%20%20%20%20%20%20%20%20%20%20%0A%20%20%20%20%20%20%20%20%0A%20%20%20%20%0A%20%20%20%20%20%20%20%20var%20marker_e33ffceaf68140e29fd3b8755b9fad3f%20%3D%20L.marker%28%0A%20%20%20%20%20%20%20%20%20%20%20%20%5B1.287909985%2C%20103.8183975%5D%2C%0A%20%20%20%20%20%20%20%20%20%20%20%20%7B%0A%20%20%20%20%20%20%20%20%20%20%20%20%20%20%20%20icon%3A%20new%20L.Icon.Default%28%29%2C%0A%20%20%20%20%20%20%20%20%20%20%20%20%20%20%20%20%7D%0A%20%20%20%20%20%20%20%20%20%20%20%20%29.addTo%28map_4534526a626c4964b48f5ef73708418f%29%3B%0A%20%20%20%20%20%20%20%20%0A%20%20%20%20%0A%20%20%20%20%20%20%20%20%20%20%20%20var%20popup_2ee7222912484d888229cdec79cafada%20%3D%20L.popup%28%7BmaxWidth%3A%20%27100%25%27%0A%20%20%20%20%20%20%20%20%20%20%20%20%0A%20%20%20%20%20%20%20%20%20%20%20%20%7D%29%3B%0A%0A%20%20%20%20%20%20%20%20%20%20%20%20%0A%20%20%20%20%20%20%20%20%20%20%20%20%20%20%20%20var%20html_3288e1dcfbfb4f768339be247d8671ae%20%3D%20%24%28%60%3Cdiv%20id%3D%22html_3288e1dcfbfb4f768339be247d8671ae%22%20style%3D%22width%3A%20100.0%25%3B%20height%3A%20100.0%25%3B%22%3ERedhill%20Lane%20Blk%2079%20%28Redhill%20Market%29%3C/div%3E%60%29%5B0%5D%3B%0A%20%20%20%20%20%20%20%20%20%20%20%20%20%20%20%20popup_2ee7222912484d888229cdec79cafada.setContent%28html_3288e1dcfbfb4f768339be247d8671ae%29%3B%0A%20%20%20%20%20%20%20%20%20%20%20%20%0A%0A%20%20%20%20%20%20%20%20%20%20%20%20marker_e33ffceaf68140e29fd3b8755b9fad3f.bindPopup%28popup_2ee7222912484d888229cdec79cafada%29%0A%20%20%20%20%20%20%20%20%20%20%20%20%3B%0A%0A%20%20%20%20%20%20%20%20%20%20%20%20%0A%20%20%20%20%20%20%20%20%0A%20%20%20%20%0A%20%20%20%20%20%20%20%20var%20marker_99561cc2c170490a86f6b07c6c527a51%20%3D%20L.marker%28%0A%20%20%20%20%20%20%20%20%20%20%20%20%5B1.287400007%2C%20103.8183975%5D%2C%0A%20%20%20%20%20%20%20%20%20%20%20%20%7B%0A%20%20%20%20%20%20%20%20%20%20%20%20%20%20%20%20icon%3A%20new%20L.Icon.Default%28%29%2C%0A%20%20%20%20%20%20%20%20%20%20%20%20%20%20%20%20%7D%0A%20%20%20%20%20%20%20%20%20%20%20%20%29.addTo%28map_4534526a626c4964b48f5ef73708418f%29%3B%0A%20%20%20%20%20%20%20%20%0A%20%20%20%20%0A%20%20%20%20%20%20%20%20%20%20%20%20var%20popup_72e5347438b34ad5826bffb7e2ac95de%20%3D%20L.popup%28%7BmaxWidth%3A%20%27100%25%27%0A%20%20%20%20%20%20%20%20%20%20%20%20%0A%20%20%20%20%20%20%20%20%20%20%20%20%7D%29%3B%0A%0A%20%20%20%20%20%20%20%20%20%20%20%20%0A%20%20%20%20%20%20%20%20%20%20%20%20%20%20%20%20var%20html_e7231f825cd44a80a855631eeea35886%20%3D%20%24%28%60%3Cdiv%20id%3D%22html_e7231f825cd44a80a855631eeea35886%22%20style%3D%22width%3A%20100.0%25%3B%20height%3A%20100.0%25%3B%22%3ERedhill%20Lane%20Blk%2085%20%28Redhill%20Food%20Centre%29%3C/div%3E%60%29%5B0%5D%3B%0A%20%20%20%20%20%20%20%20%20%20%20%20%20%20%20%20popup_72e5347438b34ad5826bffb7e2ac95de.setContent%28html_e7231f825cd44a80a855631eeea35886%29%3B%0A%20%20%20%20%20%20%20%20%20%20%20%20%0A%0A%20%20%20%20%20%20%20%20%20%20%20%20marker_99561cc2c170490a86f6b07c6c527a51.bindPopup%28popup_72e5347438b34ad5826bffb7e2ac95de%29%0A%20%20%20%20%20%20%20%20%20%20%20%20%3B%0A%0A%20%20%20%20%20%20%20%20%20%20%20%20%0A%20%20%20%20%20%20%20%20%0A%20%20%20%20%0A%20%20%20%20%20%20%20%20var%20marker_f60b2b2dab1d491ab77e7134f7dca9a8%20%3D%20L.marker%28%0A%20%20%20%20%20%20%20%20%20%20%20%20%5B1.372419953%2C%20103.8290329%5D%2C%0A%20%20%20%20%20%20%20%20%20%20%20%20%7B%0A%20%20%20%20%20%20%20%20%20%20%20%20%20%20%20%20icon%3A%20new%20L.Icon.Default%28%29%2C%0A%20%20%20%20%20%20%20%20%20%20%20%20%20%20%20%20%7D%0A%20%20%20%20%20%20%20%20%20%20%20%20%29.addTo%28map_4534526a626c4964b48f5ef73708418f%29%3B%0A%20%20%20%20%20%20%20%20%0A%20%20%20%20%0A%20%20%20%20%20%20%20%20%20%20%20%20var%20popup_fa179dd4afaf4ceaa51777b8f7fc2c95%20%3D%20L.popup%28%7BmaxWidth%3A%20%27100%25%27%0A%20%20%20%20%20%20%20%20%20%20%20%20%0A%20%20%20%20%20%20%20%20%20%20%20%20%7D%29%3B%0A%0A%20%20%20%20%20%20%20%20%20%20%20%20%0A%20%20%20%20%20%20%20%20%20%20%20%20%20%20%20%20var%20html_2d324c2252444467ab2aee47b135f55a%20%3D%20%24%28%60%3Cdiv%20id%3D%22html_2d324c2252444467ab2aee47b135f55a%22%20style%3D%22width%3A%20100.0%25%3B%20height%3A%20100.0%25%3B%22%3ESembawang%20Hills%20Food%20Centre%20%28Jalan%20Leban%20Food%20Centre%29%3C/div%3E%60%29%5B0%5D%3B%0A%20%20%20%20%20%20%20%20%20%20%20%20%20%20%20%20popup_fa179dd4afaf4ceaa51777b8f7fc2c95.setContent%28html_2d324c2252444467ab2aee47b135f55a%29%3B%0A%20%20%20%20%20%20%20%20%20%20%20%20%0A%0A%20%20%20%20%20%20%20%20%20%20%20%20marker_f60b2b2dab1d491ab77e7134f7dca9a8.bindPopup%28popup_fa179dd4afaf4ceaa51777b8f7fc2c95%29%0A%20%20%20%20%20%20%20%20%20%20%20%20%3B%0A%0A%20%20%20%20%20%20%20%20%20%20%20%20%0A%20%20%20%20%20%20%20%20%0A%20%20%20%20%0A%20%20%20%20%20%20%20%20var%20marker_64cda2b8d5854a3b930df3922bd6eeed%20%3D%20L.marker%28%0A%20%20%20%20%20%20%20%20%20%20%20%20%5B1.3635400530000001%2C%20103.8669815%5D%2C%0A%20%20%20%20%20%20%20%20%20%20%20%20%7B%0A%20%20%20%20%20%20%20%20%20%20%20%20%20%20%20%20icon%3A%20new%20L.Icon.Default%28%29%2C%0A%20%20%20%20%20%20%20%20%20%20%20%20%20%20%20%20%7D%0A%20%20%20%20%20%20%20%20%20%20%20%20%29.addTo%28map_4534526a626c4964b48f5ef73708418f%29%3B%0A%20%20%20%20%20%20%20%20%0A%20%20%20%20%0A%20%20%20%20%20%20%20%20%20%20%20%20var%20popup_f34bebbb45cc45e489af9461643d820e%20%3D%20L.popup%28%7BmaxWidth%3A%20%27100%25%27%0A%20%20%20%20%20%20%20%20%20%20%20%20%0A%20%20%20%20%20%20%20%20%20%20%20%20%7D%29%3B%0A%0A%20%20%20%20%20%20%20%20%20%20%20%20%0A%20%20%20%20%20%20%20%20%20%20%20%20%20%20%20%20var%20html_3179bb3f4ec6455b9cc87361d4e6058a%20%3D%20%24%28%60%3Cdiv%20id%3D%22html_3179bb3f4ec6455b9cc87361d4e6058a%22%20style%3D%22width%3A%20100.0%25%3B%20height%3A%20100.0%25%3B%22%3ESerangoon%20Garden%20Market%3C/div%3E%60%29%5B0%5D%3B%0A%20%20%20%20%20%20%20%20%20%20%20%20%20%20%20%20popup_f34bebbb45cc45e489af9461643d820e.setContent%28html_3179bb3f4ec6455b9cc87361d4e6058a%29%3B%0A%20%20%20%20%20%20%20%20%20%20%20%20%0A%0A%20%20%20%20%20%20%20%20%20%20%20%20marker_64cda2b8d5854a3b930df3922bd6eeed.bindPopup%28popup_f34bebbb45cc45e489af9461643d820e%29%0A%20%20%20%20%20%20%20%20%20%20%20%20%3B%0A%0A%20%20%20%20%20%20%20%20%20%20%20%20%0A%20%20%20%20%20%20%20%20%0A%20%20%20%20%0A%20%20%20%20%20%20%20%20var%20marker_019f773268f148fca80ad5ef6da9f0cb%20%3D%20L.marker%28%0A%20%20%20%20%20%20%20%20%20%20%20%20%5B1.3518199919999998%2C%20103.8370285%5D%2C%0A%20%20%20%20%20%20%20%20%20%20%20%20%7B%0A%20%20%20%20%20%20%20%20%20%20%20%20%20%20%20%20icon%3A%20new%20L.Icon.Default%28%29%2C%0A%20%20%20%20%20%20%20%20%20%20%20%20%20%20%20%20%7D%0A%20%20%20%20%20%20%20%20%20%20%20%20%29.addTo%28map_4534526a626c4964b48f5ef73708418f%29%3B%0A%20%20%20%20%20%20%20%20%0A%20%20%20%20%0A%20%20%20%20%20%20%20%20%20%20%20%20var%20popup_a245214795394775bd0be24c2d2cfbdb%20%3D%20L.popup%28%7BmaxWidth%3A%20%27100%25%27%0A%20%20%20%20%20%20%20%20%20%20%20%20%0A%20%20%20%20%20%20%20%20%20%20%20%20%7D%29%3B%0A%0A%20%20%20%20%20%20%20%20%20%20%20%20%0A%20%20%20%20%20%20%20%20%20%20%20%20%20%20%20%20var%20html_72679779f0ac4e99a109a7fe0d18894f%20%3D%20%24%28%60%3Cdiv%20id%3D%22html_72679779f0ac4e99a109a7fe0d18894f%22%20style%3D%22width%3A%20100.0%25%3B%20height%3A%20100.0%25%3B%22%3EShunfu%20Road%20Blk%20320%20%28Shunfu%20Mart%29%3C/div%3E%60%29%5B0%5D%3B%0A%20%20%20%20%20%20%20%20%20%20%20%20%20%20%20%20popup_a245214795394775bd0be24c2d2cfbdb.setContent%28html_72679779f0ac4e99a109a7fe0d18894f%29%3B%0A%20%20%20%20%20%20%20%20%20%20%20%20%0A%0A%20%20%20%20%20%20%20%20%20%20%20%20marker_019f773268f148fca80ad5ef6da9f0cb.bindPopup%28popup_a245214795394775bd0be24c2d2cfbdb%29%0A%20%20%20%20%20%20%20%20%20%20%20%20%3B%0A%0A%20%20%20%20%20%20%20%20%20%20%20%20%0A%20%20%20%20%20%20%20%20%0A%20%20%20%20%0A%20%20%20%20%20%20%20%20var%20marker_1286c63b2ab94030b752db7bc4546901%20%3D%20L.marker%28%0A%20%20%20%20%20%20%20%20%20%20%20%20%5B1.317100048%2C%20103.8793793%5D%2C%0A%20%20%20%20%20%20%20%20%20%20%20%20%7B%0A%20%20%20%20%20%20%20%20%20%20%20%20%20%20%20%20icon%3A%20new%20L.Icon.Default%28%29%2C%0A%20%20%20%20%20%20%20%20%20%20%20%20%20%20%20%20%7D%0A%20%20%20%20%20%20%20%20%20%20%20%20%29.addTo%28map_4534526a626c4964b48f5ef73708418f%29%3B%0A%20%20%20%20%20%20%20%20%0A%20%20%20%20%0A%20%20%20%20%20%20%20%20%20%20%20%20var%20popup_bfc78fe8c8344c08aead5225bfb03cee%20%3D%20L.popup%28%7BmaxWidth%3A%20%27100%25%27%0A%20%20%20%20%20%20%20%20%20%20%20%20%0A%20%20%20%20%20%20%20%20%20%20%20%20%7D%29%3B%0A%0A%20%20%20%20%20%20%20%20%20%20%20%20%0A%20%20%20%20%20%20%20%20%20%20%20%20%20%20%20%20var%20html_ec45c96679ea49318aa28d70d362c2c1%20%3D%20%24%28%60%3Cdiv%20id%3D%22html_ec45c96679ea49318aa28d70d362c2c1%22%20style%3D%22width%3A%20100.0%25%3B%20height%3A%20100.0%25%3B%22%3ESims%20Place%20Blk%2049%20%28Sims%20Vista%20Market%20and%20Food%20Centre%29%3C/div%3E%60%29%5B0%5D%3B%0A%20%20%20%20%20%20%20%20%20%20%20%20%20%20%20%20popup_bfc78fe8c8344c08aead5225bfb03cee.setContent%28html_ec45c96679ea49318aa28d70d362c2c1%29%3B%0A%20%20%20%20%20%20%20%20%20%20%20%20%0A%0A%20%20%20%20%20%20%20%20%20%20%20%20marker_1286c63b2ab94030b752db7bc4546901.bindPopup%28popup_bfc78fe8c8344c08aead5225bfb03cee%29%0A%20%20%20%20%20%20%20%20%20%20%20%20%3B%0A%0A%20%20%20%20%20%20%20%20%20%20%20%20%0A%20%20%20%20%20%20%20%20%0A%20%20%20%20%0A%20%20%20%20%20%20%20%20var%20marker_e5badb6b931d4174ba13dfef48a9a4ce%20%3D%20L.marker%28%0A%20%20%20%20%20%20%20%20%20%20%20%20%5B1.282299995%2C%20103.8428802%5D%2C%0A%20%20%20%20%20%20%20%20%20%20%20%20%7B%0A%20%20%20%20%20%20%20%20%20%20%20%20%20%20%20%20icon%3A%20new%20L.Icon.Default%28%29%2C%0A%20%20%20%20%20%20%20%20%20%20%20%20%20%20%20%20%7D%0A%20%20%20%20%20%20%20%20%20%20%20%20%29.addTo%28map_4534526a626c4964b48f5ef73708418f%29%3B%0A%20%20%20%20%20%20%20%20%0A%20%20%20%20%0A%20%20%20%20%20%20%20%20%20%20%20%20var%20popup_b37aeccba5fb4c2bbe20e826df58df38%20%3D%20L.popup%28%7BmaxWidth%3A%20%27100%25%27%0A%20%20%20%20%20%20%20%20%20%20%20%20%0A%20%20%20%20%20%20%20%20%20%20%20%20%7D%29%3B%0A%0A%20%20%20%20%20%20%20%20%20%20%20%20%0A%20%20%20%20%20%20%20%20%20%20%20%20%20%20%20%20var%20html_4eced79a810a49f1b1822bad5ff90425%20%3D%20%24%28%60%3Cdiv%20id%3D%22html_4eced79a810a49f1b1822bad5ff90425%22%20style%3D%22width%3A%20100.0%25%3B%20height%3A%20100.0%25%3B%22%3ESmith%20Street%20Blk%20335%20%28Chinatown%20Complex%20Market%29%3C/div%3E%60%29%5B0%5D%3B%0A%20%20%20%20%20%20%20%20%20%20%20%20%20%20%20%20popup_b37aeccba5fb4c2bbe20e826df58df38.setContent%28html_4eced79a810a49f1b1822bad5ff90425%29%3B%0A%20%20%20%20%20%20%20%20%20%20%20%20%0A%0A%20%20%20%20%20%20%20%20%20%20%20%20marker_e5badb6b931d4174ba13dfef48a9a4ce.bindPopup%28popup_b37aeccba5fb4c2bbe20e826df58df38%29%0A%20%20%20%20%20%20%20%20%20%20%20%20%3B%0A%0A%20%20%20%20%20%20%20%20%20%20%20%20%0A%20%20%20%20%20%20%20%20%0A%20%20%20%20%0A%20%20%20%20%20%20%20%20var%20marker_112f1cad715c45139da261ab520e0020%20%3D%20L.marker%28%0A%20%20%20%20%20%20%20%20%20%20%20%20%5B1.3346810340000002%2C%20103.72161870000001%5D%2C%0A%20%20%20%20%20%20%20%20%20%20%20%20%7B%0A%20%20%20%20%20%20%20%20%20%20%20%20%20%20%20%20icon%3A%20new%20L.Icon.Default%28%29%2C%0A%20%20%20%20%20%20%20%20%20%20%20%20%20%20%20%20%7D%0A%20%20%20%20%20%20%20%20%20%20%20%20%29.addTo%28map_4534526a626c4964b48f5ef73708418f%29%3B%0A%20%20%20%20%20%20%20%20%0A%20%20%20%20%0A%20%20%20%20%20%20%20%20%20%20%20%20var%20popup_4b2cbaf723f94f93914029427f723ea6%20%3D%20L.popup%28%7BmaxWidth%3A%20%27100%25%27%0A%20%20%20%20%20%20%20%20%20%20%20%20%0A%20%20%20%20%20%20%20%20%20%20%20%20%7D%29%3B%0A%0A%20%20%20%20%20%20%20%20%20%20%20%20%0A%20%20%20%20%20%20%20%20%20%20%20%20%20%20%20%20var%20html_baafc37ad9fc4bc79ed3ef7b7d352deb%20%3D%20%24%28%60%3Cdiv%20id%3D%22html_baafc37ad9fc4bc79ed3ef7b7d352deb%22%20style%3D%22width%3A%20100.0%25%3B%20height%3A%20100.0%25%3B%22%3ETaman%20Jurong%20Market%20and%20Food%20Centre%3C/div%3E%60%29%5B0%5D%3B%0A%20%20%20%20%20%20%20%20%20%20%20%20%20%20%20%20popup_4b2cbaf723f94f93914029427f723ea6.setContent%28html_baafc37ad9fc4bc79ed3ef7b7d352deb%29%3B%0A%20%20%20%20%20%20%20%20%20%20%20%20%0A%0A%20%20%20%20%20%20%20%20%20%20%20%20marker_112f1cad715c45139da261ab520e0020.bindPopup%28popup_4b2cbaf723f94f93914029427f723ea6%29%0A%20%20%20%20%20%20%20%20%20%20%20%20%3B%0A%0A%20%20%20%20%20%20%20%20%20%20%20%20%0A%20%20%20%20%20%20%20%20%0A%20%20%20%20%0A%20%20%20%20%20%20%20%20var%20marker_3d26d295735545f395e1d4a27bf20f7b%20%3D%20L.marker%28%0A%20%20%20%20%20%20%20%20%20%20%20%20%5B1.345595956%2C%20103.9445953%5D%2C%0A%20%20%20%20%20%20%20%20%20%20%20%20%7B%0A%20%20%20%20%20%20%20%20%20%20%20%20%20%20%20%20icon%3A%20new%20L.Icon.Default%28%29%2C%0A%20%20%20%20%20%20%20%20%20%20%20%20%20%20%20%20%7D%0A%20%20%20%20%20%20%20%20%20%20%20%20%29.addTo%28map_4534526a626c4964b48f5ef73708418f%29%3B%0A%20%20%20%20%20%20%20%20%0A%20%20%20%20%0A%20%20%20%20%20%20%20%20%20%20%20%20var%20popup_dda1e1477ea14b76b24780c10b557309%20%3D%20L.popup%28%7BmaxWidth%3A%20%27100%25%27%0A%20%20%20%20%20%20%20%20%20%20%20%20%0A%20%20%20%20%20%20%20%20%20%20%20%20%7D%29%3B%0A%0A%20%20%20%20%20%20%20%20%20%20%20%20%0A%20%20%20%20%20%20%20%20%20%20%20%20%20%20%20%20var%20html_da11be49c3e84c05ab8475e99a9fd625%20%3D%20%24%28%60%3Cdiv%20id%3D%22html_da11be49c3e84c05ab8475e99a9fd625%22%20style%3D%22width%3A%20100.0%25%3B%20height%3A%20100.0%25%3B%22%3ETampines%20Street%2011%20Blk%20137%20%28Tampines%20Round%20Market%20and%20Food%20Centre%29%3C/div%3E%60%29%5B0%5D%3B%0A%20%20%20%20%20%20%20%20%20%20%20%20%20%20%20%20popup_dda1e1477ea14b76b24780c10b557309.setContent%28html_da11be49c3e84c05ab8475e99a9fd625%29%3B%0A%20%20%20%20%20%20%20%20%20%20%20%20%0A%0A%20%20%20%20%20%20%20%20%20%20%20%20marker_3d26d295735545f395e1d4a27bf20f7b.bindPopup%28popup_dda1e1477ea14b76b24780c10b557309%29%0A%20%20%20%20%20%20%20%20%20%20%20%20%3B%0A%0A%20%20%20%20%20%20%20%20%20%20%20%20%0A%20%20%20%20%20%20%20%20%0A%20%20%20%20%0A%20%20%20%20%20%20%20%20var%20marker_562de4ae7c4547808188eb1b7e38939a%20%3D%20L.marker%28%0A%20%20%20%20%20%20%20%20%20%20%20%20%5B1.300850034%2C%20103.79768370000001%5D%2C%0A%20%20%20%20%20%20%20%20%20%20%20%20%7B%0A%20%20%20%20%20%20%20%20%20%20%20%20%20%20%20%20icon%3A%20new%20L.Icon.Default%28%29%2C%0A%20%20%20%20%20%20%20%20%20%20%20%20%20%20%20%20%7D%0A%20%20%20%20%20%20%20%20%20%20%20%20%29.addTo%28map_4534526a626c4964b48f5ef73708418f%29%3B%0A%20%20%20%20%20%20%20%20%0A%20%20%20%20%0A%20%20%20%20%20%20%20%20%20%20%20%20var%20popup_3bf319215b12498287e16353654cdbf6%20%3D%20L.popup%28%7BmaxWidth%3A%20%27100%25%27%0A%20%20%20%20%20%20%20%20%20%20%20%20%0A%20%20%20%20%20%20%20%20%20%20%20%20%7D%29%3B%0A%0A%20%20%20%20%20%20%20%20%20%20%20%20%0A%20%20%20%20%20%20%20%20%20%20%20%20%20%20%20%20var%20html_ffcb521256ba4f1cb0d096f4f6522b17%20%3D%20%24%28%60%3Cdiv%20id%3D%22html_ffcb521256ba4f1cb0d096f4f6522b17%22%20style%3D%22width%3A%20100.0%25%3B%20height%3A%20100.0%25%3B%22%3ETanglin%20Halt%20Market%3C/div%3E%60%29%5B0%5D%3B%0A%20%20%20%20%20%20%20%20%20%20%20%20%20%20%20%20popup_3bf319215b12498287e16353654cdbf6.setContent%28html_ffcb521256ba4f1cb0d096f4f6522b17%29%3B%0A%20%20%20%20%20%20%20%20%20%20%20%20%0A%0A%20%20%20%20%20%20%20%20%20%20%20%20marker_562de4ae7c4547808188eb1b7e38939a.bindPopup%28popup_3bf319215b12498287e16353654cdbf6%29%0A%20%20%20%20%20%20%20%20%20%20%20%20%3B%0A%0A%20%20%20%20%20%20%20%20%20%20%20%20%0A%20%20%20%20%20%20%20%20%0A%20%20%20%20%0A%20%20%20%20%20%20%20%20var%20marker_82ef42fbeca94b2daa3d3f7718372226%20%3D%20L.marker%28%0A%20%20%20%20%20%20%20%20%20%20%20%20%5B1.276679993%2C%20103.8432312%5D%2C%0A%20%20%20%20%20%20%20%20%20%20%20%20%7B%0A%20%20%20%20%20%20%20%20%20%20%20%20%20%20%20%20icon%3A%20new%20L.Icon.Default%28%29%2C%0A%20%20%20%20%20%20%20%20%20%20%20%20%20%20%20%20%7D%0A%20%20%20%20%20%20%20%20%20%20%20%20%29.addTo%28map_4534526a626c4964b48f5ef73708418f%29%3B%0A%20%20%20%20%20%20%20%20%0A%20%20%20%20%0A%20%20%20%20%20%20%20%20%20%20%20%20var%20popup_d8ab8b0ed7be45f49a4d00b4a445f5cb%20%3D%20L.popup%28%7BmaxWidth%3A%20%27100%25%27%0A%20%20%20%20%20%20%20%20%20%20%20%20%0A%20%20%20%20%20%20%20%20%20%20%20%20%7D%29%3B%0A%0A%20%20%20%20%20%20%20%20%20%20%20%20%0A%20%20%20%20%20%20%20%20%20%20%20%20%20%20%20%20var%20html_9960edeeacb342bc9f33e96d1ef5ae68%20%3D%20%24%28%60%3Cdiv%20id%3D%22html_9960edeeacb342bc9f33e96d1ef5ae68%22%20style%3D%22width%3A%20100.0%25%3B%20height%3A%20100.0%25%3B%22%3ETanjong%20Pagar%20Plaza%20Blk%206%20%28Blk%206%20Tanjong%20Pagar%20Plaza%20Market%20and%20Food%20Centre%29%3C/div%3E%60%29%5B0%5D%3B%0A%20%20%20%20%20%20%20%20%20%20%20%20%20%20%20%20popup_d8ab8b0ed7be45f49a4d00b4a445f5cb.setContent%28html_9960edeeacb342bc9f33e96d1ef5ae68%29%3B%0A%20%20%20%20%20%20%20%20%20%20%20%20%0A%0A%20%20%20%20%20%20%20%20%20%20%20%20marker_82ef42fbeca94b2daa3d3f7718372226.bindPopup%28popup_d8ab8b0ed7be45f49a4d00b4a445f5cb%29%0A%20%20%20%20%20%20%20%20%20%20%20%20%3B%0A%0A%20%20%20%20%20%20%20%20%20%20%20%20%0A%20%20%20%20%20%20%20%20%0A%20%20%20%20%0A%20%20%20%20%20%20%20%20var%20marker_5a24d87a82ab467f9d048536af0b861f%20%3D%20L.marker%28%0A%20%20%20%20%20%20%20%20%20%20%20%20%5B1.320517302%2C%20103.7420807%5D%2C%0A%20%20%20%20%20%20%20%20%20%20%20%20%7B%0A%20%20%20%20%20%20%20%20%20%20%20%20%20%20%20%20icon%3A%20new%20L.Icon.Default%28%29%2C%0A%20%20%20%20%20%20%20%20%20%20%20%20%20%20%20%20%7D%0A%20%20%20%20%20%20%20%20%20%20%20%20%29.addTo%28map_4534526a626c4964b48f5ef73708418f%29%3B%0A%20%20%20%20%20%20%20%20%0A%20%20%20%20%0A%20%20%20%20%20%20%20%20%20%20%20%20var%20popup_1fea8236fe2d4901a27714b0c945730e%20%3D%20L.popup%28%7BmaxWidth%3A%20%27100%25%27%0A%20%20%20%20%20%20%20%20%20%20%20%20%0A%20%20%20%20%20%20%20%20%20%20%20%20%7D%29%3B%0A%0A%20%20%20%20%20%20%20%20%20%20%20%20%0A%20%20%20%20%20%20%20%20%20%20%20%20%20%20%20%20var%20html_7ce7008f0a4c47fdb2a78ba47139c77d%20%3D%20%24%28%60%3Cdiv%20id%3D%22html_7ce7008f0a4c47fdb2a78ba47139c77d%22%20style%3D%22width%3A%20100.0%25%3B%20height%3A%20100.0%25%3B%22%3ETeban%20Gardens%20Road%20Blk%2037A%20%28Teban%20Gardens%20Market%20and%20Food%20Centre%29%3C/div%3E%60%29%5B0%5D%3B%0A%20%20%20%20%20%20%20%20%20%20%20%20%20%20%20%20popup_1fea8236fe2d4901a27714b0c945730e.setContent%28html_7ce7008f0a4c47fdb2a78ba47139c77d%29%3B%0A%20%20%20%20%20%20%20%20%20%20%20%20%0A%0A%20%20%20%20%20%20%20%20%20%20%20%20marker_5a24d87a82ab467f9d048536af0b861f.bindPopup%28popup_1fea8236fe2d4901a27714b0c945730e%29%0A%20%20%20%20%20%20%20%20%20%20%20%20%3B%0A%0A%20%20%20%20%20%20%20%20%20%20%20%20%0A%20%20%20%20%20%20%20%20%0A%20%20%20%20%0A%20%20%20%20%20%20%20%20var%20marker_13c1ee0992684506ba4cd062d1480382%20%3D%20L.marker%28%0A%20%20%20%20%20%20%20%20%20%20%20%20%5B1.277439952%2C%20103.81873320000001%5D%2C%0A%20%20%20%20%20%20%20%20%20%20%20%20%7B%0A%20%20%20%20%20%20%20%20%20%20%20%20%20%20%20%20icon%3A%20new%20L.Icon.Default%28%29%2C%0A%20%20%20%20%20%20%20%20%20%20%20%20%20%20%20%20%7D%0A%20%20%20%20%20%20%20%20%20%20%20%20%29.addTo%28map_4534526a626c4964b48f5ef73708418f%29%3B%0A%20%20%20%20%20%20%20%20%0A%20%20%20%20%0A%20%20%20%20%20%20%20%20%20%20%20%20var%20popup_4c9a8a5b4f60403d84a10cdc343f81ae%20%3D%20L.popup%28%7BmaxWidth%3A%20%27100%25%27%0A%20%20%20%20%20%20%20%20%20%20%20%20%0A%20%20%20%20%20%20%20%20%20%20%20%20%7D%29%3B%0A%0A%20%20%20%20%20%20%20%20%20%20%20%20%0A%20%20%20%20%20%20%20%20%20%20%20%20%20%20%20%20var%20html_09a9f59c343e49f1aa31e39f54fb3cce%20%3D%20%24%28%60%3Cdiv%20id%3D%22html_09a9f59c343e49f1aa31e39f54fb3cce%22%20style%3D%22width%3A%20100.0%25%3B%20height%3A%20100.0%25%3B%22%3ETelok%20Blangah%20Crescent%20Blk%2011%20%2811%20Telok%20Blangah%20Crescent%20Market%20and%20Food%20Centre%29%3C/div%3E%60%29%5B0%5D%3B%0A%20%20%20%20%20%20%20%20%20%20%20%20%20%20%20%20popup_4c9a8a5b4f60403d84a10cdc343f81ae.setContent%28html_09a9f59c343e49f1aa31e39f54fb3cce%29%3B%0A%20%20%20%20%20%20%20%20%20%20%20%20%0A%0A%20%20%20%20%20%20%20%20%20%20%20%20marker_13c1ee0992684506ba4cd062d1480382.bindPopup%28popup_4c9a8a5b4f60403d84a10cdc343f81ae%29%0A%20%20%20%20%20%20%20%20%20%20%20%20%3B%0A%0A%20%20%20%20%20%20%20%20%20%20%20%20%0A%20%20%20%20%20%20%20%20%0A%20%20%20%20%0A%20%20%20%20%20%20%20%20var%20marker_c5748b4caeeb4f78bb278939324317d8%20%3D%20L.marker%28%0A%20%20%20%20%20%20%20%20%20%20%20%20%5B1.27342999%2C%20103.8076782%5D%2C%0A%20%20%20%20%20%20%20%20%20%20%20%20%7B%0A%20%20%20%20%20%20%20%20%20%20%20%20%20%20%20%20icon%3A%20new%20L.Icon.Default%28%29%2C%0A%20%20%20%20%20%20%20%20%20%20%20%20%20%20%20%20%7D%0A%20%20%20%20%20%20%20%20%20%20%20%20%29.addTo%28map_4534526a626c4964b48f5ef73708418f%29%3B%0A%20%20%20%20%20%20%20%20%0A%20%20%20%20%0A%20%20%20%20%20%20%20%20%20%20%20%20var%20popup_715fa6e45a1447bea502b312bb83504c%20%3D%20L.popup%28%7BmaxWidth%3A%20%27100%25%27%0A%20%20%20%20%20%20%20%20%20%20%20%20%0A%20%20%20%20%20%20%20%20%20%20%20%20%7D%29%3B%0A%0A%20%20%20%20%20%20%20%20%20%20%20%20%0A%20%20%20%20%20%20%20%20%20%20%20%20%20%20%20%20var%20html_ca6874344eae46248347d5ff535bef86%20%3D%20%24%28%60%3Cdiv%20id%3D%22html_ca6874344eae46248347d5ff535bef86%22%20style%3D%22width%3A%20100.0%25%3B%20height%3A%20100.0%25%3B%22%3ETelok%20Blangah%20Drive%20Blk%2079%20%28Telok%20Blangah%20Food%20Centre%29%3C/div%3E%60%29%5B0%5D%3B%0A%20%20%20%20%20%20%20%20%20%20%20%20%20%20%20%20popup_715fa6e45a1447bea502b312bb83504c.setContent%28html_ca6874344eae46248347d5ff535bef86%29%3B%0A%20%20%20%20%20%20%20%20%20%20%20%20%0A%0A%20%20%20%20%20%20%20%20%20%20%20%20marker_c5748b4caeeb4f78bb278939324317d8.bindPopup%28popup_715fa6e45a1447bea502b312bb83504c%29%0A%20%20%20%20%20%20%20%20%20%20%20%20%3B%0A%0A%20%20%20%20%20%20%20%20%20%20%20%20%0A%20%20%20%20%20%20%20%20%0A%20%20%20%20%0A%20%20%20%20%20%20%20%20var%20marker_a35f8867a688480a9f6a74a3d28160d5%20%3D%20L.marker%28%0A%20%20%20%20%20%20%20%20%20%20%20%20%5B1.2739800209999999%2C%20103.80799870000001%5D%2C%0A%20%20%20%20%20%20%20%20%20%20%20%20%7B%0A%20%20%20%20%20%20%20%20%20%20%20%20%20%20%20%20icon%3A%20new%20L.Icon.Default%28%29%2C%0A%20%20%20%20%20%20%20%20%20%20%20%20%20%20%20%20%7D%0A%20%20%20%20%20%20%20%20%20%20%20%20%29.addTo%28map_4534526a626c4964b48f5ef73708418f%29%3B%0A%20%20%20%20%20%20%20%20%0A%20%20%20%20%0A%20%20%20%20%20%20%20%20%20%20%20%20var%20popup_7baefe1bbd6947d58d6bdf03febd9746%20%3D%20L.popup%28%7BmaxWidth%3A%20%27100%25%27%0A%20%20%20%20%20%20%20%20%20%20%20%20%0A%20%20%20%20%20%20%20%20%20%20%20%20%7D%29%3B%0A%0A%20%20%20%20%20%20%20%20%20%20%20%20%0A%20%20%20%20%20%20%20%20%20%20%20%20%20%20%20%20var%20html_5ab16b0818174031ad4c49032d7fa563%20%3D%20%24%28%60%3Cdiv%20id%3D%22html_5ab16b0818174031ad4c49032d7fa563%22%20style%3D%22width%3A%20100.0%25%3B%20height%3A%20100.0%25%3B%22%3ETelok%20Blangah%20Drive%20Blk%2082%20%28Telok%20Blangah%20Market%29%3C/div%3E%60%29%5B0%5D%3B%0A%20%20%20%20%20%20%20%20%20%20%20%20%20%20%20%20popup_7baefe1bbd6947d58d6bdf03febd9746.setContent%28html_5ab16b0818174031ad4c49032d7fa563%29%3B%0A%20%20%20%20%20%20%20%20%20%20%20%20%0A%0A%20%20%20%20%20%20%20%20%20%20%20%20marker_a35f8867a688480a9f6a74a3d28160d5.bindPopup%28popup_7baefe1bbd6947d58d6bdf03febd9746%29%0A%20%20%20%20%20%20%20%20%20%20%20%20%3B%0A%0A%20%20%20%20%20%20%20%20%20%20%20%20%0A%20%20%20%20%20%20%20%20%0A%20%20%20%20%0A%20%20%20%20%20%20%20%20var%20marker_1e9100282c244adcaef026962306fc0d%20%3D%20L.marker%28%0A%20%20%20%20%20%20%20%20%20%20%20%20%5B1.272660017%2C%20103.82212829999999%5D%2C%0A%20%20%20%20%20%20%20%20%20%20%20%20%7B%0A%20%20%20%20%20%20%20%20%20%20%20%20%20%20%20%20icon%3A%20new%20L.Icon.Default%28%29%2C%0A%20%20%20%20%20%20%20%20%20%20%20%20%20%20%20%20%7D%0A%20%20%20%20%20%20%20%20%20%20%20%20%29.addTo%28map_4534526a626c4964b48f5ef73708418f%29%3B%0A%20%20%20%20%20%20%20%20%0A%20%20%20%20%0A%20%20%20%20%20%20%20%20%20%20%20%20var%20popup_5df66f600bdf4e48a6e13874790a6fb4%20%3D%20L.popup%28%7BmaxWidth%3A%20%27100%25%27%0A%20%20%20%20%20%20%20%20%20%20%20%20%0A%20%20%20%20%20%20%20%20%20%20%20%20%7D%29%3B%0A%0A%20%20%20%20%20%20%20%20%20%20%20%20%0A%20%20%20%20%20%20%20%20%20%20%20%20%20%20%20%20var%20html_95d591322ad344d8a277e4595625c6b0%20%3D%20%24%28%60%3Cdiv%20id%3D%22html_95d591322ad344d8a277e4595625c6b0%22%20style%3D%22width%3A%20100.0%25%3B%20height%3A%20100.0%25%3B%22%3ETelok%20Blangah%20Rise%20Blk%2036%20%28Telok%20Blangah%20Rise%20Market%29%3C/div%3E%60%29%5B0%5D%3B%0A%20%20%20%20%20%20%20%20%20%20%20%20%20%20%20%20popup_5df66f600bdf4e48a6e13874790a6fb4.setContent%28html_95d591322ad344d8a277e4595625c6b0%29%3B%0A%20%20%20%20%20%20%20%20%20%20%20%20%0A%0A%20%20%20%20%20%20%20%20%20%20%20%20marker_1e9100282c244adcaef026962306fc0d.bindPopup%28popup_5df66f600bdf4e48a6e13874790a6fb4%29%0A%20%20%20%20%20%20%20%20%20%20%20%20%3B%0A%0A%20%20%20%20%20%20%20%20%20%20%20%20%0A%20%20%20%20%20%20%20%20%0A%20%20%20%20%0A%20%20%20%20%20%20%20%20var%20marker_e7ee5ec697ae40f78b49b115cad627cb%20%3D%20L.marker%28%0A%20%20%20%20%20%20%20%20%20%20%20%20%5B1.284682989%2C%20103.83242800000001%5D%2C%0A%20%20%20%20%20%20%20%20%20%20%20%20%7B%0A%20%20%20%20%20%20%20%20%20%20%20%20%20%20%20%20icon%3A%20new%20L.Icon.Default%28%29%2C%0A%20%20%20%20%20%20%20%20%20%20%20%20%20%20%20%20%7D%0A%20%20%20%20%20%20%20%20%20%20%20%20%29.addTo%28map_4534526a626c4964b48f5ef73708418f%29%3B%0A%20%20%20%20%20%20%20%20%0A%20%20%20%20%0A%20%20%20%20%20%20%20%20%20%20%20%20var%20popup_16c8c6a8b2424d0c8e3293dd220cd841%20%3D%20L.popup%28%7BmaxWidth%3A%20%27100%25%27%0A%20%20%20%20%20%20%20%20%20%20%20%20%0A%20%20%20%20%20%20%20%20%20%20%20%20%7D%29%3B%0A%0A%20%20%20%20%20%20%20%20%20%20%20%20%0A%20%20%20%20%20%20%20%20%20%20%20%20%20%20%20%20var%20html_1873143db3e84d07b0158b44e4b408f2%20%3D%20%24%28%60%3Cdiv%20id%3D%22html_1873143db3e84d07b0158b44e4b408f2%22%20style%3D%22width%3A%20100.0%25%3B%20height%3A%20100.0%25%3B%22%3ETiong%20Bahru%20Market%3C/div%3E%60%29%5B0%5D%3B%0A%20%20%20%20%20%20%20%20%20%20%20%20%20%20%20%20popup_16c8c6a8b2424d0c8e3293dd220cd841.setContent%28html_1873143db3e84d07b0158b44e4b408f2%29%3B%0A%20%20%20%20%20%20%20%20%20%20%20%20%0A%0A%20%20%20%20%20%20%20%20%20%20%20%20marker_e7ee5ec697ae40f78b49b115cad627cb.bindPopup%28popup_16c8c6a8b2424d0c8e3293dd220cd841%29%0A%20%20%20%20%20%20%20%20%20%20%20%20%3B%0A%0A%20%20%20%20%20%20%20%20%20%20%20%20%0A%20%20%20%20%20%20%20%20%0A%20%20%20%20%0A%20%20%20%20%20%20%20%20var%20marker_554711f1164a4ea69626ca3a36c50a86%20%3D%20L.marker%28%0A%20%20%20%20%20%20%20%20%20%20%20%20%5B1.338160038%2C%20103.84478759999999%5D%2C%0A%20%20%20%20%20%20%20%20%20%20%20%20%7B%0A%20%20%20%20%20%20%20%20%20%20%20%20%20%20%20%20icon%3A%20new%20L.Icon.Default%28%29%2C%0A%20%20%20%20%20%20%20%20%20%20%20%20%20%20%20%20%7D%0A%20%20%20%20%20%20%20%20%20%20%20%20%29.addTo%28map_4534526a626c4964b48f5ef73708418f%29%3B%0A%20%20%20%20%20%20%20%20%0A%20%20%20%20%0A%20%20%20%20%20%20%20%20%20%20%20%20var%20popup_319680bfa43f4ef99d9bcd3f97943097%20%3D%20L.popup%28%7BmaxWidth%3A%20%27100%25%27%0A%20%20%20%20%20%20%20%20%20%20%20%20%0A%20%20%20%20%20%20%20%20%20%20%20%20%7D%29%3B%0A%0A%20%20%20%20%20%20%20%20%20%20%20%20%0A%20%20%20%20%20%20%20%20%20%20%20%20%20%20%20%20var%20html_2c452775c2974896aba3ce1cf4ee51f3%20%3D%20%24%28%60%3Cdiv%20id%3D%22html_2c452775c2974896aba3ce1cf4ee51f3%22%20style%3D%22width%3A%20100.0%25%3B%20height%3A%20100.0%25%3B%22%3EToa%20Payoh%20Lorong%201%20Blk%20127%20%28Toa%20Payoh%20West%20Market%20and%20Food%20Court%29%3C/div%3E%60%29%5B0%5D%3B%0A%20%20%20%20%20%20%20%20%20%20%20%20%20%20%20%20popup_319680bfa43f4ef99d9bcd3f97943097.setContent%28html_2c452775c2974896aba3ce1cf4ee51f3%29%3B%0A%20%20%20%20%20%20%20%20%20%20%20%20%0A%0A%20%20%20%20%20%20%20%20%20%20%20%20marker_554711f1164a4ea69626ca3a36c50a86.bindPopup%28popup_319680bfa43f4ef99d9bcd3f97943097%29%0A%20%20%20%20%20%20%20%20%20%20%20%20%3B%0A%0A%20%20%20%20%20%20%20%20%20%20%20%20%0A%20%20%20%20%20%20%20%20%0A%20%20%20%20%0A%20%20%20%20%20%20%20%20var%20marker_84fa15fc079144ef87dba33f3aa411f1%20%3D%20L.marker%28%0A%20%20%20%20%20%20%20%20%20%20%20%20%5B1.334619999%2C%20103.8520584%5D%2C%0A%20%20%20%20%20%20%20%20%20%20%20%20%7B%0A%20%20%20%20%20%20%20%20%20%20%20%20%20%20%20%20icon%3A%20new%20L.Icon.Default%28%29%2C%0A%20%20%20%20%20%20%20%20%20%20%20%20%20%20%20%20%7D%0A%20%20%20%20%20%20%20%20%20%20%20%20%29.addTo%28map_4534526a626c4964b48f5ef73708418f%29%3B%0A%20%20%20%20%20%20%20%20%0A%20%20%20%20%0A%20%20%20%20%20%20%20%20%20%20%20%20var%20popup_1bdd165f8d784de3824bd64b8a0bec42%20%3D%20L.popup%28%7BmaxWidth%3A%20%27100%25%27%0A%20%20%20%20%20%20%20%20%20%20%20%20%0A%20%20%20%20%20%20%20%20%20%20%20%20%7D%29%3B%0A%0A%20%20%20%20%20%20%20%20%20%20%20%20%0A%20%20%20%20%20%20%20%20%20%20%20%20%20%20%20%20var%20html_577b65b2791d4fb1b4da4e1218b502b5%20%3D%20%24%28%60%3Cdiv%20id%3D%22html_577b65b2791d4fb1b4da4e1218b502b5%22%20style%3D%22width%3A%20100.0%25%3B%20height%3A%20100.0%25%3B%22%3EToa%20Payoh%20Lorong%204%20Blk%2074%20%28Toa%20Payoh%20Vista%20Market%29%3C/div%3E%60%29%5B0%5D%3B%0A%20%20%20%20%20%20%20%20%20%20%20%20%20%20%20%20popup_1bdd165f8d784de3824bd64b8a0bec42.setContent%28html_577b65b2791d4fb1b4da4e1218b502b5%29%3B%0A%20%20%20%20%20%20%20%20%20%20%20%20%0A%0A%20%20%20%20%20%20%20%20%20%20%20%20marker_84fa15fc079144ef87dba33f3aa411f1.bindPopup%28popup_1bdd165f8d784de3824bd64b8a0bec42%29%0A%20%20%20%20%20%20%20%20%20%20%20%20%3B%0A%0A%20%20%20%20%20%20%20%20%20%20%20%20%0A%20%20%20%20%20%20%20%20%0A%20%20%20%20%0A%20%20%20%20%20%20%20%20var%20marker_3ebb67202c7a4893a0ea51d978bfac92%20%3D%20L.marker%28%0A%20%20%20%20%20%20%20%20%20%20%20%20%5B1.338539958%2C%20103.8495712%5D%2C%0A%20%20%20%20%20%20%20%20%20%20%20%20%7B%0A%20%20%20%20%20%20%20%20%20%20%20%20%20%20%20%20icon%3A%20new%20L.Icon.Default%28%29%2C%0A%20%20%20%20%20%20%20%20%20%20%20%20%20%20%20%20%7D%0A%20%20%20%20%20%20%20%20%20%20%20%20%29.addTo%28map_4534526a626c4964b48f5ef73708418f%29%3B%0A%20%20%20%20%20%20%20%20%0A%20%20%20%20%0A%20%20%20%20%20%20%20%20%20%20%20%20var%20popup_e20723cbcd124a578da82e3f87b81230%20%3D%20L.popup%28%7BmaxWidth%3A%20%27100%25%27%0A%20%20%20%20%20%20%20%20%20%20%20%20%0A%20%20%20%20%20%20%20%20%20%20%20%20%7D%29%3B%0A%0A%20%20%20%20%20%20%20%20%20%20%20%20%0A%20%20%20%20%20%20%20%20%20%20%20%20%20%20%20%20var%20html_3ef7f6cd4c114168b9b111ce775697f0%20%3D%20%24%28%60%3Cdiv%20id%3D%22html_3ef7f6cd4c114168b9b111ce775697f0%22%20style%3D%22width%3A%20100.0%25%3B%20height%3A%20100.0%25%3B%22%3EToa%20Payoh%20Lorong%204%20Blk%2093%3C/div%3E%60%29%5B0%5D%3B%0A%20%20%20%20%20%20%20%20%20%20%20%20%20%20%20%20popup_e20723cbcd124a578da82e3f87b81230.setContent%28html_3ef7f6cd4c114168b9b111ce775697f0%29%3B%0A%20%20%20%20%20%20%20%20%20%20%20%20%0A%0A%20%20%20%20%20%20%20%20%20%20%20%20marker_3ebb67202c7a4893a0ea51d978bfac92.bindPopup%28popup_e20723cbcd124a578da82e3f87b81230%29%0A%20%20%20%20%20%20%20%20%20%20%20%20%3B%0A%0A%20%20%20%20%20%20%20%20%20%20%20%20%0A%20%20%20%20%20%20%20%20%0A%20%20%20%20%0A%20%20%20%20%20%20%20%20var%20marker_6ccdee5736464a96830bdff29c3a9054%20%3D%20L.marker%28%0A%20%20%20%20%20%20%20%20%20%20%20%20%5B1.3360999820000001%2C%20103.8529968%5D%2C%0A%20%20%20%20%20%20%20%20%20%20%20%20%7B%0A%20%20%20%20%20%20%20%20%20%20%20%20%20%20%20%20icon%3A%20new%20L.Icon.Default%28%29%2C%0A%20%20%20%20%20%20%20%20%20%20%20%20%20%20%20%20%7D%0A%20%20%20%20%20%20%20%20%20%20%20%20%29.addTo%28map_4534526a626c4964b48f5ef73708418f%29%3B%0A%20%20%20%20%20%20%20%20%0A%20%20%20%20%0A%20%20%20%20%20%20%20%20%20%20%20%20var%20popup_54051c288dad410dbf79945325628cc9%20%3D%20L.popup%28%7BmaxWidth%3A%20%27100%25%27%0A%20%20%20%20%20%20%20%20%20%20%20%20%0A%20%20%20%20%20%20%20%20%20%20%20%20%7D%29%3B%0A%0A%20%20%20%20%20%20%20%20%20%20%20%20%0A%20%20%20%20%20%20%20%20%20%20%20%20%20%20%20%20var%20html_84ba73c27f454b0e86fcc4149fb8af52%20%3D%20%24%28%60%3Cdiv%20id%3D%22html_84ba73c27f454b0e86fcc4149fb8af52%22%20style%3D%22width%3A%20100.0%25%3B%20height%3A%20100.0%25%3B%22%3EToa%20Payoh%20Lorong%205%20Blk%2075%3C/div%3E%60%29%5B0%5D%3B%0A%20%20%20%20%20%20%20%20%20%20%20%20%20%20%20%20popup_54051c288dad410dbf79945325628cc9.setContent%28html_84ba73c27f454b0e86fcc4149fb8af52%29%3B%0A%20%20%20%20%20%20%20%20%20%20%20%20%0A%0A%20%20%20%20%20%20%20%20%20%20%20%20marker_6ccdee5736464a96830bdff29c3a9054.bindPopup%28popup_54051c288dad410dbf79945325628cc9%29%0A%20%20%20%20%20%20%20%20%20%20%20%20%3B%0A%0A%20%20%20%20%20%20%20%20%20%20%20%20%0A%20%20%20%20%20%20%20%20%0A%20%20%20%20%0A%20%20%20%20%20%20%20%20var%20marker_858273da9a9a438fb91abdafa8d4e202%20%3D%20L.marker%28%0A%20%20%20%20%20%20%20%20%20%20%20%20%5B1.335289955%2C%20103.8570633%5D%2C%0A%20%20%20%20%20%20%20%20%20%20%20%20%7B%0A%20%20%20%20%20%20%20%20%20%20%20%20%20%20%20%20icon%3A%20new%20L.Icon.Default%28%29%2C%0A%20%20%20%20%20%20%20%20%20%20%20%20%20%20%20%20%7D%0A%20%20%20%20%20%20%20%20%20%20%20%20%29.addTo%28map_4534526a626c4964b48f5ef73708418f%29%3B%0A%20%20%20%20%20%20%20%20%0A%20%20%20%20%0A%20%20%20%20%20%20%20%20%20%20%20%20var%20popup_1bf498c21108459aa346dbd93119a322%20%3D%20L.popup%28%7BmaxWidth%3A%20%27100%25%27%0A%20%20%20%20%20%20%20%20%20%20%20%20%0A%20%20%20%20%20%20%20%20%20%20%20%20%7D%29%3B%0A%0A%20%20%20%20%20%20%20%20%20%20%20%20%0A%20%20%20%20%20%20%20%20%20%20%20%20%20%20%20%20var%20html_42e6a6a9ec2d486ab83dedff8802a875%20%3D%20%24%28%60%3Cdiv%20id%3D%22html_42e6a6a9ec2d486ab83dedff8802a875%22%20style%3D%22width%3A%20100.0%25%3B%20height%3A%20100.0%25%3B%22%3EToa%20Payoh%20Lorong%207%20Blk%2022%20%28Kim%20Keat%20Palm%20Market%20and%20Food%20Centre%29%3C/div%3E%60%29%5B0%5D%3B%0A%20%20%20%20%20%20%20%20%20%20%20%20%20%20%20%20popup_1bf498c21108459aa346dbd93119a322.setContent%28html_42e6a6a9ec2d486ab83dedff8802a875%29%3B%0A%20%20%20%20%20%20%20%20%20%20%20%20%0A%0A%20%20%20%20%20%20%20%20%20%20%20%20marker_858273da9a9a438fb91abdafa8d4e202.bindPopup%28popup_1bf498c21108459aa346dbd93119a322%29%0A%20%20%20%20%20%20%20%20%20%20%20%20%3B%0A%0A%20%20%20%20%20%20%20%20%20%20%20%20%0A%20%20%20%20%20%20%20%20%0A%20%20%20%20%0A%20%20%20%20%20%20%20%20var%20marker_14d54cc33d884bebbb303391d0ed28bf%20%3D%20L.marker%28%0A%20%20%20%20%20%20%20%20%20%20%20%20%5B1.340330005%2C%20103.8544617%5D%2C%0A%20%20%20%20%20%20%20%20%20%20%20%20%7B%0A%20%20%20%20%20%20%20%20%20%20%20%20%20%20%20%20icon%3A%20new%20L.Icon.Default%28%29%2C%0A%20%20%20%20%20%20%20%20%20%20%20%20%20%20%20%20%7D%0A%20%20%20%20%20%20%20%20%20%20%20%20%29.addTo%28map_4534526a626c4964b48f5ef73708418f%29%3B%0A%20%20%20%20%20%20%20%20%0A%20%20%20%20%0A%20%20%20%20%20%20%20%20%20%20%20%20var%20popup_ebdd69e2c57448c9bf5c4f05ddd1ee89%20%3D%20L.popup%28%7BmaxWidth%3A%20%27100%25%27%0A%20%20%20%20%20%20%20%20%20%20%20%20%0A%20%20%20%20%20%20%20%20%20%20%20%20%7D%29%3B%0A%0A%20%20%20%20%20%20%20%20%20%20%20%20%0A%20%20%20%20%20%20%20%20%20%20%20%20%20%20%20%20var%20html_e253be5767844dcc8da41f51ad580a79%20%3D%20%24%28%60%3Cdiv%20id%3D%22html_e253be5767844dcc8da41f51ad580a79%22%20style%3D%22width%3A%20100.0%25%3B%20height%3A%20100.0%25%3B%22%3EToa%20Payoh%20Lorong%208%20Blk%20210%3C/div%3E%60%29%5B0%5D%3B%0A%20%20%20%20%20%20%20%20%20%20%20%20%20%20%20%20popup_ebdd69e2c57448c9bf5c4f05ddd1ee89.setContent%28html_e253be5767844dcc8da41f51ad580a79%29%3B%0A%20%20%20%20%20%20%20%20%20%20%20%20%0A%0A%20%20%20%20%20%20%20%20%20%20%20%20marker_14d54cc33d884bebbb303391d0ed28bf.bindPopup%28popup_ebdd69e2c57448c9bf5c4f05ddd1ee89%29%0A%20%20%20%20%20%20%20%20%20%20%20%20%3B%0A%0A%20%20%20%20%20%20%20%20%20%20%20%20%0A%20%20%20%20%20%20%20%20%0A%20%20%20%20%0A%20%20%20%20%20%20%20%20var%20marker_1ff0b54586854f79b0d1e9fb7cdb3286%20%3D%20L.marker%28%0A%20%20%20%20%20%20%20%20%20%20%20%20%5B1.3150899409999999%2C%20103.8716812%5D%2C%0A%20%20%20%20%20%20%20%20%20%20%20%20%7B%0A%20%20%20%20%20%20%20%20%20%20%20%20%20%20%20%20icon%3A%20new%20L.Icon.Default%28%29%2C%0A%20%20%20%20%20%20%20%20%20%20%20%20%20%20%20%20%7D%0A%20%20%20%20%20%20%20%20%20%20%20%20%29.addTo%28map_4534526a626c4964b48f5ef73708418f%29%3B%0A%20%20%20%20%20%20%20%20%0A%20%20%20%20%0A%20%20%20%20%20%20%20%20%20%20%20%20var%20popup_43d54b05924546d4b6ef03c37c7ca86e%20%3D%20L.popup%28%7BmaxWidth%3A%20%27100%25%27%0A%20%20%20%20%20%20%20%20%20%20%20%20%0A%20%20%20%20%20%20%20%20%20%20%20%20%7D%29%3B%0A%0A%20%20%20%20%20%20%20%20%20%20%20%20%0A%20%20%20%20%20%20%20%20%20%20%20%20%20%20%20%20var%20html_70cd85611f38452cb6ff9ca41b8bf417%20%3D%20%24%28%60%3Cdiv%20id%3D%22html_70cd85611f38452cb6ff9ca41b8bf417%22%20style%3D%22width%3A%20100.0%25%3B%20height%3A%20100.0%25%3B%22%3EUpper%20Boon%20Keng%20Road%20Blk%2017%20%28Blk%2017%20Upper%20Boon%20Keng%20Market%20and%20Food%20Centre%29%3C/div%3E%60%29%5B0%5D%3B%0A%20%20%20%20%20%20%20%20%20%20%20%20%20%20%20%20popup_43d54b05924546d4b6ef03c37c7ca86e.setContent%28html_70cd85611f38452cb6ff9ca41b8bf417%29%3B%0A%20%20%20%20%20%20%20%20%20%20%20%20%0A%0A%20%20%20%20%20%20%20%20%20%20%20%20marker_1ff0b54586854f79b0d1e9fb7cdb3286.bindPopup%28popup_43d54b05924546d4b6ef03c37c7ca86e%29%0A%20%20%20%20%20%20%20%20%20%20%20%20%3B%0A%0A%20%20%20%20%20%20%20%20%20%20%20%20%0A%20%20%20%20%20%20%20%20%0A%20%20%20%20%0A%20%20%20%20%20%20%20%20var%20marker_8612e2c21793464faf76bb45567285af%20%3D%20L.marker%28%0A%20%20%20%20%20%20%20%20%20%20%20%20%5B1.284469962%2C%20103.84586329999999%5D%2C%0A%20%20%20%20%20%20%20%20%20%20%20%20%7B%0A%20%20%20%20%20%20%20%20%20%20%20%20%20%20%20%20icon%3A%20new%20L.Icon.Default%28%29%2C%0A%20%20%20%20%20%20%20%20%20%20%20%20%20%20%20%20%7D%0A%20%20%20%20%20%20%20%20%20%20%20%20%29.addTo%28map_4534526a626c4964b48f5ef73708418f%29%3B%0A%20%20%20%20%20%20%20%20%0A%20%20%20%20%0A%20%20%20%20%20%20%20%20%20%20%20%20var%20popup_4f32a3c34da8419e8ff3dff7d324343d%20%3D%20L.popup%28%7BmaxWidth%3A%20%27100%25%27%0A%20%20%20%20%20%20%20%20%20%20%20%20%0A%20%20%20%20%20%20%20%20%20%20%20%20%7D%29%3B%0A%0A%20%20%20%20%20%20%20%20%20%20%20%20%0A%20%20%20%20%20%20%20%20%20%20%20%20%20%20%20%20var%20html_32c18a29f5ec4a37afdd4b096d573254%20%3D%20%24%28%60%3Cdiv%20id%3D%22html_32c18a29f5ec4a37afdd4b096d573254%22%20style%3D%22width%3A%20100.0%25%3B%20height%3A%20100.0%25%3B%22%3EUpper%20Cross%20Street%20Blk%20531A%20%28Hong%20Lim%20Food%20Centre%20and%20Market%29%3C/div%3E%60%29%5B0%5D%3B%0A%20%20%20%20%20%20%20%20%20%20%20%20%20%20%20%20popup_4f32a3c34da8419e8ff3dff7d324343d.setContent%28html_32c18a29f5ec4a37afdd4b096d573254%29%3B%0A%20%20%20%20%20%20%20%20%20%20%20%20%0A%0A%20%20%20%20%20%20%20%20%20%20%20%20marker_8612e2c21793464faf76bb45567285af.bindPopup%28popup_4f32a3c34da8419e8ff3dff7d324343d%29%0A%20%20%20%20%20%20%20%20%20%20%20%20%3B%0A%0A%20%20%20%20%20%20%20%20%20%20%20%20%0A%20%20%20%20%20%20%20%20%0A%20%20%20%20%0A%20%20%20%20%20%20%20%20var%20marker_08b14adf1b1c421abc63d18fd9720193%20%3D%20L.marker%28%0A%20%20%20%20%20%20%20%20%20%20%20%20%5B1.311959982%2C%20103.7591019%5D%2C%0A%20%20%20%20%20%20%20%20%20%20%20%20%7B%0A%20%20%20%20%20%20%20%20%20%20%20%20%20%20%20%20icon%3A%20new%20L.Icon.Default%28%29%2C%0A%20%20%20%20%20%20%20%20%20%20%20%20%20%20%20%20%7D%0A%20%20%20%20%20%20%20%20%20%20%20%20%29.addTo%28map_4534526a626c4964b48f5ef73708418f%29%3B%0A%20%20%20%20%20%20%20%20%0A%20%20%20%20%0A%20%20%20%20%20%20%20%20%20%20%20%20var%20popup_5833d2b69d634c6991b958a7c42c1164%20%3D%20L.popup%28%7BmaxWidth%3A%20%27100%25%27%0A%20%20%20%20%20%20%20%20%20%20%20%20%0A%20%20%20%20%20%20%20%20%20%20%20%20%7D%29%3B%0A%0A%20%20%20%20%20%20%20%20%20%20%20%20%0A%20%20%20%20%20%20%20%20%20%20%20%20%20%20%20%20var%20html_5795a770e4ec4fe48adc9d3181e5307f%20%3D%20%24%28%60%3Cdiv%20id%3D%22html_5795a770e4ec4fe48adc9d3181e5307f%22%20style%3D%22width%3A%20100.0%25%3B%20height%3A%20100.0%25%3B%22%3EWest%20Coast%20Drive%20Blk%20502%20%28Ayer%20Rajah%20Market%29%3C/div%3E%60%29%5B0%5D%3B%0A%20%20%20%20%20%20%20%20%20%20%20%20%20%20%20%20popup_5833d2b69d634c6991b958a7c42c1164.setContent%28html_5795a770e4ec4fe48adc9d3181e5307f%29%3B%0A%20%20%20%20%20%20%20%20%20%20%20%20%0A%0A%20%20%20%20%20%20%20%20%20%20%20%20marker_08b14adf1b1c421abc63d18fd9720193.bindPopup%28popup_5833d2b69d634c6991b958a7c42c1164%29%0A%20%20%20%20%20%20%20%20%20%20%20%20%3B%0A%0A%20%20%20%20%20%20%20%20%20%20%20%20%0A%20%20%20%20%20%20%20%20%0A%20%20%20%20%0A%20%20%20%20%20%20%20%20var%20marker_675f363820d94c8888392f415726b42a%20%3D%20L.marker%28%0A%20%20%20%20%20%20%20%20%20%20%20%20%5B1.3118699790000001%2C%20103.7598038%5D%2C%0A%20%20%20%20%20%20%20%20%20%20%20%20%7B%0A%20%20%20%20%20%20%20%20%20%20%20%20%20%20%20%20icon%3A%20new%20L.Icon.Default%28%29%2C%0A%20%20%20%20%20%20%20%20%20%20%20%20%20%20%20%20%7D%0A%20%20%20%20%20%20%20%20%20%20%20%20%29.addTo%28map_4534526a626c4964b48f5ef73708418f%29%3B%0A%20%20%20%20%20%20%20%20%0A%20%20%20%20%0A%20%20%20%20%20%20%20%20%20%20%20%20var%20popup_942a49effa7a428cb258c053b1d0fde4%20%3D%20L.popup%28%7BmaxWidth%3A%20%27100%25%27%0A%20%20%20%20%20%20%20%20%20%20%20%20%0A%20%20%20%20%20%20%20%20%20%20%20%20%7D%29%3B%0A%0A%20%20%20%20%20%20%20%20%20%20%20%20%0A%20%20%20%20%20%20%20%20%20%20%20%20%20%20%20%20var%20html_c9bf244bf9754244ad8743507af6f85b%20%3D%20%24%28%60%3Cdiv%20id%3D%22html_c9bf244bf9754244ad8743507af6f85b%22%20style%3D%22width%3A%20100.0%25%3B%20height%3A%20100.0%25%3B%22%3EWest%20Coast%20Drive%20Blk%20503%20%28Ayer%20Rajah%20Food%20Centre%29%3C/div%3E%60%29%5B0%5D%3B%0A%20%20%20%20%20%20%20%20%20%20%20%20%20%20%20%20popup_942a49effa7a428cb258c053b1d0fde4.setContent%28html_c9bf244bf9754244ad8743507af6f85b%29%3B%0A%20%20%20%20%20%20%20%20%20%20%20%20%0A%0A%20%20%20%20%20%20%20%20%20%20%20%20marker_675f363820d94c8888392f415726b42a.bindPopup%28popup_942a49effa7a428cb258c053b1d0fde4%29%0A%20%20%20%20%20%20%20%20%20%20%20%20%3B%0A%0A%20%20%20%20%20%20%20%20%20%20%20%20%0A%20%20%20%20%20%20%20%20%0A%20%20%20%20%0A%20%20%20%20%20%20%20%20var%20marker_5759bafd20b94876812ce96e017727d8%20%3D%20L.marker%28%0A%20%20%20%20%20%20%20%20%20%20%20%20%5B1.323140025%2C%20103.8550415%5D%2C%0A%20%20%20%20%20%20%20%20%20%20%20%20%7B%0A%20%20%20%20%20%20%20%20%20%20%20%20%20%20%20%20icon%3A%20new%20L.Icon.Default%28%29%2C%0A%20%20%20%20%20%20%20%20%20%20%20%20%20%20%20%20%7D%0A%20%20%20%20%20%20%20%20%20%20%20%20%29.addTo%28map_4534526a626c4964b48f5ef73708418f%29%3B%0A%20%20%20%20%20%20%20%20%0A%20%20%20%20%0A%20%20%20%20%20%20%20%20%20%20%20%20var%20popup_fa94d08b32a1438e84918a5bec5c2421%20%3D%20L.popup%28%7BmaxWidth%3A%20%27100%25%27%0A%20%20%20%20%20%20%20%20%20%20%20%20%0A%20%20%20%20%20%20%20%20%20%20%20%20%7D%29%3B%0A%0A%20%20%20%20%20%20%20%20%20%20%20%20%0A%20%20%20%20%20%20%20%20%20%20%20%20%20%20%20%20var%20html_6387ee441f724bedbe0a63e41eeb808f%20%3D%20%24%28%60%3Cdiv%20id%3D%22html_6387ee441f724bedbe0a63e41eeb808f%22%20style%3D%22width%3A%20100.0%25%3B%20height%3A%20100.0%25%3B%22%3EWhampoa%20Drive%20Blk%2090%20%28Whampoa%20Drive%20Makan%20Place/Whampoa%20Food%20Centre%29%3C/div%3E%60%29%5B0%5D%3B%0A%20%20%20%20%20%20%20%20%20%20%20%20%20%20%20%20popup_fa94d08b32a1438e84918a5bec5c2421.setContent%28html_6387ee441f724bedbe0a63e41eeb808f%29%3B%0A%20%20%20%20%20%20%20%20%20%20%20%20%0A%0A%20%20%20%20%20%20%20%20%20%20%20%20marker_5759bafd20b94876812ce96e017727d8.bindPopup%28popup_fa94d08b32a1438e84918a5bec5c2421%29%0A%20%20%20%20%20%20%20%20%20%20%20%20%3B%0A%0A%20%20%20%20%20%20%20%20%20%20%20%20%0A%20%20%20%20%20%20%20%20%0A%20%20%20%20%0A%20%20%20%20%20%20%20%20var%20marker_95a2358a77364a628b2361857f76c62c%20%3D%20L.marker%28%0A%20%20%20%20%20%20%20%20%20%20%20%20%5B1.323490024%2C%20103.85413359999998%5D%2C%0A%20%20%20%20%20%20%20%20%20%20%20%20%7B%0A%20%20%20%20%20%20%20%20%20%20%20%20%20%20%20%20icon%3A%20new%20L.Icon.Default%28%29%2C%0A%20%20%20%20%20%20%20%20%20%20%20%20%20%20%20%20%7D%0A%20%20%20%20%20%20%20%20%20%20%20%20%29.addTo%28map_4534526a626c4964b48f5ef73708418f%29%3B%0A%20%20%20%20%20%20%20%20%0A%20%20%20%20%0A%20%20%20%20%20%20%20%20%20%20%20%20var%20popup_9601b9f5318244cdb08f4342e011723c%20%3D%20L.popup%28%7BmaxWidth%3A%20%27100%25%27%0A%20%20%20%20%20%20%20%20%20%20%20%20%0A%20%20%20%20%20%20%20%20%20%20%20%20%7D%29%3B%0A%0A%20%20%20%20%20%20%20%20%20%20%20%20%0A%20%20%20%20%20%20%20%20%20%20%20%20%20%20%20%20var%20html_cb40a0769dfc4ce8b72d11cffa56b82c%20%3D%20%24%28%60%3Cdiv%20id%3D%22html_cb40a0769dfc4ce8b72d11cffa56b82c%22%20style%3D%22width%3A%20100.0%25%3B%20height%3A%20100.0%25%3B%22%3EWhampoa%20Drive%20Blk%2091/92%20%28Whampoa%20Drive%20Makan%20Place/Whampoa%20Market%29%3C/div%3E%60%29%5B0%5D%3B%0A%20%20%20%20%20%20%20%20%20%20%20%20%20%20%20%20popup_9601b9f5318244cdb08f4342e011723c.setContent%28html_cb40a0769dfc4ce8b72d11cffa56b82c%29%3B%0A%20%20%20%20%20%20%20%20%20%20%20%20%0A%0A%20%20%20%20%20%20%20%20%20%20%20%20marker_95a2358a77364a628b2361857f76c62c.bindPopup%28popup_9601b9f5318244cdb08f4342e011723c%29%0A%20%20%20%20%20%20%20%20%20%20%20%20%3B%0A%0A%20%20%20%20%20%20%20%20%20%20%20%20%0A%20%20%20%20%20%20%20%20%0A%20%20%20%20%0A%20%20%20%20%20%20%20%20var%20marker_3e49d80fa62842cabfc03e6625e5326a%20%3D%20L.marker%28%0A%20%20%20%20%20%20%20%20%20%20%20%20%5B1.424911%2C%20103.844992%5D%2C%0A%20%20%20%20%20%20%20%20%20%20%20%20%7B%0A%20%20%20%20%20%20%20%20%20%20%20%20%20%20%20%20icon%3A%20new%20L.Icon.Default%28%29%2C%0A%20%20%20%20%20%20%20%20%20%20%20%20%20%20%20%20%7D%0A%20%20%20%20%20%20%20%20%20%20%20%20%29.addTo%28map_4534526a626c4964b48f5ef73708418f%29%3B%0A%20%20%20%20%20%20%20%20%0A%20%20%20%20%0A%20%20%20%20%20%20%20%20%20%20%20%20var%20popup_ea2825ee55d34d2ab2d271b733402eae%20%3D%20L.popup%28%7BmaxWidth%3A%20%27100%25%27%0A%20%20%20%20%20%20%20%20%20%20%20%20%0A%20%20%20%20%20%20%20%20%20%20%20%20%7D%29%3B%0A%0A%20%20%20%20%20%20%20%20%20%20%20%20%0A%20%20%20%20%20%20%20%20%20%20%20%20%20%20%20%20var%20html_046222768ab04b87b943b84c8540bf0e%20%3D%20%24%28%60%3Cdiv%20id%3D%22html_046222768ab04b87b943b84c8540bf0e%22%20style%3D%22width%3A%20100.0%25%3B%20height%3A%20100.0%25%3B%22%3EYishun%20Park%20Hawker%20Centre%3C/div%3E%60%29%5B0%5D%3B%0A%20%20%20%20%20%20%20%20%20%20%20%20%20%20%20%20popup_ea2825ee55d34d2ab2d271b733402eae.setContent%28html_046222768ab04b87b943b84c8540bf0e%29%3B%0A%20%20%20%20%20%20%20%20%20%20%20%20%0A%0A%20%20%20%20%20%20%20%20%20%20%20%20marker_3e49d80fa62842cabfc03e6625e5326a.bindPopup%28popup_ea2825ee55d34d2ab2d271b733402eae%29%0A%20%20%20%20%20%20%20%20%20%20%20%20%3B%0A%0A%20%20%20%20%20%20%20%20%20%20%20%20%0A%20%20%20%20%20%20%20%20%0A%20%20%20%20%0A%20%20%20%20%20%20%20%20var%20marker_f0f61025200e46a3a186a02351c01c6f%20%3D%20L.marker%28%0A%20%20%20%20%20%20%20%20%20%20%20%20%5B1.43165803%2C%20103.82807159999999%5D%2C%0A%20%20%20%20%20%20%20%20%20%20%20%20%7B%0A%20%20%20%20%20%20%20%20%20%20%20%20%20%20%20%20icon%3A%20new%20L.Icon.Default%28%29%2C%0A%20%20%20%20%20%20%20%20%20%20%20%20%20%20%20%20%7D%0A%20%20%20%20%20%20%20%20%20%20%20%20%29.addTo%28map_4534526a626c4964b48f5ef73708418f%29%3B%0A%20%20%20%20%20%20%20%20%0A%20%20%20%20%0A%20%20%20%20%20%20%20%20%20%20%20%20var%20popup_c1cdc99da860422e92c840df8ffa7522%20%3D%20L.popup%28%7BmaxWidth%3A%20%27100%25%27%0A%20%20%20%20%20%20%20%20%20%20%20%20%0A%20%20%20%20%20%20%20%20%20%20%20%20%7D%29%3B%0A%0A%20%20%20%20%20%20%20%20%20%20%20%20%0A%20%20%20%20%20%20%20%20%20%20%20%20%20%20%20%20var%20html_158faf147eb64565806ca9717e21457c%20%3D%20%24%28%60%3Cdiv%20id%3D%22html_158faf147eb64565806ca9717e21457c%22%20style%3D%22width%3A%20100.0%25%3B%20height%3A%20100.0%25%3B%22%3EYishun%20Ring%20Road%20Blk%20104/105%20%28Chong%20Pang%20Market%20and%20Food%20Centre%29%3C/div%3E%60%29%5B0%5D%3B%0A%20%20%20%20%20%20%20%20%20%20%20%20%20%20%20%20popup_c1cdc99da860422e92c840df8ffa7522.setContent%28html_158faf147eb64565806ca9717e21457c%29%3B%0A%20%20%20%20%20%20%20%20%20%20%20%20%0A%0A%20%20%20%20%20%20%20%20%20%20%20%20marker_f0f61025200e46a3a186a02351c01c6f.bindPopup%28popup_c1cdc99da860422e92c840df8ffa7522%29%0A%20%20%20%20%20%20%20%20%20%20%20%20%3B%0A%0A%20%20%20%20%20%20%20%20%20%20%20%20%0A%20%20%20%20%20%20%20%20%0A%20%20%20%20%0A%20%20%20%20%20%20%20%20var%20marker_ca9d4c247c7a48409b1136f1fb532d5d%20%3D%20L.marker%28%0A%20%20%20%20%20%20%20%20%20%20%20%20%5B1.29234004%2C%20103.8311844%5D%2C%0A%20%20%20%20%20%20%20%20%20%20%20%20%7B%0A%20%20%20%20%20%20%20%20%20%20%20%20%20%20%20%20icon%3A%20new%20L.Icon.Default%28%29%2C%0A%20%20%20%20%20%20%20%20%20%20%20%20%20%20%20%20%7D%0A%20%20%20%20%20%20%20%20%20%20%20%20%29.addTo%28map_4534526a626c4964b48f5ef73708418f%29%3B%0A%20%20%20%20%20%20%20%20%0A%20%20%20%20%0A%20%20%20%20%20%20%20%20%20%20%20%20var%20popup_af9116179b72474d9a451a4ca60805d2%20%3D%20L.popup%28%7BmaxWidth%3A%20%27100%25%27%0A%20%20%20%20%20%20%20%20%20%20%20%20%0A%20%20%20%20%20%20%20%20%20%20%20%20%7D%29%3B%0A%0A%20%20%20%20%20%20%20%20%20%20%20%20%0A%20%20%20%20%20%20%20%20%20%20%20%20%20%20%20%20var%20html_5338ab9fd550404384f524b03424ec6d%20%3D%20%24%28%60%3Cdiv%20id%3D%22html_5338ab9fd550404384f524b03424ec6d%22%20style%3D%22width%3A%20100.0%25%3B%20height%3A%20100.0%25%3B%22%3EZion%20Riverside%20Food%20Centre%3C/div%3E%60%29%5B0%5D%3B%0A%20%20%20%20%20%20%20%20%20%20%20%20%20%20%20%20popup_af9116179b72474d9a451a4ca60805d2.setContent%28html_5338ab9fd550404384f524b03424ec6d%29%3B%0A%20%20%20%20%20%20%20%20%20%20%20%20%0A%0A%20%20%20%20%20%20%20%20%20%20%20%20marker_ca9d4c247c7a48409b1136f1fb532d5d.bindPopup%28popup_af9116179b72474d9a451a4ca60805d2%29%0A%20%20%20%20%20%20%20%20%20%20%20%20%3B%0A%0A%20%20%20%20%20%20%20%20%20%20%20%20%0A%20%20%20%20%20%20%20%20%0A%3C/script%3E onload=\"this.contentDocument.open();this.contentDocument.write(    decodeURIComponent(this.getAttribute('data-html')));this.contentDocument.close();\" allowfullscreen webkitallowfullscreen mozallowfullscreen></iframe></div></div>"
            ],
            "text/plain": [
              "<folium.folium.Map at 0x7fa513897ad0>"
            ]
          },
          "metadata": {}
        }
      ]
    },
    {
      "cell_type": "markdown",
      "source": [
        "#Extra Exercises!"
      ],
      "metadata": {
        "id": "0nLsmRnxblNM"
      }
    },
    {
      "cell_type": "markdown",
      "source": [
        "## Plotting a heatmap"
      ],
      "metadata": {
        "id": "Q95akBYBmJf5"
      }
    },
    {
      "cell_type": "markdown",
      "source": [
        "To understand the density of the hawker centres spatially, we can use the folium heat map to plot the listings. There are 2 broad steps to creating a heatmap:\n",
        "\n",
        "i) Creating a folium base map of the location (which we have learnt above)<br>\n",
        "ii) Adding the heatmap layer"
      ],
      "metadata": {
        "id": "jxN_RDmok9kK"
      }
    },
    {
      "cell_type": "code",
      "source": [
        "import folium\n",
        "from folium.plugins import HeatMap"
      ],
      "metadata": {
        "id": "fXl2PxzGmQ-7"
      },
      "execution_count": 25,
      "outputs": []
    },
    {
      "cell_type": "code",
      "source": [
        "lat_long = []\n",
        "for index, location_info in hc_locations.iterrows():\n",
        "  lat_long.append([location_info['latitude_hc'], location_info['longitude_hc']])\n",
        "\n",
        "map_folium = folium.Map([1.35255,103.82580], zoom_start=11, control_scale=True)\n",
        "\n",
        "HeatMap(lat_long, radius = 8, gradient = {0.2:'blue', 0.3:'purple', 0.5:'orange', 1.0:'red'}).add_to(map_folium)\n",
        "display(map_folium)"
      ],
      "metadata": {
        "colab": {
          "base_uri": "https://localhost:8080/",
          "height": 509
        },
        "id": "LzKhxCP-mTgC",
        "outputId": "b0553fd3-56b9-46e3-8777-ee90783cee55"
      },
      "execution_count": 26,
      "outputs": [
        {
          "output_type": "display_data",
          "data": {
            "text/html": [
              "<div style=\"width:100%;\"><div style=\"position:relative;width:100%;height:0;padding-bottom:60%;\"><span style=\"color:#565656\">Make this Notebook Trusted to load map: File -> Trust Notebook</span><iframe src=\"about:blank\" style=\"position:absolute;width:100%;height:100%;left:0;top:0;border:none !important;\" data-html=%3C%21DOCTYPE%20html%3E%0A%3Chead%3E%20%20%20%20%0A%20%20%20%20%3Cmeta%20http-equiv%3D%22content-type%22%20content%3D%22text/html%3B%20charset%3DUTF-8%22%20/%3E%0A%20%20%20%20%3Cscript%3EL_PREFER_CANVAS%3Dfalse%3B%20L_NO_TOUCH%3Dfalse%3B%20L_DISABLE_3D%3Dfalse%3B%3C/script%3E%0A%20%20%20%20%3Cscript%20src%3D%22https%3A//cdn.jsdelivr.net/npm/leaflet%401.4.0/dist/leaflet.js%22%3E%3C/script%3E%0A%20%20%20%20%3Cscript%20src%3D%22https%3A//code.jquery.com/jquery-1.12.4.min.js%22%3E%3C/script%3E%0A%20%20%20%20%3Cscript%20src%3D%22https%3A//maxcdn.bootstrapcdn.com/bootstrap/3.2.0/js/bootstrap.min.js%22%3E%3C/script%3E%0A%20%20%20%20%3Cscript%20src%3D%22https%3A//cdnjs.cloudflare.com/ajax/libs/Leaflet.awesome-markers/2.0.2/leaflet.awesome-markers.js%22%3E%3C/script%3E%0A%20%20%20%20%3Clink%20rel%3D%22stylesheet%22%20href%3D%22https%3A//cdn.jsdelivr.net/npm/leaflet%401.4.0/dist/leaflet.css%22/%3E%0A%20%20%20%20%3Clink%20rel%3D%22stylesheet%22%20href%3D%22https%3A//maxcdn.bootstrapcdn.com/bootstrap/3.2.0/css/bootstrap.min.css%22/%3E%0A%20%20%20%20%3Clink%20rel%3D%22stylesheet%22%20href%3D%22https%3A//maxcdn.bootstrapcdn.com/bootstrap/3.2.0/css/bootstrap-theme.min.css%22/%3E%0A%20%20%20%20%3Clink%20rel%3D%22stylesheet%22%20href%3D%22https%3A//maxcdn.bootstrapcdn.com/font-awesome/4.6.3/css/font-awesome.min.css%22/%3E%0A%20%20%20%20%3Clink%20rel%3D%22stylesheet%22%20href%3D%22https%3A//cdnjs.cloudflare.com/ajax/libs/Leaflet.awesome-markers/2.0.2/leaflet.awesome-markers.css%22/%3E%0A%20%20%20%20%3Clink%20rel%3D%22stylesheet%22%20href%3D%22https%3A//rawcdn.githack.com/python-visualization/folium/master/folium/templates/leaflet.awesome.rotate.css%22/%3E%0A%20%20%20%20%3Cstyle%3Ehtml%2C%20body%20%7Bwidth%3A%20100%25%3Bheight%3A%20100%25%3Bmargin%3A%200%3Bpadding%3A%200%3B%7D%3C/style%3E%0A%20%20%20%20%3Cstyle%3E%23map%20%7Bposition%3Aabsolute%3Btop%3A0%3Bbottom%3A0%3Bright%3A0%3Bleft%3A0%3B%7D%3C/style%3E%0A%20%20%20%20%0A%20%20%20%20%3Cmeta%20name%3D%22viewport%22%20content%3D%22width%3Ddevice-width%2C%0A%20%20%20%20%20%20%20%20initial-scale%3D1.0%2C%20maximum-scale%3D1.0%2C%20user-scalable%3Dno%22%20/%3E%0A%20%20%20%20%3Cstyle%3E%23map_338d45392ea743a49c28f18e5777f685%20%7B%0A%20%20%20%20%20%20%20%20position%3A%20relative%3B%0A%20%20%20%20%20%20%20%20width%3A%20100.0%25%3B%0A%20%20%20%20%20%20%20%20height%3A%20100.0%25%3B%0A%20%20%20%20%20%20%20%20left%3A%200.0%25%3B%0A%20%20%20%20%20%20%20%20top%3A%200.0%25%3B%0A%20%20%20%20%20%20%20%20%7D%0A%20%20%20%20%3C/style%3E%0A%20%20%20%20%3Cscript%20src%3D%22https%3A//leaflet.github.io/Leaflet.heat/dist/leaflet-heat.js%22%3E%3C/script%3E%0A%3C/head%3E%0A%3Cbody%3E%20%20%20%20%0A%20%20%20%20%0A%20%20%20%20%3Cdiv%20class%3D%22folium-map%22%20id%3D%22map_338d45392ea743a49c28f18e5777f685%22%20%3E%3C/div%3E%0A%3C/body%3E%0A%3Cscript%3E%20%20%20%20%0A%20%20%20%20%0A%20%20%20%20%0A%20%20%20%20%20%20%20%20var%20bounds%20%3D%20null%3B%0A%20%20%20%20%0A%0A%20%20%20%20var%20map_338d45392ea743a49c28f18e5777f685%20%3D%20L.map%28%0A%20%20%20%20%20%20%20%20%27map_338d45392ea743a49c28f18e5777f685%27%2C%20%7B%0A%20%20%20%20%20%20%20%20center%3A%20%5B1.35255%2C%20103.8258%5D%2C%0A%20%20%20%20%20%20%20%20zoom%3A%2011%2C%0A%20%20%20%20%20%20%20%20maxBounds%3A%20bounds%2C%0A%20%20%20%20%20%20%20%20layers%3A%20%5B%5D%2C%0A%20%20%20%20%20%20%20%20worldCopyJump%3A%20false%2C%0A%20%20%20%20%20%20%20%20crs%3A%20L.CRS.EPSG3857%2C%0A%20%20%20%20%20%20%20%20zoomControl%3A%20true%2C%0A%20%20%20%20%20%20%20%20%7D%29%3B%0AL.control.scale%28%29.addTo%28map_338d45392ea743a49c28f18e5777f685%29%3B%0A%0A%20%20%20%20%0A%20%20%20%20var%20tile_layer_5f25f750678945c38d71ee9f8142ec14%20%3D%20L.tileLayer%28%0A%20%20%20%20%20%20%20%20%27https%3A//%7Bs%7D.tile.openstreetmap.org/%7Bz%7D/%7Bx%7D/%7By%7D.png%27%2C%0A%20%20%20%20%20%20%20%20%7B%0A%20%20%20%20%20%20%20%20%22attribution%22%3A%20null%2C%0A%20%20%20%20%20%20%20%20%22detectRetina%22%3A%20false%2C%0A%20%20%20%20%20%20%20%20%22maxNativeZoom%22%3A%2018%2C%0A%20%20%20%20%20%20%20%20%22maxZoom%22%3A%2018%2C%0A%20%20%20%20%20%20%20%20%22minZoom%22%3A%200%2C%0A%20%20%20%20%20%20%20%20%22noWrap%22%3A%20false%2C%0A%20%20%20%20%20%20%20%20%22opacity%22%3A%201%2C%0A%20%20%20%20%20%20%20%20%22subdomains%22%3A%20%22abc%22%2C%0A%20%20%20%20%20%20%20%20%22tms%22%3A%20false%0A%7D%29.addTo%28map_338d45392ea743a49c28f18e5777f685%29%3B%0A%20%20%20%20%0A%20%20%20%20%20%20%20%20%20%20%20%20var%20heat_map_639b799c07484aafaa3e103eb3162108%20%3D%20L.heatLayer%28%0A%20%20%20%20%20%20%20%20%20%20%20%20%20%20%20%20%5B%5B1.324131966%2C%20103.8141632%5D%2C%20%5B1.320709944%2C%20103.8870926%5D%2C%20%5B1.279129028%2C%20103.84698490000001%5D%2C%20%5B1.366950035%2C%20103.83918759999999%5D%2C%20%5B1.364169955%2C%20103.84832%5D%2C%20%5B1.362730026%2C%20103.8553772%5D%2C%20%5B1.368299961%2C%20103.8564377%5D%2C%20%5B1.37270999%2C%20103.8544464%5D%2C%20%5B1.3746000530000002%2C%20103.839241%5D%2C%20%5B1.38066268%2C%20103.84075159999999%5D%2C%20%5B1.3720400330000002%2C%20103.8464966%5D%2C%20%5B1.367266059%2C%20103.8399429%5D%2C%20%5B1.320353031%2C%20103.95547490000001%5D%2C%20%5B1.327119946%2C%20103.9332962%5D%2C%20%5B1.333310008%2C%20103.930687%5D%2C%20%5B1.332100034%2C%20103.9247208%5D%2C%20%5B1.332059979%2C%20103.9388123%5D%2C%20%5B1.332980037%2C%20103.91420749999999%5D%2C%20%5B1.320559978%2C%20103.9355469%5D%2C%20%5B1.3192800279999999%2C%20103.8630905%5D%2C%20%5B1.28848803%2C%20103.82724759999999%5D%2C%20%5B1.3073350190000002%2C%20103.8568497%5D%2C%20%5B1.345280051%2C%20103.7128525%5D%2C%20%5B1.306190014%2C%20103.8506699%5D%2C%20%5B1.283740044%2C%20103.8171082%5D%2C%20%5B1.286360025%2C%20103.8045502%5D%2C%20%5B1.285240054%2C%20103.8223724%5D%2C%20%5B1.378269%2C%20103.772432%5D%2C%20%5B1.339645028%2C%20103.77580259999999%5D%2C%20%5B1.316200018%2C%20103.85030359999999%5D%2C%20%5B1.3897199630000001%2C%20103.9881821%5D%2C%20%5B1.36422801%2C%20103.8665314%5D%2C%20%5B1.3749377%2C%20103.8829472%5D%2C%20%5B1.3266600370000001%2C%20103.8851166%5D%2C%20%5B1.327900052%2C%20103.88715359999999%5D%2C%20%5B1.3236399890000001%2C%20103.8855209%5D%2C%20%5B1.314337969%2C%20103.7707748%5D%2C%20%5B1.313349962%2C%20103.76458740000001%5D%2C%20%5B1.30391705%2C%20103.76417540000001%5D%2C%20%5B1.307432055%2C%20103.79946140000001%5D%2C%20%5B1.299550056%2C%20103.7980194%5D%2C%20%5B1.309412003%2C%20103.901825%5D%2C%20%5B1.307729959%2C%20103.9343033%5D%2C%20%5B1.316310048%2C%20103.805687%5D%2C%20%5B1.320291996%2C%20103.90422059999999%5D%2C%20%5B1.321529984%2C%20103.8700714%5D%2C%20%5B1.316888094%2C%20103.8974075%5D%2C%20%5B1.3110599520000001%2C%20103.7882919%5D%2C%20%5B1.302873969%2C%20103.86387629999999%5D%2C%20%5B1.315189958%2C%20103.8956528%5D%2C%20%5B1.288040042%2C%20103.829689%5D%2C%20%5B1.3081899879999999%2C%20103.7928391%5D%2C%20%5B1.311102033%2C%20103.7949448%5D%2C%20%5B1.354089975%2C%20103.890213%5D%2C%20%5B1.3590790030000002%2C%20103.8859253%5D%2C%20%5B1.3024300340000001%2C%20103.88397979999999%5D%2C%20%5B1.280069947%2C%20103.82607270000001%5D%2C%20%5B1.287009954%2C%20103.8081894%5D%2C%20%5B1.288319945%2C%20103.8399963%5D%2C%20%5B1.345360041%2C%20103.73158259999998%5D%2C%20%5B1.3434330230000002%2C%20103.73768620000001%5D%2C%20%5B1.341223%2C%20103.697374%5D%2C%20%5B1.349699974%2C%20103.71846009999999%5D%2C%20%5B1.307112455%2C%20103.88414759999999%5D%2C%20%5B1.4401190000000001%2C%20103.800735%5D%2C%20%5B1.302330017%2C%20103.9063873%5D%2C%20%5B1.305809975%2C%20103.91578670000001%5D%2C%20%5B1.281567926%2C%20103.8488473%5D%2C%20%5B1.4439899919999999%2C%20103.7772598%5D%2C%20%5B1.433543%2C%20103.779881%5D%2C%20%5B1.280550957%2C%20103.8444595%5D%2C%20%5B1.293300033%2C%20103.80296329999999%5D%2C%20%5B1.284870982%2C%20103.8425903%5D%2C%20%5B1.324629%2C%20103.930477%5D%2C%20%5B1.32516551%2C%20103.940155%5D%2C%20%5B1.312224984%2C%20103.83972929999999%5D%2C%20%5B1.305847049%2C%20103.8638611%5D%2C%20%5B1.308279991%2C%20103.8858414%5D%2C%20%5B1.352983%2C%20103.94023100000001%5D%2C%20%5B1.275658965%2C%20103.7915573%5D%2C%20%5B1.373318%2C%20103.951364%5D%2C%20%5B1.301120043%2C%20103.8541412%5D%2C%20%5B1.287909985%2C%20103.8183975%5D%2C%20%5B1.287400007%2C%20103.8183975%5D%2C%20%5B1.372419953%2C%20103.8290329%5D%2C%20%5B1.3635400530000001%2C%20103.8669815%5D%2C%20%5B1.3518199919999998%2C%20103.8370285%5D%2C%20%5B1.317100048%2C%20103.8793793%5D%2C%20%5B1.282299995%2C%20103.8428802%5D%2C%20%5B1.3346810340000002%2C%20103.72161870000001%5D%2C%20%5B1.345595956%2C%20103.9445953%5D%2C%20%5B1.300850034%2C%20103.79768370000001%5D%2C%20%5B1.276679993%2C%20103.8432312%5D%2C%20%5B1.320517302%2C%20103.7420807%5D%2C%20%5B1.277439952%2C%20103.81873320000001%5D%2C%20%5B1.27342999%2C%20103.8076782%5D%2C%20%5B1.2739800209999999%2C%20103.80799870000001%5D%2C%20%5B1.272660017%2C%20103.82212829999999%5D%2C%20%5B1.284682989%2C%20103.83242800000001%5D%2C%20%5B1.338160038%2C%20103.84478759999999%5D%2C%20%5B1.334619999%2C%20103.8520584%5D%2C%20%5B1.338539958%2C%20103.8495712%5D%2C%20%5B1.3360999820000001%2C%20103.8529968%5D%2C%20%5B1.335289955%2C%20103.8570633%5D%2C%20%5B1.340330005%2C%20103.8544617%5D%2C%20%5B1.3150899409999999%2C%20103.8716812%5D%2C%20%5B1.284469962%2C%20103.84586329999999%5D%2C%20%5B1.311959982%2C%20103.7591019%5D%2C%20%5B1.3118699790000001%2C%20103.7598038%5D%2C%20%5B1.323140025%2C%20103.8550415%5D%2C%20%5B1.323490024%2C%20103.85413359999998%5D%2C%20%5B1.424911%2C%20103.844992%5D%2C%20%5B1.43165803%2C%20103.82807159999999%5D%2C%20%5B1.29234004%2C%20103.8311844%5D%5D%2C%0A%20%20%20%20%20%20%20%20%20%20%20%20%20%20%20%20%7B%0A%20%20%20%20%20%20%20%20%20%20%20%20%20%20%20%20%20%20%20%20minOpacity%3A%200.5%2C%0A%20%20%20%20%20%20%20%20%20%20%20%20%20%20%20%20%20%20%20%20maxZoom%3A%2018%2C%0A%20%20%20%20%20%20%20%20%20%20%20%20%20%20%20%20%20%20%20%20max%3A%201.0%2C%0A%20%20%20%20%20%20%20%20%20%20%20%20%20%20%20%20%20%20%20%20radius%3A%208%2C%0A%20%20%20%20%20%20%20%20%20%20%20%20%20%20%20%20%20%20%20%20blur%3A%2015%2C%0A%20%20%20%20%20%20%20%20%20%20%20%20%20%20%20%20%20%20%20%20gradient%3A%20%7B%220.2%22%3A%20%22blue%22%2C%20%220.3%22%3A%20%22purple%22%2C%20%220.5%22%3A%20%22orange%22%2C%20%221.0%22%3A%20%22red%22%7D%0A%20%20%20%20%20%20%20%20%20%20%20%20%20%20%20%20%20%20%20%20%7D%29%0A%20%20%20%20%20%20%20%20%20%20%20%20%20%20%20%20.addTo%28map_338d45392ea743a49c28f18e5777f685%29%3B%0A%20%20%20%20%20%20%20%20%0A%3C/script%3E onload=\"this.contentDocument.open();this.contentDocument.write(    decodeURIComponent(this.getAttribute('data-html')));this.contentDocument.close();\" allowfullscreen webkitallowfullscreen mozallowfullscreen></iframe></div></div>"
            ],
            "text/plain": [
              "<folium.folium.Map at 0x7fa513893710>"
            ]
          },
          "metadata": {}
        }
      ]
    },
    {
      "cell_type": "markdown",
      "source": [
        "## Geospatial visualisation with other datasets\n",
        "Here are some other datasets that you can try to visualise\n",
        "<br> https://raw.githubusercontent.com/wnyeo/ExploreSCIS_data/main/hdb_final.csv\n",
        "<br> https://raw.githubusercontent.com/wnyeo/ExploreSCIS_data/main/mrt_lrt_final.csv\n",
        "<br> You can follow the steps outlined above"
      ],
      "metadata": {
        "id": "hifazc7-mTO0"
      }
    },
    {
      "cell_type": "markdown",
      "source": [
        "To challenge yourself further, you can also plot the distribution of MRTs and LRTs and HDBs together to see how accessible our country is :)"
      ],
      "metadata": {
        "id": "Bbn6eqGBmxRK"
      }
    }
  ]
}